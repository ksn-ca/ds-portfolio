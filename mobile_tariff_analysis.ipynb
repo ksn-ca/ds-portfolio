{
 "cells": [
  {
   "cell_type": "markdown",
   "metadata": {},
   "source": [
    "# Mobile tariff recommendation"
   ]
  },
  {
   "cell_type": "markdown",
   "metadata": {},
   "source": [
    "You have at your disposal data on the behavior of customers who have already switched to these tariffs. You need to build a model for the classification problem that will select the appropriate tariff. Data preprocessing is not required - you have already done it.\n",
    "\n",
    "Build the model with the largest possible *accuracy* value. To pass the project successfully, you need to bring the percentage of correct answers to at least 0.75. Check *accuracy* on the test set yourself."
   ]
  },
  {
   "cell_type": "markdown",
   "metadata": {},
   "source": [
    "## Data preparation"
   ]
  },
  {
   "cell_type": "code",
   "execution_count": 29,
   "metadata": {},
   "outputs": [],
   "source": [
    "import pandas as pd\n",
    "from sklearn.tree import DecisionTreeClassifier\n",
    "from sklearn.model_selection import train_test_split\n",
    "from sklearn.ensemble import RandomForestClassifier\n",
    "from sklearn.linear_model import LogisticRegression \n",
    "from sklearn.metrics import accuracy_score\n",
    "from matplotlib import pyplot as plt\n",
    "from sklearn.dummy import DummyClassifier"
   ]
  },
  {
   "cell_type": "code",
   "execution_count": 30,
   "metadata": {},
   "outputs": [],
   "source": [
    "# CONSTANTS\n",
    "RANDOM_STATE = 654321"
   ]
  },
  {
   "cell_type": "code",
   "execution_count": 31,
   "metadata": {},
   "outputs": [],
   "source": [
    "df = pd.read_csv('datasets/users_behavior.csv')"
   ]
  },
  {
   "cell_type": "code",
   "execution_count": 32,
   "metadata": {},
   "outputs": [
    {
     "data": {
      "text/html": [
       "<div>\n",
       "<style scoped>\n",
       "    .dataframe tbody tr th:only-of-type {\n",
       "        vertical-align: middle;\n",
       "    }\n",
       "\n",
       "    .dataframe tbody tr th {\n",
       "        vertical-align: top;\n",
       "    }\n",
       "\n",
       "    .dataframe thead th {\n",
       "        text-align: right;\n",
       "    }\n",
       "</style>\n",
       "<table border=\"1\" class=\"dataframe\">\n",
       "  <thead>\n",
       "    <tr style=\"text-align: right;\">\n",
       "      <th></th>\n",
       "      <th>calls</th>\n",
       "      <th>minutes</th>\n",
       "      <th>messages</th>\n",
       "      <th>mb_used</th>\n",
       "      <th>is_ultra</th>\n",
       "    </tr>\n",
       "  </thead>\n",
       "  <tbody>\n",
       "    <tr>\n",
       "      <th>0</th>\n",
       "      <td>40.0</td>\n",
       "      <td>311.90</td>\n",
       "      <td>83.0</td>\n",
       "      <td>19915.42</td>\n",
       "      <td>0</td>\n",
       "    </tr>\n",
       "    <tr>\n",
       "      <th>1</th>\n",
       "      <td>85.0</td>\n",
       "      <td>516.75</td>\n",
       "      <td>56.0</td>\n",
       "      <td>22696.96</td>\n",
       "      <td>0</td>\n",
       "    </tr>\n",
       "    <tr>\n",
       "      <th>2</th>\n",
       "      <td>77.0</td>\n",
       "      <td>467.66</td>\n",
       "      <td>86.0</td>\n",
       "      <td>21060.45</td>\n",
       "      <td>0</td>\n",
       "    </tr>\n",
       "    <tr>\n",
       "      <th>3</th>\n",
       "      <td>106.0</td>\n",
       "      <td>745.53</td>\n",
       "      <td>81.0</td>\n",
       "      <td>8437.39</td>\n",
       "      <td>1</td>\n",
       "    </tr>\n",
       "    <tr>\n",
       "      <th>4</th>\n",
       "      <td>66.0</td>\n",
       "      <td>418.74</td>\n",
       "      <td>1.0</td>\n",
       "      <td>14502.75</td>\n",
       "      <td>0</td>\n",
       "    </tr>\n",
       "  </tbody>\n",
       "</table>\n",
       "</div>"
      ],
      "text/plain": [
       "   calls  minutes  messages   mb_used  is_ultra\n",
       "0   40.0   311.90      83.0  19915.42         0\n",
       "1   85.0   516.75      56.0  22696.96         0\n",
       "2   77.0   467.66      86.0  21060.45         0\n",
       "3  106.0   745.53      81.0   8437.39         1\n",
       "4   66.0   418.74       1.0  14502.75         0"
      ]
     },
     "execution_count": 32,
     "metadata": {},
     "output_type": "execute_result"
    }
   ],
   "source": [
    "df.head()"
   ]
  },
  {
   "cell_type": "code",
   "execution_count": 33,
   "metadata": {},
   "outputs": [
    {
     "name": "stdout",
     "output_type": "stream",
     "text": [
      "<class 'pandas.core.frame.DataFrame'>\n",
      "RangeIndex: 3214 entries, 0 to 3213\n",
      "Data columns (total 5 columns):\n",
      " #   Column    Non-Null Count  Dtype  \n",
      "---  ------    --------------  -----  \n",
      " 0   calls     3214 non-null   float64\n",
      " 1   minutes   3214 non-null   float64\n",
      " 2   messages  3214 non-null   float64\n",
      " 3   mb_used   3214 non-null   float64\n",
      " 4   is_ultra  3214 non-null   int64  \n",
      "dtypes: float64(4), int64(1)\n",
      "memory usage: 125.7 KB\n"
     ]
    }
   ],
   "source": [
    "df.info()"
   ]
  },
  {
   "cell_type": "code",
   "execution_count": 34,
   "metadata": {},
   "outputs": [
    {
     "data": {
      "text/html": [
       "<div>\n",
       "<style scoped>\n",
       "    .dataframe tbody tr th:only-of-type {\n",
       "        vertical-align: middle;\n",
       "    }\n",
       "\n",
       "    .dataframe tbody tr th {\n",
       "        vertical-align: top;\n",
       "    }\n",
       "\n",
       "    .dataframe thead th {\n",
       "        text-align: right;\n",
       "    }\n",
       "</style>\n",
       "<table border=\"1\" class=\"dataframe\">\n",
       "  <thead>\n",
       "    <tr style=\"text-align: right;\">\n",
       "      <th></th>\n",
       "      <th>calls</th>\n",
       "      <th>minutes</th>\n",
       "      <th>messages</th>\n",
       "      <th>mb_used</th>\n",
       "      <th>is_ultra</th>\n",
       "    </tr>\n",
       "  </thead>\n",
       "  <tbody>\n",
       "    <tr>\n",
       "      <th>count</th>\n",
       "      <td>3214.000000</td>\n",
       "      <td>3214.000000</td>\n",
       "      <td>3214.000000</td>\n",
       "      <td>3214.000000</td>\n",
       "      <td>3214.000000</td>\n",
       "    </tr>\n",
       "    <tr>\n",
       "      <th>mean</th>\n",
       "      <td>63.038892</td>\n",
       "      <td>438.208787</td>\n",
       "      <td>38.281269</td>\n",
       "      <td>17207.673836</td>\n",
       "      <td>0.306472</td>\n",
       "    </tr>\n",
       "    <tr>\n",
       "      <th>std</th>\n",
       "      <td>33.236368</td>\n",
       "      <td>234.569872</td>\n",
       "      <td>36.148326</td>\n",
       "      <td>7570.968246</td>\n",
       "      <td>0.461100</td>\n",
       "    </tr>\n",
       "    <tr>\n",
       "      <th>min</th>\n",
       "      <td>0.000000</td>\n",
       "      <td>0.000000</td>\n",
       "      <td>0.000000</td>\n",
       "      <td>0.000000</td>\n",
       "      <td>0.000000</td>\n",
       "    </tr>\n",
       "    <tr>\n",
       "      <th>25%</th>\n",
       "      <td>40.000000</td>\n",
       "      <td>274.575000</td>\n",
       "      <td>9.000000</td>\n",
       "      <td>12491.902500</td>\n",
       "      <td>0.000000</td>\n",
       "    </tr>\n",
       "    <tr>\n",
       "      <th>50%</th>\n",
       "      <td>62.000000</td>\n",
       "      <td>430.600000</td>\n",
       "      <td>30.000000</td>\n",
       "      <td>16943.235000</td>\n",
       "      <td>0.000000</td>\n",
       "    </tr>\n",
       "    <tr>\n",
       "      <th>75%</th>\n",
       "      <td>82.000000</td>\n",
       "      <td>571.927500</td>\n",
       "      <td>57.000000</td>\n",
       "      <td>21424.700000</td>\n",
       "      <td>1.000000</td>\n",
       "    </tr>\n",
       "    <tr>\n",
       "      <th>max</th>\n",
       "      <td>244.000000</td>\n",
       "      <td>1632.060000</td>\n",
       "      <td>224.000000</td>\n",
       "      <td>49745.730000</td>\n",
       "      <td>1.000000</td>\n",
       "    </tr>\n",
       "  </tbody>\n",
       "</table>\n",
       "</div>"
      ],
      "text/plain": [
       "             calls      minutes     messages       mb_used     is_ultra\n",
       "count  3214.000000  3214.000000  3214.000000   3214.000000  3214.000000\n",
       "mean     63.038892   438.208787    38.281269  17207.673836     0.306472\n",
       "std      33.236368   234.569872    36.148326   7570.968246     0.461100\n",
       "min       0.000000     0.000000     0.000000      0.000000     0.000000\n",
       "25%      40.000000   274.575000     9.000000  12491.902500     0.000000\n",
       "50%      62.000000   430.600000    30.000000  16943.235000     0.000000\n",
       "75%      82.000000   571.927500    57.000000  21424.700000     1.000000\n",
       "max     244.000000  1632.060000   224.000000  49745.730000     1.000000"
      ]
     },
     "execution_count": 34,
     "metadata": {},
     "output_type": "execute_result"
    }
   ],
   "source": [
    "df.describe()"
   ]
  },
  {
   "cell_type": "code",
   "execution_count": 35,
   "metadata": {},
   "outputs": [
    {
     "data": {
      "image/png": "[encoded data removed]",
      "text/plain": [
       "<Figure size 1080x720 with 6 Axes>"
      ]
     },
     "metadata": {
      "needs_background": "light"
     },
     "output_type": "display_data"
    }
   ],
   "source": [
    "df.hist(figsize=(15,10))\n",
    "plt.show()"
   ]
  },
  {
   "cell_type": "markdown",
   "metadata": {},
   "source": [
    "As we can see, the data is already ready to use and train our models."
   ]
  },
  {
   "cell_type": "markdown",
   "metadata": {},
   "source": [
    "There is a noticeable disbalance between ultra tariff customers. The number of customers without an ultra tariff is more than 2 times as many as with an ultra tariff."
   ]
  },
  {
   "cell_type": "markdown",
   "metadata": {},
   "source": [
    "## Data separation"
   ]
  },
  {
   "cell_type": "markdown",
   "metadata": {},
   "source": [
    "Let's split the data into 3 samples:\n",
    "<li>Training - 60%</li>\n",
    "<li>Validation - 20%</li>\n",
    "<li>Test - 20%</li>"
   ]
  },
  {
   "cell_type": "code",
   "execution_count": 36,
   "metadata": {},
   "outputs": [],
   "source": [
    "features = df.drop(['is_ultra'], axis=1)\n",
    "target = df['is_ultra']"
   ]
  },
  {
   "cell_type": "code",
   "execution_count": 37,
   "metadata": {},
   "outputs": [],
   "source": [
    "features_train, features_test, target_train, target_test = (\n",
    "    train_test_split(features, target, test_size=0.4, random_state=RANDOM_STATE, stratify=target)\n",
    ")"
   ]
  },
  {
   "cell_type": "code",
   "execution_count": 38,
   "metadata": {},
   "outputs": [],
   "source": [
    "features_test, features_valid, target_test, target_valid = (\n",
    "    train_test_split(features_test, target_test, test_size=0.5, random_state=RANDOM_STATE, stratify=target_test)\n",
    ")"
   ]
  },
  {
   "cell_type": "code",
   "execution_count": 39,
   "metadata": {},
   "outputs": [
    {
     "data": {
      "text/plain": [
       "'Training: 1928, 1928, 59.99%'"
      ]
     },
     "execution_count": 39,
     "metadata": {},
     "output_type": "execute_result"
    }
   ],
   "source": [
    "f'''Training: \\\n",
    "{features_train.shape[0]}, \\\n",
    "{target_train.shape[0]}, \\\n",
    "{round(features_train.shape[0]/df.shape[0]*100, 2)}%'''"
   ]
  },
  {
   "cell_type": "code",
   "execution_count": 40,
   "metadata": {},
   "outputs": [
    {
     "data": {
      "text/plain": [
       "'Validation: 643, 643, 20.01%'"
      ]
     },
     "execution_count": 40,
     "metadata": {},
     "output_type": "execute_result"
    }
   ],
   "source": [
    "f'''Validation: \\\n",
    "{features_valid.shape[0]}, \\\n",
    "{target_valid.shape[0]}, \\\n",
    "{round(features_valid.shape[0]/df.shape[0]*100, 2)}%'''"
   ]
  },
  {
   "cell_type": "code",
   "execution_count": 41,
   "metadata": {},
   "outputs": [
    {
     "data": {
      "text/plain": [
       "'Test: 643, 643, 20.01%'"
      ]
     },
     "execution_count": 41,
     "metadata": {},
     "output_type": "execute_result"
    }
   ],
   "source": [
    "f'''Test: \\\n",
    "{features_test.shape[0]}, \\\n",
    "{target_test.shape[0]}, \\\n",
    "{round(features_test.shape[0]/df.shape[0]*100, 2)}%'''"
   ]
  },
  {
   "cell_type": "markdown",
   "metadata": {},
   "source": [
    "Stratify check"
   ]
  },
  {
   "cell_type": "code",
   "execution_count": 42,
   "metadata": {},
   "outputs": [
    {
     "data": {
      "text/plain": [
       "0    0.693528\n",
       "1    0.306472\n",
       "Name: is_ultra, dtype: float64"
      ]
     },
     "execution_count": 42,
     "metadata": {},
     "output_type": "execute_result"
    }
   ],
   "source": [
    "target.value_counts(normalize=True)"
   ]
  },
  {
   "cell_type": "code",
   "execution_count": 43,
   "metadata": {},
   "outputs": [
    {
     "data": {
      "text/plain": [
       "0    0.693465\n",
       "1    0.306535\n",
       "Name: is_ultra, dtype: float64"
      ]
     },
     "execution_count": 43,
     "metadata": {},
     "output_type": "execute_result"
    }
   ],
   "source": [
    "target_train.value_counts(normalize=True)"
   ]
  },
  {
   "cell_type": "code",
   "execution_count": 44,
   "metadata": {},
   "outputs": [
    {
     "data": {
      "text/plain": [
       "0    0.693624\n",
       "1    0.306376\n",
       "Name: is_ultra, dtype: float64"
      ]
     },
     "execution_count": 44,
     "metadata": {},
     "output_type": "execute_result"
    }
   ],
   "source": [
    "target_test.value_counts(normalize=True)"
   ]
  },
  {
   "cell_type": "code",
   "execution_count": 45,
   "metadata": {},
   "outputs": [
    {
     "data": {
      "text/plain": [
       "0    0.693624\n",
       "1    0.306376\n",
       "Name: is_ultra, dtype: float64"
      ]
     },
     "execution_count": 45,
     "metadata": {},
     "output_type": "execute_result"
    }
   ],
   "source": [
    "target_valid.value_counts(normalize=True)"
   ]
  },
  {
   "cell_type": "markdown",
   "metadata": {},
   "source": [
    "We see that the quantities are correct and the percentages are correct."
   ]
  },
  {
   "cell_type": "markdown",
   "metadata": {},
   "source": [
    "## Model training"
   ]
  },
  {
   "cell_type": "markdown",
   "metadata": {},
   "source": [
    "To determine the most optimal model, we will train these models:\n",
    "<li>Decision tree</li>\n",
    "<li>Random forest</li>\n",
    "<li>Logistic regression</li>"
   ]
  },
  {
   "cell_type": "markdown",
   "metadata": {},
   "source": [
    "Let's train each model, look at the influence of hyperparameters on the quality metric - accuracy. The better we determine the right tariff for the client, the more profit we can potentially receive."
   ]
  },
  {
   "cell_type": "markdown",
   "metadata": {},
   "source": [
    "### Decision tree"
   ]
  },
  {
   "cell_type": "markdown",
   "metadata": {},
   "source": [
    "Let's find the best hyperparameters for the decision tree:\n",
    "<li>max_depth - from 1 to 10</li>\n",
    "<li>splitters - best and random</li>\n",
    "<li>criterion - gini and entropy</li>"
   ]
  },
  {
   "cell_type": "code",
   "execution_count": 12,
   "metadata": {},
   "outputs": [],
   "source": [
    "best_tree_model = None\n",
    "best_tree_result = 0\n",
    "best_tree_depth = 0\n",
    "best_tree_splitter = None\n",
    "best_tree_criterion = None\n",
    "\n",
    "# hyperparameters\n",
    "num_tree_depths = 10\n",
    "splitters = ['best', 'random']\n",
    "tree_criterions = ['gini', 'entropy']\n",
    "\n",
    "for spltr in splitters:\n",
    "    for crit in tree_criterions:\n",
    "        for depth in range(1,num_tree_depths+1):\n",
    "            model_tree = DecisionTreeClassifier(random_state=RANDOM_STATE, max_depth=depth, splitter=spltr, criterion=crit )\n",
    "            model_tree.fit(features_train, target_train)\n",
    "            predictions_valid = model_tree.predict(features_valid)\n",
    "            accuracy = accuracy_score(target_valid, predictions_valid)\n",
    "\n",
    "            if accuracy > best_tree_result:\n",
    "                best_tree_model = model_tree\n",
    "                best_tree_result = accuracy\n",
    "                best_tree_depth = depth\n",
    "                best_tree_splitter = spltr\n",
    "                best_tree_criterion = crit\n",
    "\n",
    "tree_final_result = {'accuracy':round(best_tree_result*100,5),\n",
    "                     'depth': best_tree_depth,\n",
    "                     'splitter': best_tree_splitter,\n",
    "                     'citerion': best_tree_criterion\n",
    "                    }"
   ]
  },
  {
   "cell_type": "code",
   "execution_count": 13,
   "metadata": {},
   "outputs": [
    {
     "data": {
      "text/plain": [
       "{'accuracy': 78.84914, 'depth': 9, 'splitter': 'random', 'citerion': 'entropy'}"
      ]
     },
     "execution_count": 13,
     "metadata": {},
     "output_type": "execute_result"
    }
   ],
   "source": [
    "tree_final_result"
   ]
  },
  {
   "cell_type": "markdown",
   "metadata": {},
   "source": [
    "We can see that the best tree comes out with accuracy = 78.85 with hyperparameters above. This is higher than the 75% we need, but we'll see if we can do better."
   ]
  },
  {
   "cell_type": "markdown",
   "metadata": {},
   "source": [
    "### Random forest"
   ]
  },
  {
   "cell_type": "markdown",
   "metadata": {},
   "source": [
    "Let's find the best hyperparameters for the random forest:\n",
    "<li>n_estimators - from 10 to 150, step=10</li>\n",
    "<li>max_depth - from 4 to 10</li>\n",
    "<li>criterion - gini and entropy</li>"
   ]
  },
  {
   "cell_type": "code",
   "execution_count": 14,
   "metadata": {},
   "outputs": [],
   "source": [
    "best_forest_model = None\n",
    "best_forest_result = 0\n",
    "best_forest_size = 0\n",
    "best_forest_tree_depth = 0\n",
    "best_forest_criterion = None\n",
    "\n",
    "# hyperparameters\n",
    "num_forest_depths = range(10,151,10)\n",
    "num_forest_tree_depths = range(4,11)\n",
    "forest_criterions = ['gini', 'entropy']\n",
    "\n",
    "\n",
    "for crit in forest_criterions:\n",
    "    for size in num_forest_depths:\n",
    "        for depth in num_forest_tree_depths:\n",
    "            model_forest = RandomForestClassifier(random_state=RANDOM_STATE, n_estimators=size, max_depth=depth, criterion=crit)\n",
    "            model_forest.fit(features_train, target_train)\n",
    "            predictions_valid = model_forest.predict(features_valid)\n",
    "            accuracy = accuracy_score(target_valid, predictions_valid)\n",
    "            \n",
    "            if accuracy > best_forest_result:\n",
    "                best_forest_model = model_forest\n",
    "                best_forest_result = accuracy\n",
    "                best_forest_size = size\n",
    "                best_forest_tree_depth = depth\n",
    "                best_forest_criterion = crit\n",
    "            \n",
    "forest_final_result = {'accuracy':round(best_forest_result*100,5),\n",
    "                       'tree_depth': best_forest_tree_depth,\n",
    "                       'forest_size': best_forest_size,\n",
    "                       'criterion': best_forest_criterion\n",
    "                      }"
   ]
  },
  {
   "cell_type": "code",
   "execution_count": 15,
   "metadata": {},
   "outputs": [
    {
     "data": {
      "text/plain": [
       "(81.493, 110, 10, 'gini')"
      ]
     },
     "execution_count": 15,
     "metadata": {},
     "output_type": "execute_result"
    }
   ],
   "source": [
    "round(best_forest_result*100,5), best_forest_size, best_forest_tree_depth, best_forest_criterion"
   ]
  },
  {
   "cell_type": "code",
   "execution_count": 16,
   "metadata": {},
   "outputs": [
    {
     "data": {
      "text/plain": [
       "{'accuracy': 81.493, 'tree_depth': 10, 'forest_size': 110, 'criterion': 'gini'}"
      ]
     },
     "execution_count": 16,
     "metadata": {},
     "output_type": "execute_result"
    }
   ],
   "source": [
    "forest_final_result"
   ]
  },
  {
   "cell_type": "markdown",
   "metadata": {},
   "source": [
    "### Logistic regression"
   ]
  },
  {
   "cell_type": "markdown",
   "metadata": {},
   "source": [
    "Let's find the best hyperparameters for the logistic regression:\n",
    "<li>max_iter - from 100 to 5000, step=10</li>\n",
    "<li>multi_class - auto, ovr, or multinomial</li>"
   ]
  },
  {
   "cell_type": "code",
   "execution_count": 17,
   "metadata": {
    "scrolled": true
   },
   "outputs": [],
   "source": [
    "best_linear_model = None\n",
    "best_linear_result = 0\n",
    "best_linear_iter = 0\n",
    "best_linear_class = None\n",
    "\n",
    "# hyperparameters\n",
    "iters = range(100, 5001, 100)\n",
    "multi_classes = ['auto', 'ovr', 'multinomial']\n",
    "\n",
    "\n",
    "for clss in multi_classes:\n",
    "    for itr in iters:\n",
    "        model_linear = LogisticRegression(random_state=RANDOM_STATE, multi_class=clss, max_iter=itr)\n",
    "        model_linear.fit(features_train, target_train)\n",
    "        predictions_valid = model_linear.predict(features_valid)\n",
    "        accuracy = accuracy_score(target_valid, predictions_valid)\n",
    "        if accuracy > best_linear_result:\n",
    "            best_linear_model = model_linear\n",
    "            best_linear_result = accuracy\n",
    "            best_linear_iter = itr\n",
    "            best_linear_class = clss\n",
    "\n",
    "linear_final_result = {'accuracy':round(best_linear_result*100,5),\n",
    "                       'max_iters': best_linear_iter,\n",
    "                       'multi_classes': best_linear_class\n",
    "                      }"
   ]
  },
  {
   "cell_type": "code",
   "execution_count": 18,
   "metadata": {},
   "outputs": [
    {
     "data": {
      "text/plain": [
       "{'accuracy': 67.49611, 'max_iters': 100, 'multi_classes': 'auto'}"
      ]
     },
     "execution_count": 18,
     "metadata": {},
     "output_type": "execute_result"
    }
   ],
   "source": [
    "linear_final_result"
   ]
  },
  {
   "cell_type": "markdown",
   "metadata": {},
   "source": [
    "As we can see, here are the worst results - even less than 70%"
   ]
  },
  {
   "cell_type": "markdown",
   "metadata": {},
   "source": [
    "**CONCLUSION**: at this stage, the random forest wins with a result above 80%."
   ]
  },
  {
   "cell_type": "markdown",
   "metadata": {},
   "source": [
    "## Check the best model"
   ]
  },
  {
   "cell_type": "markdown",
   "metadata": {},
   "source": [
    "Let's test our best model, a random forest, on a test set"
   ]
  },
  {
   "cell_type": "markdown",
   "metadata": {},
   "source": [
    "### Random forest"
   ]
  },
  {
   "cell_type": "markdown",
   "metadata": {},
   "source": [
    "Let's combine the training set and the validation set, train our random forest with the best parameters and look at the accuracy after checking on the test set."
   ]
  },
  {
   "cell_type": "code",
   "execution_count": 19,
   "metadata": {},
   "outputs": [
    {
     "data": {
      "text/plain": [
       "{'accuracy': 81.493, 'tree_depth': 10, 'forest_size': 110, 'criterion': 'gini'}"
      ]
     },
     "execution_count": 19,
     "metadata": {},
     "output_type": "execute_result"
    }
   ],
   "source": [
    "forest_final_result"
   ]
  },
  {
   "cell_type": "code",
   "execution_count": 46,
   "metadata": {},
   "outputs": [],
   "source": [
    "features_train_valid = pd.concat([features_train, features_valid], ignore_index=True, sort=False)\n",
    "target_train_valid = pd.concat([target_train, target_valid], ignore_index=True, sort=False)"
   ]
  },
  {
   "cell_type": "code",
   "execution_count": 47,
   "metadata": {},
   "outputs": [
    {
     "data": {
      "text/plain": [
       "(2571,)"
      ]
     },
     "execution_count": 47,
     "metadata": {},
     "output_type": "execute_result"
    }
   ],
   "source": [
    "target_train_valid.shape"
   ]
  },
  {
   "cell_type": "code",
   "execution_count": 48,
   "metadata": {},
   "outputs": [
    {
     "data": {
      "text/plain": [
       "(2571, 4)"
      ]
     },
     "execution_count": 48,
     "metadata": {},
     "output_type": "execute_result"
    }
   ],
   "source": [
    "features_train_valid.shape"
   ]
  },
  {
   "cell_type": "code",
   "execution_count": 23,
   "metadata": {},
   "outputs": [],
   "source": [
    "final_model_forest = RandomForestClassifier(\n",
    "    random_state=654321, n_estimators=110, max_depth=10, criterion='gini'\n",
    ")\n",
    "final_model_forest.fit(features_train_valid, target_train_valid)\n",
    "final_predictions_test = final_model_forest.predict(features_test)\n",
    "final_accuracy = accuracy_score(target_test, final_predictions_test)"
   ]
  },
  {
   "cell_type": "code",
   "execution_count": 24,
   "metadata": {},
   "outputs": [
    {
     "data": {
      "text/plain": [
       "82.58165"
      ]
     },
     "execution_count": 24,
     "metadata": {},
     "output_type": "execute_result"
    }
   ],
   "source": [
    "round(final_accuracy*100,5)"
   ]
  },
  {
   "cell_type": "markdown",
   "metadata": {},
   "source": [
    "We can see that in the final test, our best selected model performed even better than in the first stages."
   ]
  },
  {
   "cell_type": "markdown",
   "metadata": {},
   "source": [
    "## Model adequacy "
   ]
  },
  {
   "cell_type": "markdown",
   "metadata": {},
   "source": [
    "Let's check if our model is adequte given that many of our clients still haven't switched tariffs."
   ]
  },
  {
   "cell_type": "code",
   "execution_count": 49,
   "metadata": {},
   "outputs": [
    {
     "name": "stdout",
     "output_type": "stream",
     "text": [
      "Dummy accuracy: 0.6936236391912908\n"
     ]
    }
   ],
   "source": [
    "dummy_model = DummyClassifier(strategy='constant', constant=0)\n",
    "dummy_model.fit(features_train_valid, target_train_valid)\n",
    "dummy_prediction = dummy_model.predict(features_test)\n",
    "dummy_accuracy = accuracy_score(target_test, dummy_prediction)\n",
    "print(f'Dummy accuracy: {dummy_accuracy}')"
   ]
  },
  {
   "cell_type": "code",
   "execution_count": 51,
   "metadata": {},
   "outputs": [
    {
     "name": "stdout",
     "output_type": "stream",
     "text": [
      "Dummy accuracy: 0.4681181959564541\n"
     ]
    }
   ],
   "source": [
    "dummy_model = DummyClassifier(strategy='uniform')\n",
    "dummy_model.fit(features_train_valid, target_train_valid)\n",
    "dummy_prediction = dummy_model.predict(features_test)\n",
    "dummy_accuracy = accuracy_score(target_test, dummy_prediction)\n",
    "print(f'Dummy accuracy: {dummy_accuracy}')"
   ]
  },
  {
   "cell_type": "markdown",
   "metadata": {},
   "source": [
    "Our random forest model is better than a dummy classifier."
   ]
  },
  {
   "cell_type": "markdown",
   "metadata": {},
   "source": [
    "## Conclusion"
   ]
  },
  {
   "cell_type": "markdown",
   "metadata": {},
   "source": [
    "To conduct a study on our data, we first divided the data into 3 samples in the proportion of 60/20/20. We trained our model, we validated it, and then we tested it. We used these three selected models: decision tree, random forest, and linear regression.\n",
    "\n",
    "During the training of each model, different (at least 2) hyperparameters were used in order to achieve the best result.\n",
    "<br><br>\n",
    "\n",
    "<li>Logistic regression showed the lowest results, its quality did not exceed 0.75</li>\n",
    "<li>Decision tree showed a good result of 0.788</li>\n",
    "<li>Random forest albeit being the slowest one showed the best accuracy of 0.815</li>\n",
    "\n",
    "The models also outperform a dummy model classifier which predicts every client to be not on ultra tariff. \n",
    "\n",
    "Based on these findings the random forest is recommended. Its final accuracy is 0.8258"
   ]
  },
  {
   "cell_type": "code",
   "execution_count": null,
   "metadata": {},
   "outputs": [],
   "source": []
  }
 ],
 "metadata": {
  "ExecuteTimeLog": [
   {
    "duration": 1089,
    "start_time": "2022-11-02T16:15:51.455Z"
   },
   {
    "duration": 61,
    "start_time": "2022-11-02T16:20:10.377Z"
   },
   {
    "duration": 15,
    "start_time": "2022-11-02T16:20:20.764Z"
   },
   {
    "duration": 14,
    "start_time": "2022-11-02T16:20:27.900Z"
   },
   {
    "duration": 23,
    "start_time": "2022-11-02T16:20:41.378Z"
   },
   {
    "duration": 3,
    "start_time": "2022-11-02T16:22:54.634Z"
   },
   {
    "duration": 89,
    "start_time": "2022-11-02T16:24:23.159Z"
   },
   {
    "duration": 9,
    "start_time": "2022-11-02T16:24:35.297Z"
   },
   {
    "duration": 5,
    "start_time": "2022-11-02T16:24:49.214Z"
   },
   {
    "duration": 63,
    "start_time": "2022-11-02T16:24:56.556Z"
   },
   {
    "duration": 66,
    "start_time": "2022-11-02T16:25:00.404Z"
   },
   {
    "duration": 5,
    "start_time": "2022-11-02T16:25:18.726Z"
   },
   {
    "duration": 70,
    "start_time": "2022-11-02T16:26:04.811Z"
   },
   {
    "duration": 3,
    "start_time": "2022-11-02T16:26:21.698Z"
   },
   {
    "duration": 3,
    "start_time": "2022-11-02T16:26:38.672Z"
   },
   {
    "duration": 4,
    "start_time": "2022-11-02T16:28:34.674Z"
   },
   {
    "duration": 3,
    "start_time": "2022-11-02T16:28:35.714Z"
   },
   {
    "duration": 7,
    "start_time": "2022-11-02T16:28:47.726Z"
   },
   {
    "duration": 3,
    "start_time": "2022-11-02T16:28:49.293Z"
   },
   {
    "duration": 4,
    "start_time": "2022-11-02T16:28:51.369Z"
   },
   {
    "duration": 4,
    "start_time": "2022-11-02T16:28:52.265Z"
   },
   {
    "duration": 1068,
    "start_time": "2022-11-04T11:31:06.312Z"
   },
   {
    "duration": 5,
    "start_time": "2022-11-04T11:31:22.063Z"
   },
   {
    "duration": 32,
    "start_time": "2022-11-04T11:31:22.070Z"
   },
   {
    "duration": 8,
    "start_time": "2022-11-04T11:31:22.103Z"
   },
   {
    "duration": 9,
    "start_time": "2022-11-04T11:31:22.113Z"
   },
   {
    "duration": 19,
    "start_time": "2022-11-04T11:31:22.123Z"
   },
   {
    "duration": 3,
    "start_time": "2022-11-04T11:31:22.144Z"
   },
   {
    "duration": 9,
    "start_time": "2022-11-04T11:31:22.148Z"
   },
   {
    "duration": 6,
    "start_time": "2022-11-04T11:31:22.159Z"
   },
   {
    "duration": 5,
    "start_time": "2022-11-04T11:31:22.167Z"
   },
   {
    "duration": 33,
    "start_time": "2022-11-04T11:31:22.173Z"
   },
   {
    "duration": 4,
    "start_time": "2022-11-04T11:31:22.208Z"
   },
   {
    "duration": 94,
    "start_time": "2022-11-04T11:41:16.115Z"
   },
   {
    "duration": 9,
    "start_time": "2022-11-04T11:41:49.654Z"
   },
   {
    "duration": 15,
    "start_time": "2022-11-04T11:42:06.284Z"
   },
   {
    "duration": 27,
    "start_time": "2022-11-04T11:42:56.911Z"
   },
   {
    "duration": 4,
    "start_time": "2022-11-04T11:43:12.738Z"
   },
   {
    "duration": 60,
    "start_time": "2022-11-04T11:43:30.810Z"
   },
   {
    "duration": 3,
    "start_time": "2022-11-04T11:43:31.894Z"
   },
   {
    "duration": 60,
    "start_time": "2022-11-04T11:44:02.109Z"
   },
   {
    "duration": 4,
    "start_time": "2022-11-04T11:44:02.977Z"
   },
   {
    "duration": 62,
    "start_time": "2022-11-04T11:44:45.664Z"
   },
   {
    "duration": 3,
    "start_time": "2022-11-04T11:44:50.083Z"
   },
   {
    "duration": 3,
    "start_time": "2022-11-04T11:44:51.454Z"
   },
   {
    "duration": 60,
    "start_time": "2022-11-04T11:45:36.039Z"
   },
   {
    "duration": 4,
    "start_time": "2022-11-04T11:45:38.233Z"
   },
   {
    "duration": 3,
    "start_time": "2022-11-04T11:45:41.871Z"
   },
   {
    "duration": 39,
    "start_time": "2022-11-04T11:46:10.873Z"
   },
   {
    "duration": 3,
    "start_time": "2022-11-04T11:46:12.012Z"
   },
   {
    "duration": 4,
    "start_time": "2022-11-04T11:46:15.899Z"
   },
   {
    "duration": 46,
    "start_time": "2022-11-04T11:50:17.455Z"
   },
   {
    "duration": 3,
    "start_time": "2022-11-04T11:50:19.435Z"
   },
   {
    "duration": 4,
    "start_time": "2022-11-04T11:50:22.675Z"
   },
   {
    "duration": 1331,
    "start_time": "2022-11-04T11:52:31.029Z"
   },
   {
    "duration": 3,
    "start_time": "2022-11-04T11:52:41.938Z"
   },
   {
    "duration": 4,
    "start_time": "2022-11-04T11:52:52.104Z"
   },
   {
    "duration": 130,
    "start_time": "2022-11-04T11:54:37.472Z"
   },
   {
    "duration": 4,
    "start_time": "2022-11-04T11:54:41.691Z"
   },
   {
    "duration": 3,
    "start_time": "2022-11-04T11:54:45.365Z"
   },
   {
    "duration": 9,
    "start_time": "2022-11-04T11:58:01.217Z"
   },
   {
    "duration": 3,
    "start_time": "2022-11-04T11:59:07.974Z"
   },
   {
    "duration": 38,
    "start_time": "2022-11-04T11:59:14.870Z"
   },
   {
    "duration": 3,
    "start_time": "2022-11-04T11:59:19.676Z"
   },
   {
    "duration": 4,
    "start_time": "2022-11-04T11:59:20.938Z"
   },
   {
    "duration": 126,
    "start_time": "2022-11-04T12:00:43.058Z"
   },
   {
    "duration": 3,
    "start_time": "2022-11-04T12:00:59.776Z"
   },
   {
    "duration": 4,
    "start_time": "2022-11-04T12:01:04.532Z"
   },
   {
    "duration": 9,
    "start_time": "2022-11-04T12:13:48.346Z"
   },
   {
    "duration": 32,
    "start_time": "2022-11-04T12:15:36.885Z"
   },
   {
    "duration": 3,
    "start_time": "2022-11-04T12:15:38.064Z"
   },
   {
    "duration": 3,
    "start_time": "2022-11-04T12:21:34.423Z"
   },
   {
    "duration": 3,
    "start_time": "2022-11-04T12:22:03.962Z"
   },
   {
    "duration": 3,
    "start_time": "2022-11-04T12:22:06.456Z"
   },
   {
    "duration": 4,
    "start_time": "2022-11-04T12:22:21.322Z"
   },
   {
    "duration": 5,
    "start_time": "2022-11-04T12:22:24.184Z"
   },
   {
    "duration": 3,
    "start_time": "2022-11-04T12:22:33.763Z"
   },
   {
    "duration": 3,
    "start_time": "2022-11-04T12:23:26.162Z"
   },
   {
    "duration": 165,
    "start_time": "2022-11-04T12:25:20.823Z"
   },
   {
    "duration": 3,
    "start_time": "2022-11-04T12:25:23.811Z"
   },
   {
    "duration": 6,
    "start_time": "2022-11-04T12:25:25.268Z"
   },
   {
    "duration": 174,
    "start_time": "2022-11-04T12:25:55.692Z"
   },
   {
    "duration": 4,
    "start_time": "2022-11-04T12:25:57.247Z"
   },
   {
    "duration": 5,
    "start_time": "2022-11-04T12:25:58.806Z"
   },
   {
    "duration": 4,
    "start_time": "2022-11-04T12:26:28.084Z"
   },
   {
    "duration": 164,
    "start_time": "2022-11-04T12:27:13.132Z"
   },
   {
    "duration": 3,
    "start_time": "2022-11-04T12:27:16.358Z"
   },
   {
    "duration": 5,
    "start_time": "2022-11-04T12:27:16.434Z"
   },
   {
    "duration": 169,
    "start_time": "2022-11-04T12:27:28.877Z"
   },
   {
    "duration": 4,
    "start_time": "2022-11-04T12:27:29.749Z"
   },
   {
    "duration": 5,
    "start_time": "2022-11-04T12:27:30.523Z"
   },
   {
    "duration": 4,
    "start_time": "2022-11-04T12:27:42.304Z"
   },
   {
    "duration": 4,
    "start_time": "2022-11-04T12:27:56.300Z"
   },
   {
    "duration": 4,
    "start_time": "2022-11-04T12:27:57.861Z"
   },
   {
    "duration": 338,
    "start_time": "2022-11-04T12:27:59.350Z"
   },
   {
    "duration": 4,
    "start_time": "2022-11-04T12:28:02.425Z"
   },
   {
    "duration": 7,
    "start_time": "2022-11-04T12:28:19.600Z"
   },
   {
    "duration": 38,
    "start_time": "2022-11-04T12:30:19.203Z"
   },
   {
    "duration": 4,
    "start_time": "2022-11-04T12:30:21.595Z"
   },
   {
    "duration": 4,
    "start_time": "2022-11-04T12:30:22.534Z"
   },
   {
    "duration": 31,
    "start_time": "2022-11-04T12:30:49.046Z"
   },
   {
    "duration": 4,
    "start_time": "2022-11-04T12:30:50.148Z"
   },
   {
    "duration": 1058,
    "start_time": "2022-11-09T17:12:39.689Z"
   },
   {
    "duration": 112,
    "start_time": "2022-11-09T17:12:40.749Z"
   },
   {
    "duration": 20,
    "start_time": "2022-11-09T17:12:40.863Z"
   },
   {
    "duration": 13,
    "start_time": "2022-11-09T17:12:40.885Z"
   },
   {
    "duration": 33,
    "start_time": "2022-11-09T17:12:40.901Z"
   },
   {
    "duration": 3,
    "start_time": "2022-11-09T17:12:40.935Z"
   },
   {
    "duration": 9,
    "start_time": "2022-11-09T17:12:40.940Z"
   },
   {
    "duration": 20,
    "start_time": "2022-11-09T17:12:40.951Z"
   },
   {
    "duration": 10,
    "start_time": "2022-11-09T17:12:40.972Z"
   },
   {
    "duration": 8,
    "start_time": "2022-11-09T17:12:40.983Z"
   },
   {
    "duration": 7,
    "start_time": "2022-11-09T17:12:40.993Z"
   },
   {
    "duration": 43,
    "start_time": "2022-11-09T17:12:41.001Z"
   },
   {
    "duration": 24,
    "start_time": "2022-11-09T17:12:41.045Z"
   },
   {
    "duration": 4,
    "start_time": "2022-11-09T17:12:41.072Z"
   },
   {
    "duration": 151,
    "start_time": "2022-11-09T17:12:41.077Z"
   },
   {
    "duration": 4,
    "start_time": "2022-11-09T17:12:41.229Z"
   },
   {
    "duration": 7,
    "start_time": "2022-11-09T17:12:41.234Z"
   },
   {
    "duration": 50,
    "start_time": "2022-11-09T17:12:41.242Z"
   },
   {
    "duration": 4,
    "start_time": "2022-11-09T17:12:41.294Z"
   },
   {
    "duration": 4,
    "start_time": "2022-11-09T17:13:59.895Z"
   },
   {
    "duration": 3,
    "start_time": "2022-11-09T17:14:13.649Z"
   },
   {
    "duration": 3,
    "start_time": "2022-11-09T17:14:19.068Z"
   },
   {
    "duration": 4,
    "start_time": "2022-11-09T17:15:07.146Z"
   },
   {
    "duration": 4,
    "start_time": "2022-11-09T17:15:23.796Z"
   },
   {
    "duration": 4,
    "start_time": "2022-11-09T17:16:16.091Z"
   },
   {
    "duration": 4,
    "start_time": "2022-11-09T17:16:24.360Z"
   },
   {
    "duration": 4,
    "start_time": "2022-11-09T17:17:17.226Z"
   },
   {
    "duration": 4,
    "start_time": "2022-11-09T17:17:26.504Z"
   },
   {
    "duration": 2,
    "start_time": "2022-11-09T17:19:19.924Z"
   },
   {
    "duration": 5,
    "start_time": "2022-11-09T17:19:25.559Z"
   },
   {
    "duration": 5,
    "start_time": "2022-11-09T17:20:03.803Z"
   },
   {
    "duration": 4,
    "start_time": "2022-11-09T17:20:20.013Z"
   },
   {
    "duration": 4,
    "start_time": "2022-11-09T17:20:56.685Z"
   },
   {
    "duration": 3,
    "start_time": "2022-11-09T17:21:59.806Z"
   },
   {
    "duration": 3,
    "start_time": "2022-11-09T17:22:00.201Z"
   },
   {
    "duration": 4,
    "start_time": "2022-11-09T17:22:56.460Z"
   },
   {
    "duration": 4,
    "start_time": "2022-11-09T17:23:19.933Z"
   },
   {
    "duration": 4,
    "start_time": "2022-11-09T17:23:41.208Z"
   },
   {
    "duration": 5,
    "start_time": "2022-11-09T17:23:41.666Z"
   },
   {
    "duration": 4,
    "start_time": "2022-11-09T17:24:23.829Z"
   },
   {
    "duration": 4,
    "start_time": "2022-11-09T17:24:32.285Z"
   },
   {
    "duration": 5,
    "start_time": "2022-11-09T17:24:46.069Z"
   },
   {
    "duration": 5,
    "start_time": "2022-11-09T17:25:16.146Z"
   },
   {
    "duration": 4,
    "start_time": "2022-11-09T17:25:38.323Z"
   },
   {
    "duration": 1075,
    "start_time": "2022-11-09T17:26:06.395Z"
   },
   {
    "duration": 31,
    "start_time": "2022-11-09T17:26:07.472Z"
   },
   {
    "duration": 18,
    "start_time": "2022-11-09T17:26:07.505Z"
   },
   {
    "duration": 21,
    "start_time": "2022-11-09T17:26:07.526Z"
   },
   {
    "duration": 25,
    "start_time": "2022-11-09T17:26:07.549Z"
   },
   {
    "duration": 4,
    "start_time": "2022-11-09T17:26:07.576Z"
   },
   {
    "duration": 10,
    "start_time": "2022-11-09T17:26:07.582Z"
   },
   {
    "duration": 6,
    "start_time": "2022-11-09T17:26:07.594Z"
   },
   {
    "duration": 6,
    "start_time": "2022-11-09T17:26:07.602Z"
   },
   {
    "duration": 7,
    "start_time": "2022-11-09T17:26:07.611Z"
   },
   {
    "duration": 6,
    "start_time": "2022-11-09T17:26:07.620Z"
   },
   {
    "duration": 76,
    "start_time": "2022-11-09T17:26:07.628Z"
   },
   {
    "duration": 4,
    "start_time": "2022-11-09T17:26:07.706Z"
   },
   {
    "duration": 8,
    "start_time": "2022-11-09T17:26:07.712Z"
   },
   {
    "duration": 188,
    "start_time": "2022-11-09T17:26:07.722Z"
   },
   {
    "duration": 3,
    "start_time": "2022-11-09T17:26:07.912Z"
   },
   {
    "duration": 6,
    "start_time": "2022-11-09T17:26:07.917Z"
   },
   {
    "duration": 51,
    "start_time": "2022-11-09T17:26:07.925Z"
   },
   {
    "duration": 4,
    "start_time": "2022-11-09T17:26:07.978Z"
   },
   {
    "duration": 47,
    "start_time": "2022-11-09T17:55:51.731Z"
   },
   {
    "duration": 4,
    "start_time": "2022-11-09T17:55:54.682Z"
   },
   {
    "duration": 4,
    "start_time": "2022-11-09T17:55:55.492Z"
   },
   {
    "duration": 41,
    "start_time": "2022-11-09T17:56:47.057Z"
   },
   {
    "duration": 3,
    "start_time": "2022-11-09T17:56:48.101Z"
   },
   {
    "duration": 3,
    "start_time": "2022-11-09T17:56:49.221Z"
   },
   {
    "duration": 97,
    "start_time": "2022-11-09T18:04:36.586Z"
   },
   {
    "duration": 5,
    "start_time": "2022-11-09T18:04:37.627Z"
   },
   {
    "duration": 4,
    "start_time": "2022-11-09T18:04:39.749Z"
   },
   {
    "duration": 77,
    "start_time": "2022-11-09T18:05:18.431Z"
   },
   {
    "duration": 5,
    "start_time": "2022-11-09T18:05:19.180Z"
   },
   {
    "duration": 6,
    "start_time": "2022-11-09T18:05:19.868Z"
   },
   {
    "duration": 103,
    "start_time": "2022-11-09T18:11:15.432Z"
   },
   {
    "duration": 4,
    "start_time": "2022-11-09T18:11:16.420Z"
   },
   {
    "duration": 4,
    "start_time": "2022-11-09T18:11:18.006Z"
   },
   {
    "duration": 105,
    "start_time": "2022-11-09T18:11:51.374Z"
   },
   {
    "duration": 4,
    "start_time": "2022-11-09T18:11:52.013Z"
   },
   {
    "duration": 5,
    "start_time": "2022-11-09T18:11:52.760Z"
   },
   {
    "duration": 91,
    "start_time": "2022-11-09T18:13:53.236Z"
   },
   {
    "duration": 4,
    "start_time": "2022-11-09T18:13:53.774Z"
   },
   {
    "duration": 5,
    "start_time": "2022-11-09T18:13:54.392Z"
   },
   {
    "duration": 4,
    "start_time": "2022-11-09T18:15:38.641Z"
   },
   {
    "duration": 147,
    "start_time": "2022-11-09T18:19:29.291Z"
   },
   {
    "duration": 4614,
    "start_time": "2022-11-09T18:19:49.660Z"
   },
   {
    "duration": 4,
    "start_time": "2022-11-09T18:20:05.837Z"
   },
   {
    "duration": 4,
    "start_time": "2022-11-09T18:20:07.560Z"
   },
   {
    "duration": 4747,
    "start_time": "2022-11-09T18:23:26.154Z"
   },
   {
    "duration": 3,
    "start_time": "2022-11-09T18:23:30.903Z"
   },
   {
    "duration": 4,
    "start_time": "2022-11-09T18:23:44.269Z"
   },
   {
    "duration": 4522,
    "start_time": "2022-11-09T18:24:08.223Z"
   },
   {
    "duration": 3,
    "start_time": "2022-11-09T18:24:13.982Z"
   },
   {
    "duration": 5,
    "start_time": "2022-11-09T18:24:16.119Z"
   },
   {
    "duration": 14180,
    "start_time": "2022-11-09T18:26:12.733Z"
   },
   {
    "duration": 4,
    "start_time": "2022-11-09T18:26:35.107Z"
   },
   {
    "duration": 10,
    "start_time": "2022-11-09T18:26:36.308Z"
   },
   {
    "duration": 7,
    "start_time": "2022-11-09T18:27:01.982Z"
   },
   {
    "duration": 1205,
    "start_time": "2022-11-13T14:08:18.724Z"
   },
   {
    "duration": 61,
    "start_time": "2022-11-13T14:08:19.931Z"
   },
   {
    "duration": 21,
    "start_time": "2022-11-13T14:08:19.994Z"
   },
   {
    "duration": 12,
    "start_time": "2022-11-13T14:08:20.017Z"
   },
   {
    "duration": 30,
    "start_time": "2022-11-13T14:08:20.031Z"
   },
   {
    "duration": 4,
    "start_time": "2022-11-13T14:08:20.062Z"
   },
   {
    "duration": 6,
    "start_time": "2022-11-13T14:08:20.078Z"
   },
   {
    "duration": 6,
    "start_time": "2022-11-13T14:08:20.086Z"
   },
   {
    "duration": 7,
    "start_time": "2022-11-13T14:08:20.094Z"
   },
   {
    "duration": 6,
    "start_time": "2022-11-13T14:08:20.104Z"
   },
   {
    "duration": 9,
    "start_time": "2022-11-13T14:08:20.112Z"
   },
   {
    "duration": 136,
    "start_time": "2022-11-13T14:08:20.123Z"
   },
   {
    "duration": 4,
    "start_time": "2022-11-13T14:08:20.261Z"
   },
   {
    "duration": 15046,
    "start_time": "2022-11-13T14:08:20.267Z"
   },
   {
    "duration": 5,
    "start_time": "2022-11-13T14:08:35.315Z"
   },
   {
    "duration": 21,
    "start_time": "2022-11-13T14:08:35.322Z"
   },
   {
    "duration": 59,
    "start_time": "2022-11-13T14:08:35.345Z"
   },
   {
    "duration": 4,
    "start_time": "2022-11-13T14:08:35.407Z"
   },
   {
    "duration": 4,
    "start_time": "2022-11-13T14:09:46.698Z"
   },
   {
    "duration": 5,
    "start_time": "2022-11-13T14:09:47.308Z"
   },
   {
    "duration": 5,
    "start_time": "2022-11-13T14:09:47.940Z"
   },
   {
    "duration": 4,
    "start_time": "2022-11-13T14:09:48.465Z"
   },
   {
    "duration": 4,
    "start_time": "2022-11-13T14:09:49.774Z"
   },
   {
    "duration": 4,
    "start_time": "2022-11-13T14:09:50.394Z"
   },
   {
    "duration": 263,
    "start_time": "2022-11-13T14:13:32.628Z"
   },
   {
    "duration": 217,
    "start_time": "2022-11-13T14:13:58.936Z"
   },
   {
    "duration": 4,
    "start_time": "2022-11-13T14:14:01.673Z"
   },
   {
    "duration": 221,
    "start_time": "2022-11-13T14:14:11.557Z"
   },
   {
    "duration": 4,
    "start_time": "2022-11-13T14:14:12.460Z"
   },
   {
    "duration": 3,
    "start_time": "2022-11-13T14:18:29.220Z"
   },
   {
    "duration": 212,
    "start_time": "2022-11-13T14:20:19.340Z"
   },
   {
    "duration": 4,
    "start_time": "2022-11-13T14:20:26.952Z"
   },
   {
    "duration": 24234,
    "start_time": "2022-11-13T14:22:50.221Z"
   },
   {
    "duration": 4,
    "start_time": "2022-11-13T14:23:18.713Z"
   },
   {
    "duration": 50679,
    "start_time": "2022-11-13T14:28:46.599Z"
   },
   {
    "duration": 4,
    "start_time": "2022-11-13T14:29:44.915Z"
   },
   {
    "duration": 5,
    "start_time": "2022-11-13T14:29:45.551Z"
   },
   {
    "duration": 4,
    "start_time": "2022-11-13T14:29:58.542Z"
   },
   {
    "duration": 14,
    "start_time": "2022-11-13T14:39:46.872Z"
   },
   {
    "duration": 17,
    "start_time": "2022-11-13T14:40:03.017Z"
   },
   {
    "duration": 1436,
    "start_time": "2022-11-13T14:40:10.313Z"
   },
   {
    "duration": 4,
    "start_time": "2022-11-13T14:40:12.681Z"
   },
   {
    "duration": 4,
    "start_time": "2022-11-13T14:40:15.310Z"
   },
   {
    "duration": 22,
    "start_time": "2022-11-13T14:41:41.367Z"
   },
   {
    "duration": 4,
    "start_time": "2022-11-13T14:41:43.238Z"
   },
   {
    "duration": 13542,
    "start_time": "2022-11-13T14:43:05.459Z"
   },
   {
    "duration": 42071,
    "start_time": "2022-11-13T14:43:32.893Z"
   },
   {
    "duration": 4874,
    "start_time": "2022-11-13T14:44:29.580Z"
   },
   {
    "duration": 13109,
    "start_time": "2022-11-13T14:44:41.197Z"
   },
   {
    "duration": 22499,
    "start_time": "2022-11-13T14:44:55.272Z"
   },
   {
    "duration": 2805,
    "start_time": "2022-11-13T14:45:51.276Z"
   },
   {
    "duration": 1876,
    "start_time": "2022-11-13T14:46:15.431Z"
   },
   {
    "duration": 1907,
    "start_time": "2022-11-13T14:46:26.014Z"
   },
   {
    "duration": 379,
    "start_time": "2022-11-13T14:46:59.633Z"
   },
   {
    "duration": 375,
    "start_time": "2022-11-13T14:47:27.134Z"
   },
   {
    "duration": 12,
    "start_time": "2022-11-13T14:48:09.302Z"
   },
   {
    "duration": 13,
    "start_time": "2022-11-13T14:48:24.865Z"
   },
   {
    "duration": 15,
    "start_time": "2022-11-13T14:49:00.262Z"
   },
   {
    "duration": 7105,
    "start_time": "2022-11-13T14:49:16.936Z"
   },
   {
    "duration": 13,
    "start_time": "2022-11-13T14:49:31.975Z"
   },
   {
    "duration": 14,
    "start_time": "2022-11-13T14:49:43.140Z"
   },
   {
    "duration": 1579,
    "start_time": "2022-11-13T14:50:13.734Z"
   },
   {
    "duration": 4,
    "start_time": "2022-11-13T14:50:15.539Z"
   },
   {
    "duration": 3,
    "start_time": "2022-11-13T14:50:16.513Z"
   },
   {
    "duration": 3640,
    "start_time": "2022-11-13T14:50:27.669Z"
   },
   {
    "duration": 4,
    "start_time": "2022-11-13T14:50:32.262Z"
   },
   {
    "duration": 70,
    "start_time": "2022-11-13T14:54:40.188Z"
   },
   {
    "duration": 11,
    "start_time": "2022-11-13T14:56:05.271Z"
   },
   {
    "duration": 5,
    "start_time": "2022-11-13T14:56:11.435Z"
   },
   {
    "duration": 6,
    "start_time": "2022-11-13T14:56:40.050Z"
   },
   {
    "duration": 4,
    "start_time": "2022-11-13T14:56:57.695Z"
   },
   {
    "duration": 3,
    "start_time": "2022-11-13T14:56:58.563Z"
   },
   {
    "duration": 4,
    "start_time": "2022-11-13T14:57:33.255Z"
   },
   {
    "duration": 5,
    "start_time": "2022-11-13T14:57:34.009Z"
   },
   {
    "duration": 25,
    "start_time": "2022-11-13T14:58:44.981Z"
   },
   {
    "duration": 4,
    "start_time": "2022-11-13T14:59:05.873Z"
   },
   {
    "duration": 4,
    "start_time": "2022-11-13T14:59:06.650Z"
   },
   {
    "duration": 4,
    "start_time": "2022-11-13T14:59:57.963Z"
   },
   {
    "duration": 4,
    "start_time": "2022-11-13T15:00:07.183Z"
   },
   {
    "duration": 4,
    "start_time": "2022-11-13T15:00:41.378Z"
   },
   {
    "duration": 6,
    "start_time": "2022-11-13T15:02:01.098Z"
   },
   {
    "duration": 6,
    "start_time": "2022-11-13T15:02:34.555Z"
   },
   {
    "duration": 5,
    "start_time": "2022-11-13T15:02:35.126Z"
   },
   {
    "duration": 1185,
    "start_time": "2022-11-13T15:14:18.387Z"
   },
   {
    "duration": 28,
    "start_time": "2022-11-13T15:14:19.574Z"
   },
   {
    "duration": 22,
    "start_time": "2022-11-13T15:14:19.604Z"
   },
   {
    "duration": 18,
    "start_time": "2022-11-13T15:14:19.628Z"
   },
   {
    "duration": 45,
    "start_time": "2022-11-13T15:14:19.648Z"
   },
   {
    "duration": 4,
    "start_time": "2022-11-13T15:14:19.694Z"
   },
   {
    "duration": 23,
    "start_time": "2022-11-13T15:14:19.699Z"
   },
   {
    "duration": 30,
    "start_time": "2022-11-13T15:14:19.724Z"
   },
   {
    "duration": 23,
    "start_time": "2022-11-13T15:14:19.756Z"
   },
   {
    "duration": 22,
    "start_time": "2022-11-13T15:14:19.781Z"
   },
   {
    "duration": 25,
    "start_time": "2022-11-13T15:14:19.805Z"
   },
   {
    "duration": 265,
    "start_time": "2022-11-13T15:14:19.832Z"
   },
   {
    "duration": 5,
    "start_time": "2022-11-13T15:14:20.099Z"
   },
   {
    "duration": 51953,
    "start_time": "2022-11-13T15:14:20.105Z"
   },
   {
    "duration": 5,
    "start_time": "2022-11-13T15:15:12.061Z"
   },
   {
    "duration": 22,
    "start_time": "2022-11-13T15:15:12.077Z"
   },
   {
    "duration": 3825,
    "start_time": "2022-11-13T15:15:12.101Z"
   },
   {
    "duration": 5,
    "start_time": "2022-11-13T15:15:15.928Z"
   },
   {
    "duration": 10,
    "start_time": "2022-11-13T15:15:15.934Z"
   },
   {
    "duration": 8,
    "start_time": "2022-11-13T15:15:15.945Z"
   },
   {
    "duration": 8,
    "start_time": "2022-11-13T15:15:15.955Z"
   },
   {
    "duration": 39,
    "start_time": "2022-11-13T15:15:15.965Z"
   },
   {
    "duration": 4,
    "start_time": "2022-11-13T15:15:16.006Z"
   },
   {
    "duration": 8,
    "start_time": "2022-11-13T15:15:16.012Z"
   },
   {
    "duration": 7,
    "start_time": "2022-11-13T15:15:16.022Z"
   },
   {
    "duration": 8,
    "start_time": "2022-11-13T15:15:16.031Z"
   },
   {
    "duration": 11,
    "start_time": "2022-11-13T15:15:16.041Z"
   },
   {
    "duration": 1719,
    "start_time": "2022-11-13T15:50:08.962Z"
   },
   {
    "duration": 26,
    "start_time": "2022-11-13T15:50:10.683Z"
   },
   {
    "duration": 17,
    "start_time": "2022-11-13T15:50:10.710Z"
   },
   {
    "duration": 23,
    "start_time": "2022-11-13T15:50:10.729Z"
   },
   {
    "duration": 39,
    "start_time": "2022-11-13T15:50:10.754Z"
   },
   {
    "duration": 4,
    "start_time": "2022-11-13T15:50:10.795Z"
   },
   {
    "duration": 16,
    "start_time": "2022-11-13T15:50:10.800Z"
   },
   {
    "duration": 26,
    "start_time": "2022-11-13T15:50:10.818Z"
   },
   {
    "duration": 6,
    "start_time": "2022-11-13T15:50:10.847Z"
   },
   {
    "duration": 7,
    "start_time": "2022-11-13T15:50:10.857Z"
   },
   {
    "duration": 14,
    "start_time": "2022-11-13T15:50:10.865Z"
   },
   {
    "duration": 213,
    "start_time": "2022-11-13T15:50:10.881Z"
   },
   {
    "duration": 5,
    "start_time": "2022-11-13T15:50:11.095Z"
   },
   {
    "duration": 49792,
    "start_time": "2022-11-13T15:50:11.102Z"
   },
   {
    "duration": 4,
    "start_time": "2022-11-13T15:51:00.896Z"
   },
   {
    "duration": 20,
    "start_time": "2022-11-13T15:51:00.901Z"
   },
   {
    "duration": 3649,
    "start_time": "2022-11-13T15:51:00.923Z"
   },
   {
    "duration": 4,
    "start_time": "2022-11-13T15:51:04.574Z"
   },
   {
    "duration": 6,
    "start_time": "2022-11-13T15:51:04.580Z"
   },
   {
    "duration": 8,
    "start_time": "2022-11-13T15:51:04.588Z"
   },
   {
    "duration": 5,
    "start_time": "2022-11-13T15:51:04.598Z"
   },
   {
    "duration": 27,
    "start_time": "2022-11-13T15:51:04.622Z"
   },
   {
    "duration": 4,
    "start_time": "2022-11-13T15:51:04.651Z"
   },
   {
    "duration": 6,
    "start_time": "2022-11-13T15:51:04.656Z"
   },
   {
    "duration": 8,
    "start_time": "2022-11-13T15:51:04.663Z"
   },
   {
    "duration": 5,
    "start_time": "2022-11-13T15:51:04.673Z"
   },
   {
    "duration": 6,
    "start_time": "2022-11-13T15:51:04.680Z"
   },
   {
    "duration": 74,
    "start_time": "2022-11-15T16:50:11.155Z"
   },
   {
    "duration": 1131,
    "start_time": "2022-11-15T16:51:47.985Z"
   },
   {
    "duration": 1099,
    "start_time": "2022-11-15T16:51:54.984Z"
   },
   {
    "duration": 65,
    "start_time": "2022-11-15T16:51:56.085Z"
   },
   {
    "duration": 20,
    "start_time": "2022-11-15T16:51:56.152Z"
   },
   {
    "duration": 14,
    "start_time": "2022-11-15T16:51:56.175Z"
   },
   {
    "duration": 27,
    "start_time": "2022-11-15T16:51:56.190Z"
   },
   {
    "duration": 4,
    "start_time": "2022-11-15T16:51:56.219Z"
   },
   {
    "duration": 7,
    "start_time": "2022-11-15T16:51:56.224Z"
   },
   {
    "duration": 7,
    "start_time": "2022-11-15T16:51:56.233Z"
   },
   {
    "duration": 5,
    "start_time": "2022-11-15T16:51:56.242Z"
   },
   {
    "duration": 4,
    "start_time": "2022-11-15T16:51:56.249Z"
   },
   {
    "duration": 5,
    "start_time": "2022-11-15T16:51:56.255Z"
   },
   {
    "duration": 223,
    "start_time": "2022-11-15T16:51:56.262Z"
   },
   {
    "duration": 3,
    "start_time": "2022-11-15T16:51:56.487Z"
   },
   {
    "duration": 45503,
    "start_time": "2022-11-15T16:51:56.491Z"
   },
   {
    "duration": 10,
    "start_time": "2022-11-15T16:52:41.995Z"
   },
   {
    "duration": 6,
    "start_time": "2022-11-15T16:52:42.006Z"
   },
   {
    "duration": 3154,
    "start_time": "2022-11-15T16:52:42.013Z"
   },
   {
    "duration": 3,
    "start_time": "2022-11-15T16:52:45.169Z"
   },
   {
    "duration": 8,
    "start_time": "2022-11-15T16:52:45.174Z"
   },
   {
    "duration": 6,
    "start_time": "2022-11-15T16:52:45.183Z"
   },
   {
    "duration": 17,
    "start_time": "2022-11-15T16:52:45.190Z"
   },
   {
    "duration": 26,
    "start_time": "2022-11-15T16:52:45.208Z"
   },
   {
    "duration": 4,
    "start_time": "2022-11-15T16:52:45.236Z"
   },
   {
    "duration": 6,
    "start_time": "2022-11-15T16:52:45.241Z"
   },
   {
    "duration": 7,
    "start_time": "2022-11-15T16:52:45.248Z"
   },
   {
    "duration": 15,
    "start_time": "2022-11-15T16:52:45.257Z"
   },
   {
    "duration": 9,
    "start_time": "2022-11-15T16:52:45.274Z"
   },
   {
    "duration": 4,
    "start_time": "2022-11-15T17:04:11.333Z"
   },
   {
    "duration": 6,
    "start_time": "2022-11-15T17:07:48.476Z"
   },
   {
    "duration": 6,
    "start_time": "2022-11-15T17:07:49.205Z"
   },
   {
    "duration": 4,
    "start_time": "2022-11-15T17:07:56.523Z"
   },
   {
    "duration": 5,
    "start_time": "2022-11-15T17:07:57.338Z"
   },
   {
    "duration": 718,
    "start_time": "2022-11-15T17:13:57.908Z"
   },
   {
    "duration": 406,
    "start_time": "2022-11-15T17:14:33.305Z"
   },
   {
    "duration": 4,
    "start_time": "2022-11-15T17:14:34.530Z"
   },
   {
    "duration": 1115,
    "start_time": "2022-11-20T12:59:29.003Z"
   },
   {
    "duration": 67,
    "start_time": "2022-11-20T12:59:30.120Z"
   },
   {
    "duration": 17,
    "start_time": "2022-11-20T12:59:30.189Z"
   },
   {
    "duration": 12,
    "start_time": "2022-11-20T12:59:30.208Z"
   },
   {
    "duration": 39,
    "start_time": "2022-11-20T12:59:30.221Z"
   },
   {
    "duration": 3,
    "start_time": "2022-11-20T12:59:30.262Z"
   },
   {
    "duration": 22,
    "start_time": "2022-11-20T12:59:30.267Z"
   },
   {
    "duration": 21,
    "start_time": "2022-11-20T12:59:30.291Z"
   },
   {
    "duration": 15,
    "start_time": "2022-11-20T12:59:30.314Z"
   },
   {
    "duration": 13,
    "start_time": "2022-11-20T12:59:30.332Z"
   },
   {
    "duration": 15,
    "start_time": "2022-11-20T12:59:30.347Z"
   },
   {
    "duration": 223,
    "start_time": "2022-11-20T12:59:30.364Z"
   },
   {
    "duration": 4,
    "start_time": "2022-11-20T12:59:30.589Z"
   },
   {
    "duration": 49242,
    "start_time": "2022-11-20T12:59:30.595Z"
   },
   {
    "duration": 4,
    "start_time": "2022-11-20T13:00:19.839Z"
   },
   {
    "duration": 4,
    "start_time": "2022-11-20T13:00:19.851Z"
   },
   {
    "duration": 3594,
    "start_time": "2022-11-20T13:00:19.857Z"
   },
   {
    "duration": 4,
    "start_time": "2022-11-20T13:00:23.453Z"
   },
   {
    "duration": 12,
    "start_time": "2022-11-20T13:00:23.459Z"
   },
   {
    "duration": 11,
    "start_time": "2022-11-20T13:00:23.473Z"
   },
   {
    "duration": 11,
    "start_time": "2022-11-20T13:00:23.485Z"
   },
   {
    "duration": 8,
    "start_time": "2022-11-20T13:00:23.498Z"
   },
   {
    "duration": 438,
    "start_time": "2022-11-20T13:00:23.508Z"
   },
   {
    "duration": 4,
    "start_time": "2022-11-20T13:00:23.947Z"
   }
  ],
  "kernelspec": {
   "display_name": "Python 3 (ipykernel)",
   "language": "python",
   "name": "python3"
  },
  "language_info": {
   "codemirror_mode": {
    "name": "ipython",
    "version": 3
   },
   "file_extension": ".py",
   "mimetype": "text/x-python",
   "name": "python",
   "nbconvert_exporter": "python",
   "pygments_lexer": "ipython3",
   "version": "3.9.12"
  },
  "toc": {
   "base_numbering": 1,
   "nav_menu": {},
   "number_sections": true,
   "sideBar": true,
   "skip_h1_title": true,
   "title_cell": "Table of Contents",
   "title_sidebar": "Contents",
   "toc_cell": false,
   "toc_position": {},
   "toc_section_display": true,
   "toc_window_display": false
  }
 },
 "nbformat": 4,
 "nbformat_minor": 2
}
