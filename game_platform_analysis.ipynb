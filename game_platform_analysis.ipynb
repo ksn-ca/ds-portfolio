{
 "cells": [
  {
   "cell_type": "markdown",
   "metadata": {},
   "source": [
    "# What makes a game successful?"
   ]
  },
  {
   "cell_type": "markdown",
   "metadata": {},
   "source": [
    "We are the online store \"Streamchik\" which sells computer games worldwide. We have data up to 2016 and we need to make a plan for 2017. The goal of this research is to identify the patterns that determine the success of a game. This will allow us to invest in a potentially popular product and plan advertising campaigns."
   ]
  },
  {
   "cell_type": "markdown",
   "metadata": {},
   "source": [
    "## General information about the data"
   ]
  },
  {
   "cell_type": "markdown",
   "metadata": {},
   "source": [
    "First, let's familiarize ourselves with the data"
   ]
  },
  {
   "cell_type": "code",
   "execution_count": 1,
   "metadata": {},
   "outputs": [],
   "source": [
    "# libraries\n",
    "import pandas as pd\n",
    "import matplotlib.pyplot as plt\n",
    "from scipy import stats as st\n",
    "import sys\n",
    "import numpy as np\n",
    "import seaborn as sns"
   ]
  },
  {
   "cell_type": "code",
   "execution_count": 2,
   "metadata": {},
   "outputs": [],
   "source": [
    "try:\n",
    "    df = pd.read_csv('datasets/games.csv')\n",
    "except:\n",
    "    print(f'Error reading the file')"
   ]
  },
  {
   "cell_type": "code",
   "execution_count": 3,
   "metadata": {},
   "outputs": [
    {
     "data": {
      "text/html": [
       "<div>\n",
       "<style scoped>\n",
       "    .dataframe tbody tr th:only-of-type {\n",
       "        vertical-align: middle;\n",
       "    }\n",
       "\n",
       "    .dataframe tbody tr th {\n",
       "        vertical-align: top;\n",
       "    }\n",
       "\n",
       "    .dataframe thead th {\n",
       "        text-align: right;\n",
       "    }\n",
       "</style>\n",
       "<table border=\"1\" class=\"dataframe\">\n",
       "  <thead>\n",
       "    <tr style=\"text-align: right;\">\n",
       "      <th></th>\n",
       "      <th>Name</th>\n",
       "      <th>Platform</th>\n",
       "      <th>Year_of_Release</th>\n",
       "      <th>Genre</th>\n",
       "      <th>NA_sales</th>\n",
       "      <th>EU_sales</th>\n",
       "      <th>JP_sales</th>\n",
       "      <th>Other_sales</th>\n",
       "      <th>Critic_Score</th>\n",
       "      <th>User_Score</th>\n",
       "      <th>Rating</th>\n",
       "    </tr>\n",
       "  </thead>\n",
       "  <tbody>\n",
       "    <tr>\n",
       "      <th>0</th>\n",
       "      <td>Wii Sports</td>\n",
       "      <td>Wii</td>\n",
       "      <td>2006.0</td>\n",
       "      <td>Sports</td>\n",
       "      <td>41.36</td>\n",
       "      <td>28.96</td>\n",
       "      <td>3.77</td>\n",
       "      <td>8.45</td>\n",
       "      <td>76.0</td>\n",
       "      <td>8</td>\n",
       "      <td>E</td>\n",
       "    </tr>\n",
       "    <tr>\n",
       "      <th>1</th>\n",
       "      <td>Super Mario Bros.</td>\n",
       "      <td>NES</td>\n",
       "      <td>1985.0</td>\n",
       "      <td>Platform</td>\n",
       "      <td>29.08</td>\n",
       "      <td>3.58</td>\n",
       "      <td>6.81</td>\n",
       "      <td>0.77</td>\n",
       "      <td>NaN</td>\n",
       "      <td>NaN</td>\n",
       "      <td>NaN</td>\n",
       "    </tr>\n",
       "    <tr>\n",
       "      <th>2</th>\n",
       "      <td>Mario Kart Wii</td>\n",
       "      <td>Wii</td>\n",
       "      <td>2008.0</td>\n",
       "      <td>Racing</td>\n",
       "      <td>15.68</td>\n",
       "      <td>12.76</td>\n",
       "      <td>3.79</td>\n",
       "      <td>3.29</td>\n",
       "      <td>82.0</td>\n",
       "      <td>8.3</td>\n",
       "      <td>E</td>\n",
       "    </tr>\n",
       "    <tr>\n",
       "      <th>3</th>\n",
       "      <td>Wii Sports Resort</td>\n",
       "      <td>Wii</td>\n",
       "      <td>2009.0</td>\n",
       "      <td>Sports</td>\n",
       "      <td>15.61</td>\n",
       "      <td>10.93</td>\n",
       "      <td>3.28</td>\n",
       "      <td>2.95</td>\n",
       "      <td>80.0</td>\n",
       "      <td>8</td>\n",
       "      <td>E</td>\n",
       "    </tr>\n",
       "    <tr>\n",
       "      <th>4</th>\n",
       "      <td>Pokemon Red/Pokemon Blue</td>\n",
       "      <td>GB</td>\n",
       "      <td>1996.0</td>\n",
       "      <td>Role-Playing</td>\n",
       "      <td>11.27</td>\n",
       "      <td>8.89</td>\n",
       "      <td>10.22</td>\n",
       "      <td>1.00</td>\n",
       "      <td>NaN</td>\n",
       "      <td>NaN</td>\n",
       "      <td>NaN</td>\n",
       "    </tr>\n",
       "  </tbody>\n",
       "</table>\n",
       "</div>"
      ],
      "text/plain": [
       "                       Name Platform  Year_of_Release         Genre  NA_sales  \\\n",
       "0                Wii Sports      Wii           2006.0        Sports     41.36   \n",
       "1         Super Mario Bros.      NES           1985.0      Platform     29.08   \n",
       "2            Mario Kart Wii      Wii           2008.0        Racing     15.68   \n",
       "3         Wii Sports Resort      Wii           2009.0        Sports     15.61   \n",
       "4  Pokemon Red/Pokemon Blue       GB           1996.0  Role-Playing     11.27   \n",
       "\n",
       "   EU_sales  JP_sales  Other_sales  Critic_Score User_Score Rating  \n",
       "0     28.96      3.77         8.45          76.0          8      E  \n",
       "1      3.58      6.81         0.77           NaN        NaN    NaN  \n",
       "2     12.76      3.79         3.29          82.0        8.3      E  \n",
       "3     10.93      3.28         2.95          80.0          8      E  \n",
       "4      8.89     10.22         1.00           NaN        NaN    NaN  "
      ]
     },
     "execution_count": 3,
     "metadata": {},
     "output_type": "execute_result"
    }
   ],
   "source": [
    "# first 5 lines\n",
    "df.head()"
   ]
  },
  {
   "cell_type": "code",
   "execution_count": 4,
   "metadata": {},
   "outputs": [
    {
     "name": "stdout",
     "output_type": "stream",
     "text": [
      "<class 'pandas.core.frame.DataFrame'>\n",
      "RangeIndex: 16715 entries, 0 to 16714\n",
      "Data columns (total 11 columns):\n",
      " #   Column           Non-Null Count  Dtype  \n",
      "---  ------           --------------  -----  \n",
      " 0   Name             16713 non-null  object \n",
      " 1   Platform         16715 non-null  object \n",
      " 2   Year_of_Release  16446 non-null  float64\n",
      " 3   Genre            16713 non-null  object \n",
      " 4   NA_sales         16715 non-null  float64\n",
      " 5   EU_sales         16715 non-null  float64\n",
      " 6   JP_sales         16715 non-null  float64\n",
      " 7   Other_sales      16715 non-null  float64\n",
      " 8   Critic_Score     8137 non-null   float64\n",
      " 9   User_Score       10014 non-null  object \n",
      " 10  Rating           9949 non-null   object \n",
      "dtypes: float64(6), object(5)\n",
      "memory usage: 1.4+ MB\n"
     ]
    }
   ],
   "source": [
    "# columns info\n",
    "df.info()"
   ]
  },
  {
   "cell_type": "code",
   "execution_count": 5,
   "metadata": {},
   "outputs": [
    {
     "data": {
      "text/html": [
       "<div>\n",
       "<style scoped>\n",
       "    .dataframe tbody tr th:only-of-type {\n",
       "        vertical-align: middle;\n",
       "    }\n",
       "\n",
       "    .dataframe tbody tr th {\n",
       "        vertical-align: top;\n",
       "    }\n",
       "\n",
       "    .dataframe thead th {\n",
       "        text-align: right;\n",
       "    }\n",
       "</style>\n",
       "<table border=\"1\" class=\"dataframe\">\n",
       "  <thead>\n",
       "    <tr style=\"text-align: right;\">\n",
       "      <th></th>\n",
       "      <th>Name</th>\n",
       "      <th>Platform</th>\n",
       "      <th>Year_of_Release</th>\n",
       "      <th>Genre</th>\n",
       "      <th>NA_sales</th>\n",
       "      <th>EU_sales</th>\n",
       "      <th>JP_sales</th>\n",
       "      <th>Other_sales</th>\n",
       "      <th>Critic_Score</th>\n",
       "      <th>User_Score</th>\n",
       "      <th>Rating</th>\n",
       "    </tr>\n",
       "  </thead>\n",
       "  <tbody>\n",
       "    <tr>\n",
       "      <th>count</th>\n",
       "      <td>16713</td>\n",
       "      <td>16715</td>\n",
       "      <td>16446.000000</td>\n",
       "      <td>16713</td>\n",
       "      <td>16715.000000</td>\n",
       "      <td>16715.000000</td>\n",
       "      <td>16715.000000</td>\n",
       "      <td>16715.000000</td>\n",
       "      <td>8137.000000</td>\n",
       "      <td>10014</td>\n",
       "      <td>9949</td>\n",
       "    </tr>\n",
       "    <tr>\n",
       "      <th>unique</th>\n",
       "      <td>11559</td>\n",
       "      <td>31</td>\n",
       "      <td>NaN</td>\n",
       "      <td>12</td>\n",
       "      <td>NaN</td>\n",
       "      <td>NaN</td>\n",
       "      <td>NaN</td>\n",
       "      <td>NaN</td>\n",
       "      <td>NaN</td>\n",
       "      <td>96</td>\n",
       "      <td>8</td>\n",
       "    </tr>\n",
       "    <tr>\n",
       "      <th>top</th>\n",
       "      <td>Need for Speed: Most Wanted</td>\n",
       "      <td>PS2</td>\n",
       "      <td>NaN</td>\n",
       "      <td>Action</td>\n",
       "      <td>NaN</td>\n",
       "      <td>NaN</td>\n",
       "      <td>NaN</td>\n",
       "      <td>NaN</td>\n",
       "      <td>NaN</td>\n",
       "      <td>tbd</td>\n",
       "      <td>E</td>\n",
       "    </tr>\n",
       "    <tr>\n",
       "      <th>freq</th>\n",
       "      <td>12</td>\n",
       "      <td>2161</td>\n",
       "      <td>NaN</td>\n",
       "      <td>3369</td>\n",
       "      <td>NaN</td>\n",
       "      <td>NaN</td>\n",
       "      <td>NaN</td>\n",
       "      <td>NaN</td>\n",
       "      <td>NaN</td>\n",
       "      <td>2424</td>\n",
       "      <td>3990</td>\n",
       "    </tr>\n",
       "    <tr>\n",
       "      <th>mean</th>\n",
       "      <td>NaN</td>\n",
       "      <td>NaN</td>\n",
       "      <td>2006.484616</td>\n",
       "      <td>NaN</td>\n",
       "      <td>0.263377</td>\n",
       "      <td>0.145060</td>\n",
       "      <td>0.077617</td>\n",
       "      <td>0.047342</td>\n",
       "      <td>68.967679</td>\n",
       "      <td>NaN</td>\n",
       "      <td>NaN</td>\n",
       "    </tr>\n",
       "    <tr>\n",
       "      <th>std</th>\n",
       "      <td>NaN</td>\n",
       "      <td>NaN</td>\n",
       "      <td>5.877050</td>\n",
       "      <td>NaN</td>\n",
       "      <td>0.813604</td>\n",
       "      <td>0.503339</td>\n",
       "      <td>0.308853</td>\n",
       "      <td>0.186731</td>\n",
       "      <td>13.938165</td>\n",
       "      <td>NaN</td>\n",
       "      <td>NaN</td>\n",
       "    </tr>\n",
       "    <tr>\n",
       "      <th>min</th>\n",
       "      <td>NaN</td>\n",
       "      <td>NaN</td>\n",
       "      <td>1980.000000</td>\n",
       "      <td>NaN</td>\n",
       "      <td>0.000000</td>\n",
       "      <td>0.000000</td>\n",
       "      <td>0.000000</td>\n",
       "      <td>0.000000</td>\n",
       "      <td>13.000000</td>\n",
       "      <td>NaN</td>\n",
       "      <td>NaN</td>\n",
       "    </tr>\n",
       "    <tr>\n",
       "      <th>25%</th>\n",
       "      <td>NaN</td>\n",
       "      <td>NaN</td>\n",
       "      <td>2003.000000</td>\n",
       "      <td>NaN</td>\n",
       "      <td>0.000000</td>\n",
       "      <td>0.000000</td>\n",
       "      <td>0.000000</td>\n",
       "      <td>0.000000</td>\n",
       "      <td>60.000000</td>\n",
       "      <td>NaN</td>\n",
       "      <td>NaN</td>\n",
       "    </tr>\n",
       "    <tr>\n",
       "      <th>50%</th>\n",
       "      <td>NaN</td>\n",
       "      <td>NaN</td>\n",
       "      <td>2007.000000</td>\n",
       "      <td>NaN</td>\n",
       "      <td>0.080000</td>\n",
       "      <td>0.020000</td>\n",
       "      <td>0.000000</td>\n",
       "      <td>0.010000</td>\n",
       "      <td>71.000000</td>\n",
       "      <td>NaN</td>\n",
       "      <td>NaN</td>\n",
       "    </tr>\n",
       "    <tr>\n",
       "      <th>75%</th>\n",
       "      <td>NaN</td>\n",
       "      <td>NaN</td>\n",
       "      <td>2010.000000</td>\n",
       "      <td>NaN</td>\n",
       "      <td>0.240000</td>\n",
       "      <td>0.110000</td>\n",
       "      <td>0.040000</td>\n",
       "      <td>0.030000</td>\n",
       "      <td>79.000000</td>\n",
       "      <td>NaN</td>\n",
       "      <td>NaN</td>\n",
       "    </tr>\n",
       "    <tr>\n",
       "      <th>max</th>\n",
       "      <td>NaN</td>\n",
       "      <td>NaN</td>\n",
       "      <td>2016.000000</td>\n",
       "      <td>NaN</td>\n",
       "      <td>41.360000</td>\n",
       "      <td>28.960000</td>\n",
       "      <td>10.220000</td>\n",
       "      <td>10.570000</td>\n",
       "      <td>98.000000</td>\n",
       "      <td>NaN</td>\n",
       "      <td>NaN</td>\n",
       "    </tr>\n",
       "  </tbody>\n",
       "</table>\n",
       "</div>"
      ],
      "text/plain": [
       "                               Name Platform  Year_of_Release   Genre  \\\n",
       "count                         16713    16715     16446.000000   16713   \n",
       "unique                        11559       31              NaN      12   \n",
       "top     Need for Speed: Most Wanted      PS2              NaN  Action   \n",
       "freq                             12     2161              NaN    3369   \n",
       "mean                            NaN      NaN      2006.484616     NaN   \n",
       "std                             NaN      NaN         5.877050     NaN   \n",
       "min                             NaN      NaN      1980.000000     NaN   \n",
       "25%                             NaN      NaN      2003.000000     NaN   \n",
       "50%                             NaN      NaN      2007.000000     NaN   \n",
       "75%                             NaN      NaN      2010.000000     NaN   \n",
       "max                             NaN      NaN      2016.000000     NaN   \n",
       "\n",
       "            NA_sales      EU_sales      JP_sales   Other_sales  Critic_Score  \\\n",
       "count   16715.000000  16715.000000  16715.000000  16715.000000   8137.000000   \n",
       "unique           NaN           NaN           NaN           NaN           NaN   \n",
       "top              NaN           NaN           NaN           NaN           NaN   \n",
       "freq             NaN           NaN           NaN           NaN           NaN   \n",
       "mean        0.263377      0.145060      0.077617      0.047342     68.967679   \n",
       "std         0.813604      0.503339      0.308853      0.186731     13.938165   \n",
       "min         0.000000      0.000000      0.000000      0.000000     13.000000   \n",
       "25%         0.000000      0.000000      0.000000      0.000000     60.000000   \n",
       "50%         0.080000      0.020000      0.000000      0.010000     71.000000   \n",
       "75%         0.240000      0.110000      0.040000      0.030000     79.000000   \n",
       "max        41.360000     28.960000     10.220000     10.570000     98.000000   \n",
       "\n",
       "       User_Score Rating  \n",
       "count       10014   9949  \n",
       "unique         96      8  \n",
       "top           tbd      E  \n",
       "freq         2424   3990  \n",
       "mean          NaN    NaN  \n",
       "std           NaN    NaN  \n",
       "min           NaN    NaN  \n",
       "25%           NaN    NaN  \n",
       "50%           NaN    NaN  \n",
       "75%           NaN    NaN  \n",
       "max           NaN    NaN  "
      ]
     },
     "execution_count": 5,
     "metadata": {},
     "output_type": "execute_result"
    }
   ],
   "source": [
    "# stats\n",
    "df.describe(include='all')"
   ]
  },
  {
   "cell_type": "code",
   "execution_count": 6,
   "metadata": {},
   "outputs": [
    {
     "data": {
      "image/png": "[encoded data removed]",
      "text/plain": [
       "<Figure size 1080x1080 with 6 Axes>"
      ]
     },
     "metadata": {
      "needs_background": "light"
     },
     "output_type": "display_data"
    }
   ],
   "source": [
    "# histograms\n",
    "df.hist(figsize=(15,15))\n",
    "plt.show()"
   ]
  },
  {
   "cell_type": "markdown",
   "metadata": {},
   "source": [
    "### Initial conclusions\n",
    "What are our conclusions after the first acquaintance with the data?\n",
    "<ol>\n",
    "    <li>Missing data:\n",
    "        <ul>\n",
    "            <li>Name</li>\n",
    "            <li>Year_of_Release</li>\n",
    "            <li>Genre</li>\n",
    "            <li>Critic_Score</li>\n",
    "            <li>User_Score</li>\n",
    "            <li>Rating</li>\n",
    "        </ul>\n",
    "    </li>\n",
    "    <li>Anomalies:\n",
    "        <ul>\n",
    "            <li>User_Score - contains \"tbd\"</li>\n",
    "        </ul>\n",
    "    </li>\n",
    "    <li>Data types:\n",
    "        <ul>\n",
    "            <li>User_Score - change to float</li>\n",
    "        </ul>\n",
    "    </li>\n",
    "    <li>Interesting:\n",
    "        <ul>\n",
    "            <li>There is a wide range of years in Year_of_Release, starting from 1980. It's unlikely that 1980 will be of much help in predicting 2017.</li>\n",
    "            <li>Critic_Score - the distribution is not too normal, it can be seen that the median will be not at around 50, but rather between 60 and 80.</li>\n",
    "        </ul>\n",
    "    </li>\n",
    "    <li>Change column names to lower case</li>\n",
    "</ol>"
   ]
  },
  {
   "cell_type": "markdown",
   "metadata": {},
   "source": [
    "## Data preprocessing"
   ]
  },
  {
   "cell_type": "markdown",
   "metadata": {},
   "source": [
    "Let's fix the inaccuracies that we previously discovered"
   ]
  },
  {
   "cell_type": "markdown",
   "metadata": {},
   "source": [
    "### Column naming"
   ]
  },
  {
   "cell_type": "code",
   "execution_count": 7,
   "metadata": {},
   "outputs": [],
   "source": [
    "# fix column naming\n",
    "df.columns = df.columns.str.lower()"
   ]
  },
  {
   "cell_type": "code",
   "execution_count": 8,
   "metadata": {},
   "outputs": [
    {
     "data": {
      "text/plain": [
       "Index(['name', 'platform', 'year_of_release', 'genre', 'na_sales', 'eu_sales',\n",
       "       'jp_sales', 'other_sales', 'critic_score', 'user_score', 'rating'],\n",
       "      dtype='object')"
      ]
     },
     "execution_count": 8,
     "metadata": {},
     "output_type": "execute_result"
    }
   ],
   "source": [
    "df.columns"
   ]
  },
  {
   "cell_type": "markdown",
   "metadata": {},
   "source": [
    "### Data types"
   ]
  },
  {
   "cell_type": "markdown",
   "metadata": {},
   "source": [
    "Seeing that user_score is not a numerical field as we would like, we will immediately make two manipulations:\n",
    "<ol>\n",
    "    <li>Change \"tbd\" (stands for \"to be determined\") to NaN</li>\n",
    "    <li>Change type to float</li>\n",
    "</ol>"
   ]
  },
  {
   "cell_type": "code",
   "execution_count": 9,
   "metadata": {},
   "outputs": [
    {
     "name": "stdout",
     "output_type": "stream",
     "text": [
      "user_score: float64\n"
     ]
    }
   ],
   "source": [
    "try:\n",
    "    df.loc[df['user_score'] == 'tbd', 'user_score'] = np.nan\n",
    "    df['user_score'] = df['user_score'].astype('float')\n",
    "except:\n",
    "    print(f'Ошибка: {sys.exc_info()[0]}')\n",
    "finally:\n",
    "    print(f'user_score: {df[\"user_score\"].dtype}')"
   ]
  },
  {
   "cell_type": "markdown",
   "metadata": {},
   "source": [
    "### Blanks"
   ]
  },
  {
   "cell_type": "markdown",
   "metadata": {},
   "source": [
    "Now let's deal with the missing values. We will create a function for counting missing values!"
   ]
  },
  {
   "cell_type": "code",
   "execution_count": 10,
   "metadata": {},
   "outputs": [],
   "source": [
    "def percent_of_isna(columns):\n",
    "    good_columns = []\n",
    "    data = []\n",
    "    for col in columns:\n",
    "        cnt = df[col].isna().sum()\n",
    "        if cnt != 0: \n",
    "            mean = round(df[col].isna().mean() * 100, 2)\n",
    "            data.append([col, cnt, mean])\n",
    "        else:\n",
    "            good_columns.append(col)\n",
    "    dataframe = pd.DataFrame(data, columns=['column_name', 'count_nan', 'nan%'])\n",
    "    if not dataframe.empty:\n",
    "        print(dataframe)\n",
    "    print(f'\\n Good column(s): {good_columns}')"
   ]
  },
  {
   "cell_type": "code",
   "execution_count": 11,
   "metadata": {},
   "outputs": [
    {
     "name": "stdout",
     "output_type": "stream",
     "text": [
      "       column_name  count_nan   nan%\n",
      "0             name          2   0.01\n",
      "1  year_of_release        269   1.61\n",
      "2            genre          2   0.01\n",
      "3     critic_score       8578  51.32\n",
      "4       user_score       9125  54.59\n",
      "5           rating       6766  40.48\n",
      "\n",
      " Good column(s): ['platform', 'na_sales', 'eu_sales', 'jp_sales', 'other_sales']\n"
     ]
    }
   ],
   "source": [
    "# results \n",
    "percent_of_isna(df.columns)"
   ]
  },
  {
   "cell_type": "markdown",
   "metadata": {},
   "source": [
    "As we can see, there are 5 columns with missing values. There are only 2 missing values for name and genre, which is 0.01% of all data. We can safely get rid of them.\n",
    "<br><br>\n",
    "In year_of_release, there are slightly more missing values, but they are still only 1.61%, so we will also discard them.\n",
    "<br><br>\n",
    "Nothing can be done with the values of critic_score and user_score. Considering that the missing values are around 50% of all data, we can simply distort the data by replacing empty values with something else. We will leave them empty.\n",
    "<br><br>\n",
    "But at the same time, let's take a look at rating, can we do something with them? Empty values are unlikely to be filled, but we can look and make a decision below.\""
   ]
  },
  {
   "cell_type": "code",
   "execution_count": 12,
   "metadata": {},
   "outputs": [],
   "source": [
    "# delete the lines with missing info in name, year_of_release, genre coumns\n",
    "df = df.dropna(subset=['name', 'year_of_release', 'genre']).reset_index(drop=True)"
   ]
  },
  {
   "cell_type": "code",
   "execution_count": 13,
   "metadata": {},
   "outputs": [
    {
     "name": "stdout",
     "output_type": "stream",
     "text": [
      "    column_name  count_nan   nan%\n",
      "0  critic_score       8461  51.45\n",
      "1    user_score       8981  54.62\n",
      "2        rating       6676  40.60\n",
      "\n",
      " Good column(s): ['name', 'platform', 'year_of_release', 'genre', 'na_sales', 'eu_sales', 'jp_sales', 'other_sales']\n"
     ]
    }
   ],
   "source": [
    "# check result\n",
    "percent_of_isna(df.columns)"
   ]
  },
  {
   "cell_type": "markdown",
   "metadata": {},
   "source": [
    "Now that year_of_release has no missing years, we can change the type to integer"
   ]
  },
  {
   "cell_type": "code",
   "execution_count": 14,
   "metadata": {},
   "outputs": [
    {
     "name": "stdout",
     "output_type": "stream",
     "text": [
      "year_of_release: int64\n"
     ]
    }
   ],
   "source": [
    "# change type and check\n",
    "try:\n",
    "    df['year_of_release'] = df['year_of_release'].astype('int')\n",
    "except:\n",
    "    print(f'Error: {sys.exc_info()[0]}')\n",
    "finally:\n",
    "    print(f'year_of_release: {df[\"year_of_release\"].dtype}')"
   ]
  },
  {
   "cell_type": "markdown",
   "metadata": {},
   "source": [
    "Check final result"
   ]
  },
  {
   "cell_type": "code",
   "execution_count": 15,
   "metadata": {},
   "outputs": [
    {
     "name": "stdout",
     "output_type": "stream",
     "text": [
      "<class 'pandas.core.frame.DataFrame'>\n",
      "RangeIndex: 16444 entries, 0 to 16443\n",
      "Data columns (total 11 columns):\n",
      " #   Column           Non-Null Count  Dtype  \n",
      "---  ------           --------------  -----  \n",
      " 0   name             16444 non-null  object \n",
      " 1   platform         16444 non-null  object \n",
      " 2   year_of_release  16444 non-null  int64  \n",
      " 3   genre            16444 non-null  object \n",
      " 4   na_sales         16444 non-null  float64\n",
      " 5   eu_sales         16444 non-null  float64\n",
      " 6   jp_sales         16444 non-null  float64\n",
      " 7   other_sales      16444 non-null  float64\n",
      " 8   critic_score     7983 non-null   float64\n",
      " 9   user_score       7463 non-null   float64\n",
      " 10  rating           9768 non-null   object \n",
      "dtypes: float64(6), int64(1), object(4)\n",
      "memory usage: 1.4+ MB\n"
     ]
    }
   ],
   "source": [
    "df.info()"
   ]
  },
  {
   "cell_type": "markdown",
   "metadata": {},
   "source": [
    "Now let's take a look at rating, what can we do?"
   ]
  },
  {
   "cell_type": "code",
   "execution_count": 16,
   "metadata": {},
   "outputs": [
    {
     "data": {
      "text/plain": [
       "E       3921\n",
       "T       2905\n",
       "M       1536\n",
       "E10+    1393\n",
       "EC         8\n",
       "K-A        3\n",
       "RP         1\n",
       "AO         1\n",
       "Name: rating, dtype: int64"
      ]
     },
     "execution_count": 16,
     "metadata": {},
     "output_type": "execute_result"
    }
   ],
   "source": [
    "df['rating'].value_counts()"
   ]
  },
  {
   "cell_type": "markdown",
   "metadata": {},
   "source": [
    "So we see that among the filled values, we have ratings with very insignificant number of games. It is unlikely that we will sell games that are so unpopular."
   ]
  },
  {
   "cell_type": "code",
   "execution_count": 17,
   "metadata": {},
   "outputs": [
    {
     "data": {
      "text/plain": [
       "0.08"
      ]
     },
     "execution_count": 17,
     "metadata": {},
     "output_type": "execute_result"
    }
   ],
   "source": [
    "# % of unpopular ratings\n",
    "round(df.query('rating in (\"EC\", \"K-A\", \"AO\", \"RP\")')['rating'].count() * 100 / df.shape[0], 2)"
   ]
  },
  {
   "cell_type": "markdown",
   "metadata": {},
   "source": [
    "Just 0.08%. Let's remove this data"
   ]
  },
  {
   "cell_type": "code",
   "execution_count": 18,
   "metadata": {},
   "outputs": [],
   "source": [
    "df = df.query('rating not in (\"EC\", \"K-A\", \"AO\", \"RP\")')"
   ]
  },
  {
   "cell_type": "markdown",
   "metadata": {},
   "source": [
    "We will replace the empty values in rating with \"undefined\". This way, we will be able to see the impact of empty ratings without changing the data."
   ]
  },
  {
   "cell_type": "code",
   "execution_count": 19,
   "metadata": {},
   "outputs": [],
   "source": [
    "df['rating'] = df['rating'].fillna('undefined')"
   ]
  },
  {
   "cell_type": "code",
   "execution_count": 20,
   "metadata": {},
   "outputs": [
    {
     "data": {
      "text/html": [
       "<div>\n",
       "<style scoped>\n",
       "    .dataframe tbody tr th:only-of-type {\n",
       "        vertical-align: middle;\n",
       "    }\n",
       "\n",
       "    .dataframe tbody tr th {\n",
       "        vertical-align: top;\n",
       "    }\n",
       "\n",
       "    .dataframe thead th {\n",
       "        text-align: right;\n",
       "    }\n",
       "</style>\n",
       "<table border=\"1\" class=\"dataframe\">\n",
       "  <thead>\n",
       "    <tr style=\"text-align: right;\">\n",
       "      <th></th>\n",
       "      <th>name</th>\n",
       "      <th>platform</th>\n",
       "      <th>year_of_release</th>\n",
       "      <th>genre</th>\n",
       "      <th>na_sales</th>\n",
       "      <th>eu_sales</th>\n",
       "      <th>jp_sales</th>\n",
       "      <th>other_sales</th>\n",
       "      <th>critic_score</th>\n",
       "      <th>user_score</th>\n",
       "      <th>rating</th>\n",
       "    </tr>\n",
       "  </thead>\n",
       "  <tbody>\n",
       "    <tr>\n",
       "      <th>0</th>\n",
       "      <td>Wii Sports</td>\n",
       "      <td>Wii</td>\n",
       "      <td>2006</td>\n",
       "      <td>Sports</td>\n",
       "      <td>41.36</td>\n",
       "      <td>28.96</td>\n",
       "      <td>3.77</td>\n",
       "      <td>8.45</td>\n",
       "      <td>76.0</td>\n",
       "      <td>8.0</td>\n",
       "      <td>E</td>\n",
       "    </tr>\n",
       "    <tr>\n",
       "      <th>1</th>\n",
       "      <td>Super Mario Bros.</td>\n",
       "      <td>NES</td>\n",
       "      <td>1985</td>\n",
       "      <td>Platform</td>\n",
       "      <td>29.08</td>\n",
       "      <td>3.58</td>\n",
       "      <td>6.81</td>\n",
       "      <td>0.77</td>\n",
       "      <td>NaN</td>\n",
       "      <td>NaN</td>\n",
       "      <td>undefined</td>\n",
       "    </tr>\n",
       "    <tr>\n",
       "      <th>2</th>\n",
       "      <td>Mario Kart Wii</td>\n",
       "      <td>Wii</td>\n",
       "      <td>2008</td>\n",
       "      <td>Racing</td>\n",
       "      <td>15.68</td>\n",
       "      <td>12.76</td>\n",
       "      <td>3.79</td>\n",
       "      <td>3.29</td>\n",
       "      <td>82.0</td>\n",
       "      <td>8.3</td>\n",
       "      <td>E</td>\n",
       "    </tr>\n",
       "    <tr>\n",
       "      <th>3</th>\n",
       "      <td>Wii Sports Resort</td>\n",
       "      <td>Wii</td>\n",
       "      <td>2009</td>\n",
       "      <td>Sports</td>\n",
       "      <td>15.61</td>\n",
       "      <td>10.93</td>\n",
       "      <td>3.28</td>\n",
       "      <td>2.95</td>\n",
       "      <td>80.0</td>\n",
       "      <td>8.0</td>\n",
       "      <td>E</td>\n",
       "    </tr>\n",
       "    <tr>\n",
       "      <th>4</th>\n",
       "      <td>Pokemon Red/Pokemon Blue</td>\n",
       "      <td>GB</td>\n",
       "      <td>1996</td>\n",
       "      <td>Role-Playing</td>\n",
       "      <td>11.27</td>\n",
       "      <td>8.89</td>\n",
       "      <td>10.22</td>\n",
       "      <td>1.00</td>\n",
       "      <td>NaN</td>\n",
       "      <td>NaN</td>\n",
       "      <td>undefined</td>\n",
       "    </tr>\n",
       "  </tbody>\n",
       "</table>\n",
       "</div>"
      ],
      "text/plain": [
       "                       name platform  year_of_release         genre  na_sales  \\\n",
       "0                Wii Sports      Wii             2006        Sports     41.36   \n",
       "1         Super Mario Bros.      NES             1985      Platform     29.08   \n",
       "2            Mario Kart Wii      Wii             2008        Racing     15.68   \n",
       "3         Wii Sports Resort      Wii             2009        Sports     15.61   \n",
       "4  Pokemon Red/Pokemon Blue       GB             1996  Role-Playing     11.27   \n",
       "\n",
       "   eu_sales  jp_sales  other_sales  critic_score  user_score     rating  \n",
       "0     28.96      3.77         8.45          76.0         8.0          E  \n",
       "1      3.58      6.81         0.77           NaN         NaN  undefined  \n",
       "2     12.76      3.79         3.29          82.0         8.3          E  \n",
       "3     10.93      3.28         2.95          80.0         8.0          E  \n",
       "4      8.89     10.22         1.00           NaN         NaN  undefined  "
      ]
     },
     "execution_count": 20,
     "metadata": {},
     "output_type": "execute_result"
    }
   ],
   "source": [
    "df.head()"
   ]
  },
  {
   "cell_type": "markdown",
   "metadata": {},
   "source": [
    "Now we see that a large part of the missing values have been handled where it is possible. As a result, we got rid of less than 2% of the data, which is acceptable."
   ]
  },
  {
   "cell_type": "markdown",
   "metadata": {},
   "source": [
    "### Duplicates"
   ]
  },
  {
   "cell_type": "markdown",
   "metadata": {},
   "source": [
    "Now let's try to find duplicates. Are there identical rows or are there almost identical rows (where the name of the game and the platform match)? As a general rule, one game should be on one platform only once. When a game re-releases, either the official name changes (e.g. \"remastered\" is added) or there will be a different release year."
   ]
  },
  {
   "cell_type": "code",
   "execution_count": 21,
   "metadata": {},
   "outputs": [
    {
     "data": {
      "text/html": [
       "<div>\n",
       "<style scoped>\n",
       "    .dataframe tbody tr th:only-of-type {\n",
       "        vertical-align: middle;\n",
       "    }\n",
       "\n",
       "    .dataframe tbody tr th {\n",
       "        vertical-align: top;\n",
       "    }\n",
       "\n",
       "    .dataframe thead th {\n",
       "        text-align: right;\n",
       "    }\n",
       "</style>\n",
       "<table border=\"1\" class=\"dataframe\">\n",
       "  <thead>\n",
       "    <tr style=\"text-align: right;\">\n",
       "      <th></th>\n",
       "      <th>name</th>\n",
       "      <th>platform</th>\n",
       "      <th>count</th>\n",
       "    </tr>\n",
       "  </thead>\n",
       "  <tbody>\n",
       "    <tr>\n",
       "      <th>7649</th>\n",
       "      <td>Madden NFL 13</td>\n",
       "      <td>PS3</td>\n",
       "      <td>2</td>\n",
       "    </tr>\n",
       "    <tr>\n",
       "      <th>9539</th>\n",
       "      <td>Need for Speed: Most Wanted</td>\n",
       "      <td>PC</td>\n",
       "      <td>2</td>\n",
       "    </tr>\n",
       "    <tr>\n",
       "      <th>9544</th>\n",
       "      <td>Need for Speed: Most Wanted</td>\n",
       "      <td>X360</td>\n",
       "      <td>2</td>\n",
       "    </tr>\n",
       "  </tbody>\n",
       "</table>\n",
       "</div>"
      ],
      "text/plain": [
       "                             name platform  count\n",
       "7649                Madden NFL 13      PS3      2\n",
       "9539  Need for Speed: Most Wanted       PC      2\n",
       "9544  Need for Speed: Most Wanted     X360      2"
      ]
     },
     "execution_count": 21,
     "metadata": {},
     "output_type": "execute_result"
    }
   ],
   "source": [
    "# find all lines that have the same name and platform\n",
    "value_counts = df.groupby(['name', 'platform']).size().reset_index().rename(columns={0:'count'})\n",
    "value_counts = value_counts[value_counts['count'] > 1]\n",
    "value_counts"
   ]
  },
  {
   "cell_type": "markdown",
   "metadata": {},
   "source": [
    "Here we see 2 games on 3 platforms which could be duplicates"
   ]
  },
  {
   "cell_type": "code",
   "execution_count": 22,
   "metadata": {},
   "outputs": [
    {
     "data": {
      "text/html": [
       "<div>\n",
       "<style scoped>\n",
       "    .dataframe tbody tr th:only-of-type {\n",
       "        vertical-align: middle;\n",
       "    }\n",
       "\n",
       "    .dataframe tbody tr th {\n",
       "        vertical-align: top;\n",
       "    }\n",
       "\n",
       "    .dataframe thead th {\n",
       "        text-align: right;\n",
       "    }\n",
       "</style>\n",
       "<table border=\"1\" class=\"dataframe\">\n",
       "  <thead>\n",
       "    <tr style=\"text-align: right;\">\n",
       "      <th></th>\n",
       "      <th>name</th>\n",
       "      <th>platform</th>\n",
       "      <th>year_of_release</th>\n",
       "      <th>genre</th>\n",
       "      <th>na_sales</th>\n",
       "      <th>eu_sales</th>\n",
       "      <th>jp_sales</th>\n",
       "      <th>other_sales</th>\n",
       "      <th>critic_score</th>\n",
       "      <th>user_score</th>\n",
       "      <th>rating</th>\n",
       "    </tr>\n",
       "  </thead>\n",
       "  <tbody>\n",
       "    <tr>\n",
       "      <th>503</th>\n",
       "      <td>Madden NFL 13</td>\n",
       "      <td>X360</td>\n",
       "      <td>2012</td>\n",
       "      <td>Sports</td>\n",
       "      <td>2.53</td>\n",
       "      <td>0.15</td>\n",
       "      <td>0.00</td>\n",
       "      <td>0.17</td>\n",
       "      <td>81.0</td>\n",
       "      <td>5.8</td>\n",
       "      <td>E</td>\n",
       "    </tr>\n",
       "    <tr>\n",
       "      <th>600</th>\n",
       "      <td>Madden NFL 13</td>\n",
       "      <td>PS3</td>\n",
       "      <td>2012</td>\n",
       "      <td>Sports</td>\n",
       "      <td>2.11</td>\n",
       "      <td>0.22</td>\n",
       "      <td>0.00</td>\n",
       "      <td>0.23</td>\n",
       "      <td>83.0</td>\n",
       "      <td>5.5</td>\n",
       "      <td>E</td>\n",
       "    </tr>\n",
       "    <tr>\n",
       "      <th>15969</th>\n",
       "      <td>Madden NFL 13</td>\n",
       "      <td>PS3</td>\n",
       "      <td>2012</td>\n",
       "      <td>Sports</td>\n",
       "      <td>0.00</td>\n",
       "      <td>0.01</td>\n",
       "      <td>0.00</td>\n",
       "      <td>0.00</td>\n",
       "      <td>83.0</td>\n",
       "      <td>5.5</td>\n",
       "      <td>E</td>\n",
       "    </tr>\n",
       "    <tr>\n",
       "      <th>519</th>\n",
       "      <td>Need for Speed: Most Wanted</td>\n",
       "      <td>PS3</td>\n",
       "      <td>2012</td>\n",
       "      <td>Racing</td>\n",
       "      <td>0.71</td>\n",
       "      <td>1.46</td>\n",
       "      <td>0.06</td>\n",
       "      <td>0.58</td>\n",
       "      <td>NaN</td>\n",
       "      <td>NaN</td>\n",
       "      <td>undefined</td>\n",
       "    </tr>\n",
       "    <tr>\n",
       "      <th>1177</th>\n",
       "      <td>Need for Speed: Most Wanted</td>\n",
       "      <td>X360</td>\n",
       "      <td>2012</td>\n",
       "      <td>Racing</td>\n",
       "      <td>0.62</td>\n",
       "      <td>0.78</td>\n",
       "      <td>0.01</td>\n",
       "      <td>0.15</td>\n",
       "      <td>83.0</td>\n",
       "      <td>8.5</td>\n",
       "      <td>T</td>\n",
       "    </tr>\n",
       "    <tr>\n",
       "      <th>1574</th>\n",
       "      <td>Need for Speed: Most Wanted</td>\n",
       "      <td>X360</td>\n",
       "      <td>2005</td>\n",
       "      <td>Racing</td>\n",
       "      <td>1.00</td>\n",
       "      <td>0.13</td>\n",
       "      <td>0.02</td>\n",
       "      <td>0.10</td>\n",
       "      <td>83.0</td>\n",
       "      <td>8.5</td>\n",
       "      <td>T</td>\n",
       "    </tr>\n",
       "    <tr>\n",
       "      <th>5883</th>\n",
       "      <td>Need for Speed: Most Wanted</td>\n",
       "      <td>PC</td>\n",
       "      <td>2005</td>\n",
       "      <td>Racing</td>\n",
       "      <td>0.02</td>\n",
       "      <td>0.23</td>\n",
       "      <td>0.00</td>\n",
       "      <td>0.04</td>\n",
       "      <td>82.0</td>\n",
       "      <td>8.5</td>\n",
       "      <td>T</td>\n",
       "    </tr>\n",
       "    <tr>\n",
       "      <th>11534</th>\n",
       "      <td>Need for Speed: Most Wanted</td>\n",
       "      <td>PC</td>\n",
       "      <td>2012</td>\n",
       "      <td>Racing</td>\n",
       "      <td>0.00</td>\n",
       "      <td>0.06</td>\n",
       "      <td>0.00</td>\n",
       "      <td>0.02</td>\n",
       "      <td>82.0</td>\n",
       "      <td>8.5</td>\n",
       "      <td>T</td>\n",
       "    </tr>\n",
       "  </tbody>\n",
       "</table>\n",
       "</div>"
      ],
      "text/plain": [
       "                              name platform  year_of_release   genre  \\\n",
       "503                  Madden NFL 13     X360             2012  Sports   \n",
       "600                  Madden NFL 13      PS3             2012  Sports   \n",
       "15969                Madden NFL 13      PS3             2012  Sports   \n",
       "519    Need for Speed: Most Wanted      PS3             2012  Racing   \n",
       "1177   Need for Speed: Most Wanted     X360             2012  Racing   \n",
       "1574   Need for Speed: Most Wanted     X360             2005  Racing   \n",
       "5883   Need for Speed: Most Wanted       PC             2005  Racing   \n",
       "11534  Need for Speed: Most Wanted       PC             2012  Racing   \n",
       "\n",
       "       na_sales  eu_sales  jp_sales  other_sales  critic_score  user_score  \\\n",
       "503        2.53      0.15      0.00         0.17          81.0         5.8   \n",
       "600        2.11      0.22      0.00         0.23          83.0         5.5   \n",
       "15969      0.00      0.01      0.00         0.00          83.0         5.5   \n",
       "519        0.71      1.46      0.06         0.58           NaN         NaN   \n",
       "1177       0.62      0.78      0.01         0.15          83.0         8.5   \n",
       "1574       1.00      0.13      0.02         0.10          83.0         8.5   \n",
       "5883       0.02      0.23      0.00         0.04          82.0         8.5   \n",
       "11534      0.00      0.06      0.00         0.02          82.0         8.5   \n",
       "\n",
       "          rating  \n",
       "503            E  \n",
       "600            E  \n",
       "15969          E  \n",
       "519    undefined  \n",
       "1177           T  \n",
       "1574           T  \n",
       "5883           T  \n",
       "11534          T  "
      ]
     },
     "execution_count": 22,
     "metadata": {},
     "output_type": "execute_result"
    }
   ],
   "source": [
    "# let's look at them closely\n",
    "df.query('name in @value_counts.name and platform in @value_counts.platform').sort_values(by='name')"
   ]
  },
  {
   "cell_type": "markdown",
   "metadata": {},
   "source": [
    "Given the popularity of the games, we can find on the internet that:\n",
    "<li>Madden NFL 13 was very popular and obviously sold more than 0 million in its native region in North America. Therefore, the row with the index 15969 can be deleted.</li>\n",
    "<li>Need for Speed: Most Wanted is also a very well-known game that was released twice in 2005 and 2012 on PC and Xbox 360. We will leave these records, they are correct!</li>"
   ]
  },
  {
   "cell_type": "code",
   "execution_count": 23,
   "metadata": {},
   "outputs": [],
   "source": [
    "# delete the incorrect Madden NFL 13 line\n",
    "df.drop(axis=0, index=[15969], inplace=True)"
   ]
  },
  {
   "cell_type": "code",
   "execution_count": 24,
   "metadata": {},
   "outputs": [
    {
     "data": {
      "text/html": [
       "<div>\n",
       "<style scoped>\n",
       "    .dataframe tbody tr th:only-of-type {\n",
       "        vertical-align: middle;\n",
       "    }\n",
       "\n",
       "    .dataframe tbody tr th {\n",
       "        vertical-align: top;\n",
       "    }\n",
       "\n",
       "    .dataframe thead th {\n",
       "        text-align: right;\n",
       "    }\n",
       "</style>\n",
       "<table border=\"1\" class=\"dataframe\">\n",
       "  <thead>\n",
       "    <tr style=\"text-align: right;\">\n",
       "      <th></th>\n",
       "      <th>name</th>\n",
       "      <th>platform</th>\n",
       "      <th>year_of_release</th>\n",
       "      <th>genre</th>\n",
       "      <th>na_sales</th>\n",
       "      <th>eu_sales</th>\n",
       "      <th>jp_sales</th>\n",
       "      <th>other_sales</th>\n",
       "      <th>critic_score</th>\n",
       "      <th>user_score</th>\n",
       "      <th>rating</th>\n",
       "    </tr>\n",
       "  </thead>\n",
       "  <tbody>\n",
       "    <tr>\n",
       "      <th>503</th>\n",
       "      <td>Madden NFL 13</td>\n",
       "      <td>X360</td>\n",
       "      <td>2012</td>\n",
       "      <td>Sports</td>\n",
       "      <td>2.53</td>\n",
       "      <td>0.15</td>\n",
       "      <td>0.00</td>\n",
       "      <td>0.17</td>\n",
       "      <td>81.0</td>\n",
       "      <td>5.8</td>\n",
       "      <td>E</td>\n",
       "    </tr>\n",
       "    <tr>\n",
       "      <th>600</th>\n",
       "      <td>Madden NFL 13</td>\n",
       "      <td>PS3</td>\n",
       "      <td>2012</td>\n",
       "      <td>Sports</td>\n",
       "      <td>2.11</td>\n",
       "      <td>0.22</td>\n",
       "      <td>0.00</td>\n",
       "      <td>0.23</td>\n",
       "      <td>83.0</td>\n",
       "      <td>5.5</td>\n",
       "      <td>E</td>\n",
       "    </tr>\n",
       "    <tr>\n",
       "      <th>519</th>\n",
       "      <td>Need for Speed: Most Wanted</td>\n",
       "      <td>PS3</td>\n",
       "      <td>2012</td>\n",
       "      <td>Racing</td>\n",
       "      <td>0.71</td>\n",
       "      <td>1.46</td>\n",
       "      <td>0.06</td>\n",
       "      <td>0.58</td>\n",
       "      <td>NaN</td>\n",
       "      <td>NaN</td>\n",
       "      <td>undefined</td>\n",
       "    </tr>\n",
       "    <tr>\n",
       "      <th>1177</th>\n",
       "      <td>Need for Speed: Most Wanted</td>\n",
       "      <td>X360</td>\n",
       "      <td>2012</td>\n",
       "      <td>Racing</td>\n",
       "      <td>0.62</td>\n",
       "      <td>0.78</td>\n",
       "      <td>0.01</td>\n",
       "      <td>0.15</td>\n",
       "      <td>83.0</td>\n",
       "      <td>8.5</td>\n",
       "      <td>T</td>\n",
       "    </tr>\n",
       "    <tr>\n",
       "      <th>1574</th>\n",
       "      <td>Need for Speed: Most Wanted</td>\n",
       "      <td>X360</td>\n",
       "      <td>2005</td>\n",
       "      <td>Racing</td>\n",
       "      <td>1.00</td>\n",
       "      <td>0.13</td>\n",
       "      <td>0.02</td>\n",
       "      <td>0.10</td>\n",
       "      <td>83.0</td>\n",
       "      <td>8.5</td>\n",
       "      <td>T</td>\n",
       "    </tr>\n",
       "    <tr>\n",
       "      <th>5883</th>\n",
       "      <td>Need for Speed: Most Wanted</td>\n",
       "      <td>PC</td>\n",
       "      <td>2005</td>\n",
       "      <td>Racing</td>\n",
       "      <td>0.02</td>\n",
       "      <td>0.23</td>\n",
       "      <td>0.00</td>\n",
       "      <td>0.04</td>\n",
       "      <td>82.0</td>\n",
       "      <td>8.5</td>\n",
       "      <td>T</td>\n",
       "    </tr>\n",
       "    <tr>\n",
       "      <th>11534</th>\n",
       "      <td>Need for Speed: Most Wanted</td>\n",
       "      <td>PC</td>\n",
       "      <td>2012</td>\n",
       "      <td>Racing</td>\n",
       "      <td>0.00</td>\n",
       "      <td>0.06</td>\n",
       "      <td>0.00</td>\n",
       "      <td>0.02</td>\n",
       "      <td>82.0</td>\n",
       "      <td>8.5</td>\n",
       "      <td>T</td>\n",
       "    </tr>\n",
       "  </tbody>\n",
       "</table>\n",
       "</div>"
      ],
      "text/plain": [
       "                              name platform  year_of_release   genre  \\\n",
       "503                  Madden NFL 13     X360             2012  Sports   \n",
       "600                  Madden NFL 13      PS3             2012  Sports   \n",
       "519    Need for Speed: Most Wanted      PS3             2012  Racing   \n",
       "1177   Need for Speed: Most Wanted     X360             2012  Racing   \n",
       "1574   Need for Speed: Most Wanted     X360             2005  Racing   \n",
       "5883   Need for Speed: Most Wanted       PC             2005  Racing   \n",
       "11534  Need for Speed: Most Wanted       PC             2012  Racing   \n",
       "\n",
       "       na_sales  eu_sales  jp_sales  other_sales  critic_score  user_score  \\\n",
       "503        2.53      0.15      0.00         0.17          81.0         5.8   \n",
       "600        2.11      0.22      0.00         0.23          83.0         5.5   \n",
       "519        0.71      1.46      0.06         0.58           NaN         NaN   \n",
       "1177       0.62      0.78      0.01         0.15          83.0         8.5   \n",
       "1574       1.00      0.13      0.02         0.10          83.0         8.5   \n",
       "5883       0.02      0.23      0.00         0.04          82.0         8.5   \n",
       "11534      0.00      0.06      0.00         0.02          82.0         8.5   \n",
       "\n",
       "          rating  \n",
       "503            E  \n",
       "600            E  \n",
       "519    undefined  \n",
       "1177           T  \n",
       "1574           T  \n",
       "5883           T  \n",
       "11534          T  "
      ]
     },
     "execution_count": 24,
     "metadata": {},
     "output_type": "execute_result"
    }
   ],
   "source": [
    "# check\n",
    "df.query('name in @value_counts.name and platform in @value_counts.platform').sort_values(by='name')"
   ]
  },
  {
   "cell_type": "markdown",
   "metadata": {},
   "source": [
    "We will also check for obvious duplicates"
   ]
  },
  {
   "cell_type": "code",
   "execution_count": 25,
   "metadata": {},
   "outputs": [
    {
     "data": {
      "text/plain": [
       "0"
      ]
     },
     "execution_count": 25,
     "metadata": {},
     "output_type": "execute_result"
    }
   ],
   "source": [
    "df.duplicated().sum()"
   ]
  },
  {
   "cell_type": "markdown",
   "metadata": {},
   "source": [
    "Check for duplicates is done"
   ]
  },
  {
   "cell_type": "markdown",
   "metadata": {},
   "source": [
    "### Additional Information"
   ]
  },
  {
   "cell_type": "markdown",
   "metadata": {},
   "source": [
    "For further investigation, it will be convenient to have a total sales for each game at hand. We will calculate total sales in all regions and save them in a separate column."
   ]
  },
  {
   "cell_type": "code",
   "execution_count": 26,
   "metadata": {},
   "outputs": [],
   "source": [
    "# add new column\n",
    "df['total_sales'] = df[['na_sales','eu_sales','jp_sales', 'other_sales']].sum(axis = 1)"
   ]
  },
  {
   "cell_type": "code",
   "execution_count": 27,
   "metadata": {},
   "outputs": [
    {
     "data": {
      "text/html": [
       "<div>\n",
       "<style scoped>\n",
       "    .dataframe tbody tr th:only-of-type {\n",
       "        vertical-align: middle;\n",
       "    }\n",
       "\n",
       "    .dataframe tbody tr th {\n",
       "        vertical-align: top;\n",
       "    }\n",
       "\n",
       "    .dataframe thead th {\n",
       "        text-align: right;\n",
       "    }\n",
       "</style>\n",
       "<table border=\"1\" class=\"dataframe\">\n",
       "  <thead>\n",
       "    <tr style=\"text-align: right;\">\n",
       "      <th></th>\n",
       "      <th>name</th>\n",
       "      <th>platform</th>\n",
       "      <th>year_of_release</th>\n",
       "      <th>genre</th>\n",
       "      <th>na_sales</th>\n",
       "      <th>eu_sales</th>\n",
       "      <th>jp_sales</th>\n",
       "      <th>other_sales</th>\n",
       "      <th>critic_score</th>\n",
       "      <th>user_score</th>\n",
       "      <th>rating</th>\n",
       "      <th>total_sales</th>\n",
       "    </tr>\n",
       "  </thead>\n",
       "  <tbody>\n",
       "    <tr>\n",
       "      <th>0</th>\n",
       "      <td>Wii Sports</td>\n",
       "      <td>Wii</td>\n",
       "      <td>2006</td>\n",
       "      <td>Sports</td>\n",
       "      <td>41.36</td>\n",
       "      <td>28.96</td>\n",
       "      <td>3.77</td>\n",
       "      <td>8.45</td>\n",
       "      <td>76.0</td>\n",
       "      <td>8.0</td>\n",
       "      <td>E</td>\n",
       "      <td>82.54</td>\n",
       "    </tr>\n",
       "    <tr>\n",
       "      <th>1</th>\n",
       "      <td>Super Mario Bros.</td>\n",
       "      <td>NES</td>\n",
       "      <td>1985</td>\n",
       "      <td>Platform</td>\n",
       "      <td>29.08</td>\n",
       "      <td>3.58</td>\n",
       "      <td>6.81</td>\n",
       "      <td>0.77</td>\n",
       "      <td>NaN</td>\n",
       "      <td>NaN</td>\n",
       "      <td>undefined</td>\n",
       "      <td>40.24</td>\n",
       "    </tr>\n",
       "    <tr>\n",
       "      <th>2</th>\n",
       "      <td>Mario Kart Wii</td>\n",
       "      <td>Wii</td>\n",
       "      <td>2008</td>\n",
       "      <td>Racing</td>\n",
       "      <td>15.68</td>\n",
       "      <td>12.76</td>\n",
       "      <td>3.79</td>\n",
       "      <td>3.29</td>\n",
       "      <td>82.0</td>\n",
       "      <td>8.3</td>\n",
       "      <td>E</td>\n",
       "      <td>35.52</td>\n",
       "    </tr>\n",
       "    <tr>\n",
       "      <th>3</th>\n",
       "      <td>Wii Sports Resort</td>\n",
       "      <td>Wii</td>\n",
       "      <td>2009</td>\n",
       "      <td>Sports</td>\n",
       "      <td>15.61</td>\n",
       "      <td>10.93</td>\n",
       "      <td>3.28</td>\n",
       "      <td>2.95</td>\n",
       "      <td>80.0</td>\n",
       "      <td>8.0</td>\n",
       "      <td>E</td>\n",
       "      <td>32.77</td>\n",
       "    </tr>\n",
       "    <tr>\n",
       "      <th>4</th>\n",
       "      <td>Pokemon Red/Pokemon Blue</td>\n",
       "      <td>GB</td>\n",
       "      <td>1996</td>\n",
       "      <td>Role-Playing</td>\n",
       "      <td>11.27</td>\n",
       "      <td>8.89</td>\n",
       "      <td>10.22</td>\n",
       "      <td>1.00</td>\n",
       "      <td>NaN</td>\n",
       "      <td>NaN</td>\n",
       "      <td>undefined</td>\n",
       "      <td>31.38</td>\n",
       "    </tr>\n",
       "  </tbody>\n",
       "</table>\n",
       "</div>"
      ],
      "text/plain": [
       "                       name platform  year_of_release         genre  na_sales  \\\n",
       "0                Wii Sports      Wii             2006        Sports     41.36   \n",
       "1         Super Mario Bros.      NES             1985      Platform     29.08   \n",
       "2            Mario Kart Wii      Wii             2008        Racing     15.68   \n",
       "3         Wii Sports Resort      Wii             2009        Sports     15.61   \n",
       "4  Pokemon Red/Pokemon Blue       GB             1996  Role-Playing     11.27   \n",
       "\n",
       "   eu_sales  jp_sales  other_sales  critic_score  user_score     rating  \\\n",
       "0     28.96      3.77         8.45          76.0         8.0          E   \n",
       "1      3.58      6.81         0.77           NaN         NaN  undefined   \n",
       "2     12.76      3.79         3.29          82.0         8.3          E   \n",
       "3     10.93      3.28         2.95          80.0         8.0          E   \n",
       "4      8.89     10.22         1.00           NaN         NaN  undefined   \n",
       "\n",
       "   total_sales  \n",
       "0        82.54  \n",
       "1        40.24  \n",
       "2        35.52  \n",
       "3        32.77  \n",
       "4        31.38  "
      ]
     },
     "execution_count": 27,
     "metadata": {},
     "output_type": "execute_result"
    }
   ],
   "source": [
    "# check result\n",
    "df.head()"
   ]
  },
  {
   "cell_type": "markdown",
   "metadata": {},
   "source": [
    "At the end of this section, we have obtained data that has been cleaned of duplicates and empty values (such as year_of_release). The rest that we cannot affect are empty ratings and critic and user scores, which have a lot of missing values. We also added a new column with total game sales worldwide."
   ]
  },
  {
   "cell_type": "markdown",
   "metadata": {},
   "source": [
    "Now this data can be used for further analysis"
   ]
  },
  {
   "cell_type": "markdown",
   "metadata": {},
   "source": [
    "## Data Analysis"
   ]
  },
  {
   "cell_type": "markdown",
   "metadata": {},
   "source": [
    "Let's look closer at the data"
   ]
  },
  {
   "cell_type": "markdown",
   "metadata": {},
   "source": [
    "### Do we need data for all years?"
   ]
  },
  {
   "cell_type": "markdown",
   "metadata": {},
   "source": [
    "How many games were released in different years and do we need all the data for the last 35 years? Probably not. Then for how many?"
   ]
  },
  {
   "cell_type": "code",
   "execution_count": 28,
   "metadata": {},
   "outputs": [
    {
     "data": {
      "image/png": "[encoded data removed]",
      "text/plain": [
       "<Figure size 720x360 with 1 Axes>"
      ]
     },
     "metadata": {
      "needs_background": "light"
     },
     "output_type": "display_data"
    }
   ],
   "source": [
    "# let's look at the distribution of game releases \n",
    "df['year_of_release'].hist(bins=36, figsize=(10,5))\n",
    "plt.show()"
   ]
  },
  {
   "cell_type": "markdown",
   "metadata": {},
   "source": [
    "In conclusion, based on the data, it appears that the peak of new game releases was between the years 2000-2010, but after 2010, there has been a significant decline in new game releases. However, 2016 shows some signs of improvement, but it is unclear if it is the beginning of a new trend or just an outlier during a general decline. Since we are looking to the future in 2017 and the gaming industry is very dynamic, we will focus on the last 5 years for our analysis."
   ]
  },
  {
   "cell_type": "markdown",
   "metadata": {},
   "source": [
    "Let's create a new dataframe where we will have all the data for the last 5 years."
   ]
  },
  {
   "cell_type": "code",
   "execution_count": 29,
   "metadata": {},
   "outputs": [
    {
     "data": {
      "text/html": [
       "<div>\n",
       "<style scoped>\n",
       "    .dataframe tbody tr th:only-of-type {\n",
       "        vertical-align: middle;\n",
       "    }\n",
       "\n",
       "    .dataframe tbody tr th {\n",
       "        vertical-align: top;\n",
       "    }\n",
       "\n",
       "    .dataframe thead th {\n",
       "        text-align: right;\n",
       "    }\n",
       "</style>\n",
       "<table border=\"1\" class=\"dataframe\">\n",
       "  <thead>\n",
       "    <tr style=\"text-align: right;\">\n",
       "      <th></th>\n",
       "      <th>name</th>\n",
       "      <th>platform</th>\n",
       "      <th>year_of_release</th>\n",
       "      <th>genre</th>\n",
       "      <th>na_sales</th>\n",
       "      <th>eu_sales</th>\n",
       "      <th>jp_sales</th>\n",
       "      <th>other_sales</th>\n",
       "      <th>critic_score</th>\n",
       "      <th>user_score</th>\n",
       "      <th>rating</th>\n",
       "      <th>total_sales</th>\n",
       "    </tr>\n",
       "  </thead>\n",
       "  <tbody>\n",
       "    <tr>\n",
       "      <th>16</th>\n",
       "      <td>Grand Theft Auto V</td>\n",
       "      <td>PS3</td>\n",
       "      <td>2013</td>\n",
       "      <td>Action</td>\n",
       "      <td>7.02</td>\n",
       "      <td>9.09</td>\n",
       "      <td>0.98</td>\n",
       "      <td>3.96</td>\n",
       "      <td>97.0</td>\n",
       "      <td>8.2</td>\n",
       "      <td>M</td>\n",
       "      <td>21.05</td>\n",
       "    </tr>\n",
       "    <tr>\n",
       "      <th>23</th>\n",
       "      <td>Grand Theft Auto V</td>\n",
       "      <td>X360</td>\n",
       "      <td>2013</td>\n",
       "      <td>Action</td>\n",
       "      <td>9.66</td>\n",
       "      <td>5.14</td>\n",
       "      <td>0.06</td>\n",
       "      <td>1.41</td>\n",
       "      <td>97.0</td>\n",
       "      <td>8.1</td>\n",
       "      <td>M</td>\n",
       "      <td>16.27</td>\n",
       "    </tr>\n",
       "    <tr>\n",
       "      <th>31</th>\n",
       "      <td>Call of Duty: Black Ops 3</td>\n",
       "      <td>PS4</td>\n",
       "      <td>2015</td>\n",
       "      <td>Shooter</td>\n",
       "      <td>6.03</td>\n",
       "      <td>5.86</td>\n",
       "      <td>0.36</td>\n",
       "      <td>2.38</td>\n",
       "      <td>NaN</td>\n",
       "      <td>NaN</td>\n",
       "      <td>undefined</td>\n",
       "      <td>14.63</td>\n",
       "    </tr>\n",
       "    <tr>\n",
       "      <th>33</th>\n",
       "      <td>Pokemon X/Pokemon Y</td>\n",
       "      <td>3DS</td>\n",
       "      <td>2013</td>\n",
       "      <td>Role-Playing</td>\n",
       "      <td>5.28</td>\n",
       "      <td>4.19</td>\n",
       "      <td>4.35</td>\n",
       "      <td>0.78</td>\n",
       "      <td>NaN</td>\n",
       "      <td>NaN</td>\n",
       "      <td>undefined</td>\n",
       "      <td>14.60</td>\n",
       "    </tr>\n",
       "    <tr>\n",
       "      <th>34</th>\n",
       "      <td>Call of Duty: Black Ops II</td>\n",
       "      <td>PS3</td>\n",
       "      <td>2012</td>\n",
       "      <td>Shooter</td>\n",
       "      <td>4.99</td>\n",
       "      <td>5.73</td>\n",
       "      <td>0.65</td>\n",
       "      <td>2.42</td>\n",
       "      <td>83.0</td>\n",
       "      <td>5.3</td>\n",
       "      <td>M</td>\n",
       "      <td>13.79</td>\n",
       "    </tr>\n",
       "  </tbody>\n",
       "</table>\n",
       "</div>"
      ],
      "text/plain": [
       "                          name platform  year_of_release         genre  \\\n",
       "16          Grand Theft Auto V      PS3             2013        Action   \n",
       "23          Grand Theft Auto V     X360             2013        Action   \n",
       "31   Call of Duty: Black Ops 3      PS4             2015       Shooter   \n",
       "33         Pokemon X/Pokemon Y      3DS             2013  Role-Playing   \n",
       "34  Call of Duty: Black Ops II      PS3             2012       Shooter   \n",
       "\n",
       "    na_sales  eu_sales  jp_sales  other_sales  critic_score  user_score  \\\n",
       "16      7.02      9.09      0.98         3.96          97.0         8.2   \n",
       "23      9.66      5.14      0.06         1.41          97.0         8.1   \n",
       "31      6.03      5.86      0.36         2.38           NaN         NaN   \n",
       "33      5.28      4.19      4.35         0.78           NaN         NaN   \n",
       "34      4.99      5.73      0.65         2.42          83.0         5.3   \n",
       "\n",
       "       rating  total_sales  \n",
       "16          M        21.05  \n",
       "23          M        16.27  \n",
       "31  undefined        14.63  \n",
       "33  undefined        14.60  \n",
       "34          M        13.79  "
      ]
     },
     "execution_count": 29,
     "metadata": {},
     "output_type": "execute_result"
    }
   ],
   "source": [
    "# new dataframe\n",
    "five_years = df.query('year_of_release >= 2012')\n",
    "five_years.head()"
   ]
  },
  {
   "cell_type": "markdown",
   "metadata": {},
   "source": [
    "### Platforms"
   ]
  },
  {
   "cell_type": "markdown",
   "metadata": {},
   "source": [
    "How have sales changed across platforms? Let's choose the platforms with the highest total sales and plot the distribution by years. It is important for us to understand: how long the life of a platform is?"
   ]
  },
  {
   "cell_type": "markdown",
   "metadata": {},
   "source": [
    "#### Potentially profitable platforms"
   ]
  },
  {
   "cell_type": "code",
   "execution_count": 30,
   "metadata": {},
   "outputs": [
    {
     "data": {
      "text/html": [
       "<div>\n",
       "<style scoped>\n",
       "    .dataframe tbody tr th:only-of-type {\n",
       "        vertical-align: middle;\n",
       "    }\n",
       "\n",
       "    .dataframe tbody tr th {\n",
       "        vertical-align: top;\n",
       "    }\n",
       "\n",
       "    .dataframe thead tr th {\n",
       "        text-align: left;\n",
       "    }\n",
       "\n",
       "    .dataframe thead tr:last-of-type th {\n",
       "        text-align: right;\n",
       "    }\n",
       "</style>\n",
       "<table border=\"1\" class=\"dataframe\">\n",
       "  <thead>\n",
       "    <tr>\n",
       "      <th></th>\n",
       "      <th>sum</th>\n",
       "    </tr>\n",
       "    <tr>\n",
       "      <th></th>\n",
       "      <th>total_sales</th>\n",
       "    </tr>\n",
       "    <tr>\n",
       "      <th>platform</th>\n",
       "      <th></th>\n",
       "    </tr>\n",
       "  </thead>\n",
       "  <tbody>\n",
       "    <tr>\n",
       "      <th>PS2</th>\n",
       "      <td>1233.32</td>\n",
       "    </tr>\n",
       "    <tr>\n",
       "      <th>X360</th>\n",
       "      <td>961.24</td>\n",
       "    </tr>\n",
       "    <tr>\n",
       "      <th>PS3</th>\n",
       "      <td>931.33</td>\n",
       "    </tr>\n",
       "    <tr>\n",
       "      <th>Wii</th>\n",
       "      <td>890.52</td>\n",
       "    </tr>\n",
       "    <tr>\n",
       "      <th>DS</th>\n",
       "      <td>802.13</td>\n",
       "    </tr>\n",
       "    <tr>\n",
       "      <th>PS</th>\n",
       "      <td>725.67</td>\n",
       "    </tr>\n",
       "    <tr>\n",
       "      <th>PS4</th>\n",
       "      <td>314.14</td>\n",
       "    </tr>\n",
       "    <tr>\n",
       "      <th>GBA</th>\n",
       "      <td>312.88</td>\n",
       "    </tr>\n",
       "    <tr>\n",
       "      <th>PSP</th>\n",
       "      <td>289.53</td>\n",
       "    </tr>\n",
       "    <tr>\n",
       "      <th>3DS</th>\n",
       "      <td>257.81</td>\n",
       "    </tr>\n",
       "  </tbody>\n",
       "</table>\n",
       "</div>"
      ],
      "text/plain": [
       "                 sum\n",
       "         total_sales\n",
       "platform            \n",
       "PS2          1233.32\n",
       "X360          961.24\n",
       "PS3           931.33\n",
       "Wii           890.52\n",
       "DS            802.13\n",
       "PS            725.67\n",
       "PS4           314.14\n",
       "GBA           312.88\n",
       "PSP           289.53\n",
       "3DS           257.81"
      ]
     },
     "execution_count": 30,
     "metadata": {},
     "output_type": "execute_result"
    }
   ],
   "source": [
    "# top 10 platforms of all time\n",
    "top_10_platforms_all_time = (\n",
    "    df.pivot_table(index='platform', values='total_sales', aggfunc=['sum'])\n",
    "    .sort_values(by=(('sum', 'total_sales')), ascending=False)\n",
    "    .head(10)\n",
    ")\n",
    "top_10_platforms_all_time"
   ]
  },
  {
   "cell_type": "code",
   "execution_count": 31,
   "metadata": {},
   "outputs": [
    {
     "data": {
      "text/html": [
       "<div>\n",
       "<style scoped>\n",
       "    .dataframe tbody tr th:only-of-type {\n",
       "        vertical-align: middle;\n",
       "    }\n",
       "\n",
       "    .dataframe tbody tr th {\n",
       "        vertical-align: top;\n",
       "    }\n",
       "\n",
       "    .dataframe thead th {\n",
       "        text-align: right;\n",
       "    }\n",
       "</style>\n",
       "<table border=\"1\" class=\"dataframe\">\n",
       "  <thead>\n",
       "    <tr style=\"text-align: right;\">\n",
       "      <th></th>\n",
       "      <th>sum</th>\n",
       "    </tr>\n",
       "    <tr>\n",
       "      <th>platform</th>\n",
       "      <th></th>\n",
       "    </tr>\n",
       "  </thead>\n",
       "  <tbody>\n",
       "    <tr>\n",
       "      <th>PS4</th>\n",
       "      <td>314.14</td>\n",
       "    </tr>\n",
       "    <tr>\n",
       "      <th>PS3</th>\n",
       "      <td>288.78</td>\n",
       "    </tr>\n",
       "    <tr>\n",
       "      <th>X360</th>\n",
       "      <td>236.54</td>\n",
       "    </tr>\n",
       "    <tr>\n",
       "      <th>3DS</th>\n",
       "      <td>194.61</td>\n",
       "    </tr>\n",
       "    <tr>\n",
       "      <th>XOne</th>\n",
       "      <td>159.32</td>\n",
       "    </tr>\n",
       "    <tr>\n",
       "      <th>WiiU</th>\n",
       "      <td>82.19</td>\n",
       "    </tr>\n",
       "    <tr>\n",
       "      <th>PC</th>\n",
       "      <td>62.65</td>\n",
       "    </tr>\n",
       "    <tr>\n",
       "      <th>PSV</th>\n",
       "      <td>49.18</td>\n",
       "    </tr>\n",
       "    <tr>\n",
       "      <th>Wii</th>\n",
       "      <td>35.37</td>\n",
       "    </tr>\n",
       "    <tr>\n",
       "      <th>DS</th>\n",
       "      <td>12.55</td>\n",
       "    </tr>\n",
       "  </tbody>\n",
       "</table>\n",
       "</div>"
      ],
      "text/plain": [
       "             sum\n",
       "platform        \n",
       "PS4       314.14\n",
       "PS3       288.78\n",
       "X360      236.54\n",
       "3DS       194.61\n",
       "XOne      159.32\n",
       "WiiU       82.19\n",
       "PC         62.65\n",
       "PSV        49.18\n",
       "Wii        35.37\n",
       "DS         12.55"
      ]
     },
     "execution_count": 31,
     "metadata": {},
     "output_type": "execute_result"
    }
   ],
   "source": [
    "# top 10 platforms in the last 5 years\n",
    "top_10_platforms_five_years = (\n",
    "    five_years.pivot_table(index='platform', values='total_sales', aggfunc=['sum'])\n",
    "    .sort_values(by=(('sum', 'total_sales')), ascending=False)\n",
    "    .head(10)\n",
    ")\n",
    "top_10_platforms_five_years.columns = ['sum']\n",
    "top_10_platforms_five_years"
   ]
  },
  {
   "cell_type": "markdown",
   "metadata": {},
   "source": [
    "We see that some values are different, and some are completely absent. This is due to the fact that platforms sooner or later cease to be supported by the market and the manufacturer, while new platforms capture the market."
   ]
  },
  {
   "cell_type": "markdown",
   "metadata": {},
   "source": [
    "Which platforms are leading in sales? Let's choose a few potentially profitable platforms."
   ]
  },
  {
   "cell_type": "code",
   "execution_count": 32,
   "metadata": {},
   "outputs": [
    {
     "data": {
      "text/html": [
       "<div>\n",
       "<style scoped>\n",
       "    .dataframe tbody tr th:only-of-type {\n",
       "        vertical-align: middle;\n",
       "    }\n",
       "\n",
       "    .dataframe tbody tr th {\n",
       "        vertical-align: top;\n",
       "    }\n",
       "\n",
       "    .dataframe thead th {\n",
       "        text-align: right;\n",
       "    }\n",
       "</style>\n",
       "<table border=\"1\" class=\"dataframe\">\n",
       "  <thead>\n",
       "    <tr style=\"text-align: right;\">\n",
       "      <th></th>\n",
       "      <th></th>\n",
       "      <th>sales</th>\n",
       "    </tr>\n",
       "    <tr>\n",
       "      <th>platform</th>\n",
       "      <th>year_of_release</th>\n",
       "      <th></th>\n",
       "    </tr>\n",
       "  </thead>\n",
       "  <tbody>\n",
       "    <tr>\n",
       "      <th rowspan=\"5\" valign=\"top\">3DS</th>\n",
       "      <th>2012</th>\n",
       "      <td>51.36</td>\n",
       "    </tr>\n",
       "    <tr>\n",
       "      <th>2013</th>\n",
       "      <td>56.57</td>\n",
       "    </tr>\n",
       "    <tr>\n",
       "      <th>2014</th>\n",
       "      <td>43.76</td>\n",
       "    </tr>\n",
       "    <tr>\n",
       "      <th>2015</th>\n",
       "      <td>27.78</td>\n",
       "    </tr>\n",
       "    <tr>\n",
       "      <th>2016</th>\n",
       "      <td>15.14</td>\n",
       "    </tr>\n",
       "    <tr>\n",
       "      <th rowspan=\"2\" valign=\"top\">DS</th>\n",
       "      <th>2012</th>\n",
       "      <td>11.01</td>\n",
       "    </tr>\n",
       "    <tr>\n",
       "      <th>2013</th>\n",
       "      <td>1.54</td>\n",
       "    </tr>\n",
       "    <tr>\n",
       "      <th rowspan=\"3\" valign=\"top\">PC</th>\n",
       "      <th>2012</th>\n",
       "      <td>23.22</td>\n",
       "    </tr>\n",
       "    <tr>\n",
       "      <th>2013</th>\n",
       "      <td>12.38</td>\n",
       "    </tr>\n",
       "    <tr>\n",
       "      <th>2014</th>\n",
       "      <td>13.28</td>\n",
       "    </tr>\n",
       "  </tbody>\n",
       "</table>\n",
       "</div>"
      ],
      "text/plain": [
       "                          sales\n",
       "platform year_of_release       \n",
       "3DS      2012             51.36\n",
       "         2013             56.57\n",
       "         2014             43.76\n",
       "         2015             27.78\n",
       "         2016             15.14\n",
       "DS       2012             11.01\n",
       "         2013              1.54\n",
       "PC       2012             23.22\n",
       "         2013             12.38\n",
       "         2014             13.28"
      ]
     },
     "execution_count": 32,
     "metadata": {},
     "output_type": "execute_result"
    }
   ],
   "source": [
    "# spy = sorted platforms by year\n",
    "# top platform profits by year (last 5 years)\n",
    "spy = (\n",
    "    five_years.query('platform in @top_10_platforms_five_years.index')\n",
    "    .groupby(['platform', 'year_of_release']).agg(sales=('total_sales', 'sum'))\n",
    ")\n",
    "spy.head(10)"
   ]
  },
  {
   "cell_type": "code",
   "execution_count": 33,
   "metadata": {},
   "outputs": [
    {
     "data": {
      "image/png": "[encoded data removed]",
      "text/plain": [
       "<Figure size 1080x360 with 1 Axes>"
      ]
     },
     "metadata": {
      "needs_background": "light"
     },
     "output_type": "display_data"
    }
   ],
   "source": [
    "# distribution by years\n",
    "plt.figure(figsize=(15,5))\n",
    "sns.lineplot(x='year_of_release', y='sales', hue='platform', marker='o', data=spy)\n",
    "plt.show()"
   ]
  },
  {
   "cell_type": "markdown",
   "metadata": {},
   "source": [
    "We see that all platforms have a downward trend. This is most likely due to the smaller number of games released in the last few years. The most profitable and promising platforms so far are PS4 and Xbox One. They are one of the newest and have replaced the PS3 and Xbox 360, respectively (which, as we can see, have dipped a lot since 2013, when their newer counterparts came out). We even see that there are some similarities in graphs between competing platforms. In general, Playstation overtakes Xbox, but given the price of consoles, the average person usually has one or the other. So it's good to have both. Also for a change, we see that it makes sense to add a 3DS console (which replaced the DS). Its sales were generally lower but the downturn was not as sharp and large."
   ]
  },
  {
   "cell_type": "markdown",
   "metadata": {},
   "source": [
    "Let's look at the boxplot for total sales by platform. "
   ]
  },
  {
   "cell_type": "code",
   "execution_count": 34,
   "metadata": {},
   "outputs": [
    {
     "data": {
      "image/png": "[encoded data removed]",
      "text/plain": [
       "<Figure size 1080x720 with 1 Axes>"
      ]
     },
     "metadata": {
      "needs_background": "light"
     },
     "output_type": "display_data"
    }
   ],
   "source": [
    "five_years.boxplot(column='total_sales', by='platform', figsize=(15,10))\n",
    "plt.show()"
   ]
  },
  {
   "cell_type": "markdown",
   "metadata": {},
   "source": [
    "We see that there are a lot of outliers (especially on more profitable platforms). Let's take a closer look at the data."
   ]
  },
  {
   "cell_type": "code",
   "execution_count": 35,
   "metadata": {},
   "outputs": [
    {
     "data": {
      "image/png": "[encoded data removed]",
      "text/plain": [
       "<Figure size 1080x720 with 1 Axes>"
      ]
     },
     "metadata": {
      "needs_background": "light"
     },
     "output_type": "display_data"
    }
   ],
   "source": [
    "# limit the view to the first 2 million\n",
    "five_years.boxplot(column='total_sales', by='platform', figsize=(15,10))\n",
    "plt.ylim(0,2)\n",
    "plt.show()"
   ]
  },
  {
   "cell_type": "markdown",
   "metadata": {},
   "source": [
    "Here we see all the quartiles for each platform. As we can see, platforms that have more sales have more outliers, but in general they have good sales even without outliers. The most excellent sales have PS3, PS4, Wii, WiiU, Xbox 360, Xbox One. In general, their median sales are somewhere in the region of 0.25 million and only the Xbox360 sales are above this value!"
   ]
  },
  {
   "cell_type": "markdown",
   "metadata": {},
   "source": [
    "There are so many games on the platforms that there will always be a few or even \"many\" that will break out into leaders in sales. There are also different price categories of games: exclusives or AAA games for PS4/Xbox One will cost much more than other games (e.g. Indie games)."
   ]
  },
  {
   "cell_type": "markdown",
   "metadata": {},
   "source": [
    "#### Lifespan of platforms"
   ]
  },
  {
   "cell_type": "code",
   "execution_count": 36,
   "metadata": {},
   "outputs": [],
   "source": [
    "# let's find life expectancy of platforms\n",
    "lifespan_all_time = df.pivot_table(index='platform', values='year_of_release', aggfunc=['min', 'max'])\n",
    "lifespan_all_time.columns = ['min', 'max']\n",
    "lifespan_all_time['years'] = lifespan_all_time['max'] - lifespan_all_time['min']"
   ]
  },
  {
   "cell_type": "code",
   "execution_count": 37,
   "metadata": {},
   "outputs": [
    {
     "data": {
      "text/html": [
       "<div>\n",
       "<style scoped>\n",
       "    .dataframe tbody tr th:only-of-type {\n",
       "        vertical-align: middle;\n",
       "    }\n",
       "\n",
       "    .dataframe tbody tr th {\n",
       "        vertical-align: top;\n",
       "    }\n",
       "\n",
       "    .dataframe thead th {\n",
       "        text-align: right;\n",
       "    }\n",
       "</style>\n",
       "<table border=\"1\" class=\"dataframe\">\n",
       "  <thead>\n",
       "    <tr style=\"text-align: right;\">\n",
       "      <th></th>\n",
       "      <th>min</th>\n",
       "      <th>max</th>\n",
       "      <th>years</th>\n",
       "    </tr>\n",
       "    <tr>\n",
       "      <th>platform</th>\n",
       "      <th></th>\n",
       "      <th></th>\n",
       "      <th></th>\n",
       "    </tr>\n",
       "  </thead>\n",
       "  <tbody>\n",
       "    <tr>\n",
       "      <th>XOne</th>\n",
       "      <td>2013</td>\n",
       "      <td>2016</td>\n",
       "      <td>3</td>\n",
       "    </tr>\n",
       "    <tr>\n",
       "      <th>3DS</th>\n",
       "      <td>2011</td>\n",
       "      <td>2016</td>\n",
       "      <td>5</td>\n",
       "    </tr>\n",
       "    <tr>\n",
       "      <th>X360</th>\n",
       "      <td>2005</td>\n",
       "      <td>2016</td>\n",
       "      <td>11</td>\n",
       "    </tr>\n",
       "    <tr>\n",
       "      <th>WiiU</th>\n",
       "      <td>2012</td>\n",
       "      <td>2016</td>\n",
       "      <td>4</td>\n",
       "    </tr>\n",
       "    <tr>\n",
       "      <th>Wii</th>\n",
       "      <td>2006</td>\n",
       "      <td>2016</td>\n",
       "      <td>10</td>\n",
       "    </tr>\n",
       "    <tr>\n",
       "      <th>PSV</th>\n",
       "      <td>2011</td>\n",
       "      <td>2016</td>\n",
       "      <td>5</td>\n",
       "    </tr>\n",
       "    <tr>\n",
       "      <th>PC</th>\n",
       "      <td>1985</td>\n",
       "      <td>2016</td>\n",
       "      <td>31</td>\n",
       "    </tr>\n",
       "    <tr>\n",
       "      <th>PS4</th>\n",
       "      <td>2013</td>\n",
       "      <td>2016</td>\n",
       "      <td>3</td>\n",
       "    </tr>\n",
       "    <tr>\n",
       "      <th>PS3</th>\n",
       "      <td>2006</td>\n",
       "      <td>2016</td>\n",
       "      <td>10</td>\n",
       "    </tr>\n",
       "    <tr>\n",
       "      <th>PSP</th>\n",
       "      <td>2004</td>\n",
       "      <td>2015</td>\n",
       "      <td>11</td>\n",
       "    </tr>\n",
       "  </tbody>\n",
       "</table>\n",
       "</div>"
      ],
      "text/plain": [
       "           min   max  years\n",
       "platform                   \n",
       "XOne      2013  2016      3\n",
       "3DS       2011  2016      5\n",
       "X360      2005  2016     11\n",
       "WiiU      2012  2016      4\n",
       "Wii       2006  2016     10\n",
       "PSV       2011  2016      5\n",
       "PC        1985  2016     31\n",
       "PS4       2013  2016      3\n",
       "PS3       2006  2016     10\n",
       "PSP       2004  2015     11"
      ]
     },
     "execution_count": 37,
     "metadata": {},
     "output_type": "execute_result"
    }
   ],
   "source": [
    "lifespan_all_time.sort_values(by='max', ascending=False).head(10)"
   ]
  },
  {
   "cell_type": "code",
   "execution_count": 38,
   "metadata": {},
   "outputs": [
    {
     "data": {
      "text/html": [
       "<div>\n",
       "<style scoped>\n",
       "    .dataframe tbody tr th:only-of-type {\n",
       "        vertical-align: middle;\n",
       "    }\n",
       "\n",
       "    .dataframe tbody tr th {\n",
       "        vertical-align: top;\n",
       "    }\n",
       "\n",
       "    .dataframe thead th {\n",
       "        text-align: right;\n",
       "    }\n",
       "</style>\n",
       "<table border=\"1\" class=\"dataframe\">\n",
       "  <thead>\n",
       "    <tr style=\"text-align: right;\">\n",
       "      <th></th>\n",
       "      <th>min</th>\n",
       "      <th>max</th>\n",
       "      <th>years</th>\n",
       "    </tr>\n",
       "    <tr>\n",
       "      <th>platform</th>\n",
       "      <th></th>\n",
       "      <th></th>\n",
       "      <th></th>\n",
       "    </tr>\n",
       "  </thead>\n",
       "  <tbody>\n",
       "    <tr>\n",
       "      <th>3DS</th>\n",
       "      <td>2011</td>\n",
       "      <td>2016</td>\n",
       "      <td>5</td>\n",
       "    </tr>\n",
       "    <tr>\n",
       "      <th>PC</th>\n",
       "      <td>1985</td>\n",
       "      <td>2016</td>\n",
       "      <td>31</td>\n",
       "    </tr>\n",
       "    <tr>\n",
       "      <th>PS3</th>\n",
       "      <td>2006</td>\n",
       "      <td>2016</td>\n",
       "      <td>10</td>\n",
       "    </tr>\n",
       "    <tr>\n",
       "      <th>PS4</th>\n",
       "      <td>2013</td>\n",
       "      <td>2016</td>\n",
       "      <td>3</td>\n",
       "    </tr>\n",
       "    <tr>\n",
       "      <th>PSV</th>\n",
       "      <td>2011</td>\n",
       "      <td>2016</td>\n",
       "      <td>5</td>\n",
       "    </tr>\n",
       "    <tr>\n",
       "      <th>Wii</th>\n",
       "      <td>2006</td>\n",
       "      <td>2016</td>\n",
       "      <td>10</td>\n",
       "    </tr>\n",
       "    <tr>\n",
       "      <th>WiiU</th>\n",
       "      <td>2012</td>\n",
       "      <td>2016</td>\n",
       "      <td>4</td>\n",
       "    </tr>\n",
       "    <tr>\n",
       "      <th>X360</th>\n",
       "      <td>2005</td>\n",
       "      <td>2016</td>\n",
       "      <td>11</td>\n",
       "    </tr>\n",
       "    <tr>\n",
       "      <th>XOne</th>\n",
       "      <td>2013</td>\n",
       "      <td>2016</td>\n",
       "      <td>3</td>\n",
       "    </tr>\n",
       "    <tr>\n",
       "      <th>DS</th>\n",
       "      <td>1985</td>\n",
       "      <td>2013</td>\n",
       "      <td>28</td>\n",
       "    </tr>\n",
       "  </tbody>\n",
       "</table>\n",
       "</div>"
      ],
      "text/plain": [
       "           min   max  years\n",
       "platform                   \n",
       "3DS       2011  2016      5\n",
       "PC        1985  2016     31\n",
       "PS3       2006  2016     10\n",
       "PS4       2013  2016      3\n",
       "PSV       2011  2016      5\n",
       "Wii       2006  2016     10\n",
       "WiiU      2012  2016      4\n",
       "X360      2005  2016     11\n",
       "XOne      2013  2016      3\n",
       "DS        1985  2013     28"
      ]
     },
     "execution_count": 38,
     "metadata": {},
     "output_type": "execute_result"
    }
   ],
   "source": [
    "# only our top 10 platforms in the last 5 years\n",
    "lifespan_only_top = lifespan_all_time.query('platform in @top_10_platforms_five_years.index')\n",
    "lifespan_only_top.sort_values(by='max', ascending=False)"
   ]
  },
  {
   "cell_type": "code",
   "execution_count": 39,
   "metadata": {},
   "outputs": [
    {
     "data": {
      "text/plain": [
       "7.5"
      ]
     },
     "execution_count": 39,
     "metadata": {},
     "output_type": "execute_result"
    }
   ],
   "source": [
    "# median lifespan of top platforms\n",
    "lifespan_only_top['years'].median()"
   ]
  },
  {
   "cell_type": "code",
   "execution_count": 40,
   "metadata": {},
   "outputs": [
    {
     "data": {
      "text/plain": [
       "6.0"
      ]
     },
     "execution_count": 40,
     "metadata": {},
     "output_type": "execute_result"
    }
   ],
   "source": [
    "# median lifespan of all platforms\n",
    "lifespan_all_time['years'].median()"
   ]
  },
  {
   "cell_type": "markdown",
   "metadata": {},
   "source": [
    "In the end, we see that the lifespan of platforms is somewhere around 6-8 years. With this we confirm that it is advisable to take data for the last 5 years, since our platforms at most will be at the end of their lifespan in 2017."
   ]
  },
  {
   "cell_type": "markdown",
   "metadata": {},
   "source": [
    "We can also immediately exclude the DS platform since the last DS game was released in 2013."
   ]
  },
  {
   "cell_type": "code",
   "execution_count": 41,
   "metadata": {},
   "outputs": [],
   "source": [
    "# remove DS\n",
    "top_10_platforms_five_years.drop(axis=0, index=['DS'], inplace=True)"
   ]
  },
  {
   "cell_type": "markdown",
   "metadata": {},
   "source": [
    "This is our top platforms"
   ]
  },
  {
   "cell_type": "code",
   "execution_count": 42,
   "metadata": {},
   "outputs": [
    {
     "data": {
      "text/html": [
       "<div>\n",
       "<style scoped>\n",
       "    .dataframe tbody tr th:only-of-type {\n",
       "        vertical-align: middle;\n",
       "    }\n",
       "\n",
       "    .dataframe tbody tr th {\n",
       "        vertical-align: top;\n",
       "    }\n",
       "\n",
       "    .dataframe thead th {\n",
       "        text-align: right;\n",
       "    }\n",
       "</style>\n",
       "<table border=\"1\" class=\"dataframe\">\n",
       "  <thead>\n",
       "    <tr style=\"text-align: right;\">\n",
       "      <th></th>\n",
       "      <th>sum</th>\n",
       "    </tr>\n",
       "    <tr>\n",
       "      <th>platform</th>\n",
       "      <th></th>\n",
       "    </tr>\n",
       "  </thead>\n",
       "  <tbody>\n",
       "    <tr>\n",
       "      <th>PS4</th>\n",
       "      <td>314.14</td>\n",
       "    </tr>\n",
       "    <tr>\n",
       "      <th>PS3</th>\n",
       "      <td>288.78</td>\n",
       "    </tr>\n",
       "    <tr>\n",
       "      <th>X360</th>\n",
       "      <td>236.54</td>\n",
       "    </tr>\n",
       "    <tr>\n",
       "      <th>3DS</th>\n",
       "      <td>194.61</td>\n",
       "    </tr>\n",
       "    <tr>\n",
       "      <th>XOne</th>\n",
       "      <td>159.32</td>\n",
       "    </tr>\n",
       "    <tr>\n",
       "      <th>WiiU</th>\n",
       "      <td>82.19</td>\n",
       "    </tr>\n",
       "    <tr>\n",
       "      <th>PC</th>\n",
       "      <td>62.65</td>\n",
       "    </tr>\n",
       "    <tr>\n",
       "      <th>PSV</th>\n",
       "      <td>49.18</td>\n",
       "    </tr>\n",
       "    <tr>\n",
       "      <th>Wii</th>\n",
       "      <td>35.37</td>\n",
       "    </tr>\n",
       "  </tbody>\n",
       "</table>\n",
       "</div>"
      ],
      "text/plain": [
       "             sum\n",
       "platform        \n",
       "PS4       314.14\n",
       "PS3       288.78\n",
       "X360      236.54\n",
       "3DS       194.61\n",
       "XOne      159.32\n",
       "WiiU       82.19\n",
       "PC         62.65\n",
       "PSV        49.18\n",
       "Wii        35.37"
      ]
     },
     "execution_count": 42,
     "metadata": {},
     "output_type": "execute_result"
    }
   ],
   "source": [
    "top_10_platforms_five_years"
   ]
  },
  {
   "cell_type": "markdown",
   "metadata": {},
   "source": [
    "### Reviews"
   ]
  },
  {
   "cell_type": "markdown",
   "metadata": {},
   "source": [
    "Let's see how the reviews of users and critics affect sales within a popular platform."
   ]
  },
  {
   "cell_type": "markdown",
   "metadata": {},
   "source": [
    "First, let's look at the median and amount of data for the top platforms over five years:"
   ]
  },
  {
   "cell_type": "code",
   "execution_count": 43,
   "metadata": {},
   "outputs": [
    {
     "data": {
      "text/html": [
       "<div>\n",
       "<style scoped>\n",
       "    .dataframe tbody tr th:only-of-type {\n",
       "        vertical-align: middle;\n",
       "    }\n",
       "\n",
       "    .dataframe tbody tr th {\n",
       "        vertical-align: top;\n",
       "    }\n",
       "\n",
       "    .dataframe thead tr th {\n",
       "        text-align: left;\n",
       "    }\n",
       "\n",
       "    .dataframe thead tr:last-of-type th {\n",
       "        text-align: right;\n",
       "    }\n",
       "</style>\n",
       "<table border=\"1\" class=\"dataframe\">\n",
       "  <thead>\n",
       "    <tr>\n",
       "      <th></th>\n",
       "      <th colspan=\"3\" halign=\"left\">median</th>\n",
       "      <th colspan=\"3\" halign=\"left\">count</th>\n",
       "    </tr>\n",
       "    <tr>\n",
       "      <th></th>\n",
       "      <th>critic_score</th>\n",
       "      <th>total_sales</th>\n",
       "      <th>user_score</th>\n",
       "      <th>critic_score</th>\n",
       "      <th>total_sales</th>\n",
       "      <th>user_score</th>\n",
       "    </tr>\n",
       "    <tr>\n",
       "      <th>platform</th>\n",
       "      <th></th>\n",
       "      <th></th>\n",
       "      <th></th>\n",
       "      <th></th>\n",
       "      <th></th>\n",
       "      <th></th>\n",
       "    </tr>\n",
       "  </thead>\n",
       "  <tbody>\n",
       "    <tr>\n",
       "      <th>3DS</th>\n",
       "      <td>71.0</td>\n",
       "      <td>0.11</td>\n",
       "      <td>7.40</td>\n",
       "      <td>104</td>\n",
       "      <td>396</td>\n",
       "      <td>114</td>\n",
       "    </tr>\n",
       "    <tr>\n",
       "      <th>PC</th>\n",
       "      <td>77.5</td>\n",
       "      <td>0.08</td>\n",
       "      <td>6.80</td>\n",
       "      <td>198</td>\n",
       "      <td>250</td>\n",
       "      <td>206</td>\n",
       "    </tr>\n",
       "    <tr>\n",
       "      <th>PS3</th>\n",
       "      <td>74.0</td>\n",
       "      <td>0.20</td>\n",
       "      <td>7.00</td>\n",
       "      <td>213</td>\n",
       "      <td>492</td>\n",
       "      <td>282</td>\n",
       "    </tr>\n",
       "    <tr>\n",
       "      <th>PS4</th>\n",
       "      <td>73.0</td>\n",
       "      <td>0.20</td>\n",
       "      <td>7.00</td>\n",
       "      <td>252</td>\n",
       "      <td>392</td>\n",
       "      <td>257</td>\n",
       "    </tr>\n",
       "    <tr>\n",
       "      <th>PSV</th>\n",
       "      <td>72.0</td>\n",
       "      <td>0.05</td>\n",
       "      <td>7.75</td>\n",
       "      <td>107</td>\n",
       "      <td>411</td>\n",
       "      <td>130</td>\n",
       "    </tr>\n",
       "    <tr>\n",
       "      <th>Wii</th>\n",
       "      <td>74.0</td>\n",
       "      <td>0.18</td>\n",
       "      <td>6.80</td>\n",
       "      <td>5</td>\n",
       "      <td>54</td>\n",
       "      <td>17</td>\n",
       "    </tr>\n",
       "    <tr>\n",
       "      <th>WiiU</th>\n",
       "      <td>73.5</td>\n",
       "      <td>0.22</td>\n",
       "      <td>7.10</td>\n",
       "      <td>90</td>\n",
       "      <td>147</td>\n",
       "      <td>100</td>\n",
       "    </tr>\n",
       "    <tr>\n",
       "      <th>X360</th>\n",
       "      <td>74.0</td>\n",
       "      <td>0.31</td>\n",
       "      <td>6.50</td>\n",
       "      <td>171</td>\n",
       "      <td>292</td>\n",
       "      <td>235</td>\n",
       "    </tr>\n",
       "    <tr>\n",
       "      <th>XOne</th>\n",
       "      <td>76.0</td>\n",
       "      <td>0.22</td>\n",
       "      <td>6.80</td>\n",
       "      <td>169</td>\n",
       "      <td>247</td>\n",
       "      <td>182</td>\n",
       "    </tr>\n",
       "  </tbody>\n",
       "</table>\n",
       "</div>"
      ],
      "text/plain": [
       "               median                               count              \\\n",
       "         critic_score total_sales user_score critic_score total_sales   \n",
       "platform                                                                \n",
       "3DS              71.0        0.11       7.40          104         396   \n",
       "PC               77.5        0.08       6.80          198         250   \n",
       "PS3              74.0        0.20       7.00          213         492   \n",
       "PS4              73.0        0.20       7.00          252         392   \n",
       "PSV              72.0        0.05       7.75          107         411   \n",
       "Wii              74.0        0.18       6.80            5          54   \n",
       "WiiU             73.5        0.22       7.10           90         147   \n",
       "X360             74.0        0.31       6.50          171         292   \n",
       "XOne             76.0        0.22       6.80          169         247   \n",
       "\n",
       "                     \n",
       "         user_score  \n",
       "platform             \n",
       "3DS             114  \n",
       "PC              206  \n",
       "PS3             282  \n",
       "PS4             257  \n",
       "PSV             130  \n",
       "Wii              17  \n",
       "WiiU            100  \n",
       "X360            235  \n",
       "XOne            182  "
      ]
     },
     "execution_count": 43,
     "metadata": {},
     "output_type": "execute_result"
    }
   ],
   "source": [
    "(\n",
    "    five_years\n",
    "    .query('platform in @top_10_platforms_five_years.index')\n",
    "    .pivot_table(index='platform', \n",
    "                 values=['critic_score', 'user_score', 'total_sales'], \n",
    "                 aggfunc=['median', 'count'])\n",
    ")"
   ]
  },
  {
   "cell_type": "markdown",
   "metadata": {},
   "source": [
    "Let's make a scatterplot and calculate the correlation between reviews and sales:"
   ]
  },
  {
   "cell_type": "code",
   "execution_count": 44,
   "metadata": {},
   "outputs": [
    {
     "data": {
      "image/png": "[encoded data removed]",
      "text/plain": [
       "<Figure size 720x360 with 1 Axes>"
      ]
     },
     "metadata": {
      "needs_background": "light"
     },
     "output_type": "display_data"
    },
    {
     "data": {
      "image/png": "[encoded data removed]",
      "text/plain": [
       "<Figure size 720x360 with 1 Axes>"
      ]
     },
     "metadata": {
      "needs_background": "light"
     },
     "output_type": "display_data"
    },
    {
     "data": {
      "image/png": "[encoded data removed]",
      "text/plain": [
       "<Figure size 720x360 with 1 Axes>"
      ]
     },
     "metadata": {
      "needs_background": "light"
     },
     "output_type": "display_data"
    },
    {
     "data": {
      "image/png": "[encoded data removed]",
      "text/plain": [
       "<Figure size 720x360 with 1 Axes>"
      ]
     },
     "metadata": {
      "needs_background": "light"
     },
     "output_type": "display_data"
    },
    {
     "data": {
      "image/png": "[encoded data removed]",
      "text/plain": [
       "<Figure size 720x360 with 1 Axes>"
      ]
     },
     "metadata": {
      "needs_background": "light"
     },
     "output_type": "display_data"
    },
    {
     "data": {
      "image/png": "[encoded data removed]",
      "text/plain": [
       "<Figure size 720x360 with 1 Axes>"
      ]
     },
     "metadata": {
      "needs_background": "light"
     },
     "output_type": "display_data"
    },
    {
     "data": {
      "image/png": "[encoded data removed]",
      "text/plain": [
       "<Figure size 720x360 with 1 Axes>"
      ]
     },
     "metadata": {
      "needs_background": "light"
     },
     "output_type": "display_data"
    },
    {
     "data": {
      "image/png": "[encoded data removed]",
      "text/plain": [
       "<Figure size 720x360 with 1 Axes>"
      ]
     },
     "metadata": {
      "needs_background": "light"
     },
     "output_type": "display_data"
    },
    {
     "data": {
      "image/png": "[encoded data removed]",
      "text/plain": [
       "<Figure size 720x360 with 1 Axes>"
      ]
     },
     "metadata": {
      "needs_background": "light"
     },
     "output_type": "display_data"
    }
   ],
   "source": [
    "for platform in top_10_platforms_five_years.index:\n",
    "    five_years.query('platform == @platform').plot(kind='scatter', x='critic_score', y='total_sales', alpha=0.3, figsize=(10,5))\n",
    "    plt.title(platform)\n",
    "    plt.show()"
   ]
  },
  {
   "cell_type": "markdown",
   "metadata": {},
   "source": [
    "Some platforms appear to have sales spikes when critical reviews are high. Is there a correlation?"
   ]
  },
  {
   "cell_type": "code",
   "execution_count": 45,
   "metadata": {},
   "outputs": [
    {
     "data": {
      "text/plain": [
       "0.3086"
      ]
     },
     "execution_count": 45,
     "metadata": {},
     "output_type": "execute_result"
    }
   ],
   "source": [
    "# general correlaion\n",
    "round(five_years['total_sales'].corr(five_years['critic_score']), 4)"
   ]
  },
  {
   "cell_type": "markdown",
   "metadata": {},
   "source": [
    "Not much in general, let's find correlations for each platform"
   ]
  },
  {
   "cell_type": "code",
   "execution_count": 46,
   "metadata": {},
   "outputs": [],
   "source": [
    "# a function that will find the correlation for each platform and the passed parameter (a score)\n",
    "def find_correlation_per_platform(score):\n",
    "    correlation = []\n",
    "    for platform in top_10_platforms_five_years.index:\n",
    "        total_sales = five_years.loc[five_years['platform'] == platform,'total_sales']\n",
    "        meta_score = five_years.loc[five_years['platform'] == platform, score]\n",
    "        corr = round(total_sales.corr(meta_score), 4)\n",
    "        correlation.append([platform, corr])\n",
    "    corr_df = pd.DataFrame(correlation, columns=['platform', 'corr'])\n",
    "    return corr_df"
   ]
  },
  {
   "cell_type": "code",
   "execution_count": 47,
   "metadata": {},
   "outputs": [
    {
     "data": {
      "text/html": [
       "<div>\n",
       "<style scoped>\n",
       "    .dataframe tbody tr th:only-of-type {\n",
       "        vertical-align: middle;\n",
       "    }\n",
       "\n",
       "    .dataframe tbody tr th {\n",
       "        vertical-align: top;\n",
       "    }\n",
       "\n",
       "    .dataframe thead th {\n",
       "        text-align: right;\n",
       "    }\n",
       "</style>\n",
       "<table border=\"1\" class=\"dataframe\">\n",
       "  <thead>\n",
       "    <tr style=\"text-align: right;\">\n",
       "      <th></th>\n",
       "      <th>platform</th>\n",
       "      <th>corr</th>\n",
       "    </tr>\n",
       "  </thead>\n",
       "  <tbody>\n",
       "    <tr>\n",
       "      <th>4</th>\n",
       "      <td>XOne</td>\n",
       "      <td>0.4170</td>\n",
       "    </tr>\n",
       "    <tr>\n",
       "      <th>0</th>\n",
       "      <td>PS4</td>\n",
       "      <td>0.4066</td>\n",
       "    </tr>\n",
       "    <tr>\n",
       "      <th>2</th>\n",
       "      <td>X360</td>\n",
       "      <td>0.3606</td>\n",
       "    </tr>\n",
       "    <tr>\n",
       "      <th>5</th>\n",
       "      <td>WiiU</td>\n",
       "      <td>0.3484</td>\n",
       "    </tr>\n",
       "    <tr>\n",
       "      <th>1</th>\n",
       "      <td>PS3</td>\n",
       "      <td>0.3342</td>\n",
       "    </tr>\n",
       "    <tr>\n",
       "      <th>3</th>\n",
       "      <td>3DS</td>\n",
       "      <td>0.3208</td>\n",
       "    </tr>\n",
       "    <tr>\n",
       "      <th>6</th>\n",
       "      <td>PC</td>\n",
       "      <td>0.2372</td>\n",
       "    </tr>\n",
       "    <tr>\n",
       "      <th>7</th>\n",
       "      <td>PSV</td>\n",
       "      <td>0.0945</td>\n",
       "    </tr>\n",
       "    <tr>\n",
       "      <th>8</th>\n",
       "      <td>Wii</td>\n",
       "      <td>-0.4243</td>\n",
       "    </tr>\n",
       "  </tbody>\n",
       "</table>\n",
       "</div>"
      ],
      "text/plain": [
       "  platform    corr\n",
       "4     XOne  0.4170\n",
       "0      PS4  0.4066\n",
       "2     X360  0.3606\n",
       "5     WiiU  0.3484\n",
       "1      PS3  0.3342\n",
       "3      3DS  0.3208\n",
       "6       PC  0.2372\n",
       "7      PSV  0.0945\n",
       "8      Wii -0.4243"
      ]
     },
     "execution_count": 47,
     "metadata": {},
     "output_type": "execute_result"
    }
   ],
   "source": [
    "# critic score correlation\n",
    "critic_correlation = find_correlation_per_platform('critic_score')\n",
    "critic_correlation.sort_values(by='corr', ascending=False)"
   ]
  },
  {
   "cell_type": "markdown",
   "metadata": {},
   "source": [
    "We see that overall, that for individual values, the correlation is weak (no value exceeds 0.5). Critics often rate a game that hasn't been released yet (which means it may still be in development with bugs), and may also be interested in giving a game a certain rating to continue getting exclusive access to games in advance. It's a tricky business."
   ]
  },
  {
   "cell_type": "markdown",
   "metadata": {},
   "source": [
    "What about user scores?"
   ]
  },
  {
   "cell_type": "code",
   "execution_count": 48,
   "metadata": {},
   "outputs": [
    {
     "data": {
      "image/png": "[encoded data removed]",
      "text/plain": [
       "<Figure size 720x360 with 1 Axes>"
      ]
     },
     "metadata": {
      "needs_background": "light"
     },
     "output_type": "display_data"
    },
    {
     "data": {
      "image/png": "[encoded data removed]",
      "text/plain": [
       "<Figure size 720x360 with 1 Axes>"
      ]
     },
     "metadata": {
      "needs_background": "light"
     },
     "output_type": "display_data"
    },
    {
     "data": {
      "image/png": "[encoded data removed]",
      "text/plain": [
       "<Figure size 720x360 with 1 Axes>"
      ]
     },
     "metadata": {
      "needs_background": "light"
     },
     "output_type": "display_data"
    },
    {
     "data": {
      "image/png": "[encoded data removed]",
      "text/plain": [
       "<Figure size 720x360 with 1 Axes>"
      ]
     },
     "metadata": {
      "needs_background": "light"
     },
     "output_type": "display_data"
    },
    {
     "data": {
      "image/png": "[encoded data removed]",
      "text/plain": [
       "<Figure size 720x360 with 1 Axes>"
      ]
     },
     "metadata": {
      "needs_background": "light"
     },
     "output_type": "display_data"
    },
    {
     "data": {
      "image/png": "[encoded data removed]",
      "text/plain": [
       "<Figure size 720x360 with 1 Axes>"
      ]
     },
     "metadata": {
      "needs_background": "light"
     },
     "output_type": "display_data"
    },
    {
     "data": {
      "image/png": "[encoded data removed]",
      "text/plain": [
       "<Figure size 720x360 with 1 Axes>"
      ]
     },
     "metadata": {
      "needs_background": "light"
     },
     "output_type": "display_data"
    },
    {
     "data": {
      "image/png": "[encoded data removed]",
      "text/plain": [
       "<Figure size 720x360 with 1 Axes>"
      ]
     },
     "metadata": {
      "needs_background": "light"
     },
     "output_type": "display_data"
    },
    {
     "data": {
      "image/png": "[encoded data removed]",
      "text/plain": [
       "<Figure size 720x360 with 1 Axes>"
      ]
     },
     "metadata": {
      "needs_background": "light"
     },
     "output_type": "display_data"
    }
   ],
   "source": [
    "for platform in top_10_platforms_five_years.index:\n",
    "    five_years.query('platform == @platform').plot(kind='scatter', x='user_score', y='total_sales', alpha=0.3, figsize=(10,5))\n",
    "    plt.title(platform)\n",
    "    plt.show()"
   ]
  },
  {
   "cell_type": "markdown",
   "metadata": {},
   "source": [
    "We see more dispersion from the bottom along all user ratings, as if the rating of others does not affect sales. Will the numbers support this theory?"
   ]
  },
  {
   "cell_type": "code",
   "execution_count": 49,
   "metadata": {},
   "outputs": [
    {
     "data": {
      "text/plain": [
       "0.0"
      ]
     },
     "execution_count": 49,
     "metadata": {},
     "output_type": "execute_result"
    }
   ],
   "source": [
    "# general correlation\n",
    "round(five_years['total_sales'].corr(five_years['user_score']), 2)"
   ]
  },
  {
   "cell_type": "markdown",
   "metadata": {},
   "source": [
    "Correlation is so low that it's almost zero. "
   ]
  },
  {
   "cell_type": "code",
   "execution_count": 50,
   "metadata": {},
   "outputs": [
    {
     "data": {
      "text/html": [
       "<div>\n",
       "<style scoped>\n",
       "    .dataframe tbody tr th:only-of-type {\n",
       "        vertical-align: middle;\n",
       "    }\n",
       "\n",
       "    .dataframe tbody tr th {\n",
       "        vertical-align: top;\n",
       "    }\n",
       "\n",
       "    .dataframe thead th {\n",
       "        text-align: right;\n",
       "    }\n",
       "</style>\n",
       "<table border=\"1\" class=\"dataframe\">\n",
       "  <thead>\n",
       "    <tr style=\"text-align: right;\">\n",
       "      <th></th>\n",
       "      <th>platform</th>\n",
       "      <th>corr</th>\n",
       "    </tr>\n",
       "  </thead>\n",
       "  <tbody>\n",
       "    <tr>\n",
       "      <th>5</th>\n",
       "      <td>WiiU</td>\n",
       "      <td>0.4002</td>\n",
       "    </tr>\n",
       "    <tr>\n",
       "      <th>8</th>\n",
       "      <td>Wii</td>\n",
       "      <td>0.2962</td>\n",
       "    </tr>\n",
       "    <tr>\n",
       "      <th>3</th>\n",
       "      <td>3DS</td>\n",
       "      <td>0.1976</td>\n",
       "    </tr>\n",
       "    <tr>\n",
       "      <th>2</th>\n",
       "      <td>X360</td>\n",
       "      <td>0.0062</td>\n",
       "    </tr>\n",
       "    <tr>\n",
       "      <th>7</th>\n",
       "      <td>PSV</td>\n",
       "      <td>-0.0043</td>\n",
       "    </tr>\n",
       "    <tr>\n",
       "      <th>1</th>\n",
       "      <td>PS3</td>\n",
       "      <td>-0.0062</td>\n",
       "    </tr>\n",
       "    <tr>\n",
       "      <th>0</th>\n",
       "      <td>PS4</td>\n",
       "      <td>-0.0320</td>\n",
       "    </tr>\n",
       "    <tr>\n",
       "      <th>4</th>\n",
       "      <td>XOne</td>\n",
       "      <td>-0.0689</td>\n",
       "    </tr>\n",
       "    <tr>\n",
       "      <th>6</th>\n",
       "      <td>PC</td>\n",
       "      <td>-0.1219</td>\n",
       "    </tr>\n",
       "  </tbody>\n",
       "</table>\n",
       "</div>"
      ],
      "text/plain": [
       "  platform    corr\n",
       "5     WiiU  0.4002\n",
       "8      Wii  0.2962\n",
       "3      3DS  0.1976\n",
       "2     X360  0.0062\n",
       "7      PSV -0.0043\n",
       "1      PS3 -0.0062\n",
       "0      PS4 -0.0320\n",
       "4     XOne -0.0689\n",
       "6       PC -0.1219"
      ]
     },
     "execution_count": 50,
     "metadata": {},
     "output_type": "execute_result"
    }
   ],
   "source": [
    "# correlation by platform\n",
    "user_correlation = find_correlation_per_platform('user_score')\n",
    "user_correlation.sort_values(by='corr', ascending=False)"
   ]
  },
  {
   "cell_type": "markdown",
   "metadata": {},
   "source": [
    "The ratings of other users generally do not have much influence on the purchase. We see the biggest correlation in WiiU and that one is still weak. As for the critic scores, perhaps it's because most of them usually have early access to the game and therefore some potential buyers may base their decision on that."
   ]
  },
  {
   "cell_type": "markdown",
   "metadata": {},
   "source": [
    "### Genres"
   ]
  },
  {
   "cell_type": "markdown",
   "metadata": {},
   "source": [
    "Let's look at the distribution of games by genre. What can we learn about the most profitable genres? Do genres with high and low sales stand out?"
   ]
  },
  {
   "cell_type": "code",
   "execution_count": 51,
   "metadata": {},
   "outputs": [
    {
     "data": {
      "text/html": [
       "<div>\n",
       "<style scoped>\n",
       "    .dataframe tbody tr th:only-of-type {\n",
       "        vertical-align: middle;\n",
       "    }\n",
       "\n",
       "    .dataframe tbody tr th {\n",
       "        vertical-align: top;\n",
       "    }\n",
       "\n",
       "    .dataframe thead tr th {\n",
       "        text-align: left;\n",
       "    }\n",
       "\n",
       "    .dataframe thead tr:last-of-type th {\n",
       "        text-align: right;\n",
       "    }\n",
       "</style>\n",
       "<table border=\"1\" class=\"dataframe\">\n",
       "  <thead>\n",
       "    <tr>\n",
       "      <th></th>\n",
       "      <th>sum</th>\n",
       "      <th>count</th>\n",
       "      <th>mean</th>\n",
       "      <th>median</th>\n",
       "    </tr>\n",
       "    <tr>\n",
       "      <th></th>\n",
       "      <th>total_sales</th>\n",
       "      <th>total_sales</th>\n",
       "      <th>total_sales</th>\n",
       "      <th>total_sales</th>\n",
       "    </tr>\n",
       "    <tr>\n",
       "      <th>genre</th>\n",
       "      <th></th>\n",
       "      <th></th>\n",
       "      <th></th>\n",
       "      <th></th>\n",
       "    </tr>\n",
       "  </thead>\n",
       "  <tbody>\n",
       "    <tr>\n",
       "      <th>Action</th>\n",
       "      <td>441.12</td>\n",
       "      <td>1031</td>\n",
       "      <td>0.427856</td>\n",
       "      <td>0.120</td>\n",
       "    </tr>\n",
       "    <tr>\n",
       "      <th>Adventure</th>\n",
       "      <td>29.43</td>\n",
       "      <td>302</td>\n",
       "      <td>0.097450</td>\n",
       "      <td>0.030</td>\n",
       "    </tr>\n",
       "    <tr>\n",
       "      <th>Fighting</th>\n",
       "      <td>44.49</td>\n",
       "      <td>109</td>\n",
       "      <td>0.408165</td>\n",
       "      <td>0.130</td>\n",
       "    </tr>\n",
       "    <tr>\n",
       "      <th>Misc</th>\n",
       "      <td>85.04</td>\n",
       "      <td>192</td>\n",
       "      <td>0.442917</td>\n",
       "      <td>0.120</td>\n",
       "    </tr>\n",
       "    <tr>\n",
       "      <th>Platform</th>\n",
       "      <td>61.00</td>\n",
       "      <td>85</td>\n",
       "      <td>0.717647</td>\n",
       "      <td>0.210</td>\n",
       "    </tr>\n",
       "    <tr>\n",
       "      <th>Puzzle</th>\n",
       "      <td>4.89</td>\n",
       "      <td>28</td>\n",
       "      <td>0.174643</td>\n",
       "      <td>0.045</td>\n",
       "    </tr>\n",
       "    <tr>\n",
       "      <th>Racing</th>\n",
       "      <td>53.50</td>\n",
       "      <td>115</td>\n",
       "      <td>0.465217</td>\n",
       "      <td>0.140</td>\n",
       "    </tr>\n",
       "    <tr>\n",
       "      <th>Role-Playing</th>\n",
       "      <td>192.80</td>\n",
       "      <td>370</td>\n",
       "      <td>0.521081</td>\n",
       "      <td>0.140</td>\n",
       "    </tr>\n",
       "    <tr>\n",
       "      <th>Shooter</th>\n",
       "      <td>304.73</td>\n",
       "      <td>235</td>\n",
       "      <td>1.296723</td>\n",
       "      <td>0.440</td>\n",
       "    </tr>\n",
       "    <tr>\n",
       "      <th>Simulation</th>\n",
       "      <td>35.12</td>\n",
       "      <td>80</td>\n",
       "      <td>0.439000</td>\n",
       "      <td>0.120</td>\n",
       "    </tr>\n",
       "    <tr>\n",
       "      <th>Sports</th>\n",
       "      <td>181.06</td>\n",
       "      <td>267</td>\n",
       "      <td>0.678127</td>\n",
       "      <td>0.240</td>\n",
       "    </tr>\n",
       "    <tr>\n",
       "      <th>Strategy</th>\n",
       "      <td>13.34</td>\n",
       "      <td>71</td>\n",
       "      <td>0.187887</td>\n",
       "      <td>0.080</td>\n",
       "    </tr>\n",
       "  </tbody>\n",
       "</table>\n",
       "</div>"
      ],
      "text/plain": [
       "                     sum       count        mean      median\n",
       "             total_sales total_sales total_sales total_sales\n",
       "genre                                                       \n",
       "Action            441.12        1031    0.427856       0.120\n",
       "Adventure          29.43         302    0.097450       0.030\n",
       "Fighting           44.49         109    0.408165       0.130\n",
       "Misc               85.04         192    0.442917       0.120\n",
       "Platform           61.00          85    0.717647       0.210\n",
       "Puzzle              4.89          28    0.174643       0.045\n",
       "Racing             53.50         115    0.465217       0.140\n",
       "Role-Playing      192.80         370    0.521081       0.140\n",
       "Shooter           304.73         235    1.296723       0.440\n",
       "Simulation         35.12          80    0.439000       0.120\n",
       "Sports            181.06         267    0.678127       0.240\n",
       "Strategy           13.34          71    0.187887       0.080"
      ]
     },
     "execution_count": 51,
     "metadata": {},
     "output_type": "execute_result"
    }
   ],
   "source": [
    "five_years.pivot_table(index='genre', values='total_sales', aggfunc=['sum', 'count', 'mean', 'median'])"
   ]
  },
  {
   "cell_type": "markdown",
   "metadata": {},
   "source": [
    "We see that the top selling games in terms of quantity and profit are in Action genre. Next up is Shooter, Role-Playing, and Sports. The most unpopular genre in terms of quantity is Puzzle, Strategy, and Adventure.\n",
    "<br><br>\n",
    "Overall high sales of Action genre with a rather low sales median (sales per game) can be explained by rather high number of released games.\n",
    "<br><br>\n",
    "As we can see Shooter, Sports and Platform have the best median sales. Considering that Shooter and Sports have a good number of games (235 and 267), it's not as many as in Action, which has a median sales of just 0.120."
   ]
  },
  {
   "cell_type": "markdown",
   "metadata": {},
   "source": [
    "## Users in different regions"
   ]
  },
  {
   "cell_type": "markdown",
   "metadata": {},
   "source": [
    "Let's look at how users differ in each regions."
   ]
  },
  {
   "cell_type": "markdown",
   "metadata": {},
   "source": [
    "### Most popular platforms (top-5)"
   ]
  },
  {
   "cell_type": "markdown",
   "metadata": {},
   "source": [
    "Let's find the top 5 platforms for the last 5 years for each region"
   ]
  },
  {
   "cell_type": "code",
   "execution_count": 52,
   "metadata": {},
   "outputs": [],
   "source": [
    "# a function that will give us the top 5 by the passed parameter in the context of the region (based on sales)\n",
    "def find_top_five(column):\n",
    "    compare = pd.DataFrame()\n",
    "    \n",
    "    compare_na = (\n",
    "        five_years.pivot_table(index=column, values='na_sales', aggfunc=['sum'])\n",
    "        .sort_values(by=('sum', 'na_sales'), ascending=False)\n",
    "        .head()\n",
    "    )\n",
    "    compare_na.columns = ['sum']\n",
    "    compare_eu = (\n",
    "        five_years.pivot_table(index=column, values='eu_sales', aggfunc=['sum'])\n",
    "        .sort_values(by=('sum', 'eu_sales'), ascending=False)\n",
    "        .head()\n",
    "    )\n",
    "    compare_eu.columns = ['sum']\n",
    "    compare_jp = (\n",
    "        five_years.pivot_table(index=column, values='jp_sales', aggfunc=['sum'])\n",
    "        .sort_values(by=('sum', 'jp_sales'), ascending=False)\n",
    "        .head()\n",
    "    )\n",
    "    compare_jp.columns = ['sum']\n",
    "    \n",
    "    compare['na_platform'] = compare_na.index\n",
    "    compare['na_sales'] = compare_na['sum'].reset_index(drop=True)\n",
    "    compare['eu_platform'] = compare_eu.index\n",
    "    compare['eu_sales'] = compare_eu['sum'].reset_index(drop=True)\n",
    "    compare['jp_platform'] = compare_jp.index\n",
    "    compare['jp_sales'] = compare_jp['sum'].reset_index(drop=True)\n",
    "    \n",
    "    return compare"
   ]
  },
  {
   "cell_type": "code",
   "execution_count": 53,
   "metadata": {
    "scrolled": true
   },
   "outputs": [
    {
     "data": {
      "text/html": [
       "<div>\n",
       "<style scoped>\n",
       "    .dataframe tbody tr th:only-of-type {\n",
       "        vertical-align: middle;\n",
       "    }\n",
       "\n",
       "    .dataframe tbody tr th {\n",
       "        vertical-align: top;\n",
       "    }\n",
       "\n",
       "    .dataframe thead th {\n",
       "        text-align: right;\n",
       "    }\n",
       "</style>\n",
       "<table border=\"1\" class=\"dataframe\">\n",
       "  <thead>\n",
       "    <tr style=\"text-align: right;\">\n",
       "      <th></th>\n",
       "      <th>na_platform</th>\n",
       "      <th>na_sales</th>\n",
       "      <th>eu_platform</th>\n",
       "      <th>eu_sales</th>\n",
       "      <th>jp_platform</th>\n",
       "      <th>jp_sales</th>\n",
       "    </tr>\n",
       "  </thead>\n",
       "  <tbody>\n",
       "    <tr>\n",
       "      <th>0</th>\n",
       "      <td>X360</td>\n",
       "      <td>140.05</td>\n",
       "      <td>PS4</td>\n",
       "      <td>141.09</td>\n",
       "      <td>3DS</td>\n",
       "      <td>87.79</td>\n",
       "    </tr>\n",
       "    <tr>\n",
       "      <th>1</th>\n",
       "      <td>PS4</td>\n",
       "      <td>108.74</td>\n",
       "      <td>PS3</td>\n",
       "      <td>106.85</td>\n",
       "      <td>PS3</td>\n",
       "      <td>35.29</td>\n",
       "    </tr>\n",
       "    <tr>\n",
       "      <th>2</th>\n",
       "      <td>PS3</td>\n",
       "      <td>103.38</td>\n",
       "      <td>X360</td>\n",
       "      <td>74.52</td>\n",
       "      <td>PSV</td>\n",
       "      <td>21.04</td>\n",
       "    </tr>\n",
       "    <tr>\n",
       "      <th>3</th>\n",
       "      <td>XOne</td>\n",
       "      <td>93.12</td>\n",
       "      <td>XOne</td>\n",
       "      <td>51.59</td>\n",
       "      <td>PS4</td>\n",
       "      <td>15.96</td>\n",
       "    </tr>\n",
       "    <tr>\n",
       "      <th>4</th>\n",
       "      <td>3DS</td>\n",
       "      <td>55.31</td>\n",
       "      <td>3DS</td>\n",
       "      <td>42.64</td>\n",
       "      <td>WiiU</td>\n",
       "      <td>13.01</td>\n",
       "    </tr>\n",
       "  </tbody>\n",
       "</table>\n",
       "</div>"
      ],
      "text/plain": [
       "  na_platform  na_sales eu_platform  eu_sales jp_platform  jp_sales\n",
       "0        X360    140.05         PS4    141.09         3DS     87.79\n",
       "1         PS4    108.74         PS3    106.85         PS3     35.29\n",
       "2         PS3    103.38        X360     74.52         PSV     21.04\n",
       "3        XOne     93.12        XOne     51.59         PS4     15.96\n",
       "4         3DS     55.31         3DS     42.64        WiiU     13.01"
      ]
     },
     "execution_count": 53,
     "metadata": {},
     "output_type": "execute_result"
    }
   ],
   "source": [
    "compare_platform = find_top_five('platform')\n",
    "compare_platform.head()"
   ]
  },
  {
   "cell_type": "markdown",
   "metadata": {},
   "source": [
    "In Japan the platforms of Japanese companies are in the lead, there is nothing surprising here. Europe and North America have more similar tastes, with the PS3, PS4, and X360 being the top three consoles."
   ]
  },
  {
   "cell_type": "markdown",
   "metadata": {},
   "source": [
    "### Most popular genres (top-5)"
   ]
  },
  {
   "cell_type": "code",
   "execution_count": 54,
   "metadata": {},
   "outputs": [
    {
     "data": {
      "text/html": [
       "<div>\n",
       "<style scoped>\n",
       "    .dataframe tbody tr th:only-of-type {\n",
       "        vertical-align: middle;\n",
       "    }\n",
       "\n",
       "    .dataframe tbody tr th {\n",
       "        vertical-align: top;\n",
       "    }\n",
       "\n",
       "    .dataframe thead th {\n",
       "        text-align: right;\n",
       "    }\n",
       "</style>\n",
       "<table border=\"1\" class=\"dataframe\">\n",
       "  <thead>\n",
       "    <tr style=\"text-align: right;\">\n",
       "      <th></th>\n",
       "      <th>na_platform</th>\n",
       "      <th>na_sales</th>\n",
       "      <th>eu_platform</th>\n",
       "      <th>eu_sales</th>\n",
       "      <th>jp_platform</th>\n",
       "      <th>jp_sales</th>\n",
       "    </tr>\n",
       "  </thead>\n",
       "  <tbody>\n",
       "    <tr>\n",
       "      <th>0</th>\n",
       "      <td>Action</td>\n",
       "      <td>177.84</td>\n",
       "      <td>Action</td>\n",
       "      <td>159.34</td>\n",
       "      <td>Role-Playing</td>\n",
       "      <td>65.44</td>\n",
       "    </tr>\n",
       "    <tr>\n",
       "      <th>1</th>\n",
       "      <td>Shooter</td>\n",
       "      <td>144.77</td>\n",
       "      <td>Shooter</td>\n",
       "      <td>113.47</td>\n",
       "      <td>Action</td>\n",
       "      <td>52.80</td>\n",
       "    </tr>\n",
       "    <tr>\n",
       "      <th>2</th>\n",
       "      <td>Sports</td>\n",
       "      <td>81.53</td>\n",
       "      <td>Sports</td>\n",
       "      <td>69.08</td>\n",
       "      <td>Misc</td>\n",
       "      <td>12.86</td>\n",
       "    </tr>\n",
       "    <tr>\n",
       "      <th>3</th>\n",
       "      <td>Role-Playing</td>\n",
       "      <td>64.00</td>\n",
       "      <td>Role-Playing</td>\n",
       "      <td>48.53</td>\n",
       "      <td>Simulation</td>\n",
       "      <td>10.41</td>\n",
       "    </tr>\n",
       "    <tr>\n",
       "      <th>4</th>\n",
       "      <td>Misc</td>\n",
       "      <td>38.19</td>\n",
       "      <td>Racing</td>\n",
       "      <td>27.29</td>\n",
       "      <td>Fighting</td>\n",
       "      <td>9.44</td>\n",
       "    </tr>\n",
       "  </tbody>\n",
       "</table>\n",
       "</div>"
      ],
      "text/plain": [
       "    na_platform  na_sales   eu_platform  eu_sales   jp_platform  jp_sales\n",
       "0        Action    177.84        Action    159.34  Role-Playing     65.44\n",
       "1       Shooter    144.77       Shooter    113.47        Action     52.80\n",
       "2        Sports     81.53        Sports     69.08          Misc     12.86\n",
       "3  Role-Playing     64.00  Role-Playing     48.53    Simulation     10.41\n",
       "4          Misc     38.19        Racing     27.29      Fighting      9.44"
      ]
     },
     "execution_count": 54,
     "metadata": {},
     "output_type": "execute_result"
    }
   ],
   "source": [
    "compare_genre = find_top_five('genre')\n",
    "compare_genre.head()"
   ]
  },
  {
   "cell_type": "markdown",
   "metadata": {},
   "source": [
    "Japan stands out, again. Their most popular genre is Role-Playing and the second is Action.\n",
    "<br><br>\n",
    "Europe and NA are almost the same, but it's worth noting that despite everything, the amount of sales in each category in America is higher. It's worth remembering!"
   ]
  },
  {
   "cell_type": "markdown",
   "metadata": {},
   "source": [
    "### Does the ESRB rating affect sales in a particular region?"
   ]
  },
  {
   "cell_type": "code",
   "execution_count": 55,
   "metadata": {},
   "outputs": [
    {
     "data": {
      "text/html": [
       "<div>\n",
       "<style scoped>\n",
       "    .dataframe tbody tr th:only-of-type {\n",
       "        vertical-align: middle;\n",
       "    }\n",
       "\n",
       "    .dataframe tbody tr th {\n",
       "        vertical-align: top;\n",
       "    }\n",
       "\n",
       "    .dataframe thead th {\n",
       "        text-align: right;\n",
       "    }\n",
       "</style>\n",
       "<table border=\"1\" class=\"dataframe\">\n",
       "  <thead>\n",
       "    <tr style=\"text-align: right;\">\n",
       "      <th></th>\n",
       "      <th>na_platform</th>\n",
       "      <th>na_sales</th>\n",
       "      <th>eu_platform</th>\n",
       "      <th>eu_sales</th>\n",
       "      <th>jp_platform</th>\n",
       "      <th>jp_sales</th>\n",
       "    </tr>\n",
       "  </thead>\n",
       "  <tbody>\n",
       "    <tr>\n",
       "      <th>0</th>\n",
       "      <td>M</td>\n",
       "      <td>231.57</td>\n",
       "      <td>M</td>\n",
       "      <td>193.96</td>\n",
       "      <td>undefined</td>\n",
       "      <td>108.84</td>\n",
       "    </tr>\n",
       "    <tr>\n",
       "      <th>1</th>\n",
       "      <td>E</td>\n",
       "      <td>114.37</td>\n",
       "      <td>E</td>\n",
       "      <td>113.02</td>\n",
       "      <td>E</td>\n",
       "      <td>28.33</td>\n",
       "    </tr>\n",
       "    <tr>\n",
       "      <th>2</th>\n",
       "      <td>undefined</td>\n",
       "      <td>103.31</td>\n",
       "      <td>undefined</td>\n",
       "      <td>91.50</td>\n",
       "      <td>T</td>\n",
       "      <td>26.02</td>\n",
       "    </tr>\n",
       "    <tr>\n",
       "      <th>3</th>\n",
       "      <td>E10+</td>\n",
       "      <td>75.70</td>\n",
       "      <td>E10+</td>\n",
       "      <td>55.37</td>\n",
       "      <td>M</td>\n",
       "      <td>21.20</td>\n",
       "    </tr>\n",
       "    <tr>\n",
       "      <th>4</th>\n",
       "      <td>T</td>\n",
       "      <td>66.02</td>\n",
       "      <td>T</td>\n",
       "      <td>52.96</td>\n",
       "      <td>E10+</td>\n",
       "      <td>8.19</td>\n",
       "    </tr>\n",
       "  </tbody>\n",
       "</table>\n",
       "</div>"
      ],
      "text/plain": [
       "  na_platform  na_sales eu_platform  eu_sales jp_platform  jp_sales\n",
       "0           M    231.57           M    193.96   undefined    108.84\n",
       "1           E    114.37           E    113.02           E     28.33\n",
       "2   undefined    103.31   undefined     91.50           T     26.02\n",
       "3        E10+     75.70        E10+     55.37           M     21.20\n",
       "4           T     66.02           T     52.96        E10+      8.19"
      ]
     },
     "execution_count": 55,
     "metadata": {},
     "output_type": "execute_result"
    }
   ],
   "source": [
    "compare_rating = find_top_five('rating')\n",
    "compare_rating.head()"
   ]
  },
  {
   "cell_type": "markdown",
   "metadata": {},
   "source": [
    "Here we see that the most popular rating in Europe and NA is M. We can then assume that one of the target audiences there is an adult. In second place is E. Moreover, we see that in NA the M rating exceeds the E rating by more than 100 million, while in Europe the difference is less - only 80 million.\n",
    "<br><br>\n",
    "In Japan, the M rating is much less popular, games for a wider audience with an E and T rating are more in demand and in general the ratings are more equal among themselves (the difference between E and T is 2 million, and M is 5-7 million lower).\n",
    "<br><br>\n",
    "We also see \"undefined\" ranked third in NA and Europe, and in Japan it's number one by a huge margin over number two E (by as much as 80 million)."
   ]
  },
  {
   "cell_type": "markdown",
   "metadata": {},
   "source": [
    "Let's look at sales in the regions separately. It appears or is North America very fond of buying games?"
   ]
  },
  {
   "cell_type": "code",
   "execution_count": 56,
   "metadata": {},
   "outputs": [
    {
     "data": {
      "text/plain": [
       "590.97"
      ]
     },
     "execution_count": 56,
     "metadata": {},
     "output_type": "execute_result"
    }
   ],
   "source": [
    "five_years['na_sales'].sum()"
   ]
  },
  {
   "cell_type": "code",
   "execution_count": 57,
   "metadata": {},
   "outputs": [
    {
     "data": {
      "text/plain": [
       "506.81000000000006"
      ]
     },
     "execution_count": 57,
     "metadata": {},
     "output_type": "execute_result"
    }
   ],
   "source": [
    "five_years['eu_sales'].sum()"
   ]
  },
  {
   "cell_type": "code",
   "execution_count": 58,
   "metadata": {},
   "outputs": [
    {
     "data": {
      "text/plain": [
       "192.58"
      ]
     },
     "execution_count": 58,
     "metadata": {},
     "output_type": "execute_result"
    }
   ],
   "source": [
    "five_years['jp_sales'].sum()"
   ]
  },
  {
   "cell_type": "markdown",
   "metadata": {},
   "source": [
    "It's correct. North America is very attractive market indeed."
   ]
  },
  {
   "cell_type": "markdown",
   "metadata": {},
   "source": [
    "In general, in this section, we see that Europeans and Americans are largely similar in their tastes in games, and Japan is a separate world with its own rules. The most profitable among Americans and Europeans are M and E ratings, while in Japan the most popular rating is unknown to us.\n",
    "<br><br>\n",
    "To answer our question, in Europe and North America, the rating has a significant impact on sales, but not in Japan in general."
   ]
  },
  {
   "cell_type": "markdown",
   "metadata": {},
   "source": [
    "## Hypothesis"
   ]
  },
  {
   "cell_type": "markdown",
   "metadata": {},
   "source": [
    "### The average user ratings of the Xbox One and PC platforms are the same"
   ]
  },
  {
   "cell_type": "markdown",
   "metadata": {},
   "source": [
    "H_0 = The average user ratings of the Xbox One and PC platforms are the same\n",
    "<br>\n",
    "H_1 = The average user ratings of the Xbox One and PC platforms are different"
   ]
  },
  {
   "cell_type": "code",
   "execution_count": 69,
   "metadata": {},
   "outputs": [
    {
     "name": "stdout",
     "output_type": "stream",
     "text": [
      "0.5489537965134912\n",
      "Could not reject the null hypothesis\n"
     ]
    }
   ],
   "source": [
    "user_score_xone = five_years[(~five_years['user_score'].isna()) & (five_years['platform'] == 'XOne')]['user_score']\n",
    "user_score_pc = five_years[(~five_years['user_score'].isna()) & (five_years['platform'] == 'PC')]['user_score']\n",
    "\n",
    "results = st.ttest_ind(user_score_xone, user_score_pc, equal_var=False)\n",
    "\n",
    "alpha = .05\n",
    "\n",
    "# display p-value \n",
    "if results.pvalue < alpha:\n",
    "    print(results.pvalue)\n",
    "    print('Reject the null hypothesis')\n",
    "else:\n",
    "    print(results.pvalue)\n",
    "    print('Could not reject the null hypothesis')"
   ]
  },
  {
   "cell_type": "markdown",
   "metadata": {},
   "source": [
    "We may see that the opinions of users on Xbox One and PC may not differ so much."
   ]
  },
  {
   "cell_type": "markdown",
   "metadata": {},
   "source": [
    "### Average user ratings for the Action and Sports genres are different"
   ]
  },
  {
   "cell_type": "markdown",
   "metadata": {},
   "source": [
    "H_0 = Average user ratings for the Action and Sports genres are the same\n",
    "<br>\n",
    "H_1 = Average user ratings for the Action and Sports genres are different"
   ]
  },
  {
   "cell_type": "code",
   "execution_count": 70,
   "metadata": {},
   "outputs": [
    {
     "name": "stdout",
     "output_type": "stream",
     "text": [
      "5.98945806646755e-20\n",
      "Reject the null hypothesis\n"
     ]
    }
   ],
   "source": [
    "user_score_action = five_years[(~five_years['user_score'].isna()) & (five_years['genre'] == 'Action')]['user_score']\n",
    "user_score_sports = five_years[(~five_years['user_score'].isna()) & (five_years['genre'] == 'Sports')]['user_score']\n",
    "\n",
    "results = st.ttest_ind(user_score_action, user_score_sports, equal_var=False)\n",
    "\n",
    "alpha = .05\n",
    "\n",
    "# display p-value \n",
    "if results.pvalue < alpha:\n",
    "    print(results.pvalue)\n",
    "    print('Reject the null hypothesis')\n",
    "else:\n",
    "    print(results.pvalue)\n",
    "    print('Could not reject the null hypothesis')"
   ]
  },
  {
   "cell_type": "markdown",
   "metadata": {},
   "source": [
    "## Conclusion"
   ]
  },
  {
   "cell_type": "markdown",
   "metadata": {},
   "source": [
    "The purpose of our research was to understand which games should we choose and plan advertising campaigns accordingly.\n",
    "<br><br>\n",
    "After we cleaned the data from empty values, we analyzed the most relevant values for our task.\n",
    "<br><br>\n",
    "In the beginning, we decided that we would only look at data from 2012 (last 5 years) as we saw that after 2011 global game sales fell (almost by half) and because the average duration of platforms is approximately 6- 7 years.\n",
    "<br><br>\n",
    "Next, we determined which platforms are the most profitable: PS4, PS3, Xbox 360, 3DS. Sales of each console were above 194 million.\n",
    "<br><br>\n",
    "We also found that the opinion of critics or other users has little effect on game sales. Critics have more weight, but it is generally not decisive.\n",
    "<br><br>\n",
    "Throughout this study, we observed that the tastes of Japanese buyers are significantly different from those of Europeans and Americans. While the two largest markets - Europe and North America are very similar to each other.\n",
    "<br><br>\n",
    "While a lot of games come out in the Action genre, the most stable profits are seen in Shooter and Sports genres.\n",
    "<br><br>\n",
    "For Europe and North America:\n",
    "<li>Platforms: PS3, PS4, Xbox360, Xbox One</li>\n",
    "<li>Genres: Shooter, Sports, Action</li>\n",
    "<li>Ratings: M, E</li>\n",
    "<br>\n",
    "For Japan:\n",
    "<li>Platforms: 3DS, PS3, PSV, PSP</li>\n",
    "<li>Genres: Role-Playing, Action, Fighting, Platform</li>\n",
    "<li>Ratings: особых предпочтений не выявлено</li>"
   ]
  }
 ],
 "metadata": {
  "ExecuteTimeLog": [
   {
    "duration": 1226,
    "start_time": "2022-10-18T16:11:54.444Z"
   },
   {
    "duration": 195,
    "start_time": "2022-10-18T16:12:17.766Z"
   },
   {
    "duration": 21,
    "start_time": "2022-10-18T16:12:22.755Z"
   },
   {
    "duration": 16,
    "start_time": "2022-10-18T16:12:31.822Z"
   },
   {
    "duration": 66,
    "start_time": "2022-10-18T16:12:42.822Z"
   },
   {
    "duration": 17,
    "start_time": "2022-10-18T16:19:17.690Z"
   },
   {
    "duration": 4,
    "start_time": "2022-10-18T16:19:20.278Z"
   },
   {
    "duration": 4,
    "start_time": "2022-10-18T16:19:21.137Z"
   },
   {
    "duration": 14,
    "start_time": "2022-10-18T16:19:35.245Z"
   },
   {
    "duration": 3,
    "start_time": "2022-10-18T16:20:39.782Z"
   },
   {
    "duration": 4,
    "start_time": "2022-10-18T16:20:44.764Z"
   },
   {
    "duration": 111,
    "start_time": "2022-10-18T16:22:11.750Z"
   },
   {
    "duration": 5,
    "start_time": "2022-10-18T16:22:36.179Z"
   },
   {
    "duration": 9,
    "start_time": "2022-10-18T16:24:53.061Z"
   },
   {
    "duration": 5,
    "start_time": "2022-10-18T16:25:00.878Z"
   },
   {
    "duration": 7,
    "start_time": "2022-10-18T16:25:06.549Z"
   },
   {
    "duration": 59,
    "start_time": "2022-10-18T16:26:42.815Z"
   },
   {
    "duration": 3,
    "start_time": "2022-10-18T16:26:48.883Z"
   },
   {
    "duration": 5,
    "start_time": "2022-10-18T16:26:49.273Z"
   },
   {
    "duration": 5,
    "start_time": "2022-10-18T16:27:04.781Z"
   },
   {
    "duration": 6,
    "start_time": "2022-10-18T16:27:05.374Z"
   },
   {
    "duration": 2,
    "start_time": "2022-10-18T16:27:38.309Z"
   },
   {
    "duration": 51,
    "start_time": "2022-10-18T16:27:42.643Z"
   },
   {
    "duration": 3,
    "start_time": "2022-10-18T16:27:45.651Z"
   },
   {
    "duration": 5,
    "start_time": "2022-10-18T16:28:03.949Z"
   },
   {
    "duration": 6,
    "start_time": "2022-10-18T16:28:04.570Z"
   },
   {
    "duration": 8,
    "start_time": "2022-10-18T16:28:15.036Z"
   },
   {
    "duration": 6,
    "start_time": "2022-10-18T16:28:30.826Z"
   },
   {
    "duration": 10,
    "start_time": "2022-10-18T16:28:39.417Z"
   },
   {
    "duration": 5,
    "start_time": "2022-10-18T16:29:46.213Z"
   },
   {
    "duration": 10,
    "start_time": "2022-10-18T16:29:47.139Z"
   },
   {
    "duration": 15,
    "start_time": "2022-10-18T16:29:53.006Z"
   },
   {
    "duration": 6,
    "start_time": "2022-10-18T16:30:16.578Z"
   },
   {
    "duration": 95,
    "start_time": "2022-10-18T16:30:33.011Z"
   },
   {
    "duration": 6,
    "start_time": "2022-10-18T16:31:04.734Z"
   },
   {
    "duration": 6,
    "start_time": "2022-10-18T16:31:07.643Z"
   },
   {
    "duration": 7,
    "start_time": "2022-10-18T16:31:18.817Z"
   },
   {
    "duration": 145,
    "start_time": "2022-10-18T16:31:43.070Z"
   },
   {
    "duration": 5,
    "start_time": "2022-10-18T16:31:51.421Z"
   },
   {
    "duration": 8,
    "start_time": "2022-10-18T16:32:20.977Z"
   },
   {
    "duration": 9,
    "start_time": "2022-10-18T16:32:23.840Z"
   },
   {
    "duration": 14,
    "start_time": "2022-10-18T16:32:38.059Z"
   },
   {
    "duration": 12,
    "start_time": "2022-10-18T16:32:41.213Z"
   },
   {
    "duration": 7,
    "start_time": "2022-10-18T16:34:33.169Z"
   },
   {
    "duration": 15,
    "start_time": "2022-10-18T16:34:48.206Z"
   },
   {
    "duration": 5,
    "start_time": "2022-10-18T16:35:58.854Z"
   },
   {
    "duration": 16,
    "start_time": "2022-10-18T16:35:59.385Z"
   },
   {
    "duration": 11,
    "start_time": "2022-10-18T16:37:03.597Z"
   },
   {
    "duration": 16,
    "start_time": "2022-10-18T16:37:18.606Z"
   },
   {
    "duration": 563,
    "start_time": "2022-10-18T16:40:45.010Z"
   },
   {
    "duration": 549,
    "start_time": "2022-10-18T16:40:54.764Z"
   },
   {
    "duration": 1029,
    "start_time": "2022-10-18T16:40:59.678Z"
   },
   {
    "duration": 14,
    "start_time": "2022-10-18T16:42:42.621Z"
   },
   {
    "duration": 13,
    "start_time": "2022-10-18T16:43:06.157Z"
   },
   {
    "duration": 1328,
    "start_time": "2022-10-18T16:43:29.399Z"
   },
   {
    "duration": 35,
    "start_time": "2022-10-18T16:44:53.834Z"
   },
   {
    "duration": 12,
    "start_time": "2022-10-18T16:45:14.620Z"
   },
   {
    "duration": 28,
    "start_time": "2022-10-18T16:45:35.241Z"
   },
   {
    "duration": 35,
    "start_time": "2022-10-18T16:45:50.877Z"
   },
   {
    "duration": 35,
    "start_time": "2022-10-18T16:46:17.156Z"
   },
   {
    "duration": 31,
    "start_time": "2022-10-18T16:46:23.533Z"
   },
   {
    "duration": 23,
    "start_time": "2022-10-18T16:47:15.065Z"
   },
   {
    "duration": 36,
    "start_time": "2022-10-18T16:48:27.823Z"
   },
   {
    "duration": 28,
    "start_time": "2022-10-18T16:48:51.768Z"
   },
   {
    "duration": 74,
    "start_time": "2022-10-18T16:49:36.347Z"
   },
   {
    "duration": 72,
    "start_time": "2022-10-18T16:49:56.155Z"
   },
   {
    "duration": 22,
    "start_time": "2022-10-18T16:50:06.932Z"
   },
   {
    "duration": 30,
    "start_time": "2022-10-18T16:50:38.096Z"
   },
   {
    "duration": 26,
    "start_time": "2022-10-18T16:50:42.326Z"
   },
   {
    "duration": 7,
    "start_time": "2022-10-18T16:51:20.687Z"
   },
   {
    "duration": 13,
    "start_time": "2022-10-18T16:51:30.081Z"
   },
   {
    "duration": 7,
    "start_time": "2022-10-18T16:52:37.334Z"
   },
   {
    "duration": 3,
    "start_time": "2022-10-18T16:53:00.420Z"
   },
   {
    "duration": 22,
    "start_time": "2022-10-18T16:53:01.391Z"
   },
   {
    "duration": 28,
    "start_time": "2022-10-18T16:53:53.414Z"
   },
   {
    "duration": 27,
    "start_time": "2022-10-18T16:54:09.097Z"
   },
   {
    "duration": 29,
    "start_time": "2022-10-18T16:54:20.523Z"
   },
   {
    "duration": 4,
    "start_time": "2022-10-18T16:54:23.805Z"
   },
   {
    "duration": 30,
    "start_time": "2022-10-18T16:54:24.589Z"
   },
   {
    "duration": 29,
    "start_time": "2022-10-18T16:54:30.484Z"
   },
   {
    "duration": 28,
    "start_time": "2022-10-18T16:54:48.707Z"
   },
   {
    "duration": 22,
    "start_time": "2022-10-18T16:55:08.033Z"
   },
   {
    "duration": 20,
    "start_time": "2022-10-18T16:55:54.912Z"
   },
   {
    "duration": 14,
    "start_time": "2022-10-18T17:00:07.709Z"
   },
   {
    "duration": 2,
    "start_time": "2022-10-18T17:00:46.524Z"
   },
   {
    "duration": 5,
    "start_time": "2022-10-18T17:01:36.176Z"
   },
   {
    "duration": 15,
    "start_time": "2022-10-18T17:01:42.065Z"
   },
   {
    "duration": 25,
    "start_time": "2022-10-18T17:06:20.140Z"
   },
   {
    "duration": 20,
    "start_time": "2022-10-18T17:06:33.769Z"
   },
   {
    "duration": 25,
    "start_time": "2022-10-18T17:06:56.015Z"
   },
   {
    "duration": 22,
    "start_time": "2022-10-18T17:07:11.358Z"
   },
   {
    "duration": 1129,
    "start_time": "2022-10-18T17:07:26.425Z"
   },
   {
    "duration": 51,
    "start_time": "2022-10-18T17:07:27.556Z"
   },
   {
    "duration": 20,
    "start_time": "2022-10-18T17:07:27.609Z"
   },
   {
    "duration": 14,
    "start_time": "2022-10-18T17:07:27.631Z"
   },
   {
    "duration": 68,
    "start_time": "2022-10-18T17:07:27.647Z"
   },
   {
    "duration": 768,
    "start_time": "2022-10-18T17:07:27.717Z"
   },
   {
    "duration": 9,
    "start_time": "2022-10-18T17:07:28.487Z"
   },
   {
    "duration": 6,
    "start_time": "2022-10-18T17:07:28.498Z"
   },
   {
    "duration": 10,
    "start_time": "2022-10-18T17:07:28.506Z"
   },
   {
    "duration": 5,
    "start_time": "2022-10-18T17:07:28.518Z"
   },
   {
    "duration": 18,
    "start_time": "2022-10-18T17:07:28.525Z"
   },
   {
    "duration": 11,
    "start_time": "2022-10-18T17:07:28.545Z"
   },
   {
    "duration": 49,
    "start_time": "2022-10-18T17:07:28.558Z"
   },
   {
    "duration": 20,
    "start_time": "2022-10-18T17:07:28.610Z"
   },
   {
    "duration": 33,
    "start_time": "2022-10-18T17:07:28.631Z"
   },
   {
    "duration": 37,
    "start_time": "2022-10-18T17:07:28.665Z"
   },
   {
    "duration": 6,
    "start_time": "2022-10-18T17:07:28.704Z"
   },
   {
    "duration": 25,
    "start_time": "2022-10-18T17:07:28.711Z"
   },
   {
    "duration": 14,
    "start_time": "2022-10-18T17:07:28.738Z"
   },
   {
    "duration": 6,
    "start_time": "2022-10-18T17:07:28.754Z"
   },
   {
    "duration": 43,
    "start_time": "2022-10-18T17:07:28.761Z"
   },
   {
    "duration": 6,
    "start_time": "2022-10-18T17:08:20.331Z"
   },
   {
    "duration": 22,
    "start_time": "2022-10-18T17:08:21.111Z"
   },
   {
    "duration": 17,
    "start_time": "2022-10-18T17:08:30.560Z"
   },
   {
    "duration": 20,
    "start_time": "2022-10-18T17:08:36.752Z"
   },
   {
    "duration": 1076,
    "start_time": "2022-10-18T17:08:40.670Z"
   },
   {
    "duration": 49,
    "start_time": "2022-10-18T17:08:41.748Z"
   },
   {
    "duration": 20,
    "start_time": "2022-10-18T17:08:41.799Z"
   },
   {
    "duration": 14,
    "start_time": "2022-10-18T17:08:41.820Z"
   },
   {
    "duration": 70,
    "start_time": "2022-10-18T17:08:41.837Z"
   },
   {
    "duration": 733,
    "start_time": "2022-10-18T17:08:41.908Z"
   },
   {
    "duration": 4,
    "start_time": "2022-10-18T17:08:42.643Z"
   },
   {
    "duration": 17,
    "start_time": "2022-10-18T17:08:42.649Z"
   },
   {
    "duration": 18,
    "start_time": "2022-10-18T17:08:42.668Z"
   },
   {
    "duration": 23,
    "start_time": "2022-10-18T17:08:42.687Z"
   },
   {
    "duration": 27,
    "start_time": "2022-10-18T17:08:42.712Z"
   },
   {
    "duration": 19,
    "start_time": "2022-10-18T17:08:42.741Z"
   },
   {
    "duration": 17,
    "start_time": "2022-10-18T17:08:42.761Z"
   },
   {
    "duration": 11,
    "start_time": "2022-10-18T17:08:42.781Z"
   },
   {
    "duration": 44,
    "start_time": "2022-10-18T17:08:42.793Z"
   },
   {
    "duration": 30,
    "start_time": "2022-10-18T17:08:42.839Z"
   },
   {
    "duration": 6,
    "start_time": "2022-10-18T17:08:42.871Z"
   },
   {
    "duration": 42,
    "start_time": "2022-10-18T17:08:42.879Z"
   },
   {
    "duration": 18,
    "start_time": "2022-10-18T17:08:42.923Z"
   },
   {
    "duration": 9,
    "start_time": "2022-10-18T17:08:42.943Z"
   },
   {
    "duration": 19,
    "start_time": "2022-10-18T17:08:42.954Z"
   },
   {
    "duration": 119,
    "start_time": "2022-10-18T17:10:27.309Z"
   },
   {
    "duration": 165,
    "start_time": "2022-10-18T17:11:20.438Z"
   },
   {
    "duration": 244,
    "start_time": "2022-10-18T17:11:44.148Z"
   },
   {
    "duration": 244,
    "start_time": "2022-10-18T17:11:50.799Z"
   },
   {
    "duration": 183,
    "start_time": "2022-10-18T17:11:57.387Z"
   },
   {
    "duration": 185,
    "start_time": "2022-10-18T17:12:03.327Z"
   },
   {
    "duration": 252,
    "start_time": "2022-10-18T17:12:09.152Z"
   },
   {
    "duration": 194,
    "start_time": "2022-10-18T17:12:16.003Z"
   },
   {
    "duration": 190,
    "start_time": "2022-10-18T17:12:22.323Z"
   },
   {
    "duration": 187,
    "start_time": "2022-10-18T17:12:32.667Z"
   },
   {
    "duration": 9,
    "start_time": "2022-10-18T17:14:06.376Z"
   },
   {
    "duration": 9,
    "start_time": "2022-10-18T17:14:15.378Z"
   },
   {
    "duration": 25,
    "start_time": "2022-10-18T17:14:24.613Z"
   },
   {
    "duration": 7,
    "start_time": "2022-10-18T17:14:35.956Z"
   },
   {
    "duration": 5,
    "start_time": "2022-10-18T17:15:40.221Z"
   },
   {
    "duration": 6,
    "start_time": "2022-10-18T17:15:51.220Z"
   },
   {
    "duration": 7,
    "start_time": "2022-10-18T17:16:06.293Z"
   },
   {
    "duration": 17,
    "start_time": "2022-10-18T17:19:52.668Z"
   },
   {
    "duration": 112,
    "start_time": "2022-10-18T17:21:05.191Z"
   },
   {
    "duration": 19,
    "start_time": "2022-10-18T17:21:29.655Z"
   },
   {
    "duration": 19,
    "start_time": "2022-10-18T17:21:36.221Z"
   },
   {
    "duration": 21,
    "start_time": "2022-10-18T17:22:09.828Z"
   },
   {
    "duration": 18,
    "start_time": "2022-10-18T17:22:15.001Z"
   },
   {
    "duration": 9,
    "start_time": "2022-10-18T17:23:37.239Z"
   },
   {
    "duration": 8,
    "start_time": "2022-10-18T17:23:45.276Z"
   },
   {
    "duration": 18,
    "start_time": "2022-10-18T17:24:11.092Z"
   },
   {
    "duration": 17,
    "start_time": "2022-10-18T17:24:46.088Z"
   },
   {
    "duration": 16,
    "start_time": "2022-10-18T17:24:55.161Z"
   },
   {
    "duration": 18,
    "start_time": "2022-10-18T17:25:00.181Z"
   },
   {
    "duration": 21,
    "start_time": "2022-10-18T17:25:11.767Z"
   },
   {
    "duration": 19,
    "start_time": "2022-10-18T17:25:31.576Z"
   },
   {
    "duration": 17,
    "start_time": "2022-10-18T17:26:18.572Z"
   },
   {
    "duration": 16,
    "start_time": "2022-10-18T17:26:33.751Z"
   },
   {
    "duration": 25,
    "start_time": "2022-10-18T17:32:46.245Z"
   },
   {
    "duration": 27,
    "start_time": "2022-10-18T17:33:29.924Z"
   },
   {
    "duration": 19,
    "start_time": "2022-10-18T17:35:09.931Z"
   },
   {
    "duration": 148,
    "start_time": "2022-10-18T17:35:29.352Z"
   },
   {
    "duration": 20,
    "start_time": "2022-10-18T17:36:41.857Z"
   },
   {
    "duration": 143,
    "start_time": "2022-10-18T17:36:58.208Z"
   },
   {
    "duration": 150,
    "start_time": "2022-10-18T17:37:52.431Z"
   },
   {
    "duration": 149,
    "start_time": "2022-10-18T17:38:08.639Z"
   },
   {
    "duration": 136,
    "start_time": "2022-10-18T17:38:17.428Z"
   },
   {
    "duration": 145,
    "start_time": "2022-10-18T17:38:35.423Z"
   },
   {
    "duration": 160,
    "start_time": "2022-10-18T17:38:48.398Z"
   },
   {
    "duration": 314,
    "start_time": "2022-10-18T17:39:51.314Z"
   },
   {
    "duration": 5,
    "start_time": "2022-10-18T17:41:52.184Z"
   },
   {
    "duration": 18,
    "start_time": "2022-10-18T17:42:50.227Z"
   },
   {
    "duration": 22,
    "start_time": "2022-10-18T17:43:20.637Z"
   },
   {
    "duration": 9,
    "start_time": "2022-10-18T17:43:54.833Z"
   },
   {
    "duration": 11,
    "start_time": "2022-10-18T17:43:59.695Z"
   },
   {
    "duration": 139,
    "start_time": "2022-10-18T17:44:00.735Z"
   },
   {
    "duration": 10,
    "start_time": "2022-10-18T17:45:47.439Z"
   },
   {
    "duration": 21,
    "start_time": "2022-10-18T17:46:01.699Z"
   },
   {
    "duration": 10,
    "start_time": "2022-10-18T17:46:09.179Z"
   },
   {
    "duration": 143,
    "start_time": "2022-10-18T17:46:26.268Z"
   },
   {
    "duration": 136,
    "start_time": "2022-10-18T17:46:41.422Z"
   },
   {
    "duration": 818,
    "start_time": "2022-10-18T17:48:12.431Z"
   },
   {
    "duration": 1803,
    "start_time": "2022-10-18T17:49:25.541Z"
   },
   {
    "duration": 1182,
    "start_time": "2022-10-18T17:49:42.927Z"
   },
   {
    "duration": 1166,
    "start_time": "2022-10-18T17:49:57.758Z"
   },
   {
    "duration": 1299,
    "start_time": "2022-10-18T17:50:27.979Z"
   },
   {
    "duration": 15,
    "start_time": "2022-10-18T17:50:33.877Z"
   },
   {
    "duration": 15,
    "start_time": "2022-10-18T17:50:46.403Z"
   },
   {
    "duration": 5,
    "start_time": "2022-10-18T17:50:53.245Z"
   },
   {
    "duration": 19,
    "start_time": "2022-10-18T17:51:47.125Z"
   },
   {
    "duration": 25,
    "start_time": "2022-10-18T17:51:59.871Z"
   },
   {
    "duration": 329,
    "start_time": "2022-10-18T17:52:03.421Z"
   },
   {
    "duration": 164,
    "start_time": "2022-10-18T17:52:19.607Z"
   },
   {
    "duration": 348,
    "start_time": "2022-10-18T17:53:55.027Z"
   },
   {
    "duration": 345,
    "start_time": "2022-10-18T17:53:59.872Z"
   },
   {
    "duration": 312,
    "start_time": "2022-10-18T17:54:37.257Z"
   },
   {
    "duration": 153,
    "start_time": "2022-10-18T17:54:55.042Z"
   },
   {
    "duration": 41,
    "start_time": "2022-10-18T17:58:57.298Z"
   },
   {
    "duration": 31,
    "start_time": "2022-10-18T18:00:02.114Z"
   },
   {
    "duration": 25,
    "start_time": "2022-10-18T18:00:38.759Z"
   },
   {
    "duration": 40,
    "start_time": "2022-10-18T18:00:43.064Z"
   },
   {
    "duration": 3,
    "start_time": "2022-10-18T18:00:59.408Z"
   },
   {
    "duration": 11,
    "start_time": "2022-10-18T18:01:04.661Z"
   },
   {
    "duration": 14,
    "start_time": "2022-10-18T18:01:37.608Z"
   },
   {
    "duration": 7,
    "start_time": "2022-10-18T18:02:51.400Z"
   },
   {
    "duration": 12,
    "start_time": "2022-10-18T18:02:55.045Z"
   },
   {
    "duration": 5,
    "start_time": "2022-10-18T18:04:01.284Z"
   },
   {
    "duration": 6,
    "start_time": "2022-10-18T18:08:14.453Z"
   },
   {
    "duration": 19,
    "start_time": "2022-10-18T18:08:22.287Z"
   },
   {
    "duration": 18,
    "start_time": "2022-10-18T18:08:55.971Z"
   },
   {
    "duration": 17,
    "start_time": "2022-10-18T18:09:30.368Z"
   },
   {
    "duration": 24,
    "start_time": "2022-10-18T18:10:17.422Z"
   },
   {
    "duration": 364,
    "start_time": "2022-10-18T18:10:24.954Z"
   },
   {
    "duration": 32,
    "start_time": "2022-10-18T18:10:47.689Z"
   },
   {
    "duration": 342,
    "start_time": "2022-10-18T18:10:50.090Z"
   },
   {
    "duration": 12,
    "start_time": "2022-10-18T18:12:27.983Z"
   },
   {
    "duration": 487,
    "start_time": "2022-10-18T18:12:35.126Z"
   },
   {
    "duration": 13,
    "start_time": "2022-10-18T18:13:13.818Z"
   },
   {
    "duration": 335,
    "start_time": "2022-10-18T18:13:14.379Z"
   },
   {
    "duration": 3,
    "start_time": "2022-10-18T18:15:57.453Z"
   },
   {
    "duration": 1232,
    "start_time": "2022-10-18T18:16:50.772Z"
   },
   {
    "duration": 52,
    "start_time": "2022-10-18T18:16:52.010Z"
   },
   {
    "duration": 21,
    "start_time": "2022-10-18T18:16:52.064Z"
   },
   {
    "duration": 22,
    "start_time": "2022-10-18T18:16:52.087Z"
   },
   {
    "duration": 59,
    "start_time": "2022-10-18T18:16:52.114Z"
   },
   {
    "duration": 863,
    "start_time": "2022-10-18T18:16:52.176Z"
   },
   {
    "duration": 4,
    "start_time": "2022-10-18T18:16:53.042Z"
   },
   {
    "duration": 8,
    "start_time": "2022-10-18T18:16:53.048Z"
   },
   {
    "duration": 14,
    "start_time": "2022-10-18T18:16:53.058Z"
   },
   {
    "duration": 29,
    "start_time": "2022-10-18T18:16:53.074Z"
   },
   {
    "duration": 29,
    "start_time": "2022-10-18T18:16:53.104Z"
   },
   {
    "duration": 12,
    "start_time": "2022-10-18T18:16:53.135Z"
   },
   {
    "duration": 19,
    "start_time": "2022-10-18T18:16:53.148Z"
   },
   {
    "duration": 35,
    "start_time": "2022-10-18T18:16:53.170Z"
   },
   {
    "duration": 41,
    "start_time": "2022-10-18T18:16:53.209Z"
   },
   {
    "duration": 20,
    "start_time": "2022-10-18T18:16:53.252Z"
   },
   {
    "duration": 29,
    "start_time": "2022-10-18T18:16:53.274Z"
   },
   {
    "duration": 27,
    "start_time": "2022-10-18T18:16:53.304Z"
   },
   {
    "duration": 16,
    "start_time": "2022-10-18T18:16:53.334Z"
   },
   {
    "duration": 5,
    "start_time": "2022-10-18T18:16:53.352Z"
   },
   {
    "duration": 36,
    "start_time": "2022-10-18T18:16:53.360Z"
   },
   {
    "duration": 199,
    "start_time": "2022-10-18T18:16:53.398Z"
   },
   {
    "duration": 12,
    "start_time": "2022-10-18T18:16:53.607Z"
   },
   {
    "duration": 25,
    "start_time": "2022-10-18T18:16:53.621Z"
   },
   {
    "duration": 24,
    "start_time": "2022-10-18T18:16:53.649Z"
   },
   {
    "duration": 39,
    "start_time": "2022-10-18T18:16:53.675Z"
   },
   {
    "duration": 34,
    "start_time": "2022-10-18T18:16:53.717Z"
   },
   {
    "duration": 432,
    "start_time": "2022-10-18T18:16:53.753Z"
   },
   {
    "duration": 180,
    "start_time": "2022-10-18T18:16:54.187Z"
   },
   {
    "duration": 46,
    "start_time": "2022-10-18T18:16:54.369Z"
   },
   {
    "duration": 4,
    "start_time": "2022-10-18T18:16:54.417Z"
   },
   {
    "duration": 25,
    "start_time": "2022-10-18T18:16:54.423Z"
   },
   {
    "duration": 18,
    "start_time": "2022-10-18T18:16:54.450Z"
   },
   {
    "duration": 30,
    "start_time": "2022-10-18T18:16:54.470Z"
   },
   {
    "duration": 37,
    "start_time": "2022-10-18T18:16:54.501Z"
   },
   {
    "duration": 2,
    "start_time": "2022-10-18T18:16:54.540Z"
   },
   {
    "duration": 19,
    "start_time": "2022-10-18T18:16:54.544Z"
   },
   {
    "duration": 109,
    "start_time": "2022-10-18T18:16:54.565Z"
   },
   {
    "duration": 376,
    "start_time": "2022-10-18T18:16:54.676Z"
   },
   {
    "duration": 15,
    "start_time": "2022-10-18T18:16:55.054Z"
   },
   {
    "duration": 334,
    "start_time": "2022-10-18T18:16:55.072Z"
   },
   {
    "duration": 1171,
    "start_time": "2022-10-19T16:04:38.386Z"
   },
   {
    "duration": 180,
    "start_time": "2022-10-19T16:04:39.559Z"
   },
   {
    "duration": 17,
    "start_time": "2022-10-19T16:04:39.740Z"
   },
   {
    "duration": 12,
    "start_time": "2022-10-19T16:04:39.758Z"
   },
   {
    "duration": 50,
    "start_time": "2022-10-19T16:04:39.772Z"
   },
   {
    "duration": 651,
    "start_time": "2022-10-19T16:04:39.824Z"
   },
   {
    "duration": 3,
    "start_time": "2022-10-19T16:04:40.477Z"
   },
   {
    "duration": 15,
    "start_time": "2022-10-19T16:04:40.481Z"
   },
   {
    "duration": 12,
    "start_time": "2022-10-19T16:04:40.497Z"
   },
   {
    "duration": 6,
    "start_time": "2022-10-19T16:04:40.510Z"
   },
   {
    "duration": 31,
    "start_time": "2022-10-19T16:04:40.517Z"
   },
   {
    "duration": 10,
    "start_time": "2022-10-19T16:04:40.549Z"
   },
   {
    "duration": 10,
    "start_time": "2022-10-19T16:04:40.561Z"
   },
   {
    "duration": 10,
    "start_time": "2022-10-19T16:04:40.574Z"
   },
   {
    "duration": 30,
    "start_time": "2022-10-19T16:04:40.586Z"
   },
   {
    "duration": 19,
    "start_time": "2022-10-19T16:04:40.617Z"
   },
   {
    "duration": 8,
    "start_time": "2022-10-19T16:04:40.637Z"
   },
   {
    "duration": 16,
    "start_time": "2022-10-19T16:04:40.646Z"
   },
   {
    "duration": 13,
    "start_time": "2022-10-19T16:04:40.664Z"
   },
   {
    "duration": 4,
    "start_time": "2022-10-19T16:04:40.678Z"
   },
   {
    "duration": 39,
    "start_time": "2022-10-19T16:04:40.683Z"
   },
   {
    "duration": 161,
    "start_time": "2022-10-19T16:04:40.724Z"
   },
   {
    "duration": 7,
    "start_time": "2022-10-19T16:04:40.886Z"
   },
   {
    "duration": 26,
    "start_time": "2022-10-19T16:04:40.895Z"
   },
   {
    "duration": 14,
    "start_time": "2022-10-19T16:04:40.923Z"
   },
   {
    "duration": 17,
    "start_time": "2022-10-19T16:04:40.939Z"
   },
   {
    "duration": 21,
    "start_time": "2022-10-19T16:04:40.957Z"
   },
   {
    "duration": 373,
    "start_time": "2022-10-19T16:04:40.979Z"
   },
   {
    "duration": 141,
    "start_time": "2022-10-19T16:04:41.354Z"
   },
   {
    "duration": 27,
    "start_time": "2022-10-19T16:04:41.497Z"
   },
   {
    "duration": 2,
    "start_time": "2022-10-19T16:04:41.526Z"
   },
   {
    "duration": 15,
    "start_time": "2022-10-19T16:04:41.530Z"
   },
   {
    "duration": 14,
    "start_time": "2022-10-19T16:04:41.547Z"
   },
   {
    "duration": 11,
    "start_time": "2022-10-19T16:04:41.563Z"
   },
   {
    "duration": 19,
    "start_time": "2022-10-19T16:04:41.576Z"
   },
   {
    "duration": 2,
    "start_time": "2022-10-19T16:04:41.597Z"
   },
   {
    "duration": 33,
    "start_time": "2022-10-19T16:04:41.600Z"
   },
   {
    "duration": 105,
    "start_time": "2022-10-19T16:04:41.634Z"
   },
   {
    "duration": 304,
    "start_time": "2022-10-19T16:04:41.741Z"
   },
   {
    "duration": 11,
    "start_time": "2022-10-19T16:04:42.047Z"
   },
   {
    "duration": 250,
    "start_time": "2022-10-19T16:04:42.061Z"
   },
   {
    "duration": 20,
    "start_time": "2022-10-19T16:08:26.948Z"
   },
   {
    "duration": 1331,
    "start_time": "2022-10-19T16:10:05.722Z"
   },
   {
    "duration": 1301,
    "start_time": "2022-10-19T16:10:34.891Z"
   },
   {
    "duration": 1026,
    "start_time": "2022-10-19T16:10:45.621Z"
   },
   {
    "duration": 47,
    "start_time": "2022-10-19T16:10:46.649Z"
   },
   {
    "duration": 17,
    "start_time": "2022-10-19T16:10:46.697Z"
   },
   {
    "duration": 13,
    "start_time": "2022-10-19T16:10:46.716Z"
   },
   {
    "duration": 56,
    "start_time": "2022-10-19T16:10:46.731Z"
   },
   {
    "duration": 645,
    "start_time": "2022-10-19T16:10:46.788Z"
   },
   {
    "duration": 3,
    "start_time": "2022-10-19T16:10:47.434Z"
   },
   {
    "duration": 24,
    "start_time": "2022-10-19T16:10:47.439Z"
   },
   {
    "duration": 19,
    "start_time": "2022-10-19T16:10:47.465Z"
   },
   {
    "duration": 18,
    "start_time": "2022-10-19T16:10:47.486Z"
   },
   {
    "duration": 22,
    "start_time": "2022-10-19T16:10:47.506Z"
   },
   {
    "duration": 28,
    "start_time": "2022-10-19T16:10:47.529Z"
   },
   {
    "duration": 19,
    "start_time": "2022-10-19T16:10:47.559Z"
   },
   {
    "duration": 17,
    "start_time": "2022-10-19T16:10:47.580Z"
   },
   {
    "duration": 24,
    "start_time": "2022-10-19T16:10:47.598Z"
   },
   {
    "duration": 16,
    "start_time": "2022-10-19T16:10:47.623Z"
   },
   {
    "duration": 24,
    "start_time": "2022-10-19T16:10:47.641Z"
   },
   {
    "duration": 16,
    "start_time": "2022-10-19T16:10:47.667Z"
   },
   {
    "duration": 36,
    "start_time": "2022-10-19T16:10:47.685Z"
   },
   {
    "duration": 3,
    "start_time": "2022-10-19T16:10:47.723Z"
   },
   {
    "duration": 28,
    "start_time": "2022-10-19T16:10:47.727Z"
   },
   {
    "duration": 199,
    "start_time": "2022-10-19T16:10:47.757Z"
   },
   {
    "duration": 9,
    "start_time": "2022-10-19T16:10:47.958Z"
   },
   {
    "duration": 29,
    "start_time": "2022-10-19T16:10:47.968Z"
   },
   {
    "duration": 28,
    "start_time": "2022-10-19T16:10:47.998Z"
   },
   {
    "duration": 336,
    "start_time": "2022-10-19T16:10:48.028Z"
   },
   {
    "duration": 132,
    "start_time": "2022-10-19T16:10:48.365Z"
   },
   {
    "duration": 23,
    "start_time": "2022-10-19T16:10:48.500Z"
   },
   {
    "duration": 2,
    "start_time": "2022-10-19T16:10:48.525Z"
   },
   {
    "duration": 17,
    "start_time": "2022-10-19T16:10:48.528Z"
   },
   {
    "duration": 11,
    "start_time": "2022-10-19T16:10:48.547Z"
   },
   {
    "duration": 6,
    "start_time": "2022-10-19T16:10:48.560Z"
   },
   {
    "duration": 7,
    "start_time": "2022-10-19T16:10:48.567Z"
   },
   {
    "duration": 16,
    "start_time": "2022-10-19T16:10:48.576Z"
   },
   {
    "duration": 2,
    "start_time": "2022-10-19T16:10:48.593Z"
   },
   {
    "duration": 91,
    "start_time": "2022-10-19T16:10:48.596Z"
   },
   {
    "duration": 21,
    "start_time": "2022-10-19T16:10:48.689Z"
   },
   {
    "duration": 277,
    "start_time": "2022-10-19T16:10:48.722Z"
   },
   {
    "duration": 12,
    "start_time": "2022-10-19T16:10:49.000Z"
   },
   {
    "duration": 251,
    "start_time": "2022-10-19T16:10:49.022Z"
   },
   {
    "duration": 14,
    "start_time": "2022-10-19T16:12:38.799Z"
   },
   {
    "duration": 19,
    "start_time": "2022-10-19T16:12:51.285Z"
   },
   {
    "duration": 12,
    "start_time": "2022-10-19T16:13:01.263Z"
   },
   {
    "duration": 12,
    "start_time": "2022-10-19T16:15:00.437Z"
   },
   {
    "duration": 17,
    "start_time": "2022-10-19T16:16:31.969Z"
   },
   {
    "duration": 15,
    "start_time": "2022-10-19T16:16:37.684Z"
   },
   {
    "duration": 23,
    "start_time": "2022-10-19T16:16:45.698Z"
   },
   {
    "duration": 18,
    "start_time": "2022-10-19T16:16:54.846Z"
   },
   {
    "duration": 163,
    "start_time": "2022-10-19T16:16:59.735Z"
   },
   {
    "duration": 21,
    "start_time": "2022-10-19T16:17:11.234Z"
   },
   {
    "duration": 270,
    "start_time": "2022-10-19T16:17:13.627Z"
   },
   {
    "duration": 15,
    "start_time": "2022-10-19T16:18:05.981Z"
   },
   {
    "duration": 208,
    "start_time": "2022-10-19T16:18:06.820Z"
   },
   {
    "duration": 16,
    "start_time": "2022-10-19T16:20:14.736Z"
   },
   {
    "duration": 17,
    "start_time": "2022-10-19T16:21:00.907Z"
   },
   {
    "duration": 285,
    "start_time": "2022-10-19T16:21:03.196Z"
   },
   {
    "duration": 11,
    "start_time": "2022-10-19T16:21:14.972Z"
   },
   {
    "duration": 183,
    "start_time": "2022-10-19T16:21:15.724Z"
   },
   {
    "duration": 68,
    "start_time": "2022-10-19T16:27:36.580Z"
   },
   {
    "duration": 911,
    "start_time": "2022-10-19T16:27:48.906Z"
   },
   {
    "duration": 929,
    "start_time": "2022-10-19T16:28:59.029Z"
   },
   {
    "duration": 1103,
    "start_time": "2022-10-19T16:29:19.175Z"
   },
   {
    "duration": 837,
    "start_time": "2022-10-19T16:29:26.831Z"
   },
   {
    "duration": 924,
    "start_time": "2022-10-19T16:30:04.431Z"
   },
   {
    "duration": 887,
    "start_time": "2022-10-19T16:30:11.937Z"
   },
   {
    "duration": 953,
    "start_time": "2022-10-19T16:30:22.481Z"
   },
   {
    "duration": 7,
    "start_time": "2022-10-19T16:39:36.691Z"
   },
   {
    "duration": 12,
    "start_time": "2022-10-19T16:39:50.904Z"
   },
   {
    "duration": 7,
    "start_time": "2022-10-19T16:39:53.341Z"
   },
   {
    "duration": 12,
    "start_time": "2022-10-19T16:40:46.163Z"
   },
   {
    "duration": 23,
    "start_time": "2022-10-19T16:40:57.591Z"
   },
   {
    "duration": 22,
    "start_time": "2022-10-19T16:42:08.301Z"
   },
   {
    "duration": 22,
    "start_time": "2022-10-19T16:42:34.821Z"
   },
   {
    "duration": 405,
    "start_time": "2022-10-19T16:43:14.176Z"
   },
   {
    "duration": 330,
    "start_time": "2022-10-19T16:43:17.818Z"
   },
   {
    "duration": 21,
    "start_time": "2022-10-19T16:43:58.705Z"
   },
   {
    "duration": 9,
    "start_time": "2022-10-19T16:44:24.921Z"
   },
   {
    "duration": 13,
    "start_time": "2022-10-19T16:44:59.918Z"
   },
   {
    "duration": 11,
    "start_time": "2022-10-19T16:45:07.559Z"
   },
   {
    "duration": 5782,
    "start_time": "2022-10-19T16:49:36.348Z"
   },
   {
    "duration": 395,
    "start_time": "2022-10-19T16:50:11.052Z"
   },
   {
    "duration": 386,
    "start_time": "2022-10-19T16:50:36.836Z"
   },
   {
    "duration": 229,
    "start_time": "2022-10-19T16:52:32.901Z"
   },
   {
    "duration": 263,
    "start_time": "2022-10-19T16:53:26.017Z"
   },
   {
    "duration": 2177,
    "start_time": "2022-10-19T16:53:59.972Z"
   },
   {
    "duration": 2266,
    "start_time": "2022-10-19T16:54:22.619Z"
   },
   {
    "duration": 12,
    "start_time": "2022-10-19T16:55:26.573Z"
   },
   {
    "duration": 22,
    "start_time": "2022-10-19T16:55:58.746Z"
   },
   {
    "duration": 26,
    "start_time": "2022-10-19T16:56:06.916Z"
   },
   {
    "duration": 27,
    "start_time": "2022-10-19T16:56:44.274Z"
   },
   {
    "duration": 2101,
    "start_time": "2022-10-19T16:57:34.647Z"
   },
   {
    "duration": 1305,
    "start_time": "2022-10-19T16:58:08.759Z"
   },
   {
    "duration": 1206,
    "start_time": "2022-10-19T16:58:51.052Z"
   },
   {
    "duration": 109,
    "start_time": "2022-10-19T16:59:13.474Z"
   },
   {
    "duration": 1367,
    "start_time": "2022-10-19T16:59:53.658Z"
   },
   {
    "duration": 1241,
    "start_time": "2022-10-19T17:00:11.424Z"
   },
   {
    "duration": 123,
    "start_time": "2022-10-19T17:01:32.949Z"
   },
   {
    "duration": 1310,
    "start_time": "2022-10-19T17:02:08.872Z"
   },
   {
    "duration": 1252,
    "start_time": "2022-10-19T17:06:28.232Z"
   },
   {
    "duration": 1347,
    "start_time": "2022-10-19T17:07:00.078Z"
   },
   {
    "duration": 5,
    "start_time": "2022-10-19T17:13:46.257Z"
   },
   {
    "duration": 11,
    "start_time": "2022-10-19T17:15:13.573Z"
   },
   {
    "duration": 13,
    "start_time": "2022-10-19T17:15:29.822Z"
   },
   {
    "duration": 18,
    "start_time": "2022-10-19T17:15:44.526Z"
   },
   {
    "duration": 239,
    "start_time": "2022-10-19T17:16:55.989Z"
   },
   {
    "duration": 6,
    "start_time": "2022-10-19T17:17:17.602Z"
   },
   {
    "duration": 5,
    "start_time": "2022-10-19T17:17:30.579Z"
   },
   {
    "duration": 5,
    "start_time": "2022-10-19T17:17:43.820Z"
   },
   {
    "duration": 101,
    "start_time": "2022-10-19T17:18:56.920Z"
   },
   {
    "duration": 11,
    "start_time": "2022-10-19T17:23:36.935Z"
   },
   {
    "duration": 15,
    "start_time": "2022-10-19T17:23:58.089Z"
   },
   {
    "duration": 18,
    "start_time": "2022-10-19T17:24:11.496Z"
   },
   {
    "duration": 17,
    "start_time": "2022-10-19T17:25:06.172Z"
   },
   {
    "duration": 15,
    "start_time": "2022-10-19T17:25:44.869Z"
   },
   {
    "duration": 16,
    "start_time": "2022-10-19T17:26:19.481Z"
   },
   {
    "duration": 14,
    "start_time": "2022-10-19T17:29:06.926Z"
   },
   {
    "duration": 21,
    "start_time": "2022-10-19T17:29:24.519Z"
   },
   {
    "duration": 18,
    "start_time": "2022-10-19T17:29:40.752Z"
   },
   {
    "duration": 68,
    "start_time": "2022-10-19T17:29:45.449Z"
   },
   {
    "duration": 22,
    "start_time": "2022-10-19T17:29:48.615Z"
   },
   {
    "duration": 28,
    "start_time": "2022-10-19T17:30:48.449Z"
   },
   {
    "duration": 1229,
    "start_time": "2022-10-19T17:31:52.537Z"
   },
   {
    "duration": 1139,
    "start_time": "2022-10-19T17:32:07.555Z"
   },
   {
    "duration": 31,
    "start_time": "2022-10-19T17:32:19.239Z"
   },
   {
    "duration": 35,
    "start_time": "2022-10-19T17:32:59.060Z"
   },
   {
    "duration": 25,
    "start_time": "2022-10-19T17:33:24.630Z"
   },
   {
    "duration": 32,
    "start_time": "2022-10-19T17:33:50.322Z"
   },
   {
    "duration": 29,
    "start_time": "2022-10-19T17:33:58.917Z"
   },
   {
    "duration": 33,
    "start_time": "2022-10-19T17:34:04.738Z"
   },
   {
    "duration": 32,
    "start_time": "2022-10-19T17:36:23.416Z"
   },
   {
    "duration": 4,
    "start_time": "2022-10-19T17:39:41.588Z"
   },
   {
    "duration": 32,
    "start_time": "2022-10-19T17:40:11.996Z"
   },
   {
    "duration": 32,
    "start_time": "2022-10-19T17:40:18.990Z"
   },
   {
    "duration": 29,
    "start_time": "2022-10-19T17:40:52.103Z"
   },
   {
    "duration": 16,
    "start_time": "2022-10-19T17:53:58.758Z"
   },
   {
    "duration": 29,
    "start_time": "2022-10-19T17:54:24.519Z"
   },
   {
    "duration": 298,
    "start_time": "2022-10-19T18:08:38.078Z"
   },
   {
    "duration": 203,
    "start_time": "2022-10-19T18:08:51.268Z"
   },
   {
    "duration": 11,
    "start_time": "2022-10-19T18:15:00.812Z"
   },
   {
    "duration": 6,
    "start_time": "2022-10-19T18:15:21.806Z"
   },
   {
    "duration": 6,
    "start_time": "2022-10-19T18:15:57.200Z"
   },
   {
    "duration": 6,
    "start_time": "2022-10-19T18:16:27.183Z"
   },
   {
    "duration": 32,
    "start_time": "2022-10-19T18:17:28.819Z"
   },
   {
    "duration": 10,
    "start_time": "2022-10-19T18:18:02.314Z"
   },
   {
    "duration": 17,
    "start_time": "2022-10-19T18:18:18.341Z"
   },
   {
    "duration": 17,
    "start_time": "2022-10-19T18:19:03.032Z"
   },
   {
    "duration": 1107,
    "start_time": "2022-10-19T18:19:33.733Z"
   },
   {
    "duration": 48,
    "start_time": "2022-10-19T18:19:34.842Z"
   },
   {
    "duration": 17,
    "start_time": "2022-10-19T18:19:34.891Z"
   },
   {
    "duration": 12,
    "start_time": "2022-10-19T18:19:34.910Z"
   },
   {
    "duration": 44,
    "start_time": "2022-10-19T18:19:34.924Z"
   },
   {
    "duration": 727,
    "start_time": "2022-10-19T18:19:34.969Z"
   },
   {
    "duration": 3,
    "start_time": "2022-10-19T18:19:35.698Z"
   },
   {
    "duration": 34,
    "start_time": "2022-10-19T18:19:35.703Z"
   },
   {
    "duration": 27,
    "start_time": "2022-10-19T18:19:35.739Z"
   },
   {
    "duration": 14,
    "start_time": "2022-10-19T18:19:35.768Z"
   },
   {
    "duration": 56,
    "start_time": "2022-10-19T18:19:35.784Z"
   },
   {
    "duration": 25,
    "start_time": "2022-10-19T18:19:35.841Z"
   },
   {
    "duration": 22,
    "start_time": "2022-10-19T18:19:35.867Z"
   },
   {
    "duration": 20,
    "start_time": "2022-10-19T18:19:35.892Z"
   },
   {
    "duration": 46,
    "start_time": "2022-10-19T18:19:35.914Z"
   },
   {
    "duration": 18,
    "start_time": "2022-10-19T18:19:35.962Z"
   },
   {
    "duration": 29,
    "start_time": "2022-10-19T18:19:35.981Z"
   },
   {
    "duration": 58,
    "start_time": "2022-10-19T18:19:36.012Z"
   },
   {
    "duration": 51,
    "start_time": "2022-10-19T18:19:36.072Z"
   },
   {
    "duration": 6,
    "start_time": "2022-10-19T18:19:36.125Z"
   },
   {
    "duration": 33,
    "start_time": "2022-10-19T18:19:36.134Z"
   },
   {
    "duration": 182,
    "start_time": "2022-10-19T18:19:36.169Z"
   },
   {
    "duration": 8,
    "start_time": "2022-10-19T18:19:36.352Z"
   },
   {
    "duration": 53,
    "start_time": "2022-10-19T18:19:36.361Z"
   },
   {
    "duration": 50,
    "start_time": "2022-10-19T18:19:36.416Z"
   },
   {
    "duration": 356,
    "start_time": "2022-10-19T18:19:36.468Z"
   },
   {
    "duration": 154,
    "start_time": "2022-10-19T18:19:36.826Z"
   },
   {
    "duration": 21,
    "start_time": "2022-10-19T18:19:36.983Z"
   },
   {
    "duration": 3,
    "start_time": "2022-10-19T18:19:37.005Z"
   },
   {
    "duration": 24,
    "start_time": "2022-10-19T18:19:37.009Z"
   },
   {
    "duration": 41,
    "start_time": "2022-10-19T18:19:37.034Z"
   },
   {
    "duration": 32,
    "start_time": "2022-10-19T18:19:37.077Z"
   },
   {
    "duration": 101,
    "start_time": "2022-10-19T18:19:37.110Z"
   },
   {
    "duration": 36,
    "start_time": "2022-10-19T18:19:37.213Z"
   },
   {
    "duration": 29,
    "start_time": "2022-10-19T18:19:37.251Z"
   },
   {
    "duration": 21,
    "start_time": "2022-10-19T18:19:37.282Z"
   },
   {
    "duration": 63,
    "start_time": "2022-10-19T18:19:37.305Z"
   },
   {
    "duration": 25,
    "start_time": "2022-10-19T18:19:37.369Z"
   },
   {
    "duration": 51,
    "start_time": "2022-10-19T18:19:37.396Z"
   },
   {
    "duration": 68,
    "start_time": "2022-10-19T18:19:37.448Z"
   },
   {
    "duration": 337,
    "start_time": "2022-10-19T18:19:37.517Z"
   },
   {
    "duration": 17,
    "start_time": "2022-10-19T18:19:37.855Z"
   },
   {
    "duration": 229,
    "start_time": "2022-10-19T18:19:37.874Z"
   },
   {
    "duration": 963,
    "start_time": "2022-10-19T18:19:38.105Z"
   },
   {
    "duration": 30,
    "start_time": "2022-10-19T18:19:39.070Z"
   },
   {
    "duration": 1335,
    "start_time": "2022-10-19T18:19:39.101Z"
   },
   {
    "duration": 4,
    "start_time": "2022-10-19T18:19:40.438Z"
   },
   {
    "duration": 1354,
    "start_time": "2022-10-19T18:19:40.443Z"
   },
   {
    "duration": 5,
    "start_time": "2022-10-19T18:19:41.799Z"
   },
   {
    "duration": 404,
    "start_time": "2022-10-19T18:19:41.805Z"
   },
   {
    "duration": 21,
    "start_time": "2022-10-19T18:19:42.211Z"
   },
   {
    "duration": 16,
    "start_time": "2022-10-19T18:19:42.233Z"
   },
   {
    "duration": 4,
    "start_time": "2022-10-19T18:19:42.250Z"
   },
   {
    "duration": 30,
    "start_time": "2022-10-19T18:19:42.256Z"
   },
   {
    "duration": 58,
    "start_time": "2022-10-19T18:19:42.288Z"
   },
   {
    "duration": 28,
    "start_time": "2022-10-19T18:19:42.347Z"
   },
   {
    "duration": 47,
    "start_time": "2022-10-19T18:19:42.376Z"
   },
   {
    "duration": 12,
    "start_time": "2022-10-19T18:19:42.424Z"
   },
   {
    "duration": 15,
    "start_time": "2022-10-19T18:19:42.438Z"
   },
   {
    "duration": 1223,
    "start_time": "2022-10-20T16:06:20.341Z"
   },
   {
    "duration": 206,
    "start_time": "2022-10-20T16:06:21.565Z"
   },
   {
    "duration": 17,
    "start_time": "2022-10-20T16:06:21.773Z"
   },
   {
    "duration": 13,
    "start_time": "2022-10-20T16:06:21.792Z"
   },
   {
    "duration": 51,
    "start_time": "2022-10-20T16:06:21.807Z"
   },
   {
    "duration": 695,
    "start_time": "2022-10-20T16:06:21.859Z"
   },
   {
    "duration": 3,
    "start_time": "2022-10-20T16:06:22.557Z"
   },
   {
    "duration": 7,
    "start_time": "2022-10-20T16:06:22.562Z"
   },
   {
    "duration": 10,
    "start_time": "2022-10-20T16:06:22.570Z"
   },
   {
    "duration": 6,
    "start_time": "2022-10-20T16:06:22.604Z"
   },
   {
    "duration": 24,
    "start_time": "2022-10-20T16:06:22.612Z"
   },
   {
    "duration": 11,
    "start_time": "2022-10-20T16:06:22.638Z"
   },
   {
    "duration": 14,
    "start_time": "2022-10-20T16:06:22.650Z"
   },
   {
    "duration": 12,
    "start_time": "2022-10-20T16:06:22.665Z"
   },
   {
    "duration": 44,
    "start_time": "2022-10-20T16:06:22.678Z"
   },
   {
    "duration": 20,
    "start_time": "2022-10-20T16:06:22.724Z"
   },
   {
    "duration": 8,
    "start_time": "2022-10-20T16:06:22.745Z"
   },
   {
    "duration": 18,
    "start_time": "2022-10-20T16:06:22.755Z"
   },
   {
    "duration": 42,
    "start_time": "2022-10-20T16:06:22.774Z"
   },
   {
    "duration": 5,
    "start_time": "2022-10-20T16:06:22.817Z"
   },
   {
    "duration": 19,
    "start_time": "2022-10-20T16:06:22.824Z"
   },
   {
    "duration": 188,
    "start_time": "2022-10-20T16:06:22.844Z"
   },
   {
    "duration": 8,
    "start_time": "2022-10-20T16:06:23.033Z"
   },
   {
    "duration": 17,
    "start_time": "2022-10-20T16:06:23.043Z"
   },
   {
    "duration": 22,
    "start_time": "2022-10-20T16:06:23.061Z"
   },
   {
    "duration": 439,
    "start_time": "2022-10-20T16:06:23.084Z"
   },
   {
    "duration": 139,
    "start_time": "2022-10-20T16:06:23.525Z"
   },
   {
    "duration": 20,
    "start_time": "2022-10-20T16:06:23.668Z"
   },
   {
    "duration": 3,
    "start_time": "2022-10-20T16:06:23.690Z"
   },
   {
    "duration": 40,
    "start_time": "2022-10-20T16:06:23.694Z"
   },
   {
    "duration": 16,
    "start_time": "2022-10-20T16:06:23.736Z"
   },
   {
    "duration": 16,
    "start_time": "2022-10-20T16:06:23.753Z"
   },
   {
    "duration": 84,
    "start_time": "2022-10-20T16:06:23.770Z"
   },
   {
    "duration": 18,
    "start_time": "2022-10-20T16:06:23.855Z"
   },
   {
    "duration": 11,
    "start_time": "2022-10-20T16:06:23.875Z"
   },
   {
    "duration": 6,
    "start_time": "2022-10-20T16:06:23.887Z"
   },
   {
    "duration": 23,
    "start_time": "2022-10-20T16:06:23.906Z"
   },
   {
    "duration": 9,
    "start_time": "2022-10-20T16:06:23.931Z"
   },
   {
    "duration": 17,
    "start_time": "2022-10-20T16:06:23.941Z"
   },
   {
    "duration": 15,
    "start_time": "2022-10-20T16:06:23.959Z"
   },
   {
    "duration": 367,
    "start_time": "2022-10-20T16:06:23.976Z"
   },
   {
    "duration": 12,
    "start_time": "2022-10-20T16:06:24.344Z"
   },
   {
    "duration": 205,
    "start_time": "2022-10-20T16:06:24.357Z"
   },
   {
    "duration": 1024,
    "start_time": "2022-10-20T16:06:24.564Z"
   },
   {
    "duration": 40,
    "start_time": "2022-10-20T16:06:25.590Z"
   },
   {
    "duration": 1420,
    "start_time": "2022-10-20T16:06:25.631Z"
   },
   {
    "duration": 5,
    "start_time": "2022-10-20T16:06:27.052Z"
   },
   {
    "duration": 1538,
    "start_time": "2022-10-20T16:06:27.059Z"
   },
   {
    "duration": 6,
    "start_time": "2022-10-20T16:06:28.605Z"
   },
   {
    "duration": 432,
    "start_time": "2022-10-20T16:06:28.613Z"
   },
   {
    "duration": 22,
    "start_time": "2022-10-20T16:06:29.047Z"
   },
   {
    "duration": 16,
    "start_time": "2022-10-20T16:06:29.070Z"
   },
   {
    "duration": 18,
    "start_time": "2022-10-20T16:06:29.088Z"
   },
   {
    "duration": 41,
    "start_time": "2022-10-20T16:06:29.109Z"
   },
   {
    "duration": 31,
    "start_time": "2022-10-20T16:06:29.151Z"
   },
   {
    "duration": 38,
    "start_time": "2022-10-20T16:06:29.184Z"
   },
   {
    "duration": 31,
    "start_time": "2022-10-20T16:06:29.223Z"
   },
   {
    "duration": 12,
    "start_time": "2022-10-20T16:06:29.256Z"
   },
   {
    "duration": 12,
    "start_time": "2022-10-20T16:06:29.270Z"
   },
   {
    "duration": 3,
    "start_time": "2022-10-20T16:20:22.335Z"
   },
   {
    "duration": 4,
    "start_time": "2022-10-20T16:20:23.153Z"
   },
   {
    "duration": 5,
    "start_time": "2022-10-20T16:23:08.173Z"
   },
   {
    "duration": 4,
    "start_time": "2022-10-20T16:32:54.703Z"
   },
   {
    "duration": 45,
    "start_time": "2022-10-20T16:32:55.340Z"
   },
   {
    "duration": 13,
    "start_time": "2022-10-20T16:32:55.660Z"
   },
   {
    "duration": 14,
    "start_time": "2022-10-20T16:32:56.272Z"
   },
   {
    "duration": 53,
    "start_time": "2022-10-20T16:32:57.320Z"
   },
   {
    "duration": 706,
    "start_time": "2022-10-20T16:32:58.020Z"
   },
   {
    "duration": 3,
    "start_time": "2022-10-20T16:33:01.973Z"
   },
   {
    "duration": 4,
    "start_time": "2022-10-20T16:33:02.563Z"
   },
   {
    "duration": 10,
    "start_time": "2022-10-20T16:33:04.006Z"
   },
   {
    "duration": 4,
    "start_time": "2022-10-20T16:33:05.343Z"
   },
   {
    "duration": 16,
    "start_time": "2022-10-20T16:33:05.834Z"
   },
   {
    "duration": 9,
    "start_time": "2022-10-20T16:33:07.048Z"
   },
   {
    "duration": 16,
    "start_time": "2022-10-20T16:33:07.806Z"
   },
   {
    "duration": 12,
    "start_time": "2022-10-20T16:33:08.620Z"
   },
   {
    "duration": 27,
    "start_time": "2022-10-20T16:33:26.685Z"
   },
   {
    "duration": 25,
    "start_time": "2022-10-20T16:35:18.570Z"
   },
   {
    "duration": 24,
    "start_time": "2022-10-20T16:37:29.301Z"
   },
   {
    "duration": 5,
    "start_time": "2022-10-20T16:46:16.873Z"
   },
   {
    "duration": 18,
    "start_time": "2022-10-20T16:46:17.597Z"
   },
   {
    "duration": 13,
    "start_time": "2022-10-20T16:47:18.316Z"
   },
   {
    "duration": 5,
    "start_time": "2022-10-20T16:48:55.065Z"
   },
   {
    "duration": 14,
    "start_time": "2022-10-20T16:48:55.723Z"
   },
   {
    "duration": 162,
    "start_time": "2022-10-20T16:51:12.550Z"
   },
   {
    "duration": 166,
    "start_time": "2022-10-20T16:52:10.811Z"
   },
   {
    "duration": 158,
    "start_time": "2022-10-20T16:52:21.268Z"
   },
   {
    "duration": 163,
    "start_time": "2022-10-20T16:52:28.087Z"
   },
   {
    "duration": 261,
    "start_time": "2022-10-20T16:56:41.757Z"
   },
   {
    "duration": 17,
    "start_time": "2022-10-20T17:01:28.316Z"
   },
   {
    "duration": 16,
    "start_time": "2022-10-20T17:02:51.613Z"
   },
   {
    "duration": 15,
    "start_time": "2022-10-20T17:02:53.720Z"
   },
   {
    "duration": 15,
    "start_time": "2022-10-20T17:03:04.816Z"
   },
   {
    "duration": 14,
    "start_time": "2022-10-20T17:03:09.333Z"
   },
   {
    "duration": 26,
    "start_time": "2022-10-20T17:06:38.008Z"
   },
   {
    "duration": 16,
    "start_time": "2022-10-20T17:06:46.369Z"
   },
   {
    "duration": 17,
    "start_time": "2022-10-20T17:06:51.099Z"
   },
   {
    "duration": 299,
    "start_time": "2022-10-20T17:07:04.706Z"
   },
   {
    "duration": 20,
    "start_time": "2022-10-20T17:07:59.900Z"
   },
   {
    "duration": 9,
    "start_time": "2022-10-20T17:08:16.950Z"
   },
   {
    "duration": 14,
    "start_time": "2022-10-20T17:08:19.737Z"
   },
   {
    "duration": 9,
    "start_time": "2022-10-20T17:08:21.373Z"
   },
   {
    "duration": 16,
    "start_time": "2022-10-20T17:09:08.938Z"
   },
   {
    "duration": 13,
    "start_time": "2022-10-20T17:09:09.543Z"
   },
   {
    "duration": 10,
    "start_time": "2022-10-20T17:09:25.736Z"
   },
   {
    "duration": 10,
    "start_time": "2022-10-20T17:10:40.724Z"
   },
   {
    "duration": 4,
    "start_time": "2022-10-20T17:11:00.368Z"
   },
   {
    "duration": 5,
    "start_time": "2022-10-20T17:11:33.845Z"
   },
   {
    "duration": 4,
    "start_time": "2022-10-20T17:11:34.691Z"
   },
   {
    "duration": 15,
    "start_time": "2022-10-20T17:12:06.149Z"
   },
   {
    "duration": 9,
    "start_time": "2022-10-20T17:12:06.539Z"
   },
   {
    "duration": 11,
    "start_time": "2022-10-20T17:12:07.199Z"
   },
   {
    "duration": 5,
    "start_time": "2022-10-20T17:12:11.565Z"
   },
   {
    "duration": 5,
    "start_time": "2022-10-20T17:12:12.086Z"
   },
   {
    "duration": 12,
    "start_time": "2022-10-20T17:15:43.205Z"
   },
   {
    "duration": 4,
    "start_time": "2022-10-20T17:15:44.446Z"
   },
   {
    "duration": 11,
    "start_time": "2022-10-20T17:16:03.353Z"
   },
   {
    "duration": 4,
    "start_time": "2022-10-20T17:16:04.387Z"
   },
   {
    "duration": 4,
    "start_time": "2022-10-20T17:16:04.906Z"
   },
   {
    "duration": 8,
    "start_time": "2022-10-20T17:23:27.775Z"
   },
   {
    "duration": 94,
    "start_time": "2022-10-20T17:23:52.975Z"
   },
   {
    "duration": 15,
    "start_time": "2022-10-20T17:24:05.998Z"
   },
   {
    "duration": 3,
    "start_time": "2022-10-20T17:24:19.216Z"
   },
   {
    "duration": 7,
    "start_time": "2022-10-20T17:24:26.651Z"
   },
   {
    "duration": 18,
    "start_time": "2022-10-20T17:24:57.434Z"
   },
   {
    "duration": 18,
    "start_time": "2022-10-20T17:25:11.609Z"
   },
   {
    "duration": 7,
    "start_time": "2022-10-20T17:25:59.440Z"
   },
   {
    "duration": 4,
    "start_time": "2022-10-20T17:26:02.653Z"
   },
   {
    "duration": 6,
    "start_time": "2022-10-20T17:26:04.134Z"
   },
   {
    "duration": 296,
    "start_time": "2022-10-20T17:27:03.747Z"
   },
   {
    "duration": 16,
    "start_time": "2022-10-20T17:28:44.498Z"
   },
   {
    "duration": 221,
    "start_time": "2022-10-20T17:28:46.508Z"
   },
   {
    "duration": 854,
    "start_time": "2022-10-20T17:40:55.551Z"
   },
   {
    "duration": 6,
    "start_time": "2022-10-20T17:44:56.838Z"
   },
   {
    "duration": 28,
    "start_time": "2022-10-20T17:45:34.195Z"
   },
   {
    "duration": 27,
    "start_time": "2022-10-20T17:46:10.115Z"
   },
   {
    "duration": 29,
    "start_time": "2022-10-20T17:46:46.952Z"
   },
   {
    "duration": 1247,
    "start_time": "2022-10-20T17:47:23.530Z"
   },
   {
    "duration": 23,
    "start_time": "2022-10-20T17:47:54.314Z"
   },
   {
    "duration": 1235,
    "start_time": "2022-10-20T17:53:34.503Z"
   },
   {
    "duration": 19,
    "start_time": "2022-10-20T17:59:20.977Z"
   },
   {
    "duration": 147,
    "start_time": "2022-10-20T18:04:48.798Z"
   },
   {
    "duration": 18,
    "start_time": "2022-10-20T18:05:20.767Z"
   },
   {
    "duration": 5,
    "start_time": "2022-10-20T18:07:17.087Z"
   },
   {
    "duration": 29,
    "start_time": "2022-10-20T18:07:19.227Z"
   },
   {
    "duration": 37,
    "start_time": "2022-10-20T18:07:35.684Z"
   },
   {
    "duration": 5,
    "start_time": "2022-10-20T18:11:49.318Z"
   },
   {
    "duration": 31,
    "start_time": "2022-10-20T18:11:49.896Z"
   },
   {
    "duration": 5,
    "start_time": "2022-10-20T18:14:24.564Z"
   },
   {
    "duration": 31,
    "start_time": "2022-10-20T18:14:26.251Z"
   },
   {
    "duration": 4,
    "start_time": "2022-10-20T18:16:05.049Z"
   },
   {
    "duration": 312,
    "start_time": "2022-10-20T18:16:05.696Z"
   },
   {
    "duration": 4,
    "start_time": "2022-10-20T18:16:45.656Z"
   },
   {
    "duration": 298,
    "start_time": "2022-10-20T18:16:46.451Z"
   },
   {
    "duration": 4,
    "start_time": "2022-10-20T18:17:55.243Z"
   },
   {
    "duration": 23,
    "start_time": "2022-10-20T18:17:55.674Z"
   },
   {
    "duration": 4,
    "start_time": "2022-10-20T18:19:04.355Z"
   },
   {
    "duration": 25,
    "start_time": "2022-10-20T18:19:04.769Z"
   },
   {
    "duration": 7,
    "start_time": "2022-10-20T18:20:27.589Z"
   },
   {
    "duration": 1466,
    "start_time": "2022-10-20T18:20:28.364Z"
   },
   {
    "duration": 5,
    "start_time": "2022-10-20T18:21:11.978Z"
   },
   {
    "duration": 30,
    "start_time": "2022-10-20T18:21:13.889Z"
   },
   {
    "duration": 4,
    "start_time": "2022-10-20T18:21:24.394Z"
   },
   {
    "duration": 27,
    "start_time": "2022-10-20T18:21:24.864Z"
   },
   {
    "duration": 5,
    "start_time": "2022-10-20T18:21:44.527Z"
   },
   {
    "duration": 28,
    "start_time": "2022-10-20T18:21:44.872Z"
   },
   {
    "duration": 5,
    "start_time": "2022-10-20T18:22:29.641Z"
   },
   {
    "duration": 26,
    "start_time": "2022-10-20T18:22:31.183Z"
   },
   {
    "duration": 5,
    "start_time": "2022-10-20T18:22:58.687Z"
   },
   {
    "duration": 31,
    "start_time": "2022-10-20T18:22:59.638Z"
   },
   {
    "duration": 6,
    "start_time": "2022-10-20T18:23:51.299Z"
   },
   {
    "duration": 28,
    "start_time": "2022-10-20T18:23:52.257Z"
   },
   {
    "duration": 5,
    "start_time": "2022-10-20T18:24:20.395Z"
   },
   {
    "duration": 29,
    "start_time": "2022-10-20T18:24:20.787Z"
   },
   {
    "duration": 4,
    "start_time": "2022-10-20T18:24:46.193Z"
   },
   {
    "duration": 30,
    "start_time": "2022-10-20T18:24:46.648Z"
   },
   {
    "duration": 5,
    "start_time": "2022-10-20T18:25:48.451Z"
   },
   {
    "duration": 29,
    "start_time": "2022-10-20T18:25:48.667Z"
   },
   {
    "duration": 6,
    "start_time": "2022-10-20T18:26:04.465Z"
   },
   {
    "duration": 29,
    "start_time": "2022-10-20T18:26:05.054Z"
   },
   {
    "duration": 5,
    "start_time": "2022-10-20T18:26:27.513Z"
   },
   {
    "duration": 33,
    "start_time": "2022-10-20T18:26:27.928Z"
   },
   {
    "duration": 5,
    "start_time": "2022-10-20T18:26:33.335Z"
   },
   {
    "duration": 28,
    "start_time": "2022-10-20T18:26:33.672Z"
   },
   {
    "duration": 5,
    "start_time": "2022-10-20T18:26:43.637Z"
   },
   {
    "duration": 30,
    "start_time": "2022-10-20T18:26:44.011Z"
   },
   {
    "duration": 5,
    "start_time": "2022-10-20T18:27:30.450Z"
   },
   {
    "duration": 29,
    "start_time": "2022-10-20T18:27:30.988Z"
   },
   {
    "duration": 6,
    "start_time": "2022-10-20T18:28:14.557Z"
   },
   {
    "duration": 33,
    "start_time": "2022-10-20T18:28:15.297Z"
   },
   {
    "duration": 5,
    "start_time": "2022-10-20T18:28:28.635Z"
   },
   {
    "duration": 32,
    "start_time": "2022-10-20T18:28:28.937Z"
   },
   {
    "duration": 29,
    "start_time": "2022-10-20T18:30:08.167Z"
   },
   {
    "duration": 29,
    "start_time": "2022-10-20T18:33:19.996Z"
   },
   {
    "duration": 4,
    "start_time": "2022-10-20T18:37:51.297Z"
   },
   {
    "duration": 6,
    "start_time": "2022-10-20T18:38:07.713Z"
   },
   {
    "duration": 4,
    "start_time": "2022-10-20T18:38:09.695Z"
   },
   {
    "duration": 12,
    "start_time": "2022-10-20T18:40:51.941Z"
   },
   {
    "duration": 100,
    "start_time": "2022-10-20T18:41:08.780Z"
   },
   {
    "duration": 11,
    "start_time": "2022-10-20T18:41:28.938Z"
   },
   {
    "duration": 984,
    "start_time": "2022-10-20T18:53:21.952Z"
   },
   {
    "duration": 48,
    "start_time": "2022-10-20T18:53:22.938Z"
   },
   {
    "duration": 17,
    "start_time": "2022-10-20T18:53:22.987Z"
   },
   {
    "duration": 11,
    "start_time": "2022-10-20T18:53:23.006Z"
   },
   {
    "duration": 44,
    "start_time": "2022-10-20T18:53:23.019Z"
   },
   {
    "duration": 661,
    "start_time": "2022-10-20T18:53:23.064Z"
   },
   {
    "duration": 3,
    "start_time": "2022-10-20T18:53:23.726Z"
   },
   {
    "duration": 8,
    "start_time": "2022-10-20T18:53:23.731Z"
   },
   {
    "duration": 10,
    "start_time": "2022-10-20T18:53:23.740Z"
   },
   {
    "duration": 4,
    "start_time": "2022-10-20T18:53:23.752Z"
   },
   {
    "duration": 17,
    "start_time": "2022-10-20T18:53:23.758Z"
   },
   {
    "duration": 29,
    "start_time": "2022-10-20T18:53:23.777Z"
   },
   {
    "duration": 12,
    "start_time": "2022-10-20T18:53:23.807Z"
   },
   {
    "duration": 11,
    "start_time": "2022-10-20T18:53:23.821Z"
   },
   {
    "duration": 24,
    "start_time": "2022-10-20T18:53:23.833Z"
   },
   {
    "duration": 18,
    "start_time": "2022-10-20T18:53:23.859Z"
   },
   {
    "duration": 30,
    "start_time": "2022-10-20T18:53:23.878Z"
   },
   {
    "duration": 20,
    "start_time": "2022-10-20T18:53:23.910Z"
   },
   {
    "duration": 14,
    "start_time": "2022-10-20T18:53:23.932Z"
   },
   {
    "duration": 4,
    "start_time": "2022-10-20T18:53:23.948Z"
   },
   {
    "duration": 16,
    "start_time": "2022-10-20T18:53:23.954Z"
   },
   {
    "duration": 188,
    "start_time": "2022-10-20T18:53:23.971Z"
   },
   {
    "duration": 18,
    "start_time": "2022-10-20T18:53:24.160Z"
   },
   {
    "duration": 30,
    "start_time": "2022-10-20T18:53:24.179Z"
   },
   {
    "duration": 18,
    "start_time": "2022-10-20T18:53:24.211Z"
   },
   {
    "duration": 22,
    "start_time": "2022-10-20T18:53:24.230Z"
   },
   {
    "duration": 377,
    "start_time": "2022-10-20T18:53:24.254Z"
   },
   {
    "duration": 984,
    "start_time": "2022-10-20T18:53:24.635Z"
   },
   {
    "duration": 101,
    "start_time": "2022-10-20T18:53:25.620Z"
   },
   {
    "duration": 0,
    "start_time": "2022-10-20T18:53:25.723Z"
   },
   {
    "duration": 0,
    "start_time": "2022-10-20T18:53:25.724Z"
   },
   {
    "duration": 0,
    "start_time": "2022-10-20T18:53:25.725Z"
   },
   {
    "duration": 0,
    "start_time": "2022-10-20T18:53:25.726Z"
   },
   {
    "duration": 0,
    "start_time": "2022-10-20T18:53:25.727Z"
   },
   {
    "duration": 0,
    "start_time": "2022-10-20T18:53:25.727Z"
   },
   {
    "duration": 0,
    "start_time": "2022-10-20T18:53:25.728Z"
   },
   {
    "duration": 0,
    "start_time": "2022-10-20T18:53:25.729Z"
   },
   {
    "duration": 0,
    "start_time": "2022-10-20T18:53:25.729Z"
   },
   {
    "duration": 0,
    "start_time": "2022-10-20T18:53:25.730Z"
   },
   {
    "duration": 0,
    "start_time": "2022-10-20T18:53:25.731Z"
   },
   {
    "duration": 0,
    "start_time": "2022-10-20T18:53:25.732Z"
   },
   {
    "duration": 0,
    "start_time": "2022-10-20T18:53:25.733Z"
   },
   {
    "duration": 0,
    "start_time": "2022-10-20T18:53:25.734Z"
   },
   {
    "duration": 0,
    "start_time": "2022-10-20T18:53:25.735Z"
   },
   {
    "duration": 0,
    "start_time": "2022-10-20T18:53:25.736Z"
   },
   {
    "duration": 0,
    "start_time": "2022-10-20T18:53:25.737Z"
   },
   {
    "duration": 0,
    "start_time": "2022-10-20T18:53:25.738Z"
   },
   {
    "duration": 0,
    "start_time": "2022-10-20T18:53:25.739Z"
   },
   {
    "duration": 0,
    "start_time": "2022-10-20T18:53:25.740Z"
   },
   {
    "duration": 0,
    "start_time": "2022-10-20T18:53:25.741Z"
   },
   {
    "duration": 1037,
    "start_time": "2022-10-20T18:54:02.201Z"
   },
   {
    "duration": 48,
    "start_time": "2022-10-20T18:54:03.240Z"
   },
   {
    "duration": 17,
    "start_time": "2022-10-20T18:54:03.290Z"
   },
   {
    "duration": 21,
    "start_time": "2022-10-20T18:54:03.309Z"
   },
   {
    "duration": 41,
    "start_time": "2022-10-20T18:54:03.331Z"
   },
   {
    "duration": 649,
    "start_time": "2022-10-20T18:54:03.374Z"
   },
   {
    "duration": 3,
    "start_time": "2022-10-20T18:54:04.025Z"
   },
   {
    "duration": 6,
    "start_time": "2022-10-20T18:54:04.029Z"
   },
   {
    "duration": 11,
    "start_time": "2022-10-20T18:54:04.036Z"
   },
   {
    "duration": 4,
    "start_time": "2022-10-20T18:54:04.048Z"
   },
   {
    "duration": 15,
    "start_time": "2022-10-20T18:54:04.053Z"
   },
   {
    "duration": 10,
    "start_time": "2022-10-20T18:54:04.069Z"
   },
   {
    "duration": 34,
    "start_time": "2022-10-20T18:54:04.080Z"
   },
   {
    "duration": 11,
    "start_time": "2022-10-20T18:54:04.115Z"
   },
   {
    "duration": 23,
    "start_time": "2022-10-20T18:54:04.127Z"
   },
   {
    "duration": 17,
    "start_time": "2022-10-20T18:54:04.151Z"
   },
   {
    "duration": 5,
    "start_time": "2022-10-20T18:54:04.169Z"
   },
   {
    "duration": 41,
    "start_time": "2022-10-20T18:54:04.175Z"
   },
   {
    "duration": 12,
    "start_time": "2022-10-20T18:54:04.217Z"
   },
   {
    "duration": 4,
    "start_time": "2022-10-20T18:54:04.230Z"
   },
   {
    "duration": 17,
    "start_time": "2022-10-20T18:54:04.236Z"
   },
   {
    "duration": 188,
    "start_time": "2022-10-20T18:54:04.255Z"
   },
   {
    "duration": 17,
    "start_time": "2022-10-20T18:54:04.445Z"
   },
   {
    "duration": 16,
    "start_time": "2022-10-20T18:54:04.464Z"
   },
   {
    "duration": 30,
    "start_time": "2022-10-20T18:54:04.481Z"
   },
   {
    "duration": 23,
    "start_time": "2022-10-20T18:54:04.512Z"
   },
   {
    "duration": 384,
    "start_time": "2022-10-20T18:54:04.536Z"
   },
   {
    "duration": 1019,
    "start_time": "2022-10-20T18:54:04.924Z"
   },
   {
    "duration": 15,
    "start_time": "2022-10-20T18:54:05.945Z"
   },
   {
    "duration": 9,
    "start_time": "2022-10-20T18:54:05.962Z"
   },
   {
    "duration": 17,
    "start_time": "2022-10-20T18:54:05.973Z"
   },
   {
    "duration": 16,
    "start_time": "2022-10-20T18:54:05.991Z"
   },
   {
    "duration": 98,
    "start_time": "2022-10-20T18:54:06.008Z"
   },
   {
    "duration": 0,
    "start_time": "2022-10-20T18:54:06.108Z"
   },
   {
    "duration": 0,
    "start_time": "2022-10-20T18:54:06.109Z"
   },
   {
    "duration": 0,
    "start_time": "2022-10-20T18:54:06.110Z"
   },
   {
    "duration": 0,
    "start_time": "2022-10-20T18:54:06.112Z"
   },
   {
    "duration": 0,
    "start_time": "2022-10-20T18:54:06.113Z"
   },
   {
    "duration": 0,
    "start_time": "2022-10-20T18:54:06.115Z"
   },
   {
    "duration": 0,
    "start_time": "2022-10-20T18:54:06.116Z"
   },
   {
    "duration": 0,
    "start_time": "2022-10-20T18:54:06.117Z"
   },
   {
    "duration": 0,
    "start_time": "2022-10-20T18:54:06.119Z"
   },
   {
    "duration": 0,
    "start_time": "2022-10-20T18:54:06.120Z"
   },
   {
    "duration": 0,
    "start_time": "2022-10-20T18:54:06.121Z"
   },
   {
    "duration": 0,
    "start_time": "2022-10-20T18:54:06.122Z"
   },
   {
    "duration": 0,
    "start_time": "2022-10-20T18:54:06.124Z"
   },
   {
    "duration": 0,
    "start_time": "2022-10-20T18:54:06.125Z"
   },
   {
    "duration": 0,
    "start_time": "2022-10-20T18:54:06.126Z"
   },
   {
    "duration": 0,
    "start_time": "2022-10-20T18:54:06.128Z"
   },
   {
    "duration": 0,
    "start_time": "2022-10-20T18:54:06.129Z"
   },
   {
    "duration": 1041,
    "start_time": "2022-10-20T18:54:31.276Z"
   },
   {
    "duration": 49,
    "start_time": "2022-10-20T18:54:32.319Z"
   },
   {
    "duration": 18,
    "start_time": "2022-10-20T18:54:32.369Z"
   },
   {
    "duration": 13,
    "start_time": "2022-10-20T18:54:32.388Z"
   },
   {
    "duration": 45,
    "start_time": "2022-10-20T18:54:32.403Z"
   },
   {
    "duration": 669,
    "start_time": "2022-10-20T18:54:32.449Z"
   },
   {
    "duration": 3,
    "start_time": "2022-10-20T18:54:33.120Z"
   },
   {
    "duration": 8,
    "start_time": "2022-10-20T18:54:33.124Z"
   },
   {
    "duration": 14,
    "start_time": "2022-10-20T18:54:33.134Z"
   },
   {
    "duration": 5,
    "start_time": "2022-10-20T18:54:33.149Z"
   },
   {
    "duration": 15,
    "start_time": "2022-10-20T18:54:33.156Z"
   },
   {
    "duration": 10,
    "start_time": "2022-10-20T18:54:33.172Z"
   },
   {
    "duration": 32,
    "start_time": "2022-10-20T18:54:33.183Z"
   },
   {
    "duration": 13,
    "start_time": "2022-10-20T18:54:33.218Z"
   },
   {
    "duration": 25,
    "start_time": "2022-10-20T18:54:33.233Z"
   },
   {
    "duration": 17,
    "start_time": "2022-10-20T18:54:33.259Z"
   },
   {
    "duration": 28,
    "start_time": "2022-10-20T18:54:33.277Z"
   },
   {
    "duration": 21,
    "start_time": "2022-10-20T18:54:33.307Z"
   },
   {
    "duration": 13,
    "start_time": "2022-10-20T18:54:33.330Z"
   },
   {
    "duration": 4,
    "start_time": "2022-10-20T18:54:33.344Z"
   },
   {
    "duration": 20,
    "start_time": "2022-10-20T18:54:33.350Z"
   },
   {
    "duration": 182,
    "start_time": "2022-10-20T18:54:33.372Z"
   },
   {
    "duration": 16,
    "start_time": "2022-10-20T18:54:33.556Z"
   },
   {
    "duration": 14,
    "start_time": "2022-10-20T18:54:33.573Z"
   },
   {
    "duration": 28,
    "start_time": "2022-10-20T18:54:33.588Z"
   },
   {
    "duration": 17,
    "start_time": "2022-10-20T18:54:33.617Z"
   },
   {
    "duration": 392,
    "start_time": "2022-10-20T18:54:33.635Z"
   },
   {
    "duration": 1026,
    "start_time": "2022-10-20T18:54:34.029Z"
   },
   {
    "duration": 16,
    "start_time": "2022-10-20T18:54:35.056Z"
   },
   {
    "duration": 10,
    "start_time": "2022-10-20T18:54:35.073Z"
   },
   {
    "duration": 24,
    "start_time": "2022-10-20T18:54:35.084Z"
   },
   {
    "duration": 6,
    "start_time": "2022-10-20T18:54:35.110Z"
   },
   {
    "duration": 6,
    "start_time": "2022-10-20T18:54:35.117Z"
   },
   {
    "duration": 4,
    "start_time": "2022-10-20T18:54:35.124Z"
   },
   {
    "duration": 9,
    "start_time": "2022-10-20T18:54:35.130Z"
   },
   {
    "duration": 24,
    "start_time": "2022-10-20T18:54:35.140Z"
   },
   {
    "duration": 1275,
    "start_time": "2022-10-20T18:54:35.165Z"
   },
   {
    "duration": 99,
    "start_time": "2022-10-20T18:54:36.442Z"
   },
   {
    "duration": 0,
    "start_time": "2022-10-20T18:54:36.543Z"
   },
   {
    "duration": 0,
    "start_time": "2022-10-20T18:54:36.544Z"
   },
   {
    "duration": 0,
    "start_time": "2022-10-20T18:54:36.545Z"
   },
   {
    "duration": 0,
    "start_time": "2022-10-20T18:54:36.546Z"
   },
   {
    "duration": 0,
    "start_time": "2022-10-20T18:54:36.547Z"
   },
   {
    "duration": 0,
    "start_time": "2022-10-20T18:54:36.547Z"
   },
   {
    "duration": 0,
    "start_time": "2022-10-20T18:54:36.549Z"
   },
   {
    "duration": 0,
    "start_time": "2022-10-20T18:54:36.550Z"
   },
   {
    "duration": 0,
    "start_time": "2022-10-20T18:54:36.551Z"
   },
   {
    "duration": 0,
    "start_time": "2022-10-20T18:54:36.552Z"
   },
   {
    "duration": 0,
    "start_time": "2022-10-20T18:54:36.553Z"
   },
   {
    "duration": 0,
    "start_time": "2022-10-20T18:54:36.555Z"
   },
   {
    "duration": 5,
    "start_time": "2022-10-20T18:55:02.112Z"
   },
   {
    "duration": 5,
    "start_time": "2022-10-20T18:55:06.165Z"
   },
   {
    "duration": 1033,
    "start_time": "2022-10-20T18:55:14.504Z"
   },
   {
    "duration": 48,
    "start_time": "2022-10-20T18:55:15.538Z"
   },
   {
    "duration": 18,
    "start_time": "2022-10-20T18:55:15.588Z"
   },
   {
    "duration": 12,
    "start_time": "2022-10-20T18:55:15.608Z"
   },
   {
    "duration": 42,
    "start_time": "2022-10-20T18:55:15.621Z"
   },
   {
    "duration": 659,
    "start_time": "2022-10-20T18:55:15.665Z"
   },
   {
    "duration": 3,
    "start_time": "2022-10-20T18:55:16.326Z"
   },
   {
    "duration": 7,
    "start_time": "2022-10-20T18:55:16.331Z"
   },
   {
    "duration": 11,
    "start_time": "2022-10-20T18:55:16.339Z"
   },
   {
    "duration": 4,
    "start_time": "2022-10-20T18:55:16.352Z"
   },
   {
    "duration": 20,
    "start_time": "2022-10-20T18:55:16.358Z"
   },
   {
    "duration": 33,
    "start_time": "2022-10-20T18:55:16.379Z"
   },
   {
    "duration": 11,
    "start_time": "2022-10-20T18:55:16.413Z"
   },
   {
    "duration": 10,
    "start_time": "2022-10-20T18:55:16.425Z"
   },
   {
    "duration": 22,
    "start_time": "2022-10-20T18:55:16.436Z"
   },
   {
    "duration": 18,
    "start_time": "2022-10-20T18:55:16.459Z"
   },
   {
    "duration": 27,
    "start_time": "2022-10-20T18:55:16.478Z"
   },
   {
    "duration": 17,
    "start_time": "2022-10-20T18:55:16.507Z"
   },
   {
    "duration": 16,
    "start_time": "2022-10-20T18:55:16.525Z"
   },
   {
    "duration": 4,
    "start_time": "2022-10-20T18:55:16.543Z"
   },
   {
    "duration": 18,
    "start_time": "2022-10-20T18:55:16.548Z"
   },
   {
    "duration": 177,
    "start_time": "2022-10-20T18:55:16.567Z"
   },
   {
    "duration": 17,
    "start_time": "2022-10-20T18:55:16.746Z"
   },
   {
    "duration": 14,
    "start_time": "2022-10-20T18:55:16.765Z"
   },
   {
    "duration": 31,
    "start_time": "2022-10-20T18:55:16.780Z"
   },
   {
    "duration": 17,
    "start_time": "2022-10-20T18:55:16.812Z"
   },
   {
    "duration": 376,
    "start_time": "2022-10-20T18:55:16.831Z"
   },
   {
    "duration": 1097,
    "start_time": "2022-10-20T18:55:17.210Z"
   },
   {
    "duration": 16,
    "start_time": "2022-10-20T18:55:18.308Z"
   },
   {
    "duration": 11,
    "start_time": "2022-10-20T18:55:18.325Z"
   },
   {
    "duration": 14,
    "start_time": "2022-10-20T18:55:18.337Z"
   },
   {
    "duration": 20,
    "start_time": "2022-10-20T18:55:18.352Z"
   },
   {
    "duration": 25,
    "start_time": "2022-10-20T18:55:18.373Z"
   },
   {
    "duration": 9,
    "start_time": "2022-10-20T18:55:18.399Z"
   },
   {
    "duration": 12,
    "start_time": "2022-10-20T18:55:18.410Z"
   },
   {
    "duration": 23,
    "start_time": "2022-10-20T18:55:18.424Z"
   },
   {
    "duration": 1248,
    "start_time": "2022-10-20T18:55:18.449Z"
   },
   {
    "duration": 9,
    "start_time": "2022-10-20T18:55:19.698Z"
   },
   {
    "duration": 1130,
    "start_time": "2022-10-20T18:55:19.709Z"
   },
   {
    "duration": 5,
    "start_time": "2022-10-20T18:55:20.841Z"
   },
   {
    "duration": 22,
    "start_time": "2022-10-20T18:55:20.848Z"
   },
   {
    "duration": 6,
    "start_time": "2022-10-20T18:55:20.872Z"
   },
   {
    "duration": 43,
    "start_time": "2022-10-20T18:55:20.879Z"
   },
   {
    "duration": 28,
    "start_time": "2022-10-20T18:55:20.923Z"
   },
   {
    "duration": 29,
    "start_time": "2022-10-20T18:55:20.953Z"
   },
   {
    "duration": 4,
    "start_time": "2022-10-20T18:55:21.004Z"
   },
   {
    "duration": 5,
    "start_time": "2022-10-20T18:55:21.010Z"
   },
   {
    "duration": 10,
    "start_time": "2022-10-20T18:55:21.016Z"
   },
   {
    "duration": 11,
    "start_time": "2022-10-20T18:55:21.028Z"
   },
   {
    "duration": 13,
    "start_time": "2022-10-20T18:55:21.040Z"
   },
   {
    "duration": 1345,
    "start_time": "2022-10-20T19:05:15.014Z"
   },
   {
    "duration": 88,
    "start_time": "2022-10-20T19:05:16.362Z"
   },
   {
    "duration": 27,
    "start_time": "2022-10-20T19:05:16.452Z"
   },
   {
    "duration": 18,
    "start_time": "2022-10-20T19:05:16.483Z"
   },
   {
    "duration": 99,
    "start_time": "2022-10-20T19:05:16.503Z"
   },
   {
    "duration": 755,
    "start_time": "2022-10-20T19:05:16.604Z"
   },
   {
    "duration": 3,
    "start_time": "2022-10-20T19:05:17.361Z"
   },
   {
    "duration": 12,
    "start_time": "2022-10-20T19:05:17.366Z"
   },
   {
    "duration": 10,
    "start_time": "2022-10-20T19:05:17.379Z"
   },
   {
    "duration": 5,
    "start_time": "2022-10-20T19:05:17.392Z"
   },
   {
    "duration": 41,
    "start_time": "2022-10-20T19:05:17.398Z"
   },
   {
    "duration": 12,
    "start_time": "2022-10-20T19:05:17.440Z"
   },
   {
    "duration": 13,
    "start_time": "2022-10-20T19:05:17.453Z"
   },
   {
    "duration": 15,
    "start_time": "2022-10-20T19:05:17.468Z"
   },
   {
    "duration": 59,
    "start_time": "2022-10-20T19:05:17.485Z"
   },
   {
    "duration": 19,
    "start_time": "2022-10-20T19:05:17.545Z"
   },
   {
    "duration": 8,
    "start_time": "2022-10-20T19:05:17.566Z"
   },
   {
    "duration": 19,
    "start_time": "2022-10-20T19:05:17.576Z"
   },
   {
    "duration": 41,
    "start_time": "2022-10-20T19:05:17.597Z"
   },
   {
    "duration": 4,
    "start_time": "2022-10-20T19:05:17.640Z"
   },
   {
    "duration": 21,
    "start_time": "2022-10-20T19:05:17.646Z"
   },
   {
    "duration": 194,
    "start_time": "2022-10-20T19:05:17.669Z"
   },
   {
    "duration": 21,
    "start_time": "2022-10-20T19:05:17.866Z"
   },
   {
    "duration": 18,
    "start_time": "2022-10-20T19:05:17.889Z"
   },
   {
    "duration": 38,
    "start_time": "2022-10-20T19:05:17.909Z"
   },
   {
    "duration": 19,
    "start_time": "2022-10-20T19:05:17.949Z"
   },
   {
    "duration": 451,
    "start_time": "2022-10-20T19:05:17.970Z"
   },
   {
    "duration": 1149,
    "start_time": "2022-10-20T19:05:18.424Z"
   },
   {
    "duration": 16,
    "start_time": "2022-10-20T19:05:19.575Z"
   },
   {
    "duration": 10,
    "start_time": "2022-10-20T19:05:19.593Z"
   },
   {
    "duration": 31,
    "start_time": "2022-10-20T19:05:19.605Z"
   },
   {
    "duration": 7,
    "start_time": "2022-10-20T19:05:19.638Z"
   },
   {
    "duration": 6,
    "start_time": "2022-10-20T19:05:19.647Z"
   },
   {
    "duration": 5,
    "start_time": "2022-10-20T19:05:19.655Z"
   },
   {
    "duration": 10,
    "start_time": "2022-10-20T19:05:19.662Z"
   },
   {
    "duration": 27,
    "start_time": "2022-10-20T19:05:19.674Z"
   },
   {
    "duration": 1378,
    "start_time": "2022-10-20T19:05:19.733Z"
   },
   {
    "duration": 7,
    "start_time": "2022-10-20T19:05:21.112Z"
   },
   {
    "duration": 1277,
    "start_time": "2022-10-20T19:05:21.121Z"
   },
   {
    "duration": 5,
    "start_time": "2022-10-20T19:05:22.400Z"
   },
   {
    "duration": 33,
    "start_time": "2022-10-20T19:05:22.406Z"
   },
   {
    "duration": 5,
    "start_time": "2022-10-20T19:05:22.441Z"
   },
   {
    "duration": 40,
    "start_time": "2022-10-20T19:05:22.448Z"
   },
   {
    "duration": 55,
    "start_time": "2022-10-20T19:05:22.490Z"
   },
   {
    "duration": 30,
    "start_time": "2022-10-20T19:05:22.546Z"
   },
   {
    "duration": 3,
    "start_time": "2022-10-20T19:05:22.578Z"
   },
   {
    "duration": 6,
    "start_time": "2022-10-20T19:05:22.583Z"
   },
   {
    "duration": 7,
    "start_time": "2022-10-20T19:05:22.590Z"
   },
   {
    "duration": 46,
    "start_time": "2022-10-20T19:05:22.599Z"
   },
   {
    "duration": 15,
    "start_time": "2022-10-20T19:05:22.646Z"
   },
   {
    "duration": 1015,
    "start_time": "2022-10-20T19:47:47.657Z"
   },
   {
    "duration": 242,
    "start_time": "2022-10-20T19:47:54.024Z"
   },
   {
    "duration": 140,
    "start_time": "2022-10-21T07:20:02.730Z"
   },
   {
    "duration": 1369,
    "start_time": "2022-10-21T07:20:27.148Z"
   },
   {
    "duration": 230,
    "start_time": "2022-10-21T07:20:28.519Z"
   },
   {
    "duration": 21,
    "start_time": "2022-10-21T07:20:28.751Z"
   },
   {
    "duration": 24,
    "start_time": "2022-10-21T07:20:28.775Z"
   },
   {
    "duration": 91,
    "start_time": "2022-10-21T07:20:28.801Z"
   },
   {
    "duration": 861,
    "start_time": "2022-10-21T07:20:28.894Z"
   },
   {
    "duration": 3,
    "start_time": "2022-10-21T07:20:29.757Z"
   },
   {
    "duration": 37,
    "start_time": "2022-10-21T07:20:29.762Z"
   },
   {
    "duration": 17,
    "start_time": "2022-10-21T07:20:29.804Z"
   },
   {
    "duration": 6,
    "start_time": "2022-10-21T07:20:29.823Z"
   },
   {
    "duration": 31,
    "start_time": "2022-10-21T07:20:29.830Z"
   },
   {
    "duration": 11,
    "start_time": "2022-10-21T07:20:29.863Z"
   },
   {
    "duration": 15,
    "start_time": "2022-10-21T07:20:29.875Z"
   },
   {
    "duration": 27,
    "start_time": "2022-10-21T07:20:29.891Z"
   },
   {
    "duration": 36,
    "start_time": "2022-10-21T07:20:29.920Z"
   },
   {
    "duration": 31,
    "start_time": "2022-10-21T07:20:29.958Z"
   },
   {
    "duration": 26,
    "start_time": "2022-10-21T07:20:29.990Z"
   },
   {
    "duration": 44,
    "start_time": "2022-10-21T07:20:30.018Z"
   },
   {
    "duration": 17,
    "start_time": "2022-10-21T07:20:30.064Z"
   },
   {
    "duration": 10,
    "start_time": "2022-10-21T07:20:30.082Z"
   },
   {
    "duration": 41,
    "start_time": "2022-10-21T07:20:30.095Z"
   },
   {
    "duration": 183,
    "start_time": "2022-10-21T07:20:30.138Z"
   },
   {
    "duration": 18,
    "start_time": "2022-10-21T07:20:30.323Z"
   },
   {
    "duration": 17,
    "start_time": "2022-10-21T07:20:30.343Z"
   },
   {
    "duration": 42,
    "start_time": "2022-10-21T07:20:30.362Z"
   },
   {
    "duration": 25,
    "start_time": "2022-10-21T07:20:30.406Z"
   },
   {
    "duration": 414,
    "start_time": "2022-10-21T07:20:30.433Z"
   },
   {
    "duration": 1195,
    "start_time": "2022-10-21T07:20:30.853Z"
   },
   {
    "duration": 19,
    "start_time": "2022-10-21T07:20:32.050Z"
   },
   {
    "duration": 21,
    "start_time": "2022-10-21T07:20:32.085Z"
   },
   {
    "duration": 16,
    "start_time": "2022-10-21T07:20:32.108Z"
   },
   {
    "duration": 6,
    "start_time": "2022-10-21T07:20:32.126Z"
   },
   {
    "duration": 8,
    "start_time": "2022-10-21T07:20:32.134Z"
   },
   {
    "duration": 7,
    "start_time": "2022-10-21T07:20:32.144Z"
   },
   {
    "duration": 11,
    "start_time": "2022-10-21T07:20:32.153Z"
   },
   {
    "duration": 64,
    "start_time": "2022-10-21T07:20:32.166Z"
   },
   {
    "duration": 1593,
    "start_time": "2022-10-21T07:20:32.232Z"
   },
   {
    "duration": 8,
    "start_time": "2022-10-21T07:20:33.827Z"
   },
   {
    "duration": 1578,
    "start_time": "2022-10-21T07:20:33.837Z"
   },
   {
    "duration": 6,
    "start_time": "2022-10-21T07:20:35.418Z"
   },
   {
    "duration": 26,
    "start_time": "2022-10-21T07:20:35.426Z"
   },
   {
    "duration": 9,
    "start_time": "2022-10-21T07:20:35.455Z"
   },
   {
    "duration": 65,
    "start_time": "2022-10-21T07:20:35.466Z"
   },
   {
    "duration": 32,
    "start_time": "2022-10-21T07:20:35.533Z"
   },
   {
    "duration": 57,
    "start_time": "2022-10-21T07:20:35.566Z"
   },
   {
    "duration": 5,
    "start_time": "2022-10-21T07:20:35.624Z"
   },
   {
    "duration": 11,
    "start_time": "2022-10-21T07:20:35.631Z"
   },
   {
    "duration": 9,
    "start_time": "2022-10-21T07:20:35.644Z"
   },
   {
    "duration": 45,
    "start_time": "2022-10-21T07:20:35.655Z"
   },
   {
    "duration": 13,
    "start_time": "2022-10-21T07:20:35.705Z"
   },
   {
    "duration": 3,
    "start_time": "2022-10-21T07:23:11.974Z"
   },
   {
    "duration": 70,
    "start_time": "2022-10-21T07:23:16.068Z"
   },
   {
    "duration": 54,
    "start_time": "2022-10-21T07:23:19.862Z"
   },
   {
    "duration": 69,
    "start_time": "2022-10-21T07:23:25.778Z"
   },
   {
    "duration": 81,
    "start_time": "2022-10-21T07:23:47.172Z"
   },
   {
    "duration": 77,
    "start_time": "2022-10-21T07:24:03.361Z"
   },
   {
    "duration": 877,
    "start_time": "2022-10-21T07:24:15.437Z"
   },
   {
    "duration": 79,
    "start_time": "2022-10-21T07:24:49.012Z"
   },
   {
    "duration": 14,
    "start_time": "2022-10-21T07:25:16.257Z"
   },
   {
    "duration": 16,
    "start_time": "2022-10-21T07:25:17.315Z"
   },
   {
    "duration": 52,
    "start_time": "2022-10-21T07:25:20.640Z"
   },
   {
    "duration": 796,
    "start_time": "2022-10-21T07:25:22.547Z"
   },
   {
    "duration": 7,
    "start_time": "2022-10-21T07:26:00.026Z"
   },
   {
    "duration": 5,
    "start_time": "2022-10-21T07:26:02.785Z"
   },
   {
    "duration": 21,
    "start_time": "2022-10-21T07:26:14.683Z"
   },
   {
    "duration": 10,
    "start_time": "2022-10-21T07:26:18.131Z"
   },
   {
    "duration": 16,
    "start_time": "2022-10-21T07:26:19.168Z"
   },
   {
    "duration": 15,
    "start_time": "2022-10-21T07:27:46.766Z"
   },
   {
    "duration": 28,
    "start_time": "2022-10-21T07:27:50.786Z"
   },
   {
    "duration": 13,
    "start_time": "2022-10-21T07:27:51.444Z"
   },
   {
    "duration": 13,
    "start_time": "2022-10-21T07:27:55.351Z"
   },
   {
    "duration": 7,
    "start_time": "2022-10-21T07:29:09.039Z"
   },
   {
    "duration": 13,
    "start_time": "2022-10-21T07:29:40.169Z"
   },
   {
    "duration": 9,
    "start_time": "2022-10-21T07:33:17.284Z"
   },
   {
    "duration": 10,
    "start_time": "2022-10-21T07:42:44.834Z"
   },
   {
    "duration": 11,
    "start_time": "2022-10-21T07:43:08.583Z"
   },
   {
    "duration": 8,
    "start_time": "2022-10-21T07:45:11.362Z"
   },
   {
    "duration": 8,
    "start_time": "2022-10-21T07:45:30.602Z"
   },
   {
    "duration": 10,
    "start_time": "2022-10-21T07:45:48.407Z"
   },
   {
    "duration": 13,
    "start_time": "2022-10-21T07:46:07.604Z"
   },
   {
    "duration": 8,
    "start_time": "2022-10-21T07:46:11.901Z"
   },
   {
    "duration": 9,
    "start_time": "2022-10-21T07:46:52.746Z"
   },
   {
    "duration": 8,
    "start_time": "2022-10-21T07:47:26.249Z"
   },
   {
    "duration": 7,
    "start_time": "2022-10-21T07:47:38.131Z"
   },
   {
    "duration": 9,
    "start_time": "2022-10-21T07:49:08.205Z"
   },
   {
    "duration": 18,
    "start_time": "2022-10-21T07:49:08.755Z"
   },
   {
    "duration": 41,
    "start_time": "2022-10-21T07:54:20.461Z"
   },
   {
    "duration": 18,
    "start_time": "2022-10-21T07:54:22.163Z"
   },
   {
    "duration": 5,
    "start_time": "2022-10-21T07:54:25.311Z"
   },
   {
    "duration": 26,
    "start_time": "2022-10-21T07:54:26.250Z"
   },
   {
    "duration": 13,
    "start_time": "2022-10-21T07:54:28.935Z"
   },
   {
    "duration": 6,
    "start_time": "2022-10-21T07:54:39.212Z"
   },
   {
    "duration": 15,
    "start_time": "2022-10-21T07:54:40.644Z"
   },
   {
    "duration": 229,
    "start_time": "2022-10-21T08:05:29.670Z"
   },
   {
    "duration": 18,
    "start_time": "2022-10-21T08:06:52.499Z"
   },
   {
    "duration": 95,
    "start_time": "2022-10-21T08:07:40.651Z"
   },
   {
    "duration": 26,
    "start_time": "2022-10-21T08:08:32.174Z"
   },
   {
    "duration": 21,
    "start_time": "2022-10-21T08:08:36.784Z"
   },
   {
    "duration": 18,
    "start_time": "2022-10-21T08:08:55.658Z"
   },
   {
    "duration": 374,
    "start_time": "2022-10-21T08:08:56.707Z"
   },
   {
    "duration": 17,
    "start_time": "2022-10-21T08:11:25.174Z"
   },
   {
    "duration": 8,
    "start_time": "2022-10-21T08:11:25.871Z"
   },
   {
    "duration": 10,
    "start_time": "2022-10-21T08:11:26.727Z"
   },
   {
    "duration": 6,
    "start_time": "2022-10-21T08:11:29.810Z"
   },
   {
    "duration": 5,
    "start_time": "2022-10-21T08:11:30.416Z"
   },
   {
    "duration": 5,
    "start_time": "2022-10-21T08:11:31.915Z"
   },
   {
    "duration": 7,
    "start_time": "2022-10-21T08:11:32.616Z"
   },
   {
    "duration": 27,
    "start_time": "2022-10-21T08:11:42.509Z"
   },
   {
    "duration": 1539,
    "start_time": "2022-10-21T08:11:45.615Z"
   },
   {
    "duration": 7,
    "start_time": "2022-10-21T08:12:13.062Z"
   },
   {
    "duration": 6,
    "start_time": "2022-10-21T08:12:45.571Z"
   },
   {
    "duration": 7,
    "start_time": "2022-10-21T08:13:15.711Z"
   },
   {
    "duration": 6,
    "start_time": "2022-10-21T08:15:14.910Z"
   },
   {
    "duration": 17,
    "start_time": "2022-10-21T08:19:01.515Z"
   },
   {
    "duration": 20,
    "start_time": "2022-10-21T08:19:13.273Z"
   },
   {
    "duration": 3,
    "start_time": "2022-10-21T08:22:58.754Z"
   },
   {
    "duration": 28,
    "start_time": "2022-10-21T08:23:21.784Z"
   },
   {
    "duration": 5,
    "start_time": "2022-10-21T08:24:07.968Z"
   },
   {
    "duration": 20,
    "start_time": "2022-10-21T08:24:08.328Z"
   },
   {
    "duration": 22,
    "start_time": "2022-10-21T08:24:29.451Z"
   },
   {
    "duration": 23,
    "start_time": "2022-10-21T08:24:38.333Z"
   },
   {
    "duration": 25,
    "start_time": "2022-10-21T08:32:36.611Z"
   },
   {
    "duration": 6,
    "start_time": "2022-10-21T08:40:22.052Z"
   },
   {
    "duration": 40,
    "start_time": "2022-10-21T08:40:22.562Z"
   },
   {
    "duration": 36,
    "start_time": "2022-10-21T08:40:26.997Z"
   },
   {
    "duration": 33,
    "start_time": "2022-10-21T08:40:33.593Z"
   },
   {
    "duration": 1207,
    "start_time": "2022-10-21T08:51:17.820Z"
   },
   {
    "duration": 53,
    "start_time": "2022-10-21T08:51:19.029Z"
   },
   {
    "duration": 23,
    "start_time": "2022-10-21T08:51:19.084Z"
   },
   {
    "duration": 39,
    "start_time": "2022-10-21T08:51:19.111Z"
   },
   {
    "duration": 112,
    "start_time": "2022-10-21T08:51:19.151Z"
   },
   {
    "duration": 759,
    "start_time": "2022-10-21T08:51:19.264Z"
   },
   {
    "duration": 3,
    "start_time": "2022-10-21T08:51:20.025Z"
   },
   {
    "duration": 51,
    "start_time": "2022-10-21T08:51:20.030Z"
   },
   {
    "duration": 58,
    "start_time": "2022-10-21T08:51:20.082Z"
   },
   {
    "duration": 30,
    "start_time": "2022-10-21T08:51:20.143Z"
   },
   {
    "duration": 100,
    "start_time": "2022-10-21T08:51:20.175Z"
   },
   {
    "duration": 48,
    "start_time": "2022-10-21T08:51:20.277Z"
   },
   {
    "duration": 49,
    "start_time": "2022-10-21T08:51:20.327Z"
   },
   {
    "duration": 52,
    "start_time": "2022-10-21T08:51:20.378Z"
   },
   {
    "duration": 22,
    "start_time": "2022-10-21T08:51:20.432Z"
   },
   {
    "duration": 44,
    "start_time": "2022-10-21T08:51:20.455Z"
   },
   {
    "duration": 58,
    "start_time": "2022-10-21T08:51:20.500Z"
   },
   {
    "duration": 30,
    "start_time": "2022-10-21T08:51:20.560Z"
   },
   {
    "duration": 86,
    "start_time": "2022-10-21T08:51:20.592Z"
   },
   {
    "duration": 81,
    "start_time": "2022-10-21T08:51:20.679Z"
   },
   {
    "duration": 18,
    "start_time": "2022-10-21T08:51:20.762Z"
   },
   {
    "duration": 65,
    "start_time": "2022-10-21T08:51:20.781Z"
   },
   {
    "duration": 48,
    "start_time": "2022-10-21T08:51:20.848Z"
   },
   {
    "duration": 50,
    "start_time": "2022-10-21T08:51:20.897Z"
   },
   {
    "duration": 22,
    "start_time": "2022-10-21T08:51:20.949Z"
   },
   {
    "duration": 58,
    "start_time": "2022-10-21T08:51:20.972Z"
   },
   {
    "duration": 219,
    "start_time": "2022-10-21T08:51:21.031Z"
   },
   {
    "duration": 17,
    "start_time": "2022-10-21T08:51:21.253Z"
   },
   {
    "duration": 68,
    "start_time": "2022-10-21T08:51:21.272Z"
   },
   {
    "duration": 35,
    "start_time": "2022-10-21T08:51:21.342Z"
   },
   {
    "duration": 59,
    "start_time": "2022-10-21T08:51:21.379Z"
   },
   {
    "duration": 458,
    "start_time": "2022-10-21T08:51:21.440Z"
   },
   {
    "duration": 1170,
    "start_time": "2022-10-21T08:51:21.899Z"
   },
   {
    "duration": 33,
    "start_time": "2022-10-21T08:51:23.070Z"
   },
   {
    "duration": 10,
    "start_time": "2022-10-21T08:51:23.105Z"
   },
   {
    "duration": 15,
    "start_time": "2022-10-21T08:51:23.116Z"
   },
   {
    "duration": 7,
    "start_time": "2022-10-21T08:51:23.133Z"
   },
   {
    "duration": 9,
    "start_time": "2022-10-21T08:51:23.142Z"
   },
   {
    "duration": 6,
    "start_time": "2022-10-21T08:51:23.153Z"
   },
   {
    "duration": 10,
    "start_time": "2022-10-21T08:51:23.160Z"
   },
   {
    "duration": 44,
    "start_time": "2022-10-21T08:51:23.171Z"
   },
   {
    "duration": 1426,
    "start_time": "2022-10-21T08:51:23.217Z"
   },
   {
    "duration": 6,
    "start_time": "2022-10-21T08:51:24.644Z"
   },
   {
    "duration": 13,
    "start_time": "2022-10-21T08:51:24.652Z"
   },
   {
    "duration": 42,
    "start_time": "2022-10-21T08:51:24.667Z"
   },
   {
    "duration": 1424,
    "start_time": "2022-10-21T08:51:24.710Z"
   },
   {
    "duration": 5,
    "start_time": "2022-10-21T08:51:26.135Z"
   },
   {
    "duration": 21,
    "start_time": "2022-10-21T08:51:26.141Z"
   },
   {
    "duration": 37,
    "start_time": "2022-10-21T08:51:26.164Z"
   },
   {
    "duration": 17,
    "start_time": "2022-10-21T08:51:26.207Z"
   },
   {
    "duration": 35,
    "start_time": "2022-10-21T08:51:26.226Z"
   },
   {
    "duration": 37,
    "start_time": "2022-10-21T08:51:26.263Z"
   },
   {
    "duration": 45,
    "start_time": "2022-10-21T08:51:26.303Z"
   },
   {
    "duration": 4,
    "start_time": "2022-10-21T08:51:26.350Z"
   },
   {
    "duration": 7,
    "start_time": "2022-10-21T08:51:26.356Z"
   },
   {
    "duration": 26,
    "start_time": "2022-10-21T08:51:26.364Z"
   },
   {
    "duration": 23,
    "start_time": "2022-10-21T08:51:26.399Z"
   },
   {
    "duration": 21,
    "start_time": "2022-10-21T08:51:26.430Z"
   },
   {
    "duration": 315,
    "start_time": "2022-10-21T08:53:30.080Z"
   },
   {
    "duration": 214,
    "start_time": "2022-10-21T08:53:35.912Z"
   },
   {
    "duration": 262,
    "start_time": "2022-10-21T08:53:54.865Z"
   },
   {
    "duration": 366,
    "start_time": "2022-10-21T08:54:03.628Z"
   },
   {
    "duration": 440,
    "start_time": "2022-10-21T08:54:38.739Z"
   },
   {
    "duration": 300,
    "start_time": "2022-10-21T08:56:58.215Z"
   },
   {
    "duration": 53,
    "start_time": "2022-10-21T09:08:24.746Z"
   },
   {
    "duration": 9,
    "start_time": "2022-10-21T09:38:43.609Z"
   },
   {
    "duration": 16,
    "start_time": "2022-10-21T09:38:44.422Z"
   },
   {
    "duration": 45,
    "start_time": "2022-10-21T09:39:20.315Z"
   },
   {
    "duration": 1689,
    "start_time": "2022-10-21T09:39:37.883Z"
   },
   {
    "duration": 156,
    "start_time": "2022-10-21T09:39:39.575Z"
   },
   {
    "duration": 24,
    "start_time": "2022-10-21T09:39:39.734Z"
   },
   {
    "duration": 64,
    "start_time": "2022-10-21T09:39:39.761Z"
   },
   {
    "duration": 207,
    "start_time": "2022-10-21T09:39:39.831Z"
   },
   {
    "duration": 999,
    "start_time": "2022-10-21T09:39:40.044Z"
   },
   {
    "duration": 6,
    "start_time": "2022-10-21T09:39:41.047Z"
   },
   {
    "duration": 27,
    "start_time": "2022-10-21T09:39:41.055Z"
   },
   {
    "duration": 70,
    "start_time": "2022-10-21T09:39:41.083Z"
   },
   {
    "duration": 26,
    "start_time": "2022-10-21T09:39:41.155Z"
   },
   {
    "duration": 83,
    "start_time": "2022-10-21T09:39:41.182Z"
   },
   {
    "duration": 38,
    "start_time": "2022-10-21T09:39:41.266Z"
   },
   {
    "duration": 60,
    "start_time": "2022-10-21T09:39:41.310Z"
   },
   {
    "duration": 76,
    "start_time": "2022-10-21T09:39:41.374Z"
   },
   {
    "duration": 98,
    "start_time": "2022-10-21T09:39:41.453Z"
   },
   {
    "duration": 7,
    "start_time": "2022-10-21T09:39:41.555Z"
   },
   {
    "duration": 31,
    "start_time": "2022-10-21T09:39:41.564Z"
   },
   {
    "duration": 58,
    "start_time": "2022-10-21T09:39:41.603Z"
   },
   {
    "duration": 15,
    "start_time": "2022-10-21T09:39:41.665Z"
   },
   {
    "duration": 89,
    "start_time": "2022-10-21T09:39:41.693Z"
   },
   {
    "duration": 97,
    "start_time": "2022-10-21T09:39:41.784Z"
   },
   {
    "duration": 83,
    "start_time": "2022-10-21T09:39:41.883Z"
   },
   {
    "duration": 6,
    "start_time": "2022-10-21T09:39:41.968Z"
   },
   {
    "duration": 92,
    "start_time": "2022-10-21T09:39:41.976Z"
   },
   {
    "duration": 26,
    "start_time": "2022-10-21T09:39:42.071Z"
   },
   {
    "duration": 68,
    "start_time": "2022-10-21T09:39:42.105Z"
   },
   {
    "duration": 33,
    "start_time": "2022-10-21T09:39:42.175Z"
   },
   {
    "duration": 294,
    "start_time": "2022-10-21T09:39:42.213Z"
   },
   {
    "duration": 24,
    "start_time": "2022-10-21T09:39:42.512Z"
   },
   {
    "duration": 40,
    "start_time": "2022-10-21T09:39:42.543Z"
   },
   {
    "duration": 75,
    "start_time": "2022-10-21T09:39:42.591Z"
   },
   {
    "duration": 28,
    "start_time": "2022-10-21T09:39:42.668Z"
   },
   {
    "duration": 497,
    "start_time": "2022-10-21T09:39:42.697Z"
   },
   {
    "duration": 383,
    "start_time": "2022-10-21T09:39:43.197Z"
   },
   {
    "duration": 364,
    "start_time": "2022-10-21T09:39:43.581Z"
   },
   {
    "duration": 19,
    "start_time": "2022-10-21T09:39:43.948Z"
   },
   {
    "duration": 20,
    "start_time": "2022-10-21T09:39:43.968Z"
   },
   {
    "duration": 57,
    "start_time": "2022-10-21T09:39:43.990Z"
   },
   {
    "duration": 8,
    "start_time": "2022-10-21T09:39:44.049Z"
   },
   {
    "duration": 15,
    "start_time": "2022-10-21T09:39:44.058Z"
   },
   {
    "duration": 10,
    "start_time": "2022-10-21T09:39:44.078Z"
   },
   {
    "duration": 51,
    "start_time": "2022-10-21T09:39:44.091Z"
   },
   {
    "duration": 26,
    "start_time": "2022-10-21T09:39:44.144Z"
   },
   {
    "duration": 1451,
    "start_time": "2022-10-21T09:39:44.171Z"
   },
   {
    "duration": 7,
    "start_time": "2022-10-21T09:39:45.624Z"
   },
   {
    "duration": 9,
    "start_time": "2022-10-21T09:39:45.632Z"
   },
   {
    "duration": 24,
    "start_time": "2022-10-21T09:39:45.643Z"
   },
   {
    "duration": 1457,
    "start_time": "2022-10-21T09:39:45.668Z"
   },
   {
    "duration": 8,
    "start_time": "2022-10-21T09:39:47.131Z"
   },
   {
    "duration": 26,
    "start_time": "2022-10-21T09:39:47.141Z"
   },
   {
    "duration": 43,
    "start_time": "2022-10-21T09:39:47.169Z"
   },
   {
    "duration": 13,
    "start_time": "2022-10-21T09:39:47.217Z"
   },
   {
    "duration": 83,
    "start_time": "2022-10-21T09:39:47.233Z"
   },
   {
    "duration": 81,
    "start_time": "2022-10-21T09:39:47.318Z"
   },
   {
    "duration": 43,
    "start_time": "2022-10-21T09:39:47.413Z"
   },
   {
    "duration": 7,
    "start_time": "2022-10-21T09:39:47.457Z"
   },
   {
    "duration": 28,
    "start_time": "2022-10-21T09:39:47.466Z"
   },
   {
    "duration": 49,
    "start_time": "2022-10-21T09:39:47.495Z"
   },
   {
    "duration": 25,
    "start_time": "2022-10-21T09:39:47.547Z"
   },
   {
    "duration": 66,
    "start_time": "2022-10-21T09:39:47.574Z"
   },
   {
    "duration": 1223,
    "start_time": "2022-10-21T10:13:00.314Z"
   },
   {
    "duration": 68,
    "start_time": "2022-10-21T10:13:01.541Z"
   },
   {
    "duration": 25,
    "start_time": "2022-10-21T10:13:01.611Z"
   },
   {
    "duration": 20,
    "start_time": "2022-10-21T10:13:01.638Z"
   },
   {
    "duration": 88,
    "start_time": "2022-10-21T10:13:01.661Z"
   },
   {
    "duration": 962,
    "start_time": "2022-10-21T10:13:01.751Z"
   },
   {
    "duration": 5,
    "start_time": "2022-10-21T10:13:02.716Z"
   },
   {
    "duration": 17,
    "start_time": "2022-10-21T10:13:02.724Z"
   },
   {
    "duration": 13,
    "start_time": "2022-10-21T10:13:02.744Z"
   },
   {
    "duration": 8,
    "start_time": "2022-10-21T10:13:02.759Z"
   },
   {
    "duration": 24,
    "start_time": "2022-10-21T10:13:02.769Z"
   },
   {
    "duration": 45,
    "start_time": "2022-10-21T10:13:02.795Z"
   },
   {
    "duration": 13,
    "start_time": "2022-10-21T10:13:02.841Z"
   },
   {
    "duration": 6,
    "start_time": "2022-10-21T10:13:02.857Z"
   },
   {
    "duration": 20,
    "start_time": "2022-10-21T10:13:02.864Z"
   },
   {
    "duration": 11,
    "start_time": "2022-10-21T10:13:02.889Z"
   },
   {
    "duration": 21,
    "start_time": "2022-10-21T10:13:02.905Z"
   },
   {
    "duration": 10,
    "start_time": "2022-10-21T10:13:02.929Z"
   },
   {
    "duration": 8,
    "start_time": "2022-10-21T10:13:02.942Z"
   },
   {
    "duration": 30,
    "start_time": "2022-10-21T10:13:02.952Z"
   },
   {
    "duration": 75,
    "start_time": "2022-10-21T10:13:02.988Z"
   },
   {
    "duration": 30,
    "start_time": "2022-10-21T10:13:03.065Z"
   },
   {
    "duration": 15,
    "start_time": "2022-10-21T10:13:03.096Z"
   },
   {
    "duration": 39,
    "start_time": "2022-10-21T10:13:03.113Z"
   },
   {
    "duration": 20,
    "start_time": "2022-10-21T10:13:03.154Z"
   },
   {
    "duration": 9,
    "start_time": "2022-10-21T10:13:03.176Z"
   },
   {
    "duration": 50,
    "start_time": "2022-10-21T10:13:03.188Z"
   },
   {
    "duration": 199,
    "start_time": "2022-10-21T10:13:03.240Z"
   },
   {
    "duration": 21,
    "start_time": "2022-10-21T10:13:03.440Z"
   },
   {
    "duration": 35,
    "start_time": "2022-10-21T10:13:03.463Z"
   },
   {
    "duration": 25,
    "start_time": "2022-10-21T10:13:03.502Z"
   },
   {
    "duration": 20,
    "start_time": "2022-10-21T10:13:03.529Z"
   },
   {
    "duration": 432,
    "start_time": "2022-10-21T10:13:03.551Z"
   },
   {
    "duration": 373,
    "start_time": "2022-10-21T10:13:03.990Z"
   },
   {
    "duration": 315,
    "start_time": "2022-10-21T10:13:04.365Z"
   },
   {
    "duration": 31,
    "start_time": "2022-10-21T10:13:04.685Z"
   },
   {
    "duration": 11,
    "start_time": "2022-10-21T10:13:04.719Z"
   },
   {
    "duration": 19,
    "start_time": "2022-10-21T10:13:04.731Z"
   },
   {
    "duration": 18,
    "start_time": "2022-10-21T10:13:04.752Z"
   },
   {
    "duration": 40,
    "start_time": "2022-10-21T10:13:04.772Z"
   },
   {
    "duration": 10,
    "start_time": "2022-10-21T10:13:04.816Z"
   },
   {
    "duration": 16,
    "start_time": "2022-10-21T10:13:04.828Z"
   },
   {
    "duration": 57,
    "start_time": "2022-10-21T10:13:04.846Z"
   },
   {
    "duration": 1661,
    "start_time": "2022-10-21T10:13:04.909Z"
   },
   {
    "duration": 6,
    "start_time": "2022-10-21T10:13:06.572Z"
   },
   {
    "duration": 63,
    "start_time": "2022-10-21T10:13:06.580Z"
   },
   {
    "duration": 30,
    "start_time": "2022-10-21T10:13:06.646Z"
   },
   {
    "duration": 1737,
    "start_time": "2022-10-21T10:13:06.678Z"
   },
   {
    "duration": 5,
    "start_time": "2022-10-21T10:13:08.417Z"
   },
   {
    "duration": 53,
    "start_time": "2022-10-21T10:13:08.424Z"
   },
   {
    "duration": 60,
    "start_time": "2022-10-21T10:13:08.479Z"
   },
   {
    "duration": 10,
    "start_time": "2022-10-21T10:13:08.542Z"
   },
   {
    "duration": 43,
    "start_time": "2022-10-21T10:13:08.554Z"
   },
   {
    "duration": 46,
    "start_time": "2022-10-21T10:13:08.599Z"
   },
   {
    "duration": 49,
    "start_time": "2022-10-21T10:13:08.648Z"
   },
   {
    "duration": 5,
    "start_time": "2022-10-21T10:13:08.698Z"
   },
   {
    "duration": 36,
    "start_time": "2022-10-21T10:13:08.705Z"
   },
   {
    "duration": 8,
    "start_time": "2022-10-21T10:13:08.742Z"
   },
   {
    "duration": 25,
    "start_time": "2022-10-21T10:13:08.752Z"
   },
   {
    "duration": 72,
    "start_time": "2022-10-21T10:13:08.781Z"
   }
  ],
  "kernelspec": {
   "display_name": "Python 3 (ipykernel)",
   "language": "python",
   "name": "python3"
  },
  "language_info": {
   "codemirror_mode": {
    "name": "ipython",
    "version": 3
   },
   "file_extension": ".py",
   "mimetype": "text/x-python",
   "name": "python",
   "nbconvert_exporter": "python",
   "pygments_lexer": "ipython3",
   "version": "3.9.12"
  },
  "toc": {
   "base_numbering": 1,
   "nav_menu": {},
   "number_sections": true,
   "sideBar": true,
   "skip_h1_title": true,
   "title_cell": "Table of Contents",
   "title_sidebar": "Contents",
   "toc_cell": false,
   "toc_position": {
    "height": "calc(100% - 180px)",
    "left": "10px",
    "top": "150px",
    "width": "318.188px"
   },
   "toc_section_display": true,
   "toc_window_display": true
  }
 },
 "nbformat": 4,
 "nbformat_minor": 2
}
