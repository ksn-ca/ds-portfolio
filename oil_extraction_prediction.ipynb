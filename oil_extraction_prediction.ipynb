{
 "cells": [
  {
   "cell_type": "markdown",
   "metadata": {},
   "source": [
    "# Oil well location"
   ]
  },
  {
   "cell_type": "markdown",
   "metadata": {},
   "source": [
    "Let's say you work for the mining company GlavRosGosNeft. We need to decide where to drill a new well.\n",
    "\n",
    "You have been provided with oil samples in three regions: in each of 10,000 deposits, where the quality of oil and the volume of its reserves have been measured. Build a machine learning model to help determine the region where mining will bring the most profit. Analyze possible profits and risks using the *Bootstrap* technique.\n",
    "\n",
    "Steps to choose a location:\n",
    "\n",
    "- In the selected region, they are looking for deposits, and for each, the value of the features are determined;\n",
    "- Build a model and estimate the volume of reserves;\n",
    "- Select the deposits with the highest value estimates. The number of fields depends on the company's budget and the cost of developing one well;\n",
    "- The profit is equal to the total profit of the selected deposits."
   ]
  },
  {
   "cell_type": "markdown",
   "metadata": {},
   "source": [
    "## Loading and preparing data"
   ]
  },
  {
   "cell_type": "code",
   "execution_count": 1,
   "metadata": {},
   "outputs": [],
   "source": [
    "import pandas as pd\n",
    "import matplotlib.pyplot as plt\n",
    "import math\n",
    "import numpy as np\n",
    "\n",
    "# sklearn\n",
    "from sklearn.model_selection import train_test_split\n",
    "from sklearn.preprocessing import StandardScaler \n",
    "from sklearn.linear_model import LinearRegression \n",
    "from sklearn.metrics import mean_squared_error, mean_absolute_error"
   ]
  },
  {
   "cell_type": "code",
   "execution_count": 2,
   "metadata": {},
   "outputs": [],
   "source": [
    "# CONSTANTS\n",
    "RANDOM_STATE = 654321\n",
    "REGIONAL_BUDGET_RUB = 10000000000 \n",
    "BARREL_PROFIT_RUB = 450000\n",
    "BEST_FOR_DEV_CNT = 200 \n",
    "CHECK_CNT = 500 \n",
    "BOOTSTRAP_CNT = 1000\n",
    "ERROR_COEF = 0.025\n",
    "QUANTILE_975 = 0.975\n",
    "QUANTILE_025 = 0.025"
   ]
  },
  {
   "cell_type": "code",
   "execution_count": 3,
   "metadata": {},
   "outputs": [
    {
     "name": "stdout",
     "output_type": "stream",
     "text": [
      "Files read correctly\n"
     ]
    }
   ],
   "source": [
    "# file download\n",
    "try:\n",
    "    geo_0 = pd.read_csv('datasets/geo_data_0.csv')\n",
    "    geo_1 = pd.read_csv('datasets/geo_data_1.csv')\n",
    "    geo_2 = pd.read_csv('datasets/geo_data_2.csv')\n",
    "    print('Files read correctly')\n",
    "except:\n",
    "    print(f'Error reading the files')\n",
    "    "
   ]
  },
  {
   "cell_type": "markdown",
   "metadata": {},
   "source": [
    "Let's look at the data for each region"
   ]
  },
  {
   "cell_type": "markdown",
   "metadata": {},
   "source": [
    "### First look"
   ]
  },
  {
   "cell_type": "markdown",
   "metadata": {},
   "source": [
    "#### Geo 0"
   ]
  },
  {
   "cell_type": "code",
   "execution_count": 4,
   "metadata": {},
   "outputs": [
    {
     "data": {
      "text/html": [
       "<div>\n",
       "<style scoped>\n",
       "    .dataframe tbody tr th:only-of-type {\n",
       "        vertical-align: middle;\n",
       "    }\n",
       "\n",
       "    .dataframe tbody tr th {\n",
       "        vertical-align: top;\n",
       "    }\n",
       "\n",
       "    .dataframe thead th {\n",
       "        text-align: right;\n",
       "    }\n",
       "</style>\n",
       "<table border=\"1\" class=\"dataframe\">\n",
       "  <thead>\n",
       "    <tr style=\"text-align: right;\">\n",
       "      <th></th>\n",
       "      <th>id</th>\n",
       "      <th>f0</th>\n",
       "      <th>f1</th>\n",
       "      <th>f2</th>\n",
       "      <th>product</th>\n",
       "    </tr>\n",
       "  </thead>\n",
       "  <tbody>\n",
       "    <tr>\n",
       "      <th>0</th>\n",
       "      <td>txEyH</td>\n",
       "      <td>0.705745</td>\n",
       "      <td>-0.497823</td>\n",
       "      <td>1.221170</td>\n",
       "      <td>105.280062</td>\n",
       "    </tr>\n",
       "    <tr>\n",
       "      <th>1</th>\n",
       "      <td>2acmU</td>\n",
       "      <td>1.334711</td>\n",
       "      <td>-0.340164</td>\n",
       "      <td>4.365080</td>\n",
       "      <td>73.037750</td>\n",
       "    </tr>\n",
       "    <tr>\n",
       "      <th>2</th>\n",
       "      <td>409Wp</td>\n",
       "      <td>1.022732</td>\n",
       "      <td>0.151990</td>\n",
       "      <td>1.419926</td>\n",
       "      <td>85.265647</td>\n",
       "    </tr>\n",
       "    <tr>\n",
       "      <th>3</th>\n",
       "      <td>iJLyR</td>\n",
       "      <td>-0.032172</td>\n",
       "      <td>0.139033</td>\n",
       "      <td>2.978566</td>\n",
       "      <td>168.620776</td>\n",
       "    </tr>\n",
       "    <tr>\n",
       "      <th>4</th>\n",
       "      <td>Xdl7t</td>\n",
       "      <td>1.988431</td>\n",
       "      <td>0.155413</td>\n",
       "      <td>4.751769</td>\n",
       "      <td>154.036647</td>\n",
       "    </tr>\n",
       "  </tbody>\n",
       "</table>\n",
       "</div>"
      ],
      "text/plain": [
       "      id        f0        f1        f2     product\n",
       "0  txEyH  0.705745 -0.497823  1.221170  105.280062\n",
       "1  2acmU  1.334711 -0.340164  4.365080   73.037750\n",
       "2  409Wp  1.022732  0.151990  1.419926   85.265647\n",
       "3  iJLyR -0.032172  0.139033  2.978566  168.620776\n",
       "4  Xdl7t  1.988431  0.155413  4.751769  154.036647"
      ]
     },
     "execution_count": 4,
     "metadata": {},
     "output_type": "execute_result"
    }
   ],
   "source": [
    "geo_0.head()"
   ]
  },
  {
   "cell_type": "code",
   "execution_count": 5,
   "metadata": {},
   "outputs": [
    {
     "name": "stdout",
     "output_type": "stream",
     "text": [
      "<class 'pandas.core.frame.DataFrame'>\n",
      "RangeIndex: 100000 entries, 0 to 99999\n",
      "Data columns (total 5 columns):\n",
      " #   Column   Non-Null Count   Dtype  \n",
      "---  ------   --------------   -----  \n",
      " 0   id       100000 non-null  object \n",
      " 1   f0       100000 non-null  float64\n",
      " 2   f1       100000 non-null  float64\n",
      " 3   f2       100000 non-null  float64\n",
      " 4   product  100000 non-null  float64\n",
      "dtypes: float64(4), object(1)\n",
      "memory usage: 3.8+ MB\n"
     ]
    }
   ],
   "source": [
    "geo_0.info()"
   ]
  },
  {
   "cell_type": "markdown",
   "metadata": {},
   "source": [
    "There are no obvious empty values."
   ]
  },
  {
   "cell_type": "code",
   "execution_count": 6,
   "metadata": {},
   "outputs": [
    {
     "data": {
      "text/html": [
       "<div>\n",
       "<style scoped>\n",
       "    .dataframe tbody tr th:only-of-type {\n",
       "        vertical-align: middle;\n",
       "    }\n",
       "\n",
       "    .dataframe tbody tr th {\n",
       "        vertical-align: top;\n",
       "    }\n",
       "\n",
       "    .dataframe thead th {\n",
       "        text-align: right;\n",
       "    }\n",
       "</style>\n",
       "<table border=\"1\" class=\"dataframe\">\n",
       "  <thead>\n",
       "    <tr style=\"text-align: right;\">\n",
       "      <th></th>\n",
       "      <th>f0</th>\n",
       "      <th>f1</th>\n",
       "      <th>f2</th>\n",
       "      <th>product</th>\n",
       "    </tr>\n",
       "  </thead>\n",
       "  <tbody>\n",
       "    <tr>\n",
       "      <th>count</th>\n",
       "      <td>100000.000000</td>\n",
       "      <td>100000.000000</td>\n",
       "      <td>100000.000000</td>\n",
       "      <td>100000.000000</td>\n",
       "    </tr>\n",
       "    <tr>\n",
       "      <th>mean</th>\n",
       "      <td>0.500419</td>\n",
       "      <td>0.250143</td>\n",
       "      <td>2.502647</td>\n",
       "      <td>92.500000</td>\n",
       "    </tr>\n",
       "    <tr>\n",
       "      <th>std</th>\n",
       "      <td>0.871832</td>\n",
       "      <td>0.504433</td>\n",
       "      <td>3.248248</td>\n",
       "      <td>44.288691</td>\n",
       "    </tr>\n",
       "    <tr>\n",
       "      <th>min</th>\n",
       "      <td>-1.408605</td>\n",
       "      <td>-0.848218</td>\n",
       "      <td>-12.088328</td>\n",
       "      <td>0.000000</td>\n",
       "    </tr>\n",
       "    <tr>\n",
       "      <th>25%</th>\n",
       "      <td>-0.072580</td>\n",
       "      <td>-0.200881</td>\n",
       "      <td>0.287748</td>\n",
       "      <td>56.497507</td>\n",
       "    </tr>\n",
       "    <tr>\n",
       "      <th>50%</th>\n",
       "      <td>0.502360</td>\n",
       "      <td>0.250252</td>\n",
       "      <td>2.515969</td>\n",
       "      <td>91.849972</td>\n",
       "    </tr>\n",
       "    <tr>\n",
       "      <th>75%</th>\n",
       "      <td>1.073581</td>\n",
       "      <td>0.700646</td>\n",
       "      <td>4.715088</td>\n",
       "      <td>128.564089</td>\n",
       "    </tr>\n",
       "    <tr>\n",
       "      <th>max</th>\n",
       "      <td>2.362331</td>\n",
       "      <td>1.343769</td>\n",
       "      <td>16.003790</td>\n",
       "      <td>185.364347</td>\n",
       "    </tr>\n",
       "  </tbody>\n",
       "</table>\n",
       "</div>"
      ],
      "text/plain": [
       "                  f0             f1             f2        product\n",
       "count  100000.000000  100000.000000  100000.000000  100000.000000\n",
       "mean        0.500419       0.250143       2.502647      92.500000\n",
       "std         0.871832       0.504433       3.248248      44.288691\n",
       "min        -1.408605      -0.848218     -12.088328       0.000000\n",
       "25%        -0.072580      -0.200881       0.287748      56.497507\n",
       "50%         0.502360       0.250252       2.515969      91.849972\n",
       "75%         1.073581       0.700646       4.715088     128.564089\n",
       "max         2.362331       1.343769      16.003790     185.364347"
      ]
     },
     "execution_count": 6,
     "metadata": {},
     "output_type": "execute_result"
    }
   ],
   "source": [
    "geo_0.describe()"
   ]
  },
  {
   "cell_type": "code",
   "execution_count": 7,
   "metadata": {},
   "outputs": [
    {
     "data": {
      "image/png": "[encoded data removed]",
      "text/plain": [
       "<Figure size 1080x720 with 4 Axes>"
      ]
     },
     "metadata": {
      "needs_background": "light"
     },
     "output_type": "display_data"
    }
   ],
   "source": [
    "geo_0.hist(figsize=(15,10))\n",
    "plt.show()"
   ]
  },
  {
   "cell_type": "markdown",
   "metadata": {},
   "source": [
    "We see mostly a normal distribution everywhere"
   ]
  },
  {
   "cell_type": "markdown",
   "metadata": {},
   "source": [
    "#### Geo 1"
   ]
  },
  {
   "cell_type": "code",
   "execution_count": 8,
   "metadata": {},
   "outputs": [
    {
     "data": {
      "text/html": [
       "<div>\n",
       "<style scoped>\n",
       "    .dataframe tbody tr th:only-of-type {\n",
       "        vertical-align: middle;\n",
       "    }\n",
       "\n",
       "    .dataframe tbody tr th {\n",
       "        vertical-align: top;\n",
       "    }\n",
       "\n",
       "    .dataframe thead th {\n",
       "        text-align: right;\n",
       "    }\n",
       "</style>\n",
       "<table border=\"1\" class=\"dataframe\">\n",
       "  <thead>\n",
       "    <tr style=\"text-align: right;\">\n",
       "      <th></th>\n",
       "      <th>id</th>\n",
       "      <th>f0</th>\n",
       "      <th>f1</th>\n",
       "      <th>f2</th>\n",
       "      <th>product</th>\n",
       "    </tr>\n",
       "  </thead>\n",
       "  <tbody>\n",
       "    <tr>\n",
       "      <th>0</th>\n",
       "      <td>kBEdx</td>\n",
       "      <td>-15.001348</td>\n",
       "      <td>-8.276000</td>\n",
       "      <td>-0.005876</td>\n",
       "      <td>3.179103</td>\n",
       "    </tr>\n",
       "    <tr>\n",
       "      <th>1</th>\n",
       "      <td>62mP7</td>\n",
       "      <td>14.272088</td>\n",
       "      <td>-3.475083</td>\n",
       "      <td>0.999183</td>\n",
       "      <td>26.953261</td>\n",
       "    </tr>\n",
       "    <tr>\n",
       "      <th>2</th>\n",
       "      <td>vyE1P</td>\n",
       "      <td>6.263187</td>\n",
       "      <td>-5.948386</td>\n",
       "      <td>5.001160</td>\n",
       "      <td>134.766305</td>\n",
       "    </tr>\n",
       "    <tr>\n",
       "      <th>3</th>\n",
       "      <td>KcrkZ</td>\n",
       "      <td>-13.081196</td>\n",
       "      <td>-11.506057</td>\n",
       "      <td>4.999415</td>\n",
       "      <td>137.945408</td>\n",
       "    </tr>\n",
       "    <tr>\n",
       "      <th>4</th>\n",
       "      <td>AHL4O</td>\n",
       "      <td>12.702195</td>\n",
       "      <td>-8.147433</td>\n",
       "      <td>5.004363</td>\n",
       "      <td>134.766305</td>\n",
       "    </tr>\n",
       "  </tbody>\n",
       "</table>\n",
       "</div>"
      ],
      "text/plain": [
       "      id         f0         f1        f2     product\n",
       "0  kBEdx -15.001348  -8.276000 -0.005876    3.179103\n",
       "1  62mP7  14.272088  -3.475083  0.999183   26.953261\n",
       "2  vyE1P   6.263187  -5.948386  5.001160  134.766305\n",
       "3  KcrkZ -13.081196 -11.506057  4.999415  137.945408\n",
       "4  AHL4O  12.702195  -8.147433  5.004363  134.766305"
      ]
     },
     "execution_count": 8,
     "metadata": {},
     "output_type": "execute_result"
    }
   ],
   "source": [
    "geo_1.head()"
   ]
  },
  {
   "cell_type": "code",
   "execution_count": 9,
   "metadata": {},
   "outputs": [
    {
     "name": "stdout",
     "output_type": "stream",
     "text": [
      "<class 'pandas.core.frame.DataFrame'>\n",
      "RangeIndex: 100000 entries, 0 to 99999\n",
      "Data columns (total 5 columns):\n",
      " #   Column   Non-Null Count   Dtype  \n",
      "---  ------   --------------   -----  \n",
      " 0   id       100000 non-null  object \n",
      " 1   f0       100000 non-null  float64\n",
      " 2   f1       100000 non-null  float64\n",
      " 3   f2       100000 non-null  float64\n",
      " 4   product  100000 non-null  float64\n",
      "dtypes: float64(4), object(1)\n",
      "memory usage: 3.8+ MB\n"
     ]
    }
   ],
   "source": [
    "geo_1.info()"
   ]
  },
  {
   "cell_type": "markdown",
   "metadata": {},
   "source": [
    "There are no obvious empty values."
   ]
  },
  {
   "cell_type": "code",
   "execution_count": 10,
   "metadata": {
    "scrolled": true
   },
   "outputs": [
    {
     "data": {
      "text/html": [
       "<div>\n",
       "<style scoped>\n",
       "    .dataframe tbody tr th:only-of-type {\n",
       "        vertical-align: middle;\n",
       "    }\n",
       "\n",
       "    .dataframe tbody tr th {\n",
       "        vertical-align: top;\n",
       "    }\n",
       "\n",
       "    .dataframe thead th {\n",
       "        text-align: right;\n",
       "    }\n",
       "</style>\n",
       "<table border=\"1\" class=\"dataframe\">\n",
       "  <thead>\n",
       "    <tr style=\"text-align: right;\">\n",
       "      <th></th>\n",
       "      <th>f0</th>\n",
       "      <th>f1</th>\n",
       "      <th>f2</th>\n",
       "      <th>product</th>\n",
       "    </tr>\n",
       "  </thead>\n",
       "  <tbody>\n",
       "    <tr>\n",
       "      <th>count</th>\n",
       "      <td>100000.000000</td>\n",
       "      <td>100000.000000</td>\n",
       "      <td>100000.000000</td>\n",
       "      <td>100000.000000</td>\n",
       "    </tr>\n",
       "    <tr>\n",
       "      <th>mean</th>\n",
       "      <td>1.141296</td>\n",
       "      <td>-4.796579</td>\n",
       "      <td>2.494541</td>\n",
       "      <td>68.825000</td>\n",
       "    </tr>\n",
       "    <tr>\n",
       "      <th>std</th>\n",
       "      <td>8.965932</td>\n",
       "      <td>5.119872</td>\n",
       "      <td>1.703572</td>\n",
       "      <td>45.944423</td>\n",
       "    </tr>\n",
       "    <tr>\n",
       "      <th>min</th>\n",
       "      <td>-31.609576</td>\n",
       "      <td>-26.358598</td>\n",
       "      <td>-0.018144</td>\n",
       "      <td>0.000000</td>\n",
       "    </tr>\n",
       "    <tr>\n",
       "      <th>25%</th>\n",
       "      <td>-6.298551</td>\n",
       "      <td>-8.267985</td>\n",
       "      <td>1.000021</td>\n",
       "      <td>26.953261</td>\n",
       "    </tr>\n",
       "    <tr>\n",
       "      <th>50%</th>\n",
       "      <td>1.153055</td>\n",
       "      <td>-4.813172</td>\n",
       "      <td>2.011479</td>\n",
       "      <td>57.085625</td>\n",
       "    </tr>\n",
       "    <tr>\n",
       "      <th>75%</th>\n",
       "      <td>8.621015</td>\n",
       "      <td>-1.332816</td>\n",
       "      <td>3.999904</td>\n",
       "      <td>107.813044</td>\n",
       "    </tr>\n",
       "    <tr>\n",
       "      <th>max</th>\n",
       "      <td>29.421755</td>\n",
       "      <td>18.734063</td>\n",
       "      <td>5.019721</td>\n",
       "      <td>137.945408</td>\n",
       "    </tr>\n",
       "  </tbody>\n",
       "</table>\n",
       "</div>"
      ],
      "text/plain": [
       "                  f0             f1             f2        product\n",
       "count  100000.000000  100000.000000  100000.000000  100000.000000\n",
       "mean        1.141296      -4.796579       2.494541      68.825000\n",
       "std         8.965932       5.119872       1.703572      45.944423\n",
       "min       -31.609576     -26.358598      -0.018144       0.000000\n",
       "25%        -6.298551      -8.267985       1.000021      26.953261\n",
       "50%         1.153055      -4.813172       2.011479      57.085625\n",
       "75%         8.621015      -1.332816       3.999904     107.813044\n",
       "max        29.421755      18.734063       5.019721     137.945408"
      ]
     },
     "execution_count": 10,
     "metadata": {},
     "output_type": "execute_result"
    }
   ],
   "source": [
    "geo_1.describe()"
   ]
  },
  {
   "cell_type": "code",
   "execution_count": 11,
   "metadata": {},
   "outputs": [
    {
     "data": {
      "image/png": "[encoded data removed]",
      "text/plain": [
       "<Figure size 1080x720 with 4 Axes>"
      ]
     },
     "metadata": {
      "needs_background": "light"
     },
     "output_type": "display_data"
    }
   ],
   "source": [
    "geo_1.hist(figsize=(15,10))\n",
    "plt.show()"
   ]
  },
  {
   "cell_type": "markdown",
   "metadata": {},
   "source": [
    "Only f0 and f1 are normally distributed, while f2 is all over the place. The volume of reserves in the well is mostly evenly distributed."
   ]
  },
  {
   "cell_type": "markdown",
   "metadata": {},
   "source": [
    "#### Geo 2"
   ]
  },
  {
   "cell_type": "code",
   "execution_count": 12,
   "metadata": {},
   "outputs": [
    {
     "data": {
      "text/html": [
       "<div>\n",
       "<style scoped>\n",
       "    .dataframe tbody tr th:only-of-type {\n",
       "        vertical-align: middle;\n",
       "    }\n",
       "\n",
       "    .dataframe tbody tr th {\n",
       "        vertical-align: top;\n",
       "    }\n",
       "\n",
       "    .dataframe thead th {\n",
       "        text-align: right;\n",
       "    }\n",
       "</style>\n",
       "<table border=\"1\" class=\"dataframe\">\n",
       "  <thead>\n",
       "    <tr style=\"text-align: right;\">\n",
       "      <th></th>\n",
       "      <th>id</th>\n",
       "      <th>f0</th>\n",
       "      <th>f1</th>\n",
       "      <th>f2</th>\n",
       "      <th>product</th>\n",
       "    </tr>\n",
       "  </thead>\n",
       "  <tbody>\n",
       "    <tr>\n",
       "      <th>0</th>\n",
       "      <td>fwXo0</td>\n",
       "      <td>-1.146987</td>\n",
       "      <td>0.963328</td>\n",
       "      <td>-0.828965</td>\n",
       "      <td>27.758673</td>\n",
       "    </tr>\n",
       "    <tr>\n",
       "      <th>1</th>\n",
       "      <td>WJtFt</td>\n",
       "      <td>0.262778</td>\n",
       "      <td>0.269839</td>\n",
       "      <td>-2.530187</td>\n",
       "      <td>56.069697</td>\n",
       "    </tr>\n",
       "    <tr>\n",
       "      <th>2</th>\n",
       "      <td>ovLUW</td>\n",
       "      <td>0.194587</td>\n",
       "      <td>0.289035</td>\n",
       "      <td>-5.586433</td>\n",
       "      <td>62.871910</td>\n",
       "    </tr>\n",
       "    <tr>\n",
       "      <th>3</th>\n",
       "      <td>q6cA6</td>\n",
       "      <td>2.236060</td>\n",
       "      <td>-0.553760</td>\n",
       "      <td>0.930038</td>\n",
       "      <td>114.572842</td>\n",
       "    </tr>\n",
       "    <tr>\n",
       "      <th>4</th>\n",
       "      <td>WPMUX</td>\n",
       "      <td>-0.515993</td>\n",
       "      <td>1.716266</td>\n",
       "      <td>5.899011</td>\n",
       "      <td>149.600746</td>\n",
       "    </tr>\n",
       "  </tbody>\n",
       "</table>\n",
       "</div>"
      ],
      "text/plain": [
       "      id        f0        f1        f2     product\n",
       "0  fwXo0 -1.146987  0.963328 -0.828965   27.758673\n",
       "1  WJtFt  0.262778  0.269839 -2.530187   56.069697\n",
       "2  ovLUW  0.194587  0.289035 -5.586433   62.871910\n",
       "3  q6cA6  2.236060 -0.553760  0.930038  114.572842\n",
       "4  WPMUX -0.515993  1.716266  5.899011  149.600746"
      ]
     },
     "execution_count": 12,
     "metadata": {},
     "output_type": "execute_result"
    }
   ],
   "source": [
    "geo_2.head()"
   ]
  },
  {
   "cell_type": "code",
   "execution_count": 13,
   "metadata": {},
   "outputs": [
    {
     "name": "stdout",
     "output_type": "stream",
     "text": [
      "<class 'pandas.core.frame.DataFrame'>\n",
      "RangeIndex: 100000 entries, 0 to 99999\n",
      "Data columns (total 5 columns):\n",
      " #   Column   Non-Null Count   Dtype  \n",
      "---  ------   --------------   -----  \n",
      " 0   id       100000 non-null  object \n",
      " 1   f0       100000 non-null  float64\n",
      " 2   f1       100000 non-null  float64\n",
      " 3   f2       100000 non-null  float64\n",
      " 4   product  100000 non-null  float64\n",
      "dtypes: float64(4), object(1)\n",
      "memory usage: 3.8+ MB\n"
     ]
    }
   ],
   "source": [
    "geo_2.info()"
   ]
  },
  {
   "cell_type": "markdown",
   "metadata": {},
   "source": [
    "There are no obvious empty values."
   ]
  },
  {
   "cell_type": "code",
   "execution_count": 14,
   "metadata": {},
   "outputs": [
    {
     "data": {
      "text/html": [
       "<div>\n",
       "<style scoped>\n",
       "    .dataframe tbody tr th:only-of-type {\n",
       "        vertical-align: middle;\n",
       "    }\n",
       "\n",
       "    .dataframe tbody tr th {\n",
       "        vertical-align: top;\n",
       "    }\n",
       "\n",
       "    .dataframe thead th {\n",
       "        text-align: right;\n",
       "    }\n",
       "</style>\n",
       "<table border=\"1\" class=\"dataframe\">\n",
       "  <thead>\n",
       "    <tr style=\"text-align: right;\">\n",
       "      <th></th>\n",
       "      <th>f0</th>\n",
       "      <th>f1</th>\n",
       "      <th>f2</th>\n",
       "      <th>product</th>\n",
       "    </tr>\n",
       "  </thead>\n",
       "  <tbody>\n",
       "    <tr>\n",
       "      <th>count</th>\n",
       "      <td>100000.000000</td>\n",
       "      <td>100000.000000</td>\n",
       "      <td>100000.000000</td>\n",
       "      <td>100000.000000</td>\n",
       "    </tr>\n",
       "    <tr>\n",
       "      <th>mean</th>\n",
       "      <td>0.002023</td>\n",
       "      <td>-0.002081</td>\n",
       "      <td>2.495128</td>\n",
       "      <td>95.000000</td>\n",
       "    </tr>\n",
       "    <tr>\n",
       "      <th>std</th>\n",
       "      <td>1.732045</td>\n",
       "      <td>1.730417</td>\n",
       "      <td>3.473445</td>\n",
       "      <td>44.749921</td>\n",
       "    </tr>\n",
       "    <tr>\n",
       "      <th>min</th>\n",
       "      <td>-8.760004</td>\n",
       "      <td>-7.084020</td>\n",
       "      <td>-11.970335</td>\n",
       "      <td>0.000000</td>\n",
       "    </tr>\n",
       "    <tr>\n",
       "      <th>25%</th>\n",
       "      <td>-1.162288</td>\n",
       "      <td>-1.174820</td>\n",
       "      <td>0.130359</td>\n",
       "      <td>59.450441</td>\n",
       "    </tr>\n",
       "    <tr>\n",
       "      <th>50%</th>\n",
       "      <td>0.009424</td>\n",
       "      <td>-0.009482</td>\n",
       "      <td>2.484236</td>\n",
       "      <td>94.925613</td>\n",
       "    </tr>\n",
       "    <tr>\n",
       "      <th>75%</th>\n",
       "      <td>1.158535</td>\n",
       "      <td>1.163678</td>\n",
       "      <td>4.858794</td>\n",
       "      <td>130.595027</td>\n",
       "    </tr>\n",
       "    <tr>\n",
       "      <th>max</th>\n",
       "      <td>7.238262</td>\n",
       "      <td>7.844801</td>\n",
       "      <td>16.739402</td>\n",
       "      <td>190.029838</td>\n",
       "    </tr>\n",
       "  </tbody>\n",
       "</table>\n",
       "</div>"
      ],
      "text/plain": [
       "                  f0             f1             f2        product\n",
       "count  100000.000000  100000.000000  100000.000000  100000.000000\n",
       "mean        0.002023      -0.002081       2.495128      95.000000\n",
       "std         1.732045       1.730417       3.473445      44.749921\n",
       "min        -8.760004      -7.084020     -11.970335       0.000000\n",
       "25%        -1.162288      -1.174820       0.130359      59.450441\n",
       "50%         0.009424      -0.009482       2.484236      94.925613\n",
       "75%         1.158535       1.163678       4.858794     130.595027\n",
       "max         7.238262       7.844801      16.739402     190.029838"
      ]
     },
     "execution_count": 14,
     "metadata": {},
     "output_type": "execute_result"
    }
   ],
   "source": [
    "geo_2.describe()"
   ]
  },
  {
   "cell_type": "code",
   "execution_count": 15,
   "metadata": {},
   "outputs": [
    {
     "data": {
      "image/png": "[encoded data removed]",
      "text/plain": [
       "<Figure size 1080x720 with 4 Axes>"
      ]
     },
     "metadata": {
      "needs_background": "light"
     },
     "output_type": "display_data"
    }
   ],
   "source": [
    "geo_2.hist(figsize=(15,10))\n",
    "plt.show()"
   ]
  },
  {
   "cell_type": "markdown",
   "metadata": {},
   "source": [
    "Mostly normal distribution "
   ]
  },
  {
   "cell_type": "markdown",
   "metadata": {},
   "source": [
    "#### Results"
   ]
  },
  {
   "cell_type": "markdown",
   "metadata": {},
   "source": [
    "<li>In general, we see that the Geo_0 and Geo_2 regions have a normal distribution, while the Geo_1 region does not.</li>\n",
    "<li>No empty values in any of the datasets</li> \n",
    "<li>The value of f0, f1, and f2 within each region needs to be scaled</li>"
   ]
  },
  {
   "cell_type": "markdown",
   "metadata": {},
   "source": [
    "### Data preprocessing"
   ]
  },
  {
   "cell_type": "markdown",
   "metadata": {},
   "source": [
    "Let's prepare our data for training"
   ]
  },
  {
   "cell_type": "markdown",
   "metadata": {},
   "source": [
    "#### Column: id"
   ]
  },
  {
   "cell_type": "markdown",
   "metadata": {},
   "source": [
    "Do we need column \"id\"?"
   ]
  },
  {
   "cell_type": "code",
   "execution_count": 16,
   "metadata": {},
   "outputs": [
    {
     "data": {
      "text/plain": [
       "99990"
      ]
     },
     "execution_count": 16,
     "metadata": {},
     "output_type": "execute_result"
    }
   ],
   "source": [
    "len(geo_0['id'].unique())"
   ]
  },
  {
   "cell_type": "code",
   "execution_count": 17,
   "metadata": {},
   "outputs": [
    {
     "data": {
      "text/plain": [
       "99996"
      ]
     },
     "execution_count": 17,
     "metadata": {},
     "output_type": "execute_result"
    }
   ],
   "source": [
    "len(geo_1['id'].unique())"
   ]
  },
  {
   "cell_type": "code",
   "execution_count": 18,
   "metadata": {},
   "outputs": [
    {
     "data": {
      "text/plain": [
       "99996"
      ]
     },
     "execution_count": 18,
     "metadata": {},
     "output_type": "execute_result"
    }
   ],
   "source": [
    "len(geo_1['id'].unique())"
   ]
  },
  {
   "cell_type": "markdown",
   "metadata": {},
   "source": [
    "There are duplicate ids, let's look at them"
   ]
  },
  {
   "cell_type": "code",
   "execution_count": 19,
   "metadata": {},
   "outputs": [
    {
     "data": {
      "text/html": [
       "<div>\n",
       "<style scoped>\n",
       "    .dataframe tbody tr th:only-of-type {\n",
       "        vertical-align: middle;\n",
       "    }\n",
       "\n",
       "    .dataframe tbody tr th {\n",
       "        vertical-align: top;\n",
       "    }\n",
       "\n",
       "    .dataframe thead th {\n",
       "        text-align: right;\n",
       "    }\n",
       "</style>\n",
       "<table border=\"1\" class=\"dataframe\">\n",
       "  <thead>\n",
       "    <tr style=\"text-align: right;\">\n",
       "      <th></th>\n",
       "      <th>id</th>\n",
       "      <th>f0</th>\n",
       "      <th>f1</th>\n",
       "      <th>f2</th>\n",
       "      <th>product</th>\n",
       "    </tr>\n",
       "  </thead>\n",
       "  <tbody>\n",
       "    <tr>\n",
       "      <th>66136</th>\n",
       "      <td>74z30</td>\n",
       "      <td>1.084962</td>\n",
       "      <td>-0.312358</td>\n",
       "      <td>6.990771</td>\n",
       "      <td>127.643327</td>\n",
       "    </tr>\n",
       "    <tr>\n",
       "      <th>64022</th>\n",
       "      <td>74z30</td>\n",
       "      <td>0.741456</td>\n",
       "      <td>0.459229</td>\n",
       "      <td>5.153109</td>\n",
       "      <td>140.771492</td>\n",
       "    </tr>\n",
       "    <tr>\n",
       "      <th>51970</th>\n",
       "      <td>A5aEY</td>\n",
       "      <td>-0.180335</td>\n",
       "      <td>0.935548</td>\n",
       "      <td>-2.094773</td>\n",
       "      <td>33.020205</td>\n",
       "    </tr>\n",
       "    <tr>\n",
       "      <th>3389</th>\n",
       "      <td>A5aEY</td>\n",
       "      <td>-0.039949</td>\n",
       "      <td>0.156872</td>\n",
       "      <td>0.209861</td>\n",
       "      <td>89.249364</td>\n",
       "    </tr>\n",
       "    <tr>\n",
       "      <th>69163</th>\n",
       "      <td>AGS9W</td>\n",
       "      <td>-0.933795</td>\n",
       "      <td>0.116194</td>\n",
       "      <td>-3.655896</td>\n",
       "      <td>19.230453</td>\n",
       "    </tr>\n",
       "    <tr>\n",
       "      <th>42529</th>\n",
       "      <td>AGS9W</td>\n",
       "      <td>1.454747</td>\n",
       "      <td>-0.479651</td>\n",
       "      <td>0.683380</td>\n",
       "      <td>126.370504</td>\n",
       "    </tr>\n",
       "    <tr>\n",
       "      <th>931</th>\n",
       "      <td>HZww2</td>\n",
       "      <td>0.755284</td>\n",
       "      <td>0.368511</td>\n",
       "      <td>1.863211</td>\n",
       "      <td>30.681774</td>\n",
       "    </tr>\n",
       "    <tr>\n",
       "      <th>7530</th>\n",
       "      <td>HZww2</td>\n",
       "      <td>1.061194</td>\n",
       "      <td>-0.373969</td>\n",
       "      <td>10.430210</td>\n",
       "      <td>158.828695</td>\n",
       "    </tr>\n",
       "    <tr>\n",
       "      <th>63593</th>\n",
       "      <td>QcMuo</td>\n",
       "      <td>0.635635</td>\n",
       "      <td>-0.473422</td>\n",
       "      <td>0.862670</td>\n",
       "      <td>64.578675</td>\n",
       "    </tr>\n",
       "    <tr>\n",
       "      <th>1949</th>\n",
       "      <td>QcMuo</td>\n",
       "      <td>0.506563</td>\n",
       "      <td>-0.323775</td>\n",
       "      <td>-2.215583</td>\n",
       "      <td>75.496502</td>\n",
       "    </tr>\n",
       "  </tbody>\n",
       "</table>\n",
       "</div>"
      ],
      "text/plain": [
       "          id        f0        f1         f2     product\n",
       "66136  74z30  1.084962 -0.312358   6.990771  127.643327\n",
       "64022  74z30  0.741456  0.459229   5.153109  140.771492\n",
       "51970  A5aEY -0.180335  0.935548  -2.094773   33.020205\n",
       "3389   A5aEY -0.039949  0.156872   0.209861   89.249364\n",
       "69163  AGS9W -0.933795  0.116194  -3.655896   19.230453\n",
       "42529  AGS9W  1.454747 -0.479651   0.683380  126.370504\n",
       "931    HZww2  0.755284  0.368511   1.863211   30.681774\n",
       "7530   HZww2  1.061194 -0.373969  10.430210  158.828695\n",
       "63593  QcMuo  0.635635 -0.473422   0.862670   64.578675\n",
       "1949   QcMuo  0.506563 -0.323775  -2.215583   75.496502"
      ]
     },
     "execution_count": 19,
     "metadata": {},
     "output_type": "execute_result"
    }
   ],
   "source": [
    "geo_0[geo_0['id'].duplicated(keep=False)].sort_values(by='id').head(10)"
   ]
  },
  {
   "cell_type": "markdown",
   "metadata": {},
   "source": [
    "It does not carry any relevant info for our purposes. In general, the column can be deleted!"
   ]
  },
  {
   "cell_type": "code",
   "execution_count": 20,
   "metadata": {},
   "outputs": [],
   "source": [
    "geo_0 = geo_0.drop(['id'], axis=1)\n",
    "geo_1 = geo_1.drop(['id'], axis=1)\n",
    "geo_2 = geo_2.drop(['id'], axis=1)"
   ]
  },
  {
   "cell_type": "code",
   "execution_count": 21,
   "metadata": {},
   "outputs": [
    {
     "data": {
      "text/plain": [
       "Index(['f0', 'f1', 'f2', 'product'], dtype='object')"
      ]
     },
     "execution_count": 21,
     "metadata": {},
     "output_type": "execute_result"
    }
   ],
   "source": [
    "geo_0.columns"
   ]
  },
  {
   "cell_type": "code",
   "execution_count": 22,
   "metadata": {},
   "outputs": [
    {
     "data": {
      "text/plain": [
       "Index(['f0', 'f1', 'f2', 'product'], dtype='object')"
      ]
     },
     "execution_count": 22,
     "metadata": {},
     "output_type": "execute_result"
    }
   ],
   "source": [
    "geo_1.columns"
   ]
  },
  {
   "cell_type": "code",
   "execution_count": 23,
   "metadata": {},
   "outputs": [
    {
     "data": {
      "text/plain": [
       "Index(['f0', 'f1', 'f2', 'product'], dtype='object')"
      ]
     },
     "execution_count": 23,
     "metadata": {},
     "output_type": "execute_result"
    }
   ],
   "source": [
    "geo_2.columns"
   ]
  },
  {
   "cell_type": "markdown",
   "metadata": {},
   "source": [
    "#### Duplicates"
   ]
  },
  {
   "cell_type": "markdown",
   "metadata": {},
   "source": [
    "Check for obvious duplicates"
   ]
  },
  {
   "cell_type": "code",
   "execution_count": 24,
   "metadata": {},
   "outputs": [
    {
     "data": {
      "text/plain": [
       "0"
      ]
     },
     "execution_count": 24,
     "metadata": {},
     "output_type": "execute_result"
    }
   ],
   "source": [
    "geo_0.duplicated().sum()"
   ]
  },
  {
   "cell_type": "code",
   "execution_count": 25,
   "metadata": {},
   "outputs": [
    {
     "data": {
      "text/plain": [
       "0"
      ]
     },
     "execution_count": 25,
     "metadata": {},
     "output_type": "execute_result"
    }
   ],
   "source": [
    "geo_1.duplicated().sum()"
   ]
  },
  {
   "cell_type": "code",
   "execution_count": 26,
   "metadata": {},
   "outputs": [
    {
     "data": {
      "text/plain": [
       "0"
      ]
     },
     "execution_count": 26,
     "metadata": {},
     "output_type": "execute_result"
    }
   ],
   "source": [
    "geo_2.duplicated().sum()"
   ]
  },
  {
   "cell_type": "markdown",
   "metadata": {},
   "source": [
    "No duplicates - good."
   ]
  },
  {
   "cell_type": "markdown",
   "metadata": {},
   "source": [
    "In general, we got fairly clean data"
   ]
  },
  {
   "cell_type": "markdown",
   "metadata": {},
   "source": [
    "## Train and validate the model"
   ]
  },
  {
   "cell_type": "markdown",
   "metadata": {},
   "source": [
    "Now we divide our regions into training and validation sets, scale the data and train our models"
   ]
  },
  {
   "cell_type": "markdown",
   "metadata": {},
   "source": [
    "### Dividing into sets"
   ]
  },
  {
   "cell_type": "markdown",
   "metadata": {},
   "source": [
    "Divide into sets. Ratio 75:25"
   ]
  },
  {
   "cell_type": "markdown",
   "metadata": {},
   "source": [
    "#### Geo 0"
   ]
  },
  {
   "cell_type": "code",
   "execution_count": 27,
   "metadata": {},
   "outputs": [],
   "source": [
    "features_geo_0 = geo_0.drop(['product'], axis=1)\n",
    "target_geo_0 = geo_0['product']"
   ]
  },
  {
   "cell_type": "code",
   "execution_count": 28,
   "metadata": {},
   "outputs": [
    {
     "data": {
      "text/plain": [
       "'(100000, 3), (100000,)'"
      ]
     },
     "execution_count": 28,
     "metadata": {},
     "output_type": "execute_result"
    }
   ],
   "source": [
    "f'{features_geo_0.shape}, {target_geo_0.shape}'"
   ]
  },
  {
   "cell_type": "code",
   "execution_count": 29,
   "metadata": {},
   "outputs": [],
   "source": [
    "features_train_geo_0, features_valid_geo_0, target_train_geo_0, target_valid_geo_0 = (\n",
    "    train_test_split(features_geo_0, target_geo_0, test_size=0.25, random_state=RANDOM_STATE)\n",
    ")"
   ]
  },
  {
   "cell_type": "code",
   "execution_count": 30,
   "metadata": {},
   "outputs": [
    {
     "data": {
      "text/plain": [
       "'Train: 75000, 75000, 75.0%'"
      ]
     },
     "execution_count": 30,
     "metadata": {},
     "output_type": "execute_result"
    }
   ],
   "source": [
    "f'''Train: \\\n",
    "{features_train_geo_0.shape[0]}, \\\n",
    "{target_train_geo_0.shape[0]}, \\\n",
    "{round(features_train_geo_0.shape[0]/geo_0.shape[0]*100, 2)}%'''"
   ]
  },
  {
   "cell_type": "code",
   "execution_count": 31,
   "metadata": {},
   "outputs": [
    {
     "data": {
      "text/plain": [
       "'Validation: 25000, 25000, 25.0%'"
      ]
     },
     "execution_count": 31,
     "metadata": {},
     "output_type": "execute_result"
    }
   ],
   "source": [
    "f'''Validation: \\\n",
    "{features_valid_geo_0.shape[0]}, \\\n",
    "{target_valid_geo_0.shape[0]}, \\\n",
    "{round(features_valid_geo_0.shape[0]/geo_0.shape[0]*100, 2)}%'''"
   ]
  },
  {
   "cell_type": "markdown",
   "metadata": {},
   "source": [
    "#### Geo 1"
   ]
  },
  {
   "cell_type": "code",
   "execution_count": 32,
   "metadata": {},
   "outputs": [],
   "source": [
    "features_geo_1 = geo_1.drop(['product'], axis=1)\n",
    "target_geo_1 = geo_1['product']"
   ]
  },
  {
   "cell_type": "code",
   "execution_count": 33,
   "metadata": {},
   "outputs": [
    {
     "data": {
      "text/plain": [
       "'(100000, 3), (100000,)'"
      ]
     },
     "execution_count": 33,
     "metadata": {},
     "output_type": "execute_result"
    }
   ],
   "source": [
    "f'{features_geo_1.shape}, {target_geo_1.shape}'"
   ]
  },
  {
   "cell_type": "code",
   "execution_count": 34,
   "metadata": {},
   "outputs": [],
   "source": [
    "features_train_geo_1, features_valid_geo_1, target_train_geo_1, target_valid_geo_1 = (\n",
    "    train_test_split(features_geo_1, target_geo_1, test_size=0.25, random_state=RANDOM_STATE)\n",
    ")"
   ]
  },
  {
   "cell_type": "code",
   "execution_count": 35,
   "metadata": {},
   "outputs": [
    {
     "data": {
      "text/plain": [
       "'Train: 75000, 75000, 75.0%'"
      ]
     },
     "execution_count": 35,
     "metadata": {},
     "output_type": "execute_result"
    }
   ],
   "source": [
    "f'''Train: \\\n",
    "{features_train_geo_1.shape[0]}, \\\n",
    "{target_train_geo_1.shape[0]}, \\\n",
    "{round(features_train_geo_1.shape[0]/geo_1.shape[0]*100, 2)}%'''"
   ]
  },
  {
   "cell_type": "code",
   "execution_count": 36,
   "metadata": {},
   "outputs": [
    {
     "data": {
      "text/plain": [
       "'Validation: 25000, 25000, 25.0%'"
      ]
     },
     "execution_count": 36,
     "metadata": {},
     "output_type": "execute_result"
    }
   ],
   "source": [
    "f'''Validation: \\\n",
    "{features_valid_geo_1.shape[0]}, \\\n",
    "{target_valid_geo_1.shape[0]}, \\\n",
    "{round(features_valid_geo_1.shape[0]/geo_1.shape[0]*100, 2)}%'''"
   ]
  },
  {
   "cell_type": "markdown",
   "metadata": {},
   "source": [
    "#### Geo 2"
   ]
  },
  {
   "cell_type": "code",
   "execution_count": 37,
   "metadata": {},
   "outputs": [],
   "source": [
    "features_geo_2 = geo_2.drop(['product'], axis=1)\n",
    "target_geo_2 = geo_2['product']"
   ]
  },
  {
   "cell_type": "code",
   "execution_count": 38,
   "metadata": {},
   "outputs": [
    {
     "data": {
      "text/plain": [
       "'(100000, 3), (100000,)'"
      ]
     },
     "execution_count": 38,
     "metadata": {},
     "output_type": "execute_result"
    }
   ],
   "source": [
    "f'{features_geo_2.shape}, {target_geo_2.shape}'"
   ]
  },
  {
   "cell_type": "code",
   "execution_count": 39,
   "metadata": {},
   "outputs": [],
   "source": [
    "features_train_geo_2, features_valid_geo_2, target_train_geo_2, target_valid_geo_2 = (\n",
    "    train_test_split(features_geo_2, target_geo_2, test_size=0.25, random_state=RANDOM_STATE)\n",
    ")"
   ]
  },
  {
   "cell_type": "code",
   "execution_count": 40,
   "metadata": {},
   "outputs": [
    {
     "data": {
      "text/plain": [
       "'Train: 75000, 75000, 75.0%'"
      ]
     },
     "execution_count": 40,
     "metadata": {},
     "output_type": "execute_result"
    }
   ],
   "source": [
    "f'''Train: \\\n",
    "{features_train_geo_2.shape[0]}, \\\n",
    "{target_train_geo_2.shape[0]}, \\\n",
    "{round(features_train_geo_2.shape[0]/geo_2.shape[0]*100, 2)}%'''"
   ]
  },
  {
   "cell_type": "code",
   "execution_count": 41,
   "metadata": {},
   "outputs": [
    {
     "data": {
      "text/plain": [
       "'Validation: 25000, 25000, 25.0%'"
      ]
     },
     "execution_count": 41,
     "metadata": {},
     "output_type": "execute_result"
    }
   ],
   "source": [
    "f'''Validation: \\\n",
    "{features_valid_geo_2.shape[0]}, \\\n",
    "{target_valid_geo_2.shape[0]}, \\\n",
    "{round(features_valid_geo_2.shape[0]/geo_2.shape[0]*100, 2)}%'''"
   ]
  },
  {
   "cell_type": "markdown",
   "metadata": {},
   "source": [
    "The data has been successfully divided into sets and features!"
   ]
  },
  {
   "cell_type": "markdown",
   "metadata": {},
   "source": [
    "### Scaling"
   ]
  },
  {
   "cell_type": "markdown",
   "metadata": {},
   "source": [
    "Since we assume that all features are equal, we need to scale them"
   ]
  },
  {
   "cell_type": "code",
   "execution_count": 42,
   "metadata": {},
   "outputs": [],
   "source": [
    "pd.options.mode.chained_assignment = None\n",
    "scaler_0 = StandardScaler()\n",
    "scaler_0.fit(features_train_geo_0)\n",
    "\n",
    "features_train_geo_0[features_train_geo_0.columns] = scaler_0.transform(features_train_geo_0[features_train_geo_0.columns])\n",
    "features_valid_geo_0[features_valid_geo_0.columns] = scaler_0.transform(features_valid_geo_0[features_valid_geo_0.columns])"
   ]
  },
  {
   "cell_type": "code",
   "execution_count": 43,
   "metadata": {},
   "outputs": [],
   "source": [
    "pd.options.mode.chained_assignment = None\n",
    "scaler_1 = StandardScaler()\n",
    "scaler_1.fit(features_train_geo_1)\n",
    "\n",
    "features_train_geo_1[features_train_geo_1.columns] = scaler_1.transform(features_train_geo_1[features_train_geo_1.columns])\n",
    "features_valid_geo_1[features_valid_geo_1.columns] = scaler_1.transform(features_valid_geo_1[features_valid_geo_1.columns])\n"
   ]
  },
  {
   "cell_type": "code",
   "execution_count": 44,
   "metadata": {},
   "outputs": [],
   "source": [
    "pd.options.mode.chained_assignment = None\n",
    "scaler_2 = StandardScaler()\n",
    "scaler_2.fit(features_train_geo_2)\n",
    "\n",
    "features_train_geo_2[features_train_geo_2.columns] = scaler_2.transform(features_train_geo_2[features_train_geo_2.columns])\n",
    "features_valid_geo_2[features_valid_geo_2.columns] = scaler_2.transform(features_valid_geo_2[features_valid_geo_2.columns])\n"
   ]
  },
  {
   "cell_type": "markdown",
   "metadata": {},
   "source": [
    "Let's check the scaling."
   ]
  },
  {
   "cell_type": "code",
   "execution_count": 45,
   "metadata": {},
   "outputs": [
    {
     "data": {
      "text/html": [
       "<div>\n",
       "<style scoped>\n",
       "    .dataframe tbody tr th:only-of-type {\n",
       "        vertical-align: middle;\n",
       "    }\n",
       "\n",
       "    .dataframe tbody tr th {\n",
       "        vertical-align: top;\n",
       "    }\n",
       "\n",
       "    .dataframe thead th {\n",
       "        text-align: right;\n",
       "    }\n",
       "</style>\n",
       "<table border=\"1\" class=\"dataframe\">\n",
       "  <thead>\n",
       "    <tr style=\"text-align: right;\">\n",
       "      <th></th>\n",
       "      <th>f0</th>\n",
       "      <th>f1</th>\n",
       "      <th>f2</th>\n",
       "    </tr>\n",
       "  </thead>\n",
       "  <tbody>\n",
       "    <tr>\n",
       "      <th>78171</th>\n",
       "      <td>-1.424113</td>\n",
       "      <td>1.078794</td>\n",
       "      <td>0.837682</td>\n",
       "    </tr>\n",
       "    <tr>\n",
       "      <th>8445</th>\n",
       "      <td>-0.632297</td>\n",
       "      <td>0.400509</td>\n",
       "      <td>-0.512933</td>\n",
       "    </tr>\n",
       "    <tr>\n",
       "      <th>33255</th>\n",
       "      <td>1.325600</td>\n",
       "      <td>-0.865863</td>\n",
       "      <td>0.690793</td>\n",
       "    </tr>\n",
       "    <tr>\n",
       "      <th>74509</th>\n",
       "      <td>0.044165</td>\n",
       "      <td>-1.361556</td>\n",
       "      <td>-0.228982</td>\n",
       "    </tr>\n",
       "    <tr>\n",
       "      <th>42302</th>\n",
       "      <td>1.696325</td>\n",
       "      <td>0.455145</td>\n",
       "      <td>-0.398980</td>\n",
       "    </tr>\n",
       "  </tbody>\n",
       "</table>\n",
       "</div>"
      ],
      "text/plain": [
       "             f0        f1        f2\n",
       "78171 -1.424113  1.078794  0.837682\n",
       "8445  -0.632297  0.400509 -0.512933\n",
       "33255  1.325600 -0.865863  0.690793\n",
       "74509  0.044165 -1.361556 -0.228982\n",
       "42302  1.696325  0.455145 -0.398980"
      ]
     },
     "execution_count": 45,
     "metadata": {},
     "output_type": "execute_result"
    }
   ],
   "source": [
    "features_train_geo_0.head()"
   ]
  },
  {
   "cell_type": "code",
   "execution_count": 46,
   "metadata": {},
   "outputs": [
    {
     "data": {
      "text/html": [
       "<div>\n",
       "<style scoped>\n",
       "    .dataframe tbody tr th:only-of-type {\n",
       "        vertical-align: middle;\n",
       "    }\n",
       "\n",
       "    .dataframe tbody tr th {\n",
       "        vertical-align: top;\n",
       "    }\n",
       "\n",
       "    .dataframe thead th {\n",
       "        text-align: right;\n",
       "    }\n",
       "</style>\n",
       "<table border=\"1\" class=\"dataframe\">\n",
       "  <thead>\n",
       "    <tr style=\"text-align: right;\">\n",
       "      <th></th>\n",
       "      <th>f0</th>\n",
       "      <th>f1</th>\n",
       "      <th>f2</th>\n",
       "    </tr>\n",
       "  </thead>\n",
       "  <tbody>\n",
       "    <tr>\n",
       "      <th>78171</th>\n",
       "      <td>1.485776</td>\n",
       "      <td>-0.074119</td>\n",
       "      <td>-1.461828</td>\n",
       "    </tr>\n",
       "    <tr>\n",
       "      <th>8445</th>\n",
       "      <td>-0.710000</td>\n",
       "      <td>1.023495</td>\n",
       "      <td>-1.463833</td>\n",
       "    </tr>\n",
       "    <tr>\n",
       "      <th>33255</th>\n",
       "      <td>0.737028</td>\n",
       "      <td>-0.590909</td>\n",
       "      <td>-1.463711</td>\n",
       "    </tr>\n",
       "    <tr>\n",
       "      <th>74509</th>\n",
       "      <td>1.495579</td>\n",
       "      <td>1.287452</td>\n",
       "      <td>-0.294239</td>\n",
       "    </tr>\n",
       "    <tr>\n",
       "      <th>42302</th>\n",
       "      <td>-0.162193</td>\n",
       "      <td>-0.057791</td>\n",
       "      <td>-1.463471</td>\n",
       "    </tr>\n",
       "  </tbody>\n",
       "</table>\n",
       "</div>"
      ],
      "text/plain": [
       "             f0        f1        f2\n",
       "78171  1.485776 -0.074119 -1.461828\n",
       "8445  -0.710000  1.023495 -1.463833\n",
       "33255  0.737028 -0.590909 -1.463711\n",
       "74509  1.495579  1.287452 -0.294239\n",
       "42302 -0.162193 -0.057791 -1.463471"
      ]
     },
     "execution_count": 46,
     "metadata": {},
     "output_type": "execute_result"
    }
   ],
   "source": [
    "features_train_geo_1.head()"
   ]
  },
  {
   "cell_type": "code",
   "execution_count": 47,
   "metadata": {},
   "outputs": [
    {
     "data": {
      "text/html": [
       "<div>\n",
       "<style scoped>\n",
       "    .dataframe tbody tr th:only-of-type {\n",
       "        vertical-align: middle;\n",
       "    }\n",
       "\n",
       "    .dataframe tbody tr th {\n",
       "        vertical-align: top;\n",
       "    }\n",
       "\n",
       "    .dataframe thead th {\n",
       "        text-align: right;\n",
       "    }\n",
       "</style>\n",
       "<table border=\"1\" class=\"dataframe\">\n",
       "  <thead>\n",
       "    <tr style=\"text-align: right;\">\n",
       "      <th></th>\n",
       "      <th>f0</th>\n",
       "      <th>f1</th>\n",
       "      <th>f2</th>\n",
       "    </tr>\n",
       "  </thead>\n",
       "  <tbody>\n",
       "    <tr>\n",
       "      <th>78171</th>\n",
       "      <td>0.788958</td>\n",
       "      <td>-1.116239</td>\n",
       "      <td>-0.447831</td>\n",
       "    </tr>\n",
       "    <tr>\n",
       "      <th>8445</th>\n",
       "      <td>0.415822</td>\n",
       "      <td>-1.995621</td>\n",
       "      <td>0.936335</td>\n",
       "    </tr>\n",
       "    <tr>\n",
       "      <th>33255</th>\n",
       "      <td>-0.314193</td>\n",
       "      <td>1.933984</td>\n",
       "      <td>0.681916</td>\n",
       "    </tr>\n",
       "    <tr>\n",
       "      <th>74509</th>\n",
       "      <td>-1.434135</td>\n",
       "      <td>-0.335875</td>\n",
       "      <td>-2.372988</td>\n",
       "    </tr>\n",
       "    <tr>\n",
       "      <th>42302</th>\n",
       "      <td>-1.830388</td>\n",
       "      <td>0.259886</td>\n",
       "      <td>-1.352166</td>\n",
       "    </tr>\n",
       "  </tbody>\n",
       "</table>\n",
       "</div>"
      ],
      "text/plain": [
       "             f0        f1        f2\n",
       "78171  0.788958 -1.116239 -0.447831\n",
       "8445   0.415822 -1.995621  0.936335\n",
       "33255 -0.314193  1.933984  0.681916\n",
       "74509 -1.434135 -0.335875 -2.372988\n",
       "42302 -1.830388  0.259886 -1.352166"
      ]
     },
     "execution_count": 47,
     "metadata": {},
     "output_type": "execute_result"
    }
   ],
   "source": [
    "features_train_geo_2.head()"
   ]
  },
  {
   "cell_type": "markdown",
   "metadata": {},
   "source": [
    "Scaling appears to be correct!"
   ]
  },
  {
   "cell_type": "markdown",
   "metadata": {},
   "source": [
    "### Training"
   ]
  },
  {
   "cell_type": "markdown",
   "metadata": {},
   "source": [
    "Let's train linear regression model as it is the most predictable one."
   ]
  },
  {
   "cell_type": "code",
   "execution_count": 48,
   "metadata": {},
   "outputs": [],
   "source": [
    "# the function finds the MSE and RMSE of the region\n",
    "# returns the prediction\n",
    "def find_best_linear_model(features_train, features_valid, target_train, target_valid): \n",
    "    best_linear_model = None\n",
    "    best_linear_mse = 0\n",
    "    best_linear_rmse = 0\n",
    "    best_mean_rmse = 0\n",
    "    best_mean_mse = 0\n",
    "\n",
    "    model_linear = (LinearRegression())\n",
    "    model_linear.fit(features_train, target_train)\n",
    "    predicted_valid = model_linear.predict(features_valid)\n",
    "    mse = mean_squared_error(target_valid, predicted_valid) \n",
    "    rmse = mse ** 0.5\n",
    "\n",
    "\n",
    "    best_linear_model = model_linear\n",
    "    best_linear_rmse = rmse\n",
    "    best_linear_mse = mse\n",
    "    predicted_valid_mean = pd.Series(target_train.mean(), index=target_valid.index)\n",
    "    best_mean_mse = mean_squared_error(target_valid, predicted_valid_mean)\n",
    "    best_mean_rmse = best_mean_mse ** 0.5\n",
    "\n",
    "    linear_final_result = {'rmse_linear':round(best_linear_rmse,5),\n",
    "                           'mse_linear':round(best_linear_mse,5),\n",
    "                           'rmse_mean':round(best_mean_rmse),\n",
    "                           'mse_mean':round(best_mean_mse,5),\n",
    "                          }\n",
    "    return linear_final_result, predicted_valid"
   ]
  },
  {
   "cell_type": "markdown",
   "metadata": {},
   "source": [
    "Now let's look at the results of the function for each region"
   ]
  },
  {
   "cell_type": "markdown",
   "metadata": {},
   "source": [
    "#### Geo 0"
   ]
  },
  {
   "cell_type": "code",
   "execution_count": 49,
   "metadata": {},
   "outputs": [],
   "source": [
    "geo_0_result, geo_0_predicted_valid = find_best_linear_model(\n",
    "    features_train_geo_0, features_valid_geo_0, target_train_geo_0, target_valid_geo_0\n",
    ")"
   ]
  },
  {
   "cell_type": "code",
   "execution_count": 50,
   "metadata": {},
   "outputs": [
    {
     "data": {
      "text/plain": [
       "{'rmse_linear': 37.62574,\n",
       " 'mse_linear': 1415.69612,\n",
       " 'rmse_mean': 44,\n",
       " 'mse_mean': 1966.04237}"
      ]
     },
     "execution_count": 50,
     "metadata": {},
     "output_type": "execute_result"
    }
   ],
   "source": [
    "geo_0_result"
   ]
  },
  {
   "cell_type": "code",
   "execution_count": 51,
   "metadata": {},
   "outputs": [
    {
     "data": {
      "text/plain": [
       "92.6715348997113"
      ]
     },
     "execution_count": 51,
     "metadata": {},
     "output_type": "execute_result"
    }
   ],
   "source": [
    "geo_0_predicted_valid.mean()"
   ]
  },
  {
   "cell_type": "code",
   "execution_count": 52,
   "metadata": {},
   "outputs": [
    {
     "data": {
      "text/plain": [
       "92.69058326545836"
      ]
     },
     "execution_count": 52,
     "metadata": {},
     "output_type": "execute_result"
    }
   ],
   "source": [
    "pd.Series(geo_0_predicted_valid).median()"
   ]
  },
  {
   "cell_type": "markdown",
   "metadata": {},
   "source": [
    "<li>We see that the average error is somewhere around 37 thousand barrels</li>\n",
    "<li>It is not much different from the average error.</li>\n",
    "<li>Average predicted barrels = 92,000 barrels</li>"
   ]
  },
  {
   "cell_type": "markdown",
   "metadata": {},
   "source": [
    "#### Geo 1"
   ]
  },
  {
   "cell_type": "code",
   "execution_count": 53,
   "metadata": {},
   "outputs": [],
   "source": [
    "geo_1_result, geo_1_predicted_valid  = find_best_linear_model(\n",
    "    features_train_geo_1, features_valid_geo_1, target_train_geo_1, target_valid_geo_1\n",
    ")"
   ]
  },
  {
   "cell_type": "code",
   "execution_count": 54,
   "metadata": {},
   "outputs": [
    {
     "data": {
      "text/plain": [
       "{'rmse_linear': 0.89197,\n",
       " 'mse_linear': 0.79561,\n",
       " 'rmse_mean': 46,\n",
       " 'mse_mean': 2111.36969}"
      ]
     },
     "execution_count": 54,
     "metadata": {},
     "output_type": "execute_result"
    }
   ],
   "source": [
    "geo_1_result"
   ]
  },
  {
   "cell_type": "code",
   "execution_count": 55,
   "metadata": {},
   "outputs": [
    {
     "data": {
      "text/plain": [
       "68.86474583931854"
      ]
     },
     "execution_count": 55,
     "metadata": {},
     "output_type": "execute_result"
    }
   ],
   "source": [
    "geo_1_predicted_valid.mean()"
   ]
  },
  {
   "cell_type": "code",
   "execution_count": 56,
   "metadata": {},
   "outputs": [
    {
     "data": {
      "text/plain": [
       "58.144779785577676"
      ]
     },
     "execution_count": 56,
     "metadata": {},
     "output_type": "execute_result"
    }
   ],
   "source": [
    "pd.Series(geo_1_predicted_valid).median()"
   ]
  },
  {
   "cell_type": "markdown",
   "metadata": {},
   "source": [
    "<li>We see that the average error is less than one thousand barrels.</li>\n",
    "<li>Average predicted barrels = 68,000 barrels</li>"
   ]
  },
  {
   "cell_type": "markdown",
   "metadata": {},
   "source": [
    "#### Geo 2"
   ]
  },
  {
   "cell_type": "code",
   "execution_count": 57,
   "metadata": {},
   "outputs": [],
   "source": [
    "geo_2_result, geo_2_predicted_valid = find_best_linear_model(\n",
    "    features_train_geo_2, features_valid_geo_2, target_train_geo_2, target_valid_geo_2\n",
    ")"
   ]
  },
  {
   "cell_type": "code",
   "execution_count": 58,
   "metadata": {},
   "outputs": [
    {
     "data": {
      "text/plain": [
       "{'rmse_linear': 40.28173,\n",
       " 'mse_linear': 1622.61747,\n",
       " 'rmse_mean': 45,\n",
       " 'mse_mean': 2032.16996}"
      ]
     },
     "execution_count": 58,
     "metadata": {},
     "output_type": "execute_result"
    }
   ],
   "source": [
    "geo_2_result"
   ]
  },
  {
   "cell_type": "code",
   "execution_count": 59,
   "metadata": {},
   "outputs": [
    {
     "data": {
      "text/plain": [
       "95.11667011841202"
      ]
     },
     "execution_count": 59,
     "metadata": {},
     "output_type": "execute_result"
    }
   ],
   "source": [
    "geo_2_predicted_valid.mean()"
   ]
  },
  {
   "cell_type": "code",
   "execution_count": 60,
   "metadata": {},
   "outputs": [
    {
     "data": {
      "text/plain": [
       "95.12448811288374"
      ]
     },
     "execution_count": 60,
     "metadata": {},
     "output_type": "execute_result"
    }
   ],
   "source": [
    "pd.Series(geo_2_predicted_valid).median()"
   ]
  },
  {
   "cell_type": "markdown",
   "metadata": {},
   "source": [
    "<li>We see that the average error is about 40 thousand barrels</li>\n",
    "<li>It is not much different from the average error.</li>\n",
    "<li>Average predicted barrels = 95,000 barrels</li>"
   ]
  },
  {
   "cell_type": "markdown",
   "metadata": {},
   "source": [
    "## Preparing for profit calculation"
   ]
  },
  {
   "cell_type": "markdown",
   "metadata": {},
   "source": [
    "Let's find a sufficient volume of raw materials for the break-even development of a new well"
   ]
  },
  {
   "cell_type": "code",
   "execution_count": 61,
   "metadata": {},
   "outputs": [],
   "source": [
    "min_barrel_in_region = math.ceil(REGIONAL_BUDGET_RUB / BARREL_PROFIT_RUB) "
   ]
  },
  {
   "cell_type": "code",
   "execution_count": 62,
   "metadata": {},
   "outputs": [
    {
     "data": {
      "text/plain": [
       "'The minimum number of barrels in the region should be equal to 22,223 thousands'"
      ]
     },
     "execution_count": 62,
     "metadata": {},
     "output_type": "execute_result"
    }
   ],
   "source": [
    "f'The minimum number of barrels in the region should be equal to {min_barrel_in_region:,} thousands'"
   ]
  },
  {
   "cell_type": "code",
   "execution_count": 63,
   "metadata": {},
   "outputs": [],
   "source": [
    "barrel_per_place = min_barrel_in_region / BEST_FOR_DEV_CNT"
   ]
  },
  {
   "cell_type": "code",
   "execution_count": 64,
   "metadata": {},
   "outputs": [
    {
     "data": {
      "text/plain": [
       "'One well must have an average of 111.115 thousand barrels to break even'"
      ]
     },
     "execution_count": 64,
     "metadata": {},
     "output_type": "execute_result"
    }
   ],
   "source": [
    "f'One well must have an average of {barrel_per_place} thousand barrels to break even'"
   ]
  },
  {
   "cell_type": "markdown",
   "metadata": {},
   "source": [
    "Let's compare these values with the average real values in wells in the regions"
   ]
  },
  {
   "cell_type": "code",
   "execution_count": 65,
   "metadata": {},
   "outputs": [
    {
     "data": {
      "text/plain": [
       "'Geo 0: 92.5'"
      ]
     },
     "execution_count": 65,
     "metadata": {},
     "output_type": "execute_result"
    }
   ],
   "source": [
    "f'Geo 0: {round(target_geo_0.mean(), 5)}'"
   ]
  },
  {
   "cell_type": "code",
   "execution_count": 66,
   "metadata": {},
   "outputs": [
    {
     "data": {
      "text/plain": [
       "'Geo 1: 68.825'"
      ]
     },
     "execution_count": 66,
     "metadata": {},
     "output_type": "execute_result"
    }
   ],
   "source": [
    "f'Geo 1: {round(target_geo_1.mean(), 5)}'"
   ]
  },
  {
   "cell_type": "code",
   "execution_count": 67,
   "metadata": {},
   "outputs": [
    {
     "data": {
      "text/plain": [
       "'Geo 2: 95.0'"
      ]
     },
     "execution_count": 67,
     "metadata": {},
     "output_type": "execute_result"
    }
   ],
   "source": [
    "f'Geo 2: {round(target_geo_2.mean(), 5)}'"
   ]
  },
  {
   "cell_type": "markdown",
   "metadata": {},
   "source": [
    "In all three regions, the average number of barrels per well is less than we need to break even"
   ]
  },
  {
   "cell_type": "markdown",
   "metadata": {},
   "source": [
    "## Calculation of profit and risks"
   ]
  },
  {
   "cell_type": "markdown",
   "metadata": {},
   "source": [
    "Calculate profit based on predictions, find risks, and average model error"
   ]
  },
  {
   "cell_type": "markdown",
   "metadata": {},
   "source": [
    "### Predicted profits"
   ]
  },
  {
   "cell_type": "code",
   "execution_count": 68,
   "metadata": {},
   "outputs": [],
   "source": [
    "# accepts as input equal length samples of real and predicted values, and the number of wells for selection\n",
    "# find top values from predictions \n",
    "# based on that, we find the corresponding real values by the index, and find the profit\n",
    "def profit(target, predicted, count):\n",
    "    predicted_indexed = pd.Series(predicted, index=target.index)\n",
    "    predicted_sorted = predicted_indexed.sort_values(ascending=False)\n",
    "    selected = target[predicted_sorted.index][:count]\n",
    "    return sum(BARREL_PROFIT_RUB * selected) - REGIONAL_BUDGET_RUB"
   ]
  },
  {
   "cell_type": "code",
   "execution_count": 69,
   "metadata": {},
   "outputs": [],
   "source": [
    "geo_0_predicted_profit = profit(target_valid_geo_0, geo_0_predicted_valid, BEST_FOR_DEV_CNT)"
   ]
  },
  {
   "cell_type": "code",
   "execution_count": 70,
   "metadata": {},
   "outputs": [
    {
     "data": {
      "text/plain": [
       "'Profits for Geo 0 = 3,468,372,851.144161'"
      ]
     },
     "execution_count": 70,
     "metadata": {},
     "output_type": "execute_result"
    }
   ],
   "source": [
    "f'Profits for Geo 0 = {geo_0_predicted_profit:,}'"
   ]
  },
  {
   "cell_type": "code",
   "execution_count": 71,
   "metadata": {},
   "outputs": [],
   "source": [
    "geo_1_predicted_profit = profit(target_valid_geo_1, geo_1_predicted_valid, BEST_FOR_DEV_CNT)"
   ]
  },
  {
   "cell_type": "code",
   "execution_count": 72,
   "metadata": {},
   "outputs": [
    {
     "data": {
      "text/plain": [
       "'Profits for Geo 1 = 2,415,086,696.6815624'"
      ]
     },
     "execution_count": 72,
     "metadata": {},
     "output_type": "execute_result"
    }
   ],
   "source": [
    "f'Profits for Geo 1 = {geo_1_predicted_profit:,}'"
   ]
  },
  {
   "cell_type": "code",
   "execution_count": 73,
   "metadata": {},
   "outputs": [],
   "source": [
    "geo_2_predicted_profit = profit(target_valid_geo_1, geo_2_predicted_valid, BEST_FOR_DEV_CNT)"
   ]
  },
  {
   "cell_type": "code",
   "execution_count": 74,
   "metadata": {},
   "outputs": [
    {
     "data": {
      "text/plain": [
       "'Profits for Geo 2 = -4,007,232,675.5251904'"
      ]
     },
     "execution_count": 74,
     "metadata": {},
     "output_type": "execute_result"
    }
   ],
   "source": [
    "f'Profits for Geo 2 = {geo_2_predicted_profit:,}'"
   ]
  },
  {
   "cell_type": "markdown",
   "metadata": {},
   "source": [
    "On Geo 0 and 1 we have a profit, but in Geo 2 we have a significant loss."
   ]
  },
  {
   "cell_type": "markdown",
   "metadata": {},
   "source": [
    "### Risks"
   ]
  },
  {
   "cell_type": "code",
   "execution_count": 75,
   "metadata": {},
   "outputs": [],
   "source": [
    "state = np.random.RandomState(RANDOM_STATE)"
   ]
  },
  {
   "cell_type": "code",
   "execution_count": 76,
   "metadata": {},
   "outputs": [],
   "source": [
    "def bootstrap(target, predicted, count, check):\n",
    "    values = []\n",
    "    for i in range(count):\n",
    "        target_subsample = target.sample(check, replace=True, random_state=state)\n",
    "        predicted_subsample = pd.Series(predicted, index=target.index)[target_subsample.index]\n",
    "        values.append(profit(target_subsample, predicted_subsample, BEST_FOR_DEV_CNT))\n",
    "\n",
    "    values = pd.Series(values)\n",
    "    \n",
    "    upper = values.quantile(QUANTILE_975)\n",
    "    lower = values.quantile(QUANTILE_025)\n",
    "    mean = values.mean()\n",
    "    risk = values < 0\n",
    "    risk = risk.mean()\n",
    "    \n",
    "    return upper, lower, mean, risk"
   ]
  },
  {
   "cell_type": "markdown",
   "metadata": {},
   "source": [
    "#### Geo 0"
   ]
  },
  {
   "cell_type": "code",
   "execution_count": 77,
   "metadata": {},
   "outputs": [],
   "source": [
    "geo_0_upper, geo_0_lower, geo_0_mean, geo_0_risk = bootstrap(\n",
    "    target_valid_geo_0, geo_0_predicted_valid, BOOTSTRAP_CNT, CHECK_CNT\n",
    ")"
   ]
  },
  {
   "cell_type": "code",
   "execution_count": 78,
   "metadata": {},
   "outputs": [
    {
     "data": {
      "text/plain": [
       "'Confidence interval: from -12,863,885.341850467 to 1,026,037,903.7974298'"
      ]
     },
     "execution_count": 78,
     "metadata": {},
     "output_type": "execute_result"
    }
   ],
   "source": [
    "f'Confidence interval: from {geo_0_lower:,} to {geo_0_upper:,}'"
   ]
  },
  {
   "cell_type": "code",
   "execution_count": 79,
   "metadata": {},
   "outputs": [
    {
     "data": {
      "text/plain": [
       "'Average profit: 521,480,669.45672536'"
      ]
     },
     "execution_count": 79,
     "metadata": {},
     "output_type": "execute_result"
    }
   ],
   "source": [
    "f'Average profit: {geo_0_mean:,}'"
   ]
  },
  {
   "cell_type": "code",
   "execution_count": 80,
   "metadata": {},
   "outputs": [
    {
     "data": {
      "text/plain": [
       "'Negative profit risk: 0.03'"
      ]
     },
     "execution_count": 80,
     "metadata": {},
     "output_type": "execute_result"
    }
   ],
   "source": [
    "f'Negative profit risk: {geo_0_risk}'"
   ]
  },
  {
   "cell_type": "code",
   "execution_count": 81,
   "metadata": {},
   "outputs": [
    {
     "data": {
      "text/plain": [
       "'Is the risk lower than required? No'"
      ]
     },
     "execution_count": 81,
     "metadata": {},
     "output_type": "execute_result"
    }
   ],
   "source": [
    "f'Is the risk lower than required? {\"Yes\" if geo_0_risk < ERROR_COEF else \"No\"}'"
   ]
  },
  {
   "cell_type": "markdown",
   "metadata": {},
   "source": [
    "#### Geo 1"
   ]
  },
  {
   "cell_type": "code",
   "execution_count": 82,
   "metadata": {},
   "outputs": [],
   "source": [
    "geo_1_upper, geo_1_lower, geo_1_mean, geo_1_risk = bootstrap(\n",
    "    target_valid_geo_1, geo_1_predicted_valid, BOOTSTRAP_CNT, CHECK_CNT\n",
    ")"
   ]
  },
  {
   "cell_type": "code",
   "execution_count": 83,
   "metadata": {},
   "outputs": [
    {
     "data": {
      "text/plain": [
       "'Confidence interval: from 90,989,931.04269214 to 943,521,059.1383471'"
      ]
     },
     "execution_count": 83,
     "metadata": {},
     "output_type": "execute_result"
    }
   ],
   "source": [
    "f'Confidence interval: from {geo_1_lower:,} to {geo_1_upper:,}'"
   ]
  },
  {
   "cell_type": "code",
   "execution_count": 84,
   "metadata": {},
   "outputs": [
    {
     "data": {
      "text/plain": [
       "'Average profit: 509,670,940.7359877'"
      ]
     },
     "execution_count": 84,
     "metadata": {},
     "output_type": "execute_result"
    }
   ],
   "source": [
    "f'Average profit: {geo_1_mean:,}'"
   ]
  },
  {
   "cell_type": "code",
   "execution_count": 85,
   "metadata": {},
   "outputs": [
    {
     "data": {
      "text/plain": [
       "'Negative profit risk: 0.01'"
      ]
     },
     "execution_count": 85,
     "metadata": {},
     "output_type": "execute_result"
    }
   ],
   "source": [
    "f'Negative profit risk: {geo_1_risk}'"
   ]
  },
  {
   "cell_type": "code",
   "execution_count": 86,
   "metadata": {},
   "outputs": [
    {
     "data": {
      "text/plain": [
       "'Is the risk lower than required? Yes'"
      ]
     },
     "execution_count": 86,
     "metadata": {},
     "output_type": "execute_result"
    }
   ],
   "source": [
    "f'Is the risk lower than required? {\"Yes\" if geo_1_risk < ERROR_COEF else \"No\"}'"
   ]
  },
  {
   "cell_type": "markdown",
   "metadata": {},
   "source": [
    "#### Geo 2"
   ]
  },
  {
   "cell_type": "code",
   "execution_count": 87,
   "metadata": {},
   "outputs": [],
   "source": [
    "geo_2_upper, geo_2_lower, geo_2_mean, geo_2_risk = bootstrap(\n",
    "    target_valid_geo_2, geo_2_predicted_valid, BOOTSTRAP_CNT, CHECK_CNT\n",
    ")"
   ]
  },
  {
   "cell_type": "code",
   "execution_count": 88,
   "metadata": {},
   "outputs": [
    {
     "data": {
      "text/plain": [
       "'Confidence interval: from -123,862,009.55221796 to 993,899,253.4107847'"
      ]
     },
     "execution_count": 88,
     "metadata": {},
     "output_type": "execute_result"
    }
   ],
   "source": [
    "f'Confidence interval: from {geo_2_lower:,} to {geo_2_upper:,}'"
   ]
  },
  {
   "cell_type": "code",
   "execution_count": 89,
   "metadata": {},
   "outputs": [
    {
     "data": {
      "text/plain": [
       "'Average profit: 439,399,844.2868845'"
      ]
     },
     "execution_count": 89,
     "metadata": {},
     "output_type": "execute_result"
    }
   ],
   "source": [
    "f'Average profit: {geo_2_mean:,}'"
   ]
  },
  {
   "cell_type": "code",
   "execution_count": 90,
   "metadata": {},
   "outputs": [
    {
     "data": {
      "text/plain": [
       "'Negative profit risk: 0.06'"
      ]
     },
     "execution_count": 90,
     "metadata": {},
     "output_type": "execute_result"
    }
   ],
   "source": [
    "f'Negative profit risk: {geo_2_risk}'"
   ]
  },
  {
   "cell_type": "code",
   "execution_count": 91,
   "metadata": {},
   "outputs": [
    {
     "data": {
      "text/plain": [
       "'Is the risk lower than required? No'"
      ]
     },
     "execution_count": 91,
     "metadata": {},
     "output_type": "execute_result"
    }
   ],
   "source": [
    "f'Is the risk lower than required? {\"Yes\" if geo_2_risk < ERROR_COEF else \"No\"}'"
   ]
  },
  {
   "cell_type": "markdown",
   "metadata": {},
   "source": [
    "#### Results"
   ]
  },
  {
   "cell_type": "markdown",
   "metadata": {},
   "source": [
    "<p>The risk of negative profit is the most reliable for Geo 1, as it is almost close to zero and below the required 2.5%</p>\n",
    "<p>It also has the only 95% confidence interval in the positive.</p>\n",
    "<p>Based on this, we conclude that Geo 1 is the most suitable region for our task.</p>"
   ]
  },
  {
   "cell_type": "markdown",
   "metadata": {},
   "source": [
    "## Conclusion"
   ]
  },
  {
   "cell_type": "markdown",
   "metadata": {},
   "source": [
    "<p>As part of this study, in order to find a region with maximum profitability, we did the following work: we loaded and processed the data, cleaning it from features that do not affect the model training. We split our data into training and validation sets and also scaled the features so that each of the three f-metrics was equal in significance.</p>\n",
    "\n",
    "<p>Next, we trained a linear regression model and stored its predictions. Based on these predictions, we calculated the profit for each region. We found how many thousand barrels should be on average in each well in order for us to reach 0 profit and how many there are now. In all three regions, it was less than we need.</p>\n",
    "\n",
    "<p>We used the bootstrap technique to find 500 random wells 1000 times in each region and found for each region: negative return risk, average return, and 95% confidence quintile.</p>\n",
    "\n",
    "<p>Based on our study, we recommend region #1 as it is the only region with low risk of negative profit, high predicted profit, and positive values in the 95% confidence interval.</p>"
   ]
  },
  {
   "cell_type": "code",
   "execution_count": null,
   "metadata": {},
   "outputs": [],
   "source": []
  }
 ],
 "metadata": {
  "ExecuteTimeLog": [
   {
    "duration": 1189,
    "start_time": "2022-12-11T15:34:58.115Z"
   },
   {
    "duration": 3,
    "start_time": "2022-12-11T15:35:22.350Z"
   },
   {
    "duration": 3,
    "start_time": "2022-12-11T15:35:53.155Z"
   },
   {
    "duration": 3,
    "start_time": "2022-12-11T15:36:14.667Z"
   },
   {
    "duration": 46,
    "start_time": "2022-12-11T15:36:32.840Z"
   },
   {
    "duration": 41,
    "start_time": "2022-12-11T15:36:43.014Z"
   },
   {
    "duration": 41,
    "start_time": "2022-12-11T15:36:54.162Z"
   },
   {
    "duration": 1709,
    "start_time": "2022-12-11T15:37:11.570Z"
   },
   {
    "duration": 411,
    "start_time": "2022-12-11T15:37:40.708Z"
   },
   {
    "duration": 17,
    "start_time": "2022-12-11T15:38:25.685Z"
   },
   {
    "duration": 17,
    "start_time": "2022-12-11T15:38:34.175Z"
   },
   {
    "duration": 445,
    "start_time": "2022-12-11T15:42:49.984Z"
   },
   {
    "duration": 367,
    "start_time": "2022-12-11T15:42:59.735Z"
   },
   {
    "duration": 488,
    "start_time": "2022-12-11T15:43:10.208Z"
   },
   {
    "duration": 638,
    "start_time": "2022-12-11T15:43:15.504Z"
   },
   {
    "duration": 541,
    "start_time": "2022-12-11T15:43:21.472Z"
   },
   {
    "duration": 2,
    "start_time": "2022-12-11T15:45:02.908Z"
   },
   {
    "duration": 40,
    "start_time": "2022-12-11T15:45:10.779Z"
   },
   {
    "duration": 2,
    "start_time": "2022-12-11T15:47:37.084Z"
   },
   {
    "duration": 10,
    "start_time": "2022-12-11T15:47:59.491Z"
   },
   {
    "duration": 16,
    "start_time": "2022-12-11T15:48:09.970Z"
   },
   {
    "duration": 486,
    "start_time": "2022-12-11T15:48:23.181Z"
   },
   {
    "duration": 35,
    "start_time": "2022-12-11T15:48:50.473Z"
   },
   {
    "duration": 10,
    "start_time": "2022-12-11T15:52:17.310Z"
   },
   {
    "duration": 17,
    "start_time": "2022-12-11T15:52:28.041Z"
   },
   {
    "duration": 516,
    "start_time": "2022-12-11T15:52:53.439Z"
   },
   {
    "duration": 655,
    "start_time": "2022-12-11T15:53:05.305Z"
   },
   {
    "duration": 36,
    "start_time": "2022-12-11T15:53:09.949Z"
   },
   {
    "duration": 36,
    "start_time": "2022-12-11T15:53:20.860Z"
   },
   {
    "duration": 1450,
    "start_time": "2022-12-11T15:53:50.116Z"
   },
   {
    "duration": 3,
    "start_time": "2022-12-11T15:53:51.568Z"
   },
   {
    "duration": 441,
    "start_time": "2022-12-11T15:53:51.573Z"
   },
   {
    "duration": 21,
    "start_time": "2022-12-11T15:53:52.016Z"
   },
   {
    "duration": 30,
    "start_time": "2022-12-11T15:53:52.039Z"
   },
   {
    "duration": 42,
    "start_time": "2022-12-11T15:53:52.071Z"
   },
   {
    "duration": 537,
    "start_time": "2022-12-11T15:53:52.115Z"
   },
   {
    "duration": 10,
    "start_time": "2022-12-11T15:53:52.653Z"
   },
   {
    "duration": 29,
    "start_time": "2022-12-11T15:53:52.665Z"
   },
   {
    "duration": 53,
    "start_time": "2022-12-11T15:53:52.696Z"
   },
   {
    "duration": 508,
    "start_time": "2022-12-11T15:53:52.750Z"
   },
   {
    "duration": 11,
    "start_time": "2022-12-11T15:53:53.259Z"
   },
   {
    "duration": 38,
    "start_time": "2022-12-11T15:53:53.272Z"
   },
   {
    "duration": 49,
    "start_time": "2022-12-11T15:53:53.312Z"
   },
   {
    "duration": 612,
    "start_time": "2022-12-11T15:53:53.363Z"
   },
   {
    "duration": 18,
    "start_time": "2022-12-11T16:04:49.573Z"
   },
   {
    "duration": 19,
    "start_time": "2022-12-11T16:04:57.373Z"
   },
   {
    "duration": 21,
    "start_time": "2022-12-11T16:05:05.586Z"
   },
   {
    "duration": 12,
    "start_time": "2022-12-11T16:06:26.748Z"
   },
   {
    "duration": 4,
    "start_time": "2022-12-11T16:07:12.898Z"
   },
   {
    "duration": 4,
    "start_time": "2022-12-11T16:07:24.602Z"
   },
   {
    "duration": 5,
    "start_time": "2022-12-11T16:07:24.764Z"
   },
   {
    "duration": 37,
    "start_time": "2022-12-11T16:08:26.351Z"
   },
   {
    "duration": 29,
    "start_time": "2022-12-11T16:08:33.858Z"
   },
   {
    "duration": 32,
    "start_time": "2022-12-11T16:08:39.274Z"
   },
   {
    "duration": 75,
    "start_time": "2022-12-11T16:08:50.197Z"
   },
   {
    "duration": 1353,
    "start_time": "2022-12-11T16:10:11.102Z"
   },
   {
    "duration": 3,
    "start_time": "2022-12-11T16:10:12.457Z"
   },
   {
    "duration": 405,
    "start_time": "2022-12-11T16:10:12.462Z"
   },
   {
    "duration": 16,
    "start_time": "2022-12-11T16:10:12.868Z"
   },
   {
    "duration": 16,
    "start_time": "2022-12-11T16:10:12.887Z"
   },
   {
    "duration": 62,
    "start_time": "2022-12-11T16:10:12.905Z"
   },
   {
    "duration": 568,
    "start_time": "2022-12-11T16:10:12.969Z"
   },
   {
    "duration": 11,
    "start_time": "2022-12-11T16:10:13.539Z"
   },
   {
    "duration": 29,
    "start_time": "2022-12-11T16:10:13.552Z"
   },
   {
    "duration": 37,
    "start_time": "2022-12-11T16:10:13.583Z"
   },
   {
    "duration": 959,
    "start_time": "2022-12-11T16:10:13.622Z"
   },
   {
    "duration": 61,
    "start_time": "2022-12-11T16:10:14.583Z"
   },
   {
    "duration": 28,
    "start_time": "2022-12-11T16:10:14.647Z"
   },
   {
    "duration": 90,
    "start_time": "2022-12-11T16:10:14.678Z"
   },
   {
    "duration": 1212,
    "start_time": "2022-12-11T16:10:14.771Z"
   },
   {
    "duration": 70,
    "start_time": "2022-12-11T16:10:15.986Z"
   },
   {
    "duration": 20,
    "start_time": "2022-12-11T16:10:16.058Z"
   },
   {
    "duration": 20,
    "start_time": "2022-12-11T16:10:16.080Z"
   },
   {
    "duration": 42,
    "start_time": "2022-12-11T16:10:16.102Z"
   },
   {
    "duration": 10,
    "start_time": "2022-12-11T16:10:16.146Z"
   },
   {
    "duration": 7,
    "start_time": "2022-12-11T16:10:16.158Z"
   },
   {
    "duration": 8,
    "start_time": "2022-12-11T16:10:16.166Z"
   },
   {
    "duration": 7,
    "start_time": "2022-12-11T16:10:16.175Z"
   },
   {
    "duration": 59,
    "start_time": "2022-12-11T16:10:16.184Z"
   },
   {
    "duration": 24,
    "start_time": "2022-12-11T16:10:16.245Z"
   },
   {
    "duration": 36,
    "start_time": "2022-12-11T16:10:16.271Z"
   },
   {
    "duration": 400,
    "start_time": "2022-12-11T16:10:37.788Z"
   },
   {
    "duration": 48,
    "start_time": "2022-12-11T16:10:46.152Z"
   },
   {
    "duration": 41,
    "start_time": "2022-12-11T16:10:46.486Z"
   },
   {
    "duration": 48,
    "start_time": "2022-12-11T16:10:46.987Z"
   },
   {
    "duration": 63,
    "start_time": "2022-12-11T16:11:27.856Z"
   },
   {
    "duration": 63,
    "start_time": "2022-12-11T16:11:54.506Z"
   },
   {
    "duration": 60,
    "start_time": "2022-12-11T16:12:03.401Z"
   },
   {
    "duration": 17,
    "start_time": "2022-12-11T16:12:46.968Z"
   },
   {
    "duration": 19,
    "start_time": "2022-12-11T16:14:56.748Z"
   },
   {
    "duration": 23,
    "start_time": "2022-12-11T16:15:09.073Z"
   },
   {
    "duration": 20,
    "start_time": "2022-12-11T16:15:24.095Z"
   },
   {
    "duration": 109,
    "start_time": "2022-12-11T16:18:15.323Z"
   },
   {
    "duration": 27,
    "start_time": "2022-12-11T16:18:20.195Z"
   },
   {
    "duration": 30,
    "start_time": "2022-12-11T16:18:27.472Z"
   },
   {
    "duration": 30,
    "start_time": "2022-12-11T16:18:37.180Z"
   },
   {
    "duration": 18,
    "start_time": "2022-12-11T16:18:56.397Z"
   },
   {
    "duration": 47,
    "start_time": "2022-12-11T16:19:21.353Z"
   },
   {
    "duration": 41,
    "start_time": "2022-12-11T16:19:21.563Z"
   },
   {
    "duration": 47,
    "start_time": "2022-12-11T16:19:21.749Z"
   },
   {
    "duration": 1428,
    "start_time": "2022-12-11T16:23:55.230Z"
   },
   {
    "duration": 4,
    "start_time": "2022-12-11T16:23:56.660Z"
   },
   {
    "duration": 392,
    "start_time": "2022-12-11T16:23:56.665Z"
   },
   {
    "duration": 16,
    "start_time": "2022-12-11T16:23:57.059Z"
   },
   {
    "duration": 16,
    "start_time": "2022-12-11T16:23:57.077Z"
   },
   {
    "duration": 61,
    "start_time": "2022-12-11T16:23:57.095Z"
   },
   {
    "duration": 563,
    "start_time": "2022-12-11T16:23:57.157Z"
   },
   {
    "duration": 17,
    "start_time": "2022-12-11T16:23:57.722Z"
   },
   {
    "duration": 17,
    "start_time": "2022-12-11T16:23:57.740Z"
   },
   {
    "duration": 42,
    "start_time": "2022-12-11T16:23:57.759Z"
   },
   {
    "duration": 541,
    "start_time": "2022-12-11T16:23:57.803Z"
   },
   {
    "duration": 11,
    "start_time": "2022-12-11T16:23:58.346Z"
   },
   {
    "duration": 16,
    "start_time": "2022-12-11T16:23:58.359Z"
   },
   {
    "duration": 61,
    "start_time": "2022-12-11T16:23:58.378Z"
   },
   {
    "duration": 683,
    "start_time": "2022-12-11T16:23:58.441Z"
   },
   {
    "duration": 18,
    "start_time": "2022-12-11T16:23:59.126Z"
   },
   {
    "duration": 18,
    "start_time": "2022-12-11T16:23:59.146Z"
   },
   {
    "duration": 15,
    "start_time": "2022-12-11T16:23:59.166Z"
   },
   {
    "duration": 62,
    "start_time": "2022-12-11T16:23:59.183Z"
   },
   {
    "duration": 12,
    "start_time": "2022-12-11T16:23:59.247Z"
   },
   {
    "duration": 7,
    "start_time": "2022-12-11T16:23:59.261Z"
   },
   {
    "duration": 7,
    "start_time": "2022-12-11T16:23:59.269Z"
   },
   {
    "duration": 5,
    "start_time": "2022-12-11T16:23:59.277Z"
   },
   {
    "duration": 56,
    "start_time": "2022-12-11T16:23:59.284Z"
   },
   {
    "duration": 23,
    "start_time": "2022-12-11T16:23:59.342Z"
   },
   {
    "duration": 28,
    "start_time": "2022-12-11T16:23:59.366Z"
   },
   {
    "duration": 4,
    "start_time": "2022-12-11T16:24:22.277Z"
   },
   {
    "duration": 5,
    "start_time": "2022-12-11T16:24:28.711Z"
   },
   {
    "duration": 12,
    "start_time": "2022-12-11T16:27:02.842Z"
   },
   {
    "duration": 5,
    "start_time": "2022-12-11T16:27:13.501Z"
   },
   {
    "duration": 3,
    "start_time": "2022-12-11T16:27:19.506Z"
   },
   {
    "duration": 6,
    "start_time": "2022-12-11T16:28:49.362Z"
   },
   {
    "duration": 6,
    "start_time": "2022-12-11T16:28:49.582Z"
   },
   {
    "duration": 15,
    "start_time": "2022-12-11T16:28:49.787Z"
   },
   {
    "duration": 3,
    "start_time": "2022-12-11T16:28:49.991Z"
   },
   {
    "duration": 4,
    "start_time": "2022-12-11T16:28:50.383Z"
   },
   {
    "duration": 3,
    "start_time": "2022-12-11T16:30:54.353Z"
   },
   {
    "duration": 123,
    "start_time": "2022-12-11T16:32:50.980Z"
   },
   {
    "duration": 15,
    "start_time": "2022-12-11T16:33:40.353Z"
   },
   {
    "duration": 11,
    "start_time": "2022-12-11T16:34:27.249Z"
   },
   {
    "duration": 5,
    "start_time": "2022-12-11T16:34:49.423Z"
   },
   {
    "duration": 4,
    "start_time": "2022-12-11T16:34:49.752Z"
   },
   {
    "duration": 14,
    "start_time": "2022-12-11T16:34:50.020Z"
   },
   {
    "duration": 4,
    "start_time": "2022-12-11T16:34:50.343Z"
   },
   {
    "duration": 4,
    "start_time": "2022-12-11T16:34:51.177Z"
   },
   {
    "duration": 17,
    "start_time": "2022-12-11T16:34:58.175Z"
   },
   {
    "duration": 16,
    "start_time": "2022-12-11T16:35:22.607Z"
   },
   {
    "duration": 9,
    "start_time": "2022-12-11T16:35:37.456Z"
   },
   {
    "duration": 1451,
    "start_time": "2022-12-11T16:38:48.482Z"
   },
   {
    "duration": 3,
    "start_time": "2022-12-11T16:38:49.935Z"
   },
   {
    "duration": 424,
    "start_time": "2022-12-11T16:38:49.940Z"
   },
   {
    "duration": 15,
    "start_time": "2022-12-11T16:38:50.366Z"
   },
   {
    "duration": 15,
    "start_time": "2022-12-11T16:38:50.382Z"
   },
   {
    "duration": 61,
    "start_time": "2022-12-11T16:38:50.399Z"
   },
   {
    "duration": 573,
    "start_time": "2022-12-11T16:38:50.462Z"
   },
   {
    "duration": 10,
    "start_time": "2022-12-11T16:38:51.038Z"
   },
   {
    "duration": 17,
    "start_time": "2022-12-11T16:38:51.050Z"
   },
   {
    "duration": 38,
    "start_time": "2022-12-11T16:38:51.070Z"
   },
   {
    "duration": 569,
    "start_time": "2022-12-11T16:38:51.139Z"
   },
   {
    "duration": 10,
    "start_time": "2022-12-11T16:38:51.709Z"
   },
   {
    "duration": 16,
    "start_time": "2022-12-11T16:38:51.737Z"
   },
   {
    "duration": 38,
    "start_time": "2022-12-11T16:38:51.755Z"
   },
   {
    "duration": 666,
    "start_time": "2022-12-11T16:38:51.795Z"
   },
   {
    "duration": 18,
    "start_time": "2022-12-11T16:38:52.463Z"
   },
   {
    "duration": 18,
    "start_time": "2022-12-11T16:38:52.482Z"
   },
   {
    "duration": 43,
    "start_time": "2022-12-11T16:38:52.502Z"
   },
   {
    "duration": 34,
    "start_time": "2022-12-11T16:38:52.547Z"
   },
   {
    "duration": 12,
    "start_time": "2022-12-11T16:38:52.583Z"
   },
   {
    "duration": 9,
    "start_time": "2022-12-11T16:38:52.596Z"
   },
   {
    "duration": 33,
    "start_time": "2022-12-11T16:38:52.606Z"
   },
   {
    "duration": 5,
    "start_time": "2022-12-11T16:38:52.641Z"
   },
   {
    "duration": 40,
    "start_time": "2022-12-11T16:38:52.648Z"
   },
   {
    "duration": 25,
    "start_time": "2022-12-11T16:38:52.690Z"
   },
   {
    "duration": 48,
    "start_time": "2022-12-11T16:38:52.717Z"
   },
   {
    "duration": 4,
    "start_time": "2022-12-11T16:38:52.766Z"
   },
   {
    "duration": 4,
    "start_time": "2022-12-11T16:38:52.773Z"
   },
   {
    "duration": 11,
    "start_time": "2022-12-11T16:38:52.779Z"
   },
   {
    "duration": 4,
    "start_time": "2022-12-11T16:38:52.792Z"
   },
   {
    "duration": 6,
    "start_time": "2022-12-11T16:38:52.798Z"
   },
   {
    "duration": 36,
    "start_time": "2022-12-11T16:38:52.806Z"
   },
   {
    "duration": 7,
    "start_time": "2022-12-11T16:38:52.843Z"
   },
   {
    "duration": 15,
    "start_time": "2022-12-11T16:38:52.851Z"
   },
   {
    "duration": 4,
    "start_time": "2022-12-11T16:38:52.867Z"
   },
   {
    "duration": 9,
    "start_time": "2022-12-11T16:38:52.872Z"
   },
   {
    "duration": 8,
    "start_time": "2022-12-11T16:38:52.883Z"
   },
   {
    "duration": 7,
    "start_time": "2022-12-11T16:38:52.893Z"
   },
   {
    "duration": 40,
    "start_time": "2022-12-11T16:38:52.902Z"
   },
   {
    "duration": 4,
    "start_time": "2022-12-11T16:38:52.944Z"
   },
   {
    "duration": 7,
    "start_time": "2022-12-11T16:38:52.950Z"
   },
   {
    "duration": 18,
    "start_time": "2022-12-11T16:38:52.958Z"
   },
   {
    "duration": 13,
    "start_time": "2022-12-11T16:38:52.977Z"
   },
   {
    "duration": 14,
    "start_time": "2022-12-11T16:38:52.991Z"
   },
   {
    "duration": 36,
    "start_time": "2022-12-11T16:38:53.006Z"
   },
   {
    "duration": 6,
    "start_time": "2022-12-11T16:43:24.387Z"
   },
   {
    "duration": 120,
    "start_time": "2022-12-11T16:44:41.235Z"
   },
   {
    "duration": 9,
    "start_time": "2022-12-11T16:44:41.597Z"
   },
   {
    "duration": 7,
    "start_time": "2022-12-11T16:46:35.819Z"
   },
   {
    "duration": 19,
    "start_time": "2022-12-11T16:46:36.845Z"
   },
   {
    "duration": 6,
    "start_time": "2022-12-11T16:49:09.385Z"
   },
   {
    "duration": 13,
    "start_time": "2022-12-11T16:49:10.698Z"
   },
   {
    "duration": 4,
    "start_time": "2022-12-11T16:49:16.388Z"
   },
   {
    "duration": 7,
    "start_time": "2022-12-11T16:49:20.402Z"
   },
   {
    "duration": 15,
    "start_time": "2022-12-11T16:49:21.187Z"
   },
   {
    "duration": 6,
    "start_time": "2022-12-11T16:54:45.454Z"
   },
   {
    "duration": 16,
    "start_time": "2022-12-11T16:54:46.858Z"
   },
   {
    "duration": 6,
    "start_time": "2022-12-11T16:55:01.056Z"
   },
   {
    "duration": 29,
    "start_time": "2022-12-11T16:55:02.115Z"
   },
   {
    "duration": 4,
    "start_time": "2022-12-11T16:55:40.082Z"
   },
   {
    "duration": 6,
    "start_time": "2022-12-11T16:55:43.756Z"
   },
   {
    "duration": 146,
    "start_time": "2022-12-11T16:55:44.295Z"
   },
   {
    "duration": 1426,
    "start_time": "2022-12-12T05:58:01.939Z"
   },
   {
    "duration": 3,
    "start_time": "2022-12-12T05:58:03.367Z"
   },
   {
    "duration": 616,
    "start_time": "2022-12-12T05:58:03.372Z"
   },
   {
    "duration": 14,
    "start_time": "2022-12-12T05:58:03.990Z"
   },
   {
    "duration": 14,
    "start_time": "2022-12-12T05:58:04.005Z"
   },
   {
    "duration": 38,
    "start_time": "2022-12-12T05:58:04.020Z"
   },
   {
    "duration": 501,
    "start_time": "2022-12-12T05:58:04.059Z"
   },
   {
    "duration": 9,
    "start_time": "2022-12-12T05:58:04.561Z"
   },
   {
    "duration": 29,
    "start_time": "2022-12-12T05:58:04.572Z"
   },
   {
    "duration": 32,
    "start_time": "2022-12-12T05:58:04.603Z"
   },
   {
    "duration": 494,
    "start_time": "2022-12-12T05:58:04.637Z"
   },
   {
    "duration": 9,
    "start_time": "2022-12-12T05:58:05.133Z"
   },
   {
    "duration": 18,
    "start_time": "2022-12-12T05:58:05.144Z"
   },
   {
    "duration": 50,
    "start_time": "2022-12-12T05:58:05.163Z"
   },
   {
    "duration": 568,
    "start_time": "2022-12-12T05:58:05.214Z"
   },
   {
    "duration": 19,
    "start_time": "2022-12-12T05:58:05.784Z"
   },
   {
    "duration": 14,
    "start_time": "2022-12-12T05:58:05.804Z"
   },
   {
    "duration": 15,
    "start_time": "2022-12-12T05:58:05.820Z"
   },
   {
    "duration": 29,
    "start_time": "2022-12-12T05:58:05.836Z"
   },
   {
    "duration": 14,
    "start_time": "2022-12-12T05:58:05.896Z"
   },
   {
    "duration": 19,
    "start_time": "2022-12-12T05:58:05.912Z"
   },
   {
    "duration": 37,
    "start_time": "2022-12-12T05:58:05.933Z"
   },
   {
    "duration": 41,
    "start_time": "2022-12-12T05:58:05.972Z"
   },
   {
    "duration": 48,
    "start_time": "2022-12-12T05:58:06.015Z"
   },
   {
    "duration": 23,
    "start_time": "2022-12-12T05:58:06.066Z"
   },
   {
    "duration": 35,
    "start_time": "2022-12-12T05:58:06.091Z"
   },
   {
    "duration": 5,
    "start_time": "2022-12-12T05:58:06.127Z"
   },
   {
    "duration": 11,
    "start_time": "2022-12-12T05:58:06.136Z"
   },
   {
    "duration": 18,
    "start_time": "2022-12-12T05:58:06.149Z"
   },
   {
    "duration": 13,
    "start_time": "2022-12-12T05:58:06.169Z"
   },
   {
    "duration": 19,
    "start_time": "2022-12-12T05:58:06.185Z"
   },
   {
    "duration": 15,
    "start_time": "2022-12-12T05:58:06.206Z"
   },
   {
    "duration": 30,
    "start_time": "2022-12-12T05:58:06.222Z"
   },
   {
    "duration": 15,
    "start_time": "2022-12-12T05:58:06.254Z"
   },
   {
    "duration": 5,
    "start_time": "2022-12-12T05:58:06.270Z"
   },
   {
    "duration": 6,
    "start_time": "2022-12-12T05:58:06.277Z"
   },
   {
    "duration": 20,
    "start_time": "2022-12-12T05:58:06.284Z"
   },
   {
    "duration": 10,
    "start_time": "2022-12-12T05:58:06.306Z"
   },
   {
    "duration": 18,
    "start_time": "2022-12-12T05:58:06.318Z"
   },
   {
    "duration": 5,
    "start_time": "2022-12-12T05:58:06.338Z"
   },
   {
    "duration": 8,
    "start_time": "2022-12-12T05:58:06.344Z"
   },
   {
    "duration": 24,
    "start_time": "2022-12-12T05:58:06.353Z"
   },
   {
    "duration": 29,
    "start_time": "2022-12-12T05:58:06.380Z"
   },
   {
    "duration": 14,
    "start_time": "2022-12-12T05:58:06.410Z"
   },
   {
    "duration": 8,
    "start_time": "2022-12-12T05:58:06.425Z"
   },
   {
    "duration": 5,
    "start_time": "2022-12-12T05:58:06.434Z"
   },
   {
    "duration": 325,
    "start_time": "2022-12-12T05:58:06.441Z"
   },
   {
    "duration": 0,
    "start_time": "2022-12-12T05:58:06.768Z"
   },
   {
    "duration": 3,
    "start_time": "2022-12-12T06:01:40.848Z"
   },
   {
    "duration": 4,
    "start_time": "2022-12-12T06:13:44.214Z"
   },
   {
    "duration": 205,
    "start_time": "2022-12-12T06:13:45.794Z"
   },
   {
    "duration": 7,
    "start_time": "2022-12-12T06:15:22.477Z"
   },
   {
    "duration": 25,
    "start_time": "2022-12-12T06:15:23.407Z"
   },
   {
    "duration": 4,
    "start_time": "2022-12-12T06:15:24.418Z"
   },
   {
    "duration": 4,
    "start_time": "2022-12-12T06:17:08.135Z"
   },
   {
    "duration": 14,
    "start_time": "2022-12-12T06:17:08.942Z"
   },
   {
    "duration": 4,
    "start_time": "2022-12-12T06:17:09.448Z"
   },
   {
    "duration": 5,
    "start_time": "2022-12-12T06:17:37.495Z"
   },
   {
    "duration": 21,
    "start_time": "2022-12-12T06:17:37.887Z"
   },
   {
    "duration": 5,
    "start_time": "2022-12-12T06:17:38.268Z"
   },
   {
    "duration": 1330,
    "start_time": "2022-12-12T10:29:06.103Z"
   },
   {
    "duration": 2,
    "start_time": "2022-12-12T10:29:07.435Z"
   },
   {
    "duration": 379,
    "start_time": "2022-12-12T10:29:07.439Z"
   },
   {
    "duration": 15,
    "start_time": "2022-12-12T10:29:07.821Z"
   },
   {
    "duration": 16,
    "start_time": "2022-12-12T10:29:07.838Z"
   },
   {
    "duration": 71,
    "start_time": "2022-12-12T10:29:07.856Z"
   },
   {
    "duration": 552,
    "start_time": "2022-12-12T10:29:07.929Z"
   },
   {
    "duration": 18,
    "start_time": "2022-12-12T10:29:08.483Z"
   },
   {
    "duration": 17,
    "start_time": "2022-12-12T10:29:08.503Z"
   },
   {
    "duration": 37,
    "start_time": "2022-12-12T10:29:08.523Z"
   },
   {
    "duration": 544,
    "start_time": "2022-12-12T10:29:08.562Z"
   },
   {
    "duration": 11,
    "start_time": "2022-12-12T10:29:09.108Z"
   },
   {
    "duration": 21,
    "start_time": "2022-12-12T10:29:09.120Z"
   },
   {
    "duration": 59,
    "start_time": "2022-12-12T10:29:09.143Z"
   },
   {
    "duration": 650,
    "start_time": "2022-12-12T10:29:09.204Z"
   },
   {
    "duration": 17,
    "start_time": "2022-12-12T10:29:09.856Z"
   },
   {
    "duration": 31,
    "start_time": "2022-12-12T10:29:09.875Z"
   },
   {
    "duration": 18,
    "start_time": "2022-12-12T10:29:09.908Z"
   },
   {
    "duration": 43,
    "start_time": "2022-12-12T10:29:09.928Z"
   },
   {
    "duration": 29,
    "start_time": "2022-12-12T10:29:09.973Z"
   },
   {
    "duration": 18,
    "start_time": "2022-12-12T10:29:10.004Z"
   },
   {
    "duration": 7,
    "start_time": "2022-12-12T10:29:10.023Z"
   },
   {
    "duration": 22,
    "start_time": "2022-12-12T10:29:10.031Z"
   },
   {
    "duration": 41,
    "start_time": "2022-12-12T10:29:10.054Z"
   },
   {
    "duration": 23,
    "start_time": "2022-12-12T10:29:10.097Z"
   },
   {
    "duration": 29,
    "start_time": "2022-12-12T10:29:10.121Z"
   },
   {
    "duration": 4,
    "start_time": "2022-12-12T10:29:10.151Z"
   },
   {
    "duration": 5,
    "start_time": "2022-12-12T10:29:10.158Z"
   },
   {
    "duration": 11,
    "start_time": "2022-12-12T10:29:10.196Z"
   },
   {
    "duration": 5,
    "start_time": "2022-12-12T10:29:10.208Z"
   },
   {
    "duration": 20,
    "start_time": "2022-12-12T10:29:10.215Z"
   },
   {
    "duration": 20,
    "start_time": "2022-12-12T10:29:10.237Z"
   },
   {
    "duration": 17,
    "start_time": "2022-12-12T10:29:10.259Z"
   },
   {
    "duration": 25,
    "start_time": "2022-12-12T10:29:10.278Z"
   },
   {
    "duration": 4,
    "start_time": "2022-12-12T10:29:10.305Z"
   },
   {
    "duration": 7,
    "start_time": "2022-12-12T10:29:10.311Z"
   },
   {
    "duration": 11,
    "start_time": "2022-12-12T10:29:10.319Z"
   },
   {
    "duration": 16,
    "start_time": "2022-12-12T10:29:10.332Z"
   },
   {
    "duration": 16,
    "start_time": "2022-12-12T10:29:10.351Z"
   },
   {
    "duration": 5,
    "start_time": "2022-12-12T10:29:10.368Z"
   },
   {
    "duration": 26,
    "start_time": "2022-12-12T10:29:10.374Z"
   },
   {
    "duration": 39,
    "start_time": "2022-12-12T10:29:10.402Z"
   },
   {
    "duration": 15,
    "start_time": "2022-12-12T10:29:10.442Z"
   },
   {
    "duration": 13,
    "start_time": "2022-12-12T10:29:10.459Z"
   },
   {
    "duration": 8,
    "start_time": "2022-12-12T10:29:10.474Z"
   },
   {
    "duration": 18,
    "start_time": "2022-12-12T10:29:10.483Z"
   },
   {
    "duration": 42,
    "start_time": "2022-12-12T10:29:10.502Z"
   },
   {
    "duration": 63,
    "start_time": "2022-12-12T10:29:10.545Z"
   },
   {
    "duration": 5,
    "start_time": "2022-12-12T10:30:49.702Z"
   },
   {
    "duration": 13,
    "start_time": "2022-12-12T10:30:50.462Z"
   },
   {
    "duration": 4,
    "start_time": "2022-12-12T10:30:50.940Z"
   },
   {
    "duration": 4,
    "start_time": "2022-12-12T10:30:51.839Z"
   },
   {
    "duration": 14,
    "start_time": "2022-12-12T10:32:15.243Z"
   },
   {
    "duration": 4,
    "start_time": "2022-12-12T10:32:15.697Z"
   },
   {
    "duration": 6,
    "start_time": "2022-12-12T10:32:16.240Z"
   },
   {
    "duration": 4,
    "start_time": "2022-12-12T10:32:21.996Z"
   },
   {
    "duration": 109,
    "start_time": "2022-12-12T10:32:35.515Z"
   },
   {
    "duration": 7,
    "start_time": "2022-12-12T10:33:36.702Z"
   },
   {
    "duration": 6,
    "start_time": "2022-12-12T10:33:51.176Z"
   },
   {
    "duration": 106,
    "start_time": "2022-12-12T10:35:07.292Z"
   },
   {
    "duration": 4,
    "start_time": "2022-12-12T10:35:07.876Z"
   },
   {
    "duration": 5,
    "start_time": "2022-12-12T10:35:08.536Z"
   },
   {
    "duration": 7,
    "start_time": "2022-12-12T10:35:09.089Z"
   },
   {
    "duration": 3,
    "start_time": "2022-12-12T10:38:35.078Z"
   },
   {
    "duration": 2,
    "start_time": "2022-12-12T10:40:17.946Z"
   },
   {
    "duration": 4,
    "start_time": "2022-12-12T10:40:18.439Z"
   },
   {
    "duration": 12,
    "start_time": "2022-12-12T10:40:31.178Z"
   },
   {
    "duration": 4,
    "start_time": "2022-12-12T10:41:05.969Z"
   },
   {
    "duration": 3,
    "start_time": "2022-12-12T10:41:14.036Z"
   },
   {
    "duration": 4,
    "start_time": "2022-12-12T10:41:14.748Z"
   },
   {
    "duration": 3,
    "start_time": "2022-12-12T10:42:21.453Z"
   },
   {
    "duration": 3,
    "start_time": "2022-12-12T10:42:21.763Z"
   },
   {
    "duration": 3,
    "start_time": "2022-12-12T10:42:33.593Z"
   },
   {
    "duration": 3,
    "start_time": "2022-12-12T10:42:34.127Z"
   },
   {
    "duration": 4,
    "start_time": "2022-12-12T10:42:44.596Z"
   },
   {
    "duration": 3,
    "start_time": "2022-12-12T10:42:49.064Z"
   },
   {
    "duration": 5,
    "start_time": "2022-12-12T10:42:49.149Z"
   },
   {
    "duration": 12,
    "start_time": "2022-12-12T10:44:09.021Z"
   },
   {
    "duration": 3,
    "start_time": "2022-12-12T10:44:17.189Z"
   },
   {
    "duration": 3,
    "start_time": "2022-12-12T10:44:17.691Z"
   },
   {
    "duration": 5,
    "start_time": "2022-12-12T10:44:30.375Z"
   },
   {
    "duration": 4,
    "start_time": "2022-12-12T10:44:30.931Z"
   },
   {
    "duration": 5,
    "start_time": "2022-12-12T10:45:02.367Z"
   },
   {
    "duration": 1430,
    "start_time": "2022-12-12T10:45:10.078Z"
   },
   {
    "duration": 4,
    "start_time": "2022-12-12T10:45:11.510Z"
   },
   {
    "duration": 406,
    "start_time": "2022-12-12T10:45:11.516Z"
   },
   {
    "duration": 18,
    "start_time": "2022-12-12T10:45:11.925Z"
   },
   {
    "duration": 17,
    "start_time": "2022-12-12T10:45:11.948Z"
   },
   {
    "duration": 61,
    "start_time": "2022-12-12T10:45:11.967Z"
   },
   {
    "duration": 577,
    "start_time": "2022-12-12T10:45:12.030Z"
   },
   {
    "duration": 12,
    "start_time": "2022-12-12T10:45:12.609Z"
   },
   {
    "duration": 19,
    "start_time": "2022-12-12T10:45:12.623Z"
   },
   {
    "duration": 62,
    "start_time": "2022-12-12T10:45:12.644Z"
   },
   {
    "duration": 568,
    "start_time": "2022-12-12T10:45:12.708Z"
   },
   {
    "duration": 21,
    "start_time": "2022-12-12T10:45:13.278Z"
   },
   {
    "duration": 24,
    "start_time": "2022-12-12T10:45:13.301Z"
   },
   {
    "duration": 39,
    "start_time": "2022-12-12T10:45:13.330Z"
   },
   {
    "duration": 725,
    "start_time": "2022-12-12T10:45:13.371Z"
   },
   {
    "duration": 24,
    "start_time": "2022-12-12T10:45:14.099Z"
   },
   {
    "duration": 36,
    "start_time": "2022-12-12T10:45:14.125Z"
   },
   {
    "duration": 53,
    "start_time": "2022-12-12T10:45:14.163Z"
   },
   {
    "duration": 36,
    "start_time": "2022-12-12T10:45:14.218Z"
   },
   {
    "duration": 46,
    "start_time": "2022-12-12T10:45:14.256Z"
   },
   {
    "duration": 13,
    "start_time": "2022-12-12T10:45:14.305Z"
   },
   {
    "duration": 14,
    "start_time": "2022-12-12T10:45:14.320Z"
   },
   {
    "duration": 9,
    "start_time": "2022-12-12T10:45:14.337Z"
   },
   {
    "duration": 84,
    "start_time": "2022-12-12T10:45:14.348Z"
   },
   {
    "duration": 25,
    "start_time": "2022-12-12T10:45:14.434Z"
   },
   {
    "duration": 62,
    "start_time": "2022-12-12T10:45:14.461Z"
   },
   {
    "duration": 5,
    "start_time": "2022-12-12T10:45:14.526Z"
   },
   {
    "duration": 8,
    "start_time": "2022-12-12T10:45:14.532Z"
   },
   {
    "duration": 19,
    "start_time": "2022-12-12T10:45:14.542Z"
   },
   {
    "duration": 10,
    "start_time": "2022-12-12T10:45:14.563Z"
   },
   {
    "duration": 25,
    "start_time": "2022-12-12T10:45:14.575Z"
   },
   {
    "duration": 10,
    "start_time": "2022-12-12T10:45:14.602Z"
   },
   {
    "duration": 7,
    "start_time": "2022-12-12T10:45:14.614Z"
   },
   {
    "duration": 18,
    "start_time": "2022-12-12T10:45:14.623Z"
   },
   {
    "duration": 5,
    "start_time": "2022-12-12T10:45:14.643Z"
   },
   {
    "duration": 6,
    "start_time": "2022-12-12T10:45:14.650Z"
   },
   {
    "duration": 43,
    "start_time": "2022-12-12T10:45:14.658Z"
   },
   {
    "duration": 10,
    "start_time": "2022-12-12T10:45:14.703Z"
   },
   {
    "duration": 19,
    "start_time": "2022-12-12T10:45:14.715Z"
   },
   {
    "duration": 5,
    "start_time": "2022-12-12T10:45:14.735Z"
   },
   {
    "duration": 6,
    "start_time": "2022-12-12T10:45:14.745Z"
   },
   {
    "duration": 48,
    "start_time": "2022-12-12T10:45:14.753Z"
   },
   {
    "duration": 15,
    "start_time": "2022-12-12T10:45:14.803Z"
   },
   {
    "duration": 17,
    "start_time": "2022-12-12T10:45:14.820Z"
   },
   {
    "duration": 9,
    "start_time": "2022-12-12T10:45:14.839Z"
   },
   {
    "duration": 11,
    "start_time": "2022-12-12T10:45:14.850Z"
   },
   {
    "duration": 45,
    "start_time": "2022-12-12T10:45:14.863Z"
   },
   {
    "duration": 5,
    "start_time": "2022-12-12T10:45:14.911Z"
   },
   {
    "duration": 88,
    "start_time": "2022-12-12T10:45:14.917Z"
   },
   {
    "duration": 95,
    "start_time": "2022-12-12T10:45:15.006Z"
   },
   {
    "duration": 28,
    "start_time": "2022-12-12T10:45:15.103Z"
   },
   {
    "duration": 169,
    "start_time": "2022-12-12T10:45:15.133Z"
   },
   {
    "duration": 6,
    "start_time": "2022-12-12T10:45:15.304Z"
   },
   {
    "duration": 7,
    "start_time": "2022-12-12T10:45:15.312Z"
   },
   {
    "duration": 79,
    "start_time": "2022-12-12T10:45:15.321Z"
   },
   {
    "duration": 4,
    "start_time": "2022-12-12T10:45:15.403Z"
   },
   {
    "duration": 101,
    "start_time": "2022-12-12T10:45:15.409Z"
   },
   {
    "duration": 9,
    "start_time": "2022-12-12T10:45:15.512Z"
   },
   {
    "duration": 3,
    "start_time": "2022-12-12T10:45:15.523Z"
   },
   {
    "duration": 12,
    "start_time": "2022-12-12T10:45:15.528Z"
   },
   {
    "duration": 17,
    "start_time": "2022-12-12T10:45:15.542Z"
   },
   {
    "duration": 3,
    "start_time": "2022-12-12T13:17:50.788Z"
   },
   {
    "duration": 5,
    "start_time": "2022-12-12T13:33:09.211Z"
   },
   {
    "duration": 5,
    "start_time": "2022-12-12T13:33:55.439Z"
   },
   {
    "duration": 5,
    "start_time": "2022-12-12T13:34:09.924Z"
   },
   {
    "duration": 5,
    "start_time": "2022-12-12T13:34:10.311Z"
   },
   {
    "duration": 5,
    "start_time": "2022-12-12T13:34:10.766Z"
   },
   {
    "duration": 7,
    "start_time": "2022-12-12T13:34:48.056Z"
   },
   {
    "duration": 7,
    "start_time": "2022-12-12T13:35:03.044Z"
   },
   {
    "duration": 7,
    "start_time": "2022-12-12T13:35:03.295Z"
   },
   {
    "duration": 7,
    "start_time": "2022-12-12T13:35:03.659Z"
   },
   {
    "duration": 3,
    "start_time": "2022-12-12T13:36:49.035Z"
   },
   {
    "duration": 3,
    "start_time": "2022-12-12T14:32:45.668Z"
   },
   {
    "duration": 114,
    "start_time": "2022-12-12T14:33:16.040Z"
   },
   {
    "duration": 1313,
    "start_time": "2022-12-12T14:33:26.151Z"
   },
   {
    "duration": 3,
    "start_time": "2022-12-12T14:33:27.466Z"
   },
   {
    "duration": 373,
    "start_time": "2022-12-12T14:33:27.470Z"
   },
   {
    "duration": 14,
    "start_time": "2022-12-12T14:33:27.846Z"
   },
   {
    "duration": 14,
    "start_time": "2022-12-12T14:33:27.862Z"
   },
   {
    "duration": 57,
    "start_time": "2022-12-12T14:33:27.878Z"
   },
   {
    "duration": 561,
    "start_time": "2022-12-12T14:33:27.937Z"
   },
   {
    "duration": 10,
    "start_time": "2022-12-12T14:33:28.500Z"
   },
   {
    "duration": 17,
    "start_time": "2022-12-12T14:33:28.513Z"
   },
   {
    "duration": 36,
    "start_time": "2022-12-12T14:33:28.533Z"
   },
   {
    "duration": 556,
    "start_time": "2022-12-12T14:33:28.570Z"
   },
   {
    "duration": 11,
    "start_time": "2022-12-12T14:33:29.128Z"
   },
   {
    "duration": 17,
    "start_time": "2022-12-12T14:33:29.141Z"
   },
   {
    "duration": 51,
    "start_time": "2022-12-12T14:33:29.160Z"
   },
   {
    "duration": 652,
    "start_time": "2022-12-12T14:33:29.212Z"
   },
   {
    "duration": 18,
    "start_time": "2022-12-12T14:33:29.866Z"
   },
   {
    "duration": 29,
    "start_time": "2022-12-12T14:33:29.886Z"
   },
   {
    "duration": 18,
    "start_time": "2022-12-12T14:33:29.917Z"
   },
   {
    "duration": 61,
    "start_time": "2022-12-12T14:33:29.937Z"
   },
   {
    "duration": 12,
    "start_time": "2022-12-12T14:33:30.000Z"
   },
   {
    "duration": 11,
    "start_time": "2022-12-12T14:33:30.014Z"
   },
   {
    "duration": 18,
    "start_time": "2022-12-12T14:33:30.027Z"
   },
   {
    "duration": 7,
    "start_time": "2022-12-12T14:33:30.047Z"
   },
   {
    "duration": 47,
    "start_time": "2022-12-12T14:33:30.056Z"
   },
   {
    "duration": 34,
    "start_time": "2022-12-12T14:33:30.106Z"
   },
   {
    "duration": 84,
    "start_time": "2022-12-12T14:33:30.142Z"
   },
   {
    "duration": 58,
    "start_time": "2022-12-12T14:33:30.229Z"
   },
   {
    "duration": 65,
    "start_time": "2022-12-12T14:33:30.293Z"
   },
   {
    "duration": 47,
    "start_time": "2022-12-12T14:33:30.360Z"
   },
   {
    "duration": 74,
    "start_time": "2022-12-12T14:33:30.409Z"
   },
   {
    "duration": 69,
    "start_time": "2022-12-12T14:33:30.485Z"
   },
   {
    "duration": 47,
    "start_time": "2022-12-12T14:33:30.556Z"
   },
   {
    "duration": 60,
    "start_time": "2022-12-12T14:33:30.605Z"
   },
   {
    "duration": 80,
    "start_time": "2022-12-12T14:33:30.667Z"
   },
   {
    "duration": 78,
    "start_time": "2022-12-12T14:33:30.749Z"
   },
   {
    "duration": 18,
    "start_time": "2022-12-12T14:33:30.829Z"
   },
   {
    "duration": 12,
    "start_time": "2022-12-12T14:33:30.849Z"
   },
   {
    "duration": 9,
    "start_time": "2022-12-12T14:33:30.863Z"
   },
   {
    "duration": 42,
    "start_time": "2022-12-12T14:33:30.873Z"
   },
   {
    "duration": 12,
    "start_time": "2022-12-12T14:33:30.917Z"
   },
   {
    "duration": 15,
    "start_time": "2022-12-12T14:33:30.931Z"
   },
   {
    "duration": 54,
    "start_time": "2022-12-12T14:33:30.948Z"
   },
   {
    "duration": 38,
    "start_time": "2022-12-12T14:33:31.004Z"
   },
   {
    "duration": 26,
    "start_time": "2022-12-12T14:33:31.043Z"
   },
   {
    "duration": 10,
    "start_time": "2022-12-12T14:33:31.071Z"
   },
   {
    "duration": 12,
    "start_time": "2022-12-12T14:33:31.083Z"
   },
   {
    "duration": 64,
    "start_time": "2022-12-12T14:33:31.097Z"
   },
   {
    "duration": 153,
    "start_time": "2022-12-12T14:33:31.162Z"
   },
   {
    "duration": 28,
    "start_time": "2022-12-12T14:33:31.317Z"
   },
   {
    "duration": 12,
    "start_time": "2022-12-12T14:33:31.348Z"
   },
   {
    "duration": 17,
    "start_time": "2022-12-12T14:33:31.362Z"
   },
   {
    "duration": 14,
    "start_time": "2022-12-12T14:33:31.395Z"
   },
   {
    "duration": 17,
    "start_time": "2022-12-12T14:33:31.497Z"
   },
   {
    "duration": 6,
    "start_time": "2022-12-12T14:33:31.515Z"
   },
   {
    "duration": 74,
    "start_time": "2022-12-12T14:33:31.523Z"
   },
   {
    "duration": 5,
    "start_time": "2022-12-12T14:33:31.599Z"
   },
   {
    "duration": 96,
    "start_time": "2022-12-12T14:33:31.606Z"
   },
   {
    "duration": 16,
    "start_time": "2022-12-12T14:33:31.704Z"
   },
   {
    "duration": 4,
    "start_time": "2022-12-12T14:33:31.722Z"
   },
   {
    "duration": 11,
    "start_time": "2022-12-12T14:33:31.728Z"
   },
   {
    "duration": 14,
    "start_time": "2022-12-12T14:33:31.741Z"
   },
   {
    "duration": 11,
    "start_time": "2022-12-12T14:33:31.757Z"
   },
   {
    "duration": 7,
    "start_time": "2022-12-12T14:33:31.770Z"
   },
   {
    "duration": 27,
    "start_time": "2022-12-12T14:33:31.779Z"
   },
   {
    "duration": 3,
    "start_time": "2022-12-12T14:33:31.809Z"
   },
   {
    "duration": 133,
    "start_time": "2022-12-12T14:33:31.814Z"
   },
   {
    "duration": 3,
    "start_time": "2022-12-12T14:34:17.006Z"
   },
   {
    "duration": 27,
    "start_time": "2022-12-12T14:34:17.618Z"
   },
   {
    "duration": 3,
    "start_time": "2022-12-12T14:34:45.996Z"
   },
   {
    "duration": 27,
    "start_time": "2022-12-12T14:34:46.179Z"
   },
   {
    "duration": 4,
    "start_time": "2022-12-12T14:35:32.349Z"
   },
   {
    "duration": 29,
    "start_time": "2022-12-12T14:35:32.810Z"
   },
   {
    "duration": 17,
    "start_time": "2022-12-12T14:35:38.142Z"
   },
   {
    "duration": 4,
    "start_time": "2022-12-12T14:35:43.177Z"
   },
   {
    "duration": 23,
    "start_time": "2022-12-12T14:35:43.509Z"
   },
   {
    "duration": 4,
    "start_time": "2022-12-12T14:36:34.450Z"
   },
   {
    "duration": 0,
    "start_time": "2022-12-12T14:36:39.566Z"
   },
   {
    "duration": 4817,
    "start_time": "2022-12-12T14:36:41.906Z"
   },
   {
    "duration": 5156,
    "start_time": "2022-12-12T14:37:15.231Z"
   },
   {
    "duration": 7,
    "start_time": "2022-12-12T14:37:27.927Z"
   },
   {
    "duration": 5021,
    "start_time": "2022-12-12T14:38:21.708Z"
   },
   {
    "duration": 9,
    "start_time": "2022-12-12T14:38:26.730Z"
   },
   {
    "duration": 4,
    "start_time": "2022-12-12T14:38:44.516Z"
   },
   {
    "duration": 4,
    "start_time": "2022-12-12T14:39:36.755Z"
   },
   {
    "duration": 4,
    "start_time": "2022-12-12T14:40:26.242Z"
   },
   {
    "duration": 10,
    "start_time": "2022-12-12T14:40:32.618Z"
   },
   {
    "duration": 5007,
    "start_time": "2022-12-12T14:40:36.897Z"
   },
   {
    "duration": 6,
    "start_time": "2022-12-12T14:40:41.907Z"
   },
   {
    "duration": 8,
    "start_time": "2022-12-12T14:40:41.915Z"
   },
   {
    "duration": 3,
    "start_time": "2022-12-12T14:52:12.046Z"
   },
   {
    "duration": 11,
    "start_time": "2022-12-12T14:52:13.017Z"
   },
   {
    "duration": 34,
    "start_time": "2022-12-12T14:52:58.077Z"
   },
   {
    "duration": 4,
    "start_time": "2022-12-12T14:53:00.934Z"
   },
   {
    "duration": 34,
    "start_time": "2022-12-12T14:53:01.418Z"
   },
   {
    "duration": 1788,
    "start_time": "2022-12-12T14:53:37.146Z"
   },
   {
    "duration": 3,
    "start_time": "2022-12-12T14:53:38.936Z"
   },
   {
    "duration": 798,
    "start_time": "2022-12-12T14:53:38.941Z"
   },
   {
    "duration": 59,
    "start_time": "2022-12-12T14:53:39.741Z"
   },
   {
    "duration": 20,
    "start_time": "2022-12-12T14:53:39.802Z"
   },
   {
    "duration": 91,
    "start_time": "2022-12-12T14:53:39.824Z"
   },
   {
    "duration": 1196,
    "start_time": "2022-12-12T14:53:39.917Z"
   },
   {
    "duration": 10,
    "start_time": "2022-12-12T14:53:41.115Z"
   },
   {
    "duration": 79,
    "start_time": "2022-12-12T14:53:41.126Z"
   },
   {
    "duration": 90,
    "start_time": "2022-12-12T14:53:41.207Z"
   },
   {
    "duration": 696,
    "start_time": "2022-12-12T14:53:41.299Z"
   },
   {
    "duration": 10,
    "start_time": "2022-12-12T14:53:41.996Z"
   },
   {
    "duration": 19,
    "start_time": "2022-12-12T14:53:42.008Z"
   },
   {
    "duration": 34,
    "start_time": "2022-12-12T14:53:42.029Z"
   },
   {
    "duration": 642,
    "start_time": "2022-12-12T14:53:42.064Z"
   },
   {
    "duration": 17,
    "start_time": "2022-12-12T14:53:42.707Z"
   },
   {
    "duration": 15,
    "start_time": "2022-12-12T14:53:42.726Z"
   },
   {
    "duration": 14,
    "start_time": "2022-12-12T14:53:42.743Z"
   },
   {
    "duration": 56,
    "start_time": "2022-12-12T14:53:42.759Z"
   },
   {
    "duration": 10,
    "start_time": "2022-12-12T14:53:42.817Z"
   },
   {
    "duration": 10,
    "start_time": "2022-12-12T14:53:42.829Z"
   },
   {
    "duration": 6,
    "start_time": "2022-12-12T14:53:42.841Z"
   },
   {
    "duration": 13,
    "start_time": "2022-12-12T14:53:42.848Z"
   },
   {
    "duration": 52,
    "start_time": "2022-12-12T14:53:42.863Z"
   },
   {
    "duration": 22,
    "start_time": "2022-12-12T14:53:42.917Z"
   },
   {
    "duration": 27,
    "start_time": "2022-12-12T14:53:42.940Z"
   },
   {
    "duration": 4,
    "start_time": "2022-12-12T14:53:42.969Z"
   },
   {
    "duration": 4,
    "start_time": "2022-12-12T14:53:42.998Z"
   },
   {
    "duration": 13,
    "start_time": "2022-12-12T14:53:43.004Z"
   },
   {
    "duration": 15,
    "start_time": "2022-12-12T14:53:43.019Z"
   },
   {
    "duration": 8,
    "start_time": "2022-12-12T14:53:43.036Z"
   },
   {
    "duration": 9,
    "start_time": "2022-12-12T14:53:43.046Z"
   },
   {
    "duration": 10,
    "start_time": "2022-12-12T14:53:43.056Z"
   },
   {
    "duration": 16,
    "start_time": "2022-12-12T14:53:43.068Z"
   },
   {
    "duration": 12,
    "start_time": "2022-12-12T14:53:43.085Z"
   },
   {
    "duration": 5,
    "start_time": "2022-12-12T14:53:43.099Z"
   },
   {
    "duration": 13,
    "start_time": "2022-12-12T14:53:43.105Z"
   },
   {
    "duration": 7,
    "start_time": "2022-12-12T14:53:43.120Z"
   },
   {
    "duration": 14,
    "start_time": "2022-12-12T14:53:43.129Z"
   },
   {
    "duration": 4,
    "start_time": "2022-12-12T14:53:43.145Z"
   },
   {
    "duration": 9,
    "start_time": "2022-12-12T14:53:43.151Z"
   },
   {
    "duration": 45,
    "start_time": "2022-12-12T14:53:43.162Z"
   },
   {
    "duration": 15,
    "start_time": "2022-12-12T14:53:43.209Z"
   },
   {
    "duration": 13,
    "start_time": "2022-12-12T14:53:43.225Z"
   },
   {
    "duration": 7,
    "start_time": "2022-12-12T14:53:43.240Z"
   },
   {
    "duration": 6,
    "start_time": "2022-12-12T14:53:43.249Z"
   },
   {
    "duration": 48,
    "start_time": "2022-12-12T14:53:43.256Z"
   },
   {
    "duration": 91,
    "start_time": "2022-12-12T14:53:43.307Z"
   },
   {
    "duration": 37,
    "start_time": "2022-12-12T14:53:43.400Z"
   },
   {
    "duration": 11,
    "start_time": "2022-12-12T14:53:43.439Z"
   },
   {
    "duration": 55,
    "start_time": "2022-12-12T14:53:43.452Z"
   },
   {
    "duration": 5,
    "start_time": "2022-12-12T14:53:43.509Z"
   },
   {
    "duration": 5,
    "start_time": "2022-12-12T14:53:43.596Z"
   },
   {
    "duration": 98,
    "start_time": "2022-12-12T14:53:43.603Z"
   },
   {
    "duration": 17,
    "start_time": "2022-12-12T14:53:43.702Z"
   },
   {
    "duration": 4,
    "start_time": "2022-12-12T14:53:43.721Z"
   },
   {
    "duration": 176,
    "start_time": "2022-12-12T14:53:43.727Z"
   },
   {
    "duration": 8,
    "start_time": "2022-12-12T14:53:43.905Z"
   },
   {
    "duration": 4,
    "start_time": "2022-12-12T14:53:43.915Z"
   },
   {
    "duration": 8,
    "start_time": "2022-12-12T14:53:43.921Z"
   },
   {
    "duration": 11,
    "start_time": "2022-12-12T14:53:43.930Z"
   },
   {
    "duration": 10,
    "start_time": "2022-12-12T14:53:43.943Z"
   },
   {
    "duration": 7,
    "start_time": "2022-12-12T14:53:43.954Z"
   },
   {
    "duration": 7,
    "start_time": "2022-12-12T14:53:43.962Z"
   },
   {
    "duration": 3,
    "start_time": "2022-12-12T14:53:43.997Z"
   },
   {
    "duration": 130,
    "start_time": "2022-12-12T14:53:44.002Z"
   },
   {
    "duration": 0,
    "start_time": "2022-12-12T14:53:44.133Z"
   },
   {
    "duration": 0,
    "start_time": "2022-12-12T14:53:44.134Z"
   },
   {
    "duration": 0,
    "start_time": "2022-12-12T14:53:44.135Z"
   },
   {
    "duration": 0,
    "start_time": "2022-12-12T14:53:44.136Z"
   },
   {
    "duration": 0,
    "start_time": "2022-12-12T14:53:44.138Z"
   },
   {
    "duration": 0,
    "start_time": "2022-12-12T14:53:44.139Z"
   },
   {
    "duration": 0,
    "start_time": "2022-12-12T14:53:44.140Z"
   },
   {
    "duration": 0,
    "start_time": "2022-12-12T14:53:44.141Z"
   },
   {
    "duration": 3,
    "start_time": "2022-12-12T14:54:05.499Z"
   },
   {
    "duration": 31,
    "start_time": "2022-12-12T14:54:05.719Z"
   },
   {
    "duration": 3,
    "start_time": "2022-12-12T14:54:54.493Z"
   },
   {
    "duration": 27,
    "start_time": "2022-12-12T14:54:54.869Z"
   },
   {
    "duration": 21,
    "start_time": "2022-12-12T14:55:50.715Z"
   },
   {
    "duration": 18,
    "start_time": "2022-12-12T14:56:06.970Z"
   },
   {
    "duration": 16,
    "start_time": "2022-12-12T14:56:22.932Z"
   },
   {
    "duration": 15,
    "start_time": "2022-12-12T14:56:44.554Z"
   },
   {
    "duration": 22,
    "start_time": "2022-12-12T14:56:54.111Z"
   },
   {
    "duration": 19,
    "start_time": "2022-12-12T14:57:08.982Z"
   },
   {
    "duration": 24,
    "start_time": "2022-12-12T14:57:23.333Z"
   },
   {
    "duration": 34,
    "start_time": "2022-12-12T14:57:31.139Z"
   },
   {
    "duration": 24,
    "start_time": "2022-12-12T14:57:54.920Z"
   },
   {
    "duration": 3,
    "start_time": "2022-12-12T14:58:43.961Z"
   },
   {
    "duration": 21,
    "start_time": "2022-12-12T14:58:46.892Z"
   },
   {
    "duration": 24,
    "start_time": "2022-12-12T14:59:04.529Z"
   },
   {
    "duration": 23,
    "start_time": "2022-12-12T14:59:14.054Z"
   },
   {
    "duration": 4,
    "start_time": "2022-12-12T14:59:17.830Z"
   },
   {
    "duration": 21,
    "start_time": "2022-12-12T14:59:23.984Z"
   },
   {
    "duration": 25,
    "start_time": "2022-12-12T14:59:41.501Z"
   },
   {
    "duration": 4,
    "start_time": "2022-12-12T15:01:35.292Z"
   },
   {
    "duration": 28,
    "start_time": "2022-12-12T15:01:58.258Z"
   },
   {
    "duration": 3,
    "start_time": "2022-12-12T15:02:34.869Z"
   },
   {
    "duration": 19,
    "start_time": "2022-12-12T15:02:35.035Z"
   },
   {
    "duration": 7,
    "start_time": "2022-12-12T15:03:02.115Z"
   },
   {
    "duration": 3,
    "start_time": "2022-12-12T15:04:01.984Z"
   },
   {
    "duration": 16,
    "start_time": "2022-12-12T15:04:02.202Z"
   },
   {
    "duration": 5,
    "start_time": "2022-12-12T15:04:51.708Z"
   },
   {
    "duration": 37,
    "start_time": "2022-12-12T15:04:52.119Z"
   },
   {
    "duration": 4,
    "start_time": "2022-12-12T15:05:07.583Z"
   },
   {
    "duration": 26,
    "start_time": "2022-12-12T15:05:07.866Z"
   },
   {
    "duration": 4,
    "start_time": "2022-12-12T15:08:14.323Z"
   },
   {
    "duration": 7,
    "start_time": "2022-12-12T15:08:14.738Z"
   },
   {
    "duration": 4,
    "start_time": "2022-12-12T15:08:16.226Z"
   },
   {
    "duration": 4,
    "start_time": "2022-12-12T15:08:32.759Z"
   },
   {
    "duration": 9,
    "start_time": "2022-12-12T15:08:33.904Z"
   },
   {
    "duration": 7,
    "start_time": "2022-12-12T15:08:43.124Z"
   },
   {
    "duration": 4,
    "start_time": "2022-12-12T15:08:43.892Z"
   },
   {
    "duration": 4,
    "start_time": "2022-12-12T15:08:44.814Z"
   },
   {
    "duration": 7,
    "start_time": "2022-12-12T15:08:50.879Z"
   },
   {
    "duration": 3,
    "start_time": "2022-12-12T15:08:51.311Z"
   },
   {
    "duration": 4,
    "start_time": "2022-12-12T15:08:51.776Z"
   },
   {
    "duration": 11,
    "start_time": "2022-12-12T15:09:57.313Z"
   },
   {
    "duration": 4,
    "start_time": "2022-12-12T15:10:04.851Z"
   },
   {
    "duration": 3,
    "start_time": "2022-12-12T15:10:13.999Z"
   },
   {
    "duration": 4,
    "start_time": "2022-12-12T15:15:02.610Z"
   },
   {
    "duration": 3,
    "start_time": "2022-12-12T15:16:07.875Z"
   },
   {
    "duration": 6,
    "start_time": "2022-12-12T15:17:13.025Z"
   },
   {
    "duration": 14,
    "start_time": "2022-12-12T15:17:13.637Z"
   },
   {
    "duration": 5,
    "start_time": "2022-12-12T15:17:23.669Z"
   },
   {
    "duration": 1355,
    "start_time": "2022-12-12T15:17:23.878Z"
   },
   {
    "duration": 4,
    "start_time": "2022-12-12T15:17:39.042Z"
   },
   {
    "duration": 1064,
    "start_time": "2022-12-12T15:17:39.367Z"
   },
   {
    "duration": 4,
    "start_time": "2022-12-12T15:18:07.461Z"
   },
   {
    "duration": 1091,
    "start_time": "2022-12-12T15:18:07.625Z"
   },
   {
    "duration": 5,
    "start_time": "2022-12-12T15:18:22.820Z"
   },
   {
    "duration": 1297,
    "start_time": "2022-12-12T15:18:22.965Z"
   },
   {
    "duration": 4,
    "start_time": "2022-12-12T15:18:42.139Z"
   },
   {
    "duration": 4,
    "start_time": "2022-12-12T15:19:08.421Z"
   },
   {
    "duration": 4,
    "start_time": "2022-12-12T15:19:20.514Z"
   },
   {
    "duration": 1080,
    "start_time": "2022-12-12T15:19:24.002Z"
   },
   {
    "duration": 5,
    "start_time": "2022-12-12T15:19:29.839Z"
   },
   {
    "duration": 5,
    "start_time": "2022-12-12T15:19:57.603Z"
   },
   {
    "duration": 1285,
    "start_time": "2022-12-12T15:19:57.823Z"
   },
   {
    "duration": 4,
    "start_time": "2022-12-12T15:19:59.109Z"
   },
   {
    "duration": 1284,
    "start_time": "2022-12-12T15:20:29.078Z"
   },
   {
    "duration": 6,
    "start_time": "2022-12-12T15:20:30.364Z"
   },
   {
    "duration": 1315,
    "start_time": "2022-12-12T15:20:59.107Z"
   },
   {
    "duration": 4,
    "start_time": "2022-12-12T15:21:00.425Z"
   },
   {
    "duration": 4,
    "start_time": "2022-12-12T15:25:51.915Z"
   },
   {
    "duration": 1291,
    "start_time": "2022-12-12T15:25:52.291Z"
   },
   {
    "duration": 4,
    "start_time": "2022-12-12T15:25:53.584Z"
   },
   {
    "duration": 1312,
    "start_time": "2022-12-12T15:26:40.046Z"
   },
   {
    "duration": 3,
    "start_time": "2022-12-12T15:26:41.360Z"
   },
   {
    "duration": 378,
    "start_time": "2022-12-12T15:26:41.364Z"
   },
   {
    "duration": 13,
    "start_time": "2022-12-12T15:26:41.745Z"
   },
   {
    "duration": 15,
    "start_time": "2022-12-12T15:26:41.761Z"
   },
   {
    "duration": 53,
    "start_time": "2022-12-12T15:26:41.778Z"
   },
   {
    "duration": 539,
    "start_time": "2022-12-12T15:26:41.833Z"
   },
   {
    "duration": 10,
    "start_time": "2022-12-12T15:26:42.375Z"
   },
   {
    "duration": 16,
    "start_time": "2022-12-12T15:26:42.396Z"
   },
   {
    "duration": 33,
    "start_time": "2022-12-12T15:26:42.415Z"
   },
   {
    "duration": 533,
    "start_time": "2022-12-12T15:26:42.450Z"
   },
   {
    "duration": 14,
    "start_time": "2022-12-12T15:26:42.985Z"
   },
   {
    "duration": 17,
    "start_time": "2022-12-12T15:26:43.001Z"
   },
   {
    "duration": 38,
    "start_time": "2022-12-12T15:26:43.019Z"
   },
   {
    "duration": 639,
    "start_time": "2022-12-12T15:26:43.059Z"
   },
   {
    "duration": 18,
    "start_time": "2022-12-12T15:26:43.700Z"
   },
   {
    "duration": 17,
    "start_time": "2022-12-12T15:26:43.719Z"
   },
   {
    "duration": 16,
    "start_time": "2022-12-12T15:26:43.738Z"
   },
   {
    "duration": 65,
    "start_time": "2022-12-12T15:26:43.755Z"
   },
   {
    "duration": 22,
    "start_time": "2022-12-12T15:26:43.822Z"
   },
   {
    "duration": 7,
    "start_time": "2022-12-12T15:26:43.846Z"
   },
   {
    "duration": 11,
    "start_time": "2022-12-12T15:26:43.855Z"
   },
   {
    "duration": 8,
    "start_time": "2022-12-12T15:26:43.868Z"
   },
   {
    "duration": 42,
    "start_time": "2022-12-12T15:26:43.878Z"
   },
   {
    "duration": 29,
    "start_time": "2022-12-12T15:26:43.922Z"
   },
   {
    "duration": 54,
    "start_time": "2022-12-12T15:26:43.953Z"
   },
   {
    "duration": 5,
    "start_time": "2022-12-12T15:26:44.009Z"
   },
   {
    "duration": 3,
    "start_time": "2022-12-12T15:26:44.020Z"
   },
   {
    "duration": 11,
    "start_time": "2022-12-12T15:26:44.025Z"
   },
   {
    "duration": 4,
    "start_time": "2022-12-12T15:26:44.037Z"
   },
   {
    "duration": 8,
    "start_time": "2022-12-12T15:26:44.043Z"
   },
   {
    "duration": 7,
    "start_time": "2022-12-12T15:26:44.053Z"
   },
   {
    "duration": 35,
    "start_time": "2022-12-12T15:26:44.061Z"
   },
   {
    "duration": 15,
    "start_time": "2022-12-12T15:26:44.098Z"
   },
   {
    "duration": 5,
    "start_time": "2022-12-12T15:26:44.115Z"
   },
   {
    "duration": 6,
    "start_time": "2022-12-12T15:26:44.121Z"
   },
   {
    "duration": 8,
    "start_time": "2022-12-12T15:26:44.128Z"
   },
   {
    "duration": 7,
    "start_time": "2022-12-12T15:26:44.137Z"
   },
   {
    "duration": 17,
    "start_time": "2022-12-12T15:26:44.146Z"
   },
   {
    "duration": 32,
    "start_time": "2022-12-12T15:26:44.165Z"
   },
   {
    "duration": 4,
    "start_time": "2022-12-12T15:26:44.199Z"
   },
   {
    "duration": 18,
    "start_time": "2022-12-12T15:26:44.204Z"
   },
   {
    "duration": 16,
    "start_time": "2022-12-12T15:26:44.223Z"
   },
   {
    "duration": 14,
    "start_time": "2022-12-12T15:26:44.241Z"
   },
   {
    "duration": 39,
    "start_time": "2022-12-12T15:26:44.257Z"
   },
   {
    "duration": 6,
    "start_time": "2022-12-12T15:26:44.298Z"
   },
   {
    "duration": 94,
    "start_time": "2022-12-12T15:26:44.305Z"
   },
   {
    "duration": 100,
    "start_time": "2022-12-12T15:26:44.401Z"
   },
   {
    "duration": 6,
    "start_time": "2022-12-12T15:26:44.503Z"
   },
   {
    "duration": 10,
    "start_time": "2022-12-12T15:26:44.511Z"
   },
   {
    "duration": 76,
    "start_time": "2022-12-12T15:26:44.523Z"
   },
   {
    "duration": 7,
    "start_time": "2022-12-12T15:26:44.601Z"
   },
   {
    "duration": 94,
    "start_time": "2022-12-12T15:26:44.610Z"
   },
   {
    "duration": 10,
    "start_time": "2022-12-12T15:26:44.706Z"
   },
   {
    "duration": 22,
    "start_time": "2022-12-12T15:26:44.718Z"
   },
   {
    "duration": 58,
    "start_time": "2022-12-12T15:26:44.742Z"
   },
   {
    "duration": 103,
    "start_time": "2022-12-12T15:26:44.802Z"
   },
   {
    "duration": 11,
    "start_time": "2022-12-12T15:26:44.907Z"
   },
   {
    "duration": 4,
    "start_time": "2022-12-12T15:26:44.920Z"
   },
   {
    "duration": 7,
    "start_time": "2022-12-12T15:26:44.926Z"
   },
   {
    "duration": 6,
    "start_time": "2022-12-12T15:26:44.934Z"
   },
   {
    "duration": 10,
    "start_time": "2022-12-12T15:26:44.942Z"
   },
   {
    "duration": 23,
    "start_time": "2022-12-12T15:26:44.954Z"
   },
   {
    "duration": 21,
    "start_time": "2022-12-12T15:26:44.978Z"
   },
   {
    "duration": 3,
    "start_time": "2022-12-12T15:26:45.001Z"
   },
   {
    "duration": 40,
    "start_time": "2022-12-12T15:26:45.006Z"
   },
   {
    "duration": 4,
    "start_time": "2022-12-12T15:26:45.048Z"
   },
   {
    "duration": 15,
    "start_time": "2022-12-12T15:26:45.054Z"
   },
   {
    "duration": 11,
    "start_time": "2022-12-12T15:26:45.071Z"
   },
   {
    "duration": 18,
    "start_time": "2022-12-12T15:26:45.083Z"
   },
   {
    "duration": 5,
    "start_time": "2022-12-12T15:26:45.104Z"
   },
   {
    "duration": 19,
    "start_time": "2022-12-12T15:26:45.111Z"
   },
   {
    "duration": 18,
    "start_time": "2022-12-12T15:26:45.132Z"
   },
   {
    "duration": 33,
    "start_time": "2022-12-12T15:26:45.151Z"
   },
   {
    "duration": 17,
    "start_time": "2022-12-12T15:26:45.186Z"
   },
   {
    "duration": 16,
    "start_time": "2022-12-12T15:26:45.205Z"
   },
   {
    "duration": 1397,
    "start_time": "2022-12-12T15:26:45.223Z"
   },
   {
    "duration": 4,
    "start_time": "2022-12-12T15:26:46.622Z"
   },
   {
    "duration": 1285,
    "start_time": "2022-12-12T15:26:46.628Z"
   },
   {
    "duration": 4,
    "start_time": "2022-12-12T15:26:47.915Z"
   },
   {
    "duration": 1330,
    "start_time": "2022-12-12T15:26:47.920Z"
   },
   {
    "duration": 5,
    "start_time": "2022-12-12T15:26:49.254Z"
   },
   {
    "duration": 1452,
    "start_time": "2022-12-12T15:27:25.309Z"
   },
   {
    "duration": 3,
    "start_time": "2022-12-12T15:27:26.763Z"
   },
   {
    "duration": 396,
    "start_time": "2022-12-12T15:27:26.767Z"
   },
   {
    "duration": 15,
    "start_time": "2022-12-12T15:27:27.165Z"
   },
   {
    "duration": 23,
    "start_time": "2022-12-12T15:27:27.182Z"
   },
   {
    "duration": 37,
    "start_time": "2022-12-12T15:27:27.207Z"
   },
   {
    "duration": 556,
    "start_time": "2022-12-12T15:27:27.246Z"
   },
   {
    "duration": 11,
    "start_time": "2022-12-12T15:27:27.804Z"
   },
   {
    "duration": 17,
    "start_time": "2022-12-12T15:27:27.817Z"
   },
   {
    "duration": 47,
    "start_time": "2022-12-12T15:27:27.838Z"
   },
   {
    "duration": 527,
    "start_time": "2022-12-12T15:27:27.897Z"
   },
   {
    "duration": 9,
    "start_time": "2022-12-12T15:27:28.426Z"
   },
   {
    "duration": 18,
    "start_time": "2022-12-12T15:27:28.437Z"
   },
   {
    "duration": 55,
    "start_time": "2022-12-12T15:27:28.456Z"
   },
   {
    "duration": 644,
    "start_time": "2022-12-12T15:27:28.513Z"
   },
   {
    "duration": 16,
    "start_time": "2022-12-12T15:27:29.159Z"
   },
   {
    "duration": 28,
    "start_time": "2022-12-12T15:27:29.177Z"
   },
   {
    "duration": 15,
    "start_time": "2022-12-12T15:27:29.206Z"
   },
   {
    "duration": 31,
    "start_time": "2022-12-12T15:27:29.223Z"
   },
   {
    "duration": 10,
    "start_time": "2022-12-12T15:27:29.256Z"
   },
   {
    "duration": 29,
    "start_time": "2022-12-12T15:27:29.268Z"
   },
   {
    "duration": 4,
    "start_time": "2022-12-12T15:27:29.299Z"
   },
   {
    "duration": 6,
    "start_time": "2022-12-12T15:27:29.305Z"
   },
   {
    "duration": 34,
    "start_time": "2022-12-12T15:27:29.312Z"
   },
   {
    "duration": 50,
    "start_time": "2022-12-12T15:27:29.348Z"
   },
   {
    "duration": 30,
    "start_time": "2022-12-12T15:27:29.399Z"
   },
   {
    "duration": 4,
    "start_time": "2022-12-12T15:27:29.431Z"
   },
   {
    "duration": 4,
    "start_time": "2022-12-12T15:27:29.440Z"
   },
   {
    "duration": 15,
    "start_time": "2022-12-12T15:27:29.446Z"
   },
   {
    "duration": 4,
    "start_time": "2022-12-12T15:27:29.463Z"
   },
   {
    "duration": 5,
    "start_time": "2022-12-12T15:27:29.497Z"
   },
   {
    "duration": 7,
    "start_time": "2022-12-12T15:27:29.504Z"
   },
   {
    "duration": 15,
    "start_time": "2022-12-12T15:27:29.513Z"
   },
   {
    "duration": 15,
    "start_time": "2022-12-12T15:27:29.530Z"
   },
   {
    "duration": 4,
    "start_time": "2022-12-12T15:27:29.547Z"
   },
   {
    "duration": 8,
    "start_time": "2022-12-12T15:27:29.553Z"
   },
   {
    "duration": 35,
    "start_time": "2022-12-12T15:27:29.562Z"
   },
   {
    "duration": 7,
    "start_time": "2022-12-12T15:27:29.598Z"
   },
   {
    "duration": 15,
    "start_time": "2022-12-12T15:27:29.607Z"
   },
   {
    "duration": 4,
    "start_time": "2022-12-12T15:27:29.623Z"
   },
   {
    "duration": 5,
    "start_time": "2022-12-12T15:27:29.629Z"
   },
   {
    "duration": 19,
    "start_time": "2022-12-12T15:27:29.636Z"
   },
   {
    "duration": 42,
    "start_time": "2022-12-12T15:27:29.657Z"
   },
   {
    "duration": 13,
    "start_time": "2022-12-12T15:27:29.701Z"
   },
   {
    "duration": 7,
    "start_time": "2022-12-12T15:27:29.716Z"
   },
   {
    "duration": 7,
    "start_time": "2022-12-12T15:27:29.725Z"
   },
   {
    "duration": 64,
    "start_time": "2022-12-12T15:27:29.734Z"
   },
   {
    "duration": 8,
    "start_time": "2022-12-12T15:27:29.799Z"
   },
   {
    "duration": 11,
    "start_time": "2022-12-12T15:27:29.897Z"
   },
   {
    "duration": 6,
    "start_time": "2022-12-12T15:27:29.910Z"
   },
   {
    "duration": 20,
    "start_time": "2022-12-12T15:27:29.917Z"
   },
   {
    "duration": 8,
    "start_time": "2022-12-12T15:27:29.997Z"
   },
   {
    "duration": 115,
    "start_time": "2022-12-12T15:27:30.007Z"
   },
   {
    "duration": 18,
    "start_time": "2022-12-12T15:27:30.124Z"
   },
   {
    "duration": 43,
    "start_time": "2022-12-12T15:27:30.145Z"
   },
   {
    "duration": 209,
    "start_time": "2022-12-12T15:27:30.190Z"
   },
   {
    "duration": 43,
    "start_time": "2022-12-12T15:27:30.401Z"
   },
   {
    "duration": 26,
    "start_time": "2022-12-12T15:27:30.446Z"
   },
   {
    "duration": 22,
    "start_time": "2022-12-12T15:27:30.474Z"
   },
   {
    "duration": 26,
    "start_time": "2022-12-12T15:27:30.498Z"
   },
   {
    "duration": 74,
    "start_time": "2022-12-12T15:27:30.526Z"
   },
   {
    "duration": 25,
    "start_time": "2022-12-12T15:27:30.602Z"
   },
   {
    "duration": 19,
    "start_time": "2022-12-12T15:27:30.629Z"
   },
   {
    "duration": 19,
    "start_time": "2022-12-12T15:27:30.649Z"
   },
   {
    "duration": 10,
    "start_time": "2022-12-12T15:27:30.670Z"
   },
   {
    "duration": 12,
    "start_time": "2022-12-12T15:27:30.682Z"
   },
   {
    "duration": 4,
    "start_time": "2022-12-12T15:27:30.696Z"
   },
   {
    "duration": 9,
    "start_time": "2022-12-12T15:27:30.701Z"
   },
   {
    "duration": 26,
    "start_time": "2022-12-12T15:27:30.711Z"
   },
   {
    "duration": 13,
    "start_time": "2022-12-12T15:27:30.739Z"
   },
   {
    "duration": 20,
    "start_time": "2022-12-12T15:27:30.753Z"
   },
   {
    "duration": 13,
    "start_time": "2022-12-12T15:27:30.775Z"
   },
   {
    "duration": 31,
    "start_time": "2022-12-12T15:27:30.790Z"
   },
   {
    "duration": 15,
    "start_time": "2022-12-12T15:27:30.823Z"
   },
   {
    "duration": 11,
    "start_time": "2022-12-12T15:27:30.840Z"
   },
   {
    "duration": 17,
    "start_time": "2022-12-12T15:27:30.852Z"
   },
   {
    "duration": 1328,
    "start_time": "2022-12-12T15:27:30.871Z"
   },
   {
    "duration": 4,
    "start_time": "2022-12-12T15:27:32.200Z"
   },
   {
    "duration": 2400,
    "start_time": "2022-12-12T15:27:32.206Z"
   },
   {
    "duration": 4,
    "start_time": "2022-12-12T15:27:34.607Z"
   },
   {
    "duration": 1355,
    "start_time": "2022-12-12T15:27:34.613Z"
   },
   {
    "duration": 4,
    "start_time": "2022-12-12T15:27:35.973Z"
   },
   {
    "duration": 3,
    "start_time": "2022-12-12T15:28:44.278Z"
   },
   {
    "duration": 27,
    "start_time": "2022-12-12T15:32:51.594Z"
   },
   {
    "duration": 9,
    "start_time": "2022-12-12T15:33:01.337Z"
   },
   {
    "duration": 8,
    "start_time": "2022-12-12T15:33:31.546Z"
   },
   {
    "duration": 8,
    "start_time": "2022-12-12T15:33:31.678Z"
   },
   {
    "duration": 3,
    "start_time": "2022-12-12T15:38:33.099Z"
   },
   {
    "duration": 5,
    "start_time": "2022-12-12T15:40:25.600Z"
   },
   {
    "duration": 6,
    "start_time": "2022-12-12T15:40:40.825Z"
   },
   {
    "duration": 7,
    "start_time": "2022-12-12T15:40:58.513Z"
   },
   {
    "duration": 6,
    "start_time": "2022-12-12T15:40:58.671Z"
   },
   {
    "duration": 3,
    "start_time": "2022-12-12T15:49:44.014Z"
   },
   {
    "duration": 5,
    "start_time": "2022-12-12T15:49:44.186Z"
   },
   {
    "duration": 4,
    "start_time": "2022-12-12T15:49:54.857Z"
   },
   {
    "duration": 3,
    "start_time": "2022-12-12T15:50:48.075Z"
   },
   {
    "duration": 3,
    "start_time": "2022-12-12T15:50:48.571Z"
   },
   {
    "duration": 4,
    "start_time": "2022-12-12T15:50:57.118Z"
   },
   {
    "duration": 5,
    "start_time": "2022-12-12T15:52:53.234Z"
   },
   {
    "duration": 5,
    "start_time": "2022-12-12T15:53:08.107Z"
   },
   {
    "duration": 6,
    "start_time": "2022-12-12T15:53:58.318Z"
   },
   {
    "duration": 5,
    "start_time": "2022-12-12T15:54:28.373Z"
   },
   {
    "duration": 5,
    "start_time": "2022-12-12T15:54:41.907Z"
   },
   {
    "duration": 5,
    "start_time": "2022-12-12T15:54:42.113Z"
   },
   {
    "duration": 5,
    "start_time": "2022-12-12T15:54:42.427Z"
   },
   {
    "duration": 113,
    "start_time": "2022-12-12T15:57:55.075Z"
   },
   {
    "duration": 6,
    "start_time": "2022-12-12T15:58:02.526Z"
   },
   {
    "duration": 9,
    "start_time": "2022-12-12T15:58:17.689Z"
   },
   {
    "duration": 6,
    "start_time": "2022-12-12T15:58:41.141Z"
   },
   {
    "duration": 9,
    "start_time": "2022-12-12T15:58:41.485Z"
   },
   {
    "duration": 7,
    "start_time": "2022-12-12T15:59:01.326Z"
   },
   {
    "duration": 6,
    "start_time": "2022-12-12T15:59:01.709Z"
   },
   {
    "duration": 9,
    "start_time": "2022-12-12T15:59:20.290Z"
   },
   {
    "duration": 3,
    "start_time": "2022-12-12T15:59:37.225Z"
   },
   {
    "duration": 8,
    "start_time": "2022-12-12T15:59:37.950Z"
   },
   {
    "duration": 4,
    "start_time": "2022-12-12T15:59:38.226Z"
   },
   {
    "duration": 4,
    "start_time": "2022-12-12T15:59:44.663Z"
   },
   {
    "duration": 6,
    "start_time": "2022-12-12T15:59:45.028Z"
   },
   {
    "duration": 4,
    "start_time": "2022-12-12T15:59:45.438Z"
   },
   {
    "duration": 4,
    "start_time": "2022-12-12T15:59:46.012Z"
   },
   {
    "duration": 7,
    "start_time": "2022-12-12T15:59:46.860Z"
   },
   {
    "duration": 4,
    "start_time": "2022-12-12T15:59:47.251Z"
   },
   {
    "duration": 4,
    "start_time": "2022-12-12T15:59:48.445Z"
   },
   {
    "duration": 8,
    "start_time": "2022-12-12T16:00:06.030Z"
   },
   {
    "duration": 4,
    "start_time": "2022-12-12T16:00:06.248Z"
   },
   {
    "duration": 8,
    "start_time": "2022-12-12T16:00:07.251Z"
   },
   {
    "duration": 4,
    "start_time": "2022-12-12T16:00:07.606Z"
   },
   {
    "duration": 7,
    "start_time": "2022-12-12T16:00:08.185Z"
   },
   {
    "duration": 4,
    "start_time": "2022-12-12T16:00:08.513Z"
   },
   {
    "duration": 3,
    "start_time": "2022-12-12T16:00:24.786Z"
   },
   {
    "duration": 6,
    "start_time": "2022-12-12T16:00:34.538Z"
   },
   {
    "duration": 3,
    "start_time": "2022-12-12T16:00:35.002Z"
   },
   {
    "duration": 7,
    "start_time": "2022-12-12T16:00:35.582Z"
   },
   {
    "duration": 5,
    "start_time": "2022-12-12T16:00:36.104Z"
   },
   {
    "duration": 3,
    "start_time": "2022-12-12T16:01:40.682Z"
   },
   {
    "duration": 4,
    "start_time": "2022-12-12T16:01:41.083Z"
   },
   {
    "duration": 1192,
    "start_time": "2022-12-12T16:01:42.271Z"
   },
   {
    "duration": 3,
    "start_time": "2022-12-12T16:01:43.466Z"
   },
   {
    "duration": 1179,
    "start_time": "2022-12-12T16:01:59.013Z"
   },
   {
    "duration": 4,
    "start_time": "2022-12-12T16:02:00.196Z"
   },
   {
    "duration": 1230,
    "start_time": "2022-12-12T16:02:01.846Z"
   },
   {
    "duration": 4,
    "start_time": "2022-12-12T16:02:03.078Z"
   },
   {
    "duration": 4,
    "start_time": "2022-12-12T16:02:33.091Z"
   },
   {
    "duration": 1418,
    "start_time": "2022-12-12T16:02:34.766Z"
   },
   {
    "duration": 12,
    "start_time": "2022-12-12T16:02:36.186Z"
   },
   {
    "duration": 1332,
    "start_time": "2022-12-12T16:02:37.972Z"
   },
   {
    "duration": 4,
    "start_time": "2022-12-12T16:02:39.306Z"
   },
   {
    "duration": 1336,
    "start_time": "2022-12-12T16:02:39.311Z"
   },
   {
    "duration": 4,
    "start_time": "2022-12-12T16:02:40.649Z"
   },
   {
    "duration": 1352,
    "start_time": "2022-12-12T16:03:44.244Z"
   },
   {
    "duration": 4,
    "start_time": "2022-12-12T16:03:45.598Z"
   },
   {
    "duration": 1428,
    "start_time": "2022-12-12T16:03:45.604Z"
   },
   {
    "duration": 4,
    "start_time": "2022-12-12T16:03:47.034Z"
   },
   {
    "duration": 1367,
    "start_time": "2022-12-12T16:03:47.039Z"
   },
   {
    "duration": 12,
    "start_time": "2022-12-12T16:03:48.408Z"
   },
   {
    "duration": 5,
    "start_time": "2022-12-12T16:05:39.405Z"
   },
   {
    "duration": 5,
    "start_time": "2022-12-12T16:05:39.582Z"
   },
   {
    "duration": 5,
    "start_time": "2022-12-12T16:05:39.804Z"
   },
   {
    "duration": 6,
    "start_time": "2022-12-12T16:06:35.362Z"
   },
   {
    "duration": 5,
    "start_time": "2022-12-12T16:06:54.609Z"
   },
   {
    "duration": 68,
    "start_time": "2022-12-12T16:06:54.756Z"
   },
   {
    "duration": 6,
    "start_time": "2022-12-12T16:08:03.962Z"
   },
   {
    "duration": 4,
    "start_time": "2022-12-12T16:08:04.331Z"
   },
   {
    "duration": 5,
    "start_time": "2022-12-12T16:08:04.701Z"
   },
   {
    "duration": 4,
    "start_time": "2022-12-12T16:08:05.046Z"
   },
   {
    "duration": 5,
    "start_time": "2022-12-12T16:08:05.422Z"
   },
   {
    "duration": 4,
    "start_time": "2022-12-12T16:08:05.776Z"
   },
   {
    "duration": 1302,
    "start_time": "2022-12-12T16:13:26.357Z"
   },
   {
    "duration": 4,
    "start_time": "2022-12-12T16:13:27.661Z"
   },
   {
    "duration": 361,
    "start_time": "2022-12-12T16:13:27.666Z"
   },
   {
    "duration": 15,
    "start_time": "2022-12-12T16:13:28.030Z"
   },
   {
    "duration": 15,
    "start_time": "2022-12-12T16:13:28.047Z"
   },
   {
    "duration": 62,
    "start_time": "2022-12-12T16:13:28.064Z"
   },
   {
    "duration": 531,
    "start_time": "2022-12-12T16:13:28.128Z"
   },
   {
    "duration": 10,
    "start_time": "2022-12-12T16:13:28.661Z"
   },
   {
    "duration": 29,
    "start_time": "2022-12-12T16:13:28.672Z"
   },
   {
    "duration": 36,
    "start_time": "2022-12-12T16:13:28.704Z"
   },
   {
    "duration": 520,
    "start_time": "2022-12-12T16:13:28.741Z"
   },
   {
    "duration": 10,
    "start_time": "2022-12-12T16:13:29.263Z"
   },
   {
    "duration": 29,
    "start_time": "2022-12-12T16:13:29.274Z"
   },
   {
    "duration": 34,
    "start_time": "2022-12-12T16:13:29.305Z"
   },
   {
    "duration": 635,
    "start_time": "2022-12-12T16:13:29.340Z"
   },
   {
    "duration": 25,
    "start_time": "2022-12-12T16:13:29.977Z"
   },
   {
    "duration": 18,
    "start_time": "2022-12-12T16:13:30.004Z"
   },
   {
    "duration": 38,
    "start_time": "2022-12-12T16:13:30.024Z"
   },
   {
    "duration": 38,
    "start_time": "2022-12-12T16:13:30.064Z"
   },
   {
    "duration": 15,
    "start_time": "2022-12-12T16:13:30.104Z"
   },
   {
    "duration": 21,
    "start_time": "2022-12-12T16:13:30.121Z"
   },
   {
    "duration": 21,
    "start_time": "2022-12-12T16:13:30.144Z"
   },
   {
    "duration": 21,
    "start_time": "2022-12-12T16:13:30.167Z"
   },
   {
    "duration": 49,
    "start_time": "2022-12-12T16:13:30.189Z"
   },
   {
    "duration": 24,
    "start_time": "2022-12-12T16:13:30.240Z"
   },
   {
    "duration": 36,
    "start_time": "2022-12-12T16:13:30.266Z"
   },
   {
    "duration": 4,
    "start_time": "2022-12-12T16:13:30.304Z"
   },
   {
    "duration": 40,
    "start_time": "2022-12-12T16:13:30.312Z"
   },
   {
    "duration": 43,
    "start_time": "2022-12-12T16:13:30.354Z"
   },
   {
    "duration": 30,
    "start_time": "2022-12-12T16:13:30.398Z"
   },
   {
    "duration": 38,
    "start_time": "2022-12-12T16:13:30.430Z"
   },
   {
    "duration": 33,
    "start_time": "2022-12-12T16:13:30.469Z"
   },
   {
    "duration": 23,
    "start_time": "2022-12-12T16:13:30.503Z"
   },
   {
    "duration": 44,
    "start_time": "2022-12-12T16:13:30.527Z"
   },
   {
    "duration": 18,
    "start_time": "2022-12-12T16:13:30.573Z"
   },
   {
    "duration": 8,
    "start_time": "2022-12-12T16:13:30.592Z"
   },
   {
    "duration": 36,
    "start_time": "2022-12-12T16:13:30.602Z"
   },
   {
    "duration": 19,
    "start_time": "2022-12-12T16:13:30.640Z"
   },
   {
    "duration": 29,
    "start_time": "2022-12-12T16:13:30.661Z"
   },
   {
    "duration": 9,
    "start_time": "2022-12-12T16:13:30.692Z"
   },
   {
    "duration": 22,
    "start_time": "2022-12-12T16:13:30.702Z"
   },
   {
    "duration": 36,
    "start_time": "2022-12-12T16:13:30.725Z"
   },
   {
    "duration": 21,
    "start_time": "2022-12-12T16:13:30.762Z"
   },
   {
    "duration": 64,
    "start_time": "2022-12-12T16:13:30.784Z"
   },
   {
    "duration": 29,
    "start_time": "2022-12-12T16:13:30.849Z"
   },
   {
    "duration": 43,
    "start_time": "2022-12-12T16:13:30.879Z"
   },
   {
    "duration": 25,
    "start_time": "2022-12-12T16:13:30.923Z"
   },
   {
    "duration": 27,
    "start_time": "2022-12-12T16:13:30.950Z"
   },
   {
    "duration": 31,
    "start_time": "2022-12-12T16:13:30.978Z"
   },
   {
    "duration": 189,
    "start_time": "2022-12-12T16:13:31.010Z"
   },
   {
    "duration": 49,
    "start_time": "2022-12-12T16:13:31.200Z"
   },
   {
    "duration": 27,
    "start_time": "2022-12-12T16:13:31.250Z"
   },
   {
    "duration": 30,
    "start_time": "2022-12-12T16:13:31.279Z"
   },
   {
    "duration": 87,
    "start_time": "2022-12-12T16:13:31.311Z"
   },
   {
    "duration": 121,
    "start_time": "2022-12-12T16:13:31.400Z"
   },
   {
    "duration": 39,
    "start_time": "2022-12-12T16:13:31.523Z"
   },
   {
    "duration": 29,
    "start_time": "2022-12-12T16:13:31.564Z"
   },
   {
    "duration": 101,
    "start_time": "2022-12-12T16:13:31.597Z"
   },
   {
    "duration": 96,
    "start_time": "2022-12-12T16:13:31.700Z"
   },
   {
    "duration": 7,
    "start_time": "2022-12-12T16:13:31.798Z"
   },
   {
    "duration": 4,
    "start_time": "2022-12-12T16:13:31.806Z"
   },
   {
    "duration": 9,
    "start_time": "2022-12-12T16:13:31.811Z"
   },
   {
    "duration": 5,
    "start_time": "2022-12-12T16:13:31.821Z"
   },
   {
    "duration": 26,
    "start_time": "2022-12-12T16:13:31.828Z"
   },
   {
    "duration": 8,
    "start_time": "2022-12-12T16:13:31.856Z"
   },
   {
    "duration": 12,
    "start_time": "2022-12-12T16:13:31.866Z"
   },
   {
    "duration": 19,
    "start_time": "2022-12-12T16:13:31.879Z"
   },
   {
    "duration": 23,
    "start_time": "2022-12-12T16:13:31.899Z"
   },
   {
    "duration": 17,
    "start_time": "2022-12-12T16:13:31.924Z"
   },
   {
    "duration": 27,
    "start_time": "2022-12-12T16:13:31.942Z"
   },
   {
    "duration": 20,
    "start_time": "2022-12-12T16:13:31.971Z"
   },
   {
    "duration": 14,
    "start_time": "2022-12-12T16:13:31.993Z"
   },
   {
    "duration": 11,
    "start_time": "2022-12-12T16:13:32.008Z"
   },
   {
    "duration": 4,
    "start_time": "2022-12-12T16:13:32.021Z"
   },
   {
    "duration": 7,
    "start_time": "2022-12-12T16:13:32.027Z"
   },
   {
    "duration": 6,
    "start_time": "2022-12-12T16:13:32.035Z"
   },
   {
    "duration": 1380,
    "start_time": "2022-12-12T16:13:32.042Z"
   },
   {
    "duration": 3,
    "start_time": "2022-12-12T16:13:33.424Z"
   },
   {
    "duration": 1352,
    "start_time": "2022-12-12T16:13:33.429Z"
   },
   {
    "duration": 4,
    "start_time": "2022-12-12T16:13:34.783Z"
   },
   {
    "duration": 2251,
    "start_time": "2022-12-12T16:13:34.789Z"
   },
   {
    "duration": 4,
    "start_time": "2022-12-12T16:13:37.097Z"
   },
   {
    "duration": 7,
    "start_time": "2022-12-12T16:13:37.103Z"
   },
   {
    "duration": 5,
    "start_time": "2022-12-12T16:13:37.111Z"
   },
   {
    "duration": 6,
    "start_time": "2022-12-12T16:13:37.118Z"
   },
   {
    "duration": 14,
    "start_time": "2022-12-12T16:13:37.126Z"
   },
   {
    "duration": 56,
    "start_time": "2022-12-12T16:13:37.141Z"
   },
   {
    "duration": 4,
    "start_time": "2022-12-12T16:13:37.199Z"
   },
   {
    "duration": 1456,
    "start_time": "2022-12-13T16:20:33.246Z"
   },
   {
    "duration": 3,
    "start_time": "2022-12-13T16:20:34.704Z"
   },
   {
    "duration": 1630,
    "start_time": "2022-12-13T16:20:34.708Z"
   },
   {
    "duration": 14,
    "start_time": "2022-12-13T16:20:36.340Z"
   },
   {
    "duration": 13,
    "start_time": "2022-12-13T16:20:36.355Z"
   },
   {
    "duration": 34,
    "start_time": "2022-12-13T16:20:36.369Z"
   },
   {
    "duration": 483,
    "start_time": "2022-12-13T16:20:36.405Z"
   },
   {
    "duration": 10,
    "start_time": "2022-12-13T16:20:36.889Z"
   },
   {
    "duration": 28,
    "start_time": "2022-12-13T16:20:36.901Z"
   },
   {
    "duration": 33,
    "start_time": "2022-12-13T16:20:36.932Z"
   },
   {
    "duration": 480,
    "start_time": "2022-12-13T16:20:36.966Z"
   },
   {
    "duration": 11,
    "start_time": "2022-12-13T16:20:37.447Z"
   },
   {
    "duration": 36,
    "start_time": "2022-12-13T16:20:37.459Z"
   },
   {
    "duration": 34,
    "start_time": "2022-12-13T16:20:37.497Z"
   },
   {
    "duration": 543,
    "start_time": "2022-12-13T16:20:37.533Z"
   },
   {
    "duration": 15,
    "start_time": "2022-12-13T16:20:38.078Z"
   },
   {
    "duration": 33,
    "start_time": "2022-12-13T16:20:38.095Z"
   },
   {
    "duration": 27,
    "start_time": "2022-12-13T16:20:38.130Z"
   },
   {
    "duration": 39,
    "start_time": "2022-12-13T16:20:38.159Z"
   },
   {
    "duration": 49,
    "start_time": "2022-12-13T16:20:38.200Z"
   },
   {
    "duration": 25,
    "start_time": "2022-12-13T16:20:38.251Z"
   },
   {
    "duration": 23,
    "start_time": "2022-12-13T16:20:38.278Z"
   },
   {
    "duration": 9,
    "start_time": "2022-12-13T16:20:38.302Z"
   },
   {
    "duration": 51,
    "start_time": "2022-12-13T16:20:38.313Z"
   },
   {
    "duration": 19,
    "start_time": "2022-12-13T16:20:38.365Z"
   },
   {
    "duration": 26,
    "start_time": "2022-12-13T16:20:38.385Z"
   },
   {
    "duration": 4,
    "start_time": "2022-12-13T16:20:38.412Z"
   },
   {
    "duration": 8,
    "start_time": "2022-12-13T16:20:38.419Z"
   },
   {
    "duration": 24,
    "start_time": "2022-12-13T16:20:38.428Z"
   },
   {
    "duration": 6,
    "start_time": "2022-12-13T16:20:38.453Z"
   },
   {
    "duration": 19,
    "start_time": "2022-12-13T16:20:38.460Z"
   },
   {
    "duration": 12,
    "start_time": "2022-12-13T16:20:38.480Z"
   },
   {
    "duration": 13,
    "start_time": "2022-12-13T16:20:38.494Z"
   },
   {
    "duration": 27,
    "start_time": "2022-12-13T16:20:38.508Z"
   },
   {
    "duration": 16,
    "start_time": "2022-12-13T16:20:38.536Z"
   },
   {
    "duration": 15,
    "start_time": "2022-12-13T16:20:38.553Z"
   },
   {
    "duration": 16,
    "start_time": "2022-12-13T16:20:38.569Z"
   },
   {
    "duration": 17,
    "start_time": "2022-12-13T16:20:38.586Z"
   },
   {
    "duration": 23,
    "start_time": "2022-12-13T16:20:38.604Z"
   },
   {
    "duration": 17,
    "start_time": "2022-12-13T16:20:38.629Z"
   },
   {
    "duration": 16,
    "start_time": "2022-12-13T16:20:38.647Z"
   },
   {
    "duration": 27,
    "start_time": "2022-12-13T16:20:38.664Z"
   },
   {
    "duration": 37,
    "start_time": "2022-12-13T16:20:38.693Z"
   },
   {
    "duration": 35,
    "start_time": "2022-12-13T16:20:38.732Z"
   },
   {
    "duration": 22,
    "start_time": "2022-12-13T16:20:38.769Z"
   },
   {
    "duration": 40,
    "start_time": "2022-12-13T16:20:38.793Z"
   },
   {
    "duration": 24,
    "start_time": "2022-12-13T16:20:38.835Z"
   },
   {
    "duration": 19,
    "start_time": "2022-12-13T16:20:38.861Z"
   },
   {
    "duration": 44,
    "start_time": "2022-12-13T16:20:38.882Z"
   },
   {
    "duration": 4,
    "start_time": "2022-12-13T16:20:38.928Z"
   },
   {
    "duration": 95,
    "start_time": "2022-12-13T16:20:38.934Z"
   },
   {
    "duration": 9,
    "start_time": "2022-12-13T16:20:39.030Z"
   },
   {
    "duration": 92,
    "start_time": "2022-12-13T16:20:39.041Z"
   },
   {
    "duration": 94,
    "start_time": "2022-12-13T16:20:39.135Z"
   },
   {
    "duration": 10,
    "start_time": "2022-12-13T16:20:39.231Z"
   },
   {
    "duration": 10,
    "start_time": "2022-12-13T16:20:39.242Z"
   },
   {
    "duration": 12,
    "start_time": "2022-12-13T16:20:39.254Z"
   },
   {
    "duration": 60,
    "start_time": "2022-12-13T16:20:39.268Z"
   },
   {
    "duration": 100,
    "start_time": "2022-12-13T16:20:39.329Z"
   },
   {
    "duration": 13,
    "start_time": "2022-12-13T16:20:39.430Z"
   },
   {
    "duration": 4,
    "start_time": "2022-12-13T16:20:39.444Z"
   },
   {
    "duration": 8,
    "start_time": "2022-12-13T16:20:39.449Z"
   },
   {
    "duration": 5,
    "start_time": "2022-12-13T16:20:39.458Z"
   },
   {
    "duration": 7,
    "start_time": "2022-12-13T16:20:39.464Z"
   },
   {
    "duration": 12,
    "start_time": "2022-12-13T16:20:39.473Z"
   },
   {
    "duration": 5,
    "start_time": "2022-12-13T16:20:39.487Z"
   },
   {
    "duration": 6,
    "start_time": "2022-12-13T16:20:39.493Z"
   },
   {
    "duration": 9,
    "start_time": "2022-12-13T16:20:39.500Z"
   },
   {
    "duration": 9,
    "start_time": "2022-12-13T16:20:39.525Z"
   },
   {
    "duration": 16,
    "start_time": "2022-12-13T16:20:39.535Z"
   },
   {
    "duration": 10,
    "start_time": "2022-12-13T16:20:39.552Z"
   },
   {
    "duration": 12,
    "start_time": "2022-12-13T16:20:39.564Z"
   },
   {
    "duration": 9,
    "start_time": "2022-12-13T16:20:39.577Z"
   },
   {
    "duration": 3,
    "start_time": "2022-12-13T16:20:39.587Z"
   },
   {
    "duration": 6,
    "start_time": "2022-12-13T16:20:39.592Z"
   },
   {
    "duration": 7,
    "start_time": "2022-12-13T16:20:39.599Z"
   },
   {
    "duration": 1312,
    "start_time": "2022-12-13T16:20:39.607Z"
   },
   {
    "duration": 6,
    "start_time": "2022-12-13T16:20:40.921Z"
   },
   {
    "duration": 1254,
    "start_time": "2022-12-13T16:20:40.929Z"
   },
   {
    "duration": 4,
    "start_time": "2022-12-13T16:20:42.184Z"
   },
   {
    "duration": 1176,
    "start_time": "2022-12-13T16:20:42.189Z"
   },
   {
    "duration": 4,
    "start_time": "2022-12-13T16:20:43.370Z"
   },
   {
    "duration": 7,
    "start_time": "2022-12-13T16:20:43.376Z"
   },
   {
    "duration": 3,
    "start_time": "2022-12-13T16:20:43.384Z"
   },
   {
    "duration": 5,
    "start_time": "2022-12-13T16:20:43.389Z"
   },
   {
    "duration": 3,
    "start_time": "2022-12-13T16:20:43.395Z"
   },
   {
    "duration": 27,
    "start_time": "2022-12-13T16:20:43.400Z"
   },
   {
    "duration": 3,
    "start_time": "2022-12-13T16:20:43.428Z"
   },
   {
    "duration": 7,
    "start_time": "2022-12-13T16:24:39.944Z"
   },
   {
    "duration": 5,
    "start_time": "2022-12-13T16:24:45.112Z"
   },
   {
    "duration": 4,
    "start_time": "2022-12-13T16:24:54.766Z"
   },
   {
    "duration": 3,
    "start_time": "2022-12-13T16:25:05.131Z"
   },
   {
    "duration": 4,
    "start_time": "2022-12-13T16:25:09.217Z"
   },
   {
    "duration": 4,
    "start_time": "2022-12-13T16:25:14.548Z"
   },
   {
    "duration": 4,
    "start_time": "2022-12-13T16:25:16.876Z"
   },
   {
    "duration": 4,
    "start_time": "2022-12-13T16:27:34.531Z"
   },
   {
    "duration": 4,
    "start_time": "2022-12-13T16:27:41.962Z"
   },
   {
    "duration": 4,
    "start_time": "2022-12-13T16:27:47.041Z"
   },
   {
    "duration": 98,
    "start_time": "2022-12-13T16:30:31.275Z"
   },
   {
    "duration": 11,
    "start_time": "2022-12-13T16:31:01.149Z"
   },
   {
    "duration": 11,
    "start_time": "2022-12-13T16:31:18.584Z"
   },
   {
    "duration": 11,
    "start_time": "2022-12-13T16:31:23.774Z"
   },
   {
    "duration": 12,
    "start_time": "2022-12-13T16:31:34.039Z"
   },
   {
    "duration": 12,
    "start_time": "2022-12-13T16:31:52.849Z"
   },
   {
    "duration": 14,
    "start_time": "2022-12-13T16:32:00.200Z"
   },
   {
    "duration": 10,
    "start_time": "2022-12-13T16:32:05.897Z"
   },
   {
    "duration": 12,
    "start_time": "2022-12-13T16:32:09.807Z"
   },
   {
    "duration": 11,
    "start_time": "2022-12-13T16:32:12.760Z"
   },
   {
    "duration": 4,
    "start_time": "2022-12-13T16:33:07.672Z"
   },
   {
    "duration": 4,
    "start_time": "2022-12-13T16:33:13.656Z"
   },
   {
    "duration": 1190,
    "start_time": "2022-12-13T16:33:14.000Z"
   },
   {
    "duration": 4,
    "start_time": "2022-12-13T16:33:15.192Z"
   },
   {
    "duration": 23,
    "start_time": "2022-12-13T16:33:15.198Z"
   },
   {
    "duration": 6,
    "start_time": "2022-12-13T16:33:49.300Z"
   },
   {
    "duration": 1241,
    "start_time": "2022-12-13T16:33:49.847Z"
   },
   {
    "duration": 4,
    "start_time": "2022-12-13T16:33:51.090Z"
   },
   {
    "duration": 13,
    "start_time": "2022-12-13T16:33:51.096Z"
   },
   {
    "duration": 4,
    "start_time": "2022-12-13T16:34:20.557Z"
   },
   {
    "duration": 1269,
    "start_time": "2022-12-13T16:34:21.191Z"
   },
   {
    "duration": 4,
    "start_time": "2022-12-13T16:34:22.462Z"
   },
   {
    "duration": 7,
    "start_time": "2022-12-13T16:34:22.467Z"
   },
   {
    "duration": 1200,
    "start_time": "2022-12-13T16:34:23.303Z"
   },
   {
    "duration": 3,
    "start_time": "2022-12-13T16:34:24.505Z"
   },
   {
    "duration": 31,
    "start_time": "2022-12-13T16:34:24.510Z"
   },
   {
    "duration": 1213,
    "start_time": "2022-12-13T16:41:31.598Z"
   },
   {
    "duration": 4,
    "start_time": "2022-12-13T16:41:32.813Z"
   },
   {
    "duration": 4,
    "start_time": "2022-12-13T16:41:32.825Z"
   },
   {
    "duration": 5,
    "start_time": "2022-12-13T16:50:34.911Z"
   },
   {
    "duration": 4,
    "start_time": "2022-12-13T16:50:35.074Z"
   },
   {
    "duration": 4,
    "start_time": "2022-12-13T16:53:59.769Z"
   },
   {
    "duration": 3,
    "start_time": "2022-12-13T16:54:27.936Z"
   },
   {
    "duration": 4,
    "start_time": "2022-12-13T16:54:34.766Z"
   },
   {
    "duration": 1244,
    "start_time": "2022-12-13T16:54:39.635Z"
   },
   {
    "duration": 4,
    "start_time": "2022-12-13T16:54:40.881Z"
   },
   {
    "duration": 372,
    "start_time": "2022-12-13T16:54:40.886Z"
   },
   {
    "duration": 14,
    "start_time": "2022-12-13T16:54:41.261Z"
   },
   {
    "duration": 14,
    "start_time": "2022-12-13T16:54:41.277Z"
   },
   {
    "duration": 53,
    "start_time": "2022-12-13T16:54:41.292Z"
   },
   {
    "duration": 512,
    "start_time": "2022-12-13T16:54:41.347Z"
   },
   {
    "duration": 9,
    "start_time": "2022-12-13T16:54:41.861Z"
   },
   {
    "duration": 25,
    "start_time": "2022-12-13T16:54:41.872Z"
   },
   {
    "duration": 57,
    "start_time": "2022-12-13T16:54:41.901Z"
   },
   {
    "duration": 462,
    "start_time": "2022-12-13T16:54:41.961Z"
   },
   {
    "duration": 9,
    "start_time": "2022-12-13T16:54:42.426Z"
   },
   {
    "duration": 17,
    "start_time": "2022-12-13T16:54:42.437Z"
   },
   {
    "duration": 32,
    "start_time": "2022-12-13T16:54:42.456Z"
   },
   {
    "duration": 575,
    "start_time": "2022-12-13T16:54:42.489Z"
   },
   {
    "duration": 16,
    "start_time": "2022-12-13T16:54:43.066Z"
   },
   {
    "duration": 16,
    "start_time": "2022-12-13T16:54:43.084Z"
   },
   {
    "duration": 36,
    "start_time": "2022-12-13T16:54:43.102Z"
   },
   {
    "duration": 27,
    "start_time": "2022-12-13T16:54:43.139Z"
   },
   {
    "duration": 19,
    "start_time": "2022-12-13T16:54:43.167Z"
   },
   {
    "duration": 8,
    "start_time": "2022-12-13T16:54:43.187Z"
   },
   {
    "duration": 5,
    "start_time": "2022-12-13T16:54:43.197Z"
   },
   {
    "duration": 23,
    "start_time": "2022-12-13T16:54:43.204Z"
   },
   {
    "duration": 28,
    "start_time": "2022-12-13T16:54:43.228Z"
   },
   {
    "duration": 19,
    "start_time": "2022-12-13T16:54:43.258Z"
   },
   {
    "duration": 48,
    "start_time": "2022-12-13T16:54:43.279Z"
   },
   {
    "duration": 4,
    "start_time": "2022-12-13T16:54:43.328Z"
   },
   {
    "duration": 4,
    "start_time": "2022-12-13T16:54:43.336Z"
   },
   {
    "duration": 15,
    "start_time": "2022-12-13T16:54:43.342Z"
   },
   {
    "duration": 3,
    "start_time": "2022-12-13T16:54:43.359Z"
   },
   {
    "duration": 9,
    "start_time": "2022-12-13T16:54:43.364Z"
   },
   {
    "duration": 6,
    "start_time": "2022-12-13T16:54:43.374Z"
   },
   {
    "duration": 10,
    "start_time": "2022-12-13T16:54:43.381Z"
   },
   {
    "duration": 34,
    "start_time": "2022-12-13T16:54:43.392Z"
   },
   {
    "duration": 3,
    "start_time": "2022-12-13T16:54:43.428Z"
   },
   {
    "duration": 12,
    "start_time": "2022-12-13T16:54:43.433Z"
   },
   {
    "duration": 10,
    "start_time": "2022-12-13T16:54:43.447Z"
   },
   {
    "duration": 6,
    "start_time": "2022-12-13T16:54:43.458Z"
   },
   {
    "duration": 15,
    "start_time": "2022-12-13T16:54:43.466Z"
   },
   {
    "duration": 3,
    "start_time": "2022-12-13T16:54:43.483Z"
   },
   {
    "duration": 11,
    "start_time": "2022-12-13T16:54:43.487Z"
   },
   {
    "duration": 33,
    "start_time": "2022-12-13T16:54:43.500Z"
   },
   {
    "duration": 13,
    "start_time": "2022-12-13T16:54:43.535Z"
   },
   {
    "duration": 13,
    "start_time": "2022-12-13T16:54:43.550Z"
   },
   {
    "duration": 7,
    "start_time": "2022-12-13T16:54:43.565Z"
   },
   {
    "duration": 16,
    "start_time": "2022-12-13T16:54:43.574Z"
   },
   {
    "duration": 11,
    "start_time": "2022-12-13T16:54:43.592Z"
   },
   {
    "duration": 5,
    "start_time": "2022-12-13T16:54:43.627Z"
   },
   {
    "duration": 94,
    "start_time": "2022-12-13T16:54:43.634Z"
   },
   {
    "duration": 6,
    "start_time": "2022-12-13T16:54:43.731Z"
   },
   {
    "duration": 95,
    "start_time": "2022-12-13T16:54:43.739Z"
   },
   {
    "duration": 8,
    "start_time": "2022-12-13T16:54:43.838Z"
   },
   {
    "duration": 80,
    "start_time": "2022-12-13T16:54:43.847Z"
   },
   {
    "duration": 4,
    "start_time": "2022-12-13T16:54:43.929Z"
   },
   {
    "duration": 102,
    "start_time": "2022-12-13T16:54:43.934Z"
   },
   {
    "duration": 7,
    "start_time": "2022-12-13T16:54:44.038Z"
   },
   {
    "duration": 22,
    "start_time": "2022-12-13T16:54:44.046Z"
   },
   {
    "duration": 59,
    "start_time": "2022-12-13T16:54:44.070Z"
   },
   {
    "duration": 98,
    "start_time": "2022-12-13T16:54:44.131Z"
   },
   {
    "duration": 8,
    "start_time": "2022-12-13T16:54:44.230Z"
   },
   {
    "duration": 7,
    "start_time": "2022-12-13T16:54:44.240Z"
   },
   {
    "duration": 8,
    "start_time": "2022-12-13T16:54:44.248Z"
   },
   {
    "duration": 7,
    "start_time": "2022-12-13T16:54:44.257Z"
   },
   {
    "duration": 7,
    "start_time": "2022-12-13T16:54:44.265Z"
   },
   {
    "duration": 6,
    "start_time": "2022-12-13T16:54:44.273Z"
   },
   {
    "duration": 6,
    "start_time": "2022-12-13T16:54:44.281Z"
   },
   {
    "duration": 6,
    "start_time": "2022-12-13T16:54:44.288Z"
   },
   {
    "duration": 31,
    "start_time": "2022-12-13T16:54:44.295Z"
   },
   {
    "duration": 15,
    "start_time": "2022-12-13T16:54:44.328Z"
   },
   {
    "duration": 4,
    "start_time": "2022-12-13T16:54:44.344Z"
   },
   {
    "duration": 10,
    "start_time": "2022-12-13T16:54:44.350Z"
   },
   {
    "duration": 4,
    "start_time": "2022-12-13T16:54:44.361Z"
   },
   {
    "duration": 12,
    "start_time": "2022-12-13T16:54:44.367Z"
   },
   {
    "duration": 4,
    "start_time": "2022-12-13T16:54:44.381Z"
   },
   {
    "duration": 13,
    "start_time": "2022-12-13T16:54:44.386Z"
   },
   {
    "duration": 16,
    "start_time": "2022-12-13T16:54:44.401Z"
   },
   {
    "duration": 1266,
    "start_time": "2022-12-13T16:54:44.418Z"
   },
   {
    "duration": 4,
    "start_time": "2022-12-13T16:54:45.686Z"
   },
   {
    "duration": 26,
    "start_time": "2022-12-13T16:54:45.692Z"
   },
   {
    "duration": 32,
    "start_time": "2022-12-13T16:54:45.719Z"
   },
   {
    "duration": 1336,
    "start_time": "2022-12-13T16:54:45.753Z"
   },
   {
    "duration": 4,
    "start_time": "2022-12-13T16:54:47.093Z"
   },
   {
    "duration": 9,
    "start_time": "2022-12-13T16:54:47.098Z"
   },
   {
    "duration": 18,
    "start_time": "2022-12-13T16:54:47.108Z"
   },
   {
    "duration": 1215,
    "start_time": "2022-12-13T16:54:47.127Z"
   },
   {
    "duration": 3,
    "start_time": "2022-12-13T16:54:48.344Z"
   },
   {
    "duration": 6,
    "start_time": "2022-12-13T16:54:48.349Z"
   },
   {
    "duration": 5,
    "start_time": "2022-12-13T16:54:48.357Z"
   },
   {
    "duration": 9616,
    "start_time": "2022-12-14T07:19:45.905Z"
   },
   {
    "duration": 3,
    "start_time": "2022-12-14T07:19:55.523Z"
   },
   {
    "duration": 813,
    "start_time": "2022-12-14T07:19:55.527Z"
   },
   {
    "duration": 73,
    "start_time": "2022-12-14T07:19:56.343Z"
   },
   {
    "duration": 18,
    "start_time": "2022-12-14T07:19:56.418Z"
   },
   {
    "duration": 79,
    "start_time": "2022-12-14T07:19:56.438Z"
   },
   {
    "duration": 668,
    "start_time": "2022-12-14T07:19:56.519Z"
   },
   {
    "duration": 9,
    "start_time": "2022-12-14T07:19:57.188Z"
   },
   {
    "duration": 29,
    "start_time": "2022-12-14T07:19:57.199Z"
   },
   {
    "duration": 36,
    "start_time": "2022-12-14T07:19:57.230Z"
   },
   {
    "duration": 596,
    "start_time": "2022-12-14T07:19:57.268Z"
   },
   {
    "duration": 11,
    "start_time": "2022-12-14T07:19:57.865Z"
   },
   {
    "duration": 54,
    "start_time": "2022-12-14T07:19:57.877Z"
   },
   {
    "duration": 33,
    "start_time": "2022-12-14T07:19:57.933Z"
   },
   {
    "duration": 1097,
    "start_time": "2022-12-14T07:19:57.967Z"
   },
   {
    "duration": 67,
    "start_time": "2022-12-14T07:19:59.066Z"
   },
   {
    "duration": 17,
    "start_time": "2022-12-14T07:19:59.135Z"
   },
   {
    "duration": 69,
    "start_time": "2022-12-14T07:19:59.154Z"
   },
   {
    "duration": 33,
    "start_time": "2022-12-14T07:19:59.224Z"
   },
   {
    "duration": 64,
    "start_time": "2022-12-14T07:19:59.259Z"
   },
   {
    "duration": 16,
    "start_time": "2022-12-14T07:19:59.325Z"
   },
   {
    "duration": 11,
    "start_time": "2022-12-14T07:19:59.343Z"
   },
   {
    "duration": 11,
    "start_time": "2022-12-14T07:19:59.355Z"
   },
   {
    "duration": 75,
    "start_time": "2022-12-14T07:19:59.367Z"
   },
   {
    "duration": 73,
    "start_time": "2022-12-14T07:19:59.444Z"
   },
   {
    "duration": 28,
    "start_time": "2022-12-14T07:19:59.518Z"
   },
   {
    "duration": 4,
    "start_time": "2022-12-14T07:19:59.548Z"
   },
   {
    "duration": 61,
    "start_time": "2022-12-14T07:19:59.556Z"
   },
   {
    "duration": 11,
    "start_time": "2022-12-14T07:19:59.618Z"
   },
   {
    "duration": 5,
    "start_time": "2022-12-14T07:19:59.630Z"
   },
   {
    "duration": 6,
    "start_time": "2022-12-14T07:19:59.637Z"
   },
   {
    "duration": 70,
    "start_time": "2022-12-14T07:19:59.645Z"
   },
   {
    "duration": 5,
    "start_time": "2022-12-14T07:19:59.718Z"
   },
   {
    "duration": 21,
    "start_time": "2022-12-14T07:19:59.725Z"
   },
   {
    "duration": 4,
    "start_time": "2022-12-14T07:19:59.748Z"
   },
   {
    "duration": 65,
    "start_time": "2022-12-14T07:19:59.753Z"
   },
   {
    "duration": 6,
    "start_time": "2022-12-14T07:19:59.819Z"
   },
   {
    "duration": 7,
    "start_time": "2022-12-14T07:19:59.826Z"
   },
   {
    "duration": 17,
    "start_time": "2022-12-14T07:19:59.835Z"
   },
   {
    "duration": 4,
    "start_time": "2022-12-14T07:19:59.853Z"
   },
   {
    "duration": 4,
    "start_time": "2022-12-14T07:19:59.916Z"
   },
   {
    "duration": 20,
    "start_time": "2022-12-14T07:19:59.922Z"
   },
   {
    "duration": 74,
    "start_time": "2022-12-14T07:19:59.944Z"
   },
   {
    "duration": 15,
    "start_time": "2022-12-14T07:20:00.020Z"
   },
   {
    "duration": 27,
    "start_time": "2022-12-14T07:20:00.036Z"
   },
   {
    "duration": 58,
    "start_time": "2022-12-14T07:20:00.064Z"
   },
   {
    "duration": 28,
    "start_time": "2022-12-14T07:20:00.123Z"
   },
   {
    "duration": 63,
    "start_time": "2022-12-14T07:20:00.153Z"
   },
   {
    "duration": 50,
    "start_time": "2022-12-14T07:20:00.218Z"
   },
   {
    "duration": 101,
    "start_time": "2022-12-14T07:20:00.317Z"
   },
   {
    "duration": 103,
    "start_time": "2022-12-14T07:20:00.420Z"
   },
   {
    "duration": 27,
    "start_time": "2022-12-14T07:20:00.524Z"
   },
   {
    "duration": 39,
    "start_time": "2022-12-14T07:20:00.553Z"
   },
   {
    "duration": 118,
    "start_time": "2022-12-14T07:20:00.615Z"
   },
   {
    "duration": 38,
    "start_time": "2022-12-14T07:20:00.734Z"
   },
   {
    "duration": 43,
    "start_time": "2022-12-14T07:20:00.774Z"
   },
   {
    "duration": 40,
    "start_time": "2022-12-14T07:20:00.818Z"
   },
   {
    "duration": 58,
    "start_time": "2022-12-14T07:20:00.861Z"
   },
   {
    "duration": 172,
    "start_time": "2022-12-14T07:20:00.921Z"
   },
   {
    "duration": 26,
    "start_time": "2022-12-14T07:20:01.095Z"
   },
   {
    "duration": 33,
    "start_time": "2022-12-14T07:20:01.123Z"
   },
   {
    "duration": 35,
    "start_time": "2022-12-14T07:20:01.158Z"
   },
   {
    "duration": 32,
    "start_time": "2022-12-14T07:20:01.195Z"
   },
   {
    "duration": 30,
    "start_time": "2022-12-14T07:20:01.229Z"
   },
   {
    "duration": 23,
    "start_time": "2022-12-14T07:20:01.261Z"
   },
   {
    "duration": 15,
    "start_time": "2022-12-14T07:20:01.286Z"
   },
   {
    "duration": 12,
    "start_time": "2022-12-14T07:20:01.302Z"
   },
   {
    "duration": 20,
    "start_time": "2022-12-14T07:20:01.316Z"
   },
   {
    "duration": 61,
    "start_time": "2022-12-14T07:20:01.337Z"
   },
   {
    "duration": 14,
    "start_time": "2022-12-14T07:20:01.400Z"
   },
   {
    "duration": 30,
    "start_time": "2022-12-14T07:20:01.416Z"
   },
   {
    "duration": 14,
    "start_time": "2022-12-14T07:20:01.448Z"
   },
   {
    "duration": 36,
    "start_time": "2022-12-14T07:20:01.464Z"
   },
   {
    "duration": 31,
    "start_time": "2022-12-14T07:20:01.501Z"
   },
   {
    "duration": 52,
    "start_time": "2022-12-14T07:20:01.534Z"
   },
   {
    "duration": 43,
    "start_time": "2022-12-14T07:20:01.588Z"
   },
   {
    "duration": 2588,
    "start_time": "2022-12-14T07:20:01.633Z"
   },
   {
    "duration": 5,
    "start_time": "2022-12-14T07:20:04.222Z"
   },
   {
    "duration": 8,
    "start_time": "2022-12-14T07:20:04.229Z"
   },
   {
    "duration": 11,
    "start_time": "2022-12-14T07:20:04.239Z"
   },
   {
    "duration": 3086,
    "start_time": "2022-12-14T07:20:04.252Z"
   },
   {
    "duration": 4,
    "start_time": "2022-12-14T07:20:07.344Z"
   },
   {
    "duration": 1243,
    "start_time": "2022-12-14T07:20:07.351Z"
   },
   {
    "duration": 21,
    "start_time": "2022-12-14T07:20:08.596Z"
   },
   {
    "duration": 2262,
    "start_time": "2022-12-14T07:20:08.619Z"
   },
   {
    "duration": 4,
    "start_time": "2022-12-14T07:20:10.883Z"
   },
   {
    "duration": 28,
    "start_time": "2022-12-14T07:20:10.888Z"
   },
   {
    "duration": 6,
    "start_time": "2022-12-14T07:20:10.918Z"
   },
   {
    "duration": 4,
    "start_time": "2022-12-14T07:21:12.206Z"
   },
   {
    "duration": 1752,
    "start_time": "2022-12-14T07:21:16.223Z"
   },
   {
    "duration": 1736,
    "start_time": "2022-12-14T07:21:23.394Z"
   },
   {
    "duration": 3,
    "start_time": "2022-12-14T07:21:25.877Z"
   },
   {
    "duration": 1312,
    "start_time": "2022-12-14T07:21:27.807Z"
   },
   {
    "duration": 1550,
    "start_time": "2022-12-14T07:36:05.462Z"
   },
   {
    "duration": 4,
    "start_time": "2022-12-14T07:36:07.015Z"
   },
   {
    "duration": 635,
    "start_time": "2022-12-14T07:36:07.020Z"
   },
   {
    "duration": 15,
    "start_time": "2022-12-14T07:36:07.657Z"
   },
   {
    "duration": 17,
    "start_time": "2022-12-14T07:36:07.675Z"
   },
   {
    "duration": 38,
    "start_time": "2022-12-14T07:36:07.694Z"
   },
   {
    "duration": 602,
    "start_time": "2022-12-14T07:36:07.734Z"
   },
   {
    "duration": 13,
    "start_time": "2022-12-14T07:36:08.338Z"
   },
   {
    "duration": 36,
    "start_time": "2022-12-14T07:36:08.354Z"
   },
   {
    "duration": 47,
    "start_time": "2022-12-14T07:36:08.392Z"
   },
   {
    "duration": 532,
    "start_time": "2022-12-14T07:36:08.441Z"
   },
   {
    "duration": 10,
    "start_time": "2022-12-14T07:36:08.975Z"
   },
   {
    "duration": 19,
    "start_time": "2022-12-14T07:36:08.986Z"
   },
   {
    "duration": 36,
    "start_time": "2022-12-14T07:36:09.008Z"
   },
   {
    "duration": 668,
    "start_time": "2022-12-14T07:36:09.046Z"
   },
   {
    "duration": 18,
    "start_time": "2022-12-14T07:36:09.716Z"
   },
   {
    "duration": 19,
    "start_time": "2022-12-14T07:36:09.736Z"
   },
   {
    "duration": 19,
    "start_time": "2022-12-14T07:36:09.777Z"
   },
   {
    "duration": 33,
    "start_time": "2022-12-14T07:36:09.798Z"
   },
   {
    "duration": 19,
    "start_time": "2022-12-14T07:36:09.833Z"
   },
   {
    "duration": 23,
    "start_time": "2022-12-14T07:36:09.854Z"
   },
   {
    "duration": 8,
    "start_time": "2022-12-14T07:36:09.879Z"
   },
   {
    "duration": 8,
    "start_time": "2022-12-14T07:36:09.889Z"
   },
   {
    "duration": 39,
    "start_time": "2022-12-14T07:36:09.898Z"
   },
   {
    "duration": 43,
    "start_time": "2022-12-14T07:36:09.938Z"
   },
   {
    "duration": 31,
    "start_time": "2022-12-14T07:36:09.983Z"
   },
   {
    "duration": 4,
    "start_time": "2022-12-14T07:36:10.016Z"
   },
   {
    "duration": 9,
    "start_time": "2022-12-14T07:36:10.021Z"
   },
   {
    "duration": 14,
    "start_time": "2022-12-14T07:36:10.031Z"
   },
   {
    "duration": 4,
    "start_time": "2022-12-14T07:36:10.047Z"
   },
   {
    "duration": 10,
    "start_time": "2022-12-14T07:36:10.078Z"
   },
   {
    "duration": 10,
    "start_time": "2022-12-14T07:36:10.090Z"
   },
   {
    "duration": 8,
    "start_time": "2022-12-14T07:36:10.102Z"
   },
   {
    "duration": 19,
    "start_time": "2022-12-14T07:36:10.111Z"
   },
   {
    "duration": 4,
    "start_time": "2022-12-14T07:36:10.132Z"
   },
   {
    "duration": 10,
    "start_time": "2022-12-14T07:36:10.137Z"
   },
   {
    "duration": 11,
    "start_time": "2022-12-14T07:36:10.149Z"
   },
   {
    "duration": 4,
    "start_time": "2022-12-14T07:36:10.177Z"
   },
   {
    "duration": 17,
    "start_time": "2022-12-14T07:36:10.183Z"
   },
   {
    "duration": 4,
    "start_time": "2022-12-14T07:36:10.202Z"
   },
   {
    "duration": 4,
    "start_time": "2022-12-14T07:36:10.212Z"
   },
   {
    "duration": 21,
    "start_time": "2022-12-14T07:36:10.218Z"
   },
   {
    "duration": 48,
    "start_time": "2022-12-14T07:36:10.241Z"
   },
   {
    "duration": 16,
    "start_time": "2022-12-14T07:36:10.291Z"
   },
   {
    "duration": 9,
    "start_time": "2022-12-14T07:36:10.309Z"
   },
   {
    "duration": 10,
    "start_time": "2022-12-14T07:36:10.320Z"
   },
   {
    "duration": 13,
    "start_time": "2022-12-14T07:36:10.332Z"
   },
   {
    "duration": 6,
    "start_time": "2022-12-14T07:36:10.377Z"
   },
   {
    "duration": 36,
    "start_time": "2022-12-14T07:36:10.385Z"
   },
   {
    "duration": 57,
    "start_time": "2022-12-14T07:36:10.423Z"
   },
   {
    "duration": 96,
    "start_time": "2022-12-14T07:36:10.484Z"
   },
   {
    "duration": 8,
    "start_time": "2022-12-14T07:36:10.582Z"
   },
   {
    "duration": 18,
    "start_time": "2022-12-14T07:36:10.592Z"
   },
   {
    "duration": 14,
    "start_time": "2022-12-14T07:36:10.678Z"
   },
   {
    "duration": 4,
    "start_time": "2022-12-14T07:36:10.779Z"
   },
   {
    "duration": 14,
    "start_time": "2022-12-14T07:36:10.785Z"
   },
   {
    "duration": 29,
    "start_time": "2022-12-14T07:36:10.801Z"
   },
   {
    "duration": 4,
    "start_time": "2022-12-14T07:36:10.880Z"
   },
   {
    "duration": 109,
    "start_time": "2022-12-14T07:36:10.886Z"
   },
   {
    "duration": 15,
    "start_time": "2022-12-14T07:36:10.997Z"
   },
   {
    "duration": 15,
    "start_time": "2022-12-14T07:36:11.014Z"
   },
   {
    "duration": 29,
    "start_time": "2022-12-14T07:36:11.031Z"
   },
   {
    "duration": 20,
    "start_time": "2022-12-14T07:36:11.062Z"
   },
   {
    "duration": 21,
    "start_time": "2022-12-14T07:36:11.084Z"
   },
   {
    "duration": 16,
    "start_time": "2022-12-14T07:36:11.107Z"
   },
   {
    "duration": 23,
    "start_time": "2022-12-14T07:36:11.125Z"
   },
   {
    "duration": 15,
    "start_time": "2022-12-14T07:36:11.150Z"
   },
   {
    "duration": 25,
    "start_time": "2022-12-14T07:36:11.167Z"
   },
   {
    "duration": 29,
    "start_time": "2022-12-14T07:36:11.194Z"
   },
   {
    "duration": 20,
    "start_time": "2022-12-14T07:36:11.225Z"
   },
   {
    "duration": 23,
    "start_time": "2022-12-14T07:36:11.247Z"
   },
   {
    "duration": 8,
    "start_time": "2022-12-14T07:36:11.272Z"
   },
   {
    "duration": 17,
    "start_time": "2022-12-14T07:36:11.282Z"
   },
   {
    "duration": 22,
    "start_time": "2022-12-14T07:36:11.300Z"
   },
   {
    "duration": 11,
    "start_time": "2022-12-14T07:36:11.323Z"
   },
   {
    "duration": 13,
    "start_time": "2022-12-14T07:36:11.335Z"
   },
   {
    "duration": 1958,
    "start_time": "2022-12-14T07:36:11.350Z"
   },
   {
    "duration": 4,
    "start_time": "2022-12-14T07:36:13.310Z"
   },
   {
    "duration": 8,
    "start_time": "2022-12-14T07:36:13.316Z"
   },
   {
    "duration": 9,
    "start_time": "2022-12-14T07:36:13.326Z"
   },
   {
    "duration": 2146,
    "start_time": "2022-12-14T07:36:13.336Z"
   },
   {
    "duration": 5,
    "start_time": "2022-12-14T07:36:15.483Z"
   },
   {
    "duration": 16,
    "start_time": "2022-12-14T07:36:15.489Z"
   },
   {
    "duration": 8,
    "start_time": "2022-12-14T07:36:15.507Z"
   },
   {
    "duration": 3080,
    "start_time": "2022-12-14T07:36:15.517Z"
   },
   {
    "duration": 5,
    "start_time": "2022-12-14T07:36:18.598Z"
   },
   {
    "duration": 14,
    "start_time": "2022-12-14T07:36:18.604Z"
   },
   {
    "duration": 10,
    "start_time": "2022-12-14T07:36:18.620Z"
   },
   {
    "duration": 6,
    "start_time": "2022-12-14T07:36:18.632Z"
   },
   {
    "duration": 5,
    "start_time": "2022-12-14T07:38:26.980Z"
   },
   {
    "duration": 4,
    "start_time": "2022-12-14T07:38:30.488Z"
   },
   {
    "duration": 4,
    "start_time": "2022-12-14T07:39:03.277Z"
   },
   {
    "duration": 4,
    "start_time": "2022-12-14T07:39:03.539Z"
   },
   {
    "duration": 4,
    "start_time": "2022-12-14T07:39:16.550Z"
   },
   {
    "duration": 4,
    "start_time": "2022-12-14T07:39:28.539Z"
   },
   {
    "duration": 4,
    "start_time": "2022-12-14T07:40:42.186Z"
   },
   {
    "duration": 2178,
    "start_time": "2022-12-14T07:40:43.321Z"
   },
   {
    "duration": 4,
    "start_time": "2022-12-14T07:41:08.775Z"
   },
   {
    "duration": 1826,
    "start_time": "2022-12-14T07:41:09.768Z"
   },
   {
    "duration": 4,
    "start_time": "2022-12-14T07:41:30.491Z"
   },
   {
    "duration": 9,
    "start_time": "2022-12-14T07:41:34.105Z"
   },
   {
    "duration": 6,
    "start_time": "2022-12-14T07:41:38.577Z"
   },
   {
    "duration": 1993,
    "start_time": "2022-12-14T07:41:39.521Z"
   },
   {
    "duration": 1352,
    "start_time": "2022-12-14T07:46:54.692Z"
   },
   {
    "duration": 3,
    "start_time": "2022-12-14T07:46:56.046Z"
   },
   {
    "duration": 389,
    "start_time": "2022-12-14T07:46:56.051Z"
   },
   {
    "duration": 15,
    "start_time": "2022-12-14T07:46:56.444Z"
   },
   {
    "duration": 26,
    "start_time": "2022-12-14T07:46:56.460Z"
   },
   {
    "duration": 39,
    "start_time": "2022-12-14T07:46:56.488Z"
   },
   {
    "duration": 544,
    "start_time": "2022-12-14T07:46:56.529Z"
   },
   {
    "duration": 10,
    "start_time": "2022-12-14T07:46:57.077Z"
   },
   {
    "duration": 16,
    "start_time": "2022-12-14T07:46:57.089Z"
   },
   {
    "duration": 35,
    "start_time": "2022-12-14T07:46:57.109Z"
   },
   {
    "duration": 530,
    "start_time": "2022-12-14T07:46:57.145Z"
   },
   {
    "duration": 9,
    "start_time": "2022-12-14T07:46:57.678Z"
   },
   {
    "duration": 17,
    "start_time": "2022-12-14T07:46:57.689Z"
   },
   {
    "duration": 34,
    "start_time": "2022-12-14T07:46:57.708Z"
   },
   {
    "duration": 683,
    "start_time": "2022-12-14T07:46:57.745Z"
   },
   {
    "duration": 22,
    "start_time": "2022-12-14T07:46:58.430Z"
   },
   {
    "duration": 43,
    "start_time": "2022-12-14T07:46:58.455Z"
   },
   {
    "duration": 17,
    "start_time": "2022-12-14T07:46:58.500Z"
   },
   {
    "duration": 34,
    "start_time": "2022-12-14T07:46:58.519Z"
   },
   {
    "duration": 35,
    "start_time": "2022-12-14T07:46:58.554Z"
   },
   {
    "duration": 12,
    "start_time": "2022-12-14T07:46:58.590Z"
   },
   {
    "duration": 7,
    "start_time": "2022-12-14T07:46:58.603Z"
   },
   {
    "duration": 12,
    "start_time": "2022-12-14T07:46:58.611Z"
   },
   {
    "duration": 43,
    "start_time": "2022-12-14T07:46:58.625Z"
   },
   {
    "duration": 33,
    "start_time": "2022-12-14T07:46:58.669Z"
   },
   {
    "duration": 32,
    "start_time": "2022-12-14T07:46:58.704Z"
   },
   {
    "duration": 5,
    "start_time": "2022-12-14T07:46:58.738Z"
   },
   {
    "duration": 4,
    "start_time": "2022-12-14T07:46:58.748Z"
   },
   {
    "duration": 42,
    "start_time": "2022-12-14T07:46:58.754Z"
   },
   {
    "duration": 4,
    "start_time": "2022-12-14T07:46:58.798Z"
   },
   {
    "duration": 14,
    "start_time": "2022-12-14T07:46:58.804Z"
   },
   {
    "duration": 7,
    "start_time": "2022-12-14T07:46:58.819Z"
   },
   {
    "duration": 8,
    "start_time": "2022-12-14T07:46:58.828Z"
   },
   {
    "duration": 21,
    "start_time": "2022-12-14T07:46:58.838Z"
   },
   {
    "duration": 4,
    "start_time": "2022-12-14T07:46:58.860Z"
   },
   {
    "duration": 3,
    "start_time": "2022-12-14T07:46:58.878Z"
   },
   {
    "duration": 7,
    "start_time": "2022-12-14T07:46:58.883Z"
   },
   {
    "duration": 6,
    "start_time": "2022-12-14T07:46:58.892Z"
   },
   {
    "duration": 17,
    "start_time": "2022-12-14T07:46:58.899Z"
   },
   {
    "duration": 4,
    "start_time": "2022-12-14T07:46:58.918Z"
   },
   {
    "duration": 6,
    "start_time": "2022-12-14T07:46:58.923Z"
   },
   {
    "duration": 21,
    "start_time": "2022-12-14T07:46:58.930Z"
   },
   {
    "duration": 15,
    "start_time": "2022-12-14T07:46:58.977Z"
   },
   {
    "duration": 14,
    "start_time": "2022-12-14T07:46:58.994Z"
   },
   {
    "duration": 9,
    "start_time": "2022-12-14T07:46:59.009Z"
   },
   {
    "duration": 10,
    "start_time": "2022-12-14T07:46:59.020Z"
   },
   {
    "duration": 11,
    "start_time": "2022-12-14T07:46:59.031Z"
   },
   {
    "duration": 5,
    "start_time": "2022-12-14T07:46:59.044Z"
   },
   {
    "duration": 14,
    "start_time": "2022-12-14T07:46:59.077Z"
   },
   {
    "duration": 84,
    "start_time": "2022-12-14T07:46:59.093Z"
   },
   {
    "duration": 5,
    "start_time": "2022-12-14T07:46:59.179Z"
   },
   {
    "duration": 95,
    "start_time": "2022-12-14T07:46:59.186Z"
   },
   {
    "duration": 19,
    "start_time": "2022-12-14T07:46:59.283Z"
   },
   {
    "duration": 176,
    "start_time": "2022-12-14T07:46:59.304Z"
   },
   {
    "duration": 7,
    "start_time": "2022-12-14T07:46:59.481Z"
   },
   {
    "duration": 7,
    "start_time": "2022-12-14T07:46:59.490Z"
   },
   {
    "duration": 14,
    "start_time": "2022-12-14T07:46:59.498Z"
   },
   {
    "duration": 166,
    "start_time": "2022-12-14T07:46:59.514Z"
   },
   {
    "duration": 6,
    "start_time": "2022-12-14T07:46:59.682Z"
   },
   {
    "duration": 8,
    "start_time": "2022-12-14T07:46:59.690Z"
   },
   {
    "duration": 3,
    "start_time": "2022-12-14T07:46:59.700Z"
   },
   {
    "duration": 9,
    "start_time": "2022-12-14T07:46:59.704Z"
   },
   {
    "duration": 5,
    "start_time": "2022-12-14T07:46:59.714Z"
   },
   {
    "duration": 5,
    "start_time": "2022-12-14T07:46:59.721Z"
   },
   {
    "duration": 9,
    "start_time": "2022-12-14T07:46:59.728Z"
   },
   {
    "duration": 8,
    "start_time": "2022-12-14T07:46:59.738Z"
   },
   {
    "duration": 33,
    "start_time": "2022-12-14T07:46:59.747Z"
   },
   {
    "duration": 5,
    "start_time": "2022-12-14T07:46:59.782Z"
   },
   {
    "duration": 12,
    "start_time": "2022-12-14T07:46:59.788Z"
   },
   {
    "duration": 4,
    "start_time": "2022-12-14T07:46:59.801Z"
   },
   {
    "duration": 13,
    "start_time": "2022-12-14T07:46:59.807Z"
   },
   {
    "duration": 4,
    "start_time": "2022-12-14T07:46:59.821Z"
   },
   {
    "duration": 9,
    "start_time": "2022-12-14T07:46:59.827Z"
   },
   {
    "duration": 4,
    "start_time": "2022-12-14T07:46:59.838Z"
   },
   {
    "duration": 34,
    "start_time": "2022-12-14T07:46:59.843Z"
   },
   {
    "duration": 4,
    "start_time": "2022-12-14T07:46:59.880Z"
   },
   {
    "duration": 1592,
    "start_time": "2022-12-14T07:46:59.886Z"
   },
   {
    "duration": 5,
    "start_time": "2022-12-14T07:47:01.480Z"
   },
   {
    "duration": 39,
    "start_time": "2022-12-14T07:47:01.487Z"
   },
   {
    "duration": 20,
    "start_time": "2022-12-14T07:47:01.528Z"
   },
   {
    "duration": 13,
    "start_time": "2022-12-14T07:47:01.550Z"
   },
   {
    "duration": 2439,
    "start_time": "2022-12-14T07:47:01.568Z"
   },
   {
    "duration": 4,
    "start_time": "2022-12-14T07:47:04.009Z"
   },
   {
    "duration": 11,
    "start_time": "2022-12-14T07:47:04.015Z"
   },
   {
    "duration": 5,
    "start_time": "2022-12-14T07:47:04.077Z"
   },
   {
    "duration": 27,
    "start_time": "2022-12-14T07:47:04.084Z"
   },
   {
    "duration": 1557,
    "start_time": "2022-12-14T07:47:04.113Z"
   },
   {
    "duration": 5,
    "start_time": "2022-12-14T07:47:05.672Z"
   },
   {
    "duration": 5,
    "start_time": "2022-12-14T07:47:05.679Z"
   },
   {
    "duration": 6,
    "start_time": "2022-12-14T07:47:05.685Z"
   },
   {
    "duration": 6,
    "start_time": "2022-12-14T07:47:05.693Z"
   },
   {
    "duration": 4,
    "start_time": "2022-12-14T07:53:05.730Z"
   },
   {
    "duration": 3,
    "start_time": "2022-12-14T07:53:22.375Z"
   },
   {
    "duration": 1282,
    "start_time": "2022-12-14T07:53:26.493Z"
   },
   {
    "duration": 3,
    "start_time": "2022-12-14T07:53:27.777Z"
   },
   {
    "duration": 381,
    "start_time": "2022-12-14T07:53:27.782Z"
   },
   {
    "duration": 18,
    "start_time": "2022-12-14T07:53:28.166Z"
   },
   {
    "duration": 74,
    "start_time": "2022-12-14T07:53:28.186Z"
   },
   {
    "duration": 48,
    "start_time": "2022-12-14T07:53:28.262Z"
   },
   {
    "duration": 585,
    "start_time": "2022-12-14T07:53:28.312Z"
   },
   {
    "duration": 10,
    "start_time": "2022-12-14T07:53:28.899Z"
   },
   {
    "duration": 16,
    "start_time": "2022-12-14T07:53:28.911Z"
   },
   {
    "duration": 55,
    "start_time": "2022-12-14T07:53:28.930Z"
   },
   {
    "duration": 514,
    "start_time": "2022-12-14T07:53:28.986Z"
   },
   {
    "duration": 10,
    "start_time": "2022-12-14T07:53:29.502Z"
   },
   {
    "duration": 26,
    "start_time": "2022-12-14T07:53:29.514Z"
   },
   {
    "duration": 47,
    "start_time": "2022-12-14T07:53:29.542Z"
   },
   {
    "duration": 628,
    "start_time": "2022-12-14T07:53:29.591Z"
   },
   {
    "duration": 19,
    "start_time": "2022-12-14T07:53:30.221Z"
   },
   {
    "duration": 38,
    "start_time": "2022-12-14T07:53:30.241Z"
   },
   {
    "duration": 69,
    "start_time": "2022-12-14T07:53:30.281Z"
   },
   {
    "duration": 47,
    "start_time": "2022-12-14T07:53:30.352Z"
   },
   {
    "duration": 51,
    "start_time": "2022-12-14T07:53:30.401Z"
   },
   {
    "duration": 58,
    "start_time": "2022-12-14T07:53:30.454Z"
   },
   {
    "duration": 44,
    "start_time": "2022-12-14T07:53:30.514Z"
   },
   {
    "duration": 36,
    "start_time": "2022-12-14T07:53:30.561Z"
   },
   {
    "duration": 73,
    "start_time": "2022-12-14T07:53:30.599Z"
   },
   {
    "duration": 25,
    "start_time": "2022-12-14T07:53:30.674Z"
   },
   {
    "duration": 49,
    "start_time": "2022-12-14T07:53:30.701Z"
   },
   {
    "duration": 20,
    "start_time": "2022-12-14T07:53:30.752Z"
   },
   {
    "duration": 27,
    "start_time": "2022-12-14T07:53:30.776Z"
   },
   {
    "duration": 40,
    "start_time": "2022-12-14T07:53:30.805Z"
   },
   {
    "duration": 23,
    "start_time": "2022-12-14T07:53:30.847Z"
   },
   {
    "duration": 34,
    "start_time": "2022-12-14T07:53:30.871Z"
   },
   {
    "duration": 44,
    "start_time": "2022-12-14T07:53:30.906Z"
   },
   {
    "duration": 38,
    "start_time": "2022-12-14T07:53:30.952Z"
   },
   {
    "duration": 47,
    "start_time": "2022-12-14T07:53:30.992Z"
   },
   {
    "duration": 69,
    "start_time": "2022-12-14T07:53:31.041Z"
   },
   {
    "duration": 24,
    "start_time": "2022-12-14T07:53:31.112Z"
   },
   {
    "duration": 32,
    "start_time": "2022-12-14T07:53:31.138Z"
   },
   {
    "duration": 23,
    "start_time": "2022-12-14T07:53:31.172Z"
   },
   {
    "duration": 58,
    "start_time": "2022-12-14T07:53:31.197Z"
   },
   {
    "duration": 52,
    "start_time": "2022-12-14T07:53:31.257Z"
   },
   {
    "duration": 25,
    "start_time": "2022-12-14T07:53:31.310Z"
   },
   {
    "duration": 38,
    "start_time": "2022-12-14T07:53:31.337Z"
   },
   {
    "duration": 19,
    "start_time": "2022-12-14T07:53:31.378Z"
   },
   {
    "duration": 47,
    "start_time": "2022-12-14T07:53:31.399Z"
   },
   {
    "duration": 13,
    "start_time": "2022-12-14T07:53:31.449Z"
   },
   {
    "duration": 28,
    "start_time": "2022-12-14T07:53:31.464Z"
   },
   {
    "duration": 28,
    "start_time": "2022-12-14T07:53:31.494Z"
   },
   {
    "duration": 25,
    "start_time": "2022-12-14T07:53:31.524Z"
   },
   {
    "duration": 66,
    "start_time": "2022-12-14T07:53:31.551Z"
   },
   {
    "duration": 159,
    "start_time": "2022-12-14T07:53:31.621Z"
   },
   {
    "duration": 17,
    "start_time": "2022-12-14T07:53:31.782Z"
   },
   {
    "duration": 17,
    "start_time": "2022-12-14T07:53:31.801Z"
   },
   {
    "duration": 16,
    "start_time": "2022-12-14T07:53:31.820Z"
   },
   {
    "duration": 142,
    "start_time": "2022-12-14T07:53:31.838Z"
   },
   {
    "duration": 7,
    "start_time": "2022-12-14T07:53:31.982Z"
   },
   {
    "duration": 7,
    "start_time": "2022-12-14T07:53:31.991Z"
   },
   {
    "duration": 26,
    "start_time": "2022-12-14T07:53:32.000Z"
   },
   {
    "duration": 10,
    "start_time": "2022-12-14T07:53:32.077Z"
   },
   {
    "duration": 10,
    "start_time": "2022-12-14T07:53:32.178Z"
   },
   {
    "duration": 10,
    "start_time": "2022-12-14T07:53:32.189Z"
   },
   {
    "duration": 5,
    "start_time": "2022-12-14T07:53:32.200Z"
   },
   {
    "duration": 8,
    "start_time": "2022-12-14T07:53:32.207Z"
   },
   {
    "duration": 7,
    "start_time": "2022-12-14T07:53:32.217Z"
   },
   {
    "duration": 7,
    "start_time": "2022-12-14T07:53:32.226Z"
   },
   {
    "duration": 6,
    "start_time": "2022-12-14T07:53:32.234Z"
   },
   {
    "duration": 6,
    "start_time": "2022-12-14T07:53:32.242Z"
   },
   {
    "duration": 6,
    "start_time": "2022-12-14T07:53:32.277Z"
   },
   {
    "duration": 5,
    "start_time": "2022-12-14T07:53:32.285Z"
   },
   {
    "duration": 12,
    "start_time": "2022-12-14T07:53:32.292Z"
   },
   {
    "duration": 4,
    "start_time": "2022-12-14T07:53:32.306Z"
   },
   {
    "duration": 10,
    "start_time": "2022-12-14T07:53:32.312Z"
   },
   {
    "duration": 4,
    "start_time": "2022-12-14T07:53:32.324Z"
   },
   {
    "duration": 48,
    "start_time": "2022-12-14T07:53:32.330Z"
   },
   {
    "duration": 5,
    "start_time": "2022-12-14T07:53:32.380Z"
   },
   {
    "duration": 5,
    "start_time": "2022-12-14T07:53:32.387Z"
   },
   {
    "duration": 7,
    "start_time": "2022-12-14T07:53:32.393Z"
   },
   {
    "duration": 12,
    "start_time": "2022-12-14T07:53:32.401Z"
   },
   {
    "duration": 1595,
    "start_time": "2022-12-14T07:53:32.415Z"
   },
   {
    "duration": 4,
    "start_time": "2022-12-14T07:53:34.013Z"
   },
   {
    "duration": 7,
    "start_time": "2022-12-14T07:53:34.019Z"
   },
   {
    "duration": 7,
    "start_time": "2022-12-14T07:53:34.028Z"
   },
   {
    "duration": 4,
    "start_time": "2022-12-14T07:53:34.041Z"
   },
   {
    "duration": 1630,
    "start_time": "2022-12-14T07:53:34.047Z"
   },
   {
    "duration": 4,
    "start_time": "2022-12-14T07:53:35.679Z"
   },
   {
    "duration": 8,
    "start_time": "2022-12-14T07:53:35.685Z"
   },
   {
    "duration": 6,
    "start_time": "2022-12-14T07:53:35.695Z"
   },
   {
    "duration": 6,
    "start_time": "2022-12-14T07:53:35.703Z"
   },
   {
    "duration": 1621,
    "start_time": "2022-12-14T07:53:35.710Z"
   },
   {
    "duration": 4,
    "start_time": "2022-12-14T07:53:37.333Z"
   },
   {
    "duration": 9,
    "start_time": "2022-12-14T07:53:37.339Z"
   },
   {
    "duration": 7,
    "start_time": "2022-12-14T07:53:37.350Z"
   },
   {
    "duration": 19,
    "start_time": "2022-12-14T07:53:37.359Z"
   },
   {
    "duration": 3,
    "start_time": "2022-12-14T07:57:55.272Z"
   },
   {
    "duration": 2111,
    "start_time": "2022-12-14T07:58:00.094Z"
   },
   {
    "duration": 5,
    "start_time": "2022-12-14T07:58:09.903Z"
   },
   {
    "duration": 1389,
    "start_time": "2022-12-14T07:58:31.642Z"
   },
   {
    "duration": 4,
    "start_time": "2022-12-14T07:58:33.033Z"
   },
   {
    "duration": 389,
    "start_time": "2022-12-14T07:58:33.038Z"
   },
   {
    "duration": 17,
    "start_time": "2022-12-14T07:58:33.430Z"
   },
   {
    "duration": 29,
    "start_time": "2022-12-14T07:58:33.449Z"
   },
   {
    "duration": 41,
    "start_time": "2022-12-14T07:58:33.479Z"
   },
   {
    "duration": 595,
    "start_time": "2022-12-14T07:58:33.521Z"
   },
   {
    "duration": 10,
    "start_time": "2022-12-14T07:58:34.118Z"
   },
   {
    "duration": 17,
    "start_time": "2022-12-14T07:58:34.129Z"
   },
   {
    "duration": 56,
    "start_time": "2022-12-14T07:58:34.149Z"
   },
   {
    "duration": 521,
    "start_time": "2022-12-14T07:58:34.206Z"
   },
   {
    "duration": 10,
    "start_time": "2022-12-14T07:58:34.729Z"
   },
   {
    "duration": 17,
    "start_time": "2022-12-14T07:58:34.741Z"
   },
   {
    "duration": 53,
    "start_time": "2022-12-14T07:58:34.760Z"
   },
   {
    "duration": 651,
    "start_time": "2022-12-14T07:58:34.814Z"
   },
   {
    "duration": 26,
    "start_time": "2022-12-14T07:58:35.468Z"
   },
   {
    "duration": 20,
    "start_time": "2022-12-14T07:58:35.496Z"
   },
   {
    "duration": 18,
    "start_time": "2022-12-14T07:58:35.517Z"
   },
   {
    "duration": 60,
    "start_time": "2022-12-14T07:58:35.537Z"
   },
   {
    "duration": 25,
    "start_time": "2022-12-14T07:58:35.599Z"
   },
   {
    "duration": 8,
    "start_time": "2022-12-14T07:58:35.626Z"
   },
   {
    "duration": 5,
    "start_time": "2022-12-14T07:58:35.635Z"
   },
   {
    "duration": 7,
    "start_time": "2022-12-14T07:58:35.642Z"
   },
   {
    "duration": 53,
    "start_time": "2022-12-14T07:58:35.650Z"
   },
   {
    "duration": 26,
    "start_time": "2022-12-14T07:58:35.705Z"
   },
   {
    "duration": 46,
    "start_time": "2022-12-14T07:58:35.733Z"
   },
   {
    "duration": 5,
    "start_time": "2022-12-14T07:58:35.780Z"
   },
   {
    "duration": 4,
    "start_time": "2022-12-14T07:58:35.789Z"
   },
   {
    "duration": 16,
    "start_time": "2022-12-14T07:58:35.795Z"
   },
   {
    "duration": 4,
    "start_time": "2022-12-14T07:58:35.814Z"
   },
   {
    "duration": 10,
    "start_time": "2022-12-14T07:58:35.820Z"
   },
   {
    "duration": 10,
    "start_time": "2022-12-14T07:58:35.832Z"
   },
   {
    "duration": 32,
    "start_time": "2022-12-14T07:58:35.845Z"
   },
   {
    "duration": 16,
    "start_time": "2022-12-14T07:58:35.880Z"
   },
   {
    "duration": 4,
    "start_time": "2022-12-14T07:58:35.899Z"
   },
   {
    "duration": 17,
    "start_time": "2022-12-14T07:58:35.905Z"
   },
   {
    "duration": 12,
    "start_time": "2022-12-14T07:58:35.924Z"
   },
   {
    "duration": 8,
    "start_time": "2022-12-14T07:58:35.938Z"
   },
   {
    "duration": 29,
    "start_time": "2022-12-14T07:58:35.948Z"
   },
   {
    "duration": 4,
    "start_time": "2022-12-14T07:58:35.979Z"
   },
   {
    "duration": 9,
    "start_time": "2022-12-14T07:58:35.985Z"
   },
   {
    "duration": 20,
    "start_time": "2022-12-14T07:58:35.995Z"
   },
   {
    "duration": 15,
    "start_time": "2022-12-14T07:58:36.016Z"
   },
   {
    "duration": 14,
    "start_time": "2022-12-14T07:58:36.033Z"
   },
   {
    "duration": 31,
    "start_time": "2022-12-14T07:58:36.048Z"
   },
   {
    "duration": 13,
    "start_time": "2022-12-14T07:58:36.081Z"
   },
   {
    "duration": 11,
    "start_time": "2022-12-14T07:58:36.096Z"
   },
   {
    "duration": 5,
    "start_time": "2022-12-14T07:58:36.108Z"
   },
   {
    "duration": 65,
    "start_time": "2022-12-14T07:58:36.115Z"
   },
   {
    "duration": 94,
    "start_time": "2022-12-14T07:58:36.185Z"
   },
   {
    "duration": 13,
    "start_time": "2022-12-14T07:58:36.281Z"
   },
   {
    "duration": 17,
    "start_time": "2022-12-14T07:58:36.296Z"
   },
   {
    "duration": 17,
    "start_time": "2022-12-14T07:58:36.315Z"
   },
   {
    "duration": 4,
    "start_time": "2022-12-14T07:58:36.380Z"
   },
   {
    "duration": 94,
    "start_time": "2022-12-14T07:58:36.387Z"
   },
   {
    "duration": 18,
    "start_time": "2022-12-14T07:58:36.482Z"
   },
   {
    "duration": 23,
    "start_time": "2022-12-14T07:58:36.502Z"
   },
   {
    "duration": 59,
    "start_time": "2022-12-14T07:58:36.527Z"
   },
   {
    "duration": 102,
    "start_time": "2022-12-14T07:58:36.587Z"
   },
   {
    "duration": 10,
    "start_time": "2022-12-14T07:58:36.690Z"
   },
   {
    "duration": 5,
    "start_time": "2022-12-14T07:58:36.701Z"
   },
   {
    "duration": 5,
    "start_time": "2022-12-14T07:58:36.712Z"
   },
   {
    "duration": 11,
    "start_time": "2022-12-14T07:58:36.718Z"
   },
   {
    "duration": 6,
    "start_time": "2022-12-14T07:58:36.731Z"
   },
   {
    "duration": 7,
    "start_time": "2022-12-14T07:58:36.739Z"
   },
   {
    "duration": 7,
    "start_time": "2022-12-14T07:58:36.748Z"
   },
   {
    "duration": 22,
    "start_time": "2022-12-14T07:58:36.757Z"
   },
   {
    "duration": 3,
    "start_time": "2022-12-14T07:58:36.781Z"
   },
   {
    "duration": 14,
    "start_time": "2022-12-14T07:58:36.786Z"
   },
   {
    "duration": 4,
    "start_time": "2022-12-14T07:58:36.801Z"
   },
   {
    "duration": 10,
    "start_time": "2022-12-14T07:58:36.806Z"
   },
   {
    "duration": 3,
    "start_time": "2022-12-14T07:58:36.818Z"
   },
   {
    "duration": 10,
    "start_time": "2022-12-14T07:58:36.822Z"
   },
   {
    "duration": 4,
    "start_time": "2022-12-14T07:58:36.834Z"
   },
   {
    "duration": 39,
    "start_time": "2022-12-14T07:58:36.839Z"
   },
   {
    "duration": 17,
    "start_time": "2022-12-14T07:58:36.880Z"
   },
   {
    "duration": 1623,
    "start_time": "2022-12-14T07:58:36.899Z"
   },
   {
    "duration": 4,
    "start_time": "2022-12-14T07:58:38.524Z"
   },
   {
    "duration": 6,
    "start_time": "2022-12-14T07:58:38.530Z"
   },
   {
    "duration": 6,
    "start_time": "2022-12-14T07:58:38.538Z"
   },
   {
    "duration": 6,
    "start_time": "2022-12-14T07:58:38.546Z"
   },
   {
    "duration": 1551,
    "start_time": "2022-12-14T07:58:38.581Z"
   },
   {
    "duration": 4,
    "start_time": "2022-12-14T07:58:40.134Z"
   },
   {
    "duration": 25,
    "start_time": "2022-12-14T07:58:40.140Z"
   },
   {
    "duration": 17,
    "start_time": "2022-12-14T07:58:40.167Z"
   },
   {
    "duration": 7,
    "start_time": "2022-12-14T07:58:40.186Z"
   },
   {
    "duration": 1583,
    "start_time": "2022-12-14T07:58:40.194Z"
   },
   {
    "duration": 4,
    "start_time": "2022-12-14T07:58:41.779Z"
   },
   {
    "duration": 8,
    "start_time": "2022-12-14T07:58:41.785Z"
   },
   {
    "duration": 6,
    "start_time": "2022-12-14T07:58:41.795Z"
   },
   {
    "duration": 8,
    "start_time": "2022-12-14T07:58:41.802Z"
   },
   {
    "duration": 1580,
    "start_time": "2022-12-14T08:00:53.763Z"
   },
   {
    "duration": 4,
    "start_time": "2022-12-14T08:00:55.345Z"
   },
   {
    "duration": 420,
    "start_time": "2022-12-14T08:00:55.350Z"
   },
   {
    "duration": 16,
    "start_time": "2022-12-14T08:00:55.772Z"
   },
   {
    "duration": 16,
    "start_time": "2022-12-14T08:00:55.793Z"
   },
   {
    "duration": 73,
    "start_time": "2022-12-14T08:00:55.812Z"
   },
   {
    "duration": 609,
    "start_time": "2022-12-14T08:00:55.887Z"
   },
   {
    "duration": 10,
    "start_time": "2022-12-14T08:00:56.498Z"
   },
   {
    "duration": 34,
    "start_time": "2022-12-14T08:00:56.510Z"
   },
   {
    "duration": 76,
    "start_time": "2022-12-14T08:00:56.547Z"
   },
   {
    "duration": 546,
    "start_time": "2022-12-14T08:00:56.624Z"
   },
   {
    "duration": 13,
    "start_time": "2022-12-14T08:00:57.171Z"
   },
   {
    "duration": 21,
    "start_time": "2022-12-14T08:00:57.186Z"
   },
   {
    "duration": 40,
    "start_time": "2022-12-14T08:00:57.210Z"
   },
   {
    "duration": 696,
    "start_time": "2022-12-14T08:00:57.252Z"
   },
   {
    "duration": 47,
    "start_time": "2022-12-14T08:00:57.950Z"
   },
   {
    "duration": 81,
    "start_time": "2022-12-14T08:00:57.999Z"
   },
   {
    "duration": 21,
    "start_time": "2022-12-14T08:00:58.082Z"
   },
   {
    "duration": 106,
    "start_time": "2022-12-14T08:00:58.106Z"
   },
   {
    "duration": 75,
    "start_time": "2022-12-14T08:00:58.215Z"
   },
   {
    "duration": 30,
    "start_time": "2022-12-14T08:00:58.293Z"
   },
   {
    "duration": 55,
    "start_time": "2022-12-14T08:00:58.325Z"
   },
   {
    "duration": 30,
    "start_time": "2022-12-14T08:00:58.383Z"
   },
   {
    "duration": 101,
    "start_time": "2022-12-14T08:00:58.415Z"
   },
   {
    "duration": 74,
    "start_time": "2022-12-14T08:00:58.518Z"
   },
   {
    "duration": 86,
    "start_time": "2022-12-14T08:00:58.593Z"
   },
   {
    "duration": 5,
    "start_time": "2022-12-14T08:00:58.681Z"
   },
   {
    "duration": 32,
    "start_time": "2022-12-14T08:00:58.687Z"
   },
   {
    "duration": 57,
    "start_time": "2022-12-14T08:00:58.721Z"
   },
   {
    "duration": 4,
    "start_time": "2022-12-14T08:00:58.780Z"
   },
   {
    "duration": 16,
    "start_time": "2022-12-14T08:00:58.786Z"
   },
   {
    "duration": 16,
    "start_time": "2022-12-14T08:00:58.804Z"
   },
   {
    "duration": 58,
    "start_time": "2022-12-14T08:00:58.821Z"
   },
   {
    "duration": 28,
    "start_time": "2022-12-14T08:00:58.881Z"
   },
   {
    "duration": 14,
    "start_time": "2022-12-14T08:00:58.911Z"
   },
   {
    "duration": 52,
    "start_time": "2022-12-14T08:00:58.927Z"
   },
   {
    "duration": 16,
    "start_time": "2022-12-14T08:00:58.981Z"
   },
   {
    "duration": 35,
    "start_time": "2022-12-14T08:00:58.999Z"
   },
   {
    "duration": 49,
    "start_time": "2022-12-14T08:00:59.036Z"
   },
   {
    "duration": 21,
    "start_time": "2022-12-14T08:00:59.087Z"
   },
   {
    "duration": 26,
    "start_time": "2022-12-14T08:00:59.113Z"
   },
   {
    "duration": 52,
    "start_time": "2022-12-14T08:00:59.142Z"
   },
   {
    "duration": 37,
    "start_time": "2022-12-14T08:00:59.196Z"
   },
   {
    "duration": 17,
    "start_time": "2022-12-14T08:00:59.277Z"
   },
   {
    "duration": 18,
    "start_time": "2022-12-14T08:00:59.296Z"
   },
   {
    "duration": 67,
    "start_time": "2022-12-14T08:00:59.316Z"
   },
   {
    "duration": 24,
    "start_time": "2022-12-14T08:00:59.384Z"
   },
   {
    "duration": 31,
    "start_time": "2022-12-14T08:00:59.410Z"
   },
   {
    "duration": 47,
    "start_time": "2022-12-14T08:00:59.443Z"
   },
   {
    "duration": 89,
    "start_time": "2022-12-14T08:00:59.492Z"
   },
   {
    "duration": 98,
    "start_time": "2022-12-14T08:00:59.583Z"
   },
   {
    "duration": 27,
    "start_time": "2022-12-14T08:00:59.683Z"
   },
   {
    "duration": 69,
    "start_time": "2022-12-14T08:00:59.712Z"
   },
   {
    "duration": 101,
    "start_time": "2022-12-14T08:00:59.783Z"
   },
   {
    "duration": 26,
    "start_time": "2022-12-14T08:00:59.886Z"
   },
   {
    "duration": 65,
    "start_time": "2022-12-14T08:00:59.914Z"
   },
   {
    "duration": 197,
    "start_time": "2022-12-14T08:00:59.982Z"
   },
   {
    "duration": 5,
    "start_time": "2022-12-14T08:01:00.181Z"
   },
   {
    "duration": 32,
    "start_time": "2022-12-14T08:01:00.188Z"
   },
   {
    "duration": 57,
    "start_time": "2022-12-14T08:01:00.222Z"
   },
   {
    "duration": 4,
    "start_time": "2022-12-14T08:01:00.281Z"
   },
   {
    "duration": 31,
    "start_time": "2022-12-14T08:01:00.287Z"
   },
   {
    "duration": 33,
    "start_time": "2022-12-14T08:01:00.320Z"
   },
   {
    "duration": 31,
    "start_time": "2022-12-14T08:01:00.355Z"
   },
   {
    "duration": 27,
    "start_time": "2022-12-14T08:01:00.388Z"
   },
   {
    "duration": 16,
    "start_time": "2022-12-14T08:01:00.417Z"
   },
   {
    "duration": 18,
    "start_time": "2022-12-14T08:01:00.435Z"
   },
   {
    "duration": 17,
    "start_time": "2022-12-14T08:01:00.455Z"
   },
   {
    "duration": 35,
    "start_time": "2022-12-14T08:01:00.473Z"
   },
   {
    "duration": 27,
    "start_time": "2022-12-14T08:01:00.510Z"
   },
   {
    "duration": 72,
    "start_time": "2022-12-14T08:01:00.539Z"
   },
   {
    "duration": 173,
    "start_time": "2022-12-14T08:01:00.613Z"
   },
   {
    "duration": 25,
    "start_time": "2022-12-14T08:01:00.788Z"
   },
   {
    "duration": 11,
    "start_time": "2022-12-14T08:01:00.815Z"
   },
   {
    "duration": 30,
    "start_time": "2022-12-14T08:01:00.829Z"
   },
   {
    "duration": 15,
    "start_time": "2022-12-14T08:01:00.862Z"
   },
   {
    "duration": 1634,
    "start_time": "2022-12-14T08:01:00.879Z"
   },
   {
    "duration": 5,
    "start_time": "2022-12-14T08:01:02.515Z"
   },
   {
    "duration": 12,
    "start_time": "2022-12-14T08:01:02.522Z"
   },
   {
    "duration": 7,
    "start_time": "2022-12-14T08:01:02.536Z"
   },
   {
    "duration": 6,
    "start_time": "2022-12-14T08:01:02.545Z"
   },
   {
    "duration": 1559,
    "start_time": "2022-12-14T08:01:02.553Z"
   },
   {
    "duration": 5,
    "start_time": "2022-12-14T08:01:04.114Z"
   },
   {
    "duration": 57,
    "start_time": "2022-12-14T08:01:04.121Z"
   },
   {
    "duration": 10,
    "start_time": "2022-12-14T08:01:04.179Z"
   },
   {
    "duration": 10,
    "start_time": "2022-12-14T08:01:04.191Z"
   },
   {
    "duration": 1559,
    "start_time": "2022-12-14T08:01:04.203Z"
   },
   {
    "duration": 5,
    "start_time": "2022-12-14T08:01:05.764Z"
   },
   {
    "duration": 12,
    "start_time": "2022-12-14T08:01:05.771Z"
   },
   {
    "duration": 9,
    "start_time": "2022-12-14T08:01:05.784Z"
   },
   {
    "duration": 10,
    "start_time": "2022-12-14T08:01:05.795Z"
   }
  ],
  "kernelspec": {
   "display_name": "Python 3 (ipykernel)",
   "language": "python",
   "name": "python3"
  },
  "language_info": {
   "codemirror_mode": {
    "name": "ipython",
    "version": 3
   },
   "file_extension": ".py",
   "mimetype": "text/x-python",
   "name": "python",
   "nbconvert_exporter": "python",
   "pygments_lexer": "ipython3",
   "version": "3.9.12"
  },
  "toc": {
   "base_numbering": 1,
   "nav_menu": {},
   "number_sections": true,
   "sideBar": true,
   "skip_h1_title": true,
   "title_cell": "Table of Contents",
   "title_sidebar": "Contents",
   "toc_cell": false,
   "toc_position": {
    "height": "calc(100% - 180px)",
    "left": "10px",
    "top": "150px",
    "width": "318.1875px"
   },
   "toc_section_display": true,
   "toc_window_display": false
  }
 },
 "nbformat": 4,
 "nbformat_minor": 2
}
