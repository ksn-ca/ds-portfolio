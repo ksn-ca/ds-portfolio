{
 "cells": [
  {
   "cell_type": "markdown",
   "metadata": {},
   "source": [
    "# Customer churn"
   ]
  },
  {
   "cell_type": "markdown",
   "metadata": {},
   "source": [
    "Customers began to leave Beta-Bank. Every month. A little, but noticeable. Banking marketers figured it was cheaper to keep current customers than to attract new ones.\n",
    "\n",
    "It is necessary to predict whether the client will leave the bank in the near future or not. You are provided with historical data on customer behavior and termination of agreements with the bank.\n",
    "\n",
    "Build a model with an extremely large *F1*-measure. To pass the project successfully, you need to bring the metric to 0.59. Check the *F1*-measure on the test set yourself.\n",
    "\n",
    "Additionally measure *AUC-ROC*, compare its value with *F1*-measure."
   ]
  },
  {
   "cell_type": "markdown",
   "metadata": {},
   "source": [
    "## Data preparation"
   ]
  },
  {
   "cell_type": "markdown",
   "metadata": {},
   "source": [
    "Let's look at the data"
   ]
  },
  {
   "cell_type": "code",
   "execution_count": 1,
   "metadata": {},
   "outputs": [],
   "source": [
    "import pandas as pd\n",
    "import matplotlib.pyplot as plt\n",
    "import numpy as np\n",
    "\n",
    "# sklean\n",
    "from sklearn.impute import KNNImputer\n",
    "from sklearn.preprocessing import OrdinalEncoder \n",
    "from sklearn.model_selection import train_test_split\n",
    "from sklearn.preprocessing import StandardScaler \n",
    "from sklearn.metrics import roc_curve, f1_score, accuracy_score, roc_auc_score\n",
    "from sklearn.utils import shuffle\n",
    "\n",
    "# learning models\n",
    "from sklearn.ensemble import RandomForestClassifier\n",
    "from sklearn.linear_model import LogisticRegression\n",
    "from sklearn.tree import DecisionTreeClassifier"
   ]
  },
  {
   "cell_type": "code",
   "execution_count": 2,
   "metadata": {},
   "outputs": [],
   "source": [
    "# constants\n",
    "RANDOM_STATE=654321"
   ]
  },
  {
   "cell_type": "markdown",
   "metadata": {},
   "source": [
    "### First look"
   ]
  },
  {
   "cell_type": "code",
   "execution_count": 3,
   "metadata": {},
   "outputs": [],
   "source": [
    "data = pd.read_csv('datasets/Churn.csv')"
   ]
  },
  {
   "cell_type": "code",
   "execution_count": 4,
   "metadata": {},
   "outputs": [
    {
     "data": {
      "text/html": [
       "<div>\n",
       "<style scoped>\n",
       "    .dataframe tbody tr th:only-of-type {\n",
       "        vertical-align: middle;\n",
       "    }\n",
       "\n",
       "    .dataframe tbody tr th {\n",
       "        vertical-align: top;\n",
       "    }\n",
       "\n",
       "    .dataframe thead th {\n",
       "        text-align: right;\n",
       "    }\n",
       "</style>\n",
       "<table border=\"1\" class=\"dataframe\">\n",
       "  <thead>\n",
       "    <tr style=\"text-align: right;\">\n",
       "      <th></th>\n",
       "      <th>RowNumber</th>\n",
       "      <th>CustomerId</th>\n",
       "      <th>Surname</th>\n",
       "      <th>CreditScore</th>\n",
       "      <th>Geography</th>\n",
       "      <th>Gender</th>\n",
       "      <th>Age</th>\n",
       "      <th>Tenure</th>\n",
       "      <th>Balance</th>\n",
       "      <th>NumOfProducts</th>\n",
       "      <th>HasCrCard</th>\n",
       "      <th>IsActiveMember</th>\n",
       "      <th>EstimatedSalary</th>\n",
       "      <th>Exited</th>\n",
       "    </tr>\n",
       "  </thead>\n",
       "  <tbody>\n",
       "    <tr>\n",
       "      <th>0</th>\n",
       "      <td>1</td>\n",
       "      <td>15634602</td>\n",
       "      <td>Hargrave</td>\n",
       "      <td>619</td>\n",
       "      <td>France</td>\n",
       "      <td>Female</td>\n",
       "      <td>42</td>\n",
       "      <td>2.0</td>\n",
       "      <td>0.00</td>\n",
       "      <td>1</td>\n",
       "      <td>1</td>\n",
       "      <td>1</td>\n",
       "      <td>101348.88</td>\n",
       "      <td>1</td>\n",
       "    </tr>\n",
       "    <tr>\n",
       "      <th>1</th>\n",
       "      <td>2</td>\n",
       "      <td>15647311</td>\n",
       "      <td>Hill</td>\n",
       "      <td>608</td>\n",
       "      <td>Spain</td>\n",
       "      <td>Female</td>\n",
       "      <td>41</td>\n",
       "      <td>1.0</td>\n",
       "      <td>83807.86</td>\n",
       "      <td>1</td>\n",
       "      <td>0</td>\n",
       "      <td>1</td>\n",
       "      <td>112542.58</td>\n",
       "      <td>0</td>\n",
       "    </tr>\n",
       "    <tr>\n",
       "      <th>2</th>\n",
       "      <td>3</td>\n",
       "      <td>15619304</td>\n",
       "      <td>Onio</td>\n",
       "      <td>502</td>\n",
       "      <td>France</td>\n",
       "      <td>Female</td>\n",
       "      <td>42</td>\n",
       "      <td>8.0</td>\n",
       "      <td>159660.80</td>\n",
       "      <td>3</td>\n",
       "      <td>1</td>\n",
       "      <td>0</td>\n",
       "      <td>113931.57</td>\n",
       "      <td>1</td>\n",
       "    </tr>\n",
       "    <tr>\n",
       "      <th>3</th>\n",
       "      <td>4</td>\n",
       "      <td>15701354</td>\n",
       "      <td>Boni</td>\n",
       "      <td>699</td>\n",
       "      <td>France</td>\n",
       "      <td>Female</td>\n",
       "      <td>39</td>\n",
       "      <td>1.0</td>\n",
       "      <td>0.00</td>\n",
       "      <td>2</td>\n",
       "      <td>0</td>\n",
       "      <td>0</td>\n",
       "      <td>93826.63</td>\n",
       "      <td>0</td>\n",
       "    </tr>\n",
       "    <tr>\n",
       "      <th>4</th>\n",
       "      <td>5</td>\n",
       "      <td>15737888</td>\n",
       "      <td>Mitchell</td>\n",
       "      <td>850</td>\n",
       "      <td>Spain</td>\n",
       "      <td>Female</td>\n",
       "      <td>43</td>\n",
       "      <td>2.0</td>\n",
       "      <td>125510.82</td>\n",
       "      <td>1</td>\n",
       "      <td>1</td>\n",
       "      <td>1</td>\n",
       "      <td>79084.10</td>\n",
       "      <td>0</td>\n",
       "    </tr>\n",
       "  </tbody>\n",
       "</table>\n",
       "</div>"
      ],
      "text/plain": [
       "   RowNumber  CustomerId   Surname  CreditScore Geography  Gender  Age  \\\n",
       "0          1    15634602  Hargrave          619    France  Female   42   \n",
       "1          2    15647311      Hill          608     Spain  Female   41   \n",
       "2          3    15619304      Onio          502    France  Female   42   \n",
       "3          4    15701354      Boni          699    France  Female   39   \n",
       "4          5    15737888  Mitchell          850     Spain  Female   43   \n",
       "\n",
       "   Tenure    Balance  NumOfProducts  HasCrCard  IsActiveMember  \\\n",
       "0     2.0       0.00              1          1               1   \n",
       "1     1.0   83807.86              1          0               1   \n",
       "2     8.0  159660.80              3          1               0   \n",
       "3     1.0       0.00              2          0               0   \n",
       "4     2.0  125510.82              1          1               1   \n",
       "\n",
       "   EstimatedSalary  Exited  \n",
       "0        101348.88       1  \n",
       "1        112542.58       0  \n",
       "2        113931.57       1  \n",
       "3         93826.63       0  \n",
       "4         79084.10       0  "
      ]
     },
     "execution_count": 4,
     "metadata": {},
     "output_type": "execute_result"
    }
   ],
   "source": [
    "data.head()"
   ]
  },
  {
   "cell_type": "code",
   "execution_count": 5,
   "metadata": {},
   "outputs": [
    {
     "name": "stdout",
     "output_type": "stream",
     "text": [
      "<class 'pandas.core.frame.DataFrame'>\n",
      "RangeIndex: 10000 entries, 0 to 9999\n",
      "Data columns (total 14 columns):\n",
      " #   Column           Non-Null Count  Dtype  \n",
      "---  ------           --------------  -----  \n",
      " 0   RowNumber        10000 non-null  int64  \n",
      " 1   CustomerId       10000 non-null  int64  \n",
      " 2   Surname          10000 non-null  object \n",
      " 3   CreditScore      10000 non-null  int64  \n",
      " 4   Geography        10000 non-null  object \n",
      " 5   Gender           10000 non-null  object \n",
      " 6   Age              10000 non-null  int64  \n",
      " 7   Tenure           9091 non-null   float64\n",
      " 8   Balance          10000 non-null  float64\n",
      " 9   NumOfProducts    10000 non-null  int64  \n",
      " 10  HasCrCard        10000 non-null  int64  \n",
      " 11  IsActiveMember   10000 non-null  int64  \n",
      " 12  EstimatedSalary  10000 non-null  float64\n",
      " 13  Exited           10000 non-null  int64  \n",
      "dtypes: float64(3), int64(8), object(3)\n",
      "memory usage: 1.1+ MB\n"
     ]
    }
   ],
   "source": [
    "data.info()"
   ]
  },
  {
   "cell_type": "code",
   "execution_count": 6,
   "metadata": {},
   "outputs": [
    {
     "data": {
      "text/html": [
       "<div>\n",
       "<style scoped>\n",
       "    .dataframe tbody tr th:only-of-type {\n",
       "        vertical-align: middle;\n",
       "    }\n",
       "\n",
       "    .dataframe tbody tr th {\n",
       "        vertical-align: top;\n",
       "    }\n",
       "\n",
       "    .dataframe thead th {\n",
       "        text-align: right;\n",
       "    }\n",
       "</style>\n",
       "<table border=\"1\" class=\"dataframe\">\n",
       "  <thead>\n",
       "    <tr style=\"text-align: right;\">\n",
       "      <th></th>\n",
       "      <th>RowNumber</th>\n",
       "      <th>CustomerId</th>\n",
       "      <th>CreditScore</th>\n",
       "      <th>Age</th>\n",
       "      <th>Tenure</th>\n",
       "      <th>Balance</th>\n",
       "      <th>NumOfProducts</th>\n",
       "      <th>HasCrCard</th>\n",
       "      <th>IsActiveMember</th>\n",
       "      <th>EstimatedSalary</th>\n",
       "      <th>Exited</th>\n",
       "    </tr>\n",
       "  </thead>\n",
       "  <tbody>\n",
       "    <tr>\n",
       "      <th>count</th>\n",
       "      <td>10000.00000</td>\n",
       "      <td>1.000000e+04</td>\n",
       "      <td>10000.000000</td>\n",
       "      <td>10000.000000</td>\n",
       "      <td>9091.000000</td>\n",
       "      <td>10000.000000</td>\n",
       "      <td>10000.000000</td>\n",
       "      <td>10000.00000</td>\n",
       "      <td>10000.000000</td>\n",
       "      <td>10000.000000</td>\n",
       "      <td>10000.000000</td>\n",
       "    </tr>\n",
       "    <tr>\n",
       "      <th>mean</th>\n",
       "      <td>5000.50000</td>\n",
       "      <td>1.569094e+07</td>\n",
       "      <td>650.528800</td>\n",
       "      <td>38.921800</td>\n",
       "      <td>4.997690</td>\n",
       "      <td>76485.889288</td>\n",
       "      <td>1.530200</td>\n",
       "      <td>0.70550</td>\n",
       "      <td>0.515100</td>\n",
       "      <td>100090.239881</td>\n",
       "      <td>0.203700</td>\n",
       "    </tr>\n",
       "    <tr>\n",
       "      <th>std</th>\n",
       "      <td>2886.89568</td>\n",
       "      <td>7.193619e+04</td>\n",
       "      <td>96.653299</td>\n",
       "      <td>10.487806</td>\n",
       "      <td>2.894723</td>\n",
       "      <td>62397.405202</td>\n",
       "      <td>0.581654</td>\n",
       "      <td>0.45584</td>\n",
       "      <td>0.499797</td>\n",
       "      <td>57510.492818</td>\n",
       "      <td>0.402769</td>\n",
       "    </tr>\n",
       "    <tr>\n",
       "      <th>min</th>\n",
       "      <td>1.00000</td>\n",
       "      <td>1.556570e+07</td>\n",
       "      <td>350.000000</td>\n",
       "      <td>18.000000</td>\n",
       "      <td>0.000000</td>\n",
       "      <td>0.000000</td>\n",
       "      <td>1.000000</td>\n",
       "      <td>0.00000</td>\n",
       "      <td>0.000000</td>\n",
       "      <td>11.580000</td>\n",
       "      <td>0.000000</td>\n",
       "    </tr>\n",
       "    <tr>\n",
       "      <th>25%</th>\n",
       "      <td>2500.75000</td>\n",
       "      <td>1.562853e+07</td>\n",
       "      <td>584.000000</td>\n",
       "      <td>32.000000</td>\n",
       "      <td>2.000000</td>\n",
       "      <td>0.000000</td>\n",
       "      <td>1.000000</td>\n",
       "      <td>0.00000</td>\n",
       "      <td>0.000000</td>\n",
       "      <td>51002.110000</td>\n",
       "      <td>0.000000</td>\n",
       "    </tr>\n",
       "    <tr>\n",
       "      <th>50%</th>\n",
       "      <td>5000.50000</td>\n",
       "      <td>1.569074e+07</td>\n",
       "      <td>652.000000</td>\n",
       "      <td>37.000000</td>\n",
       "      <td>5.000000</td>\n",
       "      <td>97198.540000</td>\n",
       "      <td>1.000000</td>\n",
       "      <td>1.00000</td>\n",
       "      <td>1.000000</td>\n",
       "      <td>100193.915000</td>\n",
       "      <td>0.000000</td>\n",
       "    </tr>\n",
       "    <tr>\n",
       "      <th>75%</th>\n",
       "      <td>7500.25000</td>\n",
       "      <td>1.575323e+07</td>\n",
       "      <td>718.000000</td>\n",
       "      <td>44.000000</td>\n",
       "      <td>7.000000</td>\n",
       "      <td>127644.240000</td>\n",
       "      <td>2.000000</td>\n",
       "      <td>1.00000</td>\n",
       "      <td>1.000000</td>\n",
       "      <td>149388.247500</td>\n",
       "      <td>0.000000</td>\n",
       "    </tr>\n",
       "    <tr>\n",
       "      <th>max</th>\n",
       "      <td>10000.00000</td>\n",
       "      <td>1.581569e+07</td>\n",
       "      <td>850.000000</td>\n",
       "      <td>92.000000</td>\n",
       "      <td>10.000000</td>\n",
       "      <td>250898.090000</td>\n",
       "      <td>4.000000</td>\n",
       "      <td>1.00000</td>\n",
       "      <td>1.000000</td>\n",
       "      <td>199992.480000</td>\n",
       "      <td>1.000000</td>\n",
       "    </tr>\n",
       "  </tbody>\n",
       "</table>\n",
       "</div>"
      ],
      "text/plain": [
       "         RowNumber    CustomerId   CreditScore           Age       Tenure  \\\n",
       "count  10000.00000  1.000000e+04  10000.000000  10000.000000  9091.000000   \n",
       "mean    5000.50000  1.569094e+07    650.528800     38.921800     4.997690   \n",
       "std     2886.89568  7.193619e+04     96.653299     10.487806     2.894723   \n",
       "min        1.00000  1.556570e+07    350.000000     18.000000     0.000000   \n",
       "25%     2500.75000  1.562853e+07    584.000000     32.000000     2.000000   \n",
       "50%     5000.50000  1.569074e+07    652.000000     37.000000     5.000000   \n",
       "75%     7500.25000  1.575323e+07    718.000000     44.000000     7.000000   \n",
       "max    10000.00000  1.581569e+07    850.000000     92.000000    10.000000   \n",
       "\n",
       "             Balance  NumOfProducts    HasCrCard  IsActiveMember  \\\n",
       "count   10000.000000   10000.000000  10000.00000    10000.000000   \n",
       "mean    76485.889288       1.530200      0.70550        0.515100   \n",
       "std     62397.405202       0.581654      0.45584        0.499797   \n",
       "min         0.000000       1.000000      0.00000        0.000000   \n",
       "25%         0.000000       1.000000      0.00000        0.000000   \n",
       "50%     97198.540000       1.000000      1.00000        1.000000   \n",
       "75%    127644.240000       2.000000      1.00000        1.000000   \n",
       "max    250898.090000       4.000000      1.00000        1.000000   \n",
       "\n",
       "       EstimatedSalary        Exited  \n",
       "count     10000.000000  10000.000000  \n",
       "mean     100090.239881      0.203700  \n",
       "std       57510.492818      0.402769  \n",
       "min          11.580000      0.000000  \n",
       "25%       51002.110000      0.000000  \n",
       "50%      100193.915000      0.000000  \n",
       "75%      149388.247500      0.000000  \n",
       "max      199992.480000      1.000000  "
      ]
     },
     "execution_count": 6,
     "metadata": {},
     "output_type": "execute_result"
    }
   ],
   "source": [
    "data.describe()"
   ]
  },
  {
   "cell_type": "code",
   "execution_count": 7,
   "metadata": {},
   "outputs": [
    {
     "data": {
      "image/png": "[encoded data removed]",
      "text/plain": [
       "<Figure size 1080x1080 with 12 Axes>"
      ]
     },
     "metadata": {
      "needs_background": "light"
     },
     "output_type": "display_data"
    }
   ],
   "source": [
    "data.hist(figsize=(15,15))\n",
    "plt.show()"
   ]
  },
  {
   "cell_type": "markdown",
   "metadata": {},
   "source": [
    "#### Conclusion"
   ]
  },
  {
   "cell_type": "markdown",
   "metadata": {},
   "source": [
    "What are our conclusions after the first look at the data?\n",
    "<ol>\n",
    "    <li>Empty values:\n",
    "        <ul>\n",
    "            <li>Tenure</li>\n",
    "        </ul>\n",
    "    </li>\n",
    "    <li>Class balance:\n",
    "        <ul>\n",
    "            <li>Exited - large variation between 0 и 1</li>\n",
    "            <li>HasCrCard - large variation between 0 и 1</li>\n",
    "            <li>Balance - a lot of clients with 0 balance</li>\n",
    "        </ul>\n",
    "    </li>\n",
    "    <li>Convert columns to lower snake case</li>\n",
    "</ol>"
   ]
  },
  {
   "cell_type": "markdown",
   "metadata": {},
   "source": [
    "### Data preprocessing"
   ]
  },
  {
   "cell_type": "markdown",
   "metadata": {},
   "source": [
    "#### Removing extra columns"
   ]
  },
  {
   "cell_type": "markdown",
   "metadata": {},
   "source": [
    "To train our prediction model, we will not need all the columns from our data. Let's check columns CustomerId, RowNumber, Surname"
   ]
  },
  {
   "cell_type": "code",
   "execution_count": 8,
   "metadata": {},
   "outputs": [
    {
     "data": {
      "text/plain": [
       "10000"
      ]
     },
     "execution_count": 8,
     "metadata": {},
     "output_type": "execute_result"
    }
   ],
   "source": [
    "len(data['CustomerId'].unique())"
   ]
  },
  {
   "cell_type": "code",
   "execution_count": 9,
   "metadata": {},
   "outputs": [
    {
     "data": {
      "text/plain": [
       "10000"
      ]
     },
     "execution_count": 9,
     "metadata": {},
     "output_type": "execute_result"
    }
   ],
   "source": [
    "len(data['RowNumber'].unique())"
   ]
  },
  {
   "cell_type": "code",
   "execution_count": 10,
   "metadata": {},
   "outputs": [
    {
     "data": {
      "text/plain": [
       "2932"
      ]
     },
     "execution_count": 10,
     "metadata": {},
     "output_type": "execute_result"
    }
   ],
   "source": [
    "len(data['Surname'].unique())"
   ]
  },
  {
   "cell_type": "markdown",
   "metadata": {},
   "source": [
    "We see that columns CustomerId и RowNumber are unique for every customer (line), so they are not relevant for our model. The Surname of the client should also not affect the prediction of the model. We'll drop these columns."
   ]
  },
  {
   "cell_type": "code",
   "execution_count": 11,
   "metadata": {},
   "outputs": [],
   "source": [
    "data = data.drop(['CustomerId', 'RowNumber', 'Surname'], axis=1)"
   ]
  },
  {
   "cell_type": "code",
   "execution_count": 12,
   "metadata": {},
   "outputs": [
    {
     "data": {
      "text/html": [
       "<div>\n",
       "<style scoped>\n",
       "    .dataframe tbody tr th:only-of-type {\n",
       "        vertical-align: middle;\n",
       "    }\n",
       "\n",
       "    .dataframe tbody tr th {\n",
       "        vertical-align: top;\n",
       "    }\n",
       "\n",
       "    .dataframe thead th {\n",
       "        text-align: right;\n",
       "    }\n",
       "</style>\n",
       "<table border=\"1\" class=\"dataframe\">\n",
       "  <thead>\n",
       "    <tr style=\"text-align: right;\">\n",
       "      <th></th>\n",
       "      <th>CreditScore</th>\n",
       "      <th>Geography</th>\n",
       "      <th>Gender</th>\n",
       "      <th>Age</th>\n",
       "      <th>Tenure</th>\n",
       "      <th>Balance</th>\n",
       "      <th>NumOfProducts</th>\n",
       "      <th>HasCrCard</th>\n",
       "      <th>IsActiveMember</th>\n",
       "      <th>EstimatedSalary</th>\n",
       "      <th>Exited</th>\n",
       "    </tr>\n",
       "  </thead>\n",
       "  <tbody>\n",
       "    <tr>\n",
       "      <th>0</th>\n",
       "      <td>619</td>\n",
       "      <td>France</td>\n",
       "      <td>Female</td>\n",
       "      <td>42</td>\n",
       "      <td>2.0</td>\n",
       "      <td>0.00</td>\n",
       "      <td>1</td>\n",
       "      <td>1</td>\n",
       "      <td>1</td>\n",
       "      <td>101348.88</td>\n",
       "      <td>1</td>\n",
       "    </tr>\n",
       "    <tr>\n",
       "      <th>1</th>\n",
       "      <td>608</td>\n",
       "      <td>Spain</td>\n",
       "      <td>Female</td>\n",
       "      <td>41</td>\n",
       "      <td>1.0</td>\n",
       "      <td>83807.86</td>\n",
       "      <td>1</td>\n",
       "      <td>0</td>\n",
       "      <td>1</td>\n",
       "      <td>112542.58</td>\n",
       "      <td>0</td>\n",
       "    </tr>\n",
       "    <tr>\n",
       "      <th>2</th>\n",
       "      <td>502</td>\n",
       "      <td>France</td>\n",
       "      <td>Female</td>\n",
       "      <td>42</td>\n",
       "      <td>8.0</td>\n",
       "      <td>159660.80</td>\n",
       "      <td>3</td>\n",
       "      <td>1</td>\n",
       "      <td>0</td>\n",
       "      <td>113931.57</td>\n",
       "      <td>1</td>\n",
       "    </tr>\n",
       "    <tr>\n",
       "      <th>3</th>\n",
       "      <td>699</td>\n",
       "      <td>France</td>\n",
       "      <td>Female</td>\n",
       "      <td>39</td>\n",
       "      <td>1.0</td>\n",
       "      <td>0.00</td>\n",
       "      <td>2</td>\n",
       "      <td>0</td>\n",
       "      <td>0</td>\n",
       "      <td>93826.63</td>\n",
       "      <td>0</td>\n",
       "    </tr>\n",
       "    <tr>\n",
       "      <th>4</th>\n",
       "      <td>850</td>\n",
       "      <td>Spain</td>\n",
       "      <td>Female</td>\n",
       "      <td>43</td>\n",
       "      <td>2.0</td>\n",
       "      <td>125510.82</td>\n",
       "      <td>1</td>\n",
       "      <td>1</td>\n",
       "      <td>1</td>\n",
       "      <td>79084.10</td>\n",
       "      <td>0</td>\n",
       "    </tr>\n",
       "  </tbody>\n",
       "</table>\n",
       "</div>"
      ],
      "text/plain": [
       "   CreditScore Geography  Gender  Age  Tenure    Balance  NumOfProducts  \\\n",
       "0          619    France  Female   42     2.0       0.00              1   \n",
       "1          608     Spain  Female   41     1.0   83807.86              1   \n",
       "2          502    France  Female   42     8.0  159660.80              3   \n",
       "3          699    France  Female   39     1.0       0.00              2   \n",
       "4          850     Spain  Female   43     2.0  125510.82              1   \n",
       "\n",
       "   HasCrCard  IsActiveMember  EstimatedSalary  Exited  \n",
       "0          1               1        101348.88       1  \n",
       "1          0               1        112542.58       0  \n",
       "2          1               0        113931.57       1  \n",
       "3          0               0         93826.63       0  \n",
       "4          1               1         79084.10       0  "
      ]
     },
     "execution_count": 12,
     "metadata": {},
     "output_type": "execute_result"
    }
   ],
   "source": [
    "data.head()"
   ]
  },
  {
   "cell_type": "markdown",
   "metadata": {},
   "source": [
    "Excellent! Now only the columns we need are left in our table."
   ]
  },
  {
   "cell_type": "markdown",
   "metadata": {},
   "source": [
    "#### Column naming"
   ]
  },
  {
   "cell_type": "markdown",
   "metadata": {},
   "source": [
    "Let's convert the column names to snake case"
   ]
  },
  {
   "cell_type": "code",
   "execution_count": 13,
   "metadata": {},
   "outputs": [],
   "source": [
    "dict_columns = {'CreditScore':'credit_score'\n",
    "                ,'Geography':'geography'\n",
    "                ,'Gender':'gender'\n",
    "                ,'Age':'age'\n",
    "                ,'Tenure':'tenure'\n",
    "                ,'Balance':'balance'\n",
    "                ,'NumOfProducts':'num_of_products'\n",
    "                ,'HasCrCard':'has_cr_card'\n",
    "                ,'IsActiveMember':'is_active_member'\n",
    "                ,'EstimatedSalary':'estimated_salary'\n",
    "                ,'Exited':'exited'\n",
    "               }"
   ]
  },
  {
   "cell_type": "code",
   "execution_count": 14,
   "metadata": {},
   "outputs": [],
   "source": [
    "data = data.rename(mapper=dict_columns, axis=1) "
   ]
  },
  {
   "cell_type": "code",
   "execution_count": 15,
   "metadata": {},
   "outputs": [
    {
     "data": {
      "text/plain": [
       "Index(['credit_score', 'geography', 'gender', 'age', 'tenure', 'balance',\n",
       "       'num_of_products', 'has_cr_card', 'is_active_member',\n",
       "       'estimated_salary', 'exited'],\n",
       "      dtype='object')"
      ]
     },
     "execution_count": 15,
     "metadata": {},
     "output_type": "execute_result"
    }
   ],
   "source": [
    "data.columns"
   ]
  },
  {
   "cell_type": "markdown",
   "metadata": {},
   "source": [
    "#### Duplicates"
   ]
  },
  {
   "cell_type": "markdown",
   "metadata": {},
   "source": [
    "Let's check for duplicates"
   ]
  },
  {
   "cell_type": "code",
   "execution_count": 16,
   "metadata": {},
   "outputs": [
    {
     "data": {
      "text/plain": [
       "array(['France', 'Spain', 'Germany'], dtype=object)"
      ]
     },
     "execution_count": 16,
     "metadata": {},
     "output_type": "execute_result"
    }
   ],
   "source": [
    "data['geography'].unique()"
   ]
  },
  {
   "cell_type": "code",
   "execution_count": 17,
   "metadata": {},
   "outputs": [
    {
     "data": {
      "text/plain": [
       "array(['Female', 'Male'], dtype=object)"
      ]
     },
     "execution_count": 17,
     "metadata": {},
     "output_type": "execute_result"
    }
   ],
   "source": [
    "data['gender'].unique()"
   ]
  },
  {
   "cell_type": "code",
   "execution_count": 18,
   "metadata": {},
   "outputs": [
    {
     "data": {
      "text/plain": [
       "0"
      ]
     },
     "execution_count": 18,
     "metadata": {},
     "output_type": "execute_result"
    }
   ],
   "source": [
    "data.duplicated().sum()"
   ]
  },
  {
   "cell_type": "markdown",
   "metadata": {},
   "source": [
    "There are no duplicates"
   ]
  },
  {
   "cell_type": "markdown",
   "metadata": {},
   "source": [
    "#### Ordinal encoding"
   ]
  },
  {
   "cell_type": "markdown",
   "metadata": {},
   "source": [
    "Let's replace two categorical columns: geography and gender with numerical values"
   ]
  },
  {
   "cell_type": "code",
   "execution_count": 19,
   "metadata": {},
   "outputs": [],
   "source": [
    "encoder = OrdinalEncoder()\n",
    "ordinal_data = data\n",
    "ordinal_data[['geography', 'gender']] = encoder.fit_transform(ordinal_data[['geography', 'gender']])"
   ]
  },
  {
   "cell_type": "code",
   "execution_count": 20,
   "metadata": {},
   "outputs": [
    {
     "data": {
      "text/html": [
       "<div>\n",
       "<style scoped>\n",
       "    .dataframe tbody tr th:only-of-type {\n",
       "        vertical-align: middle;\n",
       "    }\n",
       "\n",
       "    .dataframe tbody tr th {\n",
       "        vertical-align: top;\n",
       "    }\n",
       "\n",
       "    .dataframe thead th {\n",
       "        text-align: right;\n",
       "    }\n",
       "</style>\n",
       "<table border=\"1\" class=\"dataframe\">\n",
       "  <thead>\n",
       "    <tr style=\"text-align: right;\">\n",
       "      <th></th>\n",
       "      <th>credit_score</th>\n",
       "      <th>geography</th>\n",
       "      <th>gender</th>\n",
       "      <th>age</th>\n",
       "      <th>tenure</th>\n",
       "      <th>balance</th>\n",
       "      <th>num_of_products</th>\n",
       "      <th>has_cr_card</th>\n",
       "      <th>is_active_member</th>\n",
       "      <th>estimated_salary</th>\n",
       "      <th>exited</th>\n",
       "    </tr>\n",
       "  </thead>\n",
       "  <tbody>\n",
       "    <tr>\n",
       "      <th>0</th>\n",
       "      <td>619</td>\n",
       "      <td>0.0</td>\n",
       "      <td>0.0</td>\n",
       "      <td>42</td>\n",
       "      <td>2.0</td>\n",
       "      <td>0.00</td>\n",
       "      <td>1</td>\n",
       "      <td>1</td>\n",
       "      <td>1</td>\n",
       "      <td>101348.88</td>\n",
       "      <td>1</td>\n",
       "    </tr>\n",
       "    <tr>\n",
       "      <th>1</th>\n",
       "      <td>608</td>\n",
       "      <td>2.0</td>\n",
       "      <td>0.0</td>\n",
       "      <td>41</td>\n",
       "      <td>1.0</td>\n",
       "      <td>83807.86</td>\n",
       "      <td>1</td>\n",
       "      <td>0</td>\n",
       "      <td>1</td>\n",
       "      <td>112542.58</td>\n",
       "      <td>0</td>\n",
       "    </tr>\n",
       "    <tr>\n",
       "      <th>2</th>\n",
       "      <td>502</td>\n",
       "      <td>0.0</td>\n",
       "      <td>0.0</td>\n",
       "      <td>42</td>\n",
       "      <td>8.0</td>\n",
       "      <td>159660.80</td>\n",
       "      <td>3</td>\n",
       "      <td>1</td>\n",
       "      <td>0</td>\n",
       "      <td>113931.57</td>\n",
       "      <td>1</td>\n",
       "    </tr>\n",
       "    <tr>\n",
       "      <th>3</th>\n",
       "      <td>699</td>\n",
       "      <td>0.0</td>\n",
       "      <td>0.0</td>\n",
       "      <td>39</td>\n",
       "      <td>1.0</td>\n",
       "      <td>0.00</td>\n",
       "      <td>2</td>\n",
       "      <td>0</td>\n",
       "      <td>0</td>\n",
       "      <td>93826.63</td>\n",
       "      <td>0</td>\n",
       "    </tr>\n",
       "    <tr>\n",
       "      <th>4</th>\n",
       "      <td>850</td>\n",
       "      <td>2.0</td>\n",
       "      <td>0.0</td>\n",
       "      <td>43</td>\n",
       "      <td>2.0</td>\n",
       "      <td>125510.82</td>\n",
       "      <td>1</td>\n",
       "      <td>1</td>\n",
       "      <td>1</td>\n",
       "      <td>79084.10</td>\n",
       "      <td>0</td>\n",
       "    </tr>\n",
       "  </tbody>\n",
       "</table>\n",
       "</div>"
      ],
      "text/plain": [
       "   credit_score  geography  gender  age  tenure    balance  num_of_products  \\\n",
       "0           619        0.0     0.0   42     2.0       0.00                1   \n",
       "1           608        2.0     0.0   41     1.0   83807.86                1   \n",
       "2           502        0.0     0.0   42     8.0  159660.80                3   \n",
       "3           699        0.0     0.0   39     1.0       0.00                2   \n",
       "4           850        2.0     0.0   43     2.0  125510.82                1   \n",
       "\n",
       "   has_cr_card  is_active_member  estimated_salary  exited  \n",
       "0            1                 1         101348.88       1  \n",
       "1            0                 1         112542.58       0  \n",
       "2            1                 0         113931.57       1  \n",
       "3            0                 0          93826.63       0  \n",
       "4            1                 1          79084.10       0  "
      ]
     },
     "execution_count": 20,
     "metadata": {},
     "output_type": "execute_result"
    }
   ],
   "source": [
    "ordinal_data.head()"
   ]
  },
  {
   "cell_type": "markdown",
   "metadata": {},
   "source": [
    "What categories do we have now?"
   ]
  },
  {
   "cell_type": "code",
   "execution_count": 21,
   "metadata": {},
   "outputs": [
    {
     "data": {
      "text/plain": [
       "[array(['France', 'Germany', 'Spain'], dtype=object),\n",
       " array(['Female', 'Male'], dtype=object)]"
      ]
     },
     "execution_count": 21,
     "metadata": {},
     "output_type": "execute_result"
    }
   ],
   "source": [
    "encoder.categories_"
   ]
  },
  {
   "cell_type": "markdown",
   "metadata": {},
   "source": [
    "#### Empty values"
   ]
  },
  {
   "cell_type": "markdown",
   "metadata": {},
   "source": [
    "Look at the gaps in \"tenure\" column "
   ]
  },
  {
   "cell_type": "code",
   "execution_count": 22,
   "metadata": {},
   "outputs": [],
   "source": [
    "def percentage(part, whole):\n",
    "    return 100 * float(part)/float(whole)"
   ]
  },
  {
   "cell_type": "code",
   "execution_count": 23,
   "metadata": {},
   "outputs": [
    {
     "data": {
      "text/plain": [
       "9.09"
      ]
     },
     "execution_count": 23,
     "metadata": {},
     "output_type": "execute_result"
    }
   ],
   "source": [
    "percentage(ordinal_data['tenure'].isna().sum(), len(ordinal_data['tenure']))"
   ]
  },
  {
   "cell_type": "markdown",
   "metadata": {},
   "source": [
    "9% is quite a lot. We can't delete that much data. So let's try to replace them with similar values"
   ]
  },
  {
   "cell_type": "code",
   "execution_count": 24,
   "metadata": {},
   "outputs": [
    {
     "data": {
      "text/plain": [
       "1.0     952\n",
       "2.0     950\n",
       "8.0     933\n",
       "3.0     928\n",
       "5.0     927\n",
       "7.0     925\n",
       "4.0     885\n",
       "9.0     882\n",
       "6.0     881\n",
       "10.0    446\n",
       "0.0     382\n",
       "Name: tenure, dtype: int64"
      ]
     },
     "execution_count": 24,
     "metadata": {},
     "output_type": "execute_result"
    }
   ],
   "source": [
    "ordinal_data['tenure'].value_counts()"
   ]
  },
  {
   "cell_type": "markdown",
   "metadata": {},
   "source": [
    "Let's replace empty values with -1 and look at the data distribution"
   ]
  },
  {
   "cell_type": "code",
   "execution_count": 25,
   "metadata": {},
   "outputs": [],
   "source": [
    "ordinal_data.loc[ordinal_data['tenure'].isna(), 'tenure'] = -1"
   ]
  },
  {
   "cell_type": "code",
   "execution_count": 26,
   "metadata": {
    "scrolled": true
   },
   "outputs": [
    {
     "data": {
      "image/png": "[encoded data removed]",
      "text/plain": [
       "<Figure size 1080x360 with 1 Axes>"
      ]
     },
     "metadata": {
      "needs_background": "light"
     },
     "output_type": "display_data"
    }
   ],
   "source": [
    "ordinal_data['tenure'].hist(figsize=(15,5), bins=len(ordinal_data['tenure'].unique()))\n",
    "plt.show()"
   ]
  },
  {
   "cell_type": "markdown",
   "metadata": {},
   "source": [
    "In general, the distribution is even"
   ]
  },
  {
   "cell_type": "markdown",
   "metadata": {},
   "source": [
    "Let's replace the missing values with those that are in similar records"
   ]
  },
  {
   "cell_type": "code",
   "execution_count": 27,
   "metadata": {},
   "outputs": [],
   "source": [
    "ordinal_data.loc[ordinal_data['tenure'] == -1, 'tenure'] = np.nan"
   ]
  },
  {
   "cell_type": "code",
   "execution_count": 28,
   "metadata": {},
   "outputs": [],
   "source": [
    "imputer = KNNImputer(n_neighbors=5, weights='distance')\n",
    "ord_imp_data = pd.DataFrame(imputer.fit_transform(ordinal_data), columns=ordinal_data.columns)"
   ]
  },
  {
   "cell_type": "code",
   "execution_count": 29,
   "metadata": {},
   "outputs": [
    {
     "data": {
      "text/plain": [
       "920"
      ]
     },
     "execution_count": 29,
     "metadata": {},
     "output_type": "execute_result"
    }
   ],
   "source": [
    "len(ord_imp_data['tenure'].unique())"
   ]
  },
  {
   "cell_type": "code",
   "execution_count": 30,
   "metadata": {},
   "outputs": [
    {
     "data": {
      "text/plain": [
       "array([0.        , 0.77303732, 0.92647587, 1.        , 1.37327642,\n",
       "       1.58446455, 1.65733016, 1.70105147, 1.71913281, 1.78999893,\n",
       "       1.85582678, 1.88332841, 1.90106895, 1.91766267, 1.97207031])"
      ]
     },
     "execution_count": 30,
     "metadata": {},
     "output_type": "execute_result"
    }
   ],
   "source": [
    "ord_imp_data['tenure'].sort_values().unique()[:15]"
   ]
  },
  {
   "cell_type": "markdown",
   "metadata": {},
   "source": [
    "Too many new values. Let's round them up."
   ]
  },
  {
   "cell_type": "code",
   "execution_count": 31,
   "metadata": {},
   "outputs": [],
   "source": [
    "ord_imp_data['tenure'] = round(ord_imp_data['tenure'])"
   ]
  },
  {
   "cell_type": "code",
   "execution_count": 32,
   "metadata": {},
   "outputs": [
    {
     "data": {
      "image/png": "[encoded data removed]",
      "text/plain": [
       "<Figure size 1080x360 with 1 Axes>"
      ]
     },
     "metadata": {
      "needs_background": "light"
     },
     "output_type": "display_data"
    }
   ],
   "source": [
    "ord_imp_data['tenure'].hist(figsize=(15,5), bins=len(ord_imp_data['tenure'].unique()))\n",
    "plt.show()"
   ]
  },
  {
   "cell_type": "markdown",
   "metadata": {},
   "source": [
    "In general, we see that those -1 values have moved inside the graph. And the graph is still significantly lower in 0 and 10 and is generally normally distributed between these values."
   ]
  },
  {
   "cell_type": "code",
   "execution_count": 33,
   "metadata": {},
   "outputs": [
    {
     "data": {
      "text/plain": [
       "5.0     1184\n",
       "6.0     1079\n",
       "4.0     1065\n",
       "3.0     1033\n",
       "7.0     1032\n",
       "2.0      981\n",
       "8.0      959\n",
       "1.0      955\n",
       "9.0      884\n",
       "10.0     446\n",
       "0.0      382\n",
       "Name: tenure, dtype: int64"
      ]
     },
     "execution_count": 33,
     "metadata": {},
     "output_type": "execute_result"
    }
   ],
   "source": [
    "ord_imp_data['tenure'].value_counts()"
   ]
  },
  {
   "cell_type": "code",
   "execution_count": 34,
   "metadata": {},
   "outputs": [
    {
     "data": {
      "text/plain": [
       "10000"
      ]
     },
     "execution_count": 34,
     "metadata": {},
     "output_type": "execute_result"
    }
   ],
   "source": [
    "len(ord_imp_data['tenure'])"
   ]
  },
  {
   "cell_type": "code",
   "execution_count": 35,
   "metadata": {
    "scrolled": false
   },
   "outputs": [
    {
     "data": {
      "text/html": [
       "<div>\n",
       "<style scoped>\n",
       "    .dataframe tbody tr th:only-of-type {\n",
       "        vertical-align: middle;\n",
       "    }\n",
       "\n",
       "    .dataframe tbody tr th {\n",
       "        vertical-align: top;\n",
       "    }\n",
       "\n",
       "    .dataframe thead th {\n",
       "        text-align: right;\n",
       "    }\n",
       "</style>\n",
       "<table border=\"1\" class=\"dataframe\">\n",
       "  <thead>\n",
       "    <tr style=\"text-align: right;\">\n",
       "      <th></th>\n",
       "      <th>credit_score</th>\n",
       "      <th>geography</th>\n",
       "      <th>gender</th>\n",
       "      <th>age</th>\n",
       "      <th>tenure</th>\n",
       "      <th>balance</th>\n",
       "      <th>num_of_products</th>\n",
       "      <th>has_cr_card</th>\n",
       "      <th>is_active_member</th>\n",
       "      <th>estimated_salary</th>\n",
       "      <th>exited</th>\n",
       "    </tr>\n",
       "  </thead>\n",
       "  <tbody>\n",
       "    <tr>\n",
       "      <th>0</th>\n",
       "      <td>619.0</td>\n",
       "      <td>0.0</td>\n",
       "      <td>0.0</td>\n",
       "      <td>42.0</td>\n",
       "      <td>2.0</td>\n",
       "      <td>0.00</td>\n",
       "      <td>1.0</td>\n",
       "      <td>1.0</td>\n",
       "      <td>1.0</td>\n",
       "      <td>101348.88</td>\n",
       "      <td>1.0</td>\n",
       "    </tr>\n",
       "    <tr>\n",
       "      <th>1</th>\n",
       "      <td>608.0</td>\n",
       "      <td>2.0</td>\n",
       "      <td>0.0</td>\n",
       "      <td>41.0</td>\n",
       "      <td>1.0</td>\n",
       "      <td>83807.86</td>\n",
       "      <td>1.0</td>\n",
       "      <td>0.0</td>\n",
       "      <td>1.0</td>\n",
       "      <td>112542.58</td>\n",
       "      <td>0.0</td>\n",
       "    </tr>\n",
       "    <tr>\n",
       "      <th>2</th>\n",
       "      <td>502.0</td>\n",
       "      <td>0.0</td>\n",
       "      <td>0.0</td>\n",
       "      <td>42.0</td>\n",
       "      <td>8.0</td>\n",
       "      <td>159660.80</td>\n",
       "      <td>3.0</td>\n",
       "      <td>1.0</td>\n",
       "      <td>0.0</td>\n",
       "      <td>113931.57</td>\n",
       "      <td>1.0</td>\n",
       "    </tr>\n",
       "    <tr>\n",
       "      <th>3</th>\n",
       "      <td>699.0</td>\n",
       "      <td>0.0</td>\n",
       "      <td>0.0</td>\n",
       "      <td>39.0</td>\n",
       "      <td>1.0</td>\n",
       "      <td>0.00</td>\n",
       "      <td>2.0</td>\n",
       "      <td>0.0</td>\n",
       "      <td>0.0</td>\n",
       "      <td>93826.63</td>\n",
       "      <td>0.0</td>\n",
       "    </tr>\n",
       "    <tr>\n",
       "      <th>4</th>\n",
       "      <td>850.0</td>\n",
       "      <td>2.0</td>\n",
       "      <td>0.0</td>\n",
       "      <td>43.0</td>\n",
       "      <td>2.0</td>\n",
       "      <td>125510.82</td>\n",
       "      <td>1.0</td>\n",
       "      <td>1.0</td>\n",
       "      <td>1.0</td>\n",
       "      <td>79084.10</td>\n",
       "      <td>0.0</td>\n",
       "    </tr>\n",
       "  </tbody>\n",
       "</table>\n",
       "</div>"
      ],
      "text/plain": [
       "   credit_score  geography  gender   age  tenure    balance  num_of_products  \\\n",
       "0         619.0        0.0     0.0  42.0     2.0       0.00              1.0   \n",
       "1         608.0        2.0     0.0  41.0     1.0   83807.86              1.0   \n",
       "2         502.0        0.0     0.0  42.0     8.0  159660.80              3.0   \n",
       "3         699.0        0.0     0.0  39.0     1.0       0.00              2.0   \n",
       "4         850.0        2.0     0.0  43.0     2.0  125510.82              1.0   \n",
       "\n",
       "   has_cr_card  is_active_member  estimated_salary  exited  \n",
       "0          1.0               1.0         101348.88     1.0  \n",
       "1          0.0               1.0         112542.58     0.0  \n",
       "2          1.0               0.0         113931.57     1.0  \n",
       "3          0.0               0.0          93826.63     0.0  \n",
       "4          1.0               1.0          79084.10     0.0  "
      ]
     },
     "execution_count": 35,
     "metadata": {},
     "output_type": "execute_result"
    }
   ],
   "source": [
    "ord_imp_data.head()"
   ]
  },
  {
   "cell_type": "markdown",
   "metadata": {},
   "source": [
    "Data preprocessing is finished!"
   ]
  },
  {
   "cell_type": "markdown",
   "metadata": {},
   "source": [
    "## Problem investigation"
   ]
  },
  {
   "cell_type": "markdown",
   "metadata": {},
   "source": [
    "Let's look at the data balance"
   ]
  },
  {
   "cell_type": "code",
   "execution_count": 36,
   "metadata": {},
   "outputs": [
    {
     "data": {
      "image/png": "[encoded data removed]",
      "text/plain": [
       "<Figure size 1080x1080 with 12 Axes>"
      ]
     },
     "metadata": {
      "needs_background": "light"
     },
     "output_type": "display_data"
    }
   ],
   "source": [
    "ord_imp_data.hist(figsize=(15,15))\n",
    "plt.show()"
   ]
  },
  {
   "cell_type": "markdown",
   "metadata": {},
   "source": [
    "We have noticed that we have significantly less customers with exited = 1 than exited = 0. This can affect the training of our model. Let's see how the model learns from such a dataset."
   ]
  },
  {
   "cell_type": "code",
   "execution_count": 37,
   "metadata": {},
   "outputs": [
    {
     "data": {
      "text/plain": [
       "0.0    0.7963\n",
       "1.0    0.2037\n",
       "Name: exited, dtype: float64"
      ]
     },
     "execution_count": 37,
     "metadata": {},
     "output_type": "execute_result"
    }
   ],
   "source": [
    "ord_imp_data['exited'].value_counts(normalize=True)"
   ]
  },
  {
   "cell_type": "markdown",
   "metadata": {},
   "source": [
    "Here we see that the values with exited=1 take about 1/5 (20%) of the entire sample, and exited=0 is 4/5 (80%)"
   ]
  },
  {
   "cell_type": "markdown",
   "metadata": {},
   "source": [
    "### Data separation"
   ]
  },
  {
   "cell_type": "markdown",
   "metadata": {},
   "source": [
    "Let's divide the data into 3 samples - training, validation, and test"
   ]
  },
  {
   "cell_type": "code",
   "execution_count": 38,
   "metadata": {},
   "outputs": [],
   "source": [
    "features = ord_imp_data.drop(['exited'], axis=1)\n",
    "target = ord_imp_data['exited']"
   ]
  },
  {
   "cell_type": "code",
   "execution_count": 39,
   "metadata": {},
   "outputs": [],
   "source": [
    "features_train, features_test, target_train, target_test = (\n",
    "    train_test_split(features, target, test_size=0.4, random_state=RANDOM_STATE, stratify=target)\n",
    ")"
   ]
  },
  {
   "cell_type": "code",
   "execution_count": 40,
   "metadata": {},
   "outputs": [],
   "source": [
    "features_valid, features_test, target_valid, target_test = (\n",
    "    train_test_split(features_test, target_test, test_size=0.5, random_state=RANDOM_STATE, stratify=target_test)\n",
    ")"
   ]
  },
  {
   "cell_type": "code",
   "execution_count": 41,
   "metadata": {},
   "outputs": [
    {
     "data": {
      "text/plain": [
       "'Training: 6000, 6000, 60.0%'"
      ]
     },
     "execution_count": 41,
     "metadata": {},
     "output_type": "execute_result"
    }
   ],
   "source": [
    "f'''Training: \\\n",
    "{features_train.shape[0]}, \\\n",
    "{target_train.shape[0]}, \\\n",
    "{round(features_train.shape[0]/ord_imp_data.shape[0]*100, 2)}%'''"
   ]
  },
  {
   "cell_type": "code",
   "execution_count": 42,
   "metadata": {},
   "outputs": [
    {
     "data": {
      "text/plain": [
       "'Validation: 2000, 2000, 20.0%'"
      ]
     },
     "execution_count": 42,
     "metadata": {},
     "output_type": "execute_result"
    }
   ],
   "source": [
    "f'''Validation: \\\n",
    "{features_valid.shape[0]}, \\\n",
    "{target_valid.shape[0]}, \\\n",
    "{round(features_valid.shape[0]/ord_imp_data.shape[0]*100, 2)}%'''"
   ]
  },
  {
   "cell_type": "code",
   "execution_count": 43,
   "metadata": {},
   "outputs": [
    {
     "data": {
      "text/plain": [
       "'Test: 2000, 2000, 20.0%'"
      ]
     },
     "execution_count": 43,
     "metadata": {},
     "output_type": "execute_result"
    }
   ],
   "source": [
    "f'''Test: \\\n",
    "{features_test.shape[0]}, \\\n",
    "{target_test.shape[0]}, \\\n",
    "{round(features_test.shape[0]/ord_imp_data.shape[0]*100, 2)}%'''"
   ]
  },
  {
   "cell_type": "markdown",
   "metadata": {},
   "source": [
    "### Scaling"
   ]
  },
  {
   "cell_type": "markdown",
   "metadata": {},
   "source": [
    "Since we assume that all features are equal, we need to scale them"
   ]
  },
  {
   "cell_type": "code",
   "execution_count": 44,
   "metadata": {},
   "outputs": [],
   "source": [
    "pd.options.mode.chained_assignment = None\n",
    "scaler = StandardScaler()\n",
    "scaler.fit(features_train)\n",
    "\n",
    "features_train[features_train.columns] = scaler.transform(features_train[features_train.columns])\n",
    "features_valid[features_valid.columns] = scaler.transform(features_valid[features_valid.columns])\n",
    "features_test[features_test.columns] = scaler.transform(features_test[features_test.columns])"
   ]
  },
  {
   "cell_type": "markdown",
   "metadata": {},
   "source": [
    "Let's look at the results"
   ]
  },
  {
   "cell_type": "code",
   "execution_count": 45,
   "metadata": {},
   "outputs": [
    {
     "data": {
      "text/html": [
       "<div>\n",
       "<style scoped>\n",
       "    .dataframe tbody tr th:only-of-type {\n",
       "        vertical-align: middle;\n",
       "    }\n",
       "\n",
       "    .dataframe tbody tr th {\n",
       "        vertical-align: top;\n",
       "    }\n",
       "\n",
       "    .dataframe thead th {\n",
       "        text-align: right;\n",
       "    }\n",
       "</style>\n",
       "<table border=\"1\" class=\"dataframe\">\n",
       "  <thead>\n",
       "    <tr style=\"text-align: right;\">\n",
       "      <th></th>\n",
       "      <th>credit_score</th>\n",
       "      <th>geography</th>\n",
       "      <th>gender</th>\n",
       "      <th>age</th>\n",
       "      <th>tenure</th>\n",
       "      <th>balance</th>\n",
       "      <th>num_of_products</th>\n",
       "      <th>has_cr_card</th>\n",
       "      <th>is_active_member</th>\n",
       "      <th>estimated_salary</th>\n",
       "    </tr>\n",
       "  </thead>\n",
       "  <tbody>\n",
       "    <tr>\n",
       "      <th>8555</th>\n",
       "      <td>-1.345988</td>\n",
       "      <td>0.297383</td>\n",
       "      <td>0.91894</td>\n",
       "      <td>-1.342356</td>\n",
       "      <td>-1.435019</td>\n",
       "      <td>0.547136</td>\n",
       "      <td>-0.919628</td>\n",
       "      <td>0.655433</td>\n",
       "      <td>0.968819</td>\n",
       "      <td>1.197259</td>\n",
       "    </tr>\n",
       "    <tr>\n",
       "      <th>4080</th>\n",
       "      <td>1.635263</td>\n",
       "      <td>0.297383</td>\n",
       "      <td>-1.08821</td>\n",
       "      <td>-0.192190</td>\n",
       "      <td>0.710804</td>\n",
       "      <td>0.371407</td>\n",
       "      <td>-0.919628</td>\n",
       "      <td>0.655433</td>\n",
       "      <td>-1.032184</td>\n",
       "      <td>-1.125695</td>\n",
       "    </tr>\n",
       "  </tbody>\n",
       "</table>\n",
       "</div>"
      ],
      "text/plain": [
       "      credit_score  geography   gender       age    tenure   balance  \\\n",
       "8555     -1.345988   0.297383  0.91894 -1.342356 -1.435019  0.547136   \n",
       "4080      1.635263   0.297383 -1.08821 -0.192190  0.710804  0.371407   \n",
       "\n",
       "      num_of_products  has_cr_card  is_active_member  estimated_salary  \n",
       "8555        -0.919628     0.655433          0.968819          1.197259  \n",
       "4080        -0.919628     0.655433         -1.032184         -1.125695  "
      ]
     },
     "execution_count": 45,
     "metadata": {},
     "output_type": "execute_result"
    }
   ],
   "source": [
    "features_train.head(2)"
   ]
  },
  {
   "cell_type": "code",
   "execution_count": 46,
   "metadata": {},
   "outputs": [
    {
     "data": {
      "text/html": [
       "<div>\n",
       "<style scoped>\n",
       "    .dataframe tbody tr th:only-of-type {\n",
       "        vertical-align: middle;\n",
       "    }\n",
       "\n",
       "    .dataframe tbody tr th {\n",
       "        vertical-align: top;\n",
       "    }\n",
       "\n",
       "    .dataframe thead th {\n",
       "        text-align: right;\n",
       "    }\n",
       "</style>\n",
       "<table border=\"1\" class=\"dataframe\">\n",
       "  <thead>\n",
       "    <tr style=\"text-align: right;\">\n",
       "      <th></th>\n",
       "      <th>credit_score</th>\n",
       "      <th>geography</th>\n",
       "      <th>gender</th>\n",
       "      <th>age</th>\n",
       "      <th>tenure</th>\n",
       "      <th>balance</th>\n",
       "      <th>num_of_products</th>\n",
       "      <th>has_cr_card</th>\n",
       "      <th>is_active_member</th>\n",
       "      <th>estimated_salary</th>\n",
       "    </tr>\n",
       "  </thead>\n",
       "  <tbody>\n",
       "    <tr>\n",
       "      <th>6810</th>\n",
       "      <td>-1.095813</td>\n",
       "      <td>0.297383</td>\n",
       "      <td>-1.08821</td>\n",
       "      <td>0.287046</td>\n",
       "      <td>1.426078</td>\n",
       "      <td>0.146481</td>\n",
       "      <td>0.802522</td>\n",
       "      <td>0.655433</td>\n",
       "      <td>-1.032184</td>\n",
       "      <td>-0.738841</td>\n",
       "    </tr>\n",
       "    <tr>\n",
       "      <th>4207</th>\n",
       "      <td>0.050822</td>\n",
       "      <td>-0.909039</td>\n",
       "      <td>0.91894</td>\n",
       "      <td>-0.192190</td>\n",
       "      <td>0.710804</td>\n",
       "      <td>0.560861</td>\n",
       "      <td>-0.919628</td>\n",
       "      <td>0.655433</td>\n",
       "      <td>-1.032184</td>\n",
       "      <td>0.927195</td>\n",
       "    </tr>\n",
       "  </tbody>\n",
       "</table>\n",
       "</div>"
      ],
      "text/plain": [
       "      credit_score  geography   gender       age    tenure   balance  \\\n",
       "6810     -1.095813   0.297383 -1.08821  0.287046  1.426078  0.146481   \n",
       "4207      0.050822  -0.909039  0.91894 -0.192190  0.710804  0.560861   \n",
       "\n",
       "      num_of_products  has_cr_card  is_active_member  estimated_salary  \n",
       "6810         0.802522     0.655433         -1.032184         -0.738841  \n",
       "4207        -0.919628     0.655433         -1.032184          0.927195  "
      ]
     },
     "execution_count": 46,
     "metadata": {},
     "output_type": "execute_result"
    }
   ],
   "source": [
    "features_valid.head(2)"
   ]
  },
  {
   "cell_type": "code",
   "execution_count": 47,
   "metadata": {},
   "outputs": [
    {
     "data": {
      "text/html": [
       "<div>\n",
       "<style scoped>\n",
       "    .dataframe tbody tr th:only-of-type {\n",
       "        vertical-align: middle;\n",
       "    }\n",
       "\n",
       "    .dataframe tbody tr th {\n",
       "        vertical-align: top;\n",
       "    }\n",
       "\n",
       "    .dataframe thead th {\n",
       "        text-align: right;\n",
       "    }\n",
       "</style>\n",
       "<table border=\"1\" class=\"dataframe\">\n",
       "  <thead>\n",
       "    <tr style=\"text-align: right;\">\n",
       "      <th></th>\n",
       "      <th>credit_score</th>\n",
       "      <th>geography</th>\n",
       "      <th>gender</th>\n",
       "      <th>age</th>\n",
       "      <th>tenure</th>\n",
       "      <th>balance</th>\n",
       "      <th>num_of_products</th>\n",
       "      <th>has_cr_card</th>\n",
       "      <th>is_active_member</th>\n",
       "      <th>estimated_salary</th>\n",
       "    </tr>\n",
       "  </thead>\n",
       "  <tbody>\n",
       "    <tr>\n",
       "      <th>467</th>\n",
       "      <td>1.718655</td>\n",
       "      <td>0.297383</td>\n",
       "      <td>-1.08821</td>\n",
       "      <td>-0.096342</td>\n",
       "      <td>-0.004470</td>\n",
       "      <td>0.857793</td>\n",
       "      <td>2.524671</td>\n",
       "      <td>0.655433</td>\n",
       "      <td>-1.032184</td>\n",
       "      <td>-0.48617</td>\n",
       "    </tr>\n",
       "    <tr>\n",
       "      <th>2</th>\n",
       "      <td>-1.554467</td>\n",
       "      <td>-0.909039</td>\n",
       "      <td>-1.08821</td>\n",
       "      <td>0.287046</td>\n",
       "      <td>1.068441</td>\n",
       "      <td>1.317583</td>\n",
       "      <td>2.524671</td>\n",
       "      <td>0.655433</td>\n",
       "      <td>-1.032184</td>\n",
       "      <td>0.24486</td>\n",
       "    </tr>\n",
       "  </tbody>\n",
       "</table>\n",
       "</div>"
      ],
      "text/plain": [
       "     credit_score  geography   gender       age    tenure   balance  \\\n",
       "467      1.718655   0.297383 -1.08821 -0.096342 -0.004470  0.857793   \n",
       "2       -1.554467  -0.909039 -1.08821  0.287046  1.068441  1.317583   \n",
       "\n",
       "     num_of_products  has_cr_card  is_active_member  estimated_salary  \n",
       "467         2.524671     0.655433         -1.032184          -0.48617  \n",
       "2           2.524671     0.655433         -1.032184           0.24486  "
      ]
     },
     "execution_count": 47,
     "metadata": {},
     "output_type": "execute_result"
    }
   ],
   "source": [
    "features_test.head(2)"
   ]
  },
  {
   "cell_type": "markdown",
   "metadata": {},
   "source": [
    "Scaling is done."
   ]
  },
  {
   "cell_type": "markdown",
   "metadata": {},
   "source": [
    "### Model training"
   ]
  },
  {
   "cell_type": "markdown",
   "metadata": {},
   "source": [
    "#### Decision tree"
   ]
  },
  {
   "cell_type": "markdown",
   "metadata": {},
   "source": [
    "Let's find the best hyperparameters for the decision tree:\n",
    "<li>max_depth - from 1 to 10</li>\n",
    "<li>splitters - best and random</li>\n",
    "<li>criterion - gini and entropy</li>"
   ]
  },
  {
   "cell_type": "code",
   "execution_count": 48,
   "metadata": {},
   "outputs": [],
   "source": [
    "def find_best_tree_model(_features_train, _features_valid, _target_train, _target_valid): \n",
    "    best_tree_model = None\n",
    "    best_tree_f1_score = 0\n",
    "    best_tree_auc_roc = 0\n",
    "    best_tree_depth = 0\n",
    "    best_tree_splitter = None\n",
    "    best_tree_criterion = None\n",
    "\n",
    "    # hyperparameters\n",
    "    num_tree_depths = 10\n",
    "    splitters = ['best', 'random']\n",
    "    tree_criterions = ['gini', 'entropy']\n",
    "\n",
    "    for spltr in splitters:\n",
    "        for crit in tree_criterions:\n",
    "            for depth in range(1,num_tree_depths+1):\n",
    "                model_tree = (\n",
    "                    DecisionTreeClassifier(random_state=RANDOM_STATE, max_depth=depth, \n",
    "                                           splitter=spltr, criterion=crit)\n",
    "                )\n",
    "                model_tree.fit(_features_train, _target_train)\n",
    "                predictions_valid = model_tree.predict(_features_valid)\n",
    "                f1 = f1_score(_target_valid, predictions_valid)\n",
    "                \n",
    "                if f1 > best_tree_f1_score:\n",
    "                    best_tree_model = model_tree\n",
    "                    best_tree_f1_score = f1\n",
    "                    best_tree_depth = depth\n",
    "                    best_tree_splitter = spltr\n",
    "                    best_tree_criterion = crit\n",
    "                    probabilities_valid = model_tree.predict_proba(_features_valid)\n",
    "                    best_tree_auc_roc = roc_auc_score(_target_valid, probabilities_valid[:, 1])\n",
    "\n",
    "    tree_final_result = {'f1_score':round(best_tree_f1_score, 5),\n",
    "                         'auc_roc': best_tree_auc_roc,\n",
    "                         'depth': best_tree_depth,\n",
    "                         'splitter': best_tree_splitter,\n",
    "                         'citerion': best_tree_criterion\n",
    "                        }\n",
    "    return tree_final_result"
   ]
  },
  {
   "cell_type": "code",
   "execution_count": 49,
   "metadata": {},
   "outputs": [],
   "source": [
    "tree_asis_result = find_best_tree_model(features_train, features_valid, target_train, target_valid)"
   ]
  },
  {
   "cell_type": "code",
   "execution_count": 50,
   "metadata": {
    "scrolled": true
   },
   "outputs": [
    {
     "data": {
      "text/plain": [
       "{'f1_score': 0.53659,\n",
       " 'auc_roc': 0.7928436607054882,\n",
       " 'depth': 9,\n",
       " 'splitter': 'random',\n",
       " 'citerion': 'gini'}"
      ]
     },
     "execution_count": 50,
     "metadata": {},
     "output_type": "execute_result"
    }
   ],
   "source": [
    "tree_asis_result"
   ]
  },
  {
   "cell_type": "code",
   "execution_count": 51,
   "metadata": {},
   "outputs": [],
   "source": [
    "model_results = (\n",
    "    pd.DataFrame([['Tree', 'Not fixed', tree_asis_result['f1_score'], tree_asis_result['auc_roc']]],\n",
    "                 columns=['model', 'disbalance', 'f1_score', 'auc_roc_score'])\n",
    ")"
   ]
  },
  {
   "cell_type": "code",
   "execution_count": 52,
   "metadata": {},
   "outputs": [
    {
     "data": {
      "text/html": [
       "<div>\n",
       "<style scoped>\n",
       "    .dataframe tbody tr th:only-of-type {\n",
       "        vertical-align: middle;\n",
       "    }\n",
       "\n",
       "    .dataframe tbody tr th {\n",
       "        vertical-align: top;\n",
       "    }\n",
       "\n",
       "    .dataframe thead th {\n",
       "        text-align: right;\n",
       "    }\n",
       "</style>\n",
       "<table border=\"1\" class=\"dataframe\">\n",
       "  <thead>\n",
       "    <tr style=\"text-align: right;\">\n",
       "      <th></th>\n",
       "      <th>model</th>\n",
       "      <th>disbalance</th>\n",
       "      <th>f1_score</th>\n",
       "      <th>auc_roc_score</th>\n",
       "    </tr>\n",
       "  </thead>\n",
       "  <tbody>\n",
       "    <tr>\n",
       "      <th>0</th>\n",
       "      <td>Tree</td>\n",
       "      <td>Not fixed</td>\n",
       "      <td>0.53659</td>\n",
       "      <td>0.792844</td>\n",
       "    </tr>\n",
       "  </tbody>\n",
       "</table>\n",
       "</div>"
      ],
      "text/plain": [
       "  model disbalance  f1_score  auc_roc_score\n",
       "0  Tree  Not fixed   0.53659       0.792844"
      ]
     },
     "execution_count": 52,
     "metadata": {},
     "output_type": "execute_result"
    }
   ],
   "source": [
    "model_results"
   ]
  },
  {
   "cell_type": "markdown",
   "metadata": {},
   "source": [
    "#### Random forest"
   ]
  },
  {
   "cell_type": "markdown",
   "metadata": {},
   "source": [
    "Let's find the best hyperparameters for the random forest:\n",
    "<li>n_estimators - from 10 to 150, with step=10</li>\n",
    "<li>max_depth - from 4 to 10</li>\n",
    "<li>criterion - gini and entropy</li>"
   ]
  },
  {
   "cell_type": "code",
   "execution_count": 53,
   "metadata": {},
   "outputs": [],
   "source": [
    "def find_best_forest_model(_features_train, _features_valid, _target_train, _target_valid): \n",
    "    best_forest_model = None\n",
    "    best_forest_f1_score = 0\n",
    "    best_forest_auc_roc = 0\n",
    "    best_forest_size = 0\n",
    "    best_forest_tree_depth = 0\n",
    "    best_forest_criterion = None\n",
    "\n",
    "    # hyperparameters\n",
    "    num_forest_depths = range(10,151,10)\n",
    "    num_forest_tree_depths = range(4,11)\n",
    "    forest_criterions = ['gini', 'entropy']\n",
    "\n",
    "    for crit in forest_criterions:\n",
    "        for size in num_forest_depths:\n",
    "            for depth in num_forest_tree_depths:\n",
    "                model_forest = (\n",
    "                    RandomForestClassifier(random_state=RANDOM_STATE, n_estimators=size, \n",
    "                                           max_depth=depth, criterion=crit)\n",
    "                )\n",
    "                model_forest.fit(_features_train, _target_train)\n",
    "                predictions_valid = model_forest.predict(_features_valid)\n",
    "                f1 = f1_score(_target_valid, predictions_valid)\n",
    "                \n",
    "                if f1 > best_forest_f1_score:\n",
    "                    best_forest_model = model_forest\n",
    "                    best_forest_f1_score = f1\n",
    "                    best_forest_size = size\n",
    "                    best_forest_tree_depth = depth\n",
    "                    best_forest_criterion = crit\n",
    "                    probabilities_valid = model_forest.predict_proba(_features_valid)\n",
    "                    best_forest_auc_roc = roc_auc_score(_target_valid, probabilities_valid[:, 1])\n",
    "\n",
    "    forest_final_result = {'f1_score':round(best_forest_f1_score, 5),\n",
    "                           'auc_roc': best_forest_auc_roc,\n",
    "                           'tree_depth': best_forest_tree_depth,\n",
    "                           'forest_size': best_forest_size,\n",
    "                           'criterion': best_forest_criterion\n",
    "                          }\n",
    "    return forest_final_result"
   ]
  },
  {
   "cell_type": "code",
   "execution_count": 54,
   "metadata": {},
   "outputs": [],
   "source": [
    "forest_asis_result = find_best_forest_model(features_train, features_valid, target_train, target_valid)"
   ]
  },
  {
   "cell_type": "code",
   "execution_count": 55,
   "metadata": {},
   "outputs": [
    {
     "data": {
      "text/plain": [
       "{'f1_score': 0.54403,\n",
       " 'auc_roc': 0.8454296605576904,\n",
       " 'tree_depth': 10,\n",
       " 'forest_size': 40,\n",
       " 'criterion': 'entropy'}"
      ]
     },
     "execution_count": 55,
     "metadata": {},
     "output_type": "execute_result"
    }
   ],
   "source": [
    "forest_asis_result"
   ]
  },
  {
   "cell_type": "code",
   "execution_count": 56,
   "metadata": {},
   "outputs": [],
   "source": [
    "model_results.loc[len(model_results.index)] = (\n",
    "    ['Forest', 'Not fixed', forest_asis_result['f1_score'], forest_asis_result['auc_roc']]\n",
    ")"
   ]
  },
  {
   "cell_type": "markdown",
   "metadata": {},
   "source": [
    "#### Logistic regression"
   ]
  },
  {
   "cell_type": "markdown",
   "metadata": {},
   "source": [
    "Let's find the best hyperparameters for the logistic regression:\n",
    "<li>max_iter - from 100 to 5000, with step=10</li>\n",
    "<li>multi_class - auto, ovr, or multinomial</li>"
   ]
  },
  {
   "cell_type": "code",
   "execution_count": 57,
   "metadata": {},
   "outputs": [],
   "source": [
    "def find_best_linear_model(_features_train, _features_valid, _target_train, _target_valid): \n",
    "    best_linear_model = None\n",
    "    best_linear_f1_score = 0\n",
    "    best_linear_auc_roc = 0\n",
    "    best_linear_iter = 0\n",
    "    best_linear_class = None\n",
    "\n",
    "    # hyperparameters\n",
    "    iters = range(100, 5001, 100)\n",
    "    multi_classes = ['auto', 'ovr']\n",
    "\n",
    "    for clss in multi_classes:\n",
    "        for itr in iters:\n",
    "            model_linear = (\n",
    "                LogisticRegression(\n",
    "                    random_state=RANDOM_STATE, multi_class=clss, max_iter=itr, \n",
    "                    solver='liblinear', class_weight='balanced'\n",
    "                )\n",
    "            )\n",
    "            model_linear.fit(_features_train, _target_train)\n",
    "            predictions_valid = model_linear.predict(_features_valid)\n",
    "            f1 = f1_score(_target_valid, predictions_valid)\n",
    "            \n",
    "            if f1 > best_linear_f1_score:\n",
    "                best_linear_model = model_linear\n",
    "                probabilities_valid = model_linear.predict_proba(_features_valid)\n",
    "                best_linear_auc_roc = roc_auc_score(_target_valid, probabilities_valid[:, 1])\n",
    "                best_linear_f1_score = f1\n",
    "                best_linear_iter = itr\n",
    "                best_linear_class = clss\n",
    "\n",
    "    linear_final_result = {'f1_score':round(best_linear_f1_score,5),\n",
    "                           'auc_roc': best_linear_auc_roc,\n",
    "                           'max_iters': best_linear_iter,\n",
    "                           'multi_classes': best_linear_class\n",
    "                          }\n",
    "    return linear_final_result"
   ]
  },
  {
   "cell_type": "code",
   "execution_count": 58,
   "metadata": {},
   "outputs": [],
   "source": [
    "linear_asis_result = find_best_linear_model(features_train, features_valid, target_train, target_valid)"
   ]
  },
  {
   "cell_type": "code",
   "execution_count": 59,
   "metadata": {},
   "outputs": [
    {
     "data": {
      "text/plain": [
       "{'f1_score': 0.48367,\n",
       " 'auc_roc': 0.7661453714651689,\n",
       " 'max_iters': 100,\n",
       " 'multi_classes': 'auto'}"
      ]
     },
     "execution_count": 59,
     "metadata": {},
     "output_type": "execute_result"
    }
   ],
   "source": [
    "linear_asis_result"
   ]
  },
  {
   "cell_type": "code",
   "execution_count": 60,
   "metadata": {},
   "outputs": [],
   "source": [
    "model_results.loc[len(model_results.index)] = (\n",
    "    ['Linear', 'Not fixed', linear_asis_result['f1_score'], linear_asis_result['auc_roc']]\n",
    ")"
   ]
  },
  {
   "cell_type": "markdown",
   "metadata": {},
   "source": [
    "#### Training results"
   ]
  },
  {
   "cell_type": "markdown",
   "metadata": {},
   "source": [
    "Let's look again at the training results of 3 types of models"
   ]
  },
  {
   "cell_type": "code",
   "execution_count": 61,
   "metadata": {},
   "outputs": [
    {
     "data": {
      "text/html": [
       "<div>\n",
       "<style scoped>\n",
       "    .dataframe tbody tr th:only-of-type {\n",
       "        vertical-align: middle;\n",
       "    }\n",
       "\n",
       "    .dataframe tbody tr th {\n",
       "        vertical-align: top;\n",
       "    }\n",
       "\n",
       "    .dataframe thead th {\n",
       "        text-align: right;\n",
       "    }\n",
       "</style>\n",
       "<table border=\"1\" class=\"dataframe\">\n",
       "  <thead>\n",
       "    <tr style=\"text-align: right;\">\n",
       "      <th></th>\n",
       "      <th>model</th>\n",
       "      <th>disbalance</th>\n",
       "      <th>f1_score</th>\n",
       "      <th>auc_roc_score</th>\n",
       "    </tr>\n",
       "  </thead>\n",
       "  <tbody>\n",
       "    <tr>\n",
       "      <th>0</th>\n",
       "      <td>Tree</td>\n",
       "      <td>Not fixed</td>\n",
       "      <td>0.53659</td>\n",
       "      <td>0.792844</td>\n",
       "    </tr>\n",
       "    <tr>\n",
       "      <th>1</th>\n",
       "      <td>Forest</td>\n",
       "      <td>Not fixed</td>\n",
       "      <td>0.54403</td>\n",
       "      <td>0.845430</td>\n",
       "    </tr>\n",
       "    <tr>\n",
       "      <th>2</th>\n",
       "      <td>Linear</td>\n",
       "      <td>Not fixed</td>\n",
       "      <td>0.48367</td>\n",
       "      <td>0.766145</td>\n",
       "    </tr>\n",
       "  </tbody>\n",
       "</table>\n",
       "</div>"
      ],
      "text/plain": [
       "    model disbalance  f1_score  auc_roc_score\n",
       "0    Tree  Not fixed   0.53659       0.792844\n",
       "1  Forest  Not fixed   0.54403       0.845430\n",
       "2  Linear  Not fixed   0.48367       0.766145"
      ]
     },
     "execution_count": 61,
     "metadata": {},
     "output_type": "execute_result"
    }
   ],
   "source": [
    "model_results[model_results['disbalance'] == 'Not fixed']"
   ]
  },
  {
   "cell_type": "markdown",
   "metadata": {},
   "source": [
    "Here we see that the random forest has the best performance."
   ]
  },
  {
   "cell_type": "markdown",
   "metadata": {},
   "source": [
    "## Dealing with imbalance"
   ]
  },
  {
   "cell_type": "markdown",
   "metadata": {},
   "source": [
    "Now let's try different ways to get rid of the imbalance and train our models"
   ]
  },
  {
   "cell_type": "markdown",
   "metadata": {},
   "source": [
    "### Upsampling"
   ]
  },
  {
   "cell_type": "markdown",
   "metadata": {},
   "source": [
    "Let's create a function that will make N times more lines with exited=1 "
   ]
  },
  {
   "cell_type": "code",
   "execution_count": 62,
   "metadata": {},
   "outputs": [],
   "source": [
    "def upsample(features, target, repeat):\n",
    "    features_zeros = features[target == 0]\n",
    "    features_ones = features[target == 1]\n",
    "    target_zeros = target[target == 0]\n",
    "    target_ones = target[target == 1]\n",
    "\n",
    "    features_upsampled = pd.concat([features_zeros] + [features_ones] * repeat)\n",
    "    target_upsampled = pd.concat([target_zeros] + [target_ones] * repeat)\n",
    "    \n",
    "    features_upsampled, target_upsampled = shuffle(\n",
    "        features_upsampled, target_upsampled, random_state=RANDOM_STATE)\n",
    "    \n",
    "    return features_upsampled, target_upsampled"
   ]
  },
  {
   "cell_type": "markdown",
   "metadata": {},
   "source": [
    "By how much do we need to increase the number of lines with exited=1?"
   ]
  },
  {
   "cell_type": "code",
   "execution_count": 63,
   "metadata": {},
   "outputs": [
    {
     "data": {
      "text/plain": [
       "0.0    0.796333\n",
       "1.0    0.203667\n",
       "Name: exited, dtype: float64"
      ]
     },
     "execution_count": 63,
     "metadata": {},
     "output_type": "execute_result"
    }
   ],
   "source": [
    "target_train.value_counts(normalize=True)"
   ]
  },
  {
   "cell_type": "markdown",
   "metadata": {},
   "source": [
    "Approximately 4 times as many. Let's do it with a new function"
   ]
  },
  {
   "cell_type": "code",
   "execution_count": 64,
   "metadata": {},
   "outputs": [],
   "source": [
    "features_train_upsampled, target_train_upsampled = upsample(features_train, target_train, 4)"
   ]
  },
  {
   "cell_type": "markdown",
   "metadata": {},
   "source": [
    "Let's look at the balance now"
   ]
  },
  {
   "cell_type": "code",
   "execution_count": 65,
   "metadata": {},
   "outputs": [
    {
     "data": {
      "text/plain": [
       "1.0    0.50569\n",
       "0.0    0.49431\n",
       "Name: exited, dtype: float64"
      ]
     },
     "execution_count": 65,
     "metadata": {},
     "output_type": "execute_result"
    }
   ],
   "source": [
    "target_train_upsampled.value_counts(normalize=True)"
   ]
  },
  {
   "cell_type": "markdown",
   "metadata": {},
   "source": [
    "Almost 50/50."
   ]
  },
  {
   "cell_type": "markdown",
   "metadata": {},
   "source": [
    "#### Decision tree"
   ]
  },
  {
   "cell_type": "code",
   "execution_count": 66,
   "metadata": {},
   "outputs": [],
   "source": [
    "tree_upsampled_result = find_best_tree_model(\n",
    "    features_train_upsampled, features_valid, target_train_upsampled, target_valid\n",
    ")"
   ]
  },
  {
   "cell_type": "code",
   "execution_count": 67,
   "metadata": {},
   "outputs": [
    {
     "data": {
      "text/plain": [
       "{'f1_score': 0.55982,\n",
       " 'auc_roc': 0.8080144903438761,\n",
       " 'depth': 5,\n",
       " 'splitter': 'best',\n",
       " 'citerion': 'gini'}"
      ]
     },
     "execution_count": 67,
     "metadata": {},
     "output_type": "execute_result"
    }
   ],
   "source": [
    "tree_upsampled_result"
   ]
  },
  {
   "cell_type": "code",
   "execution_count": 68,
   "metadata": {},
   "outputs": [],
   "source": [
    "model_results.loc[len(model_results.index)] = (\n",
    "    ['Tree', 'Upsampled', tree_upsampled_result['f1_score'], tree_upsampled_result['auc_roc']]\n",
    ")"
   ]
  },
  {
   "cell_type": "code",
   "execution_count": 69,
   "metadata": {},
   "outputs": [
    {
     "data": {
      "text/html": [
       "<div>\n",
       "<style scoped>\n",
       "    .dataframe tbody tr th:only-of-type {\n",
       "        vertical-align: middle;\n",
       "    }\n",
       "\n",
       "    .dataframe tbody tr th {\n",
       "        vertical-align: top;\n",
       "    }\n",
       "\n",
       "    .dataframe thead th {\n",
       "        text-align: right;\n",
       "    }\n",
       "</style>\n",
       "<table border=\"1\" class=\"dataframe\">\n",
       "  <thead>\n",
       "    <tr style=\"text-align: right;\">\n",
       "      <th></th>\n",
       "      <th>model</th>\n",
       "      <th>disbalance</th>\n",
       "      <th>f1_score</th>\n",
       "      <th>auc_roc_score</th>\n",
       "    </tr>\n",
       "  </thead>\n",
       "  <tbody>\n",
       "    <tr>\n",
       "      <th>0</th>\n",
       "      <td>Tree</td>\n",
       "      <td>Not fixed</td>\n",
       "      <td>0.53659</td>\n",
       "      <td>0.792844</td>\n",
       "    </tr>\n",
       "    <tr>\n",
       "      <th>1</th>\n",
       "      <td>Forest</td>\n",
       "      <td>Not fixed</td>\n",
       "      <td>0.54403</td>\n",
       "      <td>0.845430</td>\n",
       "    </tr>\n",
       "    <tr>\n",
       "      <th>2</th>\n",
       "      <td>Linear</td>\n",
       "      <td>Not fixed</td>\n",
       "      <td>0.48367</td>\n",
       "      <td>0.766145</td>\n",
       "    </tr>\n",
       "    <tr>\n",
       "      <th>3</th>\n",
       "      <td>Tree</td>\n",
       "      <td>Upsampled</td>\n",
       "      <td>0.55982</td>\n",
       "      <td>0.808014</td>\n",
       "    </tr>\n",
       "  </tbody>\n",
       "</table>\n",
       "</div>"
      ],
      "text/plain": [
       "    model disbalance  f1_score  auc_roc_score\n",
       "0    Tree  Not fixed   0.53659       0.792844\n",
       "1  Forest  Not fixed   0.54403       0.845430\n",
       "2  Linear  Not fixed   0.48367       0.766145\n",
       "3    Tree  Upsampled   0.55982       0.808014"
      ]
     },
     "execution_count": 69,
     "metadata": {},
     "output_type": "execute_result"
    }
   ],
   "source": [
    "model_results"
   ]
  },
  {
   "cell_type": "markdown",
   "metadata": {},
   "source": [
    "#### Random forest"
   ]
  },
  {
   "cell_type": "code",
   "execution_count": 70,
   "metadata": {},
   "outputs": [],
   "source": [
    "forest_upsampled_result = find_best_forest_model(\n",
    "    features_train_upsampled, features_valid, target_train_upsampled, target_valid\n",
    ")"
   ]
  },
  {
   "cell_type": "code",
   "execution_count": 71,
   "metadata": {},
   "outputs": [
    {
     "data": {
      "text/plain": [
       "{'f1_score': 0.58559,\n",
       " 'auc_roc': 0.8424567691398167,\n",
       " 'tree_depth': 10,\n",
       " 'forest_size': 140,\n",
       " 'criterion': 'gini'}"
      ]
     },
     "execution_count": 71,
     "metadata": {},
     "output_type": "execute_result"
    }
   ],
   "source": [
    "forest_upsampled_result"
   ]
  },
  {
   "cell_type": "code",
   "execution_count": 72,
   "metadata": {},
   "outputs": [],
   "source": [
    "model_results.loc[len(model_results.index)] = (\n",
    "    ['Forest', 'Upsampled', forest_upsampled_result['f1_score'], forest_upsampled_result['auc_roc']]\n",
    ")"
   ]
  },
  {
   "cell_type": "code",
   "execution_count": 73,
   "metadata": {},
   "outputs": [
    {
     "data": {
      "text/html": [
       "<div>\n",
       "<style scoped>\n",
       "    .dataframe tbody tr th:only-of-type {\n",
       "        vertical-align: middle;\n",
       "    }\n",
       "\n",
       "    .dataframe tbody tr th {\n",
       "        vertical-align: top;\n",
       "    }\n",
       "\n",
       "    .dataframe thead th {\n",
       "        text-align: right;\n",
       "    }\n",
       "</style>\n",
       "<table border=\"1\" class=\"dataframe\">\n",
       "  <thead>\n",
       "    <tr style=\"text-align: right;\">\n",
       "      <th></th>\n",
       "      <th>model</th>\n",
       "      <th>disbalance</th>\n",
       "      <th>f1_score</th>\n",
       "      <th>auc_roc_score</th>\n",
       "    </tr>\n",
       "  </thead>\n",
       "  <tbody>\n",
       "    <tr>\n",
       "      <th>0</th>\n",
       "      <td>Tree</td>\n",
       "      <td>Not fixed</td>\n",
       "      <td>0.53659</td>\n",
       "      <td>0.792844</td>\n",
       "    </tr>\n",
       "    <tr>\n",
       "      <th>1</th>\n",
       "      <td>Forest</td>\n",
       "      <td>Not fixed</td>\n",
       "      <td>0.54403</td>\n",
       "      <td>0.845430</td>\n",
       "    </tr>\n",
       "    <tr>\n",
       "      <th>2</th>\n",
       "      <td>Linear</td>\n",
       "      <td>Not fixed</td>\n",
       "      <td>0.48367</td>\n",
       "      <td>0.766145</td>\n",
       "    </tr>\n",
       "    <tr>\n",
       "      <th>3</th>\n",
       "      <td>Tree</td>\n",
       "      <td>Upsampled</td>\n",
       "      <td>0.55982</td>\n",
       "      <td>0.808014</td>\n",
       "    </tr>\n",
       "    <tr>\n",
       "      <th>4</th>\n",
       "      <td>Forest</td>\n",
       "      <td>Upsampled</td>\n",
       "      <td>0.58559</td>\n",
       "      <td>0.842457</td>\n",
       "    </tr>\n",
       "  </tbody>\n",
       "</table>\n",
       "</div>"
      ],
      "text/plain": [
       "    model disbalance  f1_score  auc_roc_score\n",
       "0    Tree  Not fixed   0.53659       0.792844\n",
       "1  Forest  Not fixed   0.54403       0.845430\n",
       "2  Linear  Not fixed   0.48367       0.766145\n",
       "3    Tree  Upsampled   0.55982       0.808014\n",
       "4  Forest  Upsampled   0.58559       0.842457"
      ]
     },
     "execution_count": 73,
     "metadata": {},
     "output_type": "execute_result"
    }
   ],
   "source": [
    "model_results"
   ]
  },
  {
   "cell_type": "markdown",
   "metadata": {},
   "source": [
    "#### Logistic regression"
   ]
  },
  {
   "cell_type": "code",
   "execution_count": 74,
   "metadata": {},
   "outputs": [],
   "source": [
    "linear_upsampled_result = find_best_linear_model(\n",
    "    features_train_upsampled, features_valid, target_train_upsampled, target_valid\n",
    ")"
   ]
  },
  {
   "cell_type": "code",
   "execution_count": 75,
   "metadata": {},
   "outputs": [
    {
     "data": {
      "text/plain": [
       "{'f1_score': 0.48367,\n",
       " 'auc_roc': 0.7661469110257167,\n",
       " 'max_iters': 100,\n",
       " 'multi_classes': 'auto'}"
      ]
     },
     "execution_count": 75,
     "metadata": {},
     "output_type": "execute_result"
    }
   ],
   "source": [
    "linear_upsampled_result"
   ]
  },
  {
   "cell_type": "code",
   "execution_count": 76,
   "metadata": {},
   "outputs": [],
   "source": [
    "model_results.loc[len(model_results.index)] = (\n",
    "    ['Linear', 'Upsampled', linear_upsampled_result['f1_score'], linear_upsampled_result['auc_roc']]\n",
    ")"
   ]
  },
  {
   "cell_type": "markdown",
   "metadata": {},
   "source": [
    "#### Training results"
   ]
  },
  {
   "cell_type": "code",
   "execution_count": 77,
   "metadata": {},
   "outputs": [
    {
     "data": {
      "text/html": [
       "<div>\n",
       "<style scoped>\n",
       "    .dataframe tbody tr th:only-of-type {\n",
       "        vertical-align: middle;\n",
       "    }\n",
       "\n",
       "    .dataframe tbody tr th {\n",
       "        vertical-align: top;\n",
       "    }\n",
       "\n",
       "    .dataframe thead th {\n",
       "        text-align: right;\n",
       "    }\n",
       "</style>\n",
       "<table border=\"1\" class=\"dataframe\">\n",
       "  <thead>\n",
       "    <tr style=\"text-align: right;\">\n",
       "      <th></th>\n",
       "      <th>model</th>\n",
       "      <th>disbalance</th>\n",
       "      <th>f1_score</th>\n",
       "      <th>auc_roc_score</th>\n",
       "    </tr>\n",
       "  </thead>\n",
       "  <tbody>\n",
       "    <tr>\n",
       "      <th>3</th>\n",
       "      <td>Tree</td>\n",
       "      <td>Upsampled</td>\n",
       "      <td>0.55982</td>\n",
       "      <td>0.808014</td>\n",
       "    </tr>\n",
       "    <tr>\n",
       "      <th>4</th>\n",
       "      <td>Forest</td>\n",
       "      <td>Upsampled</td>\n",
       "      <td>0.58559</td>\n",
       "      <td>0.842457</td>\n",
       "    </tr>\n",
       "    <tr>\n",
       "      <th>5</th>\n",
       "      <td>Linear</td>\n",
       "      <td>Upsampled</td>\n",
       "      <td>0.48367</td>\n",
       "      <td>0.766147</td>\n",
       "    </tr>\n",
       "  </tbody>\n",
       "</table>\n",
       "</div>"
      ],
      "text/plain": [
       "    model disbalance  f1_score  auc_roc_score\n",
       "3    Tree  Upsampled   0.55982       0.808014\n",
       "4  Forest  Upsampled   0.58559       0.842457\n",
       "5  Linear  Upsampled   0.48367       0.766147"
      ]
     },
     "execution_count": 77,
     "metadata": {},
     "output_type": "execute_result"
    }
   ],
   "source": [
    "model_results[model_results['disbalance'] == 'Upsampled']"
   ]
  },
  {
   "cell_type": "markdown",
   "metadata": {},
   "source": [
    "Random forest is the best model again"
   ]
  },
  {
   "cell_type": "markdown",
   "metadata": {},
   "source": [
    "### Downsampling"
   ]
  },
  {
   "cell_type": "markdown",
   "metadata": {},
   "source": [
    "Let's create a function that will make N times less lines with exited=0"
   ]
  },
  {
   "cell_type": "code",
   "execution_count": 78,
   "metadata": {},
   "outputs": [],
   "source": [
    "def downsample(features, target, fraction):\n",
    "    features_zeros = features[target == 0]\n",
    "    features_ones = features[target == 1]\n",
    "    target_zeros = target[target == 0]\n",
    "    target_ones = target[target == 1]\n",
    "    \n",
    "    features_downsampled = pd.concat(\n",
    "        [features_zeros.sample(frac=fraction, random_state=RANDOM_STATE)] + [features_ones])\n",
    "    \n",
    "    target_downsampled = pd.concat(\n",
    "        [target_zeros.sample(frac=fraction, random_state=RANDOM_STATE)] + [target_ones])\n",
    "\n",
    "    features_downsampled, target_downsampled = shuffle(\n",
    "        features_downsampled, target_downsampled, random_state=RANDOM_STATE\n",
    "    )\n",
    "    \n",
    "    return features_downsampled, target_downsampled"
   ]
  },
  {
   "cell_type": "code",
   "execution_count": 79,
   "metadata": {},
   "outputs": [
    {
     "data": {
      "text/plain": [
       "0.0    0.796333\n",
       "1.0    0.203667\n",
       "Name: exited, dtype: float64"
      ]
     },
     "execution_count": 79,
     "metadata": {},
     "output_type": "execute_result"
    }
   ],
   "source": [
    "target_train.value_counts(normalize=True)"
   ]
  },
  {
   "cell_type": "code",
   "execution_count": 80,
   "metadata": {},
   "outputs": [],
   "source": [
    "features_train_downsampled, target_train_downsampled = downsample(features_train, target_train, 0.4)"
   ]
  },
  {
   "cell_type": "code",
   "execution_count": 81,
   "metadata": {},
   "outputs": [
    {
     "data": {
      "text/plain": [
       "0.0    0.609959\n",
       "1.0    0.390041\n",
       "Name: exited, dtype: float64"
      ]
     },
     "execution_count": 81,
     "metadata": {},
     "output_type": "execute_result"
    }
   ],
   "source": [
    "target_train_downsampled.value_counts(normalize=True)"
   ]
  },
  {
   "cell_type": "markdown",
   "metadata": {},
   "source": [
    "#### Decision tree"
   ]
  },
  {
   "cell_type": "code",
   "execution_count": 82,
   "metadata": {},
   "outputs": [],
   "source": [
    "tree_downsampled_result = find_best_tree_model(\n",
    "    features_train_downsampled, features_valid, target_train_downsampled, target_valid\n",
    ")"
   ]
  },
  {
   "cell_type": "code",
   "execution_count": 83,
   "metadata": {},
   "outputs": [
    {
     "data": {
      "text/plain": [
       "{'f1_score': 0.55644,\n",
       " 'auc_roc': 0.8042302505172924,\n",
       " 'depth': 5,\n",
       " 'splitter': 'best',\n",
       " 'citerion': 'gini'}"
      ]
     },
     "execution_count": 83,
     "metadata": {},
     "output_type": "execute_result"
    }
   ],
   "source": [
    "tree_downsampled_result"
   ]
  },
  {
   "cell_type": "code",
   "execution_count": 84,
   "metadata": {},
   "outputs": [],
   "source": [
    "model_results.loc[len(model_results.index)] = (\n",
    "    ['Tree', 'Downsampled', tree_downsampled_result['f1_score'], tree_downsampled_result['auc_roc']]\n",
    ")"
   ]
  },
  {
   "cell_type": "markdown",
   "metadata": {},
   "source": [
    "#### Random forest"
   ]
  },
  {
   "cell_type": "code",
   "execution_count": 85,
   "metadata": {},
   "outputs": [],
   "source": [
    "forest_downsampled_result = find_best_forest_model(\n",
    "    features_train_downsampled, features_valid, target_train_downsampled, target_valid\n",
    ")"
   ]
  },
  {
   "cell_type": "code",
   "execution_count": 86,
   "metadata": {},
   "outputs": [
    {
     "data": {
      "text/plain": [
       "{'f1_score': 0.58041,\n",
       " 'auc_roc': 0.8407409289092521,\n",
       " 'tree_depth': 9,\n",
       " 'forest_size': 50,\n",
       " 'criterion': 'entropy'}"
      ]
     },
     "execution_count": 86,
     "metadata": {},
     "output_type": "execute_result"
    }
   ],
   "source": [
    "forest_downsampled_result"
   ]
  },
  {
   "cell_type": "code",
   "execution_count": 87,
   "metadata": {},
   "outputs": [],
   "source": [
    "model_results.loc[len(model_results.index)] = (\n",
    "    ['Forest', 'Downsampled', forest_downsampled_result['f1_score'], forest_downsampled_result['auc_roc']]\n",
    ")"
   ]
  },
  {
   "cell_type": "markdown",
   "metadata": {},
   "source": [
    "#### Logistic regression"
   ]
  },
  {
   "cell_type": "code",
   "execution_count": 88,
   "metadata": {},
   "outputs": [],
   "source": [
    "linear_downsampled_result = find_best_linear_model(\n",
    "    features_train_downsampled, features_valid, target_train_downsampled, target_valid\n",
    ")"
   ]
  },
  {
   "cell_type": "code",
   "execution_count": 89,
   "metadata": {},
   "outputs": [
    {
     "data": {
      "text/plain": [
       "{'f1_score': 0.48811,\n",
       " 'auc_roc': 0.7693738299339836,\n",
       " 'max_iters': 100,\n",
       " 'multi_classes': 'auto'}"
      ]
     },
     "execution_count": 89,
     "metadata": {},
     "output_type": "execute_result"
    }
   ],
   "source": [
    "linear_downsampled_result"
   ]
  },
  {
   "cell_type": "code",
   "execution_count": 90,
   "metadata": {},
   "outputs": [],
   "source": [
    "model_results.loc[len(model_results.index)] = (\n",
    "    ['Linear', 'Downsampled', linear_downsampled_result['f1_score'], linear_downsampled_result['auc_roc']]\n",
    ")"
   ]
  },
  {
   "cell_type": "markdown",
   "metadata": {},
   "source": [
    "#### Training results"
   ]
  },
  {
   "cell_type": "code",
   "execution_count": 91,
   "metadata": {},
   "outputs": [
    {
     "data": {
      "text/html": [
       "<div>\n",
       "<style scoped>\n",
       "    .dataframe tbody tr th:only-of-type {\n",
       "        vertical-align: middle;\n",
       "    }\n",
       "\n",
       "    .dataframe tbody tr th {\n",
       "        vertical-align: top;\n",
       "    }\n",
       "\n",
       "    .dataframe thead th {\n",
       "        text-align: right;\n",
       "    }\n",
       "</style>\n",
       "<table border=\"1\" class=\"dataframe\">\n",
       "  <thead>\n",
       "    <tr style=\"text-align: right;\">\n",
       "      <th></th>\n",
       "      <th>model</th>\n",
       "      <th>disbalance</th>\n",
       "      <th>f1_score</th>\n",
       "      <th>auc_roc_score</th>\n",
       "    </tr>\n",
       "  </thead>\n",
       "  <tbody>\n",
       "    <tr>\n",
       "      <th>6</th>\n",
       "      <td>Tree</td>\n",
       "      <td>Downsampled</td>\n",
       "      <td>0.55644</td>\n",
       "      <td>0.804230</td>\n",
       "    </tr>\n",
       "    <tr>\n",
       "      <th>7</th>\n",
       "      <td>Forest</td>\n",
       "      <td>Downsampled</td>\n",
       "      <td>0.58041</td>\n",
       "      <td>0.840741</td>\n",
       "    </tr>\n",
       "    <tr>\n",
       "      <th>8</th>\n",
       "      <td>Linear</td>\n",
       "      <td>Downsampled</td>\n",
       "      <td>0.48811</td>\n",
       "      <td>0.769374</td>\n",
       "    </tr>\n",
       "  </tbody>\n",
       "</table>\n",
       "</div>"
      ],
      "text/plain": [
       "    model   disbalance  f1_score  auc_roc_score\n",
       "6    Tree  Downsampled   0.55644       0.804230\n",
       "7  Forest  Downsampled   0.58041       0.840741\n",
       "8  Linear  Downsampled   0.48811       0.769374"
      ]
     },
     "execution_count": 91,
     "metadata": {},
     "output_type": "execute_result"
    }
   ],
   "source": [
    "model_results[model_results['disbalance'] == 'Downsampled']"
   ]
  },
  {
   "cell_type": "markdown",
   "metadata": {},
   "source": [
    "Random forest again is the best model"
   ]
  },
  {
   "cell_type": "markdown",
   "metadata": {},
   "source": [
    "### Classification threshold"
   ]
  },
  {
   "cell_type": "markdown",
   "metadata": {},
   "source": [
    "Now let's see how changing the threshold will affect our F1 metric"
   ]
  },
  {
   "cell_type": "markdown",
   "metadata": {},
   "source": [
    "#### Decision tree"
   ]
  },
  {
   "cell_type": "code",
   "execution_count": 92,
   "metadata": {},
   "outputs": [],
   "source": [
    "def find_best_tree_model_threshold(_features_train, _features_valid, _target_train, _target_valid): \n",
    "    best_tree_model = None\n",
    "    best_tree_f1_score = 0\n",
    "    best_tree_auc_roc = 0\n",
    "    best_tree_depth = 0\n",
    "    best_tree_splitter = None\n",
    "    best_tree_criterion = None\n",
    "    best_tree_threshold = 0\n",
    "\n",
    "    # hyperparameters\n",
    "    num_tree_depths = 10\n",
    "    splitters = ['best', 'random']\n",
    "    tree_criterions = ['gini', 'entropy']\n",
    "\n",
    "    for spltr in splitters:\n",
    "        for crit in tree_criterions:\n",
    "            for depth in range(1,num_tree_depths+1):\n",
    "                model_tree = (\n",
    "                    DecisionTreeClassifier(random_state=RANDOM_STATE, max_depth=depth, \n",
    "                                           splitter=spltr, criterion=crit)\n",
    "                )\n",
    "                model_tree.fit(_features_train, _target_train)\n",
    "                probabilities_valid = model_tree.predict_proba(_features_valid)\n",
    "                probabilities_one_valid = probabilities_valid[:, 1]\n",
    "                \n",
    "                for threshold in np.arange(0, 0.7, 0.02):\n",
    "                    predicted_valid = probabilities_one_valid > threshold \n",
    "                    f1 = f1_score(_target_valid, predicted_valid)\n",
    "                \n",
    "                if f1 > best_tree_f1_score:\n",
    "                    best_tree_model = model_tree\n",
    "                    best_tree_f1_score = f1\n",
    "                    best_tree_depth = depth\n",
    "                    best_tree_splitter = spltr\n",
    "                    best_tree_criterion = crit\n",
    "                    best_tree_auc_roc = round(roc_auc_score(_target_valid, predicted_valid),5)\n",
    "                    best_tree_threshold = threshold\n",
    "\n",
    "    tree_final_result = {'f1_score':round(best_tree_f1_score, 5),\n",
    "                         'auc_roc': best_tree_auc_roc,\n",
    "                         'depth': best_tree_depth,\n",
    "                         'splitter': best_tree_splitter,\n",
    "                         'citerion': best_tree_criterion,\n",
    "                         'threshold': best_tree_threshold\n",
    "                        }\n",
    "    return tree_final_result"
   ]
  },
  {
   "cell_type": "code",
   "execution_count": 93,
   "metadata": {},
   "outputs": [],
   "source": [
    "tree_threshold_result = find_best_tree_model_threshold(features_train, features_valid, target_train, target_valid)"
   ]
  },
  {
   "cell_type": "code",
   "execution_count": 94,
   "metadata": {},
   "outputs": [
    {
     "data": {
      "text/plain": [
       "{'f1_score': 0.51183,\n",
       " 'auc_roc': 0.68217,\n",
       " 'depth': 10,\n",
       " 'splitter': 'best',\n",
       " 'citerion': 'gini',\n",
       " 'threshold': 0.68}"
      ]
     },
     "execution_count": 94,
     "metadata": {},
     "output_type": "execute_result"
    }
   ],
   "source": [
    "tree_threshold_result"
   ]
  },
  {
   "cell_type": "code",
   "execution_count": 95,
   "metadata": {},
   "outputs": [],
   "source": [
    "model_results.loc[len(model_results.index)] = (\n",
    "    ['Tree', 'Threshold', tree_threshold_result['f1_score'], tree_threshold_result['auc_roc']]\n",
    ")"
   ]
  },
  {
   "cell_type": "markdown",
   "metadata": {},
   "source": [
    "#### Random forest"
   ]
  },
  {
   "cell_type": "code",
   "execution_count": 96,
   "metadata": {},
   "outputs": [],
   "source": [
    "def find_best_forest_model_threshold(_features_train, _features_valid, _target_train, _target_valid): \n",
    "    best_forest_model = None\n",
    "    best_forest_f1_score = 0\n",
    "    best_forest_auc_roc = 0\n",
    "    best_forest_size = 0\n",
    "    best_forest_tree_depth = 0\n",
    "    best_forest_criterion = None\n",
    "    best_forest_threshold = 0\n",
    "\n",
    "    # hyperparameters\n",
    "    num_forest_depths = range(10,151,10)\n",
    "    num_forest_tree_depths = range(4,11)\n",
    "    forest_criterions = ['gini', 'entropy']\n",
    "\n",
    "    for crit in forest_criterions:\n",
    "        for size in num_forest_depths:\n",
    "            for depth in num_forest_tree_depths:\n",
    "                model_forest = (\n",
    "                    RandomForestClassifier(random_state=RANDOM_STATE, n_estimators=size, \n",
    "                                           max_depth=depth, criterion=crit)\n",
    "                )\n",
    "                model_forest.fit(_features_train, _target_train)\n",
    "                probabilities_valid = model_forest.predict_proba(_features_valid)\n",
    "                probabilities_one_valid = probabilities_valid[:, 1]\n",
    "                \n",
    "                for threshold in np.arange(0, 0.7, 0.02):\n",
    "                    predicted_valid = probabilities_one_valid > threshold \n",
    "                    f1 = f1_score(_target_valid, predicted_valid)\n",
    "                \n",
    "                    if f1 > best_forest_f1_score:\n",
    "                        best_forest_model = model_forest\n",
    "                        best_forest_f1_score = f1\n",
    "                        best_forest_size = size\n",
    "                        best_forest_tree_depth = depth\n",
    "                        best_forest_criterion = crit\n",
    "                        best_forest_auc_roc = round(roc_auc_score(_target_valid, predicted_valid),5)\n",
    "                        best_forest_threshold = threshold\n",
    "\n",
    "    forest_final_result = {'f1_score':round(best_forest_f1_score, 5),\n",
    "                           'auc_roc': best_forest_auc_roc,\n",
    "                           'tree_depth': best_forest_tree_depth,\n",
    "                           'forest_size': best_forest_size,\n",
    "                           'criterion': best_forest_criterion,\n",
    "                           'threshold': best_forest_threshold\n",
    "                          }\n",
    "    return forest_final_result"
   ]
  },
  {
   "cell_type": "code",
   "execution_count": 97,
   "metadata": {},
   "outputs": [],
   "source": [
    "forest_threshold_result = find_best_forest_model_threshold(features_train, features_valid, target_train, target_valid)"
   ]
  },
  {
   "cell_type": "code",
   "execution_count": 98,
   "metadata": {},
   "outputs": [
    {
     "data": {
      "text/plain": [
       "{'f1_score': 0.60255,\n",
       " 'auc_roc': 0.75738,\n",
       " 'tree_depth': 10,\n",
       " 'forest_size': 40,\n",
       " 'criterion': 'entropy',\n",
       " 'threshold': 0.28}"
      ]
     },
     "execution_count": 98,
     "metadata": {},
     "output_type": "execute_result"
    }
   ],
   "source": [
    "forest_threshold_result"
   ]
  },
  {
   "cell_type": "code",
   "execution_count": 99,
   "metadata": {},
   "outputs": [],
   "source": [
    "model_results.loc[len(model_results.index)] = (\n",
    "    ['Forest', 'Threshold', forest_threshold_result['f1_score'], forest_threshold_result['auc_roc']]\n",
    ")"
   ]
  },
  {
   "cell_type": "markdown",
   "metadata": {},
   "source": [
    "#### Logistic regression"
   ]
  },
  {
   "cell_type": "code",
   "execution_count": 100,
   "metadata": {},
   "outputs": [],
   "source": [
    "def find_best_linear_model_threshold(_features_train, _features_valid, _target_train, _target_valid): \n",
    "    best_linear_model = None\n",
    "    best_linear_f1_score = 0\n",
    "    best_linear_auc_roc = 0\n",
    "    best_linear_iter = 0\n",
    "    best_linear_class = None\n",
    "    best_linear_threshold = 0\n",
    "\n",
    "    # hyperparameters\n",
    "    iters = range(100, 5001, 100)\n",
    "    multi_classes = ['auto', 'ovr']\n",
    "\n",
    "    for clss in multi_classes:\n",
    "        for itr in iters:\n",
    "            model_linear = (\n",
    "                LogisticRegression(\n",
    "                    random_state=RANDOM_STATE, multi_class=clss, max_iter=itr, \n",
    "                    solver='liblinear', class_weight='balanced'\n",
    "                )\n",
    "            )\n",
    "            model_linear.fit(_features_train, _target_train)\n",
    "            probabilities_valid = model_linear.predict_proba(_features_valid)\n",
    "            probabilities_one_valid = probabilities_valid[:, 1]\n",
    "            \n",
    "            for threshold in np.arange(0, 0.7, 0.02):\n",
    "                predicted_valid = probabilities_one_valid > threshold \n",
    "                f1 = f1_score(_target_valid, predicted_valid)\n",
    "                \n",
    "\n",
    "                if f1 > best_linear_f1_score:\n",
    "                    best_linear_model = model_linear\n",
    "                    best_linear_auc_roc = round(roc_auc_score(_target_valid, predicted_valid),5)\n",
    "                    best_linear_f1_score = f1\n",
    "                    best_linear_iter = itr\n",
    "                    best_linear_class = clss\n",
    "                    best_linear_threshold = threshold\n",
    "\n",
    "    linear_final_result = {'f1_score':round(best_linear_f1_score,5),\n",
    "                           'auc_roc': best_linear_auc_roc,\n",
    "                           'max_iters': best_linear_iter,\n",
    "                           'multi_classes': best_linear_class,\n",
    "                           'threshold': best_linear_threshold\n",
    "                          }\n",
    "    return linear_final_result"
   ]
  },
  {
   "cell_type": "code",
   "execution_count": 101,
   "metadata": {},
   "outputs": [],
   "source": [
    "linear_threshold_result = find_best_linear_model_threshold(features_train, features_valid, target_train, target_valid)"
   ]
  },
  {
   "cell_type": "code",
   "execution_count": 102,
   "metadata": {},
   "outputs": [
    {
     "data": {
      "text/plain": [
       "{'f1_score': 0.48485,\n",
       " 'auc_roc': 0.69256,\n",
       " 'max_iters': 100,\n",
       " 'multi_classes': 'auto',\n",
       " 'threshold': 0.52}"
      ]
     },
     "execution_count": 102,
     "metadata": {},
     "output_type": "execute_result"
    }
   ],
   "source": [
    "linear_threshold_result"
   ]
  },
  {
   "cell_type": "code",
   "execution_count": 103,
   "metadata": {},
   "outputs": [],
   "source": [
    "model_results.loc[len(model_results.index)] = (\n",
    "    ['Linear', 'Threshold', linear_threshold_result['f1_score'], linear_threshold_result['auc_roc']]\n",
    ")"
   ]
  },
  {
   "cell_type": "markdown",
   "metadata": {},
   "source": [
    "#### Training results"
   ]
  },
  {
   "cell_type": "code",
   "execution_count": 104,
   "metadata": {},
   "outputs": [
    {
     "data": {
      "text/html": [
       "<div>\n",
       "<style scoped>\n",
       "    .dataframe tbody tr th:only-of-type {\n",
       "        vertical-align: middle;\n",
       "    }\n",
       "\n",
       "    .dataframe tbody tr th {\n",
       "        vertical-align: top;\n",
       "    }\n",
       "\n",
       "    .dataframe thead th {\n",
       "        text-align: right;\n",
       "    }\n",
       "</style>\n",
       "<table border=\"1\" class=\"dataframe\">\n",
       "  <thead>\n",
       "    <tr style=\"text-align: right;\">\n",
       "      <th></th>\n",
       "      <th>model</th>\n",
       "      <th>disbalance</th>\n",
       "      <th>f1_score</th>\n",
       "      <th>auc_roc_score</th>\n",
       "    </tr>\n",
       "  </thead>\n",
       "  <tbody>\n",
       "    <tr>\n",
       "      <th>9</th>\n",
       "      <td>Tree</td>\n",
       "      <td>Threshold</td>\n",
       "      <td>0.51183</td>\n",
       "      <td>0.68217</td>\n",
       "    </tr>\n",
       "    <tr>\n",
       "      <th>10</th>\n",
       "      <td>Forest</td>\n",
       "      <td>Threshold</td>\n",
       "      <td>0.60255</td>\n",
       "      <td>0.75738</td>\n",
       "    </tr>\n",
       "    <tr>\n",
       "      <th>11</th>\n",
       "      <td>Linear</td>\n",
       "      <td>Threshold</td>\n",
       "      <td>0.48485</td>\n",
       "      <td>0.69256</td>\n",
       "    </tr>\n",
       "  </tbody>\n",
       "</table>\n",
       "</div>"
      ],
      "text/plain": [
       "     model disbalance  f1_score  auc_roc_score\n",
       "9     Tree  Threshold   0.51183        0.68217\n",
       "10  Forest  Threshold   0.60255        0.75738\n",
       "11  Linear  Threshold   0.48485        0.69256"
      ]
     },
     "execution_count": 104,
     "metadata": {},
     "output_type": "execute_result"
    }
   ],
   "source": [
    "model_results[model_results['disbalance'] == 'Threshold']"
   ]
  },
  {
   "cell_type": "markdown",
   "metadata": {},
   "source": [
    "Here the random forest (again) has the best F1 with a fairly low threshold!"
   ]
  },
  {
   "cell_type": "markdown",
   "metadata": {},
   "source": [
    "### Overall training results"
   ]
  },
  {
   "cell_type": "markdown",
   "metadata": {},
   "source": [
    "Which of the 12 models turned out to be the best?"
   ]
  },
  {
   "cell_type": "code",
   "execution_count": 105,
   "metadata": {},
   "outputs": [
    {
     "data": {
      "text/html": [
       "<div>\n",
       "<style scoped>\n",
       "    .dataframe tbody tr th:only-of-type {\n",
       "        vertical-align: middle;\n",
       "    }\n",
       "\n",
       "    .dataframe tbody tr th {\n",
       "        vertical-align: top;\n",
       "    }\n",
       "\n",
       "    .dataframe thead th {\n",
       "        text-align: right;\n",
       "    }\n",
       "</style>\n",
       "<table border=\"1\" class=\"dataframe\">\n",
       "  <thead>\n",
       "    <tr style=\"text-align: right;\">\n",
       "      <th></th>\n",
       "      <th>model</th>\n",
       "      <th>disbalance</th>\n",
       "      <th>f1_score</th>\n",
       "      <th>auc_roc_score</th>\n",
       "    </tr>\n",
       "  </thead>\n",
       "  <tbody>\n",
       "    <tr>\n",
       "      <th>0</th>\n",
       "      <td>Tree</td>\n",
       "      <td>Not fixed</td>\n",
       "      <td>0.53659</td>\n",
       "      <td>0.792844</td>\n",
       "    </tr>\n",
       "    <tr>\n",
       "      <th>1</th>\n",
       "      <td>Forest</td>\n",
       "      <td>Not fixed</td>\n",
       "      <td>0.54403</td>\n",
       "      <td>0.845430</td>\n",
       "    </tr>\n",
       "    <tr>\n",
       "      <th>2</th>\n",
       "      <td>Linear</td>\n",
       "      <td>Not fixed</td>\n",
       "      <td>0.48367</td>\n",
       "      <td>0.766145</td>\n",
       "    </tr>\n",
       "    <tr>\n",
       "      <th>3</th>\n",
       "      <td>Tree</td>\n",
       "      <td>Upsampled</td>\n",
       "      <td>0.55982</td>\n",
       "      <td>0.808014</td>\n",
       "    </tr>\n",
       "    <tr>\n",
       "      <th>4</th>\n",
       "      <td>Forest</td>\n",
       "      <td>Upsampled</td>\n",
       "      <td>0.58559</td>\n",
       "      <td>0.842457</td>\n",
       "    </tr>\n",
       "    <tr>\n",
       "      <th>5</th>\n",
       "      <td>Linear</td>\n",
       "      <td>Upsampled</td>\n",
       "      <td>0.48367</td>\n",
       "      <td>0.766147</td>\n",
       "    </tr>\n",
       "    <tr>\n",
       "      <th>6</th>\n",
       "      <td>Tree</td>\n",
       "      <td>Downsampled</td>\n",
       "      <td>0.55644</td>\n",
       "      <td>0.804230</td>\n",
       "    </tr>\n",
       "    <tr>\n",
       "      <th>7</th>\n",
       "      <td>Forest</td>\n",
       "      <td>Downsampled</td>\n",
       "      <td>0.58041</td>\n",
       "      <td>0.840741</td>\n",
       "    </tr>\n",
       "    <tr>\n",
       "      <th>8</th>\n",
       "      <td>Linear</td>\n",
       "      <td>Downsampled</td>\n",
       "      <td>0.48811</td>\n",
       "      <td>0.769374</td>\n",
       "    </tr>\n",
       "    <tr>\n",
       "      <th>9</th>\n",
       "      <td>Tree</td>\n",
       "      <td>Threshold</td>\n",
       "      <td>0.51183</td>\n",
       "      <td>0.682170</td>\n",
       "    </tr>\n",
       "    <tr>\n",
       "      <th>10</th>\n",
       "      <td>Forest</td>\n",
       "      <td>Threshold</td>\n",
       "      <td>0.60255</td>\n",
       "      <td>0.757380</td>\n",
       "    </tr>\n",
       "    <tr>\n",
       "      <th>11</th>\n",
       "      <td>Linear</td>\n",
       "      <td>Threshold</td>\n",
       "      <td>0.48485</td>\n",
       "      <td>0.692560</td>\n",
       "    </tr>\n",
       "  </tbody>\n",
       "</table>\n",
       "</div>"
      ],
      "text/plain": [
       "     model   disbalance  f1_score  auc_roc_score\n",
       "0     Tree    Not fixed   0.53659       0.792844\n",
       "1   Forest    Not fixed   0.54403       0.845430\n",
       "2   Linear    Not fixed   0.48367       0.766145\n",
       "3     Tree    Upsampled   0.55982       0.808014\n",
       "4   Forest    Upsampled   0.58559       0.842457\n",
       "5   Linear    Upsampled   0.48367       0.766147\n",
       "6     Tree  Downsampled   0.55644       0.804230\n",
       "7   Forest  Downsampled   0.58041       0.840741\n",
       "8   Linear  Downsampled   0.48811       0.769374\n",
       "9     Tree    Threshold   0.51183       0.682170\n",
       "10  Forest    Threshold   0.60255       0.757380\n",
       "11  Linear    Threshold   0.48485       0.692560"
      ]
     },
     "execution_count": 105,
     "metadata": {},
     "output_type": "execute_result"
    }
   ],
   "source": [
    "model_results"
   ]
  },
  {
   "cell_type": "code",
   "execution_count": 106,
   "metadata": {},
   "outputs": [
    {
     "data": {
      "text/html": [
       "<div>\n",
       "<style scoped>\n",
       "    .dataframe tbody tr th:only-of-type {\n",
       "        vertical-align: middle;\n",
       "    }\n",
       "\n",
       "    .dataframe tbody tr th {\n",
       "        vertical-align: top;\n",
       "    }\n",
       "\n",
       "    .dataframe thead th {\n",
       "        text-align: right;\n",
       "    }\n",
       "</style>\n",
       "<table border=\"1\" class=\"dataframe\">\n",
       "  <thead>\n",
       "    <tr style=\"text-align: right;\">\n",
       "      <th></th>\n",
       "      <th>model</th>\n",
       "      <th>disbalance</th>\n",
       "      <th>f1_score</th>\n",
       "      <th>auc_roc_score</th>\n",
       "    </tr>\n",
       "  </thead>\n",
       "  <tbody>\n",
       "    <tr>\n",
       "      <th>10</th>\n",
       "      <td>Forest</td>\n",
       "      <td>Threshold</td>\n",
       "      <td>0.60255</td>\n",
       "      <td>0.75738</td>\n",
       "    </tr>\n",
       "  </tbody>\n",
       "</table>\n",
       "</div>"
      ],
      "text/plain": [
       "     model disbalance  f1_score  auc_roc_score\n",
       "10  Forest  Threshold   0.60255        0.75738"
      ]
     },
     "execution_count": 106,
     "metadata": {},
     "output_type": "execute_result"
    }
   ],
   "source": [
    "model_results[model_results['f1_score'] == model_results['f1_score'].max()]"
   ]
  },
  {
   "cell_type": "markdown",
   "metadata": {},
   "source": [
    "According to the results of the F1 metric, the best model is a random forest with a reduced classification threshold. But as we can see, it has a rather low AUC ROC metric compared to others."
   ]
  },
  {
   "cell_type": "markdown",
   "metadata": {},
   "source": [
    "Which model has the best AUC ROC area?"
   ]
  },
  {
   "cell_type": "code",
   "execution_count": 107,
   "metadata": {},
   "outputs": [
    {
     "data": {
      "text/html": [
       "<div>\n",
       "<style scoped>\n",
       "    .dataframe tbody tr th:only-of-type {\n",
       "        vertical-align: middle;\n",
       "    }\n",
       "\n",
       "    .dataframe tbody tr th {\n",
       "        vertical-align: top;\n",
       "    }\n",
       "\n",
       "    .dataframe thead th {\n",
       "        text-align: right;\n",
       "    }\n",
       "</style>\n",
       "<table border=\"1\" class=\"dataframe\">\n",
       "  <thead>\n",
       "    <tr style=\"text-align: right;\">\n",
       "      <th></th>\n",
       "      <th>model</th>\n",
       "      <th>disbalance</th>\n",
       "      <th>f1_score</th>\n",
       "      <th>auc_roc_score</th>\n",
       "    </tr>\n",
       "  </thead>\n",
       "  <tbody>\n",
       "    <tr>\n",
       "      <th>1</th>\n",
       "      <td>Forest</td>\n",
       "      <td>Not fixed</td>\n",
       "      <td>0.54403</td>\n",
       "      <td>0.84543</td>\n",
       "    </tr>\n",
       "  </tbody>\n",
       "</table>\n",
       "</div>"
      ],
      "text/plain": [
       "    model disbalance  f1_score  auc_roc_score\n",
       "1  Forest  Not fixed   0.54403        0.84543"
      ]
     },
     "execution_count": 107,
     "metadata": {},
     "output_type": "execute_result"
    }
   ],
   "source": [
    "model_results[model_results['auc_roc_score'] == model_results['auc_roc_score'].max()]"
   ]
  },
  {
   "cell_type": "markdown",
   "metadata": {},
   "source": [
    "Random forest without any imbalance fixes. But its F1 metric is very weak."
   ]
  },
  {
   "cell_type": "markdown",
   "metadata": {},
   "source": [
    "Can we find a model that also has a good F1 metric (almost the best) but has a higher AUC_ROC?"
   ]
  },
  {
   "cell_type": "code",
   "execution_count": 108,
   "metadata": {},
   "outputs": [
    {
     "data": {
      "text/html": [
       "<div>\n",
       "<style scoped>\n",
       "    .dataframe tbody tr th:only-of-type {\n",
       "        vertical-align: middle;\n",
       "    }\n",
       "\n",
       "    .dataframe tbody tr th {\n",
       "        vertical-align: top;\n",
       "    }\n",
       "\n",
       "    .dataframe thead th {\n",
       "        text-align: right;\n",
       "    }\n",
       "</style>\n",
       "<table border=\"1\" class=\"dataframe\">\n",
       "  <thead>\n",
       "    <tr style=\"text-align: right;\">\n",
       "      <th></th>\n",
       "      <th>model</th>\n",
       "      <th>disbalance</th>\n",
       "      <th>f1_score</th>\n",
       "      <th>auc_roc_score</th>\n",
       "    </tr>\n",
       "  </thead>\n",
       "  <tbody>\n",
       "    <tr>\n",
       "      <th>10</th>\n",
       "      <td>Forest</td>\n",
       "      <td>Threshold</td>\n",
       "      <td>0.60255</td>\n",
       "      <td>0.757380</td>\n",
       "    </tr>\n",
       "    <tr>\n",
       "      <th>4</th>\n",
       "      <td>Forest</td>\n",
       "      <td>Upsampled</td>\n",
       "      <td>0.58559</td>\n",
       "      <td>0.842457</td>\n",
       "    </tr>\n",
       "    <tr>\n",
       "      <th>7</th>\n",
       "      <td>Forest</td>\n",
       "      <td>Downsampled</td>\n",
       "      <td>0.58041</td>\n",
       "      <td>0.840741</td>\n",
       "    </tr>\n",
       "    <tr>\n",
       "      <th>3</th>\n",
       "      <td>Tree</td>\n",
       "      <td>Upsampled</td>\n",
       "      <td>0.55982</td>\n",
       "      <td>0.808014</td>\n",
       "    </tr>\n",
       "    <tr>\n",
       "      <th>6</th>\n",
       "      <td>Tree</td>\n",
       "      <td>Downsampled</td>\n",
       "      <td>0.55644</td>\n",
       "      <td>0.804230</td>\n",
       "    </tr>\n",
       "    <tr>\n",
       "      <th>1</th>\n",
       "      <td>Forest</td>\n",
       "      <td>Not fixed</td>\n",
       "      <td>0.54403</td>\n",
       "      <td>0.845430</td>\n",
       "    </tr>\n",
       "    <tr>\n",
       "      <th>0</th>\n",
       "      <td>Tree</td>\n",
       "      <td>Not fixed</td>\n",
       "      <td>0.53659</td>\n",
       "      <td>0.792844</td>\n",
       "    </tr>\n",
       "    <tr>\n",
       "      <th>9</th>\n",
       "      <td>Tree</td>\n",
       "      <td>Threshold</td>\n",
       "      <td>0.51183</td>\n",
       "      <td>0.682170</td>\n",
       "    </tr>\n",
       "    <tr>\n",
       "      <th>8</th>\n",
       "      <td>Linear</td>\n",
       "      <td>Downsampled</td>\n",
       "      <td>0.48811</td>\n",
       "      <td>0.769374</td>\n",
       "    </tr>\n",
       "    <tr>\n",
       "      <th>11</th>\n",
       "      <td>Linear</td>\n",
       "      <td>Threshold</td>\n",
       "      <td>0.48485</td>\n",
       "      <td>0.692560</td>\n",
       "    </tr>\n",
       "    <tr>\n",
       "      <th>2</th>\n",
       "      <td>Linear</td>\n",
       "      <td>Not fixed</td>\n",
       "      <td>0.48367</td>\n",
       "      <td>0.766145</td>\n",
       "    </tr>\n",
       "    <tr>\n",
       "      <th>5</th>\n",
       "      <td>Linear</td>\n",
       "      <td>Upsampled</td>\n",
       "      <td>0.48367</td>\n",
       "      <td>0.766147</td>\n",
       "    </tr>\n",
       "  </tbody>\n",
       "</table>\n",
       "</div>"
      ],
      "text/plain": [
       "     model   disbalance  f1_score  auc_roc_score\n",
       "10  Forest    Threshold   0.60255       0.757380\n",
       "4   Forest    Upsampled   0.58559       0.842457\n",
       "7   Forest  Downsampled   0.58041       0.840741\n",
       "3     Tree    Upsampled   0.55982       0.808014\n",
       "6     Tree  Downsampled   0.55644       0.804230\n",
       "1   Forest    Not fixed   0.54403       0.845430\n",
       "0     Tree    Not fixed   0.53659       0.792844\n",
       "9     Tree    Threshold   0.51183       0.682170\n",
       "8   Linear  Downsampled   0.48811       0.769374\n",
       "11  Linear    Threshold   0.48485       0.692560\n",
       "2   Linear    Not fixed   0.48367       0.766145\n",
       "5   Linear    Upsampled   0.48367       0.766147"
      ]
     },
     "execution_count": 108,
     "metadata": {},
     "output_type": "execute_result"
    }
   ],
   "source": [
    "model_results.sort_values(by='f1_score', ascending=False)"
   ]
  },
  {
   "cell_type": "markdown",
   "metadata": {},
   "source": [
    "As we can see, there is a random forest model using upsample to deal with imbalance. Its F1 is slightly below the best, but it is below our minimum requirement of F1=0.59, even though its AUC ROC is significantly higher."
   ]
  },
  {
   "cell_type": "markdown",
   "metadata": {},
   "source": [
    "## Model testing"
   ]
  },
  {
   "cell_type": "markdown",
   "metadata": {},
   "source": [
    "Let's combine the training set and the validation set, train our random forest with the best parameters, and look at our metrics after testing on the test set."
   ]
  },
  {
   "cell_type": "code",
   "execution_count": 109,
   "metadata": {},
   "outputs": [],
   "source": [
    "features_train_valid = pd.concat([features_train, features_valid], ignore_index=True, sort=False)\n",
    "target_train_valid = pd.concat([target_train, target_valid], ignore_index=True, sort=False)"
   ]
  },
  {
   "cell_type": "code",
   "execution_count": 110,
   "metadata": {},
   "outputs": [
    {
     "data": {
      "text/plain": [
       "(8000,)"
      ]
     },
     "execution_count": 110,
     "metadata": {},
     "output_type": "execute_result"
    }
   ],
   "source": [
    "target_train_valid.shape"
   ]
  },
  {
   "cell_type": "code",
   "execution_count": 111,
   "metadata": {},
   "outputs": [
    {
     "data": {
      "text/plain": [
       "(8000, 10)"
      ]
     },
     "execution_count": 111,
     "metadata": {},
     "output_type": "execute_result"
    }
   ],
   "source": [
    "features_train_valid.shape"
   ]
  },
  {
   "cell_type": "code",
   "execution_count": 112,
   "metadata": {},
   "outputs": [
    {
     "data": {
      "text/plain": [
       "{'f1_score': 0.60255,\n",
       " 'auc_roc': 0.75738,\n",
       " 'tree_depth': 10,\n",
       " 'forest_size': 40,\n",
       " 'criterion': 'entropy',\n",
       " 'threshold': 0.28}"
      ]
     },
     "execution_count": 112,
     "metadata": {},
     "output_type": "execute_result"
    }
   ],
   "source": [
    "forest_threshold_result"
   ]
  },
  {
   "cell_type": "code",
   "execution_count": 113,
   "metadata": {},
   "outputs": [
    {
     "data": {
      "text/plain": [
       "RandomForestClassifier(criterion='entropy', max_depth=10, n_estimators=40,\n",
       "                       random_state=654321)"
      ]
     },
     "execution_count": 113,
     "metadata": {},
     "output_type": "execute_result"
    }
   ],
   "source": [
    "final_model_forest = RandomForestClassifier(\n",
    "    random_state=RANDOM_STATE, n_estimators=40, max_depth=10, criterion='entropy'\n",
    ")\n",
    "final_model_forest.fit(features_train_valid, target_train_valid)"
   ]
  },
  {
   "cell_type": "code",
   "execution_count": 114,
   "metadata": {},
   "outputs": [],
   "source": [
    "probabilities_test = final_model_forest.predict_proba(features_test)\n",
    "probabilities_one_valid = probabilities_test[:, 1]"
   ]
  },
  {
   "cell_type": "code",
   "execution_count": 115,
   "metadata": {},
   "outputs": [],
   "source": [
    "predicted_valid = probabilities_one_valid > 0.28 \n",
    "f1_final = f1_score(target_test, predicted_valid)"
   ]
  },
  {
   "cell_type": "code",
   "execution_count": 116,
   "metadata": {},
   "outputs": [],
   "source": [
    "auc_roc_final = roc_auc_score(target_test, predicted_valid)"
   ]
  },
  {
   "cell_type": "code",
   "execution_count": 117,
   "metadata": {},
   "outputs": [
    {
     "data": {
      "text/plain": [
       "'Final F1 = 0.6266968325791855'"
      ]
     },
     "execution_count": 117,
     "metadata": {},
     "output_type": "execute_result"
    }
   ],
   "source": [
    "f'Final F1 = {f1_final}'"
   ]
  },
  {
   "cell_type": "code",
   "execution_count": 118,
   "metadata": {},
   "outputs": [
    {
     "data": {
      "text/plain": [
       "'Final AUC ROC = 0.7775202012490148'"
      ]
     },
     "execution_count": 118,
     "metadata": {},
     "output_type": "execute_result"
    }
   ],
   "source": [
    "f'Final AUC ROC = {auc_roc_final}'"
   ]
  },
  {
   "cell_type": "code",
   "execution_count": 119,
   "metadata": {},
   "outputs": [],
   "source": [
    "fpr, tpr, thresholds = roc_curve(target_test, probabilities_one_valid)"
   ]
  },
  {
   "cell_type": "code",
   "execution_count": 120,
   "metadata": {},
   "outputs": [
    {
     "data": {
      "image/png": "[encoded data removed]",
      "text/plain": [
       "<Figure size 432x288 with 1 Axes>"
      ]
     },
     "metadata": {
      "needs_background": "light"
     },
     "output_type": "display_data"
    }
   ],
   "source": [
    "plt.plot(fpr, tpr)\n",
    "plt.xlim([0.0, 1.0])\n",
    "plt.ylim([0.0, 1.0])\n",
    "plt.xlabel('False Positive Rate')\n",
    "plt.ylabel('True Positive Rate') \n",
    "plt.title('ROC curve')\n",
    "\n",
    "plt.show()"
   ]
  },
  {
   "cell_type": "markdown",
   "metadata": {},
   "source": [
    "In the final testing our F1 metric increased as did our AUC ROC. We met the minimum requirements for the model. Excellent!"
   ]
  },
  {
   "cell_type": "markdown",
   "metadata": {},
   "source": [
    "## Research conclusions"
   ]
  },
  {
   "cell_type": "markdown",
   "metadata": {},
   "source": [
    "<p>In this task, we needed to teach the model to classify clients in order to use our budget more intelligently, and spend it only on those clients who will not leave us in the near future.</p>\n",
    "\n",
    "<p>To do this, we removed features that we do not need and that do not affect model training (for example, RowNumber is a unique value for each client). Then we replaced the categorical features with numbers using the Ordinal Coding method and checked if there are any duplicates in our data. After that, we filled in the empty values in the tenure field (how many years a person has been a bank client) using an imputer that looks for similar entries and fills in empty values based on this. We also scaled the data so that our model interprets all features as equal in importance.</p>\n",
    "\n",
    "<p>Then we split our data into 3 samples - training, validation, and test. Based on the first two, we trained and tested our models further.</p>\n",
    "\n",
    "<p>We used three main learning models - decision tree, random forest, and linear regression. Each time we looked at different combinations of parameters that would give us the best model with the best metrics. We trained these models on the data that we have, and since we had a large imbalance in the data (many customers who remained, but few who left), we also used three ways to deal with the imbalance in the data - upsampling, downsampling, and a classification threshold. As a result, we trained 12 models, and inside each set we looked for the best parameters for each model-imbalance combination.</p>\n",
    "\n",
    "<p>According to the results of this study, the best model with an F1 metric of 0.62 is a random forest with a modified classification threshold.</p>"
   ]
  },
  {
   "cell_type": "code",
   "execution_count": null,
   "metadata": {},
   "outputs": [],
   "source": []
  }
 ],
 "metadata": {
  "ExecuteTimeLog": [
   {
    "duration": 387,
    "start_time": "2022-11-23T17:16:59.532Z"
   },
   {
    "duration": 1400,
    "start_time": "2022-11-23T17:19:29.666Z"
   },
   {
    "duration": 78,
    "start_time": "2022-11-23T17:23:36.916Z"
   },
   {
    "duration": 13,
    "start_time": "2022-11-23T17:23:45.182Z"
   },
   {
    "duration": 19,
    "start_time": "2022-11-23T17:23:58.850Z"
   },
   {
    "duration": 38,
    "start_time": "2022-11-23T17:24:08.392Z"
   },
   {
    "duration": 8,
    "start_time": "2022-11-23T17:35:35.911Z"
   },
   {
    "duration": 5,
    "start_time": "2022-11-23T17:35:40.713Z"
   },
   {
    "duration": 5,
    "start_time": "2022-11-23T17:35:51.848Z"
   },
   {
    "duration": 5,
    "start_time": "2022-11-23T17:36:03.008Z"
   },
   {
    "duration": 770,
    "start_time": "2022-11-23T17:36:53.200Z"
   },
   {
    "duration": 5,
    "start_time": "2022-11-23T17:36:58.421Z"
   },
   {
    "duration": 5,
    "start_time": "2022-11-23T17:37:07.610Z"
   },
   {
    "duration": 5,
    "start_time": "2022-11-23T17:38:57.056Z"
   },
   {
    "duration": 3,
    "start_time": "2022-11-23T17:39:51.199Z"
   },
   {
    "duration": 7,
    "start_time": "2022-11-23T17:40:12.426Z"
   },
   {
    "duration": 9,
    "start_time": "2022-11-23T17:41:10.008Z"
   },
   {
    "duration": 412,
    "start_time": "2022-11-23T17:44:19.773Z"
   },
   {
    "duration": 1537,
    "start_time": "2022-11-23T17:45:17.793Z"
   },
   {
    "duration": 6,
    "start_time": "2022-11-23T17:47:48.979Z"
   },
   {
    "duration": 13,
    "start_time": "2022-11-23T17:47:55.763Z"
   },
   {
    "duration": 29,
    "start_time": "2022-11-23T17:48:13.035Z"
   },
   {
    "duration": 46,
    "start_time": "2022-11-23T17:48:18.078Z"
   },
   {
    "duration": 6,
    "start_time": "2022-11-23T17:48:22.750Z"
   },
   {
    "duration": 15,
    "start_time": "2022-11-23T17:48:24.407Z"
   },
   {
    "duration": 44,
    "start_time": "2022-11-23T17:49:10.156Z"
   },
   {
    "duration": 5,
    "start_time": "2022-11-23T17:49:15.163Z"
   },
   {
    "duration": 6,
    "start_time": "2022-11-23T17:49:25.429Z"
   },
   {
    "duration": 17,
    "start_time": "2022-11-23T17:49:25.979Z"
   },
   {
    "duration": 4,
    "start_time": "2022-11-23T17:51:18.484Z"
   },
   {
    "duration": 5,
    "start_time": "2022-11-23T17:51:24.396Z"
   },
   {
    "duration": 3,
    "start_time": "2022-11-23T17:52:04.397Z"
   },
   {
    "duration": 5,
    "start_time": "2022-11-23T17:52:13.281Z"
   },
   {
    "duration": 6,
    "start_time": "2022-11-23T17:55:26.028Z"
   },
   {
    "duration": 7,
    "start_time": "2022-11-23T17:55:30.399Z"
   },
   {
    "duration": 1092,
    "start_time": "2022-11-23T17:58:02.972Z"
   },
   {
    "duration": 6,
    "start_time": "2022-11-23T17:58:29.860Z"
   },
   {
    "duration": 27,
    "start_time": "2022-11-23T17:58:42.653Z"
   },
   {
    "duration": 8,
    "start_time": "2022-11-23T17:58:59.662Z"
   },
   {
    "duration": 5,
    "start_time": "2022-11-23T17:59:31.731Z"
   },
   {
    "duration": 4,
    "start_time": "2022-11-23T17:59:53.567Z"
   },
   {
    "duration": 57,
    "start_time": "2022-11-23T18:00:55.144Z"
   },
   {
    "duration": 10,
    "start_time": "2022-11-23T18:02:01.663Z"
   },
   {
    "duration": 3,
    "start_time": "2022-11-23T18:09:46.040Z"
   },
   {
    "duration": 17,
    "start_time": "2022-11-23T18:09:51.945Z"
   },
   {
    "duration": 6,
    "start_time": "2022-11-23T18:11:28.455Z"
   },
   {
    "duration": 22,
    "start_time": "2022-11-23T18:11:30.501Z"
   },
   {
    "duration": 23,
    "start_time": "2022-11-23T18:11:34.194Z"
   },
   {
    "duration": 16,
    "start_time": "2022-11-23T18:11:43.361Z"
   },
   {
    "duration": 7,
    "start_time": "2022-11-23T18:13:40.720Z"
   },
   {
    "duration": 6,
    "start_time": "2022-11-23T18:13:58.605Z"
   },
   {
    "duration": 22,
    "start_time": "2022-11-23T18:14:00.842Z"
   },
   {
    "duration": 4,
    "start_time": "2022-11-23T18:14:19.766Z"
   },
   {
    "duration": 11,
    "start_time": "2022-11-23T18:14:25.131Z"
   },
   {
    "duration": 23,
    "start_time": "2022-11-23T18:14:40.404Z"
   },
   {
    "duration": 8,
    "start_time": "2022-11-23T18:15:30.724Z"
   },
   {
    "duration": 22,
    "start_time": "2022-11-23T18:15:34.005Z"
   },
   {
    "duration": 7,
    "start_time": "2022-11-23T18:15:51.385Z"
   },
   {
    "duration": 5,
    "start_time": "2022-11-23T18:16:32.614Z"
   },
   {
    "duration": 13,
    "start_time": "2022-11-23T18:21:31.377Z"
   },
   {
    "duration": 12,
    "start_time": "2022-11-23T18:21:32.154Z"
   },
   {
    "duration": 5,
    "start_time": "2022-11-23T18:22:05.586Z"
   },
   {
    "duration": 1518,
    "start_time": "2022-11-26T13:07:32.114Z"
   },
   {
    "duration": 83,
    "start_time": "2022-11-26T13:07:33.634Z"
   },
   {
    "duration": 17,
    "start_time": "2022-11-26T13:07:33.719Z"
   },
   {
    "duration": 14,
    "start_time": "2022-11-26T13:07:33.739Z"
   },
   {
    "duration": 50,
    "start_time": "2022-11-26T13:07:33.755Z"
   },
   {
    "duration": 1564,
    "start_time": "2022-11-26T13:07:33.808Z"
   },
   {
    "duration": 5,
    "start_time": "2022-11-26T13:07:35.374Z"
   },
   {
    "duration": 23,
    "start_time": "2022-11-26T13:07:35.381Z"
   },
   {
    "duration": 16,
    "start_time": "2022-11-26T13:07:35.405Z"
   },
   {
    "duration": 8,
    "start_time": "2022-11-26T13:07:35.424Z"
   },
   {
    "duration": 35,
    "start_time": "2022-11-26T13:07:35.434Z"
   },
   {
    "duration": 15,
    "start_time": "2022-11-26T13:07:35.470Z"
   },
   {
    "duration": 8,
    "start_time": "2022-11-26T13:07:35.487Z"
   },
   {
    "duration": 28,
    "start_time": "2022-11-26T13:07:35.497Z"
   },
   {
    "duration": 129,
    "start_time": "2022-11-26T13:07:35.527Z"
   },
   {
    "duration": 0,
    "start_time": "2022-11-26T13:07:35.658Z"
   },
   {
    "duration": 0,
    "start_time": "2022-11-26T13:07:35.659Z"
   },
   {
    "duration": 0,
    "start_time": "2022-11-26T13:07:35.661Z"
   },
   {
    "duration": 0,
    "start_time": "2022-11-26T13:07:35.662Z"
   },
   {
    "duration": 0,
    "start_time": "2022-11-26T13:07:35.663Z"
   },
   {
    "duration": 0,
    "start_time": "2022-11-26T13:07:35.665Z"
   },
   {
    "duration": 0,
    "start_time": "2022-11-26T13:07:35.666Z"
   },
   {
    "duration": 0,
    "start_time": "2022-11-26T13:07:35.667Z"
   },
   {
    "duration": 0,
    "start_time": "2022-11-26T13:07:35.669Z"
   },
   {
    "duration": 0,
    "start_time": "2022-11-26T13:07:35.670Z"
   },
   {
    "duration": 0,
    "start_time": "2022-11-26T13:07:35.671Z"
   },
   {
    "duration": 0,
    "start_time": "2022-11-26T13:07:35.696Z"
   },
   {
    "duration": 13,
    "start_time": "2022-11-26T13:08:35.965Z"
   },
   {
    "duration": 1275,
    "start_time": "2022-11-26T13:08:40.406Z"
   },
   {
    "duration": 42,
    "start_time": "2022-11-26T13:08:41.683Z"
   },
   {
    "duration": 19,
    "start_time": "2022-11-26T13:08:41.726Z"
   },
   {
    "duration": 14,
    "start_time": "2022-11-26T13:08:41.746Z"
   },
   {
    "duration": 47,
    "start_time": "2022-11-26T13:08:41.762Z"
   },
   {
    "duration": 1416,
    "start_time": "2022-11-26T13:08:41.811Z"
   },
   {
    "duration": 5,
    "start_time": "2022-11-26T13:08:43.229Z"
   },
   {
    "duration": 13,
    "start_time": "2022-11-26T13:08:43.236Z"
   },
   {
    "duration": 11,
    "start_time": "2022-11-26T13:08:43.251Z"
   },
   {
    "duration": 5,
    "start_time": "2022-11-26T13:08:43.264Z"
   },
   {
    "duration": 28,
    "start_time": "2022-11-26T13:08:43.270Z"
   },
   {
    "duration": 6,
    "start_time": "2022-11-26T13:08:43.299Z"
   },
   {
    "duration": 6,
    "start_time": "2022-11-26T13:08:43.307Z"
   },
   {
    "duration": 6,
    "start_time": "2022-11-26T13:08:43.316Z"
   },
   {
    "duration": 15,
    "start_time": "2022-11-26T13:08:43.324Z"
   },
   {
    "duration": 4,
    "start_time": "2022-11-26T13:08:43.341Z"
   },
   {
    "duration": 21,
    "start_time": "2022-11-26T13:08:43.346Z"
   },
   {
    "duration": 28,
    "start_time": "2022-11-26T13:08:43.369Z"
   },
   {
    "duration": 4,
    "start_time": "2022-11-26T13:08:43.399Z"
   },
   {
    "duration": 6,
    "start_time": "2022-11-26T13:08:43.404Z"
   },
   {
    "duration": 7,
    "start_time": "2022-11-26T13:08:43.411Z"
   },
   {
    "duration": 7,
    "start_time": "2022-11-26T13:08:43.420Z"
   },
   {
    "duration": 133,
    "start_time": "2022-11-26T13:08:43.429Z"
   },
   {
    "duration": 1,
    "start_time": "2022-11-26T13:08:43.563Z"
   },
   {
    "duration": 0,
    "start_time": "2022-11-26T13:08:43.565Z"
   },
   {
    "duration": 0,
    "start_time": "2022-11-26T13:08:43.566Z"
   },
   {
    "duration": 0,
    "start_time": "2022-11-26T13:08:43.567Z"
   },
   {
    "duration": 5,
    "start_time": "2022-11-26T13:26:37.611Z"
   },
   {
    "duration": 3,
    "start_time": "2022-11-26T13:26:44.518Z"
   },
   {
    "duration": 39,
    "start_time": "2022-11-26T13:26:45.815Z"
   },
   {
    "duration": 16,
    "start_time": "2022-11-26T13:26:46.357Z"
   },
   {
    "duration": 13,
    "start_time": "2022-11-26T13:26:47.212Z"
   },
   {
    "duration": 45,
    "start_time": "2022-11-26T13:26:48.737Z"
   },
   {
    "duration": 1418,
    "start_time": "2022-11-26T13:26:49.489Z"
   },
   {
    "duration": 4,
    "start_time": "2022-11-26T13:26:53.157Z"
   },
   {
    "duration": 5,
    "start_time": "2022-11-26T13:26:53.674Z"
   },
   {
    "duration": 4,
    "start_time": "2022-11-26T13:26:54.150Z"
   },
   {
    "duration": 5,
    "start_time": "2022-11-26T13:26:57.710Z"
   },
   {
    "duration": 11,
    "start_time": "2022-11-26T13:26:58.311Z"
   },
   {
    "duration": 4,
    "start_time": "2022-11-26T13:27:03.235Z"
   },
   {
    "duration": 3,
    "start_time": "2022-11-26T13:27:03.802Z"
   },
   {
    "duration": 9,
    "start_time": "2022-11-26T13:27:04.395Z"
   },
   {
    "duration": 5,
    "start_time": "2022-11-26T13:27:07.014Z"
   },
   {
    "duration": 5,
    "start_time": "2022-11-26T13:27:27.209Z"
   },
   {
    "duration": 7,
    "start_time": "2022-11-26T13:27:34.693Z"
   },
   {
    "duration": 11,
    "start_time": "2022-11-26T13:27:57.556Z"
   },
   {
    "duration": 14,
    "start_time": "2022-11-26T13:29:11.356Z"
   },
   {
    "duration": 14,
    "start_time": "2022-11-26T13:29:12.029Z"
   },
   {
    "duration": 5,
    "start_time": "2022-11-26T13:29:15.334Z"
   },
   {
    "duration": 2,
    "start_time": "2022-11-26T13:29:32.290Z"
   },
   {
    "duration": 12,
    "start_time": "2022-11-26T13:29:35.222Z"
   },
   {
    "duration": 18,
    "start_time": "2022-11-26T13:29:35.697Z"
   },
   {
    "duration": 4,
    "start_time": "2022-11-26T13:29:36.933Z"
   },
   {
    "duration": 3,
    "start_time": "2022-11-26T13:29:49.514Z"
   },
   {
    "duration": 6,
    "start_time": "2022-11-26T13:29:50.354Z"
   },
   {
    "duration": 12,
    "start_time": "2022-11-26T13:29:51.291Z"
   },
   {
    "duration": 1342,
    "start_time": "2022-11-26T13:32:34.543Z"
   },
   {
    "duration": 56,
    "start_time": "2022-11-26T13:32:35.887Z"
   },
   {
    "duration": 22,
    "start_time": "2022-11-26T13:32:35.949Z"
   },
   {
    "duration": 34,
    "start_time": "2022-11-26T13:32:35.972Z"
   },
   {
    "duration": 62,
    "start_time": "2022-11-26T13:32:36.008Z"
   },
   {
    "duration": 1543,
    "start_time": "2022-11-26T13:32:36.072Z"
   },
   {
    "duration": 5,
    "start_time": "2022-11-26T13:32:37.617Z"
   },
   {
    "duration": 32,
    "start_time": "2022-11-26T13:32:37.623Z"
   },
   {
    "duration": 19,
    "start_time": "2022-11-26T13:32:37.657Z"
   },
   {
    "duration": 26,
    "start_time": "2022-11-26T13:32:37.678Z"
   },
   {
    "duration": 59,
    "start_time": "2022-11-26T13:32:37.705Z"
   },
   {
    "duration": 44,
    "start_time": "2022-11-26T13:32:37.766Z"
   },
   {
    "duration": 31,
    "start_time": "2022-11-26T13:32:37.815Z"
   },
   {
    "duration": 34,
    "start_time": "2022-11-26T13:32:37.848Z"
   },
   {
    "duration": 51,
    "start_time": "2022-11-26T13:32:37.884Z"
   },
   {
    "duration": 18,
    "start_time": "2022-11-26T13:32:37.937Z"
   },
   {
    "duration": 30,
    "start_time": "2022-11-26T13:32:37.957Z"
   },
   {
    "duration": 34,
    "start_time": "2022-11-26T13:32:37.989Z"
   },
   {
    "duration": 27,
    "start_time": "2022-11-26T13:32:38.025Z"
   },
   {
    "duration": 30,
    "start_time": "2022-11-26T13:32:38.054Z"
   },
   {
    "duration": 33,
    "start_time": "2022-11-26T13:32:38.085Z"
   },
   {
    "duration": 36,
    "start_time": "2022-11-26T13:32:38.119Z"
   },
   {
    "duration": 15,
    "start_time": "2022-11-26T13:32:38.156Z"
   },
   {
    "duration": 19,
    "start_time": "2022-11-26T13:32:38.173Z"
   },
   {
    "duration": 35,
    "start_time": "2022-11-26T13:32:38.193Z"
   },
   {
    "duration": 1091,
    "start_time": "2022-11-26T13:32:38.230Z"
   },
   {
    "duration": 19,
    "start_time": "2022-11-26T13:32:39.324Z"
   },
   {
    "duration": 12,
    "start_time": "2022-11-26T13:32:39.345Z"
   },
   {
    "duration": 23,
    "start_time": "2022-11-26T13:32:39.358Z"
   },
   {
    "duration": 1109,
    "start_time": "2022-11-26T13:33:32.036Z"
   },
   {
    "duration": 16,
    "start_time": "2022-11-26T13:33:33.148Z"
   },
   {
    "duration": 9,
    "start_time": "2022-11-26T13:33:33.406Z"
   },
   {
    "duration": 1241,
    "start_time": "2022-11-26T13:33:40.537Z"
   },
   {
    "duration": 21,
    "start_time": "2022-11-26T13:33:41.780Z"
   },
   {
    "duration": 25,
    "start_time": "2022-11-26T13:33:46.186Z"
   },
   {
    "duration": 7,
    "start_time": "2022-11-26T13:33:46.855Z"
   },
   {
    "duration": 1081,
    "start_time": "2022-11-26T13:33:57.546Z"
   },
   {
    "duration": 8,
    "start_time": "2022-11-26T13:33:59.646Z"
   },
   {
    "duration": 163,
    "start_time": "2022-11-26T13:34:15.929Z"
   },
   {
    "duration": 144,
    "start_time": "2022-11-26T13:34:27.665Z"
   },
   {
    "duration": 135,
    "start_time": "2022-11-26T13:34:41.569Z"
   },
   {
    "duration": 256,
    "start_time": "2022-11-26T13:34:51.581Z"
   },
   {
    "duration": 158,
    "start_time": "2022-11-26T13:34:59.461Z"
   },
   {
    "duration": 157,
    "start_time": "2022-11-26T13:35:04.874Z"
   },
   {
    "duration": 145,
    "start_time": "2022-11-26T13:35:23.634Z"
   },
   {
    "duration": 1411,
    "start_time": "2022-11-26T13:35:32.410Z"
   },
   {
    "duration": 42,
    "start_time": "2022-11-26T13:35:33.823Z"
   },
   {
    "duration": 17,
    "start_time": "2022-11-26T13:35:33.867Z"
   },
   {
    "duration": 20,
    "start_time": "2022-11-26T13:35:33.886Z"
   },
   {
    "duration": 51,
    "start_time": "2022-11-26T13:35:33.907Z"
   },
   {
    "duration": 1567,
    "start_time": "2022-11-26T13:35:33.960Z"
   },
   {
    "duration": 5,
    "start_time": "2022-11-26T13:35:35.530Z"
   },
   {
    "duration": 9,
    "start_time": "2022-11-26T13:35:35.537Z"
   },
   {
    "duration": 7,
    "start_time": "2022-11-26T13:35:35.548Z"
   },
   {
    "duration": 9,
    "start_time": "2022-11-26T13:35:35.559Z"
   },
   {
    "duration": 48,
    "start_time": "2022-11-26T13:35:35.569Z"
   },
   {
    "duration": 4,
    "start_time": "2022-11-26T13:35:35.619Z"
   },
   {
    "duration": 10,
    "start_time": "2022-11-26T13:35:35.625Z"
   },
   {
    "duration": 16,
    "start_time": "2022-11-26T13:35:35.637Z"
   },
   {
    "duration": 11,
    "start_time": "2022-11-26T13:35:35.655Z"
   },
   {
    "duration": 13,
    "start_time": "2022-11-26T13:35:35.668Z"
   },
   {
    "duration": 30,
    "start_time": "2022-11-26T13:35:35.683Z"
   },
   {
    "duration": 20,
    "start_time": "2022-11-26T13:35:35.715Z"
   },
   {
    "duration": 22,
    "start_time": "2022-11-26T13:35:35.737Z"
   },
   {
    "duration": 5,
    "start_time": "2022-11-26T13:35:35.761Z"
   },
   {
    "duration": 6,
    "start_time": "2022-11-26T13:35:35.768Z"
   },
   {
    "duration": 16,
    "start_time": "2022-11-26T13:35:35.776Z"
   },
   {
    "duration": 20,
    "start_time": "2022-11-26T13:35:35.794Z"
   },
   {
    "duration": 16,
    "start_time": "2022-11-26T13:35:35.816Z"
   },
   {
    "duration": 129,
    "start_time": "2022-11-26T13:35:35.834Z"
   },
   {
    "duration": 0,
    "start_time": "2022-11-26T13:35:35.965Z"
   },
   {
    "duration": 0,
    "start_time": "2022-11-26T13:35:35.966Z"
   },
   {
    "duration": 0,
    "start_time": "2022-11-26T13:35:35.968Z"
   },
   {
    "duration": 0,
    "start_time": "2022-11-26T13:35:35.969Z"
   },
   {
    "duration": 0,
    "start_time": "2022-11-26T13:35:35.971Z"
   },
   {
    "duration": 150,
    "start_time": "2022-11-26T13:35:50.707Z"
   },
   {
    "duration": 6,
    "start_time": "2022-11-26T13:35:58.567Z"
   },
   {
    "duration": 1161,
    "start_time": "2022-11-26T13:35:59.076Z"
   },
   {
    "duration": 15,
    "start_time": "2022-11-26T13:36:00.239Z"
   },
   {
    "duration": 157,
    "start_time": "2022-11-26T13:36:00.895Z"
   },
   {
    "duration": 4,
    "start_time": "2022-11-26T13:36:02.155Z"
   },
   {
    "duration": 7,
    "start_time": "2022-11-26T13:36:23.978Z"
   },
   {
    "duration": 1142,
    "start_time": "2022-11-26T13:37:57.058Z"
   },
   {
    "duration": 24,
    "start_time": "2022-11-26T13:37:58.202Z"
   },
   {
    "duration": 153,
    "start_time": "2022-11-26T13:37:59.163Z"
   },
   {
    "duration": 6,
    "start_time": "2022-11-26T13:38:01.887Z"
   },
   {
    "duration": 1092,
    "start_time": "2022-11-26T13:38:14.248Z"
   },
   {
    "duration": 15,
    "start_time": "2022-11-26T13:38:15.965Z"
   },
   {
    "duration": 150,
    "start_time": "2022-11-26T13:38:17.055Z"
   },
   {
    "duration": 11,
    "start_time": "2022-11-26T13:38:18.501Z"
   },
   {
    "duration": 4,
    "start_time": "2022-11-26T13:38:58.248Z"
   },
   {
    "duration": 146,
    "start_time": "2022-11-26T13:38:59.637Z"
   },
   {
    "duration": 7,
    "start_time": "2022-11-26T13:39:01.018Z"
   },
   {
    "duration": 3,
    "start_time": "2022-11-26T13:39:07.440Z"
   },
   {
    "duration": 11,
    "start_time": "2022-11-26T13:39:47.165Z"
   },
   {
    "duration": 66,
    "start_time": "2022-11-26T13:43:17.170Z"
   },
   {
    "duration": 147,
    "start_time": "2022-11-26T13:44:12.686Z"
   },
   {
    "duration": 151,
    "start_time": "2022-11-26T13:44:35.264Z"
   },
   {
    "duration": 10,
    "start_time": "2022-11-26T13:48:43.641Z"
   },
   {
    "duration": 10,
    "start_time": "2022-11-26T13:48:48.917Z"
   },
   {
    "duration": 13,
    "start_time": "2022-11-26T13:48:54.446Z"
   },
   {
    "duration": 6,
    "start_time": "2022-11-26T13:48:59.025Z"
   },
   {
    "duration": 1433,
    "start_time": "2022-11-26T13:49:24.480Z"
   },
   {
    "duration": 50,
    "start_time": "2022-11-26T13:49:25.915Z"
   },
   {
    "duration": 24,
    "start_time": "2022-11-26T13:49:25.967Z"
   },
   {
    "duration": 16,
    "start_time": "2022-11-26T13:49:25.996Z"
   },
   {
    "duration": 78,
    "start_time": "2022-11-26T13:49:26.016Z"
   },
   {
    "duration": 1536,
    "start_time": "2022-11-26T13:49:26.096Z"
   },
   {
    "duration": 5,
    "start_time": "2022-11-26T13:49:27.633Z"
   },
   {
    "duration": 9,
    "start_time": "2022-11-26T13:49:27.640Z"
   },
   {
    "duration": 16,
    "start_time": "2022-11-26T13:49:27.650Z"
   },
   {
    "duration": 6,
    "start_time": "2022-11-26T13:49:27.669Z"
   },
   {
    "duration": 35,
    "start_time": "2022-11-26T13:49:27.677Z"
   },
   {
    "duration": 4,
    "start_time": "2022-11-26T13:49:27.714Z"
   },
   {
    "duration": 12,
    "start_time": "2022-11-26T13:49:27.719Z"
   },
   {
    "duration": 9,
    "start_time": "2022-11-26T13:49:27.733Z"
   },
   {
    "duration": 15,
    "start_time": "2022-11-26T13:49:27.743Z"
   },
   {
    "duration": 5,
    "start_time": "2022-11-26T13:49:27.760Z"
   },
   {
    "duration": 14,
    "start_time": "2022-11-26T13:49:27.767Z"
   },
   {
    "duration": 30,
    "start_time": "2022-11-26T13:49:27.783Z"
   },
   {
    "duration": 15,
    "start_time": "2022-11-26T13:49:27.815Z"
   },
   {
    "duration": 8,
    "start_time": "2022-11-26T13:49:27.832Z"
   },
   {
    "duration": 6,
    "start_time": "2022-11-26T13:49:27.841Z"
   },
   {
    "duration": 12,
    "start_time": "2022-11-26T13:49:27.848Z"
   },
   {
    "duration": 9,
    "start_time": "2022-11-26T13:49:27.862Z"
   },
   {
    "duration": 6,
    "start_time": "2022-11-26T13:49:27.872Z"
   },
   {
    "duration": 30,
    "start_time": "2022-11-26T13:49:27.880Z"
   },
   {
    "duration": 187,
    "start_time": "2022-11-26T13:49:27.912Z"
   },
   {
    "duration": 12,
    "start_time": "2022-11-26T13:49:28.101Z"
   },
   {
    "duration": 1124,
    "start_time": "2022-11-26T13:49:28.117Z"
   },
   {
    "duration": 12,
    "start_time": "2022-11-26T13:49:29.242Z"
   },
   {
    "duration": 3,
    "start_time": "2022-11-26T13:49:29.256Z"
   },
   {
    "duration": 170,
    "start_time": "2022-11-26T13:49:29.260Z"
   },
   {
    "duration": 6,
    "start_time": "2022-11-26T13:49:29.432Z"
   },
   {
    "duration": 9,
    "start_time": "2022-11-26T13:49:29.439Z"
   },
   {
    "duration": 22,
    "start_time": "2022-11-26T13:49:29.450Z"
   },
   {
    "duration": 117,
    "start_time": "2022-11-26T13:51:43.253Z"
   },
   {
    "duration": 6,
    "start_time": "2022-11-26T13:51:55.086Z"
   },
   {
    "duration": 1432,
    "start_time": "2022-11-26T13:52:04.108Z"
   },
   {
    "duration": 41,
    "start_time": "2022-11-26T13:52:05.542Z"
   },
   {
    "duration": 25,
    "start_time": "2022-11-26T13:52:05.585Z"
   },
   {
    "duration": 14,
    "start_time": "2022-11-26T13:52:05.612Z"
   },
   {
    "duration": 41,
    "start_time": "2022-11-26T13:52:05.629Z"
   },
   {
    "duration": 1619,
    "start_time": "2022-11-26T13:52:05.671Z"
   },
   {
    "duration": 20,
    "start_time": "2022-11-26T13:52:07.292Z"
   },
   {
    "duration": 9,
    "start_time": "2022-11-26T13:52:07.315Z"
   },
   {
    "duration": 6,
    "start_time": "2022-11-26T13:52:07.326Z"
   },
   {
    "duration": 7,
    "start_time": "2022-11-26T13:52:07.334Z"
   },
   {
    "duration": 15,
    "start_time": "2022-11-26T13:52:07.342Z"
   },
   {
    "duration": 9,
    "start_time": "2022-11-26T13:52:07.359Z"
   },
   {
    "duration": 6,
    "start_time": "2022-11-26T13:52:07.369Z"
   },
   {
    "duration": 29,
    "start_time": "2022-11-26T13:52:07.378Z"
   },
   {
    "duration": 14,
    "start_time": "2022-11-26T13:52:07.409Z"
   },
   {
    "duration": 6,
    "start_time": "2022-11-26T13:52:07.425Z"
   },
   {
    "duration": 21,
    "start_time": "2022-11-26T13:52:07.433Z"
   },
   {
    "duration": 24,
    "start_time": "2022-11-26T13:52:07.456Z"
   },
   {
    "duration": 13,
    "start_time": "2022-11-26T13:52:07.482Z"
   },
   {
    "duration": 22,
    "start_time": "2022-11-26T13:52:07.496Z"
   },
   {
    "duration": 4,
    "start_time": "2022-11-26T13:52:07.519Z"
   },
   {
    "duration": 8,
    "start_time": "2022-11-26T13:52:07.525Z"
   },
   {
    "duration": 8,
    "start_time": "2022-11-26T13:52:07.534Z"
   },
   {
    "duration": 8,
    "start_time": "2022-11-26T13:52:07.543Z"
   },
   {
    "duration": 10,
    "start_time": "2022-11-26T13:52:07.552Z"
   },
   {
    "duration": 155,
    "start_time": "2022-11-26T13:52:07.564Z"
   },
   {
    "duration": 5,
    "start_time": "2022-11-26T13:52:07.720Z"
   },
   {
    "duration": 1118,
    "start_time": "2022-11-26T13:52:07.727Z"
   },
   {
    "duration": 7,
    "start_time": "2022-11-26T13:52:08.846Z"
   },
   {
    "duration": 4,
    "start_time": "2022-11-26T13:52:08.856Z"
   },
   {
    "duration": 172,
    "start_time": "2022-11-26T13:52:08.862Z"
   },
   {
    "duration": 6,
    "start_time": "2022-11-26T13:52:09.036Z"
   },
   {
    "duration": 7,
    "start_time": "2022-11-26T13:52:09.044Z"
   },
   {
    "duration": 17,
    "start_time": "2022-11-26T13:52:09.053Z"
   },
   {
    "duration": 139,
    "start_time": "2022-11-26T13:54:48.911Z"
   },
   {
    "duration": 1480,
    "start_time": "2022-12-04T17:14:48.222Z"
   },
   {
    "duration": 165,
    "start_time": "2022-12-04T17:14:49.704Z"
   },
   {
    "duration": 16,
    "start_time": "2022-12-04T17:14:49.874Z"
   },
   {
    "duration": 13,
    "start_time": "2022-12-04T17:14:49.892Z"
   },
   {
    "duration": 49,
    "start_time": "2022-12-04T17:14:49.906Z"
   },
   {
    "duration": 1429,
    "start_time": "2022-12-04T17:14:49.957Z"
   },
   {
    "duration": 6,
    "start_time": "2022-12-04T17:14:51.388Z"
   },
   {
    "duration": 10,
    "start_time": "2022-12-04T17:14:51.396Z"
   },
   {
    "duration": 11,
    "start_time": "2022-12-04T17:14:51.409Z"
   },
   {
    "duration": 14,
    "start_time": "2022-12-04T17:14:51.422Z"
   },
   {
    "duration": 16,
    "start_time": "2022-12-04T17:14:51.438Z"
   },
   {
    "duration": 7,
    "start_time": "2022-12-04T17:14:51.456Z"
   },
   {
    "duration": 15,
    "start_time": "2022-12-04T17:14:51.464Z"
   },
   {
    "duration": 8,
    "start_time": "2022-12-04T17:14:51.481Z"
   },
   {
    "duration": 9,
    "start_time": "2022-12-04T17:14:51.491Z"
   },
   {
    "duration": 13,
    "start_time": "2022-12-04T17:14:51.502Z"
   },
   {
    "duration": 28,
    "start_time": "2022-12-04T17:14:51.517Z"
   },
   {
    "duration": 18,
    "start_time": "2022-12-04T17:14:51.546Z"
   },
   {
    "duration": 103,
    "start_time": "2022-12-04T17:14:51.565Z"
   },
   {
    "duration": 0,
    "start_time": "2022-12-04T17:14:51.670Z"
   },
   {
    "duration": 0,
    "start_time": "2022-12-04T17:14:51.677Z"
   },
   {
    "duration": 0,
    "start_time": "2022-12-04T17:14:51.678Z"
   },
   {
    "duration": 0,
    "start_time": "2022-12-04T17:14:51.679Z"
   },
   {
    "duration": 0,
    "start_time": "2022-12-04T17:14:51.680Z"
   },
   {
    "duration": 0,
    "start_time": "2022-12-04T17:14:51.681Z"
   },
   {
    "duration": 0,
    "start_time": "2022-12-04T17:14:51.682Z"
   },
   {
    "duration": 0,
    "start_time": "2022-12-04T17:14:51.684Z"
   },
   {
    "duration": 0,
    "start_time": "2022-12-04T17:14:51.684Z"
   },
   {
    "duration": 0,
    "start_time": "2022-12-04T17:14:51.685Z"
   },
   {
    "duration": 0,
    "start_time": "2022-12-04T17:14:51.686Z"
   },
   {
    "duration": 0,
    "start_time": "2022-12-04T17:14:51.687Z"
   },
   {
    "duration": 0,
    "start_time": "2022-12-04T17:14:51.688Z"
   },
   {
    "duration": 0,
    "start_time": "2022-12-04T17:14:51.690Z"
   },
   {
    "duration": 0,
    "start_time": "2022-12-04T17:14:51.691Z"
   },
   {
    "duration": 1362,
    "start_time": "2022-12-04T17:15:08.495Z"
   },
   {
    "duration": 40,
    "start_time": "2022-12-04T17:15:09.859Z"
   },
   {
    "duration": 17,
    "start_time": "2022-12-04T17:15:09.901Z"
   },
   {
    "duration": 32,
    "start_time": "2022-12-04T17:15:09.921Z"
   },
   {
    "duration": 66,
    "start_time": "2022-12-04T17:15:09.954Z"
   },
   {
    "duration": 1886,
    "start_time": "2022-12-04T17:15:10.022Z"
   },
   {
    "duration": 4,
    "start_time": "2022-12-04T17:15:11.910Z"
   },
   {
    "duration": 8,
    "start_time": "2022-12-04T17:15:11.916Z"
   },
   {
    "duration": 53,
    "start_time": "2022-12-04T17:15:11.926Z"
   },
   {
    "duration": 5,
    "start_time": "2022-12-04T17:15:11.983Z"
   },
   {
    "duration": 19,
    "start_time": "2022-12-04T17:15:11.991Z"
   },
   {
    "duration": 9,
    "start_time": "2022-12-04T17:15:12.012Z"
   },
   {
    "duration": 56,
    "start_time": "2022-12-04T17:15:12.022Z"
   },
   {
    "duration": 9,
    "start_time": "2022-12-04T17:15:12.080Z"
   },
   {
    "duration": 6,
    "start_time": "2022-12-04T17:15:12.091Z"
   },
   {
    "duration": 7,
    "start_time": "2022-12-04T17:15:12.099Z"
   },
   {
    "duration": 14,
    "start_time": "2022-12-04T17:15:12.108Z"
   },
   {
    "duration": 65,
    "start_time": "2022-12-04T17:15:12.124Z"
   },
   {
    "duration": 17,
    "start_time": "2022-12-04T17:15:12.192Z"
   },
   {
    "duration": 8,
    "start_time": "2022-12-04T17:15:12.212Z"
   },
   {
    "duration": 59,
    "start_time": "2022-12-04T17:15:12.221Z"
   },
   {
    "duration": 19,
    "start_time": "2022-12-04T17:15:12.282Z"
   },
   {
    "duration": 6,
    "start_time": "2022-12-04T17:15:12.302Z"
   },
   {
    "duration": 7,
    "start_time": "2022-12-04T17:15:12.309Z"
   },
   {
    "duration": 296,
    "start_time": "2022-12-04T17:15:12.318Z"
   },
   {
    "duration": 5,
    "start_time": "2022-12-04T17:15:12.616Z"
   },
   {
    "duration": 1530,
    "start_time": "2022-12-04T17:15:12.622Z"
   },
   {
    "duration": 7,
    "start_time": "2022-12-04T17:15:14.155Z"
   },
   {
    "duration": 17,
    "start_time": "2022-12-04T17:15:14.163Z"
   },
   {
    "duration": 10,
    "start_time": "2022-12-04T17:15:14.182Z"
   },
   {
    "duration": 189,
    "start_time": "2022-12-04T17:15:14.195Z"
   },
   {
    "duration": 6,
    "start_time": "2022-12-04T17:15:14.387Z"
   },
   {
    "duration": 12,
    "start_time": "2022-12-04T17:15:14.395Z"
   },
   {
    "duration": 18,
    "start_time": "2022-12-04T17:15:14.408Z"
   },
   {
    "duration": 784,
    "start_time": "2022-12-04T17:19:25.534Z"
   },
   {
    "duration": 1147,
    "start_time": "2022-12-04T17:19:31.789Z"
   },
   {
    "duration": 1303,
    "start_time": "2022-12-04T17:19:43.312Z"
   },
   {
    "duration": 4,
    "start_time": "2022-12-04T17:28:12.590Z"
   },
   {
    "duration": 4,
    "start_time": "2022-12-04T17:30:13.873Z"
   },
   {
    "duration": 7,
    "start_time": "2022-12-04T17:31:14.019Z"
   },
   {
    "duration": 6,
    "start_time": "2022-12-04T17:31:57.880Z"
   },
   {
    "duration": 5,
    "start_time": "2022-12-04T17:31:58.864Z"
   },
   {
    "duration": 133,
    "start_time": "2022-12-04T17:32:15.647Z"
   },
   {
    "duration": 4,
    "start_time": "2022-12-04T17:32:27.667Z"
   },
   {
    "duration": 4,
    "start_time": "2022-12-04T17:33:04.730Z"
   },
   {
    "duration": 4,
    "start_time": "2022-12-04T17:33:20.285Z"
   },
   {
    "duration": 12,
    "start_time": "2022-12-04T17:53:07.676Z"
   },
   {
    "duration": 17,
    "start_time": "2022-12-04T17:54:11.306Z"
   },
   {
    "duration": 53,
    "start_time": "2022-12-04T17:54:26.188Z"
   },
   {
    "duration": 4,
    "start_time": "2022-12-04T17:54:39.840Z"
   },
   {
    "duration": 82947,
    "start_time": "2022-12-04T17:54:48.210Z"
   },
   {
    "duration": 4,
    "start_time": "2022-12-04T17:56:27.861Z"
   },
   {
    "duration": 83310,
    "start_time": "2022-12-04T17:56:31.524Z"
   },
   {
    "duration": 4,
    "start_time": "2022-12-04T18:01:50.263Z"
   },
   {
    "duration": 428,
    "start_time": "2022-12-04T18:02:40.294Z"
   },
   {
    "duration": 4,
    "start_time": "2022-12-04T18:02:44.510Z"
   },
   {
    "duration": 434,
    "start_time": "2022-12-04T18:02:51.088Z"
   },
   {
    "duration": 4,
    "start_time": "2022-12-04T18:02:53.068Z"
   },
   {
    "duration": 4,
    "start_time": "2022-12-04T18:02:59.392Z"
   },
   {
    "duration": 54963,
    "start_time": "2022-12-04T18:03:15.281Z"
   },
   {
    "duration": 4,
    "start_time": "2022-12-04T18:04:26.332Z"
   },
   {
    "duration": 3,
    "start_time": "2022-12-04T18:30:06.973Z"
   },
   {
    "duration": 5,
    "start_time": "2022-12-04T18:30:19.040Z"
   },
   {
    "duration": 5,
    "start_time": "2022-12-04T18:30:32.065Z"
   },
   {
    "duration": 4,
    "start_time": "2022-12-04T18:30:42.290Z"
   },
   {
    "duration": 405,
    "start_time": "2022-12-04T18:31:24.131Z"
   },
   {
    "duration": 7,
    "start_time": "2022-12-04T18:31:30.834Z"
   },
   {
    "duration": 5,
    "start_time": "2022-12-04T18:31:39.005Z"
   },
   {
    "duration": 77,
    "start_time": "2022-12-04T18:35:20.033Z"
   },
   {
    "duration": 78,
    "start_time": "2022-12-04T18:35:24.852Z"
   },
   {
    "duration": 10,
    "start_time": "2022-12-04T18:39:21.703Z"
   },
   {
    "duration": 4,
    "start_time": "2022-12-04T18:41:08.615Z"
   },
   {
    "duration": 14,
    "start_time": "2022-12-04T18:42:04.642Z"
   },
   {
    "duration": 95,
    "start_time": "2022-12-04T18:42:26.199Z"
   },
   {
    "duration": 14,
    "start_time": "2022-12-04T18:42:27.060Z"
   },
   {
    "duration": 76,
    "start_time": "2022-12-04T18:43:32.054Z"
   },
   {
    "duration": 5,
    "start_time": "2022-12-04T18:43:32.834Z"
   },
   {
    "duration": 138,
    "start_time": "2022-12-04T18:43:34.669Z"
   },
   {
    "duration": 1457,
    "start_time": "2022-12-06T14:35:48.960Z"
   },
   {
    "duration": 375,
    "start_time": "2022-12-06T14:35:50.419Z"
   },
   {
    "duration": 16,
    "start_time": "2022-12-06T14:35:50.796Z"
   },
   {
    "duration": 12,
    "start_time": "2022-12-06T14:35:50.814Z"
   },
   {
    "duration": 38,
    "start_time": "2022-12-06T14:35:50.827Z"
   },
   {
    "duration": 1310,
    "start_time": "2022-12-06T14:35:50.867Z"
   },
   {
    "duration": 4,
    "start_time": "2022-12-06T14:35:52.178Z"
   },
   {
    "duration": 11,
    "start_time": "2022-12-06T14:35:52.183Z"
   },
   {
    "duration": 14,
    "start_time": "2022-12-06T14:35:52.195Z"
   },
   {
    "duration": 6,
    "start_time": "2022-12-06T14:35:52.211Z"
   },
   {
    "duration": 14,
    "start_time": "2022-12-06T14:35:52.219Z"
   },
   {
    "duration": 25,
    "start_time": "2022-12-06T14:35:52.234Z"
   },
   {
    "duration": 25,
    "start_time": "2022-12-06T14:35:52.261Z"
   },
   {
    "duration": 18,
    "start_time": "2022-12-06T14:35:52.288Z"
   },
   {
    "duration": 20,
    "start_time": "2022-12-06T14:35:52.307Z"
   },
   {
    "duration": 8,
    "start_time": "2022-12-06T14:35:52.328Z"
   },
   {
    "duration": 12,
    "start_time": "2022-12-06T14:35:52.337Z"
   },
   {
    "duration": 11,
    "start_time": "2022-12-06T14:35:52.351Z"
   },
   {
    "duration": 11,
    "start_time": "2022-12-06T14:35:52.363Z"
   },
   {
    "duration": 7,
    "start_time": "2022-12-06T14:35:52.375Z"
   },
   {
    "duration": 4,
    "start_time": "2022-12-06T14:35:52.384Z"
   },
   {
    "duration": 10,
    "start_time": "2022-12-06T14:35:52.390Z"
   },
   {
    "duration": 25,
    "start_time": "2022-12-06T14:35:52.402Z"
   },
   {
    "duration": 4,
    "start_time": "2022-12-06T14:35:52.428Z"
   },
   {
    "duration": 130,
    "start_time": "2022-12-06T14:35:52.433Z"
   },
   {
    "duration": 5,
    "start_time": "2022-12-06T14:35:52.564Z"
   },
   {
    "duration": 1064,
    "start_time": "2022-12-06T14:35:52.570Z"
   },
   {
    "duration": 4,
    "start_time": "2022-12-06T14:35:53.637Z"
   },
   {
    "duration": 35,
    "start_time": "2022-12-06T14:35:53.643Z"
   },
   {
    "duration": 42,
    "start_time": "2022-12-06T14:35:53.679Z"
   },
   {
    "duration": 156,
    "start_time": "2022-12-06T14:35:53.723Z"
   },
   {
    "duration": 5,
    "start_time": "2022-12-06T14:35:53.881Z"
   },
   {
    "duration": 13,
    "start_time": "2022-12-06T14:35:53.888Z"
   },
   {
    "duration": 33,
    "start_time": "2022-12-06T14:35:53.902Z"
   },
   {
    "duration": 1171,
    "start_time": "2022-12-06T14:35:53.937Z"
   },
   {
    "duration": 4,
    "start_time": "2022-12-06T14:35:55.109Z"
   },
   {
    "duration": 46,
    "start_time": "2022-12-06T14:35:55.115Z"
   },
   {
    "duration": 47,
    "start_time": "2022-12-06T14:35:55.163Z"
   },
   {
    "duration": 24,
    "start_time": "2022-12-06T14:35:55.211Z"
   },
   {
    "duration": 31,
    "start_time": "2022-12-06T14:35:55.236Z"
   },
   {
    "duration": 18,
    "start_time": "2022-12-06T14:35:55.269Z"
   },
   {
    "duration": 523,
    "start_time": "2022-12-06T14:35:55.289Z"
   },
   {
    "duration": 4,
    "start_time": "2022-12-06T14:35:55.813Z"
   },
   {
    "duration": 77767,
    "start_time": "2022-12-06T14:35:55.819Z"
   },
   {
    "duration": 4,
    "start_time": "2022-12-06T14:37:13.587Z"
   },
   {
    "duration": 57635,
    "start_time": "2022-12-06T14:37:13.592Z"
   },
   {
    "duration": 5,
    "start_time": "2022-12-06T14:38:11.229Z"
   },
   {
    "duration": 99,
    "start_time": "2022-12-06T14:38:11.235Z"
   },
   {
    "duration": 8,
    "start_time": "2022-12-06T14:38:11.335Z"
   },
   {
    "duration": 13,
    "start_time": "2022-12-06T14:38:11.344Z"
   },
   {
    "duration": 392,
    "start_time": "2022-12-06T14:38:11.358Z"
   },
   {
    "duration": 4,
    "start_time": "2022-12-06T14:38:11.752Z"
   },
   {
    "duration": 77,
    "start_time": "2022-12-06T14:38:11.758Z"
   },
   {
    "duration": 6,
    "start_time": "2022-12-06T14:38:11.837Z"
   },
   {
    "duration": 118,
    "start_time": "2022-12-06T14:38:11.844Z"
   },
   {
    "duration": 11,
    "start_time": "2022-12-07T15:36:49.739Z"
   },
   {
    "duration": 2083,
    "start_time": "2022-12-07T15:36:55.874Z"
   },
   {
    "duration": 154,
    "start_time": "2022-12-07T15:36:57.959Z"
   },
   {
    "duration": 23,
    "start_time": "2022-12-07T15:36:58.115Z"
   },
   {
    "duration": 19,
    "start_time": "2022-12-07T15:36:58.141Z"
   },
   {
    "duration": 43,
    "start_time": "2022-12-07T15:36:59.084Z"
   },
   {
    "duration": 1875,
    "start_time": "2022-12-07T15:36:59.526Z"
   },
   {
    "duration": 7,
    "start_time": "2022-12-07T15:37:02.217Z"
   },
   {
    "duration": 6,
    "start_time": "2022-12-07T15:37:02.630Z"
   },
   {
    "duration": 6,
    "start_time": "2022-12-07T15:37:03.120Z"
   },
   {
    "duration": 6,
    "start_time": "2022-12-07T15:37:04.326Z"
   },
   {
    "duration": 13,
    "start_time": "2022-12-07T15:37:08.004Z"
   },
   {
    "duration": 3,
    "start_time": "2022-12-07T15:37:11.521Z"
   },
   {
    "duration": 121,
    "start_time": "2022-12-07T15:39:03.348Z"
   },
   {
    "duration": 27,
    "start_time": "2022-12-07T15:39:15.935Z"
   },
   {
    "duration": 5,
    "start_time": "2022-12-07T15:39:22.405Z"
   },
   {
    "duration": 4,
    "start_time": "2022-12-07T15:39:32.608Z"
   },
   {
    "duration": 4,
    "start_time": "2022-12-07T15:39:34.239Z"
   },
   {
    "duration": 5,
    "start_time": "2022-12-07T15:40:36.037Z"
   },
   {
    "duration": 5,
    "start_time": "2022-12-07T15:40:36.554Z"
   },
   {
    "duration": 10,
    "start_time": "2022-12-07T15:40:40.880Z"
   },
   {
    "duration": 9,
    "start_time": "2022-12-07T15:43:16.602Z"
   },
   {
    "duration": 18,
    "start_time": "2022-12-07T15:43:20.021Z"
   },
   {
    "duration": 14,
    "start_time": "2022-12-07T15:43:20.625Z"
   },
   {
    "duration": 4,
    "start_time": "2022-12-07T15:43:29.047Z"
   },
   {
    "duration": 3,
    "start_time": "2022-12-07T15:43:40.459Z"
   },
   {
    "duration": 5,
    "start_time": "2022-12-07T15:43:41.133Z"
   },
   {
    "duration": 6,
    "start_time": "2022-12-07T15:43:46.681Z"
   },
   {
    "duration": 4,
    "start_time": "2022-12-07T15:43:51.776Z"
   },
   {
    "duration": 139,
    "start_time": "2022-12-07T15:43:53.083Z"
   },
   {
    "duration": 6,
    "start_time": "2022-12-07T15:44:01.173Z"
   },
   {
    "duration": 1276,
    "start_time": "2022-12-07T15:44:03.536Z"
   },
   {
    "duration": 6,
    "start_time": "2022-12-07T15:44:06.893Z"
   },
   {
    "duration": 7,
    "start_time": "2022-12-07T15:45:28.468Z"
   },
   {
    "duration": 4,
    "start_time": "2022-12-07T15:45:30.796Z"
   },
   {
    "duration": 168,
    "start_time": "2022-12-07T15:45:32.345Z"
   },
   {
    "duration": 8,
    "start_time": "2022-12-07T15:45:36.207Z"
   },
   {
    "duration": 4,
    "start_time": "2022-12-07T15:45:38.904Z"
   },
   {
    "duration": 21,
    "start_time": "2022-12-07T15:45:39.602Z"
   },
   {
    "duration": 1586,
    "start_time": "2022-12-07T15:45:48.153Z"
   },
   {
    "duration": 6,
    "start_time": "2022-12-07T15:46:47.491Z"
   },
   {
    "duration": 8,
    "start_time": "2022-12-07T15:46:55.709Z"
   },
   {
    "duration": 7,
    "start_time": "2022-12-07T15:48:41.627Z"
   },
   {
    "duration": 5,
    "start_time": "2022-12-07T15:55:29.646Z"
   },
   {
    "duration": 9,
    "start_time": "2022-12-07T15:55:30.413Z"
   },
   {
    "duration": 6,
    "start_time": "2022-12-07T15:55:33.096Z"
   },
   {
    "duration": 6,
    "start_time": "2022-12-07T15:55:48.059Z"
   },
   {
    "duration": 5,
    "start_time": "2022-12-07T15:55:49.323Z"
   },
   {
    "duration": 4,
    "start_time": "2022-12-07T15:55:49.909Z"
   },
   {
    "duration": 5,
    "start_time": "2022-12-07T15:55:50.482Z"
   },
   {
    "duration": 5,
    "start_time": "2022-12-07T15:56:02.669Z"
   },
   {
    "duration": 11,
    "start_time": "2022-12-07T15:56:03.209Z"
   },
   {
    "duration": 7,
    "start_time": "2022-12-07T15:56:03.669Z"
   },
   {
    "duration": 4,
    "start_time": "2022-12-07T15:56:04.256Z"
   },
   {
    "duration": 5,
    "start_time": "2022-12-07T15:56:04.818Z"
   },
   {
    "duration": 5,
    "start_time": "2022-12-07T15:56:05.299Z"
   },
   {
    "duration": 5,
    "start_time": "2022-12-07T15:57:18.213Z"
   },
   {
    "duration": 4,
    "start_time": "2022-12-07T15:59:11.317Z"
   },
   {
    "duration": 9,
    "start_time": "2022-12-07T15:59:11.878Z"
   },
   {
    "duration": 7,
    "start_time": "2022-12-07T15:59:12.332Z"
   },
   {
    "duration": 5,
    "start_time": "2022-12-07T15:59:13.264Z"
   },
   {
    "duration": 5,
    "start_time": "2022-12-07T15:59:13.751Z"
   },
   {
    "duration": 4,
    "start_time": "2022-12-07T15:59:14.258Z"
   },
   {
    "duration": 4,
    "start_time": "2022-12-07T16:36:57.359Z"
   },
   {
    "duration": 9,
    "start_time": "2022-12-07T16:39:58.801Z"
   },
   {
    "duration": 16,
    "start_time": "2022-12-07T16:41:12.828Z"
   },
   {
    "duration": 11,
    "start_time": "2022-12-07T16:41:25.131Z"
   },
   {
    "duration": 4,
    "start_time": "2022-12-07T16:42:25.473Z"
   },
   {
    "duration": 10,
    "start_time": "2022-12-07T16:42:25.917Z"
   },
   {
    "duration": 7,
    "start_time": "2022-12-07T16:42:26.289Z"
   },
   {
    "duration": 5,
    "start_time": "2022-12-07T16:42:26.675Z"
   },
   {
    "duration": 5,
    "start_time": "2022-12-07T16:42:27.126Z"
   },
   {
    "duration": 5,
    "start_time": "2022-12-07T16:42:27.640Z"
   },
   {
    "duration": 150,
    "start_time": "2022-12-07T16:42:35.111Z"
   },
   {
    "duration": 31,
    "start_time": "2022-12-07T16:42:50.734Z"
   },
   {
    "duration": 20,
    "start_time": "2022-12-07T16:43:35.024Z"
   },
   {
    "duration": 21,
    "start_time": "2022-12-07T16:43:47.419Z"
   },
   {
    "duration": 17,
    "start_time": "2022-12-07T16:43:49.186Z"
   },
   {
    "duration": 15,
    "start_time": "2022-12-07T16:43:58.943Z"
   },
   {
    "duration": 16,
    "start_time": "2022-12-07T16:44:08.219Z"
   },
   {
    "duration": 4,
    "start_time": "2022-12-07T16:49:38.702Z"
   },
   {
    "duration": 637,
    "start_time": "2022-12-07T16:51:37.004Z"
   },
   {
    "duration": 5,
    "start_time": "2022-12-07T16:51:38.506Z"
   },
   {
    "duration": 613,
    "start_time": "2022-12-07T16:51:48.604Z"
   },
   {
    "duration": 5,
    "start_time": "2022-12-07T16:51:49.345Z"
   },
   {
    "duration": 564,
    "start_time": "2022-12-07T16:51:57.005Z"
   },
   {
    "duration": 4,
    "start_time": "2022-12-07T16:51:57.571Z"
   },
   {
    "duration": 678,
    "start_time": "2022-12-07T16:52:09.048Z"
   },
   {
    "duration": 8,
    "start_time": "2022-12-07T16:52:09.728Z"
   },
   {
    "duration": 5,
    "start_time": "2022-12-07T17:33:57.429Z"
   },
   {
    "duration": 24,
    "start_time": "2022-12-07T17:35:37.358Z"
   },
   {
    "duration": 22,
    "start_time": "2022-12-07T17:38:06.426Z"
   },
   {
    "duration": 700,
    "start_time": "2022-12-07T17:38:16.769Z"
   },
   {
    "duration": 3,
    "start_time": "2022-12-07T17:38:18.653Z"
   },
   {
    "duration": 25,
    "start_time": "2022-12-07T17:39:31.720Z"
   },
   {
    "duration": 691,
    "start_time": "2022-12-07T17:39:45.482Z"
   },
   {
    "duration": 4,
    "start_time": "2022-12-07T17:39:46.724Z"
   },
   {
    "duration": 96943,
    "start_time": "2022-12-07T17:43:11.041Z"
   },
   {
    "duration": 4,
    "start_time": "2022-12-07T17:45:10.937Z"
   },
   {
    "duration": 201,
    "start_time": "2022-12-07T17:48:18.701Z"
   },
   {
    "duration": 20106,
    "start_time": "2022-12-07T17:48:31.595Z"
   },
   {
    "duration": 20127,
    "start_time": "2022-12-07T17:49:05.368Z"
   },
   {
    "duration": 4,
    "start_time": "2022-12-07T17:49:26.697Z"
   },
   {
    "duration": 4,
    "start_time": "2022-12-07T18:11:35.300Z"
   },
   {
    "duration": 5,
    "start_time": "2022-12-07T18:11:42.995Z"
   },
   {
    "duration": 5,
    "start_time": "2022-12-07T18:11:50.159Z"
   },
   {
    "duration": 13,
    "start_time": "2022-12-08T15:01:01.581Z"
   },
   {
    "duration": 1492,
    "start_time": "2022-12-08T15:05:08.773Z"
   },
   {
    "duration": 3,
    "start_time": "2022-12-08T15:05:10.267Z"
   },
   {
    "duration": 138,
    "start_time": "2022-12-08T15:05:10.271Z"
   },
   {
    "duration": 25,
    "start_time": "2022-12-08T15:05:10.411Z"
   },
   {
    "duration": 13,
    "start_time": "2022-12-08T15:05:10.438Z"
   },
   {
    "duration": 40,
    "start_time": "2022-12-08T15:05:10.453Z"
   },
   {
    "duration": 1463,
    "start_time": "2022-12-08T15:05:10.495Z"
   },
   {
    "duration": 5,
    "start_time": "2022-12-08T15:05:11.960Z"
   },
   {
    "duration": 4,
    "start_time": "2022-12-08T15:05:11.968Z"
   },
   {
    "duration": 9,
    "start_time": "2022-12-08T15:05:11.976Z"
   },
   {
    "duration": 36,
    "start_time": "2022-12-08T15:05:11.987Z"
   },
   {
    "duration": 26,
    "start_time": "2022-12-08T15:05:12.028Z"
   },
   {
    "duration": 9,
    "start_time": "2022-12-08T15:05:12.055Z"
   },
   {
    "duration": 7,
    "start_time": "2022-12-08T15:05:12.066Z"
   },
   {
    "duration": 10,
    "start_time": "2022-12-08T15:05:12.075Z"
   },
   {
    "duration": 10,
    "start_time": "2022-12-08T15:05:12.086Z"
   },
   {
    "duration": 31,
    "start_time": "2022-12-08T15:05:12.097Z"
   },
   {
    "duration": 21,
    "start_time": "2022-12-08T15:05:12.133Z"
   },
   {
    "duration": 14,
    "start_time": "2022-12-08T15:05:12.156Z"
   },
   {
    "duration": 13,
    "start_time": "2022-12-08T15:05:12.172Z"
   },
   {
    "duration": 5,
    "start_time": "2022-12-08T15:05:12.221Z"
   },
   {
    "duration": 17,
    "start_time": "2022-12-08T15:05:12.229Z"
   },
   {
    "duration": 8,
    "start_time": "2022-12-08T15:05:12.248Z"
   },
   {
    "duration": 8,
    "start_time": "2022-12-08T15:05:12.258Z"
   },
   {
    "duration": 7,
    "start_time": "2022-12-08T15:05:12.268Z"
   },
   {
    "duration": 168,
    "start_time": "2022-12-08T15:05:12.277Z"
   },
   {
    "duration": 4,
    "start_time": "2022-12-08T15:05:12.447Z"
   },
   {
    "duration": 1208,
    "start_time": "2022-12-08T15:05:12.456Z"
   },
   {
    "duration": 5,
    "start_time": "2022-12-08T15:05:13.665Z"
   },
   {
    "duration": 10,
    "start_time": "2022-12-08T15:05:13.671Z"
   },
   {
    "duration": 6,
    "start_time": "2022-12-08T15:05:13.683Z"
   },
   {
    "duration": 162,
    "start_time": "2022-12-08T15:05:13.690Z"
   },
   {
    "duration": 6,
    "start_time": "2022-12-08T15:05:13.853Z"
   },
   {
    "duration": 13,
    "start_time": "2022-12-08T15:05:13.861Z"
   },
   {
    "duration": 18,
    "start_time": "2022-12-08T15:05:13.876Z"
   },
   {
    "duration": 1265,
    "start_time": "2022-12-08T15:05:13.896Z"
   },
   {
    "duration": 8,
    "start_time": "2022-12-08T15:05:15.163Z"
   },
   {
    "duration": 70,
    "start_time": "2022-12-08T15:05:15.173Z"
   },
   {
    "duration": 34,
    "start_time": "2022-12-08T15:05:15.245Z"
   },
   {
    "duration": 18,
    "start_time": "2022-12-08T15:05:15.281Z"
   },
   {
    "duration": 16,
    "start_time": "2022-12-08T15:05:15.301Z"
   },
   {
    "duration": 27,
    "start_time": "2022-12-08T15:05:15.319Z"
   },
   {
    "duration": 23,
    "start_time": "2022-12-08T15:05:15.348Z"
   },
   {
    "duration": 22,
    "start_time": "2022-12-08T15:05:15.373Z"
   },
   {
    "duration": 27,
    "start_time": "2022-12-08T15:05:15.397Z"
   },
   {
    "duration": 34,
    "start_time": "2022-12-08T15:05:15.426Z"
   },
   {
    "duration": 20,
    "start_time": "2022-12-08T15:05:15.463Z"
   },
   {
    "duration": 652,
    "start_time": "2022-12-08T15:05:15.485Z"
   },
   {
    "duration": 4,
    "start_time": "2022-12-08T15:05:16.140Z"
   },
   {
    "duration": 94815,
    "start_time": "2022-12-08T15:05:16.146Z"
   },
   {
    "duration": 4,
    "start_time": "2022-12-08T15:06:50.963Z"
   },
   {
    "duration": 19982,
    "start_time": "2022-12-08T15:06:50.968Z"
   },
   {
    "duration": 4,
    "start_time": "2022-12-08T15:07:10.952Z"
   },
   {
    "duration": 7,
    "start_time": "2022-12-08T15:07:10.957Z"
   },
   {
    "duration": 6,
    "start_time": "2022-12-08T15:07:10.966Z"
   },
   {
    "duration": 9,
    "start_time": "2022-12-08T15:07:10.973Z"
   },
   {
    "duration": 37,
    "start_time": "2022-12-08T15:07:10.984Z"
   },
   {
    "duration": 6,
    "start_time": "2022-12-08T15:07:11.023Z"
   },
   {
    "duration": 31,
    "start_time": "2022-12-08T15:07:11.031Z"
   },
   {
    "duration": 10,
    "start_time": "2022-12-08T15:07:11.064Z"
   },
   {
    "duration": 459,
    "start_time": "2022-12-08T15:07:11.076Z"
   },
   {
    "duration": 59,
    "start_time": "2022-12-08T15:07:11.536Z"
   },
   {
    "duration": 5,
    "start_time": "2022-12-08T15:07:11.596Z"
   },
   {
    "duration": 144,
    "start_time": "2022-12-08T15:07:11.602Z"
   },
   {
    "duration": 1307,
    "start_time": "2022-12-08T16:57:13.983Z"
   },
   {
    "duration": 3,
    "start_time": "2022-12-08T16:57:15.292Z"
   },
   {
    "duration": 54,
    "start_time": "2022-12-08T16:57:15.296Z"
   },
   {
    "duration": 19,
    "start_time": "2022-12-08T16:57:15.352Z"
   },
   {
    "duration": 12,
    "start_time": "2022-12-08T16:57:15.373Z"
   },
   {
    "duration": 59,
    "start_time": "2022-12-08T16:57:15.387Z"
   },
   {
    "duration": 1454,
    "start_time": "2022-12-08T16:57:15.447Z"
   },
   {
    "duration": 4,
    "start_time": "2022-12-08T16:57:16.903Z"
   },
   {
    "duration": 16,
    "start_time": "2022-12-08T16:57:16.909Z"
   },
   {
    "duration": 5,
    "start_time": "2022-12-08T16:57:16.928Z"
   },
   {
    "duration": 6,
    "start_time": "2022-12-08T16:57:16.935Z"
   },
   {
    "duration": 13,
    "start_time": "2022-12-08T16:57:16.942Z"
   },
   {
    "duration": 6,
    "start_time": "2022-12-08T16:57:16.957Z"
   },
   {
    "duration": 11,
    "start_time": "2022-12-08T16:57:16.965Z"
   },
   {
    "duration": 45,
    "start_time": "2022-12-08T16:57:16.977Z"
   },
   {
    "duration": 5,
    "start_time": "2022-12-08T16:57:17.024Z"
   },
   {
    "duration": 13,
    "start_time": "2022-12-08T16:57:17.031Z"
   },
   {
    "duration": 12,
    "start_time": "2022-12-08T16:57:17.045Z"
   },
   {
    "duration": 14,
    "start_time": "2022-12-08T16:57:17.059Z"
   },
   {
    "duration": 48,
    "start_time": "2022-12-08T16:57:17.075Z"
   },
   {
    "duration": 9,
    "start_time": "2022-12-08T16:57:17.124Z"
   },
   {
    "duration": 12,
    "start_time": "2022-12-08T16:57:17.134Z"
   },
   {
    "duration": 7,
    "start_time": "2022-12-08T16:57:17.148Z"
   },
   {
    "duration": 12,
    "start_time": "2022-12-08T16:57:17.156Z"
   },
   {
    "duration": 9,
    "start_time": "2022-12-08T16:57:17.170Z"
   },
   {
    "duration": 159,
    "start_time": "2022-12-08T16:57:17.180Z"
   },
   {
    "duration": 5,
    "start_time": "2022-12-08T16:57:17.340Z"
   },
   {
    "duration": 1281,
    "start_time": "2022-12-08T16:57:17.349Z"
   },
   {
    "duration": 5,
    "start_time": "2022-12-08T16:57:18.632Z"
   },
   {
    "duration": 8,
    "start_time": "2022-12-08T16:57:18.639Z"
   },
   {
    "duration": 3,
    "start_time": "2022-12-08T16:57:18.648Z"
   },
   {
    "duration": 171,
    "start_time": "2022-12-08T16:57:18.652Z"
   },
   {
    "duration": 6,
    "start_time": "2022-12-08T16:57:18.824Z"
   },
   {
    "duration": 6,
    "start_time": "2022-12-08T16:57:18.832Z"
   },
   {
    "duration": 19,
    "start_time": "2022-12-08T16:57:18.840Z"
   },
   {
    "duration": 1269,
    "start_time": "2022-12-08T16:57:18.860Z"
   },
   {
    "duration": 6,
    "start_time": "2022-12-08T16:57:20.131Z"
   },
   {
    "duration": 12,
    "start_time": "2022-12-08T16:57:20.139Z"
   },
   {
    "duration": 25,
    "start_time": "2022-12-08T16:57:20.153Z"
   },
   {
    "duration": 14,
    "start_time": "2022-12-08T16:57:20.179Z"
   },
   {
    "duration": 9,
    "start_time": "2022-12-08T16:57:20.195Z"
   },
   {
    "duration": 17,
    "start_time": "2022-12-08T16:57:20.205Z"
   },
   {
    "duration": 12,
    "start_time": "2022-12-08T16:57:20.223Z"
   },
   {
    "duration": 18,
    "start_time": "2022-12-08T16:57:20.237Z"
   },
   {
    "duration": 12,
    "start_time": "2022-12-08T16:57:20.256Z"
   },
   {
    "duration": 34,
    "start_time": "2022-12-08T16:57:20.269Z"
   },
   {
    "duration": 22,
    "start_time": "2022-12-08T16:57:20.305Z"
   },
   {
    "duration": 604,
    "start_time": "2022-12-08T16:57:20.329Z"
   },
   {
    "duration": 3,
    "start_time": "2022-12-08T16:57:20.935Z"
   },
   {
    "duration": 89561,
    "start_time": "2022-12-08T16:57:20.940Z"
   },
   {
    "duration": 5,
    "start_time": "2022-12-08T16:58:50.502Z"
   },
   {
    "duration": 20449,
    "start_time": "2022-12-08T16:58:50.509Z"
   },
   {
    "duration": 6,
    "start_time": "2022-12-08T16:59:10.959Z"
   },
   {
    "duration": 13,
    "start_time": "2022-12-08T16:59:10.966Z"
   },
   {
    "duration": 7,
    "start_time": "2022-12-08T16:59:10.981Z"
   },
   {
    "duration": 37,
    "start_time": "2022-12-08T16:59:10.989Z"
   },
   {
    "duration": 9,
    "start_time": "2022-12-08T16:59:11.028Z"
   },
   {
    "duration": 27,
    "start_time": "2022-12-08T16:59:11.039Z"
   },
   {
    "duration": 21,
    "start_time": "2022-12-08T16:59:11.068Z"
   },
   {
    "duration": 11,
    "start_time": "2022-12-08T16:59:11.091Z"
   },
   {
    "duration": 10,
    "start_time": "2022-12-08T16:59:11.103Z"
   },
   {
    "duration": 11,
    "start_time": "2022-12-08T16:59:11.115Z"
   },
   {
    "duration": 18,
    "start_time": "2022-12-08T16:59:11.128Z"
   },
   {
    "duration": 5,
    "start_time": "2022-12-08T16:59:11.148Z"
   },
   {
    "duration": 6,
    "start_time": "2022-12-08T17:15:17.712Z"
   },
   {
    "duration": 616,
    "start_time": "2022-12-08T17:15:18.449Z"
   },
   {
    "duration": 5,
    "start_time": "2022-12-08T17:15:25.879Z"
   },
   {
    "duration": 112,
    "start_time": "2022-12-08T17:18:06.048Z"
   },
   {
    "duration": 177,
    "start_time": "2022-12-08T17:18:16.624Z"
   },
   {
    "duration": 3,
    "start_time": "2022-12-08T17:18:40.235Z"
   },
   {
    "duration": 4,
    "start_time": "2022-12-08T17:20:24.930Z"
   },
   {
    "duration": 12,
    "start_time": "2022-12-08T17:20:35.344Z"
   },
   {
    "duration": 16,
    "start_time": "2022-12-08T17:21:25.280Z"
   },
   {
    "duration": 4,
    "start_time": "2022-12-08T17:21:45.202Z"
   },
   {
    "duration": 9,
    "start_time": "2022-12-08T17:21:46.653Z"
   },
   {
    "duration": 5,
    "start_time": "2022-12-08T17:22:59.769Z"
   },
   {
    "duration": 11,
    "start_time": "2022-12-08T17:23:00.335Z"
   },
   {
    "duration": 7,
    "start_time": "2022-12-08T17:24:35.075Z"
   },
   {
    "duration": 93585,
    "start_time": "2022-12-08T17:24:36.315Z"
   },
   {
    "duration": 4,
    "start_time": "2022-12-08T17:26:17.465Z"
   },
   {
    "duration": 19,
    "start_time": "2022-12-08T17:26:29.497Z"
   },
   {
    "duration": 5,
    "start_time": "2022-12-08T17:26:48.640Z"
   },
   {
    "duration": 9,
    "start_time": "2022-12-08T17:26:49.296Z"
   },
   {
    "duration": 7,
    "start_time": "2022-12-08T17:28:52.572Z"
   },
   {
    "duration": 11,
    "start_time": "2022-12-08T17:28:53.536Z"
   },
   {
    "duration": 9,
    "start_time": "2022-12-08T17:29:01.421Z"
   },
   {
    "duration": 9,
    "start_time": "2022-12-08T17:30:13.772Z"
   },
   {
    "duration": 5,
    "start_time": "2022-12-08T17:33:27.001Z"
   },
   {
    "duration": 9,
    "start_time": "2022-12-08T17:33:59.399Z"
   },
   {
    "duration": 19984,
    "start_time": "2022-12-08T17:34:46.991Z"
   },
   {
    "duration": 52,
    "start_time": "2022-12-08T17:35:06.977Z"
   },
   {
    "duration": 6,
    "start_time": "2022-12-08T17:35:10.161Z"
   },
   {
    "duration": 9,
    "start_time": "2022-12-08T17:35:10.593Z"
   },
   {
    "duration": 6,
    "start_time": "2022-12-08T17:35:16.895Z"
   },
   {
    "duration": 9,
    "start_time": "2022-12-08T17:35:17.211Z"
   },
   {
    "duration": 1295,
    "start_time": "2022-12-08T17:37:22.335Z"
   },
   {
    "duration": 2,
    "start_time": "2022-12-08T17:37:23.633Z"
   },
   {
    "duration": 56,
    "start_time": "2022-12-08T17:37:23.637Z"
   },
   {
    "duration": 16,
    "start_time": "2022-12-08T17:37:23.695Z"
   },
   {
    "duration": 23,
    "start_time": "2022-12-08T17:37:23.713Z"
   },
   {
    "duration": 43,
    "start_time": "2022-12-08T17:37:23.737Z"
   },
   {
    "duration": 1392,
    "start_time": "2022-12-08T17:37:23.782Z"
   },
   {
    "duration": 5,
    "start_time": "2022-12-08T17:37:25.176Z"
   },
   {
    "duration": 22,
    "start_time": "2022-12-08T17:37:25.183Z"
   },
   {
    "duration": 13,
    "start_time": "2022-12-08T17:37:25.221Z"
   },
   {
    "duration": 32,
    "start_time": "2022-12-08T17:37:25.238Z"
   },
   {
    "duration": 16,
    "start_time": "2022-12-08T17:37:25.272Z"
   },
   {
    "duration": 18,
    "start_time": "2022-12-08T17:37:25.290Z"
   },
   {
    "duration": 20,
    "start_time": "2022-12-08T17:37:25.309Z"
   },
   {
    "duration": 39,
    "start_time": "2022-12-08T17:37:25.330Z"
   },
   {
    "duration": 22,
    "start_time": "2022-12-08T17:37:25.371Z"
   },
   {
    "duration": 16,
    "start_time": "2022-12-08T17:37:25.395Z"
   },
   {
    "duration": 25,
    "start_time": "2022-12-08T17:37:25.413Z"
   },
   {
    "duration": 31,
    "start_time": "2022-12-08T17:37:25.440Z"
   },
   {
    "duration": 25,
    "start_time": "2022-12-08T17:37:25.473Z"
   },
   {
    "duration": 9,
    "start_time": "2022-12-08T17:37:25.500Z"
   },
   {
    "duration": 6,
    "start_time": "2022-12-08T17:37:25.510Z"
   },
   {
    "duration": 25,
    "start_time": "2022-12-08T17:37:25.518Z"
   },
   {
    "duration": 12,
    "start_time": "2022-12-08T17:37:25.546Z"
   },
   {
    "duration": 7,
    "start_time": "2022-12-08T17:37:25.559Z"
   },
   {
    "duration": 137,
    "start_time": "2022-12-08T17:37:25.568Z"
   },
   {
    "duration": 25,
    "start_time": "2022-12-08T17:37:25.706Z"
   },
   {
    "duration": 1112,
    "start_time": "2022-12-08T17:37:25.735Z"
   },
   {
    "duration": 4,
    "start_time": "2022-12-08T17:37:26.849Z"
   },
   {
    "duration": 25,
    "start_time": "2022-12-08T17:37:26.854Z"
   },
   {
    "duration": 11,
    "start_time": "2022-12-08T17:37:26.881Z"
   },
   {
    "duration": 146,
    "start_time": "2022-12-08T17:37:26.893Z"
   },
   {
    "duration": 5,
    "start_time": "2022-12-08T17:37:27.041Z"
   },
   {
    "duration": 12,
    "start_time": "2022-12-08T17:37:27.048Z"
   },
   {
    "duration": 34,
    "start_time": "2022-12-08T17:37:27.061Z"
   },
   {
    "duration": 1245,
    "start_time": "2022-12-08T17:37:27.097Z"
   },
   {
    "duration": 6,
    "start_time": "2022-12-08T17:37:28.344Z"
   },
   {
    "duration": 6,
    "start_time": "2022-12-08T17:37:28.351Z"
   },
   {
    "duration": 9,
    "start_time": "2022-12-08T17:37:28.359Z"
   },
   {
    "duration": 6,
    "start_time": "2022-12-08T17:37:28.369Z"
   },
   {
    "duration": 7,
    "start_time": "2022-12-08T17:37:28.376Z"
   },
   {
    "duration": 50,
    "start_time": "2022-12-08T17:37:28.385Z"
   },
   {
    "duration": 9,
    "start_time": "2022-12-08T17:37:28.437Z"
   },
   {
    "duration": 14,
    "start_time": "2022-12-08T17:37:28.447Z"
   },
   {
    "duration": 13,
    "start_time": "2022-12-08T17:37:28.463Z"
   },
   {
    "duration": 23,
    "start_time": "2022-12-08T17:37:28.478Z"
   },
   {
    "duration": 36,
    "start_time": "2022-12-08T17:37:28.502Z"
   },
   {
    "duration": 6,
    "start_time": "2022-12-08T17:37:28.539Z"
   },
   {
    "duration": 615,
    "start_time": "2022-12-08T17:37:28.547Z"
   },
   {
    "duration": 4,
    "start_time": "2022-12-08T17:37:29.164Z"
   },
   {
    "duration": 7,
    "start_time": "2022-12-08T17:37:29.169Z"
   },
   {
    "duration": 12,
    "start_time": "2022-12-08T17:37:29.177Z"
   },
   {
    "duration": 8,
    "start_time": "2022-12-08T17:37:29.190Z"
   },
   {
    "duration": 90306,
    "start_time": "2022-12-08T17:37:29.220Z"
   },
   {
    "duration": 5,
    "start_time": "2022-12-08T17:38:59.532Z"
   },
   {
    "duration": 15,
    "start_time": "2022-12-08T17:38:59.540Z"
   },
   {
    "duration": 24,
    "start_time": "2022-12-08T17:38:59.557Z"
   },
   {
    "duration": 15,
    "start_time": "2022-12-08T17:38:59.583Z"
   },
   {
    "duration": 311,
    "start_time": "2022-12-08T17:38:59.599Z"
   },
   {
    "duration": 0,
    "start_time": "2022-12-08T17:38:59.912Z"
   },
   {
    "duration": 0,
    "start_time": "2022-12-08T17:38:59.913Z"
   },
   {
    "duration": 0,
    "start_time": "2022-12-08T17:38:59.914Z"
   },
   {
    "duration": 0,
    "start_time": "2022-12-08T17:38:59.921Z"
   },
   {
    "duration": 0,
    "start_time": "2022-12-08T17:38:59.922Z"
   },
   {
    "duration": 0,
    "start_time": "2022-12-08T17:38:59.923Z"
   },
   {
    "duration": 0,
    "start_time": "2022-12-08T17:38:59.926Z"
   },
   {
    "duration": 0,
    "start_time": "2022-12-08T17:38:59.927Z"
   },
   {
    "duration": 0,
    "start_time": "2022-12-08T17:38:59.928Z"
   },
   {
    "duration": 0,
    "start_time": "2022-12-08T17:38:59.929Z"
   },
   {
    "duration": 1,
    "start_time": "2022-12-08T17:38:59.929Z"
   },
   {
    "duration": 0,
    "start_time": "2022-12-08T17:38:59.930Z"
   },
   {
    "duration": 0,
    "start_time": "2022-12-08T17:38:59.931Z"
   },
   {
    "duration": 0,
    "start_time": "2022-12-08T17:38:59.937Z"
   },
   {
    "duration": 0,
    "start_time": "2022-12-08T17:38:59.938Z"
   },
   {
    "duration": 104,
    "start_time": "2022-12-08T17:41:28.021Z"
   },
   {
    "duration": 8,
    "start_time": "2022-12-08T17:42:14.167Z"
   },
   {
    "duration": 6,
    "start_time": "2022-12-08T17:42:18.388Z"
   },
   {
    "duration": 51,
    "start_time": "2022-12-08T17:42:18.781Z"
   },
   {
    "duration": 5,
    "start_time": "2022-12-08T17:42:48.176Z"
   },
   {
    "duration": 13545,
    "start_time": "2022-12-08T17:42:48.792Z"
   },
   {
    "duration": 3,
    "start_time": "2022-12-08T17:43:04.494Z"
   },
   {
    "duration": 7,
    "start_time": "2022-12-08T17:43:04.888Z"
   },
   {
    "duration": 9,
    "start_time": "2022-12-08T17:43:07.014Z"
   },
   {
    "duration": 6,
    "start_time": "2022-12-08T17:47:42.890Z"
   },
   {
    "duration": 9,
    "start_time": "2022-12-08T17:47:43.617Z"
   },
   {
    "duration": 610,
    "start_time": "2022-12-08T17:48:01.260Z"
   },
   {
    "duration": 5,
    "start_time": "2022-12-08T17:48:03.432Z"
   },
   {
    "duration": 4,
    "start_time": "2022-12-08T17:48:04.498Z"
   },
   {
    "duration": 8,
    "start_time": "2022-12-08T17:48:05.107Z"
   },
   {
    "duration": 6,
    "start_time": "2022-12-08T17:48:57.300Z"
   },
   {
    "duration": 8,
    "start_time": "2022-12-08T17:48:57.936Z"
   },
   {
    "duration": 87021,
    "start_time": "2022-12-08T17:49:11.602Z"
   },
   {
    "duration": 5,
    "start_time": "2022-12-08T17:50:38.625Z"
   },
   {
    "duration": 8,
    "start_time": "2022-12-08T17:50:38.631Z"
   },
   {
    "duration": 10,
    "start_time": "2022-12-08T17:50:38.641Z"
   },
   {
    "duration": 5,
    "start_time": "2022-12-08T17:53:44.329Z"
   },
   {
    "duration": 15427,
    "start_time": "2022-12-08T17:53:45.194Z"
   },
   {
    "duration": 5,
    "start_time": "2022-12-08T17:54:00.624Z"
   },
   {
    "duration": 118,
    "start_time": "2022-12-08T17:54:00.631Z"
   },
   {
    "duration": 24,
    "start_time": "2022-12-08T17:54:00.751Z"
   },
   {
    "duration": 1368,
    "start_time": "2022-12-08T17:54:07.247Z"
   },
   {
    "duration": 3,
    "start_time": "2022-12-08T17:54:08.617Z"
   },
   {
    "duration": 44,
    "start_time": "2022-12-08T17:54:08.622Z"
   },
   {
    "duration": 18,
    "start_time": "2022-12-08T17:54:08.667Z"
   },
   {
    "duration": 14,
    "start_time": "2022-12-08T17:54:08.688Z"
   },
   {
    "duration": 50,
    "start_time": "2022-12-08T17:54:08.704Z"
   },
   {
    "duration": 1359,
    "start_time": "2022-12-08T17:54:08.756Z"
   },
   {
    "duration": 5,
    "start_time": "2022-12-08T17:54:10.117Z"
   },
   {
    "duration": 8,
    "start_time": "2022-12-08T17:54:10.123Z"
   },
   {
    "duration": 7,
    "start_time": "2022-12-08T17:54:10.132Z"
   },
   {
    "duration": 7,
    "start_time": "2022-12-08T17:54:10.140Z"
   },
   {
    "duration": 17,
    "start_time": "2022-12-08T17:54:10.148Z"
   },
   {
    "duration": 7,
    "start_time": "2022-12-08T17:54:10.166Z"
   },
   {
    "duration": 45,
    "start_time": "2022-12-08T17:54:10.176Z"
   },
   {
    "duration": 3,
    "start_time": "2022-12-08T17:54:10.223Z"
   },
   {
    "duration": 9,
    "start_time": "2022-12-08T17:54:10.228Z"
   },
   {
    "duration": 11,
    "start_time": "2022-12-08T17:54:10.238Z"
   },
   {
    "duration": 18,
    "start_time": "2022-12-08T17:54:10.250Z"
   },
   {
    "duration": 13,
    "start_time": "2022-12-08T17:54:10.269Z"
   },
   {
    "duration": 39,
    "start_time": "2022-12-08T17:54:10.283Z"
   },
   {
    "duration": 4,
    "start_time": "2022-12-08T17:54:10.323Z"
   },
   {
    "duration": 5,
    "start_time": "2022-12-08T17:54:10.328Z"
   },
   {
    "duration": 7,
    "start_time": "2022-12-08T17:54:10.335Z"
   },
   {
    "duration": 10,
    "start_time": "2022-12-08T17:54:10.343Z"
   },
   {
    "duration": 6,
    "start_time": "2022-12-08T17:54:10.354Z"
   },
   {
    "duration": 156,
    "start_time": "2022-12-08T17:54:10.362Z"
   },
   {
    "duration": 5,
    "start_time": "2022-12-08T17:54:10.521Z"
   },
   {
    "duration": 1213,
    "start_time": "2022-12-08T17:54:10.527Z"
   },
   {
    "duration": 4,
    "start_time": "2022-12-08T17:54:11.742Z"
   },
   {
    "duration": 8,
    "start_time": "2022-12-08T17:54:11.748Z"
   },
   {
    "duration": 5,
    "start_time": "2022-12-08T17:54:11.757Z"
   },
   {
    "duration": 159,
    "start_time": "2022-12-08T17:54:11.764Z"
   },
   {
    "duration": 5,
    "start_time": "2022-12-08T17:54:11.925Z"
   },
   {
    "duration": 20,
    "start_time": "2022-12-08T17:54:11.932Z"
   },
   {
    "duration": 18,
    "start_time": "2022-12-08T17:54:11.953Z"
   },
   {
    "duration": 1185,
    "start_time": "2022-12-08T17:54:11.973Z"
   },
   {
    "duration": 8,
    "start_time": "2022-12-08T17:54:13.160Z"
   },
   {
    "duration": 25,
    "start_time": "2022-12-08T17:54:13.170Z"
   },
   {
    "duration": 15,
    "start_time": "2022-12-08T17:54:13.197Z"
   },
   {
    "duration": 11,
    "start_time": "2022-12-08T17:54:13.214Z"
   },
   {
    "duration": 5,
    "start_time": "2022-12-08T17:54:13.231Z"
   },
   {
    "duration": 12,
    "start_time": "2022-12-08T17:54:13.237Z"
   },
   {
    "duration": 9,
    "start_time": "2022-12-08T17:54:13.250Z"
   },
   {
    "duration": 23,
    "start_time": "2022-12-08T17:54:13.261Z"
   },
   {
    "duration": 36,
    "start_time": "2022-12-08T17:54:13.285Z"
   },
   {
    "duration": 13,
    "start_time": "2022-12-08T17:54:13.323Z"
   },
   {
    "duration": 19,
    "start_time": "2022-12-08T17:54:13.338Z"
   },
   {
    "duration": 22,
    "start_time": "2022-12-08T17:54:13.358Z"
   },
   {
    "duration": 602,
    "start_time": "2022-12-08T17:54:13.381Z"
   },
   {
    "duration": 4,
    "start_time": "2022-12-08T17:54:13.985Z"
   },
   {
    "duration": 7,
    "start_time": "2022-12-08T17:54:13.991Z"
   },
   {
    "duration": 26,
    "start_time": "2022-12-08T17:54:14.000Z"
   },
   {
    "duration": 7,
    "start_time": "2022-12-08T17:54:14.028Z"
   },
   {
    "duration": 87724,
    "start_time": "2022-12-08T17:54:14.037Z"
   },
   {
    "duration": 3,
    "start_time": "2022-12-08T17:55:41.763Z"
   },
   {
    "duration": 16,
    "start_time": "2022-12-08T17:55:41.768Z"
   },
   {
    "duration": 23,
    "start_time": "2022-12-08T17:55:41.785Z"
   },
   {
    "duration": 11,
    "start_time": "2022-12-08T17:55:41.810Z"
   },
   {
    "duration": 15908,
    "start_time": "2022-12-08T17:55:41.823Z"
   },
   {
    "duration": 189,
    "start_time": "2022-12-08T17:55:57.733Z"
   },
   {
    "duration": 6,
    "start_time": "2022-12-08T17:55:57.923Z"
   },
   {
    "duration": 13,
    "start_time": "2022-12-08T17:55:57.931Z"
   },
   {
    "duration": 14,
    "start_time": "2022-12-08T17:55:57.945Z"
   },
   {
    "duration": 124,
    "start_time": "2022-12-08T17:55:57.961Z"
   },
   {
    "duration": 0,
    "start_time": "2022-12-08T17:55:58.087Z"
   },
   {
    "duration": 0,
    "start_time": "2022-12-08T17:55:58.088Z"
   },
   {
    "duration": 0,
    "start_time": "2022-12-08T17:55:58.089Z"
   },
   {
    "duration": 0,
    "start_time": "2022-12-08T17:55:58.090Z"
   },
   {
    "duration": 0,
    "start_time": "2022-12-08T17:55:58.091Z"
   },
   {
    "duration": 0,
    "start_time": "2022-12-08T17:55:58.093Z"
   },
   {
    "duration": 0,
    "start_time": "2022-12-08T17:55:58.094Z"
   },
   {
    "duration": 0,
    "start_time": "2022-12-08T17:55:58.095Z"
   },
   {
    "duration": 0,
    "start_time": "2022-12-08T17:55:58.095Z"
   },
   {
    "duration": 0,
    "start_time": "2022-12-08T17:55:58.096Z"
   },
   {
    "duration": 8,
    "start_time": "2022-12-08T17:56:39.263Z"
   },
   {
    "duration": 3,
    "start_time": "2022-12-08T17:56:46.142Z"
   },
   {
    "duration": 3,
    "start_time": "2022-12-08T17:57:22.648Z"
   },
   {
    "duration": 5,
    "start_time": "2022-12-08T17:57:40.604Z"
   },
   {
    "duration": 21,
    "start_time": "2022-12-08T17:57:51.622Z"
   },
   {
    "duration": 5,
    "start_time": "2022-12-08T17:58:21.535Z"
   },
   {
    "duration": 4,
    "start_time": "2022-12-08T17:58:28.026Z"
   },
   {
    "duration": 6,
    "start_time": "2022-12-08T17:58:28.705Z"
   },
   {
    "duration": 8,
    "start_time": "2022-12-08T17:58:29.538Z"
   },
   {
    "duration": 4,
    "start_time": "2022-12-08T17:58:43.737Z"
   },
   {
    "duration": 4,
    "start_time": "2022-12-08T17:58:44.462Z"
   },
   {
    "duration": 6,
    "start_time": "2022-12-08T17:59:17.352Z"
   },
   {
    "duration": 7,
    "start_time": "2022-12-08T18:01:11.897Z"
   },
   {
    "duration": 9,
    "start_time": "2022-12-08T18:02:27.944Z"
   },
   {
    "duration": 8,
    "start_time": "2022-12-08T18:02:38.684Z"
   },
   {
    "duration": 7,
    "start_time": "2022-12-08T18:03:04.740Z"
   },
   {
    "duration": 799,
    "start_time": "2022-12-08T18:04:09.206Z"
   },
   {
    "duration": 5,
    "start_time": "2022-12-08T18:04:14.025Z"
   },
   {
    "duration": 8,
    "start_time": "2022-12-08T18:04:43.403Z"
   },
   {
    "duration": 11,
    "start_time": "2022-12-08T18:04:43.952Z"
   },
   {
    "duration": 120029,
    "start_time": "2022-12-08T18:05:44.980Z"
   },
   {
    "duration": 10,
    "start_time": "2022-12-08T18:07:45.011Z"
   },
   {
    "duration": 18,
    "start_time": "2022-12-08T18:07:45.023Z"
   },
   {
    "duration": 25,
    "start_time": "2022-12-08T18:07:45.043Z"
   },
   {
    "duration": 315,
    "start_time": "2022-12-08T18:07:54.819Z"
   },
   {
    "duration": 11,
    "start_time": "2022-12-08T18:07:55.261Z"
   },
   {
    "duration": 125,
    "start_time": "2022-12-08T18:08:08.905Z"
   },
   {
    "duration": 5,
    "start_time": "2022-12-08T18:09:22.711Z"
   },
   {
    "duration": 14120,
    "start_time": "2022-12-08T18:09:28.710Z"
   },
   {
    "duration": 89,
    "start_time": "2022-12-08T18:09:42.833Z"
   },
   {
    "duration": 104,
    "start_time": "2022-12-08T18:09:42.924Z"
   },
   {
    "duration": 16,
    "start_time": "2022-12-08T18:09:43.030Z"
   },
   {
    "duration": 5,
    "start_time": "2022-12-08T18:11:37.119Z"
   },
   {
    "duration": 4,
    "start_time": "2022-12-08T18:12:04.145Z"
   },
   {
    "duration": 6,
    "start_time": "2022-12-08T18:13:23.170Z"
   },
   {
    "duration": 44,
    "start_time": "2022-12-08T18:14:12.060Z"
   },
   {
    "duration": 8,
    "start_time": "2022-12-08T18:14:17.299Z"
   },
   {
    "duration": 6,
    "start_time": "2022-12-08T18:14:33.579Z"
   },
   {
    "duration": 8,
    "start_time": "2022-12-08T18:14:47.971Z"
   },
   {
    "duration": 6,
    "start_time": "2022-12-08T18:14:48.756Z"
   },
   {
    "duration": 10,
    "start_time": "2022-12-08T18:15:00.942Z"
   },
   {
    "duration": 6,
    "start_time": "2022-12-08T18:15:01.342Z"
   },
   {
    "duration": 8,
    "start_time": "2022-12-08T18:15:10.124Z"
   },
   {
    "duration": 10,
    "start_time": "2022-12-08T18:15:23.077Z"
   },
   {
    "duration": 8,
    "start_time": "2022-12-08T18:15:23.545Z"
   },
   {
    "duration": 11,
    "start_time": "2022-12-08T18:16:18.609Z"
   },
   {
    "duration": 7,
    "start_time": "2022-12-08T18:16:19.105Z"
   },
   {
    "duration": 10,
    "start_time": "2022-12-08T18:16:26.364Z"
   },
   {
    "duration": 7,
    "start_time": "2022-12-08T18:16:26.836Z"
   },
   {
    "duration": 8,
    "start_time": "2022-12-08T18:16:46.681Z"
   },
   {
    "duration": 6,
    "start_time": "2022-12-08T18:16:46.945Z"
   },
   {
    "duration": 9,
    "start_time": "2022-12-08T18:16:52.144Z"
   },
   {
    "duration": 6,
    "start_time": "2022-12-08T18:16:52.493Z"
   },
   {
    "duration": 9,
    "start_time": "2022-12-08T18:16:57.459Z"
   },
   {
    "duration": 6,
    "start_time": "2022-12-08T18:16:57.801Z"
   },
   {
    "duration": 8,
    "start_time": "2022-12-08T18:17:41.779Z"
   },
   {
    "duration": 6,
    "start_time": "2022-12-08T18:17:42.041Z"
   },
   {
    "duration": 856,
    "start_time": "2022-12-08T18:18:38.401Z"
   },
   {
    "duration": 3,
    "start_time": "2022-12-08T18:18:39.259Z"
   },
   {
    "duration": 6,
    "start_time": "2022-12-08T18:19:07.859Z"
   },
   {
    "duration": 10,
    "start_time": "2022-12-08T18:19:08.286Z"
   },
   {
    "duration": 389,
    "start_time": "2022-12-08T18:20:12.965Z"
   },
   {
    "duration": 4,
    "start_time": "2022-12-08T18:20:18.790Z"
   },
   {
    "duration": 6,
    "start_time": "2022-12-08T18:20:41.505Z"
   },
   {
    "duration": 8,
    "start_time": "2022-12-08T18:20:46.444Z"
   },
   {
    "duration": 55303,
    "start_time": "2022-12-08T18:21:15.914Z"
   },
   {
    "duration": 8,
    "start_time": "2022-12-08T18:22:11.218Z"
   },
   {
    "duration": 25,
    "start_time": "2022-12-08T18:22:11.231Z"
   },
   {
    "duration": 11,
    "start_time": "2022-12-08T18:22:11.258Z"
   },
   {
    "duration": 7,
    "start_time": "2022-12-08T18:22:43.242Z"
   },
   {
    "duration": 9,
    "start_time": "2022-12-08T18:22:43.772Z"
   },
   {
    "duration": 8,
    "start_time": "2022-12-08T18:31:34.941Z"
   },
   {
    "duration": 5,
    "start_time": "2022-12-08T18:46:22.189Z"
   },
   {
    "duration": 111,
    "start_time": "2022-12-08T18:46:23.211Z"
   },
   {
    "duration": 6,
    "start_time": "2022-12-08T18:46:47.691Z"
   },
   {
    "duration": 20022,
    "start_time": "2022-12-08T18:46:48.228Z"
   },
   {
    "duration": 4,
    "start_time": "2022-12-08T18:47:08.251Z"
   },
   {
    "duration": 1460,
    "start_time": "2022-12-08T18:47:45.003Z"
   },
   {
    "duration": 2,
    "start_time": "2022-12-08T18:47:46.465Z"
   },
   {
    "duration": 81,
    "start_time": "2022-12-08T18:47:46.469Z"
   },
   {
    "duration": 16,
    "start_time": "2022-12-08T18:47:46.551Z"
   },
   {
    "duration": 19,
    "start_time": "2022-12-08T18:47:46.569Z"
   },
   {
    "duration": 61,
    "start_time": "2022-12-08T18:47:46.590Z"
   },
   {
    "duration": 1447,
    "start_time": "2022-12-08T18:47:46.653Z"
   },
   {
    "duration": 4,
    "start_time": "2022-12-08T18:47:48.102Z"
   },
   {
    "duration": 14,
    "start_time": "2022-12-08T18:47:48.108Z"
   },
   {
    "duration": 18,
    "start_time": "2022-12-08T18:47:48.123Z"
   },
   {
    "duration": 5,
    "start_time": "2022-12-08T18:47:48.143Z"
   },
   {
    "duration": 13,
    "start_time": "2022-12-08T18:47:48.149Z"
   },
   {
    "duration": 6,
    "start_time": "2022-12-08T18:47:48.164Z"
   },
   {
    "duration": 6,
    "start_time": "2022-12-08T18:47:48.173Z"
   },
   {
    "duration": 43,
    "start_time": "2022-12-08T18:47:48.180Z"
   },
   {
    "duration": 15,
    "start_time": "2022-12-08T18:47:48.225Z"
   },
   {
    "duration": 7,
    "start_time": "2022-12-08T18:47:48.242Z"
   },
   {
    "duration": 10,
    "start_time": "2022-12-08T18:47:48.251Z"
   },
   {
    "duration": 13,
    "start_time": "2022-12-08T18:47:48.263Z"
   },
   {
    "duration": 58,
    "start_time": "2022-12-08T18:47:48.278Z"
   },
   {
    "duration": 5,
    "start_time": "2022-12-08T18:47:48.338Z"
   },
   {
    "duration": 11,
    "start_time": "2022-12-08T18:47:48.345Z"
   },
   {
    "duration": 9,
    "start_time": "2022-12-08T18:47:48.357Z"
   },
   {
    "duration": 10,
    "start_time": "2022-12-08T18:47:48.367Z"
   },
   {
    "duration": 6,
    "start_time": "2022-12-08T18:47:48.379Z"
   },
   {
    "duration": 168,
    "start_time": "2022-12-08T18:47:48.386Z"
   },
   {
    "duration": 5,
    "start_time": "2022-12-08T18:47:48.556Z"
   },
   {
    "duration": 1191,
    "start_time": "2022-12-08T18:47:48.563Z"
   },
   {
    "duration": 4,
    "start_time": "2022-12-08T18:47:49.757Z"
   },
   {
    "duration": 28,
    "start_time": "2022-12-08T18:47:49.762Z"
   },
   {
    "duration": 6,
    "start_time": "2022-12-08T18:47:49.792Z"
   },
   {
    "duration": 161,
    "start_time": "2022-12-08T18:47:49.800Z"
   },
   {
    "duration": 5,
    "start_time": "2022-12-08T18:47:49.963Z"
   },
   {
    "duration": 10,
    "start_time": "2022-12-08T18:47:49.969Z"
   },
   {
    "duration": 20,
    "start_time": "2022-12-08T18:47:49.980Z"
   },
   {
    "duration": 1274,
    "start_time": "2022-12-08T18:47:50.021Z"
   },
   {
    "duration": 6,
    "start_time": "2022-12-08T18:47:51.296Z"
   },
   {
    "duration": 17,
    "start_time": "2022-12-08T18:47:51.304Z"
   },
   {
    "duration": 22,
    "start_time": "2022-12-08T18:47:51.323Z"
   },
   {
    "duration": 6,
    "start_time": "2022-12-08T18:47:51.346Z"
   },
   {
    "duration": 6,
    "start_time": "2022-12-08T18:47:51.356Z"
   },
   {
    "duration": 6,
    "start_time": "2022-12-08T18:47:51.364Z"
   },
   {
    "duration": 10,
    "start_time": "2022-12-08T18:47:51.372Z"
   },
   {
    "duration": 52,
    "start_time": "2022-12-08T18:47:51.383Z"
   },
   {
    "duration": 14,
    "start_time": "2022-12-08T18:47:51.437Z"
   },
   {
    "duration": 15,
    "start_time": "2022-12-08T18:47:51.453Z"
   },
   {
    "duration": 19,
    "start_time": "2022-12-08T18:47:51.470Z"
   },
   {
    "duration": 32,
    "start_time": "2022-12-08T18:47:51.491Z"
   },
   {
    "duration": 632,
    "start_time": "2022-12-08T18:47:51.528Z"
   },
   {
    "duration": 4,
    "start_time": "2022-12-08T18:47:52.161Z"
   },
   {
    "duration": 14,
    "start_time": "2022-12-08T18:47:52.167Z"
   },
   {
    "duration": 13,
    "start_time": "2022-12-08T18:47:52.182Z"
   },
   {
    "duration": 6,
    "start_time": "2022-12-08T18:47:52.196Z"
   },
   {
    "duration": 87668,
    "start_time": "2022-12-08T18:47:52.203Z"
   },
   {
    "duration": 4,
    "start_time": "2022-12-08T18:49:19.873Z"
   },
   {
    "duration": 10,
    "start_time": "2022-12-08T18:49:19.879Z"
   },
   {
    "duration": 9,
    "start_time": "2022-12-08T18:49:19.890Z"
   },
   {
    "duration": 15531,
    "start_time": "2022-12-08T18:49:19.900Z"
   },
   {
    "duration": 89,
    "start_time": "2022-12-08T18:49:35.434Z"
   },
   {
    "duration": 107,
    "start_time": "2022-12-08T18:49:35.526Z"
   },
   {
    "duration": 22,
    "start_time": "2022-12-08T18:49:35.635Z"
   },
   {
    "duration": 7,
    "start_time": "2022-12-08T18:49:35.659Z"
   },
   {
    "duration": 23,
    "start_time": "2022-12-08T18:49:35.668Z"
   },
   {
    "duration": 11,
    "start_time": "2022-12-08T18:49:35.692Z"
   },
   {
    "duration": 5,
    "start_time": "2022-12-08T18:49:35.705Z"
   },
   {
    "duration": 14,
    "start_time": "2022-12-08T18:49:35.712Z"
   },
   {
    "duration": 26,
    "start_time": "2022-12-08T18:49:35.728Z"
   },
   {
    "duration": 8,
    "start_time": "2022-12-08T18:49:35.756Z"
   },
   {
    "duration": 745,
    "start_time": "2022-12-08T18:49:35.765Z"
   },
   {
    "duration": 10,
    "start_time": "2022-12-08T18:49:36.511Z"
   },
   {
    "duration": 6,
    "start_time": "2022-12-08T18:49:36.522Z"
   },
   {
    "duration": 10,
    "start_time": "2022-12-08T18:49:36.530Z"
   },
   {
    "duration": 120691,
    "start_time": "2022-12-08T18:49:36.542Z"
   },
   {
    "duration": 3,
    "start_time": "2022-12-08T18:51:37.235Z"
   },
   {
    "duration": 13,
    "start_time": "2022-12-08T18:51:37.239Z"
   },
   {
    "duration": 11,
    "start_time": "2022-12-08T18:51:37.253Z"
   },
   {
    "duration": 20856,
    "start_time": "2022-12-08T18:51:37.265Z"
   },
   {
    "duration": 5,
    "start_time": "2022-12-08T18:51:58.124Z"
   },
   {
    "duration": 91,
    "start_time": "2022-12-08T18:51:58.131Z"
   },
   {
    "duration": 12,
    "start_time": "2022-12-08T18:51:58.224Z"
   },
   {
    "duration": 11,
    "start_time": "2022-12-08T18:51:58.238Z"
   },
   {
    "duration": 13,
    "start_time": "2022-12-08T18:51:58.250Z"
   },
   {
    "duration": 8,
    "start_time": "2022-12-08T18:51:58.265Z"
   },
   {
    "duration": 10,
    "start_time": "2022-12-08T18:51:58.274Z"
   },
   {
    "duration": 39,
    "start_time": "2022-12-08T18:51:58.285Z"
   },
   {
    "duration": 5,
    "start_time": "2022-12-08T18:51:58.326Z"
   },
   {
    "duration": 411,
    "start_time": "2022-12-08T18:51:58.333Z"
   },
   {
    "duration": 4,
    "start_time": "2022-12-08T18:51:58.745Z"
   },
   {
    "duration": 9,
    "start_time": "2022-12-08T18:51:58.750Z"
   },
   {
    "duration": 11,
    "start_time": "2022-12-08T18:51:58.760Z"
   },
   {
    "duration": 53530,
    "start_time": "2022-12-08T18:51:58.773Z"
   },
   {
    "duration": 4,
    "start_time": "2022-12-08T18:52:52.305Z"
   },
   {
    "duration": 17,
    "start_time": "2022-12-08T18:52:52.310Z"
   },
   {
    "duration": 29,
    "start_time": "2022-12-08T18:52:52.330Z"
   },
   {
    "duration": 909,
    "start_time": "2022-12-08T18:52:52.361Z"
   },
   {
    "duration": 4,
    "start_time": "2022-12-08T18:52:53.272Z"
   },
   {
    "duration": 10,
    "start_time": "2022-12-08T18:52:53.278Z"
   },
   {
    "duration": 33,
    "start_time": "2022-12-08T18:52:53.289Z"
   },
   {
    "duration": 10,
    "start_time": "2022-12-08T18:52:53.325Z"
   },
   {
    "duration": 20011,
    "start_time": "2022-12-08T18:52:53.337Z"
   },
   {
    "duration": 3,
    "start_time": "2022-12-08T18:53:13.350Z"
   },
   {
    "duration": 15,
    "start_time": "2022-12-08T18:53:13.355Z"
   },
   {
    "duration": 6,
    "start_time": "2022-12-08T18:53:13.371Z"
   },
   {
    "duration": 7,
    "start_time": "2022-12-08T18:53:13.378Z"
   },
   {
    "duration": 6,
    "start_time": "2022-12-08T18:53:13.386Z"
   },
   {
    "duration": 5,
    "start_time": "2022-12-08T18:53:13.394Z"
   },
   {
    "duration": 9,
    "start_time": "2022-12-08T18:53:13.421Z"
   },
   {
    "duration": 7,
    "start_time": "2022-12-08T18:53:13.431Z"
   },
   {
    "duration": 6,
    "start_time": "2022-12-08T18:53:13.439Z"
   },
   {
    "duration": 1601,
    "start_time": "2022-12-10T11:28:30.781Z"
   },
   {
    "duration": 3,
    "start_time": "2022-12-10T11:28:34.496Z"
   },
   {
    "duration": 179,
    "start_time": "2022-12-10T11:28:38.691Z"
   },
   {
    "duration": 17,
    "start_time": "2022-12-10T11:28:38.984Z"
   },
   {
    "duration": 14,
    "start_time": "2022-12-10T11:28:39.739Z"
   },
   {
    "duration": 42,
    "start_time": "2022-12-10T11:28:42.885Z"
   },
   {
    "duration": 1437,
    "start_time": "2022-12-10T11:28:43.277Z"
   },
   {
    "duration": 5,
    "start_time": "2022-12-10T11:28:48.730Z"
   },
   {
    "duration": 4,
    "start_time": "2022-12-10T11:28:49.175Z"
   },
   {
    "duration": 5,
    "start_time": "2022-12-10T11:28:49.595Z"
   },
   {
    "duration": 5,
    "start_time": "2022-12-10T11:28:50.648Z"
   },
   {
    "duration": 15,
    "start_time": "2022-12-10T11:28:53.369Z"
   },
   {
    "duration": 2,
    "start_time": "2022-12-10T11:28:55.632Z"
   },
   {
    "duration": 4,
    "start_time": "2022-12-10T11:28:56.087Z"
   },
   {
    "duration": 4,
    "start_time": "2022-12-10T11:28:56.586Z"
   },
   {
    "duration": 5,
    "start_time": "2022-12-10T11:29:01.995Z"
   },
   {
    "duration": 5,
    "start_time": "2022-12-10T11:29:02.555Z"
   },
   {
    "duration": 11,
    "start_time": "2022-12-10T11:29:03.856Z"
   },
   {
    "duration": 1587,
    "start_time": "2022-12-10T11:40:08.558Z"
   },
   {
    "duration": 3,
    "start_time": "2022-12-10T11:40:10.146Z"
   },
   {
    "duration": 45,
    "start_time": "2022-12-10T11:40:10.150Z"
   },
   {
    "duration": 17,
    "start_time": "2022-12-10T11:40:10.197Z"
   },
   {
    "duration": 12,
    "start_time": "2022-12-10T11:40:10.215Z"
   },
   {
    "duration": 39,
    "start_time": "2022-12-10T11:40:10.229Z"
   },
   {
    "duration": 1415,
    "start_time": "2022-12-10T11:40:10.270Z"
   },
   {
    "duration": 5,
    "start_time": "2022-12-10T11:40:11.686Z"
   },
   {
    "duration": 10,
    "start_time": "2022-12-10T11:40:11.693Z"
   },
   {
    "duration": 5,
    "start_time": "2022-12-10T11:40:11.706Z"
   },
   {
    "duration": 24,
    "start_time": "2022-12-10T11:40:11.713Z"
   },
   {
    "duration": 12,
    "start_time": "2022-12-10T11:40:11.739Z"
   },
   {
    "duration": 10,
    "start_time": "2022-12-10T11:40:11.753Z"
   },
   {
    "duration": 7,
    "start_time": "2022-12-10T11:40:11.764Z"
   },
   {
    "duration": 7,
    "start_time": "2022-12-10T11:40:11.773Z"
   },
   {
    "duration": 9,
    "start_time": "2022-12-10T11:40:11.781Z"
   },
   {
    "duration": 6,
    "start_time": "2022-12-10T11:40:11.792Z"
   },
   {
    "duration": 17,
    "start_time": "2022-12-10T11:40:11.799Z"
   },
   {
    "duration": 19,
    "start_time": "2022-12-10T11:40:11.839Z"
   },
   {
    "duration": 13,
    "start_time": "2022-12-10T11:40:11.860Z"
   },
   {
    "duration": 6,
    "start_time": "2022-12-10T11:40:11.874Z"
   },
   {
    "duration": 3,
    "start_time": "2022-12-10T11:40:11.882Z"
   },
   {
    "duration": 7,
    "start_time": "2022-12-10T11:40:11.887Z"
   },
   {
    "duration": 6,
    "start_time": "2022-12-10T11:40:11.895Z"
   },
   {
    "duration": 36,
    "start_time": "2022-12-10T11:40:11.902Z"
   },
   {
    "duration": 158,
    "start_time": "2022-12-10T11:40:11.939Z"
   },
   {
    "duration": 5,
    "start_time": "2022-12-10T11:40:12.099Z"
   },
   {
    "duration": 1267,
    "start_time": "2022-12-10T11:40:12.108Z"
   },
   {
    "duration": 5,
    "start_time": "2022-12-10T11:40:13.377Z"
   },
   {
    "duration": 12,
    "start_time": "2022-12-10T11:40:13.383Z"
   },
   {
    "duration": 4,
    "start_time": "2022-12-10T11:40:13.399Z"
   },
   {
    "duration": 163,
    "start_time": "2022-12-10T11:40:13.405Z"
   },
   {
    "duration": 6,
    "start_time": "2022-12-10T11:40:13.570Z"
   },
   {
    "duration": 5,
    "start_time": "2022-12-10T11:40:13.578Z"
   },
   {
    "duration": 16,
    "start_time": "2022-12-10T11:40:13.584Z"
   },
   {
    "duration": 1346,
    "start_time": "2022-12-10T11:40:13.602Z"
   },
   {
    "duration": 9,
    "start_time": "2022-12-10T11:40:14.950Z"
   },
   {
    "duration": 32,
    "start_time": "2022-12-10T11:40:14.961Z"
   },
   {
    "duration": 58,
    "start_time": "2022-12-10T11:40:14.995Z"
   },
   {
    "duration": 36,
    "start_time": "2022-12-10T11:40:15.056Z"
   },
   {
    "duration": 25,
    "start_time": "2022-12-10T11:40:15.094Z"
   },
   {
    "duration": 44,
    "start_time": "2022-12-10T11:40:15.121Z"
   },
   {
    "duration": 22,
    "start_time": "2022-12-10T11:40:15.167Z"
   },
   {
    "duration": 50,
    "start_time": "2022-12-10T11:40:15.192Z"
   },
   {
    "duration": 45,
    "start_time": "2022-12-10T11:40:15.245Z"
   },
   {
    "duration": 47,
    "start_time": "2022-12-10T11:40:15.292Z"
   },
   {
    "duration": 48,
    "start_time": "2022-12-10T11:40:15.341Z"
   },
   {
    "duration": 37,
    "start_time": "2022-12-10T11:40:15.391Z"
   },
   {
    "duration": 624,
    "start_time": "2022-12-10T11:40:15.430Z"
   },
   {
    "duration": 4,
    "start_time": "2022-12-10T11:40:16.055Z"
   },
   {
    "duration": 11,
    "start_time": "2022-12-10T11:40:16.061Z"
   },
   {
    "duration": 20,
    "start_time": "2022-12-10T11:40:16.073Z"
   },
   {
    "duration": 11,
    "start_time": "2022-12-10T11:40:16.095Z"
   },
   {
    "duration": 89616,
    "start_time": "2022-12-10T11:40:16.107Z"
   },
   {
    "duration": 4,
    "start_time": "2022-12-10T11:41:45.725Z"
   },
   {
    "duration": 7,
    "start_time": "2022-12-10T11:41:45.738Z"
   },
   {
    "duration": 8,
    "start_time": "2022-12-10T11:41:45.747Z"
   },
   {
    "duration": 12585,
    "start_time": "2022-12-10T11:41:45.757Z"
   },
   {
    "duration": 95,
    "start_time": "2022-12-10T11:41:58.344Z"
   },
   {
    "duration": 10,
    "start_time": "2022-12-10T11:41:58.442Z"
   },
   {
    "duration": 85,
    "start_time": "2022-12-10T11:41:58.454Z"
   },
   {
    "duration": 5,
    "start_time": "2022-12-10T11:41:58.541Z"
   },
   {
    "duration": 12,
    "start_time": "2022-12-10T11:41:58.549Z"
   },
   {
    "duration": 10,
    "start_time": "2022-12-10T11:41:58.563Z"
   },
   {
    "duration": 7,
    "start_time": "2022-12-10T11:41:58.575Z"
   },
   {
    "duration": 746,
    "start_time": "2022-12-10T11:41:58.584Z"
   },
   {
    "duration": 6,
    "start_time": "2022-12-10T11:41:59.332Z"
   },
   {
    "duration": 8,
    "start_time": "2022-12-10T11:41:59.340Z"
   },
   {
    "duration": 16,
    "start_time": "2022-12-10T11:41:59.350Z"
   },
   {
    "duration": 125830,
    "start_time": "2022-12-10T11:41:59.368Z"
   },
   {
    "duration": 4,
    "start_time": "2022-12-10T11:44:05.200Z"
   },
   {
    "duration": 12,
    "start_time": "2022-12-10T11:44:05.206Z"
   },
   {
    "duration": 36,
    "start_time": "2022-12-10T11:44:05.220Z"
   },
   {
    "duration": 16890,
    "start_time": "2022-12-10T11:44:05.258Z"
   },
   {
    "duration": 6,
    "start_time": "2022-12-10T11:44:22.239Z"
   },
   {
    "duration": 96,
    "start_time": "2022-12-10T11:44:22.247Z"
   },
   {
    "duration": 12,
    "start_time": "2022-12-10T11:44:22.345Z"
   },
   {
    "duration": 4,
    "start_time": "2022-12-10T11:44:22.359Z"
   },
   {
    "duration": 14,
    "start_time": "2022-12-10T11:44:22.365Z"
   },
   {
    "duration": 56,
    "start_time": "2022-12-10T11:44:22.381Z"
   },
   {
    "duration": 7,
    "start_time": "2022-12-10T11:44:22.439Z"
   },
   {
    "duration": 85,
    "start_time": "2022-12-10T11:44:22.454Z"
   },
   {
    "duration": 0,
    "start_time": "2022-12-10T11:44:22.541Z"
   },
   {
    "duration": 0,
    "start_time": "2022-12-10T11:44:22.542Z"
   },
   {
    "duration": 0,
    "start_time": "2022-12-10T11:44:22.544Z"
   },
   {
    "duration": 0,
    "start_time": "2022-12-10T11:44:22.545Z"
   },
   {
    "duration": 0,
    "start_time": "2022-12-10T11:44:22.546Z"
   },
   {
    "duration": 0,
    "start_time": "2022-12-10T11:44:22.547Z"
   },
   {
    "duration": 0,
    "start_time": "2022-12-10T11:44:22.548Z"
   },
   {
    "duration": 0,
    "start_time": "2022-12-10T11:44:22.550Z"
   },
   {
    "duration": 1,
    "start_time": "2022-12-10T11:44:22.550Z"
   },
   {
    "duration": 0,
    "start_time": "2022-12-10T11:44:22.551Z"
   },
   {
    "duration": 0,
    "start_time": "2022-12-10T11:44:22.552Z"
   },
   {
    "duration": 0,
    "start_time": "2022-12-10T11:44:22.553Z"
   },
   {
    "duration": 0,
    "start_time": "2022-12-10T11:44:22.554Z"
   },
   {
    "duration": 0,
    "start_time": "2022-12-10T11:44:22.555Z"
   },
   {
    "duration": 0,
    "start_time": "2022-12-10T11:44:22.556Z"
   },
   {
    "duration": 0,
    "start_time": "2022-12-10T11:44:22.557Z"
   },
   {
    "duration": 0,
    "start_time": "2022-12-10T11:44:22.558Z"
   },
   {
    "duration": 0,
    "start_time": "2022-12-10T11:44:22.560Z"
   },
   {
    "duration": 0,
    "start_time": "2022-12-10T11:44:22.561Z"
   },
   {
    "duration": 0,
    "start_time": "2022-12-10T11:44:22.563Z"
   },
   {
    "duration": 0,
    "start_time": "2022-12-10T11:44:22.564Z"
   },
   {
    "duration": 0,
    "start_time": "2022-12-10T11:44:22.566Z"
   },
   {
    "duration": 411,
    "start_time": "2022-12-10T11:44:40.037Z"
   },
   {
    "duration": 4,
    "start_time": "2022-12-10T11:44:40.952Z"
   },
   {
    "duration": 7,
    "start_time": "2022-12-10T11:44:41.450Z"
   },
   {
    "duration": 8,
    "start_time": "2022-12-10T11:44:42.202Z"
   },
   {
    "duration": 64,
    "start_time": "2022-12-10T11:44:43.999Z"
   },
   {
    "duration": 61252,
    "start_time": "2022-12-10T11:44:48.525Z"
   },
   {
    "duration": 5,
    "start_time": "2022-12-10T11:45:49.780Z"
   },
   {
    "duration": 10,
    "start_time": "2022-12-10T11:45:49.786Z"
   },
   {
    "duration": 17,
    "start_time": "2022-12-10T11:45:49.798Z"
   },
   {
    "duration": 10725,
    "start_time": "2022-12-10T11:45:49.817Z"
   },
   {
    "duration": 93,
    "start_time": "2022-12-10T11:46:00.544Z"
   },
   {
    "duration": 103,
    "start_time": "2022-12-10T11:46:00.640Z"
   },
   {
    "duration": 14,
    "start_time": "2022-12-10T11:46:00.745Z"
   },
   {
    "duration": 15,
    "start_time": "2022-12-10T11:55:59.394Z"
   },
   {
    "duration": 146,
    "start_time": "2022-12-10T11:57:03.831Z"
   },
   {
    "duration": 5,
    "start_time": "2022-12-10T11:58:22.475Z"
   },
   {
    "duration": 10,
    "start_time": "2022-12-10T11:58:56.027Z"
   },
   {
    "duration": 15,
    "start_time": "2022-12-10T11:59:07.140Z"
   },
   {
    "duration": 7,
    "start_time": "2022-12-10T12:04:47.532Z"
   },
   {
    "duration": 20006,
    "start_time": "2022-12-10T12:04:48.343Z"
   },
   {
    "duration": 3,
    "start_time": "2022-12-10T12:05:08.351Z"
   },
   {
    "duration": 6,
    "start_time": "2022-12-10T12:05:48.111Z"
   },
   {
    "duration": 20001,
    "start_time": "2022-12-10T12:05:48.644Z"
   },
   {
    "duration": 4,
    "start_time": "2022-12-10T12:06:08.647Z"
   },
   {
    "duration": 8,
    "start_time": "2022-12-10T12:06:53.565Z"
   },
   {
    "duration": 10,
    "start_time": "2022-12-10T12:06:56.510Z"
   },
   {
    "duration": 6,
    "start_time": "2022-12-10T12:08:42.892Z"
   },
   {
    "duration": 19960,
    "start_time": "2022-12-10T12:08:43.388Z"
   },
   {
    "duration": 5,
    "start_time": "2022-12-10T12:09:03.350Z"
   },
   {
    "duration": 6,
    "start_time": "2022-12-10T12:09:27.258Z"
   },
   {
    "duration": 29480,
    "start_time": "2022-12-10T12:09:27.541Z"
   },
   {
    "duration": 20,
    "start_time": "2022-12-10T12:09:57.023Z"
   },
   {
    "duration": 7,
    "start_time": "2022-12-10T12:14:11.625Z"
   },
   {
    "duration": 101662,
    "start_time": "2022-12-10T12:14:12.240Z"
   },
   {
    "duration": 4,
    "start_time": "2022-12-10T12:15:53.904Z"
   },
   {
    "duration": 8,
    "start_time": "2022-12-10T12:15:53.910Z"
   },
   {
    "duration": 6,
    "start_time": "2022-12-10T12:21:19.583Z"
   },
   {
    "duration": 4446,
    "start_time": "2022-12-10T12:21:20.440Z"
   },
   {
    "duration": 4,
    "start_time": "2022-12-10T12:21:24.888Z"
   },
   {
    "duration": 7,
    "start_time": "2022-12-10T12:21:29.757Z"
   },
   {
    "duration": 11,
    "start_time": "2022-12-10T12:23:15.602Z"
   },
   {
    "duration": 10,
    "start_time": "2022-12-10T12:23:24.172Z"
   },
   {
    "duration": 10,
    "start_time": "2022-12-10T12:23:34.240Z"
   },
   {
    "duration": 8,
    "start_time": "2022-12-10T12:24:43.290Z"
   },
   {
    "duration": 102930,
    "start_time": "2022-12-10T12:24:43.996Z"
   },
   {
    "duration": 4,
    "start_time": "2022-12-10T12:26:26.928Z"
   },
   {
    "duration": 8,
    "start_time": "2022-12-10T12:26:26.938Z"
   },
   {
    "duration": 1372,
    "start_time": "2022-12-10T12:36:31.494Z"
   },
   {
    "duration": 2,
    "start_time": "2022-12-10T12:36:32.868Z"
   },
   {
    "duration": 46,
    "start_time": "2022-12-10T12:36:32.872Z"
   },
   {
    "duration": 16,
    "start_time": "2022-12-10T12:36:32.920Z"
   },
   {
    "duration": 12,
    "start_time": "2022-12-10T12:36:32.938Z"
   },
   {
    "duration": 43,
    "start_time": "2022-12-10T12:36:32.952Z"
   },
   {
    "duration": 1543,
    "start_time": "2022-12-10T12:36:32.996Z"
   },
   {
    "duration": 5,
    "start_time": "2022-12-10T12:36:34.541Z"
   },
   {
    "duration": 8,
    "start_time": "2022-12-10T12:36:34.547Z"
   },
   {
    "duration": 5,
    "start_time": "2022-12-10T12:36:34.558Z"
   },
   {
    "duration": 6,
    "start_time": "2022-12-10T12:36:34.565Z"
   },
   {
    "duration": 15,
    "start_time": "2022-12-10T12:36:34.572Z"
   },
   {
    "duration": 5,
    "start_time": "2022-12-10T12:36:34.588Z"
   },
   {
    "duration": 7,
    "start_time": "2022-12-10T12:36:34.595Z"
   },
   {
    "duration": 34,
    "start_time": "2022-12-10T12:36:34.604Z"
   },
   {
    "duration": 5,
    "start_time": "2022-12-10T12:36:34.640Z"
   },
   {
    "duration": 8,
    "start_time": "2022-12-10T12:36:34.647Z"
   },
   {
    "duration": 11,
    "start_time": "2022-12-10T12:36:34.657Z"
   },
   {
    "duration": 13,
    "start_time": "2022-12-10T12:36:34.670Z"
   },
   {
    "duration": 12,
    "start_time": "2022-12-10T12:36:34.685Z"
   },
   {
    "duration": 5,
    "start_time": "2022-12-10T12:36:34.699Z"
   },
   {
    "duration": 3,
    "start_time": "2022-12-10T12:36:34.738Z"
   },
   {
    "duration": 7,
    "start_time": "2022-12-10T12:36:34.742Z"
   },
   {
    "duration": 10,
    "start_time": "2022-12-10T12:36:34.750Z"
   },
   {
    "duration": 5,
    "start_time": "2022-12-10T12:36:34.762Z"
   },
   {
    "duration": 153,
    "start_time": "2022-12-10T12:36:34.769Z"
   },
   {
    "duration": 14,
    "start_time": "2022-12-10T12:36:34.923Z"
   },
   {
    "duration": 1146,
    "start_time": "2022-12-10T12:36:34.941Z"
   },
   {
    "duration": 4,
    "start_time": "2022-12-10T12:36:36.088Z"
   },
   {
    "duration": 13,
    "start_time": "2022-12-10T12:36:36.094Z"
   },
   {
    "duration": 3,
    "start_time": "2022-12-10T12:36:36.109Z"
   },
   {
    "duration": 153,
    "start_time": "2022-12-10T12:36:36.114Z"
   },
   {
    "duration": 7,
    "start_time": "2022-12-10T12:36:36.269Z"
   },
   {
    "duration": 8,
    "start_time": "2022-12-10T12:36:36.277Z"
   },
   {
    "duration": 16,
    "start_time": "2022-12-10T12:36:36.286Z"
   },
   {
    "duration": 1353,
    "start_time": "2022-12-10T12:36:36.304Z"
   },
   {
    "duration": 7,
    "start_time": "2022-12-10T12:36:37.658Z"
   },
   {
    "duration": 8,
    "start_time": "2022-12-10T12:36:37.666Z"
   },
   {
    "duration": 9,
    "start_time": "2022-12-10T12:36:37.676Z"
   },
   {
    "duration": 10,
    "start_time": "2022-12-10T12:36:37.687Z"
   },
   {
    "duration": 4,
    "start_time": "2022-12-10T12:36:37.699Z"
   },
   {
    "duration": 16,
    "start_time": "2022-12-10T12:36:37.705Z"
   },
   {
    "duration": 4,
    "start_time": "2022-12-10T12:36:37.737Z"
   },
   {
    "duration": 18,
    "start_time": "2022-12-10T12:36:37.743Z"
   },
   {
    "duration": 12,
    "start_time": "2022-12-10T12:36:37.764Z"
   },
   {
    "duration": 13,
    "start_time": "2022-12-10T12:36:37.778Z"
   },
   {
    "duration": 15,
    "start_time": "2022-12-10T12:36:37.793Z"
   },
   {
    "duration": 7,
    "start_time": "2022-12-10T12:36:37.838Z"
   },
   {
    "duration": 576,
    "start_time": "2022-12-10T12:36:37.846Z"
   },
   {
    "duration": 4,
    "start_time": "2022-12-10T12:36:38.424Z"
   },
   {
    "duration": 12,
    "start_time": "2022-12-10T12:36:38.429Z"
   },
   {
    "duration": 13,
    "start_time": "2022-12-10T12:36:38.442Z"
   },
   {
    "duration": 8,
    "start_time": "2022-12-10T12:36:38.456Z"
   },
   {
    "duration": 90949,
    "start_time": "2022-12-10T12:36:38.466Z"
   },
   {
    "duration": 4,
    "start_time": "2022-12-10T12:38:09.417Z"
   },
   {
    "duration": 16,
    "start_time": "2022-12-10T12:38:09.423Z"
   },
   {
    "duration": 7,
    "start_time": "2022-12-10T12:38:09.440Z"
   },
   {
    "duration": 12797,
    "start_time": "2022-12-10T12:38:09.449Z"
   },
   {
    "duration": 90,
    "start_time": "2022-12-10T12:38:22.248Z"
   },
   {
    "duration": 102,
    "start_time": "2022-12-10T12:38:22.344Z"
   },
   {
    "duration": 16,
    "start_time": "2022-12-10T12:38:22.448Z"
   },
   {
    "duration": 12,
    "start_time": "2022-12-10T12:38:22.466Z"
   },
   {
    "duration": 22,
    "start_time": "2022-12-10T12:38:22.479Z"
   },
   {
    "duration": 14,
    "start_time": "2022-12-10T12:38:22.502Z"
   },
   {
    "duration": 12,
    "start_time": "2022-12-10T12:38:22.518Z"
   },
   {
    "duration": 705,
    "start_time": "2022-12-10T12:38:22.532Z"
   },
   {
    "duration": 4,
    "start_time": "2022-12-10T12:38:23.239Z"
   },
   {
    "duration": 9,
    "start_time": "2022-12-10T12:38:23.244Z"
   },
   {
    "duration": 13,
    "start_time": "2022-12-10T12:38:23.255Z"
   },
   {
    "duration": 131215,
    "start_time": "2022-12-10T12:38:23.269Z"
   },
   {
    "duration": 4,
    "start_time": "2022-12-10T12:40:34.487Z"
   },
   {
    "duration": 12,
    "start_time": "2022-12-10T12:40:34.493Z"
   },
   {
    "duration": 19,
    "start_time": "2022-12-10T12:40:34.507Z"
   },
   {
    "duration": 14313,
    "start_time": "2022-12-10T12:40:34.528Z"
   },
   {
    "duration": 8,
    "start_time": "2022-12-10T12:40:48.845Z"
   },
   {
    "duration": 117,
    "start_time": "2022-12-10T12:40:48.856Z"
   },
   {
    "duration": 15,
    "start_time": "2022-12-10T12:40:48.975Z"
   },
   {
    "duration": 14,
    "start_time": "2022-12-10T12:40:48.992Z"
   },
   {
    "duration": 18,
    "start_time": "2022-12-10T12:40:49.009Z"
   },
   {
    "duration": 23,
    "start_time": "2022-12-10T12:40:49.030Z"
   },
   {
    "duration": 24,
    "start_time": "2022-12-10T12:40:49.063Z"
   },
   {
    "duration": 475,
    "start_time": "2022-12-10T12:40:49.094Z"
   },
   {
    "duration": 3,
    "start_time": "2022-12-10T12:40:49.571Z"
   },
   {
    "duration": 8,
    "start_time": "2022-12-10T12:40:49.576Z"
   },
   {
    "duration": 13,
    "start_time": "2022-12-10T12:40:49.585Z"
   },
   {
    "duration": 69080,
    "start_time": "2022-12-10T12:40:49.599Z"
   },
   {
    "duration": 4,
    "start_time": "2022-12-10T12:41:58.681Z"
   },
   {
    "duration": 18,
    "start_time": "2022-12-10T12:41:58.686Z"
   },
   {
    "duration": 14,
    "start_time": "2022-12-10T12:41:58.706Z"
   },
   {
    "duration": 9333,
    "start_time": "2022-12-10T12:41:58.721Z"
   },
   {
    "duration": 101,
    "start_time": "2022-12-10T12:42:08.138Z"
   },
   {
    "duration": 7,
    "start_time": "2022-12-10T12:42:08.242Z"
   },
   {
    "duration": 13,
    "start_time": "2022-12-10T12:42:08.252Z"
   },
   {
    "duration": 7,
    "start_time": "2022-12-10T12:42:08.267Z"
   },
   {
    "duration": 3033,
    "start_time": "2022-12-10T12:42:08.276Z"
   },
   {
    "duration": 5,
    "start_time": "2022-12-10T12:42:11.310Z"
   },
   {
    "duration": 21,
    "start_time": "2022-12-10T12:42:11.317Z"
   },
   {
    "duration": 8,
    "start_time": "2022-12-10T12:42:11.340Z"
   },
   {
    "duration": 110998,
    "start_time": "2022-12-10T12:42:11.353Z"
   },
   {
    "duration": 5,
    "start_time": "2022-12-10T12:44:02.353Z"
   },
   {
    "duration": 19,
    "start_time": "2022-12-10T12:44:02.359Z"
   },
   {
    "duration": 10,
    "start_time": "2022-12-10T12:44:02.380Z"
   },
   {
    "duration": 22592,
    "start_time": "2022-12-10T12:44:02.392Z"
   },
   {
    "duration": 4,
    "start_time": "2022-12-10T12:44:24.986Z"
   },
   {
    "duration": 9,
    "start_time": "2022-12-10T12:44:24.991Z"
   },
   {
    "duration": 21,
    "start_time": "2022-12-10T12:44:25.002Z"
   },
   {
    "duration": 21,
    "start_time": "2022-12-10T12:44:25.025Z"
   },
   {
    "duration": 12,
    "start_time": "2022-12-10T12:44:25.048Z"
   },
   {
    "duration": 7,
    "start_time": "2022-12-10T12:44:25.062Z"
   },
   {
    "duration": 12,
    "start_time": "2022-12-10T12:44:25.070Z"
   },
   {
    "duration": 7,
    "start_time": "2022-12-10T12:44:25.084Z"
   },
   {
    "duration": 10,
    "start_time": "2022-12-10T12:44:25.092Z"
   },
   {
    "duration": 10,
    "start_time": "2022-12-10T12:44:25.104Z"
   },
   {
    "duration": 6,
    "start_time": "2022-12-10T12:44:25.116Z"
   },
   {
    "duration": 7,
    "start_time": "2022-12-10T12:44:25.124Z"
   },
   {
    "duration": 13,
    "start_time": "2022-12-10T12:44:51.232Z"
   },
   {
    "duration": 9,
    "start_time": "2022-12-10T12:44:56.496Z"
   },
   {
    "duration": 9,
    "start_time": "2022-12-10T12:46:13.788Z"
   },
   {
    "duration": 10,
    "start_time": "2022-12-10T12:47:08.002Z"
   },
   {
    "duration": 10,
    "start_time": "2022-12-10T12:48:42.955Z"
   },
   {
    "duration": 10,
    "start_time": "2022-12-10T12:48:43.503Z"
   },
   {
    "duration": 11,
    "start_time": "2022-12-10T12:49:35.944Z"
   },
   {
    "duration": 11,
    "start_time": "2022-12-10T12:49:45.922Z"
   },
   {
    "duration": 5,
    "start_time": "2022-12-10T13:02:22.733Z"
   },
   {
    "duration": 4,
    "start_time": "2022-12-10T13:02:23.558Z"
   },
   {
    "duration": 5,
    "start_time": "2022-12-10T13:02:24.242Z"
   },
   {
    "duration": 4,
    "start_time": "2022-12-10T13:02:25.539Z"
   },
   {
    "duration": 5,
    "start_time": "2022-12-10T13:07:38.560Z"
   },
   {
    "duration": 3,
    "start_time": "2022-12-10T13:07:39.194Z"
   },
   {
    "duration": 4,
    "start_time": "2022-12-10T13:07:39.800Z"
   },
   {
    "duration": 4,
    "start_time": "2022-12-10T13:07:40.948Z"
   },
   {
    "duration": 341,
    "start_time": "2022-12-10T13:07:41.793Z"
   },
   {
    "duration": 48,
    "start_time": "2022-12-10T13:07:53.158Z"
   },
   {
    "duration": 7,
    "start_time": "2022-12-10T13:07:54.224Z"
   },
   {
    "duration": 5,
    "start_time": "2022-12-10T13:07:55.238Z"
   },
   {
    "duration": 4,
    "start_time": "2022-12-10T13:07:55.892Z"
   },
   {
    "duration": 4,
    "start_time": "2022-12-10T13:07:57.008Z"
   },
   {
    "duration": 6,
    "start_time": "2022-12-10T13:08:07.275Z"
   },
   {
    "duration": 126,
    "start_time": "2022-12-10T13:08:07.745Z"
   },
   {
    "duration": 348,
    "start_time": "2022-12-10T13:09:38.141Z"
   },
   {
    "duration": 21,
    "start_time": "2022-12-10T13:09:39.565Z"
   },
   {
    "duration": 5,
    "start_time": "2022-12-10T13:09:40.241Z"
   },
   {
    "duration": 5,
    "start_time": "2022-12-10T13:09:40.705Z"
   },
   {
    "duration": 4,
    "start_time": "2022-12-10T13:09:41.175Z"
   },
   {
    "duration": 4,
    "start_time": "2022-12-10T13:09:42.171Z"
   },
   {
    "duration": 5,
    "start_time": "2022-12-10T13:09:43.510Z"
   },
   {
    "duration": 119,
    "start_time": "2022-12-10T13:09:44.105Z"
   },
   {
    "duration": 83,
    "start_time": "2022-12-10T13:28:50.141Z"
   },
   {
    "duration": 1454,
    "start_time": "2022-12-10T13:29:25.050Z"
   },
   {
    "duration": 2,
    "start_time": "2022-12-10T13:29:26.508Z"
   },
   {
    "duration": 47,
    "start_time": "2022-12-10T13:29:26.512Z"
   },
   {
    "duration": 20,
    "start_time": "2022-12-10T13:29:26.561Z"
   },
   {
    "duration": 20,
    "start_time": "2022-12-10T13:29:26.583Z"
   },
   {
    "duration": 50,
    "start_time": "2022-12-10T13:29:26.605Z"
   },
   {
    "duration": 1533,
    "start_time": "2022-12-10T13:29:26.656Z"
   },
   {
    "duration": 4,
    "start_time": "2022-12-10T13:29:28.191Z"
   },
   {
    "duration": 5,
    "start_time": "2022-12-10T13:29:28.197Z"
   },
   {
    "duration": 5,
    "start_time": "2022-12-10T13:29:28.205Z"
   },
   {
    "duration": 6,
    "start_time": "2022-12-10T13:29:28.237Z"
   },
   {
    "duration": 17,
    "start_time": "2022-12-10T13:29:28.245Z"
   },
   {
    "duration": 6,
    "start_time": "2022-12-10T13:29:28.263Z"
   },
   {
    "duration": 13,
    "start_time": "2022-12-10T13:29:28.271Z"
   },
   {
    "duration": 8,
    "start_time": "2022-12-10T13:29:28.286Z"
   },
   {
    "duration": 10,
    "start_time": "2022-12-10T13:29:28.296Z"
   },
   {
    "duration": 23,
    "start_time": "2022-12-10T13:29:28.310Z"
   },
   {
    "duration": 16,
    "start_time": "2022-12-10T13:29:28.337Z"
   },
   {
    "duration": 13,
    "start_time": "2022-12-10T13:29:28.355Z"
   },
   {
    "duration": 16,
    "start_time": "2022-12-10T13:29:28.370Z"
   },
   {
    "duration": 6,
    "start_time": "2022-12-10T13:29:28.388Z"
   },
   {
    "duration": 8,
    "start_time": "2022-12-10T13:29:28.396Z"
   },
   {
    "duration": 9,
    "start_time": "2022-12-10T13:29:28.406Z"
   },
   {
    "duration": 7,
    "start_time": "2022-12-10T13:29:28.441Z"
   },
   {
    "duration": 7,
    "start_time": "2022-12-10T13:29:28.450Z"
   },
   {
    "duration": 160,
    "start_time": "2022-12-10T13:29:28.458Z"
   },
   {
    "duration": 5,
    "start_time": "2022-12-10T13:29:28.620Z"
   },
   {
    "duration": 1241,
    "start_time": "2022-12-10T13:29:28.642Z"
   },
   {
    "duration": 5,
    "start_time": "2022-12-10T13:29:29.884Z"
   },
   {
    "duration": 11,
    "start_time": "2022-12-10T13:29:29.891Z"
   },
   {
    "duration": 7,
    "start_time": "2022-12-10T13:29:29.903Z"
   },
   {
    "duration": 160,
    "start_time": "2022-12-10T13:29:29.911Z"
   },
   {
    "duration": 6,
    "start_time": "2022-12-10T13:29:30.072Z"
   },
   {
    "duration": 8,
    "start_time": "2022-12-10T13:29:30.080Z"
   },
   {
    "duration": 33,
    "start_time": "2022-12-10T13:29:30.089Z"
   },
   {
    "duration": 1339,
    "start_time": "2022-12-10T13:29:30.124Z"
   },
   {
    "duration": 7,
    "start_time": "2022-12-10T13:29:31.464Z"
   },
   {
    "duration": 14,
    "start_time": "2022-12-10T13:29:31.473Z"
   },
   {
    "duration": 18,
    "start_time": "2022-12-10T13:29:31.489Z"
   },
   {
    "duration": 6,
    "start_time": "2022-12-10T13:29:31.509Z"
   },
   {
    "duration": 19,
    "start_time": "2022-12-10T13:29:31.516Z"
   },
   {
    "duration": 8,
    "start_time": "2022-12-10T13:29:31.537Z"
   },
   {
    "duration": 23,
    "start_time": "2022-12-10T13:29:31.547Z"
   },
   {
    "duration": 25,
    "start_time": "2022-12-10T13:29:31.572Z"
   },
   {
    "duration": 18,
    "start_time": "2022-12-10T13:29:31.598Z"
   },
   {
    "duration": 24,
    "start_time": "2022-12-10T13:29:31.618Z"
   },
   {
    "duration": 22,
    "start_time": "2022-12-10T13:29:31.643Z"
   },
   {
    "duration": 15,
    "start_time": "2022-12-10T13:29:31.666Z"
   },
   {
    "duration": 569,
    "start_time": "2022-12-10T13:29:31.682Z"
   },
   {
    "duration": 6,
    "start_time": "2022-12-10T13:29:32.253Z"
   },
   {
    "duration": 8,
    "start_time": "2022-12-10T13:29:32.261Z"
   },
   {
    "duration": 18,
    "start_time": "2022-12-10T13:29:32.271Z"
   },
   {
    "duration": 7,
    "start_time": "2022-12-10T13:29:32.291Z"
   },
   {
    "duration": 90269,
    "start_time": "2022-12-10T13:29:32.300Z"
   },
   {
    "duration": 3,
    "start_time": "2022-12-10T13:31:02.571Z"
   },
   {
    "duration": 10,
    "start_time": "2022-12-10T13:31:02.576Z"
   },
   {
    "duration": 7,
    "start_time": "2022-12-10T13:31:02.588Z"
   },
   {
    "duration": 12847,
    "start_time": "2022-12-10T13:31:02.597Z"
   },
   {
    "duration": 95,
    "start_time": "2022-12-10T13:31:15.446Z"
   },
   {
    "duration": 102,
    "start_time": "2022-12-10T13:31:15.544Z"
   },
   {
    "duration": 13,
    "start_time": "2022-12-10T13:31:15.647Z"
   },
   {
    "duration": 7,
    "start_time": "2022-12-10T13:31:15.661Z"
   },
   {
    "duration": 12,
    "start_time": "2022-12-10T13:31:15.670Z"
   },
   {
    "duration": 10,
    "start_time": "2022-12-10T13:31:15.683Z"
   },
   {
    "duration": 8,
    "start_time": "2022-12-10T13:31:15.703Z"
   },
   {
    "duration": 978,
    "start_time": "2022-12-10T13:31:15.713Z"
   },
   {
    "duration": 5,
    "start_time": "2022-12-10T13:31:16.692Z"
   },
   {
    "duration": 11,
    "start_time": "2022-12-10T13:31:16.698Z"
   },
   {
    "duration": 15,
    "start_time": "2022-12-10T13:31:16.711Z"
   },
   {
    "duration": 122545,
    "start_time": "2022-12-10T13:31:16.738Z"
   },
   {
    "duration": 4,
    "start_time": "2022-12-10T13:33:19.285Z"
   },
   {
    "duration": 8,
    "start_time": "2022-12-10T13:33:19.291Z"
   },
   {
    "duration": 13,
    "start_time": "2022-12-10T13:33:19.300Z"
   },
   {
    "duration": 15722,
    "start_time": "2022-12-10T13:33:19.316Z"
   },
   {
    "duration": 5,
    "start_time": "2022-12-10T13:33:35.042Z"
   },
   {
    "duration": 99,
    "start_time": "2022-12-10T13:33:35.050Z"
   },
   {
    "duration": 14,
    "start_time": "2022-12-10T13:33:35.151Z"
   },
   {
    "duration": 5,
    "start_time": "2022-12-10T13:33:35.167Z"
   },
   {
    "duration": 11,
    "start_time": "2022-12-10T13:33:35.174Z"
   },
   {
    "duration": 9,
    "start_time": "2022-12-10T13:33:35.187Z"
   },
   {
    "duration": 8,
    "start_time": "2022-12-10T13:33:35.197Z"
   },
   {
    "duration": 397,
    "start_time": "2022-12-10T13:33:35.212Z"
   },
   {
    "duration": 4,
    "start_time": "2022-12-10T13:33:35.611Z"
   },
   {
    "duration": 8,
    "start_time": "2022-12-10T13:33:35.617Z"
   },
   {
    "duration": 60122,
    "start_time": "2022-12-10T13:33:35.626Z"
   },
   {
    "duration": 4,
    "start_time": "2022-12-10T13:34:35.750Z"
   },
   {
    "duration": 11,
    "start_time": "2022-12-10T13:34:35.755Z"
   },
   {
    "duration": 10274,
    "start_time": "2022-12-10T13:34:35.768Z"
   },
   {
    "duration": 96,
    "start_time": "2022-12-10T13:34:46.044Z"
   },
   {
    "duration": 96,
    "start_time": "2022-12-10T13:34:46.142Z"
   },
   {
    "duration": 11,
    "start_time": "2022-12-10T13:34:46.240Z"
   },
   {
    "duration": 7,
    "start_time": "2022-12-10T13:34:46.253Z"
   },
   {
    "duration": 3049,
    "start_time": "2022-12-10T13:34:46.261Z"
   },
   {
    "duration": 4,
    "start_time": "2022-12-10T13:34:49.312Z"
   },
   {
    "duration": 13,
    "start_time": "2022-12-10T13:34:49.317Z"
   },
   {
    "duration": 13,
    "start_time": "2022-12-10T13:34:49.331Z"
   },
   {
    "duration": 104675,
    "start_time": "2022-12-10T13:34:49.346Z"
   },
   {
    "duration": 4,
    "start_time": "2022-12-10T13:36:34.023Z"
   },
   {
    "duration": 15,
    "start_time": "2022-12-10T13:36:34.028Z"
   },
   {
    "duration": 7,
    "start_time": "2022-12-10T13:36:34.045Z"
   },
   {
    "duration": 20234,
    "start_time": "2022-12-10T13:36:34.054Z"
   },
   {
    "duration": 3,
    "start_time": "2022-12-10T13:36:54.290Z"
   },
   {
    "duration": 11,
    "start_time": "2022-12-10T13:36:54.295Z"
   },
   {
    "duration": 29,
    "start_time": "2022-12-10T13:36:54.307Z"
   },
   {
    "duration": 12,
    "start_time": "2022-12-10T13:36:54.338Z"
   },
   {
    "duration": 12,
    "start_time": "2022-12-10T13:36:54.352Z"
   },
   {
    "duration": 11,
    "start_time": "2022-12-10T13:36:54.365Z"
   },
   {
    "duration": 11,
    "start_time": "2022-12-10T13:36:54.378Z"
   },
   {
    "duration": 6,
    "start_time": "2022-12-10T13:36:54.391Z"
   },
   {
    "duration": 5,
    "start_time": "2022-12-10T13:36:54.398Z"
   },
   {
    "duration": 35,
    "start_time": "2022-12-10T13:36:54.405Z"
   },
   {
    "duration": 7,
    "start_time": "2022-12-10T13:36:54.442Z"
   },
   {
    "duration": 340,
    "start_time": "2022-12-10T13:36:54.451Z"
   },
   {
    "duration": 22,
    "start_time": "2022-12-10T13:36:54.793Z"
   },
   {
    "duration": 22,
    "start_time": "2022-12-10T13:36:54.817Z"
   },
   {
    "duration": 5,
    "start_time": "2022-12-10T13:36:54.840Z"
   },
   {
    "duration": 5,
    "start_time": "2022-12-10T13:36:54.847Z"
   },
   {
    "duration": 6,
    "start_time": "2022-12-10T13:36:54.853Z"
   },
   {
    "duration": 6,
    "start_time": "2022-12-10T13:36:54.861Z"
   },
   {
    "duration": 138,
    "start_time": "2022-12-10T13:36:54.869Z"
   }
  ],
  "kernelspec": {
   "display_name": "Python 3 (ipykernel)",
   "language": "python",
   "name": "python3"
  },
  "language_info": {
   "codemirror_mode": {
    "name": "ipython",
    "version": 3
   },
   "file_extension": ".py",
   "mimetype": "text/x-python",
   "name": "python",
   "nbconvert_exporter": "python",
   "pygments_lexer": "ipython3",
   "version": "3.9.12"
  },
  "toc": {
   "base_numbering": 1,
   "nav_menu": {},
   "number_sections": true,
   "sideBar": true,
   "skip_h1_title": true,
   "title_cell": "Содержание",
   "title_sidebar": "Contents",
   "toc_cell": true,
   "toc_position": {
    "height": "calc(100% - 180px)",
    "left": "10px",
    "top": "150px",
    "width": "318.195px"
   },
   "toc_section_display": true,
   "toc_window_display": true
  }
 },
 "nbformat": 4,
 "nbformat_minor": 2
}
